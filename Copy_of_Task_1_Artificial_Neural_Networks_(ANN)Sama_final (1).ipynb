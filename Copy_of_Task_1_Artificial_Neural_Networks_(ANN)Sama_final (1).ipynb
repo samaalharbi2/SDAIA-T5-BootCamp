{
  "cells": [
    {
      "cell_type": "markdown",
      "id": "cda1ba95",
      "metadata": {
        "id": "cda1ba95"
      },
      "source": [
        "# Exam on Artificial Neural Networks (ANN)\n",
        "\n",
        "Welcome the Artificial Neural Networks (ANN) practical exam. In this exam, you will work on a classification task to predict the outcome of incidents involving buses. You are provided with a dataset that records breakdowns and delays in bus operations. Your task is to build, train, and evaluate an ANN model.\n",
        "\n",
        "---\n",
        "\n",
        "## Dataset Overview\n",
        "\n",
        "### **Dataset:**\n",
        "* Just run the command under the `Load Data` section to get the data downloaded and unzipped or you can access it [here](https://drive.google.com/file/d/1Flvj3qDkV2rPw7GGi5zOR-WGJgEBtRk-/view?usp=sharing)\n",
        "\n",
        "### **Dataset Name:** Bus Breakdown and Delays\n",
        "\n",
        "### **Description:**  \n",
        "The dataset contains records of incidents involving buses that were either running late or experienced a breakdown. Your task is to predict whether the bus was delayed or had a breakdown based on the features provided.\n",
        "\n",
        "### **Features:**\n",
        "The dataset contains the following columns:\n",
        "\n",
        "- `School_Year`\n",
        "- `Busbreakdown_ID`\n",
        "- `Run_Type`\n",
        "- `Bus_No`\n",
        "- `Route_Number`\n",
        "- `Reason`\n",
        "- `Schools_Serviced`\n",
        "- `Occurred_On`\n",
        "- `Created_On`\n",
        "- `Boro`\n",
        "- `Bus_Company_Name`\n",
        "- `How_Long_Delayed`\n",
        "- `Number_Of_Students_On_The_Bus`\n",
        "- `Has_Contractor_Notified_Schools`\n",
        "- `Has_Contractor_Notified_Parents`\n",
        "- `Have_You_Alerted_OPT`\n",
        "- `Informed_On`\n",
        "- `Incident_Number`\n",
        "- `Last_Updated_On`\n",
        "- `Breakdown_or_Running_Late` (Target Column)\n",
        "- `School_Age_or_PreK`"
      ]
    },
    {
      "cell_type": "markdown",
      "id": "4c2b014b",
      "metadata": {
        "id": "4c2b014b"
      },
      "source": [
        "## Load Data"
      ]
    },
    {
      "cell_type": "code",
      "source": [
        "from google.colab import drive\n",
        "drive.mount('/content/drive')"
      ],
      "metadata": {
        "colab": {
          "base_uri": "https://localhost:8080/"
        },
        "id": "5coFyL9_Y_rA",
        "outputId": "ca0356d8-79e7-496d-c259-8765b2f37ccc"
      },
      "id": "5coFyL9_Y_rA",
      "execution_count": 11,
      "outputs": [
        {
          "output_type": "stream",
          "name": "stdout",
          "text": [
            "Mounted at /content/drive\n"
          ]
        }
      ]
    },
    {
      "cell_type": "code",
      "execution_count": 6,
      "id": "98ad02f5",
      "metadata": {
        "colab": {
          "base_uri": "https://localhost:8080/"
        },
        "id": "98ad02f5",
        "outputId": "85cc9bbf-5af3-4cb5-dba5-bb2ed5c748fe"
      },
      "outputs": [
        {
          "output_type": "stream",
          "name": "stdout",
          "text": [
            "Requirement already satisfied: gdown in /usr/local/lib/python3.10/dist-packages (5.1.0)\n",
            "Requirement already satisfied: beautifulsoup4 in /usr/local/lib/python3.10/dist-packages (from gdown) (4.12.3)\n",
            "Requirement already satisfied: filelock in /usr/local/lib/python3.10/dist-packages (from gdown) (3.15.4)\n",
            "Requirement already satisfied: requests[socks] in /usr/local/lib/python3.10/dist-packages (from gdown) (2.31.0)\n",
            "Requirement already satisfied: tqdm in /usr/local/lib/python3.10/dist-packages (from gdown) (4.66.4)\n",
            "Requirement already satisfied: soupsieve>1.2 in /usr/local/lib/python3.10/dist-packages (from beautifulsoup4->gdown) (2.5)\n",
            "Requirement already satisfied: charset-normalizer<4,>=2 in /usr/local/lib/python3.10/dist-packages (from requests[socks]->gdown) (3.3.2)\n",
            "Requirement already satisfied: idna<4,>=2.5 in /usr/local/lib/python3.10/dist-packages (from requests[socks]->gdown) (3.7)\n",
            "Requirement already satisfied: urllib3<3,>=1.21.1 in /usr/local/lib/python3.10/dist-packages (from requests[socks]->gdown) (2.0.7)\n",
            "Requirement already satisfied: certifi>=2017.4.17 in /usr/local/lib/python3.10/dist-packages (from requests[socks]->gdown) (2024.7.4)\n",
            "Requirement already satisfied: PySocks!=1.5.7,>=1.5.6 in /usr/local/lib/python3.10/dist-packages (from requests[socks]->gdown) (1.7.1)\n",
            "/usr/local/lib/python3.10/dist-packages/gdown/__main__.py:132: FutureWarning: Option `--id` was deprecated in version 4.3.1 and will be removed in 5.0. You don't need to pass it anymore to use a file ID.\n",
            "  warnings.warn(\n",
            "Failed to retrieve file url:\n",
            "\n",
            "\tToo many users have viewed or downloaded this file recently. Please\n",
            "\ttry accessing the file again later. If the file you are trying to\n",
            "\taccess is particularly large or is shared with many people, it may\n",
            "\ttake up to 24 hours to be able to view or download the file. If you\n",
            "\tstill can't access a file after 24 hours, contact your domain\n",
            "\tadministrator.\n",
            "\n",
            "You may still be able to access the file from the browser:\n",
            "\n",
            "\thttps://drive.google.com/uc?id=1Flvj3qDkV2rPw7GGi5zOR-WGJgEBtRk-\n",
            "\n",
            "but Gdown can't. Please check connections and permissions.\n"
          ]
        }
      ],
      "source": [
        "#https://drive.google.com/file/d/1Flvj3qDkV2rPw7GGi5zOR-WGJgEBtRk-/view?usp=sharing\n",
        "!pip install gdown\n",
        "!gdown --id 1Flvj3qDkV2rPw7GGi5zOR-WGJgEBtRk-"
      ]
    },
    {
      "cell_type": "markdown",
      "id": "3e39620c",
      "metadata": {
        "id": "3e39620c"
      },
      "source": [
        "## Importing Libraries"
      ]
    },
    {
      "cell_type": "code",
      "execution_count": 7,
      "id": "62381953",
      "metadata": {
        "id": "62381953"
      },
      "outputs": [],
      "source": [
        "import pandas as pd\n",
        "import numpy as np\n",
        "import plotly.express as px\n",
        "import matplotlib.pyplot as plt\n",
        "import seaborn as sns\n",
        "from sklearn.preprocessing import LabelEncoder , StandardScaler, MinMaxScaler\n",
        "from sklearn.model_selection import train_test_split\n",
        "from imblearn.combine import SMOTEENN\n",
        "from tensorflow.keras.models import Sequential\n",
        "from tensorflow.keras.layers import Dense , Conv2D, Flatten,Dropout,MaxPooling2D\n",
        "from tensorflow.keras.optimizers import Adam\n",
        "from sklearn.metrics import accuracy_score,f1_score,recall_score,precision_score,confusion_matrix,classification_report\n",
        "from tensorflow.keras.preprocessing.image import ImageDataGenerator\n",
        "from tensorflow.keras.callbacks import EarlyStopping"
      ]
    },
    {
      "cell_type": "markdown",
      "id": "71ccd4e2",
      "metadata": {
        "id": "71ccd4e2"
      },
      "source": [
        "## Exploratory Data Analysis (EDA)\n",
        "This could include:\n",
        "* **Inspect the dataset**\n",
        "\n",
        "* **Dataset structure**\n",
        "\n",
        "* **Summary statistics**\n",
        "\n",
        "* **Check for missing values**\n",
        "\n",
        "* **Distribution of features**\n",
        "\n",
        "* **Categorical feature analysis**\n",
        "\n",
        "* **Correlation matrix**\n",
        "\n",
        "* **Outlier detection**\n",
        "\n",
        "And add more as needed!"
      ]
    },
    {
      "cell_type": "code",
      "source": [
        "df=pd.read_csv('/content/drive/MyDrive/SADIA T5/Bus_Breakdown_and_Delays.csv')"
      ],
      "metadata": {
        "id": "vhCEWr93XvgH"
      },
      "id": "vhCEWr93XvgH",
      "execution_count": 12,
      "outputs": []
    },
    {
      "cell_type": "code",
      "source": [
        "from google.colab import drive\n",
        "drive.mount('/content/drive')"
      ],
      "metadata": {
        "id": "R-Lfw0oDXsWe"
      },
      "id": "R-Lfw0oDXsWe",
      "execution_count": null,
      "outputs": []
    },
    {
      "cell_type": "code",
      "source": [
        "df.head()"
      ],
      "metadata": {
        "colab": {
          "base_uri": "https://localhost:8080/",
          "height": 429
        },
        "id": "s-6rJBfmae0Y",
        "outputId": "e759aa60-091a-4312-9840-63d8b27541e8"
      },
      "id": "s-6rJBfmae0Y",
      "execution_count": 14,
      "outputs": [
        {
          "output_type": "execute_result",
          "data": {
            "text/plain": [
              "  School_Year  Busbreakdown_ID  Run_Type Bus_No Route_Number         Reason  \\\n",
              "0   2015-2016          1224901  Pre-K/EI    811            1          Other   \n",
              "1   2015-2016          1225098  Pre-K/EI   9302            1  Heavy Traffic   \n",
              "2   2015-2016          1215800  Pre-K/EI    358            2  Heavy Traffic   \n",
              "3   2015-2016          1215511  Pre-K/EI    331            2          Other   \n",
              "4   2015-2016          1215828  Pre-K/EI    332            2          Other   \n",
              "\n",
              "  Schools_Serviced             Occurred_On              Created_On   Boro  \\\n",
              "0             C353  10/26/2015 08:30:00 AM  10/26/2015 08:40:00 AM  Bronx   \n",
              "1             C814  10/27/2015 07:10:00 AM  10/27/2015 07:11:00 AM  Bronx   \n",
              "2             C195  09/18/2015 07:36:00 AM  09/18/2015 07:38:00 AM  Bronx   \n",
              "3             C178  09/17/2015 08:08:00 AM  09/17/2015 08:12:00 AM  Bronx   \n",
              "4             S176  09/18/2015 07:39:00 AM  09/18/2015 07:45:00 AM  Bronx   \n",
              "\n",
              "   ... How_Long_Delayed Number_Of_Students_On_The_Bus  \\\n",
              "0  ...        10MINUTES                             5   \n",
              "1  ...       25 MINUTES                             3   \n",
              "2  ...       15 MINUTES                            12   \n",
              "3  ...       10 minutes                            11   \n",
              "4  ...        10MINUTES                            12   \n",
              "\n",
              "   Has_Contractor_Notified_Schools Has_Contractor_Notified_Parents  \\\n",
              "0                              Yes                             Yes   \n",
              "1                              Yes                             Yes   \n",
              "2                              Yes                             Yes   \n",
              "3                              Yes                             Yes   \n",
              "4                              Yes                             Yes   \n",
              "\n",
              "  Have_You_Alerted_OPT             Informed_On Incident_Number  \\\n",
              "0                   No  10/26/2015 08:40:00 AM             NaN   \n",
              "1                   No  10/27/2015 07:11:00 AM             NaN   \n",
              "2                  Yes  09/18/2015 07:38:00 AM             NaN   \n",
              "3                  Yes  09/17/2015 08:12:00 AM             NaN   \n",
              "4                   No  09/18/2015 07:45:00 AM             NaN   \n",
              "\n",
              "          Last_Updated_On Breakdown_or_Running_Late School_Age_or_PreK  \n",
              "0  10/26/2015 08:40:39 AM              Running Late              Pre-K  \n",
              "1  10/27/2015 07:11:22 AM              Running Late              Pre-K  \n",
              "2  09/18/2015 07:38:44 AM              Running Late              Pre-K  \n",
              "3  09/17/2015 08:12:08 AM              Running Late              Pre-K  \n",
              "4  09/18/2015 07:56:40 AM              Running Late              Pre-K  \n",
              "\n",
              "[5 rows x 21 columns]"
            ],
            "text/html": [
              "\n",
              "  <div id=\"df-c549d9c8-1257-4427-820d-7b70f9e18e82\" class=\"colab-df-container\">\n",
              "    <div>\n",
              "<style scoped>\n",
              "    .dataframe tbody tr th:only-of-type {\n",
              "        vertical-align: middle;\n",
              "    }\n",
              "\n",
              "    .dataframe tbody tr th {\n",
              "        vertical-align: top;\n",
              "    }\n",
              "\n",
              "    .dataframe thead th {\n",
              "        text-align: right;\n",
              "    }\n",
              "</style>\n",
              "<table border=\"1\" class=\"dataframe\">\n",
              "  <thead>\n",
              "    <tr style=\"text-align: right;\">\n",
              "      <th></th>\n",
              "      <th>School_Year</th>\n",
              "      <th>Busbreakdown_ID</th>\n",
              "      <th>Run_Type</th>\n",
              "      <th>Bus_No</th>\n",
              "      <th>Route_Number</th>\n",
              "      <th>Reason</th>\n",
              "      <th>Schools_Serviced</th>\n",
              "      <th>Occurred_On</th>\n",
              "      <th>Created_On</th>\n",
              "      <th>Boro</th>\n",
              "      <th>...</th>\n",
              "      <th>How_Long_Delayed</th>\n",
              "      <th>Number_Of_Students_On_The_Bus</th>\n",
              "      <th>Has_Contractor_Notified_Schools</th>\n",
              "      <th>Has_Contractor_Notified_Parents</th>\n",
              "      <th>Have_You_Alerted_OPT</th>\n",
              "      <th>Informed_On</th>\n",
              "      <th>Incident_Number</th>\n",
              "      <th>Last_Updated_On</th>\n",
              "      <th>Breakdown_or_Running_Late</th>\n",
              "      <th>School_Age_or_PreK</th>\n",
              "    </tr>\n",
              "  </thead>\n",
              "  <tbody>\n",
              "    <tr>\n",
              "      <th>0</th>\n",
              "      <td>2015-2016</td>\n",
              "      <td>1224901</td>\n",
              "      <td>Pre-K/EI</td>\n",
              "      <td>811</td>\n",
              "      <td>1</td>\n",
              "      <td>Other</td>\n",
              "      <td>C353</td>\n",
              "      <td>10/26/2015 08:30:00 AM</td>\n",
              "      <td>10/26/2015 08:40:00 AM</td>\n",
              "      <td>Bronx</td>\n",
              "      <td>...</td>\n",
              "      <td>10MINUTES</td>\n",
              "      <td>5</td>\n",
              "      <td>Yes</td>\n",
              "      <td>Yes</td>\n",
              "      <td>No</td>\n",
              "      <td>10/26/2015 08:40:00 AM</td>\n",
              "      <td>NaN</td>\n",
              "      <td>10/26/2015 08:40:39 AM</td>\n",
              "      <td>Running Late</td>\n",
              "      <td>Pre-K</td>\n",
              "    </tr>\n",
              "    <tr>\n",
              "      <th>1</th>\n",
              "      <td>2015-2016</td>\n",
              "      <td>1225098</td>\n",
              "      <td>Pre-K/EI</td>\n",
              "      <td>9302</td>\n",
              "      <td>1</td>\n",
              "      <td>Heavy Traffic</td>\n",
              "      <td>C814</td>\n",
              "      <td>10/27/2015 07:10:00 AM</td>\n",
              "      <td>10/27/2015 07:11:00 AM</td>\n",
              "      <td>Bronx</td>\n",
              "      <td>...</td>\n",
              "      <td>25 MINUTES</td>\n",
              "      <td>3</td>\n",
              "      <td>Yes</td>\n",
              "      <td>Yes</td>\n",
              "      <td>No</td>\n",
              "      <td>10/27/2015 07:11:00 AM</td>\n",
              "      <td>NaN</td>\n",
              "      <td>10/27/2015 07:11:22 AM</td>\n",
              "      <td>Running Late</td>\n",
              "      <td>Pre-K</td>\n",
              "    </tr>\n",
              "    <tr>\n",
              "      <th>2</th>\n",
              "      <td>2015-2016</td>\n",
              "      <td>1215800</td>\n",
              "      <td>Pre-K/EI</td>\n",
              "      <td>358</td>\n",
              "      <td>2</td>\n",
              "      <td>Heavy Traffic</td>\n",
              "      <td>C195</td>\n",
              "      <td>09/18/2015 07:36:00 AM</td>\n",
              "      <td>09/18/2015 07:38:00 AM</td>\n",
              "      <td>Bronx</td>\n",
              "      <td>...</td>\n",
              "      <td>15 MINUTES</td>\n",
              "      <td>12</td>\n",
              "      <td>Yes</td>\n",
              "      <td>Yes</td>\n",
              "      <td>Yes</td>\n",
              "      <td>09/18/2015 07:38:00 AM</td>\n",
              "      <td>NaN</td>\n",
              "      <td>09/18/2015 07:38:44 AM</td>\n",
              "      <td>Running Late</td>\n",
              "      <td>Pre-K</td>\n",
              "    </tr>\n",
              "    <tr>\n",
              "      <th>3</th>\n",
              "      <td>2015-2016</td>\n",
              "      <td>1215511</td>\n",
              "      <td>Pre-K/EI</td>\n",
              "      <td>331</td>\n",
              "      <td>2</td>\n",
              "      <td>Other</td>\n",
              "      <td>C178</td>\n",
              "      <td>09/17/2015 08:08:00 AM</td>\n",
              "      <td>09/17/2015 08:12:00 AM</td>\n",
              "      <td>Bronx</td>\n",
              "      <td>...</td>\n",
              "      <td>10 minutes</td>\n",
              "      <td>11</td>\n",
              "      <td>Yes</td>\n",
              "      <td>Yes</td>\n",
              "      <td>Yes</td>\n",
              "      <td>09/17/2015 08:12:00 AM</td>\n",
              "      <td>NaN</td>\n",
              "      <td>09/17/2015 08:12:08 AM</td>\n",
              "      <td>Running Late</td>\n",
              "      <td>Pre-K</td>\n",
              "    </tr>\n",
              "    <tr>\n",
              "      <th>4</th>\n",
              "      <td>2015-2016</td>\n",
              "      <td>1215828</td>\n",
              "      <td>Pre-K/EI</td>\n",
              "      <td>332</td>\n",
              "      <td>2</td>\n",
              "      <td>Other</td>\n",
              "      <td>S176</td>\n",
              "      <td>09/18/2015 07:39:00 AM</td>\n",
              "      <td>09/18/2015 07:45:00 AM</td>\n",
              "      <td>Bronx</td>\n",
              "      <td>...</td>\n",
              "      <td>10MINUTES</td>\n",
              "      <td>12</td>\n",
              "      <td>Yes</td>\n",
              "      <td>Yes</td>\n",
              "      <td>No</td>\n",
              "      <td>09/18/2015 07:45:00 AM</td>\n",
              "      <td>NaN</td>\n",
              "      <td>09/18/2015 07:56:40 AM</td>\n",
              "      <td>Running Late</td>\n",
              "      <td>Pre-K</td>\n",
              "    </tr>\n",
              "  </tbody>\n",
              "</table>\n",
              "<p>5 rows × 21 columns</p>\n",
              "</div>\n",
              "    <div class=\"colab-df-buttons\">\n",
              "\n",
              "  <div class=\"colab-df-container\">\n",
              "    <button class=\"colab-df-convert\" onclick=\"convertToInteractive('df-c549d9c8-1257-4427-820d-7b70f9e18e82')\"\n",
              "            title=\"Convert this dataframe to an interactive table.\"\n",
              "            style=\"display:none;\">\n",
              "\n",
              "  <svg xmlns=\"http://www.w3.org/2000/svg\" height=\"24px\" viewBox=\"0 -960 960 960\">\n",
              "    <path d=\"M120-120v-720h720v720H120Zm60-500h600v-160H180v160Zm220 220h160v-160H400v160Zm0 220h160v-160H400v160ZM180-400h160v-160H180v160Zm440 0h160v-160H620v160ZM180-180h160v-160H180v160Zm440 0h160v-160H620v160Z\"/>\n",
              "  </svg>\n",
              "    </button>\n",
              "\n",
              "  <style>\n",
              "    .colab-df-container {\n",
              "      display:flex;\n",
              "      gap: 12px;\n",
              "    }\n",
              "\n",
              "    .colab-df-convert {\n",
              "      background-color: #E8F0FE;\n",
              "      border: none;\n",
              "      border-radius: 50%;\n",
              "      cursor: pointer;\n",
              "      display: none;\n",
              "      fill: #1967D2;\n",
              "      height: 32px;\n",
              "      padding: 0 0 0 0;\n",
              "      width: 32px;\n",
              "    }\n",
              "\n",
              "    .colab-df-convert:hover {\n",
              "      background-color: #E2EBFA;\n",
              "      box-shadow: 0px 1px 2px rgba(60, 64, 67, 0.3), 0px 1px 3px 1px rgba(60, 64, 67, 0.15);\n",
              "      fill: #174EA6;\n",
              "    }\n",
              "\n",
              "    .colab-df-buttons div {\n",
              "      margin-bottom: 4px;\n",
              "    }\n",
              "\n",
              "    [theme=dark] .colab-df-convert {\n",
              "      background-color: #3B4455;\n",
              "      fill: #D2E3FC;\n",
              "    }\n",
              "\n",
              "    [theme=dark] .colab-df-convert:hover {\n",
              "      background-color: #434B5C;\n",
              "      box-shadow: 0px 1px 3px 1px rgba(0, 0, 0, 0.15);\n",
              "      filter: drop-shadow(0px 1px 2px rgba(0, 0, 0, 0.3));\n",
              "      fill: #FFFFFF;\n",
              "    }\n",
              "  </style>\n",
              "\n",
              "    <script>\n",
              "      const buttonEl =\n",
              "        document.querySelector('#df-c549d9c8-1257-4427-820d-7b70f9e18e82 button.colab-df-convert');\n",
              "      buttonEl.style.display =\n",
              "        google.colab.kernel.accessAllowed ? 'block' : 'none';\n",
              "\n",
              "      async function convertToInteractive(key) {\n",
              "        const element = document.querySelector('#df-c549d9c8-1257-4427-820d-7b70f9e18e82');\n",
              "        const dataTable =\n",
              "          await google.colab.kernel.invokeFunction('convertToInteractive',\n",
              "                                                    [key], {});\n",
              "        if (!dataTable) return;\n",
              "\n",
              "        const docLinkHtml = 'Like what you see? Visit the ' +\n",
              "          '<a target=\"_blank\" href=https://colab.research.google.com/notebooks/data_table.ipynb>data table notebook</a>'\n",
              "          + ' to learn more about interactive tables.';\n",
              "        element.innerHTML = '';\n",
              "        dataTable['output_type'] = 'display_data';\n",
              "        await google.colab.output.renderOutput(dataTable, element);\n",
              "        const docLink = document.createElement('div');\n",
              "        docLink.innerHTML = docLinkHtml;\n",
              "        element.appendChild(docLink);\n",
              "      }\n",
              "    </script>\n",
              "  </div>\n",
              "\n",
              "\n",
              "<div id=\"df-5259a988-a427-401a-930e-7847597aceb5\">\n",
              "  <button class=\"colab-df-quickchart\" onclick=\"quickchart('df-5259a988-a427-401a-930e-7847597aceb5')\"\n",
              "            title=\"Suggest charts\"\n",
              "            style=\"display:none;\">\n",
              "\n",
              "<svg xmlns=\"http://www.w3.org/2000/svg\" height=\"24px\"viewBox=\"0 0 24 24\"\n",
              "     width=\"24px\">\n",
              "    <g>\n",
              "        <path d=\"M19 3H5c-1.1 0-2 .9-2 2v14c0 1.1.9 2 2 2h14c1.1 0 2-.9 2-2V5c0-1.1-.9-2-2-2zM9 17H7v-7h2v7zm4 0h-2V7h2v10zm4 0h-2v-4h2v4z\"/>\n",
              "    </g>\n",
              "</svg>\n",
              "  </button>\n",
              "\n",
              "<style>\n",
              "  .colab-df-quickchart {\n",
              "      --bg-color: #E8F0FE;\n",
              "      --fill-color: #1967D2;\n",
              "      --hover-bg-color: #E2EBFA;\n",
              "      --hover-fill-color: #174EA6;\n",
              "      --disabled-fill-color: #AAA;\n",
              "      --disabled-bg-color: #DDD;\n",
              "  }\n",
              "\n",
              "  [theme=dark] .colab-df-quickchart {\n",
              "      --bg-color: #3B4455;\n",
              "      --fill-color: #D2E3FC;\n",
              "      --hover-bg-color: #434B5C;\n",
              "      --hover-fill-color: #FFFFFF;\n",
              "      --disabled-bg-color: #3B4455;\n",
              "      --disabled-fill-color: #666;\n",
              "  }\n",
              "\n",
              "  .colab-df-quickchart {\n",
              "    background-color: var(--bg-color);\n",
              "    border: none;\n",
              "    border-radius: 50%;\n",
              "    cursor: pointer;\n",
              "    display: none;\n",
              "    fill: var(--fill-color);\n",
              "    height: 32px;\n",
              "    padding: 0;\n",
              "    width: 32px;\n",
              "  }\n",
              "\n",
              "  .colab-df-quickchart:hover {\n",
              "    background-color: var(--hover-bg-color);\n",
              "    box-shadow: 0 1px 2px rgba(60, 64, 67, 0.3), 0 1px 3px 1px rgba(60, 64, 67, 0.15);\n",
              "    fill: var(--button-hover-fill-color);\n",
              "  }\n",
              "\n",
              "  .colab-df-quickchart-complete:disabled,\n",
              "  .colab-df-quickchart-complete:disabled:hover {\n",
              "    background-color: var(--disabled-bg-color);\n",
              "    fill: var(--disabled-fill-color);\n",
              "    box-shadow: none;\n",
              "  }\n",
              "\n",
              "  .colab-df-spinner {\n",
              "    border: 2px solid var(--fill-color);\n",
              "    border-color: transparent;\n",
              "    border-bottom-color: var(--fill-color);\n",
              "    animation:\n",
              "      spin 1s steps(1) infinite;\n",
              "  }\n",
              "\n",
              "  @keyframes spin {\n",
              "    0% {\n",
              "      border-color: transparent;\n",
              "      border-bottom-color: var(--fill-color);\n",
              "      border-left-color: var(--fill-color);\n",
              "    }\n",
              "    20% {\n",
              "      border-color: transparent;\n",
              "      border-left-color: var(--fill-color);\n",
              "      border-top-color: var(--fill-color);\n",
              "    }\n",
              "    30% {\n",
              "      border-color: transparent;\n",
              "      border-left-color: var(--fill-color);\n",
              "      border-top-color: var(--fill-color);\n",
              "      border-right-color: var(--fill-color);\n",
              "    }\n",
              "    40% {\n",
              "      border-color: transparent;\n",
              "      border-right-color: var(--fill-color);\n",
              "      border-top-color: var(--fill-color);\n",
              "    }\n",
              "    60% {\n",
              "      border-color: transparent;\n",
              "      border-right-color: var(--fill-color);\n",
              "    }\n",
              "    80% {\n",
              "      border-color: transparent;\n",
              "      border-right-color: var(--fill-color);\n",
              "      border-bottom-color: var(--fill-color);\n",
              "    }\n",
              "    90% {\n",
              "      border-color: transparent;\n",
              "      border-bottom-color: var(--fill-color);\n",
              "    }\n",
              "  }\n",
              "</style>\n",
              "\n",
              "  <script>\n",
              "    async function quickchart(key) {\n",
              "      const quickchartButtonEl =\n",
              "        document.querySelector('#' + key + ' button');\n",
              "      quickchartButtonEl.disabled = true;  // To prevent multiple clicks.\n",
              "      quickchartButtonEl.classList.add('colab-df-spinner');\n",
              "      try {\n",
              "        const charts = await google.colab.kernel.invokeFunction(\n",
              "            'suggestCharts', [key], {});\n",
              "      } catch (error) {\n",
              "        console.error('Error during call to suggestCharts:', error);\n",
              "      }\n",
              "      quickchartButtonEl.classList.remove('colab-df-spinner');\n",
              "      quickchartButtonEl.classList.add('colab-df-quickchart-complete');\n",
              "    }\n",
              "    (() => {\n",
              "      let quickchartButtonEl =\n",
              "        document.querySelector('#df-5259a988-a427-401a-930e-7847597aceb5 button');\n",
              "      quickchartButtonEl.style.display =\n",
              "        google.colab.kernel.accessAllowed ? 'block' : 'none';\n",
              "    })();\n",
              "  </script>\n",
              "</div>\n",
              "\n",
              "    </div>\n",
              "  </div>\n"
            ],
            "application/vnd.google.colaboratory.intrinsic+json": {
              "type": "dataframe",
              "variable_name": "df"
            }
          },
          "metadata": {},
          "execution_count": 14
        }
      ]
    },
    {
      "cell_type": "code",
      "source": [
        "df.tail()"
      ],
      "metadata": {
        "colab": {
          "base_uri": "https://localhost:8080/",
          "height": 429
        },
        "id": "Wfw3APmP4OvK",
        "outputId": "a480ba85-bd91-41d3-ee57-a1750a4b7c2c"
      },
      "id": "Wfw3APmP4OvK",
      "execution_count": 13,
      "outputs": [
        {
          "output_type": "execute_result",
          "data": {
            "text/plain": [
              "       School_Year  Busbreakdown_ID             Run_Type  Bus_No Route_Number  \\\n",
              "147967   2016-2017          1338452             Pre-K/EI    9345            2   \n",
              "147968   2016-2017          1341521             Pre-K/EI    0001            5   \n",
              "147969   2016-2017          1353044    Special Ed PM Run  GC0112         X928   \n",
              "147970   2016-2017          1353045    Special Ed PM Run   5525D         Q920   \n",
              "147971   2016-2017          1353046  Project Read PM Run    2530         K617   \n",
              "\n",
              "               Reason Schools_Serviced             Occurred_On  \\\n",
              "147967  Heavy Traffic             C530  04/05/2017 08:00:00 AM   \n",
              "147968  Heavy Traffic             C579  04/24/2017 07:42:00 AM   \n",
              "147969  Heavy Traffic            09003  05/25/2017 04:22:00 PM   \n",
              "147970    Won`t Start            24457  05/25/2017 04:27:00 PM   \n",
              "147971          Other            21436  05/25/2017 04:36:00 PM   \n",
              "\n",
              "                    Created_On      Boro  ... How_Long_Delayed  \\\n",
              "147967  04/05/2017 08:10:00 AM     Bronx  ...            15-20   \n",
              "147968  04/24/2017 07:44:00 AM     Bronx  ...          20 MINS   \n",
              "147969  05/25/2017 04:28:00 PM     Bronx  ...        20-25MINS   \n",
              "147970  05/25/2017 04:30:00 PM    Queens  ...              NaN   \n",
              "147971  05/25/2017 04:37:00 PM  Brooklyn  ...            45min   \n",
              "\n",
              "       Number_Of_Students_On_The_Bus  Has_Contractor_Notified_Schools  \\\n",
              "147967                             7                              Yes   \n",
              "147968                             0                              Yes   \n",
              "147969                             0                              Yes   \n",
              "147970                             0                              Yes   \n",
              "147971                             7                              Yes   \n",
              "\n",
              "       Has_Contractor_Notified_Parents Have_You_Alerted_OPT  \\\n",
              "147967                             Yes                   No   \n",
              "147968                             Yes                   No   \n",
              "147969                             Yes                  Yes   \n",
              "147970                             Yes                   No   \n",
              "147971                             Yes                  Yes   \n",
              "\n",
              "                   Informed_On Incident_Number         Last_Updated_On  \\\n",
              "147967  04/05/2017 08:10:00 AM             NaN  04/05/2017 08:10:15 AM   \n",
              "147968  04/24/2017 07:44:00 AM             NaN  04/24/2017 07:44:15 AM   \n",
              "147969  05/25/2017 04:28:00 PM        90323827  05/25/2017 04:34:36 PM   \n",
              "147970  05/25/2017 04:30:00 PM             NaN  05/25/2017 04:30:07 PM   \n",
              "147971  05/25/2017 04:37:00 PM             NaN  05/25/2017 04:37:37 PM   \n",
              "\n",
              "       Breakdown_or_Running_Late School_Age_or_PreK  \n",
              "147967              Running Late              Pre-K  \n",
              "147968              Running Late              Pre-K  \n",
              "147969              Running Late         School-Age  \n",
              "147970                 Breakdown         School-Age  \n",
              "147971              Running Late         School-Age  \n",
              "\n",
              "[5 rows x 21 columns]"
            ],
            "text/html": [
              "\n",
              "  <div id=\"df-c5051bc4-fcb1-49f2-882b-d86b5749f595\" class=\"colab-df-container\">\n",
              "    <div>\n",
              "<style scoped>\n",
              "    .dataframe tbody tr th:only-of-type {\n",
              "        vertical-align: middle;\n",
              "    }\n",
              "\n",
              "    .dataframe tbody tr th {\n",
              "        vertical-align: top;\n",
              "    }\n",
              "\n",
              "    .dataframe thead th {\n",
              "        text-align: right;\n",
              "    }\n",
              "</style>\n",
              "<table border=\"1\" class=\"dataframe\">\n",
              "  <thead>\n",
              "    <tr style=\"text-align: right;\">\n",
              "      <th></th>\n",
              "      <th>School_Year</th>\n",
              "      <th>Busbreakdown_ID</th>\n",
              "      <th>Run_Type</th>\n",
              "      <th>Bus_No</th>\n",
              "      <th>Route_Number</th>\n",
              "      <th>Reason</th>\n",
              "      <th>Schools_Serviced</th>\n",
              "      <th>Occurred_On</th>\n",
              "      <th>Created_On</th>\n",
              "      <th>Boro</th>\n",
              "      <th>...</th>\n",
              "      <th>How_Long_Delayed</th>\n",
              "      <th>Number_Of_Students_On_The_Bus</th>\n",
              "      <th>Has_Contractor_Notified_Schools</th>\n",
              "      <th>Has_Contractor_Notified_Parents</th>\n",
              "      <th>Have_You_Alerted_OPT</th>\n",
              "      <th>Informed_On</th>\n",
              "      <th>Incident_Number</th>\n",
              "      <th>Last_Updated_On</th>\n",
              "      <th>Breakdown_or_Running_Late</th>\n",
              "      <th>School_Age_or_PreK</th>\n",
              "    </tr>\n",
              "  </thead>\n",
              "  <tbody>\n",
              "    <tr>\n",
              "      <th>147967</th>\n",
              "      <td>2016-2017</td>\n",
              "      <td>1338452</td>\n",
              "      <td>Pre-K/EI</td>\n",
              "      <td>9345</td>\n",
              "      <td>2</td>\n",
              "      <td>Heavy Traffic</td>\n",
              "      <td>C530</td>\n",
              "      <td>04/05/2017 08:00:00 AM</td>\n",
              "      <td>04/05/2017 08:10:00 AM</td>\n",
              "      <td>Bronx</td>\n",
              "      <td>...</td>\n",
              "      <td>15-20</td>\n",
              "      <td>7</td>\n",
              "      <td>Yes</td>\n",
              "      <td>Yes</td>\n",
              "      <td>No</td>\n",
              "      <td>04/05/2017 08:10:00 AM</td>\n",
              "      <td>NaN</td>\n",
              "      <td>04/05/2017 08:10:15 AM</td>\n",
              "      <td>Running Late</td>\n",
              "      <td>Pre-K</td>\n",
              "    </tr>\n",
              "    <tr>\n",
              "      <th>147968</th>\n",
              "      <td>2016-2017</td>\n",
              "      <td>1341521</td>\n",
              "      <td>Pre-K/EI</td>\n",
              "      <td>0001</td>\n",
              "      <td>5</td>\n",
              "      <td>Heavy Traffic</td>\n",
              "      <td>C579</td>\n",
              "      <td>04/24/2017 07:42:00 AM</td>\n",
              "      <td>04/24/2017 07:44:00 AM</td>\n",
              "      <td>Bronx</td>\n",
              "      <td>...</td>\n",
              "      <td>20 MINS</td>\n",
              "      <td>0</td>\n",
              "      <td>Yes</td>\n",
              "      <td>Yes</td>\n",
              "      <td>No</td>\n",
              "      <td>04/24/2017 07:44:00 AM</td>\n",
              "      <td>NaN</td>\n",
              "      <td>04/24/2017 07:44:15 AM</td>\n",
              "      <td>Running Late</td>\n",
              "      <td>Pre-K</td>\n",
              "    </tr>\n",
              "    <tr>\n",
              "      <th>147969</th>\n",
              "      <td>2016-2017</td>\n",
              "      <td>1353044</td>\n",
              "      <td>Special Ed PM Run</td>\n",
              "      <td>GC0112</td>\n",
              "      <td>X928</td>\n",
              "      <td>Heavy Traffic</td>\n",
              "      <td>09003</td>\n",
              "      <td>05/25/2017 04:22:00 PM</td>\n",
              "      <td>05/25/2017 04:28:00 PM</td>\n",
              "      <td>Bronx</td>\n",
              "      <td>...</td>\n",
              "      <td>20-25MINS</td>\n",
              "      <td>0</td>\n",
              "      <td>Yes</td>\n",
              "      <td>Yes</td>\n",
              "      <td>Yes</td>\n",
              "      <td>05/25/2017 04:28:00 PM</td>\n",
              "      <td>90323827</td>\n",
              "      <td>05/25/2017 04:34:36 PM</td>\n",
              "      <td>Running Late</td>\n",
              "      <td>School-Age</td>\n",
              "    </tr>\n",
              "    <tr>\n",
              "      <th>147970</th>\n",
              "      <td>2016-2017</td>\n",
              "      <td>1353045</td>\n",
              "      <td>Special Ed PM Run</td>\n",
              "      <td>5525D</td>\n",
              "      <td>Q920</td>\n",
              "      <td>Won`t Start</td>\n",
              "      <td>24457</td>\n",
              "      <td>05/25/2017 04:27:00 PM</td>\n",
              "      <td>05/25/2017 04:30:00 PM</td>\n",
              "      <td>Queens</td>\n",
              "      <td>...</td>\n",
              "      <td>NaN</td>\n",
              "      <td>0</td>\n",
              "      <td>Yes</td>\n",
              "      <td>Yes</td>\n",
              "      <td>No</td>\n",
              "      <td>05/25/2017 04:30:00 PM</td>\n",
              "      <td>NaN</td>\n",
              "      <td>05/25/2017 04:30:07 PM</td>\n",
              "      <td>Breakdown</td>\n",
              "      <td>School-Age</td>\n",
              "    </tr>\n",
              "    <tr>\n",
              "      <th>147971</th>\n",
              "      <td>2016-2017</td>\n",
              "      <td>1353046</td>\n",
              "      <td>Project Read PM Run</td>\n",
              "      <td>2530</td>\n",
              "      <td>K617</td>\n",
              "      <td>Other</td>\n",
              "      <td>21436</td>\n",
              "      <td>05/25/2017 04:36:00 PM</td>\n",
              "      <td>05/25/2017 04:37:00 PM</td>\n",
              "      <td>Brooklyn</td>\n",
              "      <td>...</td>\n",
              "      <td>45min</td>\n",
              "      <td>7</td>\n",
              "      <td>Yes</td>\n",
              "      <td>Yes</td>\n",
              "      <td>Yes</td>\n",
              "      <td>05/25/2017 04:37:00 PM</td>\n",
              "      <td>NaN</td>\n",
              "      <td>05/25/2017 04:37:37 PM</td>\n",
              "      <td>Running Late</td>\n",
              "      <td>School-Age</td>\n",
              "    </tr>\n",
              "  </tbody>\n",
              "</table>\n",
              "<p>5 rows × 21 columns</p>\n",
              "</div>\n",
              "    <div class=\"colab-df-buttons\">\n",
              "\n",
              "  <div class=\"colab-df-container\">\n",
              "    <button class=\"colab-df-convert\" onclick=\"convertToInteractive('df-c5051bc4-fcb1-49f2-882b-d86b5749f595')\"\n",
              "            title=\"Convert this dataframe to an interactive table.\"\n",
              "            style=\"display:none;\">\n",
              "\n",
              "  <svg xmlns=\"http://www.w3.org/2000/svg\" height=\"24px\" viewBox=\"0 -960 960 960\">\n",
              "    <path d=\"M120-120v-720h720v720H120Zm60-500h600v-160H180v160Zm220 220h160v-160H400v160Zm0 220h160v-160H400v160ZM180-400h160v-160H180v160Zm440 0h160v-160H620v160ZM180-180h160v-160H180v160Zm440 0h160v-160H620v160Z\"/>\n",
              "  </svg>\n",
              "    </button>\n",
              "\n",
              "  <style>\n",
              "    .colab-df-container {\n",
              "      display:flex;\n",
              "      gap: 12px;\n",
              "    }\n",
              "\n",
              "    .colab-df-convert {\n",
              "      background-color: #E8F0FE;\n",
              "      border: none;\n",
              "      border-radius: 50%;\n",
              "      cursor: pointer;\n",
              "      display: none;\n",
              "      fill: #1967D2;\n",
              "      height: 32px;\n",
              "      padding: 0 0 0 0;\n",
              "      width: 32px;\n",
              "    }\n",
              "\n",
              "    .colab-df-convert:hover {\n",
              "      background-color: #E2EBFA;\n",
              "      box-shadow: 0px 1px 2px rgba(60, 64, 67, 0.3), 0px 1px 3px 1px rgba(60, 64, 67, 0.15);\n",
              "      fill: #174EA6;\n",
              "    }\n",
              "\n",
              "    .colab-df-buttons div {\n",
              "      margin-bottom: 4px;\n",
              "    }\n",
              "\n",
              "    [theme=dark] .colab-df-convert {\n",
              "      background-color: #3B4455;\n",
              "      fill: #D2E3FC;\n",
              "    }\n",
              "\n",
              "    [theme=dark] .colab-df-convert:hover {\n",
              "      background-color: #434B5C;\n",
              "      box-shadow: 0px 1px 3px 1px rgba(0, 0, 0, 0.15);\n",
              "      filter: drop-shadow(0px 1px 2px rgba(0, 0, 0, 0.3));\n",
              "      fill: #FFFFFF;\n",
              "    }\n",
              "  </style>\n",
              "\n",
              "    <script>\n",
              "      const buttonEl =\n",
              "        document.querySelector('#df-c5051bc4-fcb1-49f2-882b-d86b5749f595 button.colab-df-convert');\n",
              "      buttonEl.style.display =\n",
              "        google.colab.kernel.accessAllowed ? 'block' : 'none';\n",
              "\n",
              "      async function convertToInteractive(key) {\n",
              "        const element = document.querySelector('#df-c5051bc4-fcb1-49f2-882b-d86b5749f595');\n",
              "        const dataTable =\n",
              "          await google.colab.kernel.invokeFunction('convertToInteractive',\n",
              "                                                    [key], {});\n",
              "        if (!dataTable) return;\n",
              "\n",
              "        const docLinkHtml = 'Like what you see? Visit the ' +\n",
              "          '<a target=\"_blank\" href=https://colab.research.google.com/notebooks/data_table.ipynb>data table notebook</a>'\n",
              "          + ' to learn more about interactive tables.';\n",
              "        element.innerHTML = '';\n",
              "        dataTable['output_type'] = 'display_data';\n",
              "        await google.colab.output.renderOutput(dataTable, element);\n",
              "        const docLink = document.createElement('div');\n",
              "        docLink.innerHTML = docLinkHtml;\n",
              "        element.appendChild(docLink);\n",
              "      }\n",
              "    </script>\n",
              "  </div>\n",
              "\n",
              "\n",
              "<div id=\"df-293befe7-9e9e-4327-be10-139e83111763\">\n",
              "  <button class=\"colab-df-quickchart\" onclick=\"quickchart('df-293befe7-9e9e-4327-be10-139e83111763')\"\n",
              "            title=\"Suggest charts\"\n",
              "            style=\"display:none;\">\n",
              "\n",
              "<svg xmlns=\"http://www.w3.org/2000/svg\" height=\"24px\"viewBox=\"0 0 24 24\"\n",
              "     width=\"24px\">\n",
              "    <g>\n",
              "        <path d=\"M19 3H5c-1.1 0-2 .9-2 2v14c0 1.1.9 2 2 2h14c1.1 0 2-.9 2-2V5c0-1.1-.9-2-2-2zM9 17H7v-7h2v7zm4 0h-2V7h2v10zm4 0h-2v-4h2v4z\"/>\n",
              "    </g>\n",
              "</svg>\n",
              "  </button>\n",
              "\n",
              "<style>\n",
              "  .colab-df-quickchart {\n",
              "      --bg-color: #E8F0FE;\n",
              "      --fill-color: #1967D2;\n",
              "      --hover-bg-color: #E2EBFA;\n",
              "      --hover-fill-color: #174EA6;\n",
              "      --disabled-fill-color: #AAA;\n",
              "      --disabled-bg-color: #DDD;\n",
              "  }\n",
              "\n",
              "  [theme=dark] .colab-df-quickchart {\n",
              "      --bg-color: #3B4455;\n",
              "      --fill-color: #D2E3FC;\n",
              "      --hover-bg-color: #434B5C;\n",
              "      --hover-fill-color: #FFFFFF;\n",
              "      --disabled-bg-color: #3B4455;\n",
              "      --disabled-fill-color: #666;\n",
              "  }\n",
              "\n",
              "  .colab-df-quickchart {\n",
              "    background-color: var(--bg-color);\n",
              "    border: none;\n",
              "    border-radius: 50%;\n",
              "    cursor: pointer;\n",
              "    display: none;\n",
              "    fill: var(--fill-color);\n",
              "    height: 32px;\n",
              "    padding: 0;\n",
              "    width: 32px;\n",
              "  }\n",
              "\n",
              "  .colab-df-quickchart:hover {\n",
              "    background-color: var(--hover-bg-color);\n",
              "    box-shadow: 0 1px 2px rgba(60, 64, 67, 0.3), 0 1px 3px 1px rgba(60, 64, 67, 0.15);\n",
              "    fill: var(--button-hover-fill-color);\n",
              "  }\n",
              "\n",
              "  .colab-df-quickchart-complete:disabled,\n",
              "  .colab-df-quickchart-complete:disabled:hover {\n",
              "    background-color: var(--disabled-bg-color);\n",
              "    fill: var(--disabled-fill-color);\n",
              "    box-shadow: none;\n",
              "  }\n",
              "\n",
              "  .colab-df-spinner {\n",
              "    border: 2px solid var(--fill-color);\n",
              "    border-color: transparent;\n",
              "    border-bottom-color: var(--fill-color);\n",
              "    animation:\n",
              "      spin 1s steps(1) infinite;\n",
              "  }\n",
              "\n",
              "  @keyframes spin {\n",
              "    0% {\n",
              "      border-color: transparent;\n",
              "      border-bottom-color: var(--fill-color);\n",
              "      border-left-color: var(--fill-color);\n",
              "    }\n",
              "    20% {\n",
              "      border-color: transparent;\n",
              "      border-left-color: var(--fill-color);\n",
              "      border-top-color: var(--fill-color);\n",
              "    }\n",
              "    30% {\n",
              "      border-color: transparent;\n",
              "      border-left-color: var(--fill-color);\n",
              "      border-top-color: var(--fill-color);\n",
              "      border-right-color: var(--fill-color);\n",
              "    }\n",
              "    40% {\n",
              "      border-color: transparent;\n",
              "      border-right-color: var(--fill-color);\n",
              "      border-top-color: var(--fill-color);\n",
              "    }\n",
              "    60% {\n",
              "      border-color: transparent;\n",
              "      border-right-color: var(--fill-color);\n",
              "    }\n",
              "    80% {\n",
              "      border-color: transparent;\n",
              "      border-right-color: var(--fill-color);\n",
              "      border-bottom-color: var(--fill-color);\n",
              "    }\n",
              "    90% {\n",
              "      border-color: transparent;\n",
              "      border-bottom-color: var(--fill-color);\n",
              "    }\n",
              "  }\n",
              "</style>\n",
              "\n",
              "  <script>\n",
              "    async function quickchart(key) {\n",
              "      const quickchartButtonEl =\n",
              "        document.querySelector('#' + key + ' button');\n",
              "      quickchartButtonEl.disabled = true;  // To prevent multiple clicks.\n",
              "      quickchartButtonEl.classList.add('colab-df-spinner');\n",
              "      try {\n",
              "        const charts = await google.colab.kernel.invokeFunction(\n",
              "            'suggestCharts', [key], {});\n",
              "      } catch (error) {\n",
              "        console.error('Error during call to suggestCharts:', error);\n",
              "      }\n",
              "      quickchartButtonEl.classList.remove('colab-df-spinner');\n",
              "      quickchartButtonEl.classList.add('colab-df-quickchart-complete');\n",
              "    }\n",
              "    (() => {\n",
              "      let quickchartButtonEl =\n",
              "        document.querySelector('#df-293befe7-9e9e-4327-be10-139e83111763 button');\n",
              "      quickchartButtonEl.style.display =\n",
              "        google.colab.kernel.accessAllowed ? 'block' : 'none';\n",
              "    })();\n",
              "  </script>\n",
              "</div>\n",
              "\n",
              "    </div>\n",
              "  </div>\n"
            ],
            "application/vnd.google.colaboratory.intrinsic+json": {
              "type": "dataframe"
            }
          },
          "metadata": {},
          "execution_count": 13
        }
      ]
    },
    {
      "cell_type": "code",
      "source": [
        "df.sample()"
      ],
      "metadata": {
        "colab": {
          "base_uri": "https://localhost:8080/",
          "height": 164
        },
        "id": "LSoTXyk_4RN9",
        "outputId": "8cb1d6ad-f08b-4d44-cd2f-60c4c2da3b1f"
      },
      "id": "LSoTXyk_4RN9",
      "execution_count": 15,
      "outputs": [
        {
          "output_type": "execute_result",
          "data": {
            "text/plain": [
              "      School_Year  Busbreakdown_ID           Run_Type Bus_No Route_Number  \\\n",
              "25135   2015-2016          1244960  Special Ed PM Run  40102         K804   \n",
              "\n",
              "            Reason Schools_Serviced             Occurred_On  \\\n",
              "25135  Won`t Start            20200  01/25/2016 04:55:00 PM   \n",
              "\n",
              "                   Created_On      Boro  ... How_Long_Delayed  \\\n",
              "25135  01/25/2016 04:57:00 PM  Brooklyn  ...              NaN   \n",
              "\n",
              "      Number_Of_Students_On_The_Bus  Has_Contractor_Notified_Schools  \\\n",
              "25135                             4                              Yes   \n",
              "\n",
              "      Has_Contractor_Notified_Parents Have_You_Alerted_OPT  \\\n",
              "25135                             Yes                   No   \n",
              "\n",
              "                  Informed_On Incident_Number         Last_Updated_On  \\\n",
              "25135  01/25/2016 04:57:00 PM             NaN  01/25/2016 04:57:19 PM   \n",
              "\n",
              "      Breakdown_or_Running_Late School_Age_or_PreK  \n",
              "25135                 Breakdown         School-Age  \n",
              "\n",
              "[1 rows x 21 columns]"
            ],
            "text/html": [
              "\n",
              "  <div id=\"df-63b74363-6890-4015-834f-2aabdcf9168f\" class=\"colab-df-container\">\n",
              "    <div>\n",
              "<style scoped>\n",
              "    .dataframe tbody tr th:only-of-type {\n",
              "        vertical-align: middle;\n",
              "    }\n",
              "\n",
              "    .dataframe tbody tr th {\n",
              "        vertical-align: top;\n",
              "    }\n",
              "\n",
              "    .dataframe thead th {\n",
              "        text-align: right;\n",
              "    }\n",
              "</style>\n",
              "<table border=\"1\" class=\"dataframe\">\n",
              "  <thead>\n",
              "    <tr style=\"text-align: right;\">\n",
              "      <th></th>\n",
              "      <th>School_Year</th>\n",
              "      <th>Busbreakdown_ID</th>\n",
              "      <th>Run_Type</th>\n",
              "      <th>Bus_No</th>\n",
              "      <th>Route_Number</th>\n",
              "      <th>Reason</th>\n",
              "      <th>Schools_Serviced</th>\n",
              "      <th>Occurred_On</th>\n",
              "      <th>Created_On</th>\n",
              "      <th>Boro</th>\n",
              "      <th>...</th>\n",
              "      <th>How_Long_Delayed</th>\n",
              "      <th>Number_Of_Students_On_The_Bus</th>\n",
              "      <th>Has_Contractor_Notified_Schools</th>\n",
              "      <th>Has_Contractor_Notified_Parents</th>\n",
              "      <th>Have_You_Alerted_OPT</th>\n",
              "      <th>Informed_On</th>\n",
              "      <th>Incident_Number</th>\n",
              "      <th>Last_Updated_On</th>\n",
              "      <th>Breakdown_or_Running_Late</th>\n",
              "      <th>School_Age_or_PreK</th>\n",
              "    </tr>\n",
              "  </thead>\n",
              "  <tbody>\n",
              "    <tr>\n",
              "      <th>25135</th>\n",
              "      <td>2015-2016</td>\n",
              "      <td>1244960</td>\n",
              "      <td>Special Ed PM Run</td>\n",
              "      <td>40102</td>\n",
              "      <td>K804</td>\n",
              "      <td>Won`t Start</td>\n",
              "      <td>20200</td>\n",
              "      <td>01/25/2016 04:55:00 PM</td>\n",
              "      <td>01/25/2016 04:57:00 PM</td>\n",
              "      <td>Brooklyn</td>\n",
              "      <td>...</td>\n",
              "      <td>NaN</td>\n",
              "      <td>4</td>\n",
              "      <td>Yes</td>\n",
              "      <td>Yes</td>\n",
              "      <td>No</td>\n",
              "      <td>01/25/2016 04:57:00 PM</td>\n",
              "      <td>NaN</td>\n",
              "      <td>01/25/2016 04:57:19 PM</td>\n",
              "      <td>Breakdown</td>\n",
              "      <td>School-Age</td>\n",
              "    </tr>\n",
              "  </tbody>\n",
              "</table>\n",
              "<p>1 rows × 21 columns</p>\n",
              "</div>\n",
              "    <div class=\"colab-df-buttons\">\n",
              "\n",
              "  <div class=\"colab-df-container\">\n",
              "    <button class=\"colab-df-convert\" onclick=\"convertToInteractive('df-63b74363-6890-4015-834f-2aabdcf9168f')\"\n",
              "            title=\"Convert this dataframe to an interactive table.\"\n",
              "            style=\"display:none;\">\n",
              "\n",
              "  <svg xmlns=\"http://www.w3.org/2000/svg\" height=\"24px\" viewBox=\"0 -960 960 960\">\n",
              "    <path d=\"M120-120v-720h720v720H120Zm60-500h600v-160H180v160Zm220 220h160v-160H400v160Zm0 220h160v-160H400v160ZM180-400h160v-160H180v160Zm440 0h160v-160H620v160ZM180-180h160v-160H180v160Zm440 0h160v-160H620v160Z\"/>\n",
              "  </svg>\n",
              "    </button>\n",
              "\n",
              "  <style>\n",
              "    .colab-df-container {\n",
              "      display:flex;\n",
              "      gap: 12px;\n",
              "    }\n",
              "\n",
              "    .colab-df-convert {\n",
              "      background-color: #E8F0FE;\n",
              "      border: none;\n",
              "      border-radius: 50%;\n",
              "      cursor: pointer;\n",
              "      display: none;\n",
              "      fill: #1967D2;\n",
              "      height: 32px;\n",
              "      padding: 0 0 0 0;\n",
              "      width: 32px;\n",
              "    }\n",
              "\n",
              "    .colab-df-convert:hover {\n",
              "      background-color: #E2EBFA;\n",
              "      box-shadow: 0px 1px 2px rgba(60, 64, 67, 0.3), 0px 1px 3px 1px rgba(60, 64, 67, 0.15);\n",
              "      fill: #174EA6;\n",
              "    }\n",
              "\n",
              "    .colab-df-buttons div {\n",
              "      margin-bottom: 4px;\n",
              "    }\n",
              "\n",
              "    [theme=dark] .colab-df-convert {\n",
              "      background-color: #3B4455;\n",
              "      fill: #D2E3FC;\n",
              "    }\n",
              "\n",
              "    [theme=dark] .colab-df-convert:hover {\n",
              "      background-color: #434B5C;\n",
              "      box-shadow: 0px 1px 3px 1px rgba(0, 0, 0, 0.15);\n",
              "      filter: drop-shadow(0px 1px 2px rgba(0, 0, 0, 0.3));\n",
              "      fill: #FFFFFF;\n",
              "    }\n",
              "  </style>\n",
              "\n",
              "    <script>\n",
              "      const buttonEl =\n",
              "        document.querySelector('#df-63b74363-6890-4015-834f-2aabdcf9168f button.colab-df-convert');\n",
              "      buttonEl.style.display =\n",
              "        google.colab.kernel.accessAllowed ? 'block' : 'none';\n",
              "\n",
              "      async function convertToInteractive(key) {\n",
              "        const element = document.querySelector('#df-63b74363-6890-4015-834f-2aabdcf9168f');\n",
              "        const dataTable =\n",
              "          await google.colab.kernel.invokeFunction('convertToInteractive',\n",
              "                                                    [key], {});\n",
              "        if (!dataTable) return;\n",
              "\n",
              "        const docLinkHtml = 'Like what you see? Visit the ' +\n",
              "          '<a target=\"_blank\" href=https://colab.research.google.com/notebooks/data_table.ipynb>data table notebook</a>'\n",
              "          + ' to learn more about interactive tables.';\n",
              "        element.innerHTML = '';\n",
              "        dataTable['output_type'] = 'display_data';\n",
              "        await google.colab.output.renderOutput(dataTable, element);\n",
              "        const docLink = document.createElement('div');\n",
              "        docLink.innerHTML = docLinkHtml;\n",
              "        element.appendChild(docLink);\n",
              "      }\n",
              "    </script>\n",
              "  </div>\n",
              "\n",
              "\n",
              "    </div>\n",
              "  </div>\n"
            ],
            "application/vnd.google.colaboratory.intrinsic+json": {
              "type": "dataframe"
            }
          },
          "metadata": {},
          "execution_count": 15
        }
      ]
    },
    {
      "cell_type": "code",
      "source": [
        "df.info()"
      ],
      "metadata": {
        "colab": {
          "base_uri": "https://localhost:8080/"
        },
        "id": "s-CXTg_JdSVc",
        "outputId": "a38eb871-3133-4bc0-bbc2-c4b16f9748a6"
      },
      "id": "s-CXTg_JdSVc",
      "execution_count": 63,
      "outputs": [
        {
          "output_type": "stream",
          "name": "stdout",
          "text": [
            "<class 'pandas.core.frame.DataFrame'>\n",
            "RangeIndex: 147972 entries, 0 to 147971\n",
            "Data columns (total 13 columns):\n",
            " #   Column                           Non-Null Count   Dtype\n",
            "---  ------                           --------------   -----\n",
            " 0   Run_Type                         147972 non-null  int64\n",
            " 1   Bus_No                           147972 non-null  int64\n",
            " 2   Route_Number                     147972 non-null  int64\n",
            " 3   Reason                           147972 non-null  int64\n",
            " 4   Schools_Serviced                 147972 non-null  int64\n",
            " 5   Boro                             147972 non-null  int64\n",
            " 6   Bus_Company_Name                 147972 non-null  int64\n",
            " 7   How_Long_Delayed                 147972 non-null  int64\n",
            " 8   Number_Of_Students_On_The_Bus    147972 non-null  int64\n",
            " 9   Has_Contractor_Notified_Schools  147972 non-null  int64\n",
            " 10  Has_Contractor_Notified_Parents  147972 non-null  int64\n",
            " 11  Have_You_Alerted_OPT             147972 non-null  int64\n",
            " 12  Breakdown_or_Running_Late        147972 non-null  int64\n",
            "dtypes: int64(13)\n",
            "memory usage: 14.7 MB\n"
          ]
        }
      ]
    },
    {
      "cell_type": "code",
      "source": [
        "df.describe()"
      ],
      "metadata": {
        "colab": {
          "base_uri": "https://localhost:8080/",
          "height": 300
        },
        "id": "ioCL_kgT4WN1",
        "outputId": "d937cd19-4dfa-4165-d1fe-25f3a46120fb"
      },
      "id": "ioCL_kgT4WN1",
      "execution_count": 16,
      "outputs": [
        {
          "output_type": "execute_result",
          "data": {
            "text/plain": [
              "       Busbreakdown_ID  Number_Of_Students_On_The_Bus\n",
              "count     1.479720e+05                  147972.000000\n",
              "mean      1.287779e+06                       3.590071\n",
              "std       4.324338e+04                      55.365859\n",
              "min       1.212681e+06                       0.000000\n",
              "25%       1.250438e+06                       0.000000\n",
              "50%       1.287844e+06                       0.000000\n",
              "75%       1.325191e+06                       4.000000\n",
              "max       1.362605e+06                    9007.000000"
            ],
            "text/html": [
              "\n",
              "  <div id=\"df-b634fc0a-a2be-46e2-8a41-df940c400a0d\" class=\"colab-df-container\">\n",
              "    <div>\n",
              "<style scoped>\n",
              "    .dataframe tbody tr th:only-of-type {\n",
              "        vertical-align: middle;\n",
              "    }\n",
              "\n",
              "    .dataframe tbody tr th {\n",
              "        vertical-align: top;\n",
              "    }\n",
              "\n",
              "    .dataframe thead th {\n",
              "        text-align: right;\n",
              "    }\n",
              "</style>\n",
              "<table border=\"1\" class=\"dataframe\">\n",
              "  <thead>\n",
              "    <tr style=\"text-align: right;\">\n",
              "      <th></th>\n",
              "      <th>Busbreakdown_ID</th>\n",
              "      <th>Number_Of_Students_On_The_Bus</th>\n",
              "    </tr>\n",
              "  </thead>\n",
              "  <tbody>\n",
              "    <tr>\n",
              "      <th>count</th>\n",
              "      <td>1.479720e+05</td>\n",
              "      <td>147972.000000</td>\n",
              "    </tr>\n",
              "    <tr>\n",
              "      <th>mean</th>\n",
              "      <td>1.287779e+06</td>\n",
              "      <td>3.590071</td>\n",
              "    </tr>\n",
              "    <tr>\n",
              "      <th>std</th>\n",
              "      <td>4.324338e+04</td>\n",
              "      <td>55.365859</td>\n",
              "    </tr>\n",
              "    <tr>\n",
              "      <th>min</th>\n",
              "      <td>1.212681e+06</td>\n",
              "      <td>0.000000</td>\n",
              "    </tr>\n",
              "    <tr>\n",
              "      <th>25%</th>\n",
              "      <td>1.250438e+06</td>\n",
              "      <td>0.000000</td>\n",
              "    </tr>\n",
              "    <tr>\n",
              "      <th>50%</th>\n",
              "      <td>1.287844e+06</td>\n",
              "      <td>0.000000</td>\n",
              "    </tr>\n",
              "    <tr>\n",
              "      <th>75%</th>\n",
              "      <td>1.325191e+06</td>\n",
              "      <td>4.000000</td>\n",
              "    </tr>\n",
              "    <tr>\n",
              "      <th>max</th>\n",
              "      <td>1.362605e+06</td>\n",
              "      <td>9007.000000</td>\n",
              "    </tr>\n",
              "  </tbody>\n",
              "</table>\n",
              "</div>\n",
              "    <div class=\"colab-df-buttons\">\n",
              "\n",
              "  <div class=\"colab-df-container\">\n",
              "    <button class=\"colab-df-convert\" onclick=\"convertToInteractive('df-b634fc0a-a2be-46e2-8a41-df940c400a0d')\"\n",
              "            title=\"Convert this dataframe to an interactive table.\"\n",
              "            style=\"display:none;\">\n",
              "\n",
              "  <svg xmlns=\"http://www.w3.org/2000/svg\" height=\"24px\" viewBox=\"0 -960 960 960\">\n",
              "    <path d=\"M120-120v-720h720v720H120Zm60-500h600v-160H180v160Zm220 220h160v-160H400v160Zm0 220h160v-160H400v160ZM180-400h160v-160H180v160Zm440 0h160v-160H620v160ZM180-180h160v-160H180v160Zm440 0h160v-160H620v160Z\"/>\n",
              "  </svg>\n",
              "    </button>\n",
              "\n",
              "  <style>\n",
              "    .colab-df-container {\n",
              "      display:flex;\n",
              "      gap: 12px;\n",
              "    }\n",
              "\n",
              "    .colab-df-convert {\n",
              "      background-color: #E8F0FE;\n",
              "      border: none;\n",
              "      border-radius: 50%;\n",
              "      cursor: pointer;\n",
              "      display: none;\n",
              "      fill: #1967D2;\n",
              "      height: 32px;\n",
              "      padding: 0 0 0 0;\n",
              "      width: 32px;\n",
              "    }\n",
              "\n",
              "    .colab-df-convert:hover {\n",
              "      background-color: #E2EBFA;\n",
              "      box-shadow: 0px 1px 2px rgba(60, 64, 67, 0.3), 0px 1px 3px 1px rgba(60, 64, 67, 0.15);\n",
              "      fill: #174EA6;\n",
              "    }\n",
              "\n",
              "    .colab-df-buttons div {\n",
              "      margin-bottom: 4px;\n",
              "    }\n",
              "\n",
              "    [theme=dark] .colab-df-convert {\n",
              "      background-color: #3B4455;\n",
              "      fill: #D2E3FC;\n",
              "    }\n",
              "\n",
              "    [theme=dark] .colab-df-convert:hover {\n",
              "      background-color: #434B5C;\n",
              "      box-shadow: 0px 1px 3px 1px rgba(0, 0, 0, 0.15);\n",
              "      filter: drop-shadow(0px 1px 2px rgba(0, 0, 0, 0.3));\n",
              "      fill: #FFFFFF;\n",
              "    }\n",
              "  </style>\n",
              "\n",
              "    <script>\n",
              "      const buttonEl =\n",
              "        document.querySelector('#df-b634fc0a-a2be-46e2-8a41-df940c400a0d button.colab-df-convert');\n",
              "      buttonEl.style.display =\n",
              "        google.colab.kernel.accessAllowed ? 'block' : 'none';\n",
              "\n",
              "      async function convertToInteractive(key) {\n",
              "        const element = document.querySelector('#df-b634fc0a-a2be-46e2-8a41-df940c400a0d');\n",
              "        const dataTable =\n",
              "          await google.colab.kernel.invokeFunction('convertToInteractive',\n",
              "                                                    [key], {});\n",
              "        if (!dataTable) return;\n",
              "\n",
              "        const docLinkHtml = 'Like what you see? Visit the ' +\n",
              "          '<a target=\"_blank\" href=https://colab.research.google.com/notebooks/data_table.ipynb>data table notebook</a>'\n",
              "          + ' to learn more about interactive tables.';\n",
              "        element.innerHTML = '';\n",
              "        dataTable['output_type'] = 'display_data';\n",
              "        await google.colab.output.renderOutput(dataTable, element);\n",
              "        const docLink = document.createElement('div');\n",
              "        docLink.innerHTML = docLinkHtml;\n",
              "        element.appendChild(docLink);\n",
              "      }\n",
              "    </script>\n",
              "  </div>\n",
              "\n",
              "\n",
              "<div id=\"df-0571c7df-beb0-40e9-a681-b8c35ca21916\">\n",
              "  <button class=\"colab-df-quickchart\" onclick=\"quickchart('df-0571c7df-beb0-40e9-a681-b8c35ca21916')\"\n",
              "            title=\"Suggest charts\"\n",
              "            style=\"display:none;\">\n",
              "\n",
              "<svg xmlns=\"http://www.w3.org/2000/svg\" height=\"24px\"viewBox=\"0 0 24 24\"\n",
              "     width=\"24px\">\n",
              "    <g>\n",
              "        <path d=\"M19 3H5c-1.1 0-2 .9-2 2v14c0 1.1.9 2 2 2h14c1.1 0 2-.9 2-2V5c0-1.1-.9-2-2-2zM9 17H7v-7h2v7zm4 0h-2V7h2v10zm4 0h-2v-4h2v4z\"/>\n",
              "    </g>\n",
              "</svg>\n",
              "  </button>\n",
              "\n",
              "<style>\n",
              "  .colab-df-quickchart {\n",
              "      --bg-color: #E8F0FE;\n",
              "      --fill-color: #1967D2;\n",
              "      --hover-bg-color: #E2EBFA;\n",
              "      --hover-fill-color: #174EA6;\n",
              "      --disabled-fill-color: #AAA;\n",
              "      --disabled-bg-color: #DDD;\n",
              "  }\n",
              "\n",
              "  [theme=dark] .colab-df-quickchart {\n",
              "      --bg-color: #3B4455;\n",
              "      --fill-color: #D2E3FC;\n",
              "      --hover-bg-color: #434B5C;\n",
              "      --hover-fill-color: #FFFFFF;\n",
              "      --disabled-bg-color: #3B4455;\n",
              "      --disabled-fill-color: #666;\n",
              "  }\n",
              "\n",
              "  .colab-df-quickchart {\n",
              "    background-color: var(--bg-color);\n",
              "    border: none;\n",
              "    border-radius: 50%;\n",
              "    cursor: pointer;\n",
              "    display: none;\n",
              "    fill: var(--fill-color);\n",
              "    height: 32px;\n",
              "    padding: 0;\n",
              "    width: 32px;\n",
              "  }\n",
              "\n",
              "  .colab-df-quickchart:hover {\n",
              "    background-color: var(--hover-bg-color);\n",
              "    box-shadow: 0 1px 2px rgba(60, 64, 67, 0.3), 0 1px 3px 1px rgba(60, 64, 67, 0.15);\n",
              "    fill: var(--button-hover-fill-color);\n",
              "  }\n",
              "\n",
              "  .colab-df-quickchart-complete:disabled,\n",
              "  .colab-df-quickchart-complete:disabled:hover {\n",
              "    background-color: var(--disabled-bg-color);\n",
              "    fill: var(--disabled-fill-color);\n",
              "    box-shadow: none;\n",
              "  }\n",
              "\n",
              "  .colab-df-spinner {\n",
              "    border: 2px solid var(--fill-color);\n",
              "    border-color: transparent;\n",
              "    border-bottom-color: var(--fill-color);\n",
              "    animation:\n",
              "      spin 1s steps(1) infinite;\n",
              "  }\n",
              "\n",
              "  @keyframes spin {\n",
              "    0% {\n",
              "      border-color: transparent;\n",
              "      border-bottom-color: var(--fill-color);\n",
              "      border-left-color: var(--fill-color);\n",
              "    }\n",
              "    20% {\n",
              "      border-color: transparent;\n",
              "      border-left-color: var(--fill-color);\n",
              "      border-top-color: var(--fill-color);\n",
              "    }\n",
              "    30% {\n",
              "      border-color: transparent;\n",
              "      border-left-color: var(--fill-color);\n",
              "      border-top-color: var(--fill-color);\n",
              "      border-right-color: var(--fill-color);\n",
              "    }\n",
              "    40% {\n",
              "      border-color: transparent;\n",
              "      border-right-color: var(--fill-color);\n",
              "      border-top-color: var(--fill-color);\n",
              "    }\n",
              "    60% {\n",
              "      border-color: transparent;\n",
              "      border-right-color: var(--fill-color);\n",
              "    }\n",
              "    80% {\n",
              "      border-color: transparent;\n",
              "      border-right-color: var(--fill-color);\n",
              "      border-bottom-color: var(--fill-color);\n",
              "    }\n",
              "    90% {\n",
              "      border-color: transparent;\n",
              "      border-bottom-color: var(--fill-color);\n",
              "    }\n",
              "  }\n",
              "</style>\n",
              "\n",
              "  <script>\n",
              "    async function quickchart(key) {\n",
              "      const quickchartButtonEl =\n",
              "        document.querySelector('#' + key + ' button');\n",
              "      quickchartButtonEl.disabled = true;  // To prevent multiple clicks.\n",
              "      quickchartButtonEl.classList.add('colab-df-spinner');\n",
              "      try {\n",
              "        const charts = await google.colab.kernel.invokeFunction(\n",
              "            'suggestCharts', [key], {});\n",
              "      } catch (error) {\n",
              "        console.error('Error during call to suggestCharts:', error);\n",
              "      }\n",
              "      quickchartButtonEl.classList.remove('colab-df-spinner');\n",
              "      quickchartButtonEl.classList.add('colab-df-quickchart-complete');\n",
              "    }\n",
              "    (() => {\n",
              "      let quickchartButtonEl =\n",
              "        document.querySelector('#df-0571c7df-beb0-40e9-a681-b8c35ca21916 button');\n",
              "      quickchartButtonEl.style.display =\n",
              "        google.colab.kernel.accessAllowed ? 'block' : 'none';\n",
              "    })();\n",
              "  </script>\n",
              "</div>\n",
              "\n",
              "    </div>\n",
              "  </div>\n"
            ],
            "application/vnd.google.colaboratory.intrinsic+json": {
              "type": "dataframe",
              "summary": "{\n  \"name\": \"df\",\n  \"rows\": 8,\n  \"fields\": [\n    {\n      \"column\": \"Busbreakdown_ID\",\n      \"properties\": {\n        \"dtype\": \"number\",\n        \"std\": 554377.8956547328,\n        \"min\": 43243.38216372064,\n        \"max\": 1362605.0,\n        \"num_unique_values\": 8,\n        \"samples\": [\n          1287778.9169707783,\n          1287843.5,\n          147972.0\n        ],\n        \"semantic_type\": \"\",\n        \"description\": \"\"\n      }\n    },\n    {\n      \"column\": \"Number_Of_Students_On_The_Bus\",\n      \"properties\": {\n        \"dtype\": \"number\",\n        \"std\": 51953.37186493656,\n        \"min\": 0.0,\n        \"max\": 147972.0,\n        \"num_unique_values\": 6,\n        \"samples\": [\n          147972.0,\n          3.590071094531398,\n          9007.0\n        ],\n        \"semantic_type\": \"\",\n        \"description\": \"\"\n      }\n    }\n  ]\n}"
            }
          },
          "metadata": {},
          "execution_count": 16
        }
      ]
    },
    {
      "cell_type": "code",
      "source": [
        "fig = fisize =(8,10)\n",
        "fig = px.box(df,x='Number_Of_Students_On_The_Bus')\n",
        "fig.show()"
      ],
      "metadata": {
        "colab": {
          "base_uri": "https://localhost:8080/",
          "height": 542
        },
        "id": "wLALeMPS4fu-",
        "outputId": "ce65bc01-1578-4bfc-b3f0-632d601020cc"
      },
      "id": "wLALeMPS4fu-",
      "execution_count": 17,
      "outputs": [
        {
          "output_type": "display_data",
          "data": {
            "text/html": [
              "<html>\n",
              "<head><meta charset=\"utf-8\" /></head>\n",
              "<body>\n",
              "    <div>            <script src=\"https://cdnjs.cloudflare.com/ajax/libs/mathjax/2.7.5/MathJax.js?config=TeX-AMS-MML_SVG\"></script><script type=\"text/javascript\">if (window.MathJax && window.MathJax.Hub && window.MathJax.Hub.Config) {window.MathJax.Hub.Config({SVG: {font: \"STIX-Web\"}});}</script>                <script type=\"text/javascript\">window.PlotlyConfig = {MathJaxConfig: 'local'};</script>\n",
              "        <script charset=\"utf-8\" src=\"https://cdn.plot.ly/plotly-2.24.1.min.js\"></script>                <div id=\"ccdb81d8-9a01-4dba-b16c-a6ad821b445f\" class=\"plotly-graph-div\" style=\"height:525px; width:100%;\"></div>            <script type=\"text/javascript\">                                    window.PLOTLYENV=window.PLOTLYENV || {};                                    if (document.getElementById(\"ccdb81d8-9a01-4dba-b16c-a6ad821b445f\")) {                    Plotly.newPlot(                        \"ccdb81d8-9a01-4dba-b16c-a6ad821b445f\",                        [{\"alignmentgroup\":\"True\",\"hovertemplate\":\"Number_Of_Students_On_The_Bus=%{x}\\u003cextra\\u003e\\u003c\\u002fextra\\u003e\",\"legendgroup\":\"\",\"marker\":{\"color\":\"#636efa\"},\"name\":\"\",\"notched\":false,\"offsetgroup\":\"\",\"orientation\":\"h\",\"showlegend\":false,\"x\":[5,3,12,11,12,3,3,4,0,0,3,0,3,0,4,2,1,6,0,0,4,0,6,2,0,1,0,0,15,4,2,0,18,2,5,0,0,0,8,2,0,0,4,3,0,0,7,15,13,0,5,4,3,5,0,0,3,15,1,4,0,0,4,0,1,0,3,2,2,6,0,0,0,0,4,0,15,0,8,2,2,0,0,0,0,5,0,0,20,0,9,2,2,4,4,0,1,0,1,0,18,0,0,0,6,8,0,0,0,0,0,2,0,0,0,2,14,2,5,5,3,0,18,0,1,0,4,2,0,3,1,0,23,0,0,4,0,3,3,0,2,5,0,3,0,8,4,10,0,3,8,0,6,2,7,2,5,2,2,0,2,50,2,3,3,4,4,8,13,1,0,4,4,3,0,3,22,4,5,0,0,0,4,0,0,0,0,1,5,0,8,2,10,0,2,6,3,0,4,5,6,6,12,1,3,0,1,0,15,1,0,0,0,0,3,12,0,1,1,0,12,5,2,8,15,0,0,0,0,20,0,11,0,3,0,0,3,15,0,0,0,0,0,0,5,22,1,3,7,0,5,0,0,0,3,1,1,1,1,14,0,10,0,0,7,2,0,4,0,0,4,5,1,2,12,0,3,14,10,4,7,0,0,20,5,7,0,5,0,2,8,2,0,5,0,0,5,0,1492,0,7,12,12,12,4,0,8,2,3,6,7,0,0,6,7,5,2,0,3,0,2,2,0,0,2,0,8,10,0,0,5,0,4,3,9,0,0,8,0,4,0,2,0,15,1,0,0,12,0,0,1,1,3,2,10,0,12,4,0,0,6,2,2,2,10,1,0,0,0,0,11,0,5,0,2,0,10,3,0,13,2,2,9,2,7,0,0,10,0,2,1,8,0,4,2,5,7,4,11,6,2,20,0,6,0,8,0,0,7,0,3,5,9,19,0,1,5,12,0,1,3,0,11,0,0,5,5,0,1,0,0,0,5,4,0,0,4,8,2,0,0,0,5,0,7,6,0,0,0,0,9,5,1,0,6,0,0,9,2,3,0,0,4,0,5,2,6,0,5,5,7,2,0,0,9,2,15,2,2,0,2,8,0,0,7,1,3,8,0,0,0,0,3,4,3,2,0,0,0,0,5,0,3,1,6,3,6,2,0,3,3,0,6,0,0,0,3,7,0,3,3,0,6,2,2,0,0,0,5,3,0,7,0,0,0,0,6,3,0,0,0,0,5,1,6,4,9,3,0,5,0,0,12,0,0,2,0,7,0,2,3,4,10,0,0,5,2,0,6,6,0,1,3,0,0,9,1,0,5,13,4,8,10,2,9,2,7,7,2,8,4,0,0,1,5,0,0,1,0,1,0,5,4,0,0,0,0,8,7,10,0,5,6,2,5,0,0,5,9,0,2,2,0,1,5,0,0,0,0,5,0,0,0,8,6,0,0,0,1,0,2,2,0,0,0,0,4,0,0,0,5,0,0,5,0,11,0,0,7,0,5,3,0,0,1,0,0,0,2,3,0,0,0,1,2,0,0,0,10,8,4,0,0,0,1,0,0,0,0,7,0,0,0,0,0,0,0,0,8,3,0,25,0,9,3,0,5,0,2,0,0,10,0,0,0,0,2,0,0,5,0,0,6,1,0,0,0,0,0,5,6,1,0,17,0,12,0,0,0,0,0,15,0,6,6,13,0,22,0,11,1,0,11,3,26,3,6,0,2,11,8,0,5,10,7,9,4,2,2,3,2,15,4,2,2,3,0,0,5,10,3,0,0,0,0,8,0,2,0,8,0,0,0,1,0,3,1,0,18,0,44,0,0,3,1,0,3,0,3,0,0,0,5,0,27,0,0,0,1,0,0,0,0,0,0,0,0,0,3,0,0,0,0,0,0,0,0,0,0,0,8,0,0,0,0,2,2,0,0,0,3,7,4,4,1,0,0,0,3,0,2,0,0,0,8,5,0,0,3,0,10,8,0,12,0,2,0,0,0,0,0,3,2,0,2,2,0,0,0,0,0,0,0,4,0,6,0,0,8,2,0,2,0,0,0,0,8,4,5,0,0,0,0,0,0,5,0,1,0,1,1,0,0,4,0,0,0,0,5,2,3,0,0,6,6,0,1,0,2,0,0,3,8,0,0,0,4,0,0,0,0,3,8,0,0,3,0,1,1,0,0,1,0,8,0,0,12,4,0,3,0,0,0,0,0,0,1,0,1,3,3,5,5,2,12,2,0,0,7,3,0,1,6,0,6,0,3,2,1,2,0,4,0,2,0,0,7,0,0,6,3,0,0,10,0,25,0,0,0,1,0,2,0,1,2,3,0,0,1,0,0,0,1,1,0,7,1,0,3,1,0,0,5,0,6,2,0,10,2,8,0,3,0,2,5,1,0,4,0,0,3,6,0,13,11,0,2,8,0,0,7,4,5,2,0,3,0,2,0,1,1,0,0,4,8,2,4,8,5,0,3,0,0,2,0,5,0,0,0,1,0,0,5,0,0,4,6,4,0,0,0,0,0,5,0,0,0,0,0,12,0,0,0,0,1,1,0,1,2,2,0,0,0,0,3,0,10,4,1,1,5,0,0,2,0,4,2,0,2,0,0,0,0,0,12,0,11,7,0,0,0,5,0,0,0,0,0,0,2,3,0,4,2,3,0,2,4,10,0,0,0,3,0,0,4,1,0,9,0,0,1,4,20,0,0,0,1,5,5,15,0,2,0,0,0,0,1,3,0,3,4,0,15,0,5,10,4,2,0,0,0,4,0,3,0,3,0,0,0,0,3,5,0,2,3,5,13,6,0,3,0,5,0,4,0,1,0,0,0,0,0,2,4,7,0,8,0,7,0,0,12,5,10,0,0,0,4,15,6,0,6,0,14,0,0,6,3,0,5,3,1,6,12,5,0,0,0,0,6,0,0,8,6,2,1,0,3,0,0,5,0,0,0,3,8,6,7,0,0,0,0,6,2,3,7,0,0,1,6,4,0,0,5,6,7,0,0,0,3,5,0,0,0,0,4,2,9,0,0,8,5,0,0,8,0,9,2,1,13,0,4,0,6,0,1,0,0,0,1,0,1,0,0,1,0,5,2,1,0,5,4,0,0,0,0,0,4,0,0,2,3,10,0,4,0,3,11,0,6,0,5,10,5,12,0,5,3,4,0,0,2,7,6,4,2,0,0,0,0,0,0,6,3,0,2,0,2,0,0,0,8,7,6,0,0,0,3,5,2,0,0,0,0,0,4,5,7,0,0,5,0,5,0,3,8,0,7,6,0,0,0,1,0,10,5,0,0,1,0,0,6,3,13,0,3,3,0,4,6,2,3,1,1,0,0,12,8,0,2,10,2,8,3,5,0,5,6,5,0,0,0,9,0,7,0,5,12,5,4,0,0,0,4,0,0,7,0,0,0,5,0,0,3,4,0,14,0,7,0,0,3,0,0,3,0,0,0,2,0,0,2,2,3,8,5,2,5,6,3,5,0,6,3,0,18,2,1,0,0,5,6,0,6,4,0,0,11,12,0,0,6,0,4,12,0,3,7,2,0,3,3,10,2,0,0,10,0,0,0,2,1,4,0,0,0,11,2,0,0,3,6,0,11,8,12,3,2,14,0,7,13,3,2,3,6,3,4,0,3,5,0,0,3,4,0,4,0,12,2,0,4,1,3,0,8,0,2,0,3,0,4,0,5,8,1,0,0,14,5,2,4,11,3,3,0,1,3,3,3,5,5,0,0,0,0,10,5,5,4,5,0,4,10,0,6,10,0,1,1,11,0,5,8,0,8,1,2,0,3,6,3,2,7,1,2,0,1,1,0,0,4,0,5,5,10,11,0,14,0,2,8,4,1,1,1,0,9,3,0,5,0,0,2,0,2,0,0,3,0,0,8,0,0,0,0,0,0,1,0,1,8,3,0,0,0,2,0,0,0,0,0,3,0,6,0,0,0,0,1,0,0,1,0,2,0,0,5,0,1,1,1,0,0,0,5,3,2,0,6,0,6,0,0,0,0,2,0,2,0,0,0,4,2,0,3,3,8,31,0,0,0,0,0,0,4,0,0,0,8,0,3,0,6,12,0,0,1,4,0,1,14,3,7,0,8,0,7,5,10,10,10,5,10,5,0,3,5,1,0,0,8,0,0,4,3,1,3,10,1,7,6,2,8,0,0,0,0,7,0,0,0,0,0,3,0,1,7,1,1,6,0,1424,2,5,3,8,11,8,0,5,0,0,0,0,11,0,4,0,0,0,0,0,0,5,0,18,0,5,1,0,0,0,4,0,0,0,0,0,2,25,0,0,0,3,0,0,0,1,0,4,0,14,3,0,7,0,3,0,0,1,0,0,0,0,3,0,0,0,0,2,0,0,0,0,0,0,1,2,0,1,0,0,2,7,4,6,0,2,3,5,15,0,0,1,0,0,0,5,2,0,0,0,0,0,0,0,3,10,1,8,0,1,0,1,1,0,0,3,0,2,2,3,15,6,4,3,3,0,1,1,9,2,7,1,3,2,4,0,0,2,2,4,3,6,3,0,0,1,9,3,3,0,8,0,0,3,1,0,0,10,0,0,1,1,20,0,0,0,5,0,0,7,0,0,0,5,0,0,0,4,0,4,4,4,0,0,0,15,2,0,2,3,3,1,13,11,2,8,3,0,10,2,1,0,0,0,5,1,6,8,0,5,0,0,3,0,8,5,0,0,2,10,10,4,5,0,6,0,5,0,0,0,2,15,0,4,3,6,27,0,5,5,14,0,0,0,4,0,3,0,16,7,0,3,0,0,12,1,0,0,19,18,2,0,9,0,0,0,0,3,31,0,10,0,7,14,9,0,0,5,0,3,26,0,0,7,0,1,0,0,0,0,2,1,0,6,15,0,0,0,4,0,3,3,0,4,2,0,0,0,3,4,6,0,5,0,3,5,3,0,0,0,2,7,0,0,9,0,0,5,0,2,0,5,4,0,8,0,9,4,0,5,3,4,8,5,0,0,0,2,0,3,19,1,0,2,1,0,30,0,3,6,0,4,2,0,10,4,0,0,9,0,9,0,12,0,5,1,25,0,0,5,10,0,2,3,0,6,2,12,0,4,1,4,8,8,0,2,1,3,4,1,10,0,0,0,17,5,0,3,4,3,2,6,9,0,0,4,1,0,7,0,10,0,1,4,6,0,2,11,0,3,0,14,5,0,0,2,12,2,4,0,3,5,1,11,0,0,6,2,2,0,6,1,0,3,0,7,1,0,0,1,0,14,0,0,5,11,4,1,1,0,8,6,20,5,2,2,6,2,1,2,5,2,4,6,5,0,2,4,0,2,5,11,2,3,7,0,0,8,3,1,1,0,5,0,9,0,0,10,0,0,17,0,0,0,4,10,7,1,0,6,11,4,0,13,0,12,4,1,0,8,0,0,0,0,2,6,5,0,5,3,5,0,0,0,9,13,3,12,8,0,4,1,0,7,4,4,4,0,2,0,6,0,4,5,6,4,0,0,2,0,8,0,0,0,4,7,6,0,5,3,3,3,6,3,1,0,11,0,15,0,0,11,3,2,0,1,9,0,8,0,0,15,0,7,17,0,4,3,0,1,0,8,0,0,0,0,0,9,10,0,5,8,0,0,2,1,0,6,4,0,0,0,3,1,0,0,2,10,0,0,0,5,5,0,0,0,4,0,0,0,8,3,0,5,0,9,0,0,0,1,15,0,0,0,0,2,2,0,4,0,0,0,5,0,0,0,8,1,0,3,0,0,0,3,0,0,0,0,0,4,0,30,4,0,5,0,3,0,0,0,0,1,2,0,0,0,0,0,0,10,0,0,5,0,7,0,5,5,0,5,0,10,4,0,7,5,5,13,0,0,0,11,2,0,0,0,11,0,10,0,3,6,0,0,0,1,6,2,8,2,4,0,0,1,0,1,0,1,12,0,0,0,10,0,0,3,0,0,4,0,0,0,4,9,0,0,0,7,0,0,3,0,2,15,1,8,4,0,0,0,2,2,0,1,0,2,0,3,0,6,0,7,0,7,0,0,0,0,0,15,0,0,0,6,3,0,0,9,0,4,6,0,6,4,0,0,0,0,3,3,1,0,6,0,0,9,0,46,0,4,16,0,0,0,6,3,0,6,5,0,0,0,0,0,3,8,0,4,2,11,0,5,0,0,6,0,0,1,0,0,2,0,0,4,0,0,2,0,7,0,6,6,7,0,0,4,0,5,3,0,0,0,0,0,3,4,0,0,0,0,5,0,0,6,0,0,0,0,0,5,0,8,0,0,8,0,3,0,0,0,0,0,2,0,0,3,8,1,15,0,2,7,0,0,0,207,1,7,0,0,0,0,0,0,0,4,0,0,0,0,7,0,3,0,0,0,0,1,2,2,1,0,0,1,0,0,0,4,0,0,0,2,0,2,0,0,6,0,0,102,2,2,0,0,0,0,0,2,0,0,2,3,0,2,0,6,0,5,0,0,0,0,3,0,0,0,1,0,0,1,1,0,3,1,6,2,0,0,0,0,3,0,1,3,3,2,3,0,7,0,8,0,1,2,0,1,0,0,0,0,3,9,0,4,5,0,0,0,0,2,2,0,2,4,0,0,8,0,0,0,2,0,0,2,0,0,8,0,0,0,0,0,0,0,3,0,2,0,0,0,3,0,2,0,3,2,0,1,0,0,2,2,0,2,4,3,0,0,8,1,0,0,1,6,0,0,0,0,0,0,0,4,2,2,3,6,0,0,0,5,3,0,0,5,0,4,0,0,5,0,0,0,0,1,0,2,0,0,3,0,0,6,3,6,0,4,5,6,4,5,1,2,3,0,0,6,2,5,4,5,0,5,1,0,0,0,2,0,0,5,4,1,0,6,8,0,11,0,10,3,0,4,0,0,5,10,7,0,2,3,0,0,0,7,1,4,0,0,9,0,0,1,2,3,0,2,8,0,5,0,1,0,6,2,0,3,7,1,10,0,0,0,4,0,3,0,3,2,2,5,0,3,12,8,1011,3,21,0,5,0,0,0,6,0,0,5,5,7,0,3,0,5,12,0,4,4,4,5,7,6,0,10,13,0,0,4,1,0,0,0,5,3,13,0,6,6,9,0,3,8,0,4,0,8,0,3,0,4,8,3,5,8,2,14,0,0,0,10,9,6,8,0,0,9,2,3,1401,3,0,0,7,3,6,0,0,0,4,7,2,10,19,0,0,1,0,6,0,0,0,5,3,4,8,0,6,19,1,0,9,15,0,1,0,1,0,6,0,5,1,5,30,2,3,4,4,2,8,1,7,7,15,6,2,1,0,2,8,8,3,0,1,0,10,1,3,0,4,3,1,0,8,15,0,10,0,2,0,1,5,5,3,8,4,0,6,0,13,3,11,0,0,4,0,5,7,6,0,0,0,2,0,2,5,8,12,1,4,3,4,2,11,6,2,2,8,6,0,14,0,4,9,10,0,0,5,1,1,3,28,8,14,4,0,1,5,2,6,0,0,5,0,2,0,4,2,2,3,2,5,0,0,12,18,0,7,0,4,0,17,0,0,2,0,10,0,22,2,0,0,3,9,1,0,1,20,4,5,3,3,8,1,4,0,4,6,0,0,0,7,0,0,4,9,0,0,1,2,0,0,0,2,18,8,3,2,2,0,0,2,3,1,12,0,2,0,11,2,15,0,0,0,2,8,0,2,3,3,0,13,0,0,0,3,1,0,11,9,0,1,25,0,5,0,5,20,0,3,28,2,0,3,11,8,5,2,0,0,4,0,0,5,13,3,0,0,7,0,1,25,0,8,0,5,0,0,6,8,0,4,0,0,5,9,0,0,0,0,7,6,3,20,2,10,4,0,0,3,5,0,4,0,1,0,0,3,0,0,4,3,3,0,0,0,0,0,0,3,2,0,0,0,4,0,3,0,0,2,4,6,0,0,0,0,2,0,8,7,2,3,0,0,1,0,6,0,0,0,12,0,19,0,4,0,0,0,1,0,0,3,3,2,4,6,0,5,0,0,13,0,7,0,0,9,0,0,10,7,6,10,1,13,0,0,0,5,0,0,0,5,0,6,0,0,0,0,0,3,0,0,0,0,0,2,2,4,0,0,0,3,4,0,1,0,0,0,6,0,2,2,3,15,0,5,0,6,0,0,1,0,4,0,2,0,0,0,6,0,0,0,0,0,0,0,0,0,0,0,0,2,0,4,5,33,0,7,1,7,2,8,2,0,2,3,0,0,3,2,2,0,8,0,0,18,8,0,0,1,2,0,0,0,4,0,2,0,3,0,0,0,0,0,2,0,9,7,0,0,0,1,0,0,0,5,0,0,0,7,0,0,3,0,0,0,0,0,0,6,0,0,0,0,4,0,0,0,3,0,9,0,1,0,5,0,0,0,0,0,0,7,4,0,0,13,0,9,0,6,6,0,0,0,0,2,8,0,0,23,0,0,8,0,0,0,4,2,1,0,3,5,6,3,5,10,0,0,0,2,2,0,0,0,0,4,0,0,0,3,0,0,0,5,0,1,1,0,3,1,0,0,0,7,8,0,0,0,0,0,6,0,4,2,2,0,0,0,0,4,0,1,0,0,0,5,3,0,1,7,0,0,4,1,0,2,4,9,1,5,0,5,2,1,6,0,0,0,4,0,0,0,3,0,0,0,11,0,6,0,0,0,0,0,0,0,0,5,0,0,5,2,2,0,0,0,14,2,6,0,0,1,0,2,1,0,0,3,0,3,5,0,0,2,0,4,5,0,5,0,2,0,2,0,0,0,2,2,0,0,3,3,5,4,0,0,1,1,5,0,2,0,2,8,5,5,0,7,0,7,0,15,8,6,0,7,3,0,17,0,1,9,0,0,0,0,0,0,2,7,3,10,0,4,0,0,2,0,0,0,2,0,0,0,2,0,0,9,1,2,1,4,10,6,2,0,3,0,6,1,0,2,4,0,0,6,0,0,2,4,0,4,3,2,7,2,0,0,6,6,7,1,8,12,6,3,4,10,3,8,16,0,0,8,5,9,3,7,16,0,8,0,0,4,5,1,4,0,3,0,3,0,0,10,0,12,2,2,0,3,3,7,5,3,5,0,0,5,0,4,3,1,4,0,5,3,4,0,7,5,0,3,8,2,0,20,10,5,5,5,1,3,2,4,6,6,20,3,6,5,2,0,2,1,4,3,5,6,4,12,0,8,0,5,5,6,0,0,7,2,3,6,7,4,6,0,3,3,5,3,0,4,5,4,11,11,3,3,5,2,9,7,8,0,1,3,3,3,0,1371,0,0,3,0,14,13,37,2,8,0,2,2,0,5,1,4,5,0,8,0,3,14,0,5,10,0,7,3,0,0,0,5,7,10,4,0,0,76,0,0,10,4,5,0,12,0,2,2,2,5,0,7,2,0,0,10,0,0,3,52,40,0,2,2,10,0,9,0,0,6,7,12,0,12,0,2,0,9,5,4,3,13,0,1,0,0,0,0,3,0,6,1,6,3,2,6,6,5,2,0,6,3,8,11,0,12,0,3,3,6,3,13,0,0,3,6,7,3,0,2,0,6,3,9,8,9,5,5,0,5,2,5,10,8,8,0,2,9,0,10,5,0,3,0,6,7,0,5,3,3,8,17,0,2,0,6,0,6,9,3,1,7,0,0,1,4,2,0,3,5,2,0,0,1,3,4,0,5,0,5,6,2,7,4,5,5,2,3,6,1,5,0,0,10,2,4,5,17,2,8,0,0,2,2,1,0,0,0,0,9,4,12,10,1,3,1,0,9,0,0,0,10,1,2,0,7,3,0,3,0,0,5,0,2,1,10,4,12,1,0,7,0,3,0,0,0,2,7,0,4,0,3,0,0,4,12,2,0,0,5,3,0,2,0,2,0,0,6,0,0,0,3,5,0,0,5,3,0,8,4,5,1,0,0,4,0,0,4,0,30,1,0,2,3,7,5,5,0,1,3,22,0,0,0,0,4,5,3,11,0,0,4,0,0,3,0,2,0,0,1,20,8,2,0,3,3,0,2,11,10,6,1,0,0,0,13,0,6,11,0,0,9,6,13,0,2,11,2,3,2,2,0,1,0,0,1,0,0,4,1,11,0,7,6,4,20,5,2,0,0,4,0,2,0,4,3,3,8,3,1,0,7,4,0,0,0,0,3,0,0,0,0,0,0,0,2,10,4,0,0,0,5,0,0,0,0,0,4,0,0,8,0,0,10,0,0,4,0,0,4,0,0,0,0,0,0,0,0,5,0,8,0,0,0,12,0,8,1,4,0,2,1,4,0,0,0,0,3,0,3,0,7,7,0,0,0,1,0,25,0,0,15,0,4,0,0,0,0,0,2,0,0,0,5,0,0,10,0,3,4,0,10,0,0,0,0,0,9,7,0,0,3,0,0,6,8,4,0,0,0,15,8,5,0,2,3,0,2,0,0,5,0,0,5,1,2,0,2,5,0,6,1,0,2,0,6,6,0,2,0,3,0,2,0,0,3,1,0,0,5,0,0,0,0,4,0,5,0,0,3,4,2,0,0,5,2,1,0,5,0,5,2,3,2,2,3,0,2,1,0,0,1,0,4,3,0,4,2,1,0,1,0,0,0,0,11,0,0,0,0,2,3,0,0,4,0,8,11,0,20,0,0,5,0,6,0,0,0,0,11,0,0,4,0,12,5,7,0,0,4,7,3,0,0,0,5,0,0,0,2,13,5,1,0,6,1,0,0,4,2,0,8,4,3,0,0,1,1,2,0,0,8,0,4,5,1,1,3,0,3,0,22,2,1,0,0,5,8,6,3,0,2,0,4,0,0,4,0,0,0,0,4,4,0,0,5,0,0,3,0,5,0,4,1,3,2,0,0,3,6,2,3,2,7,0,1,0,10,5,15,0,16,6,0,5,4,2,1,6,4,0,0,5,0,6,2,0,10,4,28,13,6,7,2,0,0,2,9,3,0,0,7,14,3,5,0,0,4,3,5,2,3,5,0,2,0,0,13,4,3,7,3,4,7,3,7,6,4,0,3,1,7,1,6,0,0,1,0,7,4,10,2,4,0,0,4,3,0,9,5,0,0,2,6,4,2,9,3,3,4,0,2,0,3,0,6,0,10,5,0,5,0,5,2,9,0,0,2,4,12,5,0,12,6,0,5,3,2,4,6,0,10,0,4,4,0,4,3,3,5,0,1,2,0,8,8,0,0,0,7,30,0,1,0,1,6,6,7,0,6,28,4,0,3,6,0,9,2,0,4,6,6,6,0,6,0,6,4,12,4,5,0,2,3,9,2,24,4,4,9,5,6,4,0,5,0,51,0,3,0,2,0,9,0,0,8,9,0,0,21,4,12,12,6,0,5,2,3,8,2,0,0,3,0,3,0,6,2,3,2,6,5,1,0,1,0,3,2,6,4,6,0,3,0,8,14,6,2,0,5,0,6,3,12,13,15,2,2,0,11,0,10,0,3,0,0,7,7,2,0,5,0,2,0,1,8,7,15,0,4,1,4,0,4,7,5,3,8,2,1,8,14,0,3,5,2,5,0,1,2,8,10,8,2,5,4,1,3,3,18,4,3,4,13,6,0,2,0,2,1,0,3,0,7,0,2,1,8,0,0,5,4,0,10,13,5,1,37,0,1,0,11,0,6,6,0,6,4,5,1,9,0,2,15,4,5,3,2,4,0,0,8,9,0,3,9,0,0,3,4,2,5,2,5,0,6,5,2,0,3,2,3,6,9,0,10,2,4,3,0,6,2,1,4,3,3,0,6,11,0,5,9,6,0,7,1,2,1,4,0,7,0,4,4,4,0,0,5,3,3,5,0,0,0,10,0,7,7,6,7,5,0,3,6,7,0,0,0,0,3,4,4,8,1,0,5,3,4,3,11,2,4,0,0,4,6,0,3,14,0,5,28,10,3,3,13,0,0,2,2,0,0,5,0,4,6,0,12,5,6,1,0,0,0,0,0,0,0,15,0,2,0,0,0,3,0,1,0,0,1,5,3,0,4,0,0,0,2,5,3,5,16,24,2,0,0,0,4,3,0,3,0,0,0,3,5,0,0,0,0,0,0,0,0,0,6,3,5,4,2,12,0,0,3,0,4,0,6,4,8,3,3,0,0,5,0,0,8,8,4,0,0,11,20,0,20,3,0,0,2,7,7,4,0,1,2,2,0,3,0,0,3,0,2,1,5,0,0,0,0,0,8,0,4,7,6,1,5,7,7,8,8,1,0,8,1,0,18,0,0,10,12,0,6,5,11,5,0,0,7,15,1,16,11,0,6,0,5,0,14,0,0,3,0,0,0,0,0,12,5,0,5,10,0,4,6,0,2,0,0,0,0,0,0,4,0,0,0,5,10,0,1,0,8,0,0,0,5,0,7,4,0,3,3,1,0,9,3,0,3,8,0,0,9,0,0,4,0,1,7,0,4,0,2,5,2,3,0,3,8,0,8,11,0,0,3,0,6,3,0,0,0,0,0,0,10,0,0,3,9,7,0,0,7,0,3,0,0,0,0,0,12,8,4,0,0,0,11,2,0,9,1,0,5,9,0,0,7,1,3,5,4,0,0,2,0,0,0,0,2,0,0,0,0,3,0,0,1,3,3,0,1,0,0,1,0,0,9,1,12,0,3,0,0,0,0,0,0,0,0,0,0,2,0,0,11,0,5,9,0,0,0,9,0,0,3,0,0,0,0,9,0,0,0,3,1,0,1,2,3,0,0,7,0,10,0,0,5,0,0,0,0,0,0,0,6,2,5,0,0,1,1465,0,0,5,0,2,2,0,0,8,0,0,2,4,0,0,0,4,7,0,1,0,3,2,5,6,4,3,5,0,3,1,1,0,5,11,4,2,8,0,3,0,12,0,0,0,0,4,6,0,2,2,2,4,2,6,0,2,3,28,5,0,2,2,5,2,2,5,0,0,7,1,4,3,1,0,2,2,0,7,0,6,8,6,17,2,0,0,2,3,10,0,6,2,6,5,5,2,1,5,6,4,0,0,12,0,2,2,8,3,1,0,2,6,0,0,0,0,1,0,4,2,3,12,0,0,0,0,0,2,0,0,13,14,2,0,0,1,0,0,0,1,2,0,0,0,6,9,0,0,3,0,0,5,0,0,0,2,1,1,3,0,1,6,5,0,8,0,0,0,0,0,4,4,0,27,0,4,9,0,2,10,1,30,6,2,0,3,7,10,0,0,3,0,0,1,6,7,6,3,0,0,0,0,0,5,0,0,0,5,2,9,4,11,4,3,5,1,0,3,5,6,16,0,5,9,15,3,12,0,0,0,0,1,4,9,0,9,2,0,6,15,8,0,5,10,2,5,2,8,5,6,8,3,2,0,11,0,4,0,12,2,4,0,8,4,1,11,4,4,2,4,0,0,20,4,3,10,0,1,3,1,5,0,5,3,0,1,6,10,3,9,0,3,12,10,4,3,4,7,5,4,4,7,10,4,6,20,5,0,5,7,9,7,1329,2,7,3,0,15,0,27,10,14,0,1,10,0,0,3,0,0,3,2,0,10,4,11,0,0,3,7,0,0,13,9,0,2,0,3,3,0,15,9,0,30,5,5,7,6,0,5,10,5,3,5,0,0,3,0,0,0,0,2,11,3,13,5,7,0,0,22,0,5,16,18,0,7,0,0,5,13,7,1,0,0,6,11,5,4,6,9,0,23,8,0,10,0,0,0,40,0,6,0,3,0,0,0,11,7,2,0,4,5,7,3,4,2,8,0,7,4,4,11,0,0,4,6,0,5,2,14,0,11,3,21,0,2,1,7,12,2,0,4,0,0,8,6,3,0,7,12,2,1,5,15,3,8,0,0,7,11,7,9,0,11,2,15,0,0,4,10,3,0,0,2,4,0,3,13,2,2,0,10,30,7,0,7,8,7,3,10,6,10,8,5,2,5,5,6,3,8,0,5,8,2,11,1,3,0,0,4,12,6,4,0,9,2,15,5,0,10,0,4,3,12,9,3,30,1,3,3,0,5,2,0,5,0,4,5,3,0,2,12,0,6,4,0,0,4,4,3,4,0,2,0,0,1,16,4,0,7,12,5,1,8,0,10,4,2,7,2,5,4,12,7,0,4,10,15,0,4,3,0,0,1,11,20,11,12,1,0,3,2,0,3,2,0,5,0,0,0,5,2,0,1,7,0,0,9,0,0,0,10,5,46,0,0,0,0,0,1,7,0,6,0,2,4,0,3,11,0,0,0,0,5,4,0,3,0,0,0,0,0,5,10,1,4,4,3,5,3,3,3,3,0,1,8,7,0,0,3,9,4,10,1,6,3,2,0,7,10,0,3,0,8,7,2,4,6,0,3,0,1,0,2,20,0,10,4,0,5,0,3,20,0,20,5,0,0,4,0,25,0,0,0,4,3,0,3,15,0,0,0,0,0,3,4,0,0,9,0,0,3,0,4,0,6,0,0,0,0,3,0,0,5,5,0,0,0,2,0,0,0,0,6,0,0,1,11,3,0,3,0,0,0,10,1,0,5,0,12,0,0,6,0,6,2,5,0,3,0,20,0,0,3,5,0,1,1,7,0,4,0,10,0,3,0,1,0,0,3,0,0,5,0,0,4,0,3,2,2,2,0,5,0,0,4,0,4,0,0,5,0,0,0,0,3,0,0,0,15,1,0,0,0,1,7,0,0,3,0,4,0,9,0,0,0,0,0,17,0,6,3,12,15,1,2,7,3,20,0,1,3,0,0,0,0,0,1,3,0,0,10,0,3,0,0,5,0,0,20,0,8,7,0,20,0,0,6,0,5,11,0,2,0,3,0,0,0,4,4,0,0,4,0,0,3,2,30,3,0,10,1,0,2,1,1,3,0,0,5,2,1,0,0,0,5,0,4,0,0,10,0,0,2,8,4,0,2,0,0,3,5,0,3,1,0,0,0,11,20,2,0,1,0,0,2,8,0,0,0,2,0,0,10,15,4,0,2,6,0,4,0,0,5,0,1,0,0,5,7,0,0,4,7,0,8,4,4,0,0,0,3,5,7,0,0,15,0,3,8,3,2,5,1,0,2,0,1,0,10,1,10,25,0,0,7,0,0,0,0,2,17,9,3,12,0,12,9,2,0,10,10,6,0,11,0,0,0,7,3,0,0,2,12,4,15,0,0,0,9,0,3,2,0,15,0,5,12,3,4,5,6,3,2,9,10,0,10,0,10,10,3,13,8,0,0,2,0,6,1,0,1,4,0,6,4,0,7,8,3,0,3,0,0,0,0,12,0,3,9,9,0,7,0,0,0,5,5,0,15,3,3,10,3,0,5,6,5,6,4,0,10,13,3,0,7,2,11,6,0,6,1,2,13,4,14,9,1,0,8,10,6,1,2,4,2,4,3,1,6,0,2,32,1,2,1,20,0,0,4,0,3,6,3,2,4,0,5,17,8,7,12,0,5,3,13,2,8,2,5,4,0,5,0,0,0,0,4,20,0,4,11,2,0,5,4,0,11,9,1,4,0,9,1,7,0,5,0,2,6,0,0,0,3,5,8,0,6,0,3,0,0,0,5,0,9,9,3,2,0,0,15,11,7,10,8,2,0,6,6,4,3,4,6,4,0,4,12,0,7,2,10,0,11,2,9,0,2,6,5,14,5,9,9,6,2,5,4,12,2,5,11,3,0,6,0,9,6,15,5,0,4,6,7,2,10,16,3,0,8,20,0,10,1,0,0,20,8,1,1,2,0,7,11,0,0,1,2,65,1,0,1,3,0,6,0,0,6,1,3,3,3,14,3,8,9,2,0,5,0,10,0,0,10,0,9,4,0,0,16,0,3,10,0,0,3,0,5,0,8,2,10,0,3,3,3,0,2,1,5,0,1,7,2,0,2,0,0,1,0,13,2,3,0,1,4,7,5,2,9,6,6,4,5,4,6,0,4,0,0,0,0,2,2,6,7,2,6,8,0,0,0,0,0,0,18,16,5,8,28,1,3,2,7,4,1,12,4,5,3,5,0,4,3,0,4,9,0,8,4,0,5,6,4,13,0,2,0,1,0,0,3,0,0,0,0,6,0,0,0,0,0,2,9,20,3,5,0,0,0,0,2,0,0,0,0,10,9,0,0,5,10,0,10,0,1,7,20,15,5,0,6,13,7,0,7,7,0,10,2,0,22,0,0,2,2,1,0,0,10,3,2,0,0,0,9,7,2,0,18,6,10,2,18,0,3,10,0,15,2,10,2,0,0,0,10,50,15,8,0,3,26,0,9,7,6,15,2,0,0,12,0,2,2,13,0,0,0,0,0,10,0,8,0,3,0,0,0,0,5,9,0,7,0,0,6,0,0,0,0,0,4,0,0,0,0,0,0,5,0,0,0,0,4,0,0,4,2,0,0,0,3,8,0,0,0,0,0,12,12,0,8,0,8,0,6,16,0,2,0,2,0,2,0,1,6,4,0,0,1,1,0,0,1,0,0,1,3,0,0,1,0,0,0,3,2,0,9,0,0,4,0,11,3,2,13,0,0,0,2,0,3,0,0,0,0,4,2,1,0,0,0,0,0,3,0,2,6,0,0,0,0,0,0,6,3,0,2,0,0,0,0,4,2,2,13,11,0,8,2,3,4,1,0,1,4,0,0,5,0,0,0,30,0,4,7,0,8,0,0,9,0,0,5,0,0,8,0,0,0,0,4,0,2,1,4,0,1,0,6,0,1,0,0,3,0,0,0,3,0,5,0,1,0,0,3,0,0,5,0,4,0,10,0,3,12,12,4,4,0,0,3,0,0,0,1,5,1,1,4,0,0,27,11,0,2,0,3,2,0,5,0,8,0,5,3,2,0,0,2,0,4,3,0,0,3,2,0,0,0,0,15,0,0,0,1,5,0,8,0,0,3,0,2,5,0,3,0,2,10,7,6,0,2,0,0,0,10,2,3,0,2,4,0,3,0,0,11,0,0,0,0,3,0,11,3,0,9,0,2,3,3,4,3,0,0,3,2,0,0,0,0,0,2,4,4,3,5,0,2,2,3,0,11,0,0,2,0,0,12,0,6,0,9,4,4,3,12,11,0,5,1,0,0,0,0,0,0,0,0,0,0,0,0,0,0,0,0,0,0,0,0,3,0,1,0,1,0,2,0,0,1,0,2,1,1,0,3,0,1,20,1,0,3,1,2,0,3,1,0,3,2,0,0,2,2,0,2,0,3,6,2,0,1,0,0,1,0,0,0,2,0,2,2,2,0,2,0,2,2,3,0,0,3,2,1,1,2,1,3,2,0,2,6,0,0,2,0,0,3,1,0,1492,3,0,2,2,2,5,1,2,0,0,2,0,0,5,0,21,5,2,0,2,0,0,3,1,0,2,7,4,12,2,3,3,0,0,18,5,0,8,0,0,3,6,4,2,4,7,0,0,3,8,2,3,3,11,3,7,0,0,2,7,3,3,3,3,0,3,6,2,2,2,6,2,7,6,0,1,1,1,10,6,8,6,8,2,6,7,4,2,0,0,9,2,8,2,6,2,11,5,0,4,9,0,0,5,0,2,1,14,2,8,6,0,8,5,4,3,14,5,14,12,0,10,6,0,1,14,0,5,4,21,10,0,2,7,11,3,6,0,3,4,6,8,0,0,5,0,3,3,4,0,4,7,2,4,13,2,1,0,29,7,0,0,2,2,2,2,0,0,0,0,0,0,14,0,0,0,0,3,0,2,0,0,1,0,0,0,11,1,0,0,0,0,0,3,0,0,0,0,13,0,0,0,2,0,0,3,0,0,0,2,0,1,3,0,0,0,0,0,4,18,12,0,16,0,12,3,0,2,2,22,0,0,20,18,14,2,3,4,2,5,2,1,3,0,2,2,0,0,0,0,0,0,0,5,0,0,0,0,0,2,2,0,0,0,0,0,0,0,0,0,0,2,0,0,0,0,0,1,5,33,3,0,0,0,0,0,1,0,0,0,0,0,0,0,0,0,0,0,9,0,8,0,0,0,0,0,0,1,0,0,0,5,2,0,0,0,0,0,3,0,0,0,1,0,3,1,0,0,1,5,0,0,2,1,0,2,5,4,0,3,0,0,4,2,3,10,0,2,0,2,3,0,3,2,0,0,2,1,15,3,3,2,19,2,2,19,2,3,4,1,3,4,0,4,7,20,6,2,3,6,0,5,0,0,1,2,4,10,0,4,2,3,6,4,0,7,5,6,0,2,2,0,3,3,0,5,3,0,0,8,0,7,5,6,0,0,3,7,3,0,0,3,1,0,8,0,0,3,11,10,14,4,2,2,1,20,6,5,5,5,4,5,8,2,6,3,7,5,5,0,0,5,11,5,3,4,0,3,5,5,2,4,2,13,3,3,19,5,3,0,4,11,1,15,3,10,3,3,3,1,18,3,3,1,3,6,6,1,1,6,3,13,6,7,0,17,7,11,0,0,0,2,2,3,4,11,4,2,0,15,4,4,9,4,2,4,18,0,0,5,4,3,2,8,3,3,6,5,14,6,0,7,12,0,0,7,7,10,0,5,5,16,2,0,6,0,0,1,0,0,1,0,20,0,30,0,25,0,0,0,0,0,0,0,0,0,0,25,0,2,0,2,0,2,3,2,0,1,0,0,2,0,3,7,1,6,5,0,11,0,6,2,2,2,0,0,0,0,0,0,0,0,0,0,0,0,0,0,0,0,0,0,0,0,0,0,0,0,0,4,0,0,0,3,0,0,0,2,10,22,22,5,17,0,0,4,23,0,7,0,0,23,11,0,2,1,0,3,0,0,0,0,3,0,0,0,6,9,2,6,1,0,0,0,0,10,3,0,2,3,2,2,2,1,7,0,2,5,2,3,3,3,0,0,2,0,1,7,3,0,3,2,3,3,4,4,0,4,2,2,3,2,6,2,0,1,0,0,3,7,2,5,11,0,3,1,0,3,3,5,3,0,3,4,0,5,4,3,0,3,2,0,4,5,6,8,2,3,0,0,1,0,10,5,0,19,4,1,2,2,13,0,3,21,1,1,0,3,0,4,9,0,5,1,2,15,5,0,2,9,6,0,2,2,5,12,1,0,5,1,1,2,12,4,2,3,6,5,12,0,2,8,3,2,0,1,1,5,6,5,7,2,5,2,4,3,2,3,3,8,5,2,5,2,2,9,3,2,5,3,2,5,5,19,3,10,5,11,0,0,7,0,0,5,8,6,5,3,3,12,5,6,8,10,6,0,0,3,2,11,2,0,11,11,2,8,6,6,1,3,3,5,3,3,0,0,4,13,4,1,2,3,4,21,0,4,0,5,0,0,0,15,5,1,10,7,14,5,0,4,0,0,2,2,0,0,0,0,0,0,0,0,0,1,0,0,0,2,3,1,0,1,0,0,0,0,2,0,0,0,0,0,18,3,8,0,0,0,1,3,0,0,6,8,0,3,6,15,1,9,0,2,0,0,0,0,0,0,0,0,0,0,0,0,0,0,0,0,0,0,0,0,0,0,5,0,0,0,0,0,0,0,3,2,1,1,0,2,1,3,2,0,1,0,0,1,2,0,2,2,2,3,0,2,3,1,1,0,3,0,0,1,1,4,0,1,2,1,0,2,0,10,1,0,0,1,3,0,3,0,3,0,0,3,11,6,0,10,2,0,0,0,1,0,0,0,0,2,0,0,0,0,0,3,0,3,0,0,1,5,0,1,3,3,0,3,6,3,1,0,0,1,5,5,7,2,5,0,0,3,1,0,0,0,3,3,0,6,3,8,6,0,10,0,3,4,2,0,2,7,4,2,7,2,9,2,3,7,10,10,6,3,2,2,3,10,10,12,3,0,7,4,0,0,5,4,2,7,0,7,2,6,1,0,10,2,0,11,2,2,3,8,2,0,2,3,2,15,4,0,11,2,0,8,6,5,7,3,10,3,0,3,13,3,12,0,3,4,7,3,6,0,8,0,1,0,3,1,11,14,0,0,0,0,0,0,0,0,6,0,18,31,0,0,0,12,50,0,0,0,25,0,0,0,0,0,0,0,0,0,0,0,3,2,0,0,0,2,0,0,15,2,3,2,2,0,0,0,0,2,0,2,10,0,2,0,0,2,0,0,0,2,0,0,0,0,0,0,0,0,0,0,1,0,0,0,0,0,0,0,0,1,0,0,0,0,0,0,0,1,1,0,0,3,0,2,2,0,0,0,0,0,0,0,1,0,0,0,0,0,0,1,0,0,0,0,3,0,0,2,3,0,4,0,0,0,2,0,0,0,5,3,5,0,2,2,5,0,0,3,3,0,5,2,0,0,3,14,0,21,1,0,3,0,0,0,0,0,2,2,3,0,3,0,0,3,0,2,0,4,11,9,3,3,2,3,4,0,0,4,0,3,2,4,0,0,1,4,4,0,0,0,1,3,3,0,0,4,3,0,3,0,6,0,3,1,0,0,2,4,0,0,4,4,3,0,0,0,10,2,3,15,3,0,3,0,4,5,1,0,0,0,3,0,4,3,0,3,5,0,0,2,2,1,0,3,0,5,4,1,3,0,3,2,4,5,4,8,0,20,0,5,0,4,0,9,6,0,0,1,0,0,4,0,2,0,2,3,4,6,4,19,20,4,5,13,0,9,3,12,5,6,6,1,4,2,3,4,6,7,5,0,7,16,0,0,9,0,8,4,0,0,0,3,0,3,3,5,4,0,1,6,4,5,2,3,12,9,5,1,6,7,2,8,12,2,6,4,0,0,1,9,3,6,4,6,3,0,3,4,8,3,8,0,15,6,11,11,6,15,0,0,4,7,1,1,12,0,5,16,5,3,3,1,3,15,1,3,6,3,2,1,6,3,0,9,4,1,12,2,4,8,3,11,0,0,0,0,0,0,0,0,0,5,7,0,0,0,0,0,0,40,6,0,0,5,2,0,0,0,0,0,2,3,2,2,6,2,6,0,5,0,0,0,10,8,0,3,0,3,11,6,0,0,1,7,5,1,6,3,0,4,2,0,0,0,0,0,0,0,0,0,0,2,0,5,3,3,7,0,4,0,0,0,2,3,10,2,1,6,8,3,3,1,3,14,2,3,3,2,4,0,3,2,0,2,1,0,2,0,2,0,3,2,0,0,2,3,0,0,3,0,2,0,3,0,2,3,0,2,2,0,2,3,0,0,0,3,2,3,0,0,0,0,0,0,0,0,1,0,0,3,2,1,0,3,1,3,5,3,1,0,0,7,3,3,1,2,3,0,3,0,0,5,0,24,2,0,9,2,9,2,3,13,4,0,0,1,1,0,2,2,3,26,2,4,0,0,1,0,0,0,2,0,7,6,0,2,0,1,2,2,2,4,6,13,0,3,0,1,0,9,8,4,5,8,3,2,2,0,5,0,10,0,9,13,11,9,6,10,2,8,4,0,7,6,3,7,8,7,4,14,14,1,11,0,6,8,6,7,3,7,5,2,15,10,5,6,11,6,2,13,2,7,5,1,0,3,6,4,2,1,10,2,6,4,0,12,14,0,0,9,0,1,0,3,7,11,1,14,5,6,6,2,3,15,1,3,4,4,0,14,12,0,5,10,0,7,3,12,3,3,7,4,6,2,7,1,4,3,4,9,6,8,23,6,0,5,5,3,7,10,3,6,8,0,1,0,4,0,0,12,2,8,0,4,5,0,11,9,0,2,1,0,0,0,0,0,0,5,5,5,0,0,0,0,0,0,0,1,1,0,0,0,0,0,0,0,0,0,0,0,0,0,0,0,0,7,0,0,8,2,2,4,5,0,2,11,0,2,0,0,0,0,0,0,0,0,0,0,0,0,0,0,0,0,0,0,0,0,2,0,1,0,0,0,0,0,0,0,1,0,1,3,10,0,0,2,2,1,2,0,0,1472,0,0,0,0,3,0,1,4,2,3,2,6,1,3,2,1,1,1,3,3,1,0,1,1,3,3,0,0,4,3,15,0,3,0,0,2,0,2,0,3,2,3,4,0,3,6,10,6,13,4,1,0,2,0,0,5,0,1,2,2,2,0,2,2,10,8,5,0,4,1,3,2,2,0,0,2,3,0,0,0,4,2,3,0,8,2,3,0,0,2,0,0,0,1,3,5,3,2,1,3,1,3,19,6,1,3,18,0,0,6,0,13,1,5,4,2,10,2,6,0,0,1,0,2,0,0,0,0,6,2,3,4,3,0,2,3,7,2,0,2,5,3,3,0,11,0,0,11,0,4,8,5,3,0,5,10,5,3,3,3,4,19,11,10,13,3,5,6,5,8,10,9,7,0,4,8,2,11,8,0,2,0,10,2,5,7,9,6,8,5,5,3,11,9,6,4,5,9,3,6,10,4,1,6,0,0,0,0,4,5,3,5,0,0,3,7,20,6,0,7,5,5,3,5,6,7,0,0,5,2,4,6,7,2,5,0,4,3,0,0,2,7,3,4,1,22,1,0,0,0,0,0,1,0,0,2,0,2,2,0,0,7,5,9,4,0,50,0,0,0,0,0,0,0,0,50,25,20,0,6,0,0,0,0,0,0,0,0,0,0,0,0,0,0,3,0,0,50,0,0,0,0,6,6,0,0,0,5,0,0,12,0,1,50,0,2,0,0,4,10,0,3,2,0,0,0,0,0,0,0,0,0,0,0,0,0,0,1,4,0,2,0,0,0,0,0,0,0,0,0,0,0,0,0,0,0,0,1,0,0,0,2,3,0,3,0,0,0,2,1,0,3,2,2,0,0,1,3,9,30,0,3,3,0,1,0,1,1,2,0,1,2,6,8,2,0,0,1,0,0,0,2,0,0,3,0,0,6,0,3,3,0,3,0,4,0,0,2,0,1,0,0,3,4,2,2,4,0,0,0,0,3,9,5,2,0,0,0,5,0,0,2,2,5,2,3,0,0,2,2,0,3,3,6,4,2,3,2,0,2,3,5,4,5,3,1,0,1,0,5,1,3,5,3,4,3,0,7,3,13,3,3,1,0,3,2,0,0,1,4,4,0,5,1,6,8,7,0,0,0,1,1,2,4,1,9,6,5,8,3,7,3,6,0,2,4,0,5,47,6,6,0,4,0,6,3,5,2,2,0,7,3,1,4,5,8,0,0,1,5,0,6,15,7,0,13,5,7,0,2,3,4,11,0,3,2,1,9,2,0,6,6,2,8,2,8,19,2,5,5,2,1,22,17,21,0,1,15,9,0,7,8,0,6,7,17,0,3,10,0,0,4,3,5,4,6,13,9,0,9,9,12,8,10,3,2,0,2,1,0,3,0,2,0,3,8,0,8,0,2,0,0,0,2,0,5,0,0,0,0,0,0,4,0,0,0,0,0,0,0,0,10,0,0,0,0,0,0,0,0,0,0,2,0,0,11,10,2,0,2,0,0,22,0,0,30,3,0,3,17,6,0,4,1,35,0,0,2,0,0,0,0,33,0,7,3,0,0,0,0,0,0,0,0,0,0,0,0,0,0,0,0,0,0,0,0,0,0,0,2,0,3,0,7,11,4,7,11,2,15,6,0,9,6,5,7,4,3,5,11,20,2,3,0,6,6,0,2,5,1,7,2,2,1,0,0,0,0,0,0,0,0,0,4,5,1,0,2,0,2,2,0,0,2,0,2,0,3,0,0,0,0,2,0,0,0,1,0,1,1,2,0,0,1,3,0,0,0,0,2,15,11,5,6,2,3,1,0,0,0,0,1315,0,0,0,5,2,3,3,0,0,3,1,2,0,0,3,4,3,0,0,2,2,0,0,11,4,0,1,1,0,2,3,0,3,0,0,3,3,0,0,0,1,2,0,0,0,3,0,2,0,1,0,0,0,0,0,0,1,0,1,2,8,0,0,0,0,0,5,0,0,3,0,0,0,4,0,0,2,0,6,0,3,3,12,2,0,0,0,0,0,0,1,5,0,0,0,0,1,2,0,0,2,0,5,0,0,0,6,4,0,0,0,0,5,5,0,1,1,16,0,0,0,7,4,2,3,12,2,2,0,3,2,5,7,3,19,0,10,0,1,6,3,0,2,2,10,2,12,0,5,6,21,3,2,3,15,0,13,0,4,9,3,4,4,7,2,4,3,1,4,9,0,5,3,8,3,11,3,1,2,4,10,0,4,3,20,4,0,4,8,1,9,7,6,0,0,1,11,6,7,6,13,7,10,6,2,21,5,10,0,0,8,0,14,2,5,7,5,0,9,6,4,3,11,16,12,2,6,4,1,10,6,3,3,2,0,4,0,0,5,35,40,0,0,13,2,0,2,2,2,11,5,0,0,0,0,0,0,0,0,1,3,0,0,0,0,0,0,2,12,11,9,1,0,0,0,1,5,0,0,0,0,0,0,0,1,0,5,17,0,3,0,2,0,4,6,1,0,0,1,2,2,4,0,0,0,0,0,0,0,0,0,0,0,0,1,0,0,0,0,0,0,1,0,0,0,0,0,1,0,2,12,0,0,0,0,0,0,0,0,0,0,3,0,3,0,5,8,4,4,0,10,2,1,0,2,2,3,0,0,2,30,0,7,14,5,10,0,0,2,2,3,3,0,3,0,2,3,0,0,4,0,10,0,7,3,0,0,0,0,0,4,4,4,0,0,4,0,0,3,3,5,1,3,0,0,5,3,0,5,2,0,8,5,0,2,2,0,8,0,0,0,0,1,0,0,0,0,0,0,0,0,2,0,0,3,0,0,3,0,3,0,0,0,0,0,4,2,3,2,6,2,3,2,2,0,0,1,4,0,8,2,0,0,3,1,5,2,2,8,0,2,0,5,0,3,0,2,5,18,4,0,0,3,3,0,7,3,2,11,5,3,3,4,12,5,0,4,8,6,3,3,2,17,0,4,4,11,11,2,4,13,12,2,3,0,3,12,10,0,3,0,9,3,7,4,6,5,4,14,3,8,7,10,13,11,11,3,10,9,7,0,4,5,12,0,11,11,1,3,4,0,0,3,0,7,13,6,7,4,9,6,12,11,2,9,2,9,7,0,20,1,2,4,1749,4,7,6,5,12,3,3,8,3,8,2,10,4,3,2,1,3,4,7,5,5,13,8,6,6,4,11,2,8,5,4,13,2,3,7,6,0,5,1,10,3,20,2,0,0,0,0,0,0,0,2,0,0,0,1,2,0,0,2,2,0,0,3,0,0,5,3,0,2,0,0,0,5,0,0,18,0,11,7,0,0,12,6,1,5,3,3,2,2,0,0,0,0,0,0,0,0,0,0,0,0,0,0,0,0,0,4,6,0,0,0,0,0,0,0,0,0,3,2,0,0,3,0,0,3,4,15,3,1,1,3,4,0,0,0,0,2,0,0,0,3,0,1,3,3,0,1,3,0,0,0,0,6,0,0,3,3,6,0,3,4,3,0,1,3,0,0,0,4,0,0,0,0,0,0,4,0,3,2,0,5,7,0,4,7,4,3,0,2,2,2,0,0,2,2,17,2,7,6,2,2,22,0,3,8,1,6,5,3,5,9,0,5,0,4,3,0,4,0,3,0,5,0,1,5,0,3,0,3,6,0,0,0,10,3,7,3,0,3,9,9,5,3,3,7,18,8,11,10,1,6,11,6,3,7,0,3,11,11,3,0,7,12,3,9,0,16,11,9,0,3,0,13,4,5,9,4,10,11,0,17,7,12,3,0,1,0,0,6,3,12,7,4,6,0,5,2,17,24,0,6,3,0,0,5,0,13,2,8,7,11,5,3,0,2,43,0,0,0,0,0,0,0,3,12,0,0,0,0,0,0,0,0,0,0,0,2,0,0,0,0,0,0,0,0,0,0,8,0,0,0,0,0,0,0,0,0,1,9,0,0,8,0,0,5,2,1,0,0,2,5,5,4,8,2,7,4,2,5,2,0,0,0,0,0,0,0,0,0,10,3,3,0,2,0,3,3,0,0,2,2,0,9,0,1,6,0,0,3,2,1,2,0,0,4,3,1,3,0,3,1,9,9,0,0,2,0,2,0,1,0,0,1,0,0,0,0,0,0,3,3,0,3,1,2,0,1,2,0,0,0,3,3,2,1,0,0,0,1,3,0,0,4,4,5,4,0,0,5,2,2,3,2,0,2,15,0,2,0,2,2,2,5,0,6,0,0,0,0,2,5,6,0,9,3,8,2,1,2,0,0,5,0,0,8,2,1,18,2,3,5,6,0,3,12,2,5,3,9,7,3,0,3,14,7,11,7,3,7,15,6,12,3,3,10,4,6,2,14,11,11,4,15,30,4,11,3,5,5,18,15,12,6,8,1,0,4,14,3,2,0,8,3,3,15,14,0,8,3,13,10,0,2,6,0,3,3,0,2,7,12,5,3,19,2,7,4,8,6,5,9,4,0,3,17,19,0,0,0,0,2,2,0,0,0,0,0,30,0,0,0,0,0,0,0,0,17,0,0,2,0,0,0,0,0,0,0,0,0,0,0,0,0,0,0,0,0,0,16,12,0,8,0,7,3,0,0,5,6,0,0,4,0,0,1,0,5,4,2,1,10,0,4,0,0,0,7,13,0,0,0,0,0,0,0,0,0,0,0,0,0,0,0,0,13,0,0,0,2,16,0,0,0,1,1420,0,3,3,6,19,0,0,3,2,2,1,5,10,2,2,3,6,0,3,0,1,0,3,3,0,3,5,0,0,0,0,3,5,0,7,0,20,4,0,3,3,2,2,2,3,1,0,0,2,0,6,3,3,4,0,0,4,3,1352,0,0,0,6,1,2,5,0,0,1,0,0,2,11,5,0,1,2,2,2,1,4,8,8,2,12,2,1,0,1,18,3,3,21,10,3,2,22,0,4,7,6,4,4,4,18,13,9,5,14,11,14,6,1,0,4,4,0,8,1,5,11,5,6,5,4,8,11,5,8,1,7,2,5,5,7,11,1,11,8,12,5,9,6,4,17,10,0,11,18,0,8,0,2,3,5,4,10,6,0,14,24,4,9,4,7,16,0,0,0,0,0,0,0,0,6,7,0,0,0,0,0,0,0,0,0,0,5,0,0,10,11,0,0,8,2,9,8,2,0,2,0,5,0,7,0,2,1,4,20,5,2,0,0,0,0,0,0,0,0,0,0,0,0,0,0,0,0,0,0,0,0,0,1,0,0,0,15,0,0,13,0,0,0,2,3,0,0,0,0,0,0,3,7,0,2,0,9,8,2,0,2,0,3,5,0,0,0,0,0,3,0,3,0,0,1,0,3,1,3,2,0,3,3,0,0,0,2,2,0,0,3,0,2,0,1,0,3,0,3,0,0,0,3,0,0,0,0,3,0,0,0,3,1,3,0,0,0,1,0,0,0,1,0,0,0,1,0,0,0,0,1,0,0,0,0,0,2,0,2,0,1,2,2,0,2,1,0,3,0,0,2,1,2,0,0,1,12,0,1,0,0,0,2,1,0,0,2,10,0,3,2,0,0,1,3,1,5,2,6,7,0,5,3,4,0,0,8,3,0,1,6,2,0,10,3,6,3,15,8,4,6,0,2,1,0,12,0,0,3,0,2,9,7,3,0,6,0,10,6,3,0,3,0,3,3,16,4,7,10,15,4,0,6,0,12,0,7,0,12,7,3,2,0,5,5,10,12,4,0,4,6,0,15,0,8,8,1,0,0,8,10,5,0,3,4,5,4,7,20,8,2,12,12,0,5,12,13,7,0,6,6,8,16,0,18,6,4,17,10,3,0,12,12,3,17,5,18,1,0,2,4,3,2,4,0,5,4,7,2,0,3,18,5,0,6,3,0,11,12,2,0,7,6,3,5,8,1,8,0,2,14,3,0,0,0,2,2,2,0,0,0,0,0,0,0,0,2,0,0,1,0,0,25,0,0,0,0,0,1,0,0,0,5,0,0,0,0,0,0,25,0,7,1,0,0,0,2,1,0,8,2,0,2,2,1,14,0,0,0,0,0,0,0,0,0,0,1,0,0,0,0,0,0,0,0,0,0,0,0,0,0,0,0,0,0,0,12,0,0,0,0,0,0,0,3,0,3,0,3,0,4,4,0,0,0,3,0,13,0,3,0,0,4,0,3,3,0,4,0,0,3,2,0,1,0,0,0,0,0,4,8,2,9,0,0,4,3,3,0,6,1,0,3,4,0,3,0,0,3,0,0,3,0,1,0,3,0,0,0,3,6,6,14,3,10,21,1,0,3,3,0,3,0,3,0,0,0,8,20,0,4,1,0,2,0,1,0,0,0,2,1,0,0,0,0,4,0,3,0,0,0,1,4,4,0,5,1,2,0,1,0,2,0,1,7,0,2,0,0,2,0,0,0,0,0,6,2,5,4,3,3,2,4,7,2,0,1,3,3,0,0,4,0,5,3,2,2,5,5,5,4,2,5,0,9,1,3,3,6,7,2,4,6,2,19,3,2,7,8,5,2,10,0,2,5,1,5,14,11,5,3,2,20,3,3,6,2,7,2,0,5,3,6,3,4,9,3,9,1,5,0,0,0,2,3,15,9,0,1,2,4,0,11,3,10,15,2,0,16,3,7,3,20,3,7,18,7,0,0,3,2,3,3,2,3,25,23,2,5,2,3,4,4,0,2,6,13,4,4,0,12,0,7,17,8,11,3,7,0,4,5,11,10,0,5,3,5,1,7,3,2,0,4,1,3,3,2,7,2,1,0,7,4,8,0,7,0,1,12,5,14,4,3,3,0,3,5,0,0,12,0,6,2,2,5,4,8,5,7,6,2,0,8,0,3,3,11,0,2,4,5,3,3,5,9,2,10,5,2,16,4,0,0,0,0,8,8,2,2,0,5,4,1,0,0,25,30,0,25,25,0,0,30,0,0,0,0,2,0,2,0,2,0,2,0,0,0,0,0,0,2,12,5,2,2,0,0,6,0,0,0,0,0,0,0,2,0,0,0,6,0,2,2,0,6,0,0,5,0,5,0,1,9,0,4,6,1,1,7,2,5,3,0,0,0,0,0,0,0,0,0,0,0,0,0,0,0,0,0,0,1,0,0,0,0,0,0,0,0,0,0,0,0,0,12,2,17,2,2,8,3,3,0,0,2,4,15,0,0,0,0,0,0,2,1,0,0,1,18,1352,2,0,9,0,2,0,2,0,0,3,2,0,0,0,3,4,2,2,2,6,0,5,0,2,3,3,2,4,4,2,3,5,3,3,3,3,2,6,0,0,3,2,2,4,5,0,0,1,7,5,0,0,20,1,0,0,6,2,0,9,1,5,7,0,7,0,2,0,1,0,3,0,0,0,6,14,8,9,6,3,1,9,1,6,8,1,0,12,2,5,4,3,4,5,1,3,4,1,0,3,7,9,21,3,3,0,3,3,1,0,4,4,9,8,3,15,14,6,10,20,2,6,33,12,4,5,1,0,0,6,6,3,2,7,12,0,16,1,1,0,0,0,0,0,0,0,0,0,0,0,22,0,0,3,7,0,0,0,0,0,0,0,0,0,0,0,0,1,13,0,0,0,3,0,0,0,5,0,0,2,0,0,12,3,0,5,0,0,2,1,1,4,2,0,0,0,0,0,0,0,0,0,0,0,0,0,0,0,1,12,0,10,0,0,0,0,0,0,0,0,0,0,0,0,0,0,0,0,14,0,0,0,0,0,0,0,4,0,0,0,0,0,3,0,0,0,0,0,0,0,0,0,0,0,0,0,0,0,2,0,0,0,4,0,0,0,0,0,0,1,0,1,2,2,0,0,2,1,0,3,3,0,4,3,1,0,3,4,0,0,2,0,0,2,0,7,0,0,0,1,1,1,2,2,0,4,3,0,0,0,1,3,0,3,0,3,4,5,2,2,3,5,5,3,0,1,3,2,3,0,4,0,2,4,0,3,6,3,0,0,3,0,4,3,3,3,5,1,3,2,0,0,5,0,2,0,2,5,0,0,1,0,0,6,4,1,0,10,0,0,1,1,0,0,2,21,0,3,1,0,0,0,0,0,0,1,8,0,0,0,1,8,12,2,4,0,5,10,0,5,3,8,0,15,11,0,4,1,6,12,10,17,8,1,0,2,10,0,4,4,5,6,6,15,10,11,9,9,0,2,5,4,2,8,3,2,0,0,6,10,12,0,2,0,0,4,6,0,3,4,8,2,8,0,10,9,2,0,5,15,1,11,10,15,5,30,4,6,6,7,10,2,3,9,10,4,0,3,15,10,13,2,3,11,9,0,3,7,0,4,11,10,1,10,1,13,5,10,1,16,0,0,4,0,6,12,0,6,0,2,7,0,0,0,5,4,1,6,12,3,7,0,6,0,2,9,0,0,6,5,6,4,3,0,6,4,2,0,11,0,0,2,1,10,12,7,0,0,0,0,0,0,8,3,0,0,25,0,30,0,0,0,0,0,0,0,0,0,0,0,0,0,0,0,0,0,22,0,0,1,0,0,4,0,0,9,0,2,1,1,0,0,0,0,3,6,0,0,0,0,5,4,4,0,0,1,2,10,7,6,5,5,0,0,0,0,0,0,0,0,0,0,0,0,0,0,0,0,0,0,0,0,0,0,0,0,0,0,0,0,5,4,7,0,0,0,0,2,0,0,0,0,0,0,0,0,1,0,0,0,0,2,0,0,1,3,0,0,0,0,0,0,0,1,4,0,1,0,0,0,0,0,0,1,0,1,0,0,3,5,0,0,3,0,0,3,2,0,0,8,4,0,2,8,8,0,2,0,0,0,2,1,3,0,0,0,11,1,4,0,2,0,13,2,21,1,3,1,3,6,8,4,1,0,2,0,2,4,2,2,3,0,3,3,0,1,3,3,0,3,3,0,3,0,20,3,3,3,3,0,0,1,3,6,4,0,3,8,7,7,0,0,3,0,3,3,20,0,3,6,0,1,0,12,13,5,9,2,6,3,19,8,4,2,3,2,7,5,2,15,1,10,2,0,15,9,1,8,22,9,2,6,11,1,2,5,3,7,4,2,3,0,6,2,0,4,0,0,5,3,3,6,2,2,7,11,3,8,7,4,0,6,4,20,7,12,5,0,0,5,4,1,1,0,4,0,11,5,1,3,12,10,0,7,0,0,10,3,13,3,0,17,15,10,3,20,6,0,7,0,0,8,2,0,6,9,29,22,6,15,2,3,5,3,0,1,1,1,9,2,1,6,16,3,4,0,0,2,0,4,6,7,9,12,8,5,12,4,13,0,2,6,2,4,7,0,0,1,3,9,8,4,2,0,19,9,3,0,4,18,4,0,0,0,0,2,1,0,0,1,9,10,16,3,1,9,0,0,6,0,5,4,5,10,3,4,4,0,7,5,11,4,4,2,7,5,25,6,2,10,4,0,9,5,1,13,5,3,0,7,6,4,5,3,4,10,6,0,0,2,0,0,0,0,12,0,0,30,0,2,50,0,0,0,0,0,0,50,0,1,0,5,0,0,0,0,0,0,2,0,0,0,0,0,0,0,0,0,0,0,0,0,0,0,0,9,3,1,0,4,4,6,3,2,0,4,0,0,0,0,0,0,0,0,0,0,0,0,0,0,0,0,0,0,0,0,0,0,0,0,8,0,0,0,0,0,0,0,0,1,0,0,0,0,0,0,9,0,1,0,0,2,0,0,0,0,1,0,0,0,0,3,5,1,0,0,0,2,5,0,0,0,0,0,3,6,0,0,2,0,9,0,0,2,0,3,0,2,0,1500,0,3,0,4,4,0,4,1,3,1,3,0,1,3,8,0,4,4,0,1,5,3,1,3,4,3,3,0,6,4,0,3,0,0,0,2,0,0,1,4,3,3,0,0,0,1,3,2,3,3,3,3,4,5,3,3,3,0,0,5,3,1,0,0,3,0,1,3,0,2,7,4,8,0,0,0,21,3,5,16,3,0,3,18,3,10,6,6,3,3,0,0,3,10,3,0,2,9,3,1,3,0,3,3,0,2,0,7,5,0,3,4,1,0,3,6,3,4,7,5,3,4,0,5,2,4,11,16,3,2,2,8,6,3,10,2,6,5,12,2,3,0,30,13,12,24,2,7,12,9,9,9,0,11,2,14,12,3,1,3,0,15,7,18,0,0,10,11,0,11,10,0,0,12,4,5,18,13,1,19,6,2,10,9,2,11,12,0,0,2,0,0,2,3,1,8,2,10,8,9,16,9,0,9,1,12,10,0,14,4,4,7,0,4,6,0,14,1,7,3,2,0,4,2,5,10,5,5,20,4,5,2,5,4,7,2,2,3,10,2,2,0,0,0,0,0,0,0,25,2,0,2,2,0,0,0,0,0,0,0,0,0,0,0,0,0,0,0,0,0,0,0,0,1,0,30,25,0,0,0,0,0,0,0,0,0,0,0,0,0,0,0,0,0,0,2,0,0,0,0,0,0,0,16,16,0,0,0,0,1,12,0,2,0,0,5,0,0,0,0,0,0,0,3,10,0,0,29,0,0,0,0,1,1,8,0,6,1,0,0,0,0,0,0,1,20,0,0,10,0,12,0,0,0,0,0,0,0,60,0,0,3,4,0,3,3,0,3,3,3,0,3,3,0,3,0,0,3,0,3,0,3,3,3,0,3,3,0,4,3,0,0,0,3,0,3,0,0,0,0,4,0,0,3,0,3,0,0,2,0,0,5,0,0,0,0,0,0,0,0,1,1,1,0,0,5,1,0,3,3,0,0,2,0,0,1,0,1,0,7,0,2,0,0,5,0,2,0,0,0,2,0,0,3,0,1,1,19,0,3,7,2,1,2,2,2,0,0,0,0,0,0,2,2,0,20,8,16,2,5,2,0,0,0,0,21,2,2,0,3,1,5,5,2,0,0,1,3,0,2,6,2,0,1,2,7,8,3,7,3,3,14,8,4,3,3,2,3,1,0,4,0,2,7,1,15,3,0,11,5,17,4,6,11,10,3,17,6,8,8,3,12,4,19,3,2,12,0,8,10,13,16,4,11,13,0,8,18,3,0,0,3,1,18,0,10,20,13,18,3,12,16,1,8,10,5,0,6,6,5,3,4,4,8,14,0,15,10,7,0,5,13,3,5,2,6,0,3,1,19,2,5,1,0,3,4,0,2,0,0,0,0,0,0,0,30,7,13,0,0,0,5,25,0,0,0,0,0,16,0,0,9,8,9,0,0,4,0,0,0,0,0,0,0,0,0,4,11,3,0,0,0,0,10,10,0,3,0,0,0,0,0,0,45,2,1,2,0,0,0,0,0,0,0,0,0,0,0,0,0,0,0,0,0,1,0,4,0,0,15,0,0,0,3,3,3,0,3,0,3,0,1,0,0,0,12,0,0,2,3,0,0,0,0,0,0,0,0,0,4,3,3,3,0,0,0,0,0,4,2,3,3,1,4,2,5,4,3,3,4,1,3,0,0,0,12,11,4,1,0,6,17,0,0,0,0,0,1,0,24,2,5,2,0,16,15,0,0,8,3,3,2,0,10,1,0,0,3,15,6,12,4,1,0,12,6,0,1,2,7,5,4,8,1,2,5,5,0,1,7,0,10,6,13,5,1,9,4,1,0,8,3,2,0,1,0,2,6,1,0,2,12,8,1,4,5,7,6,10,2,10,6,0,4,12,21,19,14,3,0,0,0,11,3,3,0,9,7,4,13,4,2,8,0,5,8,9,12,17,6,2,1,4,11,6,4,0,2,4,6,3,1,13,7,12,3,8,2,0,4,15,24,0,5,8,1,3,20,4,8,14,27,0,4,0,5,1,2,7,4,10,2,5,9,0,10,0,12,4,3,9,6,10,6,7,0,6,13,23,6,9,4,2,4,0,15,4,6,2,0,0,2,2,13,6,0,6,16,2,22,0,0,0,0,0,7,0,0,0,0,0,0,0,0,22,0,0,0,0,0,0,0,2,3,0,1,0,0,0,1,0,0,10,0,4,8,5,5,0,5,1,3,0,3,0,0,0,0,0,0,0,0,0,0,0,0,0,0,0,0,0,3,3,0,3,3,2,3,0,3,0,3,1,3,0,0,3,0,0,11,7,1,3,4,0,2,0,0,4,0,3,1,3,3,0,0,5,0,3,0,0,3,4,3,0,0,0,3,0,0,0,2,0,0,0,3,3,0,0,0,0,5,0,6,0,6,0,3,0,0,1,1,1,0,0,1,2,7,1,0,0,3,2,1,0,1,0,0,5,0,0,0,0,0,13,7,2,1,4,0,0,0,0,2,1,4,0,2,0,0,0,2,18,11,0,1,0,0,0,3,2,0,0,1,3,7,0,2,3,13,5,19,1,7,2,7,2,8,2,3,8,2,2,3,2,1,8,5,12,15,18,4,4,0,1,0,25,9,0,5,1,24,12,13,0,10,1,0,3,2,10,11,9,4,15,1,3,1,5,2,2,12,19,9,1,3,3,10,15,0,0,0,3,0,4,3,1,3,8,3,0,3,3,0,0,0,7,15,14,4,3,0,8,0,3,30,3,16,6,2,3,2,0,9,18,9,3,0,3,12,15,11,12,15,0,19,0,4,12,20,12,7,11,6,0,3,22,2,3,13,9,4,0,1,12,3,10,9,0,3,0,2,1,0,0,9,7,10,3,14,10,3,3,2,15,3,3,1,16,17,5,2,4,9,3,5,4,2,15,7,3,4,4,9,5,8,4,0,16,1,18,5,2,0,6,0,0,0,0,0,0,0,0,0,0,0,0,25,0,0,0,0,0,0,0,0,0,13,0,3,0,0,0,0,0,0,0,0,0,0,0,0,0,0,0,0,0,0,6,6,1,12,0,1,0,14,9,15,2,1,0,0,2,0,6,0,0,0,1,0,0,0,0,0,0,0,0,0,0,0,0,0,0,1,9,0,0,0,0,0,4,3,3,0,0,0,0,3,3,3,2,3,3,2,0,5,0,0,3,0,0,3,3,3,0,3,2,3,0,0,4,0,0,0,1,3,0,0,2,3,0,4,2,0,1,0,4,1,2,3,1,0,2,2,0,3,0,3,3,2,5,4,5,1,2,2,0,6,4,2,0,0,1,2,3,0,1,0,4,5,1,2,0,5,3,5,6,9,11,0,2,0,2,2,0,7,3,3,4,0,6,0,9,6,2,0,3,19,8,6,3,0,18,5,0,1,0,5,21,5,7,0,6,3,6,3,3,2,0,4,0,1,0,0,5,3,7,17,3,2,4,3,13,0,4,2,16,7,3,0,0,10,0,3,17,9,7,5,5,10,18,4,8,0,3,0,0,2,0,3,2,8,10,6,8,4,1,5,9,14,9,4,11,2,18,2,15,8,9,4,15,17,14,0,3,21,18,12,5,16,5,15,8,10,8,12,0,7,0,8,3,5,8,12,7,8,1,8,4,3,18,2,2,40,0,1,3,3,3,2,3,3,3,7,4,19,3,4,3,5,9,1,1,1,3,4,3,3,3,1,0,0,9,16,0,5,4,0,0,4,0,0,0,0,11,0,0,0,0,0,0,0,0,0,0,0,0,0,0,0,0,0,0,0,0,0,0,0,0,0,0,3,0,0,0,4,0,0,0,13,0,17,0,0,0,0,2,0,0,0,0,0,0,1,10,50,0,50,0,0,0,0,2,0,4,6,0,0,0,9,16,0,2,0,0,1,3,1,0,0,0,0,0,0,0,0,0,0,0,0,0,0,0,0,0,0,0,0,0,0,0,0,0,2,2,1,3,2,2,3,3,3,2,3,3,2,0,0,3,0,0,1,0,3,3,3,3,0,3,3,0,3,0,3,0,0,0,5,0,0,0,2,5,0,2,0,3,0,0,2,3,0,0,0,0,0,0,0,0,0,0,0,2,0,0,0,0,2,2,0,0,2,0,0,0,0,0,0,0,0,0,0,0,2,2,0,0,0,1,3,2,0,0,0,0,4,3,0,0,0,3,0,0,6,0,0,9,2,4,0,3,10,2,19,2,0,5,18,6,18,3,8,5,0,2,2,5,2,0,6,4,2,9,6,0,2,6,0,2,6,0,0,3,0,4,3,2,4,2,21,7,0,12,6,12,1,0,0,3,1,3,5,12,8,17,1,0,10,4,0,2,4,0,3,0,0,4,1,7,2,8,9,5,0,3,2,5,3,13,10,10,5,0,0,0,10,1,4,0,16,2,0,8,18,10,6,14,9,11,3,8,7,18,0,0,5,3,0,0,11,3,3,11,11,0,7,18,3,6,11,6,22,0,0,15,1,1,0,28,4,3,4,5,9,2,2,3,2,1,2,0,0,0,0,0,0,33,0,50,0,0,0,0,0,0,0,0,0,0,0,0,0,0,0,0,0,0,0,0,0,0,0,25,0,9,0,0,4,0,2,0,0,0,0,0,0,6,3,0,0,0,6,0,0,1,0,0,1,11,5,0,3,0,5,1,0,2,0,1,0,0,0,0,0,0,0,0,0,0,3,2,0,2,3,0,0,2,1,0,0,0,2,1,2,1,0,0,0,3,1,0,0,3,0,0,11,1,2,0,3,0,0,0,2,0,3,0,0,3,4,1,3,3,0,0,0,5,3,4,0,0,3,2,0,1,2,2,1449,3,3,1,1,0,0,3,0,0,0,1,0,0,9,1,0,1,13,0,1,1,0,0,0,1,0,0,2,6,0,4,4,4,1,0,17,0,13,11,19,1,0,0,0,2,5,9,2,0,13,3,15,3,0,6,0,0,2,4,1,5,2,0,2,6,3,1,6,4,2,0,12,2,0,0,2,3,1,0,13,8,2,7,5,1,4,5,1,4,21,0,0,0,7,8,11,14,3,14,0,10,9,1,10,10,11,8,1,6,10,5,0,18,15,4,1,3,0,3,12,3,5,8,18,13,0,0,9,9,6,11,5,13,16,2,10,18,10,7,10,10,14,7,7,4,0,18,16,6,18,9,11,2,17,0,11,13,3,3,12,4,14,20,10,9,3,0,0,12,10,9,3,15,8,21,7,1,2,15,1,2,0,0,2,0,0,0,0,2,0,2,4,0,0,0,22,18,35,20,0,28,0,30,0,1,4,0,0,0,0,0,0,0,0,0,0,0,0,0,0,0,0,0,0,0,18,0,0,0,0,8,0,0,0,0,0,0,0,1,0,0,4,16,0,0,0,0,8,0,7,0,10,0,0,3,4,0,0,0,0,5,0,1,5,2,0,0,10,4,10,0,2,5,0,0,0,9,0,0,4,1,7,0,0,0,0,3,0,0,0,0,0,0,0,0,0,0,0,0,0,0,0,0,0,0,0,0,0,0,3,2,3,0,2,0,0,0,3,0,0,3,3,0,0,0,0,0,0,0,5,0,0,0,0,0,0,1,0,0,0,0,0,1,2,0,0,0,0,0,0,0,0,0,17,0,22,0,9,0,0,0,0,2,10,0,1,0,0,0,1,0,1,0,1,6,0,0,0,8,0,0,2,2,0,0,5,2,2,0,6,0,4,2,0,0,5,2,2,0,0,5,5,8,3,1,4,5,0,0,2,13,0,6,21,1,1,2,3,9,6,18,1,11,0,4,43,6,3,7,2,3,22,20,0,13,8,6,0,0,6,2,11,3,0,1,6,12,0,0,8,1,0,13,6,11,4,13,0,8,6,3,0,1,0,9,5,6,5,0,3,0,5,7,8,6,7,17,11,4,14,14,20,0,9,0,12,8,8,9,5,0,13,15,7,7,5,1,5,0,0,0,9,2,1,0,19,8,3,8,11,10,6,11,9,0,2,5,0,0,13,7,9,5,6,7,3,6,1,3,3,2,3,0,0,0,10,10,15,0,0,0,8,1,0,0,0,0,0,0,0,0,0,0,15,0,0,0,0,25,0,0,0,0,2,0,0,0,0,0,0,0,2,0,12,0,0,0,0,0,0,0,9,0,0,0,0,9,7,0,41,0,0,0,6,0,0,5,0,10,4,6,0,1,0,0,0,0,0,0,0,2,0,0,0,0,0,0,0,0,0,0,0,0,0,0,0,0,0,0,0,0,0,0,0,0,0,0,0,0,0,0,0,3,1,0,0,1,0,0,0,0,0,0,0,0,0,0,0,1,0,0,0,0,0,0,0,0,3,0,0,0,1,0,0,0,3,0,4,0,0,2,12,3,0,1,0,1,4,0,0,3,0,0,0,0,0,3,0,4,0,1,0,0,1,0,0,2,0,0,0,0,0,0,9,3,1,2,0,0,2,0,0,7,8,0,2,2,4,14,0,0,0,21,0,0,1,2,16,0,0,0,0,0,4,0,0,1,0,0,0,11,0,0,44,0,2,0,7,2,0,3,0,15,2,0,0,3,1,0,2,0,4,10,4,4,7,3,0,4,13,1329,3,3,3,0,14,3,7,4,9,7,13,13,7,6,3,3,5,3,2,9,7,5,1,3,9,0,4,7,0,0,3,10,0,2,9,3,3,13,7,4,4,0,13,2,0,0,13,13,7,13,0,9,5,12,0,3,13,5,5,7,7,13,0,8,4,8,12,6,2,2,12,4,4,4,8,10,1,0,10,8,10,0,0,4,7,0,9,25,3,15,12,5,10,2,0,0,1,0,19,5,3,3,3,0,3,1,0,7,1,2,5,13,4,5,4,3,5,3,4,1,6,3,0,0,1,8,16,0,0,0,0,0,0,0,25,18,0,0,0,0,0,1,0,0,0,0,0,0,0,0,0,0,0,0,0,0,2,0,0,0,2,2,0,0,0,0,0,3,0,6,9,0,4,3,0,7,4,14,0,0,0,2,0,1,0,0,0,1,2,0,0,0,0,0,0,0,0,0,0,0,0,3,0,5,0,0,2,0,0,0,0,0,2,0,0,0,0,5,2,0,0,0,0,0,0,0,4,2,2,0,0,3,0,1,5,3,3,0,0,0,10,0,1,0,5,15,0,0,0,0,0,0,0,2,0,0,9,4,2,6,0,4,0,0,0,7,2,2,5,10,0,4,0,2,2,0,2,0,2,0,2,4,0,0,2,20,4,4,7,6,2,8,21,1,0,1,4,5,3,2,7,11,7,0,0,0,3,2,0,1,2,11,13,0,5,1,8,4,0,0,0,3,5,25,7,1,0,8,16,10,2,6,1,8,2,8,0,29,0,15,6,7,2,7,10,6,0,4,5,0,13,8,3,7,2,0,0,7,2,0,1,10,8,7,0,3,4,9,4,5,0,3,8,16,8,0,2,3,6,10,7,0,11,7,0,4,12,9,20,3,0,6,45,0,6,3,6,0,3,1,6,0,0,2,19,9,0,0,2,4,0,0,0,0,0,35,0,40,0,0,0,0,0,0,0,0,2,0,0,0,0,0,0,2,0,0,1,0,0,0,5,0,0,0,1,0,0,5,0,0,0,0,0,0,0,0,0,0,0,0,0,0,0,0,0,0,0,0,0,1,0,0,0,0,0,1,0,0,0,0,0,0,0,0,0,0,0,2,0,0,0,0,0,1,0,0,0,0,0,12,0,0,0,0,0,0,0,20,0,0,0,0,0,0,6,2,0,0,2,0,2,12,0,0,3,0,0,3,4,1,21,3,0,1,1,0,5,1,0,0,0,0,3,4,0,0,0,2,1,19,8,2,0,2,0,0,8,1,0,0,1,6,7,4,5,1,0,8,4,9,4,8,6,2,2,1,1,0,4,1,0,4,0,0,10,4,0,4,5,3,6,5,2,1,4,3,4,7,16,8,3,2,0,0,3,2,5,0,2,4,3,11,7,9,1,2,4,10,4,6,11,9,9,9,7,11,9,7,30,5,9,6,12,12,12,8,11,10,3,4,7,0,12,8,0,2,16,7,0,0,0,7,0,5,9,3,0,9,2,0,0,5,0,10,5,8,6,7,0,17,8,2,2,3,2,0,0,11,0,0,0,0,0,0,0,0,0,0,0,4,0,0,0,1,3,0,0,0,4,0,0,0,7,3,0,0,0,0,5,3,0,0,0,2,0,6,4,2,2,3,5,0,0,4,2,7,2,0,5,2,0,0,0,0,0,2,0,0,0,0,0,0,0,0,0,0,0,0,0,0,0,0,0,0,0,0,0,0,0,0,0,0,1,0,1,0,1,0,0,2,3,1,18,0,4,3,0,0,0,0,2,0,0,0,0,4,0,0,0,0,0,0,1,2,0,0,3,0,0,0,2,0,0,0,0,0,2,2,0,1,2,0,0,3,0,0,0,0,0,2,2,2,0,3,0,0,3,0,6,0,0,5,6,2,0,4,5,0,13,3,7,8,2,2,2,0,0,3,3,4,2,3,1,3,4,0,7,19,2,0,3,0,0,3,4,4,3,0,6,0,3,8,9,0,1,9,2,0,2,0,5,9,2,0,0,9,12,3,0,6,0,5,5,2,0,6,3,0,3,1,2,3,0,4,6,11,5,5,0,0,2,2,4,13,0,0,0,1,3,5,4,1,11,5,5,6,3,2,8,11,0,24,1,17,12,9,0,5,6,0,1,0,11,6,6,8,16,2,6,10,0,9,4,8,6,0,8,11,4,0,9,6,7,10,3,5,12,4,10,22,10,30,7,1,7,4,22,4,15,4,0,1,10,10,3,3,2,3,6,0,1,3,4,3,5,13,2,1,0,4,0,0,0,0,0,0,0,4,0,25,26,0,0,0,0,0,0,0,0,0,0,0,0,0,0,0,0,0,0,0,0,0,0,0,0,0,0,0,5,0,0,0,0,0,0,0,0,2,10,3,0,0,0,0,0,0,4,0,0,15,0,12,4,0,0,0,0,0,0,30,6,0,0,6,0,8,9,0,1,0,5,6,3,5,2,0,10,2,0,0,0,5,0,0,0,0,22,7,0,0,6,0,0,0,0,0,0,0,0,1,0,1,0,0,0,0,0,0,0,0,0,1,0,0,0,0,0,0,0,0,0,5,2,0,0,3,0,2,0,0,0,0,0,1,3,0,0,0,1,24,0,3,1,0,1,0,0,0,3,5,0,2,0,0,0,3,4,0,0,0,1,3,7,0,0,4,3,0,0,0,3,0,2,0,0,0,0,0,0,2,0,3,1,5,2,0,4,4,3,0,0,4,3,0,16,3,0,0,18,1,0,2,10,2,8,6,3,2,6,3,6,15,3,5,0,1,0,2,0,4,6,3,1,8,3,2,1,7,0,0,6,2,8,5,4,11,0,7,7,9,6,5,2,5,7,4,6,6,2,10,4,6,8,27,1,8,7,8,6,13,16,5,7,4,4,0,6,7,14,8,6,3,0,1,6,16,3,13,3,6,0,18,12,7,4,0,8,9,12,8,1,14,12,10,2,12,1,1,0,6,8,7,11,0,7,7,5,6,3,3,1,5,0,0,0,0,0,0,0,0,0,0,0,0,0,0,0,0,0,35,0,5,0,0,2,1,25,0,0,0,0,0,0,0,0,0,10,0,4,6,0,8,0,0,0,0,0,0,8,0,0,0,0,0,0,0,0,7,0,3,0,0,0,0,0,0,0,0,2,0,0,0,0,0,0,3,5,0,9,2,0,0,0,0,0,0,0,0,0,0,0,0,1,0,8,5,0,10,1,2,0,0,4,0,0,0,0,0,0,0,0,0,0,0,3,0,0,0,0,0,0,0,0,0,0,0,0,0,0,0,0,0,1,0,0,0,0,0,0,2,0,0,0,0,0,0,0,0,6,0,0,0,0,0,0,1,1,3,0,0,0,0,0,0,0,0,0,0,3,0,0,0,8,1,0,1,0,0,0,0,0,1,0,0,1,3,0,2,1,2,5,7,2,2,0,4,4,12,0,3,2,0,0,4,5,0,5,1,0,7,0,0,0,0,0,0,2,6,3,4,7,0,5,4,4,0,7,0,6,8,5,1,2,6,4,2,3,3,2,5,5,8,11,1,2,8,5,5,2,4,9,10,8,0,9,17,5,7,8,12,9,2,4,2,2,6,19,1,5,7,0,12,0,4,0,2,5,7,6,5,6,6,3,2,0,0,4,4,7,8,2,10,8,3,11,13,15,9,5,10,3,12,4,8,12,12,13,7,5,3,6,3,7,1,7,12,4,3,1,1,0,3,1,0,0,0,1,3,0,3,0,0,0,0,0,0,0,0,0,0,7,0,5,0,2,0,0,8,0,8,0,0,0,0,2,0,7,0,7,0,0,1,0,8,8,6,2,0,14,10,3,1,0,1,0,0,0,0,0,0,0,0,0,0,0,0,0,0,0,0,0,0,10,0,0,0,4,0,0,13,1,0,1,0,0,0,0,0,0,1,0,0,0,0,2,0,0,0,0,0,0,2,0,3,3,0,1,0,5,4,1,0,1,1,2,2,2,3,0,3,0,1,2,0,1,0,0,0,1,10,5,1,1,8,1,3,0,0,0,5,0,0,10,0,0,3,0,17,4,5,5,0,5,3,0,8,7,7,0,1,3,6,0,0,2,6,3,5,8,8,0,1,2,3,2,2,9,2,4,7,3,2,2,0,8,5,10,4,3,7,3,16,7,9,4,3,12,3,0,0,2,11,9,3,14,3,1,3,16,4,8,7,10,0,0,10,10,7,7,0,16,0,7,6,0,10,1,9,3,1,1,10,9,9,10,10,22,2,10,1,8,2,8,5,6,9,2,1,1,19,5,5,4,1,0,0,3,1,0,0,0,3,6,0,0,0,0,0,0,0,0,0,0,0,0,0,0,0,0,0,0,0,0,0,0,1,0,0,0,0,9,0,0,0,0,0,0,0,0,0,0,0,0,0,2,0,0,0,0,0,0,0,0,0,10,0,18,1,0,0,5,0,14,0,0,0,0,0,0,0,0,0,0,0,0,0,0,0,0,0,0,0,0,5,0,0,0,0,0,0,0,0,0,0,0,0,0,0,0,0,3,1,6,2,0,0,2,0,0,0,0,0,0,0,3,0,5,0,0,0,0,7,6,0,3,2,1,0,0,2,0,0,0,3,7,0,0,2,3,5,6,4,6,4,4,7,3,2,1,1,3,0,4,3,0,1,0,3,4,0,0,10,2,9,5,5,3,2,2,6,3,0,6,11,8,2,4,3,4,4,6,7,6,2,8,0,15,14,0,15,0,3,0,8,15,9,17,8,0,6,15,5,11,2,6,20,0,14,0,17,1,5,5,0,1,10,0,0,3,2,17,0,0,0,500,2,0,0,25,0,0,0,0,0,0,5,3,5,1,0,0,0,0,0,0,0,0,0,0,0,0,0,0,0,0,3,1,5,5,0,4,0,0,0,2,0,1,0,0,12,2,0,0,2,0,0,1,2,1,0,0,2,0,0,0,0,0,0,0,0,0,0,0,0,0,0,0,0,0,0,0,0,0,0,0,0,0,0,0,0,0,0,0,0,6,4,9,0,0,0,0,0,0,0,0,0,0,0,0,0,0,0,12,4,0,0,0,0,0,0,0,0,0,0,0,0,0,0,0,0,0,0,0,0,1,0,0,0,0,0,0,0,0,1,0,0,0,0,1,0,0,0,5,0,0,1,0,0,0,0,0,1,0,0,0,0,1,0,1,0,0,0,5,5,0,0,1,0,0,0,0,0,0,0,0,0,1,0,0,0,0,0,0,0,6,0,0,0,0,1,0,0,0,0,2,1,2,0,0,0,0,2,3,0,0,0,5,0,0,0,0,0,0,0,0,0,2,0,0,0,0,3,0,0,0,0,0,2,0,8,0,0,5,0,0,0,7,8,0,0,0,7,0,0,0,0,3,2,0,4,0,0,0,5,0,0,0,0,8,5,3,0,0,0,0,0,8,0,8,0,0,0,0,0,1,0,5,5,0,0,8,0,14,2,4,0,5,0,5,2,0,0,0,6,4,5,8,6,4,7,0,5,8,19,11,1,0,5,7,7,4,5,3,5,0,9,8,19,0,0,5,0,2,12,2,0,12,3,1,0,0,17,1,0,4,0,3,9,3,8,6,3,1,0,9,8,0,2,7,5,0,3,9,16,6,0,0,5,8,6,16,6,0,9,9,0,9,0,0,7,0,30,0,0,15,12,0,0,4,4,17,8,12,11,0,7,23,7,8,0,6,15,8,0,0,0,5,0,52,0,0,5,8,0,4,5,9,0,0,4,20,0,0,1,2,0,19,1,0,1,6,2,0,1,0,1,0,0,3,0,5,2,0,4,1,2,2,16,3,4,0,0,10,1,0,1,0,0,0,0,0,0,0,0,12,0,0,0,0,0,6,5,3,9,5,9,0,0,0,0,0,0,0,0,0,0,20,0,0,0,0,0,0,2368,0,10,0,3,0,0,4,0,0,0,0,6,5,1,2,0,6,10,0,0,3,0,0,1,8,3,0,0,0,0,0,0,0,0,0,0,0,0,0,0,0,0,0,0,0,0,0,0,0,0,0,0,8,0,0,0,0,0,0,0,0,0,0,0,0,0,0,0,0,12,5,0,0,0,0,0,0,0,0,0,0,0,0,0,0,0,0,0,10,0,0,1,0,0,0,0,0,0,0,0,0,0,0,0,2,0,0,1,0,0,0,0,0,5,0,0,0,0,1,0,0,3,0,0,0,0,0,10,14,2,0,0,0,4,0,0,0,4,4,0,2,0,0,0,0,0,0,0,0,0,6,0,2,0,1,0,0,0,1,3,0,0,0,0,0,12,1,0,0,0,0,0,0,0,0,0,0,0,0,0,0,0,0,0,17,4,8,0,5,0,0,0,0,0,0,0,2,0,0,0,0,0,10,0,0,0,0,0,0,0,5,0,3,5,0,0,0,0,0,0,8,0,13,6,0,1,0,0,1,0,0,5,0,0,0,2,0,0,8,0,1,3,0,0,0,0,6,0,0,0,1,3,7,0,0,0,0,2,6,0,0,0,0,0,2,0,2,8,0,0,0,0,0,3,0,1,0,0,3,8,0,0,0,4,0,0,0,0,0,5,0,0,0,1,0,3,0,4,0,2,0,0,3,4,0,0,0,0,3,5,0,2,0,0,4,15,3,3,0,0,2,11,1,0,0,2,0,11,6,2,6,3,0,1,1,22,10,8,2,9,5,0,0,3,0,0,5,4,8,2,2,4,0,2,3,0,6,0,5,7,2,2,0,0,0,8,6,2,0,5,0,1,2,0,4,8,3,0,0,4,2,0,7,0,8,0,4,8,0,0,2,0,4,14,4,3,0,0,5,0,0,2,2,8,6,5,0,4,10,15,8,3,7,8,7,0,0,0,12,0,0,8,0,5,8,6,8,4,5,6,0,0,1,17,8,13,5,0,16,3,1,9,0,1,2,0,0,0,5,2,11,7,8,3,4,8,1,8,5,8,1,4,1,0,7,1,17,0,4,8,4,1,3,6,0,0,6,6,0,5,16,6,8,0,3,3,0,0,0,0,5,12,4,8,15,14,3,0,1,0,8,0,0,0,0,0,0,0,0,0,0,0,0,0,0,0,0,0,0,0,0,0,0,0,0,0,0,0,0,0,0,0,22,4,0,0,0,0,0,0,2,0,0,3,0,0,0,0,0,0,12,7,0,4,0,0,0,0,0,0,7,0,0,0,0,0,0,0,0,0,0,3,0,0,0,0,1,14,4,1,0,1,2,0,0,0,0,0,0,5,0,0,0,0,0,0,0,0,0,0,0,0,0,0,0,0,0,0,0,1,0,0,0,0,1,0,0,1,0,2,2,0,0,0,0,0,2,0,0,0,0,0,0,0,0,0,0,0,1,0,0,0,0,0,0,0,0,0,0,0,1,0,2,0,1,0,0,0,0,0,0,0,0,0,0,0,7,0,0,6,3,2,0,1,0,0,0,0,0,0,0,0,0,3,0,0,14,6,0,0,1,0,3,4,0,0,0,0,0,0,2,0,0,5,9,2,2,0,0,2,2,0,4,0,3,1,3,5,5,0,8,1,3,2,2,2,3,10,2,3,6,6,0,0,4,0,0,0,0,2,20,0,0,3,0,5,0,4,0,1,4,0,5,2,0,4,0,3,2,0,5,1,2,7,3,1,5,3,9,12,1,5,2,2,3,3,5,0,7,8,3,10,3,7,5,0,7,17,10,1,4,5,0,1,14,3,3,15,12,18,11,3,5,8,3,2,5,5,6,8,5,6,3,6,7,5,6,3,7,0,10,5,4,7,8,4,2,17,7,13,0,2,7,7,7,6,3,1,4,0,8,0,0,5,1,3,1,0,0,0,0,0,0,0,0,0,0,0,0,0,0,0,15,0,0,0,0,0,0,0,7,0,0,0,0,0,0,0,0,0,0,0,3,12,0,0,3,0,4,0,0,2,7,0,4,0,0,4,0,0,7,2,3,15,21,1,0,16,3,0,0,0,6,0,0,0,0,0,0,0,0,0,0,0,0,0,2,6,0,0,0,0,0,0,3,0,0,0,0,0,0,0,0,0,0,0,0,3,0,0,0,0,0,0,0,0,0,0,0,0,1,0,0,1,0,1,0,4,0,1,0,2,0,0,0,4,0,0,0,0,0,1,0,0,0,0,0,0,0,0,0,0,0,1,0,2,2,5,0,5,3,0,3,2,3,0,2,0,6,0,0,0,1,0,10,3,0,0,5,0,2,0,0,0,0,1,0,0,6,2,2,0,4,2,0,0,0,6,0,5,5,0,3,2,2,0,7,2,2,6,0,0,5,4,0,10,5,0,6,5,0,0,0,0,0,0,0,0,7,0,0,5,7,0,5,3,0,0,0,0,0,0,2,2,0,0,3,0,9,1,4,2,0,1,7,0,2,9,1,0,5,138,11,4,10,0,10,13,0,0,0,0,0,0,5,17,10,16,7,17,0,5,8,14,7,16,0,0,3,13,5,12,8,0,8,7,5,5,4,7,4,5,0,3,1,6,0,0,5,4,2,6,2,4,0,11,4,1,5,2,0,0,0,2,2,0,0,0,0,0,0,0,0,0,0,0,0,0,0,0,0,0,0,0,0,0,0,0,0,0,0,0,0,0,0,0,0,0,0,0,0,0,0,0,0,4,0,0,4,3,0,1,0,8,0,11,0,6,0,0,0,0,0,0,12,0,10,0,0,1,3,0,0,0,0,0,0,0,0,0,0,0,0,1,0,0,1,1,0,0,0,0,0,0,0,0,0,0,1,0,5,0,0,0,0,0,5,0,0,1,0,0,1,4,0,2,0,2,0,0,3,0,0,0,4,0,0,2,4,0,0,0,2,2,0,0,0,0,0,2,0,2,0,0,5,0,0,0,3,0,4,0,2,0,1,0,2,0,0,0,8,0,3,0,7,0,0,0,0,0,0,5,0,0,2,0,1,3,1,2,0,2,2,0,3,5,0,1,50,0,3,5,0,5,6,4,4,0,0,0,3,7,0,3,3,6,0,6,3,4,7,7,6,0,12,3,5,9,4,6,0,5,6,0,4,11,0,6,11,3,2,14,8,3,0,9,0,0,0,6,0,2,10,6,7,11,0,1,5,0,0,0,0,0,0,0,0,0,0,0,0,0,0,0,0,0,0,0,0,0,0,0,28,0,14,2,0,1,0,5,0,0,0,0,0,6,5,5,5,2,3,0,1,12,0,0,0,19,1,11,2,0,0,0,0,0,0,0,0,0,0,0,0,0,0,10,10,12,3,0,6,7,0,0,0,0,0,0,5,2,0,0,0,0,0,0,0,0,0,0,0,0,0,0,0,0,0,0,0,0,0,0,0,0,0,0,0,0,0,1,0,1,0,0,5,0,0,0,0,1,0,0,0,0,0,1,0,0,1,3,0,0,2,0,0,0,3,2,0,0,0,0,0,0,1,0,0,1,0,0,0,0,3,0,0,1,0,0,0,4,0,0,0,0,0,0,0,0,0,0,2,0,0,2,3,0,0,0,0,0,0,8,2,0,2,0,0,0,3,2,2,0,0,0,10,2,0,0,2,0,2,0,2,0,1,2,0,2,0,5,1,4,0,0,2,4,0,3,3,5,0,6,0,156,0,0,0,2,5,0,6,0,2,3,0,0,0,0,0,0,0,6,1,4,4,7,4,2,2,8,6,0,5,0,2,9,11,3,0,0,9,0,3,0,10,7,0,5,4,8,0,10,0,1,4,9,10,0,7,7,6,17,6,10,6,3,11,7,8,0,4,5,8,3,11,27,12,3,16,3,9007,14,5,8,0,0,0,4,2,1,6,4,1,4,7,12,4,16,18,4,8,6,0,2,0,2,9,21,5,0,9,0,8,2,12,13,2,4,2,18,6,3,3,0,11,1,6,0,2,0,7,4,3,0,0,14,10,4,0,0,0,0,0,20,0,0,0,0,8,8,3,0,0,0,0,0,0,0,0,0,0,0,0,0,0,0,1,1,8,0,0,0,6,2,0,0,3,7,11,0,0,4,2,0,0,0,0,0,0,0,0,0,0,0,0,0,0,0,0,0,0,0,0,4,0,0,0,0,0,0,0,0,0,0,0,0,0,1,2,0,0,0,0,7,0,0,0,3,0,0,0,0,0,0,0,4,0,3,3,0,2,0,3,0,7,0,0,0,2,3,0,0,0,3,1,0,3,0,0,0,0,0,0,0,4,0,0,0,0,0,0,0,1,0,0,4,0,0,0,0,0,2,0,0,1,3,0,0,0,2,0,0,3,0,3,0,2,0,1,0,5,3,1,9,0,3,0,0,1,2,5,0,0,1,0,4,0,30,0,2,0,0,4,0,3,0,0,0,4,5,0,0,4,6,0,3,7,5,4,0,0,2,22,0,2,0,0,10,2,5,2,3,4,3,0,1,3,2,0,6,1,5,0,2,1,2,3,1,4,4,3,6,2,5,4,3,0,6,3,3,8,5,8,3,5,7,3,4,2,0,4,2,3,0,3,7,5,0,1,5,2,5,8,7,5,3,4,7,3,3,5,5,14,0,6,1,9,4,0,5,2,5,5,0,8,5,4,2,0,6,8,8,4,3,6,3,5,0,3,7,5,4,2,2,1,9,5,8,2154,0,0,8,8,3,7,2,4,0,4,2,6,0,0,5,3,3,6,0,0,1,11,3,1,0,0,12,10,1,0,1,4,12,18,7,11,0,0,2,4,1,0,8,5,2,4,4,11,2,0,11,3,33,0,4,3,12,0,10,3,2,10,12,2,2,8,0,3,1,0,3,4,10,22,8,4,3,5,0,18,8,6,7,3,2,7,2,0,4,0,3,4,0,9,3,0,0,11,5,0,4,1,3,0,8,3,2,5,3,18,0,0,6,8,0,0,1,0,3,0,0,0,21,0,0,0,0,0,9,0,2,0,15,0,12,2,0,12,3,0,0,0,0,0,0,0,0,0,0,0,0,0,0,0,5,2,0,0,0,0,14,7,0,0,12,0,0,0,0,0,0,7,4,0,0,5,1,5,1,1,0,0,0,0,0,0,0,0,0,0,0,0,0,0,0,0,0,0,0,0,0,1,0,0,0,0,0,0,0,0,0,0,0,10,0,0,0,0,0,0,0,0,0,0,1,0,0,4,3,1,0,0,1,0,0,4,0,0,0,0,2,0,0,0,0,1,1,0,0,0,0,0,0,1,0,2,2,2,0,0,0,0,0,0,0,1,0,0,0,0,0,1,0,2,4,2,3,2,0,0,1,1,0,0,2,10,2,0,0,0,0,12,0,0,9,3,0,0,0,4,3,0,0,7,0,2,0,0,0,0,0,0,0,4,0,11,0,0,0,1,1,0,0,4,0,4,8,8,2,6,3,2,3,7,0,5,0,4,0,10,1,4,7,6,3,10,1,4,3,9,3,0,0,0,0,5,3,5,5,4,13,0,4,5,10,4,0,0,6,16,5,12,2,9,0,16,3,8,1,11,9,9,8,4,2,0,0,14,4,14,10,4,11,2,1,1,0,11,12,2,18,3,0,6,0,11,11,2,0,3,5,1,2,1,12,0,0,0,2,0,2,0,0,0,0,16,0,0,0,0,0,0,0,0,0,0,0,0,0,0,0,0,3,0,0,5,0,0,0,0,0,0,0,0,0,0,0,0,0,0,0,0,0,0,0,10,1,3,0,0,0,8,1,0,0,0,21,0,0,0,0,0,10,1,0,0,0,0,0,0,0,0,0,0,0,0,0,0,0,0,0,0,0,0,0,0,3,0,0,0,0,0,0,0,0,0,0,0,0,0,0,0,0,0,0,0,0,0,0,17,9,4,0,0,0,0,1,2,0,5,0,1,3,0,4,0,0,2,0,0,0,0,0,0,5,0,0,0,8,5,0,0,9,0,0,3,20,0,0,2,0,0,0,2,3,1,10,0,0,3,16,3,0,2,5,8,2,1,1,4,3,2,22,1,2,2,0,0,2,3,3,3,10,5,0,0,5,2,0,5,3,3,6,5,2,0,1,3,3,2,0,2,4,0,6,5,0,3,0,7,6,0,4,14,8,6,9,5,0,6,15,9,4,0,6,0,0,3,2,13,6,0,3,1,3,13,1,16,0,2,4,5,0,0,2,2,2,6,0,7,16,5,0,12,13,0,13,10,0,6,10,3,7,2,7,3,0,4,2,0,1,10,11,2,5,1,10,3,0,1,2,0,0,0,0,0,0,7,2,0,3,6,0,0,0,0,0,0,0,0,0,0,0,0,0,0,0,50,0,0,0,0,0,1,0,0,0,0,0,0,3,0,0,0,40,0,0,0,0,5,2,40,0,1,0,1,0,14,2,0,0,0,0,0,0,0,0,0,3,0,1,0,1,0,0,0,0,0,3,2,3,0,0,3,0,2,0,0,0,2,0,0,2,0,10,0,0,0,0,0,2,0,1,0,0,0,0,0,0,0,0,0,0,0,0,3,0,0,0,6,8,2,0,2,0,0,0,0,7,2,4,0,9,0,0,1,0,8,5,0,2,20,0,4,0,3,0,8,4,2,2,4,2,2,5,0,3,8,18,3,5,3,16,2,1,0,2,0,6,0,5,4,8,9,1,9,5,36,0,6,4,8,4,1,0,4,1,6,2,0,7,0,5,0,10,6,10,3,1,0,10,7,10,2,13,14,0,0,7,0,10,0,0,2,0,0,12,10,0,0,3,3,15,7,16,5,5,3,7,12,2,7,16,9,0,12,3,4,4,3,2,0,0,0,1,9,1,5,5,0,0,3,0,0,0,0,0,30,55,0,0,0,0,0,0,0,0,0,0,0,0,0,0,10,0,0,3,1,0,1,3,0,0,13,8,4,0,4,0,0,6,0,3,4,10,5,5,0,3,0,0,0,0,0,0,0,0,0,0,14,4,0,0,0,0,0,0,0,0,0,0,0,0,0,0,0,0,0,0,0,0,0,0,0,0,0,0,0,0,0,0,0,0,0,0,0,0,0,0,0,0,0,0,0,3,0,0,2,0,0,0,1,0,0,3,0,0,2,0,0,0,0,0,0,0,0,0,0,0,0,0,0,0,0,0,10,0,0,2,0,0,0,2,0,0,0,0,0,0,0,0,0,0,0,3,0,0,3,0,0,3,0,1,1,0,2,0,0,0,0,8,0,0,1,4,0,0,0,1,0,0,4,4,2,0,0,1,0,9,0,0,0,0,0,6,0,0,10,0,0,0,4,0,0,4,2,6,0,1,5,2,8,0,2,0,0,0,5,0,1,2,0,5,3,0,0,0,0,0,0,4,0,0,0,2,0,3,2,0,1,4,0,0,2,0,0,0,0,4,8,0,0,0,8,21,7,0,2,0,0,3,0,0,4,3,0,2,1,0,0,0,0,6,0,0,6,0,0,4,0,0,4,0,0,6,0,2,2,0,7,0,16,0,0,0,0,0,0,5,3,0,0,12,2,3,9,0,3,0,6,6,7,20,4,0,1,1,0,5,2,0,10,0,3,25,0,9,0,4,4,0,0,9,2,7,0,0,4,5,0,3,0,0,0,6,0,5,5,5,0,7,5,3,4,8,6,6,3,7,0,10,9,3,12,0,11,16,8,3,0,12,4,0,0,0,0,0,6,11,6,3,0,3,9,6,4,0,0,3,4,5,6,5,16,1,9,4,40,45,0,0,0,0,0,0,0,0,0,0,0,0,0,0,0,0,0,0,0,0,0,0,0,0,4,0,0,0,0,0,0,19,0,0,0,0,3,0,2,0,0,0,0,0,0,11,0,4,0,1,0,0,0,1,0,0,0,0,0,0,0,0,0,0,0,0,0,0,7,0,0,0,0,0,0,0,0,0,0,0,0,0,1,0,0,0,0,1,0,0,0,0,0,0,0,0,0,0,0,1,1,0,0,0,0,0,0,0,0,0,0,3,1,0,0,0,5,2,17,0,0,0,0,0,0,1,0,2,0,0,0,0,2,0,0,2,0,0,0,1,0,0,0,0,0,0,2,2,0,0,2,0,0,2,0,4,0,5,0,0,3,0,3,0,0,0,0,2,0,2,1,0,6,0,0,1,0,0,2,5,0,0,0,0,0,0,2,0,3,0,0,0,1,0,0,1,0,0,5,3,0,1,6,0,2,0,0,3,0,7,0,0,0,0,0,2,0,4,1,2,0,2,2,0,7,2,0,4,0,3,0,0,7,0,0,8,9,2,0,0,0,5,4,5,5,0,10,5,2,0,0,12,9,0,11,3,4,3,0,2,3,0,4,2,0,13,6,5,4,12,3,3,0,9,0,6,0,0,0,7,5,3,0,11,7,0,2,13,8,3,5,0,0,0,12,2,1,9,0,16,1,7,15,5,3,0,1,15,4,0,16,15,18,9,1,3,10,9,2,4,10,4,2,7,0,0,10,10,10,4,8,0,2,3,0,3,3,7,2,1,5,0,1,0,0,0,0,0,33,0,0,0,0,0,0,0,0,0,0,0,0,0,0,0,0,0,0,0,0,0,0,0,0,4,0,0,0,0,0,0,0,0,0,0,0,5,0,4,0,3,3,2312,1,0,0,0,0,0,0,0,0,0,1,0,0,0,0,0,0,0,0,0,0,0,1,0,0,0,0,0,0,0,0,0,0,0,0,1,0,0,0,0,0,0,0,0,0,0,0,0,0,0,0,0,0,0,0,0,0,1,0,0,0,0,0,0,0,0,0,0,1,0,0,1,0,0,0,0,0,0,1,2,0,5,6,0,0,7,1,1,1,0,0,1,4,0,2,3,0,3,1,0,0,2,6,6,0,0,2,0,0,0,0,3,3,10,8,14,0,0,0,5,10,9,0,0,5,0,8,4,3,2,4,4,4,4,2,2,2,6,0,4,10,7,0,2,0,2,8,1,7,8,0,1,8,0,17,6,7,3,3,7,11,0,4,0,6,4,0,7,0,9,0,2,10,8,10,0,0,15,0,3,9,2,0,4,10,5,0,2,8,5,7,12,12,0,8,9,0,2,0,13,0,6,2,0,16,14,4,9,0,6,5,6,8,8,0,15,0,9,0,7,5,5,7,7,0,8,3,0,6,10,4,0,10,3,0,6,0,2,0,0,3,7,0,0,2,0,0,0,5,0,0,0,0,0,0,0,0,0,0,4802,0,0,0,0,0,0,0,0,0,0,0,0,0,0,0,0,40,0,0,5,0,0,0,0,0,0,0,0,5,5,0,5,0,0,0,0,1,5,2,0,0,0,0,0,0,0,0,0,0,0,0,0,0,0,0,0,0,0,0,0,2,2,0,4,8,3,0,0,0,0,0,0,0,2,0,0,0,0,0,0,0,0,1,0,0,0,0,2,0,0,0,0,2,0,2,0,0,0,3,0,0,0,0,0,3,0,4,3,0,0,4,0,2,22,7,1,0,0,0,3,0,0,2,2,4,0,2,3,0,2,0,0,2,0,0,1,1,0,4,0,0,0,2,2,0,0,2,0,0,0,0,2,0,2,4,0,3,8,0,0,2,0,1,2,2,1,2,0,7,2,3,0,0,0,0,4,6,5,2,0,0,5,3,0,0,0,3,4,2,0,4,5,6,2,5,12,0,12,0,0,7,8,1,6,0,5,0,13,10,8,9,0,4,7,4,8,0,0,3,0,0,6,9,40,5,16,0,7,4,5,3,0,12,14,10,8,0,4,4,14,1,1,12,2,0,3,5,0,6,7,0,2,3,8,4,8,8,3,10,3,4,10,5,3,25,2,4,6,1,6,4,4,16,1,0,3,7,0,0,0,2,0,0,0,0,0,0,0,0,0,0,50,0,35,0,38,0,0,0,0,1,0,3,0,0,0,0,0,0,0,0,0,0,0,0,0,0,0,0,0,0,0,0,0,0,0,0,0,0,0,0,0,0,0,0,5,0,0,0,3,6,0,2,0,0,0,3,5,0,0,0,0,0,0,0,0,0,0,0,0,0,0,0,0,0,0,0,0,0,0,0,0,0,0,0,0,0,0,0,0,0,0,0,0,4,0,0,0,0,0,0,0,0,0,0,0,0,0,0,0,0,0,0,0,0,0,0,0,0,0,0,0,0,0,0,0,0,0,0,0,0,0,0,2,1,0,0,0,0,0,0,0,0,0,0,0,0,0,0,0,0,0,3,0,0,0,1,0,0,0,0,0,0,0,0,0,0,0,0,0,0,0,0,0,0,0,0,0,0,0,0,0,0,0,0,0,0,0,0,1,0,2,0,0,0,0,0,0,0,0,0,0,0,0,0,0,0,0,0,0,4,4,0,7,0,0,0,0,0,0,0,0,0,0,0,0,0,0,0,0,0,0,0,0,0,0,0,0,0,0,0,0,0,0,0,0,0,0,0,0,0,0,0,0,0,0,0,0,0,0,0,0,1,2,6,2,4,0,0,0,0,0,0,0,2,0,0,0,0,0,0,0,3,2,4,2,5,0,0,3,0,0,0,0,0,0,0,0,6,2,0,0,0,0,0,0,0,0,0,0,0,0,0,0,0,0,6,10,0,0,0,0,0,0,3,0,0,0,0,0,0,0,0,5,0,2,2,0,1,0,0,1,0,0,0,0,0,0,0,0,0,0,0,0,0,0,0,0,0,0,0,0,0,0,0,0,0,0,0,0,0,0,6,0,0,0,1,0,0,0,0,0,0,1,1,0,0,0,0,0,0,0,0,0,0,0,0,6,0,1,0,0,0,0,0,8,0,0,0,0,0,0,3,0,0,0,1,0,0,0,0,0,0,3,0,0,0,0,0,0,0,1,0,0,0,0,1,9,3,0,0,0,0,0,0,0,0,0,0,0,0,1,4,0,0,0,0,0,0,3,1,0,0,2,2,0,0,2,0,0,0,0,0,0,0,0,0,0,0,4,0,0,0,0,0,0,0,0,2,3,1,0,3,0,0,0,0,2,1,2,0,1,2,0,0,1,0,0,0,2,4,0,0,0,0,0,3,1,1,0,0,1,0,1,0,1,0,0,0,0,3,2,0,2,0,0,0,2,0,3,3,0,0,2,0,3,4,1,0,0,0,5,0,0,4,0,0,0,0,0,0,0,0,4,0,0,1,0,0,0,0,0,2,3,0,0,0,0,0,0,0,0,0,0,0,0,0,2,0,0,0,0,0,0,0,2,0,0,0,0,2,0,1,0,4,0,0,0,0,0,1,0,1,0,0,0,0,0,0,0,3,3,0,0,0,0,0,0,3,0,0,0,2,0,0,0,0,0,0,2,2,0,0,0,3,5,0,0,0,0,3,1,0,2,4,3,0,1,0,0,0,1,0,0,3,0,1,0,0,0,3,0,0,4,0,0,7,0,0,0,0,0,0,5,0,0,2,0,0,1,0,1,4,0,0,6,0,0,0,0,2,0,2,0,2,1,5,0,0,13,6,0,3,2,0,0,0,0,1,2,0,0,6,1,0,3,3,2,0,2,0,3,2,1,0,5,0,0,0,0,0,0,0,3,0,3,0,0,9,3,0,4,5,0,1,0,1,2,16,1,3,6,0,7,0,2,0,0,1,0,0,0,0,0,3,0,0,3,0,0,0,3,3,3,0,2,0,0,16,3,0,0,0,6,0,0,0,0,18,0,0,7,3,1,0,6,18,4,6,0,6,0,0,3,0,0,0,4,3,0,7,0,2,0,2,3,1,0,0,1,4,0,11,0,0,0,4,5,4,2,0,0,0,2,0,0,3,0,1,4,0,0,0,0,3,5,0,4,0,0,7,3,2,0,3,16,10,8,7,2,4,16,1,0,4,0,4,0,3,0,0,17,0,6,0,3,2,2,0,0,3,5,0,0,0,7,0,0,4,7,2,9,0,0,0,3,3,1,0,0,0,0,2,1,2,0,0,0,4,9,0,2,5,3,0,0,16,0,0,0,7,0,3,0,5,9,12,4,3,1,0,0,16,1,6,42,1,0,2,5,1,3,10,0,1,0,10,0,0,0,0,4,0,5,4,2,3,1,0,1,0,9,3,3,2,0,0,0,9,6,0,2,0,5,4,5,4,3,0,6,0,0,2,0,10,0,3,0,0,5,5,4,8,0,6,0,12,9,1,1,0,3,0,4,8,6,0,2,1,0,0,8,0,0,0,2,0,0,2,0,3,9,0,0,4,13,0,0,9,2,2,0,0,2,0,0,1,0,10,0,1,0,2,10,0,0,8,0,1,3,1,0,0,2,0,4,3,0,5,0,0,8,2,2,0,0,0,4,0,0,1,3,0,0,0,9,0,0,1,0,0,0,3,1,1,7,0,2,3,4,2,0,4,3,0,0,0,2,1,1,12,1,1,0,4,1,0,3,3,1,2,0,3,0,2,2,5,2,0,0,0,0,2,2,0,0,0,2,2,1,1,0,7,0,0,6,2,0,1,1,2,2,2,0,3,10,10,3,4,10,2,5,10,10,5,2,4,3,5,3,0,8,0,15,2,0,0,1,3,5,4,7,0,0,0,0,0,0,0,0,0,0,0,0,0,0,0,0,0,0,0,0,0,0,0,0,0,0,0,0,0,0,0,0,0,7,10,0,0,0,0,0,0,0,0,0,0,0,0,0,0,0,0,1,1,0,0,0,0,0,0,10,0,0,0,0,0,5,1,2,5,0,0,0,3,4,3,1,2,0,1,0,4,0,0,2,4,0,1,0,0,3,4,0,4,1,10,10,0,0,0,0,0,0,0,0,0,0,0,0,0,0,0,0,0,0,0,0,0,0,0,0,0,0,0,0,0,0,0,0,0,0,0,0,0,0,0,0,0,0,0,0,0,0,0,0,0,0,0,0,0,1,0,0,1,0,0,0,0,0,0,0,1,0,0,0,1,0,0,0,0,0,0,0,0,0,0,0,11,6,3,0,50,0,0,1,0,0,0,0,0,0,0,0,0,0,0,0,0,0,0,0,0,0,0,0,0,0,0,0,0,0,0,2,9,2,1,13,0,0,0,2,0,0,0,0,0,0,0,4,0,0,0,0,1,0,0,0,0,4,0,0,0,0,0,0,0,0,1,0,0,0,5,8,5,1,0,0,0,0,0,0,0,0,0,0,0,1,0,0,0,0,0,1,0,0,0,0,0,0,1,0,1,0,1,0,0,0,1,0,0,0,1,4,0,0,2,0,2,0,0,0,2,0,0,0,1,0,0,0,2,2,0,1,2,2,0,0,0,1,2,0,0,2,4,0,2,0,8,0,1,1,2,6,0,0,0,0,0,0,0,0,3,1,10,0,3,3,0,0,0,2,0,4,8,0,0,0,3,0,0,10,4,4,0,11,0,0,10,0,0,0,2,0,5,12,1,3,5,3,0,2,2,0,2,0,3,0,0,0,0,0,7,3,6,2,3,0,0,0,3,4,0,5,2,0,3,0,1,11,6,3,0,6,0,0,3,2,0,0,7,0,5,3,0,3,0,3,4,0,4,0,7,1,0,0,0,4,0,1,4,5,0,8,5,0,0,0,3,3,6,11,0,1,8,4,0,10,0,10,3,3,2,5,5,1,0,2,7,0,0,0,0,0,7,3,0,5,3,4,0,1,8,5,7,1,9,0,0,0,9,0,12,2,0,5,6,5,2,3,9,0,0,8,0,0,0,4,0,3,8,0,1,3,3,0,1,0,2,6,5,7,0,0,0,10,0,0,1,6,0,1,3,9,6,0,0,1,5,4,4,5,0,4,1,0,3,2,0,1,0,3,5,0,1,6,7,8,0,6,4,0,15,1,0,5,5,6,2,0,3,0,22,8,0,6,4,2,10,5,6,5,26,10,2,4,5,12,15,5,10,0,0,7,2,4,0,4,6,0,0,4,13,0,0,10,16,0,0,7,8,11,5,0,2,0,0,0,3,9,6,6,2,25,0,2,12,1,11,9,0,8,9,11,0,6,0,6,0,18,7,5,16,3,12,13,7,5,2,3,0,5,16,8,9,6,3,0,5,4,18,11,27,0,0,15,0,5,7,15,0,11,4,5,16,0,8,10,9,5,8,0,5,3,7,4,4,6,9,0,9,0,6,5,4,13,5,18,8,0,8,1,0,6,0,4,0,8,3,7,4,13,36,13,3,0,3,6,12,7,5,11,10,2,20,5,5,4,10,10,1,6,0,5,3,8,0,18,8,10,3,0,0,8,5,5,0,3,15,0,0,4,3,9,10,8,2,3,12,5,5,7,4,0,6,4,6,4,7,9,5,11,8,11,2,5,7,1,0,4,7,1,5,8,5,4,6,6,0,4,0,3,12,1,2,0,3,1,2,5,9,10,25,0,5,2,1,0,2,4,8,20,4,9,7,12,6,2,8,0,2,12,8,2,10,6,1,3,30,2,3,0,10,7,11,4,3,8,10,4,4,3,3,5,10,8,1,2,1,1,6,2,4,8,6,5,2,1,0,13,4,12,6,1,0,6,5,1,3,0,6,0,6,0,4,0,0,0,0,0,5,0,0,0,0,0,0,0,0,0,0,0,0,0,0,0,0,0,0,0,0,0,0,0,0,1,0,0,5,0,0,0,0,0,0,0,0,0,0,0,0,4,5,0,7,0,19,0,8,8,0,0,0,6,4,3,2,0,2,1,2,3,0,0,0,0,0,2,4,3,0,3,0,0,0,2,0,0,0,0,0,0,0,0,0,0,0,0,0,0,0,0,0,0,0,0,0,0,0,0,0,0,0,0,4,6,3,0,0,0,0,1,0,0,0,0,0,0,0,0,0,3,18,0,0,0,9,0,0,0,0,0,1,0,0,0,0,1,0,0,0,0,0,0,0,0,0,0,0,0,0,0,0,0,0,0,0,1,0,0,0,0,3,0,0,0,0,0,0,0,0,0,0,0,1,0,0,0,2,0,2,5,7,0,0,0,1,2,0,2,6,0,0,0,0,0,0,0,2,5,1,0,0,0,2,0,0,2,0,0,0,0,2,0,1,0,0,0,4,1,2,0,0,0,4,2,0,2,0,1,5,0,7,0,2,4,0,12,0,5,1,7,11,7,2,3,20,4,0,2,0,0,2,2,0,4,5,0,1,8,0,6,15,11,16,2,0,0,2,2,0,5,0,6,3,0,11,4,5,6,0,0,7,5,1,4,0,7,8,11,0,9,0,9,1,0,0,7,3,0,2,2,0,2,6,0,3,3,0,3,5,3,0,12,5,7,7,6,2,8,10,0,5,1,2,10,13,3,0,3,2,15,9,0,12,3,6,8,7,1,7,5,5,5,3,1,0,5,4,7,5,0,8,7,6,0,3,0,2,0,4,6,8,4,4,10,16,11,0,6,6,9,0,0,7,1,11,3,0,21,9,9,8,0,15,8,2,8,8,5,0,8,0,10,9,9,1,11,1,35,7,9,3,0,9,1,7,2,4,8,8,5,9,0,7,5,17,4,18,0,7,1,0,0,1,3,0,4,3,0,9,14,0,0,12,7,0,3,4,6,0,14,7,8,0,3,0,10,3,0,5,7,0,4,8,0,0,0,9,0,10,0,0,0,1,0,0,0,0,0,0,0,0,0,0,0,0,0,0,0,0,4,0,0,0,0,0,0,0,0,0,0,0,1,0,0,0,0,14,0,5,8,3,0,2,1,0,0,0,0,5,0,3,0,0,0,0,0,0,0,0,0,0,0,0,0,0,0,0,0,0,0,0,0,0,0,0,0,0,0,0,0,0,0,0,0,0,0,0,0,0,0,0,0,0,0,0,0,0,0,0,0,0,0,0,0,0,0,0,0,0,0,0,0,0,0,0,0,0,0,0,0,0,0,2,0,1,0,6,0,6,0,0,0,7,5,0,0,9,0,3,2,0,2,0,0,0,4,1,0,1,1,0,0,3,4,2,1,0,0,0,0,0,0,0,0,0,0,0,0,0,0,0,0,0,0,0,0,0,0,0,0,0,1,0,0,0,1,2,0,5,0,1,1,0,1,5,6,4,1,1,0,7,0,2,1,1,0,3,4,10,0,0,0,5,3,9,14,0,3,8,2,3,0,0,4,0,6,1,0,7,0,0,6,5,10,0,5,3,0,0,0,2,2,0,0,0,0,7,10,0,1,0,20,1,0,0,0,0,0,4,4,0,3,0,1,2,0,6,6,0,3,0,0,0,0,0,6,3,10,3,12,7,0,5,0,4,2,0,3,0,0,8,6,5,0,3,3,6,0,5,4,4,1,6,4,0,10,8,3,0,3,0,13,0,3,13,3,5,0,3,6,0,11,8,7,0,2,5,6,6,1,30,6,0,4,0,0,5,0,4,0,0,3,8,3,3,0,15,4,20,3,0,9,4,16,17,10,7,0,8,11,5,0,15,2,1,17,5,0,0,4,1,4,28,10,4,9,0,2,15,18,5,5,8,2,0,1,12,8,9,0,3,5,9,0,10,1,6,9,7,3,11,18,1,18,10,10,4,2,0,4,5,8,0,10,5,2,11,1,0,0,9,4,0,0,12,6,0,14,2,6,6,0,12,4,0,4,0,2,3,9,9,2,9,2,2,7,2,0,0,0,0,0,9,0,12,1,11,0,0,0,0,0,0,0,0,0,0,8,4,0,0,0,9,0,20,1,12,0,0,9,0,10,0,5,2,0,4,4,0,0,0,0,0,0,0,0,0,0,0,14,0,0,0,0,1,0,0,0,0,0,0,0,0,0,0,0,0,0,3,0,0,1,6,10,8,0,0,1,0,0,0,1,0,0,0,0,0,0,0,0,0,1,0,0,1,1,0,0,2,0,0,0,0,0,2,0,0,0,0,0,2,0,1,0,1,0,5,1,2,4,3,5,1,5,0,4,3,3,0,0,5,1,5,1,0,0,0,6,3,1,2,0,0,5,2,5,3,6,0,0,5,1,4,0,3,2,3,7,5,3,4,0,3,3,8,0,0,4,7,0,1,2,7,12,16,5,0,6,1,4,7,10,16,3,10,15,15,4,18,2,8,2,3,6,6,7,0,3,0,4,2,4,0,2,4,8,5,7,0,4,8,9,4,1,0,0,0,9,0,0,1,5,7,0,9,0,0,1,4,7,13,10,5,4,4,0,9,7,7,0,6,0,0,0,0,3,10,17,2,10,15,0,3,2,7,0,2,11,0,0,4,2,0,0,0,0,0,0,0,0,0,0,0,0,0,15,0,0,6,0,5,0,0,0,0,0,0,0,6,2,8,0,0,1,0,1,2,0,0,0,2,0,0,0,0,0,0,5,10,0,2,0,0,0,0,0,0,0,0,0,0,0,0,0,10,6,1,0,0,0,0,0,0,0,0,0,0,0,0,0,0,0,0,0,0,0,1,0,0,0,0,1,0,0,0,0,1,0,0,3,0,1,0,0,0,0,1,0,0,1,1,0,0,0,1,0,1,0,0,0,2,0,0,1,1,0,2,0,0,1,0,1,0,0,0,3,0,0,0,0,2,0,0,0,0,0,5,0,3,0,0,2,3,0,1,5,0,2,0,0,3,3,4,4,3,0,4,0,0,3,3,0,0,3,0,0,0,2,0,5,0,0,0,1,3,2,5,6,3,0,0,15,5,2,3,0,3,0,0,0,1,6,2,0,0,1,0,0,0,0,4,0,0,0,0,0,9,0,2,2,3,0,2,0,3,0,10,2,2,0,3,0,8,4,10,18,1,8,12,4,2,8,6,0,0,14,9,0,0,4,0,0,5,3,3,7,0,0,6,0,2,8,7,3,0,10,0,4,2,3,0,4,4,4,5,3,0,7,0,7,1,11,8,10,4,4,9,7,2,4,9,3,6,10,2,8,7,0,7,0,10,4,9,0,3,8,10,0,0,8,5,9,3,8,8,3,6,8,6,0,7,1,0,2,0,7,5,7,10,8,2,0,5,8,3,12,1,1,8,2,8,6,14,5,7,14,0,10,20,0,2,8,6,1,0,6,9,4,2,1,3,3,0,2,0,0,3,0,5,0,2,0,1,7,0,2,3,10,12,0,0,0,0,0,0,0,0,0,0,9,0,0,0,0,0,0,0,0,0,0,0,0,1,0,3,3,2,11,0,0,0,0,0,0,0,0,0,4,0,15,1,0,0,2,0,0,0,0,1,3,1,37,0,0,0,0,0,0,0,0,0,0,0,0,0,0,0,0,0,0,0,0,0,0,0,0,0,0,0,0,0,0,1,10,22,0,0,0,0,1,0,0,0,0,0,1,0,3,0,2,0,0,0,0,3,0,1,0,0,0,0,0,0,1,1,0,0,2,3,0,0,0,0,0,1,0,0,0,3,2,2,0,0,0,6,0,0,0,2,0,0,0,3,0,0,5,0,5,0,0,0,0,2,0,0,0,0,1,2,0,4,2,5,7,9,11,5,5,1,0,4,0,6,3,17,3,0,0,0,3,2,4,8,3,3,5,12,0,0,7,0,0,8,0,0,9,3,1,0,0,12,3,2,0,5,0,0,3,2,10,7,1,2,6,3,2,7,0,5,4,9,3,3,7,0,6,9,7,0,2,1,0,0,4,7,3,3,7,0,10,10,0,11,3,0,6,5,2,5,11,10,0,0,7,5,0,2,17,9,7,0,11,8,1,6,9,10,8,15,1,9,7,6,4,9,3,5,5,0,16,7,1,17,12,4,1,11,18,4,18,10,22,11,4,1,12,4,12,6,0,9,0,0,8,1,4,3,5,8,1,2,5,13,0,0,0,0,15,0,0,0,0,0,0,0,0,0,0,0,0,0,4,0,6,4,9,0,2,0,0,0,0,0,0,0,0,5,0,0,0,0,10,3,12,0,0,8,0,1,1,2,0,0,0,0,0,0,0,0,0,0,0,10,4,1,1,0,0,0,0,0,0,0,1,11,0,0,0,0,0,2,2,0,0,3,0,0,2,0,0,15,0,0,0,0,0,0,0,0,0,4,0,0,0,0,0,0,1,0,0,0,0,2,0,1,0,0,0,0,0,1,6,8,8,0,0,2,0,0,0,0,0,2,0,1,0,0,10,9,0,0,0,0,0,3,0,0,15,5,0,5,0,5,4,0,2,8,0,0,0,3,0,0,0,0,5,0,4,0,4,0,1,4,4,0,0,4,6,2,7,0,2,2,16,0,2,5,9,3,0,5,21,3,16,9,0,0,9,0,1,2,5,13,3,3,0,12,5,5,4,5,5,2,0,4,5,0,5,0,3,12,0,1,8,8,3,2,4,3,0,0,0,2,5,3,4,0,3,2,2,2,10,2,0,2,4,5,8,2,5,9,9,6,17,1,5,3,4,9,6,4,3,3,3,3,10,10,5,1,4,1,5,4,7,10,8,0,10,15,24,0,2,2,7,15,12,3,0,0,4,2,4,8,2,2,3,2,15,0,1,0,1,1,10,2,15,3,5,1,0,0,5,5,13,3,0,12,1,0,0,30,0,0,0,0,0,26,26,0,26,0,0,0,0,6,1,0,0,0,0,0,0,4,0,0,0,0,0,0,0,0,0,0,0,1,7,0,0,2,7,30,1,2,0,0,11,0,0,0,0,1,0,0,1,0,0,0,0,0,0,0,0,0,0,0,0,0,0,0,0,0,0,0,0,0,0,0,6,7,6,0,0,0,0,0,0,0,0,0,0,0,2,0,1,0,16,1,0,1,0,2,0,0,1,0,0,2,0,0,1,2,0,0,0,0,2,0,8,1,1,1,0,1,0,0,2,0,5,0,3,4,0,0,0,2,0,3,48,0,0,0,0,0,0,2,5,0,0,0,5,0,0,0,0,3,5,2,2,0,2,7,3,0,0,0,0,0,6,8,3,2,7,10,1,3,9,5,8,0,6,12,5,12,7,5,0,3,0,2,2,10,13,5,8,15,0,2,7,0,2,0,8,0,0,4,4,8,0,3,3,12,10,7,8,5,6,8,7,7,0,5,5,5,0,4,5,12,4,11,1,2,3,6,12,3,3,20,0,8,10,1,9,8,4,0,10,13,3,4,5,3,14,11,5,1,5,5,11,0,5,4,7,3,1,6,17,16,4,1,10,2,4,8,3,5,8,4,2,2,0,3,10,2,10,6,1,6,7,5,3,0,4,0,0,0,0,0,14,5,5,0,0,0,3,0,0,0,50,0,0,0,0,0,0,9,0,0,0,0,0,0,0,0,0,0,0,0,0,0,1,0,0,5,2,0,8,2,0,2,5,15,0,8,1,0,0,9,0,1,1,2,4,0,0,0,3,2,0,0,0,0,0,0,0,0,0,0,0,0,0,0,0,0,0,0,0,0,0,0,0,0,0,0,0,0,0,0,0,0,0,0,0,0,0,0,0,0,0,1,0,1,0,0,2,0,0,0,1,0,2,0,0,0,1,0,0,0,1,0,1,0,3,0,0,3,3,2,0,0,0,1,1,0,3,3,0,2,2,0,0,0,0,0,0,0,1,0,0,0,1,1,1,1,2,1,0,0,0,0,2,0,1,1,4,1,2,2,0,0,0,0,2,4,3,2,0,2,0,0,0,0,0,0,0,0,1,0,3,1,1,0,0,0,0,0,3,1,0,0,3,0,0,0,0,0,0,0,3,0,0,2,0,0,3,2,0,4,3,0,0,3,3,0,0,0,0,0,0,0,7,0,1,0,0,3,0,6,3,4,0,5,4,5,2,6,0,0,0,2,1,0,1,0,3,0,0,10,0,1,0,0,5,16,4,0,6,0,0,6,10,9,0,0,0,1,0,0,4,0,6,0,0,2,0,0,1,2,2,0,0,4,0,0,0,5,0,0,3,1,2,3,7,1,4,0,0,10,0,1,10,0,0,1,0,4,2,0,7,20,0,5,0,0,0,5,1,0,0,9,0,0,2,0,0,0,3,0,0,2,0,5,5,3,25,9,2,0,0,0,20,7,4,18,3,0,8,4,3,0,2,2,6,7,4,2,0,0,2,2,3,3,4,2,10,4,0,7,0,0,4,0,2,7,0,5,4,3,0,1,2,3,7,6,4,2,0,1,4,2,11,2,0,0,17,5,0,0,10,6,20,8,2,3,2,4,5,0,6,3,0,13,6,1,1,9,8,2,5,2,0,0,6,5,6,6,3,3,3,4,2,0,5,0,5,5,2,5,8,0,0,6,1,8,2,2,3,11,0,11,8,2,2,10,3,1,3,0,0,0,2,0,0,1,8,2,2,0,6,12,0,4,3,0,7,0,0,7,8,0,0,2,1,0,5,4,5,5,0,0,7,0,6,0,3,10,4,10,1,2,0,8,8,5,5,0,3,12,0,1,0,2,0,0,4,12,6,0,5,5,10,6,2,5,0,5,2,20,6,7,16,0,1,4,0,9,0,6,6,8,1,0,5,2,1,4,10,2,0,0,3,0,0,0,0,3,10,2,0,0,0,0,4,0,1,12,0,2,3,0,0,0,0,2,3,3,0,0,0,0,0,0,1,0,0,4,0,5,5,6,5,1,5,3,0,0,6,0,1,5,1,9,1,2,3,0,6,4,6,1,6,0,7,6,0,6,0,8,4,8,0,6,7,6,15,4,4,0,8,6,7,8,6,9,10,16,11,11,7,8,7,7,8,9,8,10,10,9,1,8,1,10,9,11,9,7,6,9,9,9,9,8,7,10,11,9,11,8,6,7,9,8,8,8,0,14,1,2,8,8,8,8,8,8,8,8,8,0,4,0,0,0,0,0,0,0,0,0,0,0,0,0,0,0,0,0,0,0,0,0,0,9,40,0,0,0,0,0,0,0,0,0,0,0,0,0,0,0,0,0,0,0,0,0,4,0,0,4,4,1,0,9,6,1,5,2,8,0,0,8,6,8,0,7,0,5,0,1,0,3,15,19,6,6,3,2,0,1,0,0,0,0,0,0,0,9,0,0,0,0,0,0,0,0,0,0,0,0,0,0,0,1,0,0,6,0,0,0,0,0,0,0,0,0,0,0,0,0,0,0,0,0,0,0,7,2,5,0,0,0,0,0,0,0,0,0,0,0,9,9,0,0,0,0,0,0,0,0,0,0,3,0,0,0,0,2,1,3,0,6,0,0,0,0,0,0,0,0,0,0,1,0,0,0,0,0,0,0,0,0,0,0,0,0,1,0,0,0,0,0,0,0,0,0,0,0,0,0,1,2,0,0,1,0,0,0,2,0,0,0,0,0,0,2,0,0,1,0,0,0,1,0,0,0,0,0,0,1,0,0,2,0,0,0,0,1,2,0,0,1,0,3,0,0,5,0,0,0,5,0,5,0,0,3,0,0,0,0,3,0,1,0,0,1,0,1,2,0,0,0,15,0,1,0,0,0,0,1,4,0,0,1,9,5,0,1,4,8,4,0,3,0,5,0,0,6,0,14,8,0,0,0,0,2,3,6,0,3,0,14,5,2,4,3,0,0,7,3,3,0,0,0,9,6,2,8,0,40,0,2,0,0,0,1,0,0,0,3,1,4,4,3,4,1,18,0,2,0,7,9,11,5,11,5,0,0,11,3,2,0,0,0,2,0,12,27,3,10,0,2,4,0,13,0,0,10,14,0,0,9,0,2,11,3,4,2,5,8,8,0,5,0,4,16,3,0,0,0,12,7,9,1,5,8,9,8,0,3,5,5,3,8,0,0,2,0,2,1,5,4,7,0,15,6,8,10,0,4,4,3,6,3,4,5,12,2,3,4,0,0,0,2,10,0,4,10,0,10,2,3,3,0,15,15,10,8,2,2,15,1,5,9,3,1,0,0,1,2,0,2,0,0,0,0,0,0,0,0,0,0,0,0,0,0,0,0,0,0,0,0,0,0,0,0,4,1,0,0,4,5,0,12,5,0,6,10,0,0,0,5,0,0,0,1,4,0,0,0,0,0,0,0,0,0,0,0,0,0,0,0,0,0,0,0,0,0,0,1,6,0,1,0,0,0,0,0,0,0,0,0,0,0,0,1,0,0,0,0,0,0,1,0,0,0,0,0,0,10,0,0,2,1,0,0,5,0,0,0,0,2,0,0,0,0,0,0,0,0,0,6,0,2,0,0,8,3,0,2,0,0,2,6,3,2,3,0,0,0,3,3,2,2,0,0,5,2,1,0,0,1,5,2,1,9,6,2,5,0,0,2,0,2,4,1,5,0,0,4,1,0,0,2,1,2,4,1,5,0,3,9,1,6,0,1,3,10,1,5,0,0,6,0,0,0,0,0,0,3,4,4,1,0,6,20,4,0,4,8,0,0,1,2,6,0,3,4,1,0,11,0,8,2,12,4,7,8,1,0,13,0,18,7,0,4,1,0,8,7,8,0,2,4,2,1,4,3,0,6,4,0,0,0,5,9,8,2,0,0,3,7,6,0,0,10,8,2,5,3,14,2,4,0,9,2,4,0,2,29,4,0,0,0,1,1,3,2,0,0,0,0,0,0,0,0,0,0,0,0,0,0,0,0,0,9,0,0,0,0,0,0,0,0,0,0,35,0,0,0,0,0,0,0,0,0,0,0,0,0,7,0,0,0,0,0,4,0,0,0,1,7,10,0,0,0,1,0,6,4,4,0,0,0,0,0,0,0,0,0,0,1,3,2,0,0,0,0,0,0,0,0,0,0,0,0,0,0,0,0,0,0,0,0,0,0,0,0,0,0,1,0,0,0,0,0,0,0,0,0,0,0,0,0,0,0,0,0,0,0,0,0,0,2,0,1,0,0,0,0,0,0,1,0,1,0,0,4,0,0,0,0,2,0,0,0,3,0,1,0,2,0,1,1,1,0,7,1,1,5,1,5,0,0,0,0,4,0,3,3,0,0,0,4,0,0,0,4,0,0,0,4,0,0,0,0,0,0,3,1,4,0,7,0,10,0,0,1,4,2,0,13,0,4,0,16,3,9,8,4,0,0,5,4,2,0,4,0,7,3,12,2,5,4,10,2,12,2,1,2,0,3,11,10,15,0,18,1,0,6,6,5,7,8,5,0,1,3,2,10,7,4,4,2,8,9,11,1,0,0,0,0,14,0,9,0,2,5,2,0,0,0,0,3,9,10,1,12,5,3,10,8,6,0,3,7,2,2,1,3,2,4,2,0,2,2,1,4,0,1,0,3,2,6,0,15,0,0,10,0,0,0,0,0,0,0,0,0,0,0,0,0,0,0,0,0,0,0,0,0,0,0,20,0,0,0,8,0,0,30,0,0,0,0,0,0,1,0,0,0,0,0,0,1,0,0,4,0,0,0,0,2,1,5,0,6,0,6,1,11,0,0,0,0,0,0,0,0,0,0,0,0,0,0,0,0,0,0,0,0,0,0,0,0,0,1,0,0,0,0,0,1,0,0,0,0,1,0,0,0,0,1,2,0,1,0,0,0,0,0,0,0,0,0,0,0,0,0,2,0,0,0,0,0,0,0,0,1,0,0,0,0,0,0,0,0,0,0,0,7,0,0,0,0,0,0,0,0,0,0,0,0,0,0,0,4,0,0,1,0,0,0,2,0,0,0,0,0,3,6,2,0,0,1,0,0,2,0,3,0,0,1,4,0,0,0,0,3,3,0,0,0,0,0,0,1,10,3,2,1,0,0,1,4,0,0,4,0,1,0,0,0,0,0,5,1,2,0,0,1,0,0,0,0,2,2,0,0,0,0,3,3,0,1,0,0,0,6,0,1,0,3,0,0,8,4,3,4,0,6,0,3,1,9,7,1,0,0,8,0,1,0,0,6,1,4,3,0,0,6,5,12,0,5,2,5,6,5,11,8,3,5,11,4,4,13,4,6,13,3,4,2,0,5,18,6,0,2,0,4,3,1,2,4,7,8,4,1,2,9,4,8,9,7,1,2,4,2,10,5,16,7,5,4,25,1,0,8,0,1,8,2,10,4,3,8,3,7,0,18,8,4,2,7,6,9,6,5,4,3,0,0,0,0,7,6,2,2,0,0,8,4,0,7,4,15,0,0,8,10,0,0,0,0,3,1,1,3,6,8,4,2,1,10,4,3,6,1,0,1,6,4,0,2,0,0,0,0,0,0,0,0,0,0,3,0,2,0,0,2,10,0,0,0,0,0,0,0,0,0,0,0,0,0,0,0,0,0,0,0,0,0,5,0,0,0,0,0,0,0,0,0,0,0,0,0,0,5,0,0,5,0,0,0,0,0,40,0,0,0,0,7,5,0,0,0,4,6,9,0,0,0,4,0,0,0,0,1,0,0,0,0,0,0,1,1,0,0,1,0,0,3,1,5,1,0,1,4,0,0,2,0,0,0,0,0,0,0,0,0,0,3,3,16,3,3,0,0,0,0,3,4,0,0,0,3,15,26,0,0,0,0,7,3,0,0,0,0,0,0,0,0,0,0,0,0,0,0,0,0,0,0,0,0,0,0,0,0,0,0,0,0,0,0,0,0,0,2,0,0,0,0,0,0,0,0,0,0,0,0,0,0,0,0,0,0,0,0,0,0,0,0,0,0,0,0,0,0,0,0,7,0,0,1,0,0,0,0,0,0,0,0,0,0,0,0,2,0,2,0,0,0,0,0,0,0,0,0,0,0,0,1,0,0,1,0,0,0,0,4,0,0,0,6,0,0,0,0,0,0,0,0,0,0,0,0,3,0,1,0,1,0,0,0,0,1,0,0,0,0,0,0,0,0,0,0,0,1,0,0,0,0,0,2,0,0,2,0,0,0,0,0,0,0,0,0,1,3,5,2,0,0,0,1,2,4,0,0,4,0,0,0,0,0,0,5,0,0,7,0,1,0,0,0,0,0,1,3,1,0,1,2,0,0,2,1,1,0,0,4,1,0,0,0,1,0,0,0,0,0,0,0,0,0,0,10,2,2,0,4,1,0,2,5,0,2,0,7,0,0,21,35,6,0,0,0,0,8,1,0,0,0,1,1,0,0,2,2,0,8,9,2,0,1,0,0,0,0,0,13,0,2,2,1,21,0,7,0,4,2,0,0,7,0,0,0,3,0,3,0,8,0,8,0,0,5,0,0,2,4,0,0,0,0,0,0,4,5,13,4,7,0,3,15,0,0,0,7,2,0,8,2,0,2,6,6,5,0,5,10,2,0,5,2,8,7,8,5,0,0,1,6,7,9,0,2,7,3,2,0,6,2,9,7,2,6,8,2,7,17,0,0,7,0,6,3,0,0,7,16,5,6,0,8,0,4,2,4,3,6,0,0,6,7,4,6,5,2,3,3,2,6,3,0,0,4,2,2,0,2,6,2,5,6,1,0,0,5,9,0,2,0,0,9,0,7,5,0,1,0,4,6,1,3,3,5,12,6,3,0,4,4,3,0,2,2,2045,0,0,0,0,0,0,0,0,0,0,0,0,0,0,0,0,0,0,0,0,0,0,0,0,0,0,0,0,0,0,0,0,0,3,0,0,0,0,0,0,0,0,0,5,1,0,0,1,0,2,5,0,0,4,0,6,13,0,0,2,5,0,0,0,0,0,0,0,0,0,0,0,0,0,0,0,0,0,0,0,0,0,0,0,0,0,0,0,0,0,1,0,0,2,4,0,0,0,0,0,1,0,0,0,0,2,0,0,0,0,2,0,2,0,0,1,0,0,0,0,1,0,0,1,0,0,2,0,0,0,0,0,0,0,10,0,0,0,0,0,0,0,0,0,0,0,0,4,0,0,0,0,0,0,0,11,0,0,3,1,0,0,0,0,4,0,0,3,0,0,0,0,10,1,0,2,0,2,1,2,0,9,5,1,2,5,0,2,2,0,6,0,2,9,0,1,0,0,0,0,8,0,0,4,5,6,0,1,2,1,2,6,11,0,4,3,4,2,5,4,9,11,3,4,9,0,0,14,0,2,28,11,0,3,3,14,2,9,40,4,0,7,11,2,3,2,12,2,25,6,15,4,0,0,7,4,6,6,6,10,2,6,2,6,2,0,2,3,9,6,3,5,5,2,2,9,4,15,6,2,7,0,10,2,18,6,15,3,4,4,3,4,3,0,19,4,0,1,1,3,11,1,13,2,6,2,4,3,0,3,1,2,0,0,1,0,0,0,24,0,20,15,0,25,0,0,0,0,0,0,0,0,0,0,0,0,0,0,0,0,0,0,0,0,0,0,0,0,0,0,0,1,0,0,0,0,0,0,0,0,0,24,0,0,0,0,3,0,0,0,0,0,0,0,0,0,0,0,0,0,0,0,0,0,0,0,0,0,0,0,0,0,1,4,0,0,0,0,0,0,0,0,0,0,0,0,0,0,0,0,1,0,0,1,0,0,0,0,0,1,0,0,0,0,0,0,0,0,0,1,0,0,0,0,0,0,0,0,0,0,0,0,0,0,0,1,0,0,3,0,0,0,0,0,0,0,2,1,0,0,0,10,1,0,0,0,1,0,1,0,0,0,1,0,0,0,0,1,1,0,4,0,0,0,1,4,0,0,4,2,8,0,0,0,2,0,2,0,5,6,0,0,0,3,2,0,0,0,0,0,2,0,11,0,3,8,0,0,0,0,0,8,2,5,3,4,0,2,4,0,0,2,5,5,3,7,0,3,0,0,0,35,0,0,7,0,1,0,0,3,0,0,8,8,6,8,4,0,8,6,6,0,13,3,8,3,6,1,0,0,9,0,6,0,0,3,9,11,0,0,5,7,12,0,4,0,5,13,7,0,2,8,8,2,4,2,4,13,0,9,2,2,5,0,4,5,3,430,2,11,2,4,6,7,9,13,9,9,5,0,3,7,6,12,1,5,0,2,0,12,2,4,0,9,1,3,10,8,1,5,10,6,14,0,4,2,8,4,4,6,11,0,16,5,12,2,2,2,4,10,10,7,5,0,4,0,6,0,0,3,2,4,10,0,4,2,18,0,3,0,2,0,0,0,0,2,0,0,0,23,0,0,0,0,0,0,0,0,0,0,0,0,0,0,0,0,0,0,0,0,0,0,0,3,0,0,0,0,0,0,1,0,0,0,0,0,0,0,0,4,0,0,0,0,1,5,1,0,4,0,0,0,0,0,2,1,0,0,0,0,0,0,0,0,0,0,0,0,0,0,0,0,0,0,0,0,0,0,0,11,0,0,0,1,0,0,1,0,2,0,0,0,0,0,0,5,0,0,0,0,0,0,0,4,4,0,0,2,0,0,0,1,0,0,0,0,2,0,2,2,0,0,0,0,2,2,0,0,0,1,0,0,2,5,0,6,0,8,6,1,0,4,0,5,2,0,0,5,2,4,0,0,3,1,0,0,1,1,0,0,0,3,3,3,4,0,0,2,1,0,2,0,2,0,0,3,13,0,0,6,6,2,0,6,1,5,6,10,5,8,3,2,0,9,3,0,5,3,2,8,7,0,1,3,5,3,1,20,7,3,6,0,6,12,8,5,12,4,6,0,0,8,0,8,6,2,6,7,2,5,6,0,4,6,2,3,8,5,9,10,2,7,5,0,2,7,13,4,0,8,12,4,12,4,0,7,0,14,5,8,3,2,14,5,10,5,3,3,0,0,0,8,6,0,4,4,6,1,2,7,0,0,0,0,0,0,0,0,0,0,0,0,0,0,0,0,0,0,0,0,15,0,0,0,0,0,0,0,0,0,0,0,1,0,0,0,0,0,0,0,0,0,0,0,4,0,0,5,0,2,5,0,5,0,0,0,0,0,0,0,4,2,0,0,6,0,0,0,0,0,0,0,0,0,0,0,7,0,0,0,0,0,0,0,0,0,0,0,0,0,0,0,0,0,0,2,0,0,0,0,0,0,0,0,0,0,0,0,0,0,0,0,0,0,0,0,0,1,0,0,2,0,0,0,0,0,1,0,0,1,1,0,0,1,0,0,7,1,3,0,1,7,2,4,5,0,2,2,5,0,0,0,1,3,0,4,9,0,4,0,7,0,5,3,0,0,0,11,6,0,3,0,2,0,3,0,7,4,17,11,0,5,0,0,0,0,0,0,1,0,5,23,4,12,4,6,11,0,7,0,2,9,0,5,1,8,18,7,8,0,5,20,2,5,0,0,20,1,0,4,7,3,2,7,3,4,0,7,5,1,2,10,0,7,3,4,6,7,8,9,6,0,8,9,11,4,0,3,5,1,0,3,2,2,1,4,30,0,2,0,0,0,0,0,1,0,30,0,0,1,8,0,0,1,0,0,0,0,0,15,0,0,0,0,0,0,0,0,0,7,0,0,1,2,6,0,1,6,0,12,2,2,2,0,0,14,7,8,4,12,6,12,7,0,4,0,0,0,2,0,0,0,0,0,0,0,0,0,0,1,0,0,0,0,0,0,0,0,0,0,0,0,0,0,0,0,1,8,0,0,0,0,0,0,1,0,0,0,0,0,0,0,0,1,0,2,3,0,0,0,0,0,0,0,2,0,0,9,0,0,0,0,0,1,0,0,0,0,2,0,0,0,0,0,1,0,0,0,0,0,0,0,1,0,1,0,1,0,13,2,4,0,1,4,0,0,6,0,0,0,0,0,4,0,0,0,0,0,2,2,0,0,0,0,0,0,0,7,0,0,0,5,2,2,0,2,3,0,2,6,3,0,0,0,0,1,4,0,0,0,0,0,8,10,1,0,5,4,0,0,0,7,8,6,4,0,6,1,0,0,4,4,3,1,0,2,0,0,8,1,2,0,3,0,0,7,0,0,0,0,0,1,5,0,0,0,4,6,1,9,3,0,0,0,6,4,6,3,8,18,0,0,7,0,3,0,6,0,0,8,1,0,3,0,7,2,5,1,3,9,6,0,4,0,35,9,3,3,0,0,0,3,3,0,12,0,0,0,5,0,0,8,0,0,0,10,3,2,0,12,10,2,9,7,6,0,1,5,5,0,6,9,10,8,4,2,13,6,0,6,1,6,1,10,10,9,2,6,2,7,16,3,2,15,0,2,3,3,2,0,2,4,8,1,9,9,8,0,13,0,5,9,11,7,8,9,3,14,5,9,6,2,4,13,2,0,0,0,0,0,0,0,46,0,0,0,0,0,0,0,3,0,0,0,0,0,0,0,0,0,0,0,0,0,0,0,0,0,0,0,0,0,0,16,6,2,0,0,3,0,0,1,0,10,0,0,0,0,0,0,0,3,2,0,2,0,0,0,0,0,0,0,0,0,0,0,0,0,0,0,0,6,5,2,0,0,0,0,0,0,0,0,2,0,0,0,0,0,0,16,0,0,0,0,0,0,0,0,0,0,0,0,0,0,0,0,0,0,18,0,0,0,2,0,0,0,0,1,0,0,0,0,0,0,0,0,0,0,0,1,1,0,0,0,1,1,5,0,4,0,4,4,2,0,0,0,0,0,0,4,15,0,3,7,10,0,0,0,5,0,10,11,1,0,2,3,7,12,0,2,8,8,0,0,8,0,2,0,18,2,0,4,1,5,0,3,2,0,4,4,4,25,10,0,9,1,9,8,3,0,7,6,7,6,0,5,9,3,3,0,4,5,6,10,11,18,5,6,0,3,16,7,0,0,2,2,1,6,8,4,8,1,5,3,1,7,0,6,8,12,1,13,3,11,14,1,4,2,11,4,6,0,6,0,1,4,0,0,0,0,0,0,0,0,0,2,0,0,0,20,0,0,0,10,0,0,0,0,0,0,0,0,0,9,0,0,0,0,0,0,0,0,0,13,0,0,0,0,5,0,0,1,5,0,0,0,6,45,10,0,2,6,5,0,0,4,2,5,0,0,8,0,0,0,2,4,6,0,0,0,0,0,0,0,0,0,0,0,0,0,0,0,10,0,9,0,0,0,0,0,0,0,0,0,0,0,0,0,0,0,0,0,0,0,0,0,4,5,0,2,5,4,0,3,3,0,4,0,0,4,0,3,0,0,0,4,3,0,0,1,1,0,0,1,0,0,5,0,0,0,1,14,0,6,0,0,0,0,0,0,0,0,5,0,2,4,0,0,0,2,0,8,0,0,0,7,0,6,0,3,0,3,0,0,0,1,0,0,3,0,0,20,10,6,0,0,0,0,0,0,0,0,0,1,0,0,0,7,1,10,0,2,8,0,0,2,0,4,11,5,11,0,8,8,4,1,7,4,8,1,15,0,0,0,0,5,7,3,5,5,1,10,1,0,0,0,2,4,4,6,8,7,4,2,4,1,6,2,3,0,3,9,3,3,5,1,5,4,6,8,2,3,4,6,8,2,5,10,1,5,5,15,6,8,4,4,8,0,11,4,6,5,7,8,5,10,7,4,0,0,3,7,0,0,1,4,6,6,6,1,7,2,0,5,5,6,10,9,12,7,7,7,2,7,7,6,8,6,0,16,2,0,6,2,17,10,0,5,8,3,10,4,1,3,7,3,25,8,2,7,0,3,1,4,2,6,15,9,3,8,5,0,4,3,6,0,0,1,1,0,0,2,6,14,4,3,4,2,0,0,0,0,0,0,18,0,0,0,0,0,20,0,0,0,0,0,35,0,0,6,6,0,0,8,0,0,0,0,0,0,0,0,0,6,0,0,0,0,0,8,8,4,0,8,2,0,0,0,0,0,0,5,5,6,2,0,0,0,0,0,0,0,0,0,0,0,0,0,0,0,0,0,0,0,2,0,0,0,0,0,0,0,0,0,0,0,0,0,0,1,0,0,0,2,0,0,0,0,0,0,1,0,0,0,0,3,0,0,0,0,0,1,0,0,0,0,0,0,0,0,2,0,0,0,0,0,1,3,3,0,0,2,0,1,4,0,4,3,5,5,0,0,1,8,0,0,0,6,3,0,8,0,1,4,0,15,6,2,9,3,0,1,0,0,0,2,0,1,0,2,6,0,1,0,3,0,5,4,4,5,1,0,4,2,6,0,8,7,4,0,1,5,11,8,0,0,5,4,2,9,11,1,2,8,4,5,0,5,3,5,4,9,13,5,13,19,6,8,9,2,2,9,4,3,7,3,4,5,8,6,8,25,2,7,4,0,10,11,14,4,7,1,10,11,1,25,3,25,0,5,30,0,18,4,4,1,2,9,2,6,10,6,0,0,1,0,0,2,11,3,5,0,0,0,0,0,0,0,0,0,0,0,0,0,0,0,1,1,0,0,0,0,0,0,0,3,0,10,23,0,0,4,0,0,2,0,2,0,0,0,0,0,0,0,0,0,0,0,0,0,0,0,0,0,0,0,0,0,0,0,0,0,0,0,0,0,0,0,0,0,0,0,0,0,0,0,0,0,0,0,0,0,0,0,0,1,0,0,0,0,1,0,1,0,1,0,1,0,3,2,0,4,0,0,0,0,2,0,5,0,4,3,1,2,0,0,2,0,0,0,3,0,2,0,0,0,0,0,0,0,1,0,1,0,0,0,0,1,0,0,0,0,0,1,4,0,0,3,0,4,1,5,3,0,5,2,5,1,3,5,0,0,0,3,1,2,5,2,5,0,0,18,5,2,2,11,0,3,1,4,9,0,0,0,6,13,6,3,6,0,4,5,0,4,1,3,0,2,3,12,12,0,4,7,0,11,0,6,16,9,0,5,5,15,1,7,18,7,40,2,1,3,2,6,0,0,0,0,12,18,3,2,1,2,3,5,1,11,3,0,3,9,5,6,5,10,7,0,10,7,7,14,0,2,0,0,8,5,3,10,4,11,5,2,5,12,0,0,3,5,7,8,1,11,4,12,5,0,0,7,3,8,1,0,0,2,8,7,4,2,6,6,9,13,6,10,0,2,3,2,5,4,18,6,5,9,11,5,22,2,1,0,0,0,0,0,0,0,15,0,0,0,0,0,0,0,30,0,35,0,0,0,10,0,14,0,0,0,0,0,0,0,25,32,0,0,10,0,0,0,14,13,1,0,0,0,0,0,0,0,0,1,20,0,0,0,0,0,6,0,0,0,0,9,3,3,1,0,0,0,0,0,0,0,0,0,0,0,0,0,0,0,0,0,0,0,0,0,0,0,0,0,1,0,0,0,0,0,0,0,0,5,15,1,1,0,0,0,0,0,0,0,0,1,0,0,0,0,0,0,0,0,0,0,0,0,0,0,0,0,1,0,2,0,0,0,0,0,0,0,0,0,0,0,2,0,2,0,0,0,0,0,3,0,0,2,2,0,0,12,5,1,2,0,4,2,4,0,0,0,2,2,0,0,0,0,0,1,0,2,1,2,0,0,0,2,0,0,0,1,3,1,0,0,3,0,3,0,2,0,6,1,0,0,0,3,0,0,4,4,3,1,4,3,2,0,2,4,4,4,10,2,0,0,0,0,0,0,0,0,3,6,1,4,0,1,0,0,0,6,9,4,1,9,3,1,1,0,4,1,0,12,1,10,0,0,4,0,1,3,7,2,0,0,2,15,0,0,2,6,0,1,0,6,1,6,5,4,2,25,0,6,6,22,0,5,3,7,28,0,13,5,2,0,6,6,11,6,5,0,5,0,10,5,11,0,2,3,0,4,0,8,0,5,8,5,1,9,5,6,15,11,13,0,2,0,7,8,2,0,0,8,6,12,6,10,10,0,0,7,10,15,8,0,2,0,10,11,13,5,5,2,2,0,0,0,0,0,0,0,0,0,2,0,3,0,0,0,0,1,0,0,0,0,6,0,0,0,16,2,0,0,0,0,0,0,0,0,0,0,1,0,0,4,0,0,0,1,0,0,0,0,3,1,0,0,0,0,0,0,0,0,0,0,0,0,1,0,0,0,0,0,0,0,10,0,0,0,0,0,0,0,1,0,0,0,3,0,0,5,0,0,1,13,0,0,0,8,0,2,0,0,5,0,0,0,10,0,17,2,0,0,4,5,4,0,5,6,3,0,0,0,0,0,1,6,0,1,0,2,1,5,2,5,0,3,5,8,2,4,4,5,4,5,1,1,7,2,0,1,2,13,7,2,12,0,2,17,2,9,4,9,2,8,2,2,6,5,4,3,0,0,3,8,2,2,30,3,8,0,2,6,7,0,7,12,0,5,0,3,0,2,0,7,3,14,0,3,11,20,8,2,12,9,12,1,3,1,3,8,2,0,6,7,1,2,6,0,1,1,11,11,11,4,2,12,2,15,2,14,8,1,0,4,6,12,4,0,0,0,10,1,1,0,3,0,0,0,0,0,0,0,0,0,0,0,0,1,18,0,5,0,1,0,0,0,2,0,0,0,9,1,2,0,5,2,2,10,0,0,0,0,0,0,0,0,0,0,0,10,0,0,0,0,0,0,6,3,0,0,1,0,0,0,0,0,0,0,0,0,0,0,0,0,2,0,11,0,0,0,0,0,0,0,0,0,0,0,2,0,0,0,0,5,7,0,0,0,0,0,0,0,0,0,0,5,0,0,0,0,0,0,0,0,0,0,0,0,0,3,0,0,0,0,1,4,1,0,0,5,7,0,2,3,4,4,5,5,8,3,0,0,1,8,4,6,3,2,0,4,3,3,5,0,7,16,0,4,2,9,0,4,1,7,7,0,25,2,5,0,0,0,0,3,0,4,0,19,9,0,5,0,6,6,5,0,3,0,10,9,3,2,8,2,4,6,3,3,6,3,8,0,9,0,9,7,2,5,6,6,2,3,0,2,1,1,18,8,12,4,1,20,3,1,12,14,1,8,16,4,3,7,18,9,15,4,4,0,0,0,0,0,0,0,0,0,0,0,0,0,0,2,13,0,0,0,0,0,0,0,0,0,0,0,0,0,0,0,0,0,1,11,0,0,0,0,0,1,0,3,0,0,0,0,0,0,0,0,1,2,0,0,0,0,9,0,0,4,0,0,7,0,0,6,1,1,6,5,6,3,0,0,2,4,0,0,0,0,0,0,0,0,0,0,0,0,0,0,0,0,3,3,0,0,0,0,0,0,0,0,0,1,0,0,0,0,0,6,5,0,2,0,0,0,1,0,0,0,0,1,0,0,0,0,0,0,2,2,0,0,0,0,0,0,2,0,0,2,0,0,0,0,0,1,0,2,2,4,21,0,0,0,0,1,0,0,2,2,1,0,0,5,0,4,0,4,0,0,0,0,0,0,2,14,0,0,0,0,5,0,0,3,0,0,3,8,2,2,0,3,4,0,0,0,1,0,0,0,4,1,0,0,0,0,14,0,0,0,0,1,0,2,0,0,1,7,1,0,4,0,0,0,0,0,0,2,6,11,2,2,0,5,0,0,3,2,2,0,0,0,0,10,2,4,9,0,4,0,0,1,1,1,0,3,4,2,1,9,4,0,2,8,0,0,1,8,0,1,0,12,0,0,0,1,7,7,6,3,0,5,7,8,3,5,7,5,0,0,7,6,4,4,8,6,4,4,2,5,7,0,2,4,4,0,6,8,10,12,4,5,1,9,0,2,6,4,7,8,10,3,0,3,1,2,4,7,10,14,0,0,6,7,20,6,8,0,3,5,3,3,0,25,3,6,10,7,0,0,2,1,4,2,0,1,0,4,7,0,5,0,3,2,2,7,1,6,14,7,1,4,3,6,5,8,7,8,20,2,4,4,5,4,0,12,10,1,0,0,0,0,0,0,0,0,0,0,0,0,0,0,30,15,13,5,0,0,0,0,0,0,0,0,0,0,0,0,0,0,0,0,0,0,0,0,0,0,0,0,0,0,0,0,0,0,0,0,0,14,0,0,0,0,0,0,0,0,0,0,1,0,0,0,0,0,0,0,0,0,0,0,2,0,6,0,6,0,0,2,0,0,0,10,0,5,0,12,0,0,0,0,7,0,2,2,0,8,0,0,0,0,2,0,0,0,0,0,0,1,0,4,0,0,0,0,0,0,0,0,0,0,0,0,0,0,0,0,0,0,0,0,0,0,0,1,0,0,2,0,2,0,0,0,2,0,2,0,3,0,0,0,0,0,0,2,14,0,0,1,0,2,2,2,0,0,0,4,2,2,5,0,0,0,0,0,16,1,0,0,0,2,3,0,0,0,5,2,0,6,0,3,0,5,0,4,2,0,0,4,2,0,9,6,0,4,0,5,0,0,2,1,14,11,0,3,11,0,2,0,7,3,17,0,4,6,16,0,0,16,0,15,2,4,7,3,0,0,2,0,10,4,12,3,3,2,4,5,12,0,4,4,10,4,7,3,15,11,13,0,1,0,5,8,6,8,5,0,6,2,11,4,8,4,6,10,16,3,6,9,6,8,5,0,8,9,6,8,5,0,6,8,0,4,9,2,11,8,0,12,8,8,3,5,2,10,6,2,7,7,2,11,0,2,0,0,3,1,4,2,10,9,10,0,5,5,0,5,0,5,10,17,610,1,1,11,7,7,3,1,4,8,9,5,9,8,4,3,1,3,1,6,4,0,0,0,0,0,0,0,0,0,0,0,0,0,0,0,0,0,0,3,0,0,0,0,0,2,4,0,5,0,6,0,2,0,0,2,0,0,6,1,7,0,0,0,0,0,0,0,0,0,0,0,0,0,0,0,0,0,0,0,0,0,0,0,1,0,0,0,0,0,0,0,0,0,0,0,0,0,1,0,0,0,0,0,0,0,0,0,0,0,0,0,0,0,0,2,0,2,0,0,0,0,0,0,0,0,0,0,0,0,0,0,0,0,0,0,0,0,0,0,0,0,0,2,0,0,36,0,0,0,0,0,0,0,1,0,1,1,0,2,0,0,2,0,0,0,0,1,0,0,4,0,10,2,3,5,3,0,3,1,0,0,3,5,0,4,1,2,8,3,3,2,4,1,7,4,0,4,6,5,0,4,8,0,2,0,3,3,4,4,0,1,0,6,0,0,6,6,0,2,7,0,4,5,5,1,2,0,2,5,0,5,32,9,4,5,2,1,3,9,0,0,0,1,2,0,8,4,4,7,5,6,3,4,2,4,7,0,2,3,7,9,2,4,9,6,12,0,3,4,5,7,6,10,0,6,0,11,0,9,4,5,3,2,10,2,5,0,0,7,5,7,6,9,8,9,13,11,5,11,5,0,2,3,8,7,7,2,3,8,4,3,0,5,6,5,0,3,0,6,1,1,7,7,4,6,6,1,0,5,15,3,1,16,7,1,3,0,9,6,4,2,3,6,10,3,0,0,0,4,6,4,1,8,0,2,3,0,0,6,0,0,30,0,0,0,0,0,0,0,0,0,25,25,0,0,0,0,0,0,0,0,0,0,3,4,0,0,0,2,0,0,25,0,0,13,0,2,0,0,0,0,3,1,0,5,7,0,0,8,0,2,0,6,9,1,0,0,0,0,0,0,0,0,0,0,0,0,0,0,0,0,0,0,0,0,0,0,0,0,0,0,0,0,0,0,1,2,0,0,1,0,0,0,0,0,0,0,0,0,0,0,0,1,0,0,3,5,0,2,3,2,0,4,0,0,3,3,0,0,4,0,0,0,0,3,0,0,0,0,0,3,0,0,0,0,4,0,0,3,0,0,4,0,0,0,0,0,0,0,5,0,0,1,6,4,6,0,4,13,5,0,0,1,5,0,1,2,7,5,3,4,0,5,4,9,3,4,0,0,8,1,2,3,6,0,1,0,2,0,5,2,1,3,3,3,0,3,10,4,5,0,0,1,0,0,17,0,0,0,3,5,7,0,2,3,4,4,9,7,9,0,3,13,3,15,5,20,4,7,11,7,5,4,6,5,10,7,4,2,8,6,0,9,0,17,3,2,0,1,0,4,2,2,13,3,3,5,3,7,0,2,4,0,3,2,9,0,11,2,8,2,3,1,7,0,0,0,0,0,0,0,32,0,0,0,0,0,0,20,0,0,0,0,0,0,0,0,6,0,0,0,0,5,0,0,0,3,9,0,0,0,5,0,2,6,7,9,0,3,0,12,0,1,0,0,0,0,0,0,0,0,0,1,0,1,0,0,0,0,0,1,12,0,0,0,2,0,1,0,4,0,0,0,0,0,0,0,0,2,4,2,1,0,1,0,0,0,0,0,0,0,0,0,0,0,0,0,0,0,0,0,0,0,0,1,1,0,0,1,2,2,0,0,0,0,0,0,0,1,0,0,0,0,0,0,0,0,0,0,0,0,0,3,1,5,4,4,4,2,4,1,0,4,2,2,0,0,0,0,0,0,2,0,0,0,0,0,0,3,1,3,0,0,0,3,0,0,10,8,0,4,7,1,1,4,5,0,5,0,0,4,0,0,7,1,5,3,10,4,20,11,1,20,7,7,0,0,2,9,10,11,4,0,3,0,8,10,4,1,7,2,2,4,5,2,2,7,4,1,5,4,6,6,0,8,2,4,1,3,5,0,0,8,4,8,11,6,1,5,2,4,16,2,0,1,4,2,2,0,0,0,0,0,0,0,9,15,0,0,0,0,0,0,0,0,0,0,0,0,0,0,0,0,0,0,0,0,0,5554,1,0,1,0,30,0,13,4,0,0,0,1,0,0,0,14,13,0,3,0,0,0,0,0,0,0,0,0,0,0,0,0,0,0,0,0,0,0,0,0,0,0,0,2,0,0,0,3,0,0,0,0,1,0,2,0,0,0,0,0,0,2,0,0,0,3,0,0,3,0,4,1,0,2,1,0,0,0,0,0,1,0,0,0,0,0,0,0,0,1,0,0,0,0,0,0,0,0,0,0,1,0,0,0,1,0,0,2,1,0,2,0,0,3,0,2,0,0,0,0,0,0,4,0,0,0,2,0,7,0,5,0,0,6,4,4,3,5,4,1,4,0,2,0,5,0,2,3,2,2,0,1,0,2,2,2,20,5,3,4,0,0,3,8,45,4,4,4,1,10,3,7,0,9,5,7,2,5,7,7,5,3,0,8,5,7,1,9,17,2,3,3,4,4,9,11,8,8,6,4,18,4,8,9,9,23,8,2,7,12,4,7,19,3,6,2,5,5,13,3,10,4,7,8,1,0,2,11,2,3,8,5,6,4,9,0,1,0,0,0,0,0,0,0,0,0,0,0,0,0,0,0,0,3,23,0,0,0,1,2,0,0,0,0,0,0,0,0,0,0,0,0,0,0,0,0,0,0,0,0,0,0,0,0,0,0,0,0,0,0,0,0,0,0,0,0,0,7,0,0,0,0,0,1,0,3,0,3,3,3,0,0,9,4,3,0,3,0,0,3,3,0,0,0,0,0,0,0,0,0,0,0,0,0,0,0,0,0,0,0,0,1,4,1,0,0,0,0,1,0,1,0,0,1,1,5,1,6,0,0,3,1,0,2,4,0,0,0,2,0,0,14,6,6,5,4,1,5,5,0,0,5,2,4,0,0,0,5,45,9,6,0,0,15,1,1,5,1,3,4,6,0,8,0,5,1,0,2,7,4,7,0,10,4,5,4,6,4,7,7,33,3,4,0,22,1,10,1,3,1,4,5,1,9,9,2,3,3,2,0,0,4,6,4,25,5,3,3,10,5,2,6,2,3,14,2,0,5,3,5,4,0,0,0,0,15,9,0,0,0,0,0,0,0,0,0,32,0,0,0,0,0,0,0,0,0,7,1,7,13,0,16,16,16,3,1,0,13,0,1,0,0,0,0,1,0,0,10,0,5,0,0,0,0,0,0,0,0,0,0,0,0,0,0,0,0,0,0,0,0,0,0,0,0,0,0,1,0,0,0,0,0,0,0,0,1,0,0,0,0,0,0,0,0,0,2,0,0,0,0,0,0,0,0,0,0,0,0,0,0,0,0,0,0,0,1,0,0,0,5,0,0,0,0,0,0,0,1,0,0,0,0,1,0,0,0,0,0,0,0,0,0,0,0,1,2,1,0,0,0,0,3,3,0,0,0,0,1,2,0,0,3,0,1,0,0,4,3,0,2,0,0,0,5,0,0,3,1,3,4,1,4,32,2,2,0,0,1,0,0,2,5,3,0,0,0,0,5,0,2,1,0,0,2,3,0,0,0,0,1,4,3,2,6,0,4,2,5,1,0,0,5,10,6,6,2,4,0,3,0,0,8,0,4,0,5,0,0,8,0,0,7,2,0,0,2,0,5,4,4,7,2,0,5,0,8,0,2,5,1,0,5,8,0,0,0,9,0,0,2,1,0,4,3,5,2,10,6,2,7,8,5,0,0,6,6,0,0,5,7,7,3,2,2,20,6,3,5,11,0,0,9,14,0,3,5,0,0,1,0,15,7,0,3,2,14,4,15,8,0,6,3,3,5,0,11,5,2,0,12,0,0,5,0,0,0,3,0,0,2,13,0,5,4,5,6,10,0,6,0,6,12,6,2,2,14,0,14,18,1,0,1,0,3,3,3,0,0,0,0,0,0,0,0,1,0,0,0,0,0,0,0,0,3,3,3,7,0,0,7,12,9,1,1,2,1,30,0,0,0,0,0,0,0,0,0,0,0,0,0,0,0,0,0,0,0,0,0,0,0,3,0,0,0,0,0,0,0,0,0,0,0,0,0,0,0,0,0,0,0,0,2,0,0,0,0,0,0,0,2,0,0,0,0,0,0,0,0,2,0,0,0,0,0,0,0,0,0,0,0,0,0,1,1,3,1,0,0,0,0,0,1,2,0,1,0,0,4,3,0,7,0,1,2,3,0,3,3,0,5,0,0,3,0,0,0,0,0,1,0,0,4,3,4,4,8,0,0,5,5,0,5,0,3,25,0,4,0,3,0,2,0,3,5,4,0,0,5,4,5,6,4,6,0,5,10,0,8,1,4,15,1,3,0,7,10,3,5,3,4,3,1,4,0,5,2,3,3,0,5,5,2,7,50,1,12,5,12,9,4,12,5,2,8,0,0,7,7,4,8,6,0,4,5,7,6,4,0,4,0,6,2,8,6,2,1,0,7,8,2,5,7,5,2,3,2,0,1,10,10,0,0,0,1,3,0,0,0,0,0,0,0,0,0,0,0,0,0,0,0,0,0,0,0,0,30,0,0,0,0,0,0,0,0,0,0,0,10,0,8,0,0,0,13,0,20,0,0,4,6,0,13,0,1,7,0,0,0,6,0,0,0,0,0,0,0,0,0,0,0,0,0,0,0,0,0,0,0,0,0,0,0,0,1,0,0,0,0,0,1,0,0,1,2,0,0,0,0,3,0,0,0,0,1,2,2,0,0,0,0,0,0,0,0,1,5,0,1,0,1,0,0,1,2,0,0,2,3,0,0,1,9,0,0,4,2,1,0,0,1,1,4,4,2,0,3,0,1,2,1,4,5,3,3,4,1,4,3,5,0,0,2,4,5,6,5,2,5,0,0,0,4,5,5,0,0,5,1,4,5,0,4,15,0,4,2,0,7,6,2,0,9,0,13,7,6,1,7,13,25,7,0,5,0,13,8,0,0,6,1,0,4,13,9,1,10,6,9,6,5,0,4,5,0,12,12,5,9,4,6,7,4,5,7,22,4,7,2,11,2,5,6,2,8,5,1,13,18,2,4,4,8,0,5,10,0,0,0,6,0,32,0,0,0,0,0,0,0,0,0,0,0,0,0,5,25,0,0,0,0,0,0,0,0,0,0,0,0,0,0,0,7,0,6,0,6,0,1,0,0,0,12,20,0,6,0,7,4,0,3,0,0,3,1,0,0,0,0,0,0,0,0,0,0,1,0,0,0,0,0,2,0,1,0,0,0,0,0,2,0,0,0,3,3,0,2,4,3,3,3,0,0,2,15,0,1,0,0,0,1,0,0,0,1,3,1,1,1,3,3,5,2,4,5,0,0,1,2,3,2,1,5,4,0,4,0,6,5,0,0,0,1,0,0,5,9,7,4,8,7,1,0,5,8,4,6,8,3,1,9,0,7,6,0,5,0,4,8,6,14,10,10,3,0,7,2,0,2,8,8,5,2,7,10,2,15,9,7,0,20,6,0,0,9,5,8,12,5,0,0,20,0,0,21,0,0,0,0,1,0,0,0,0,0,0,0,11,9,0,0,0,0,3,8,0,0,0,0,0,0,0,0,0,0,0,0,0,0,0,0,0,0,0,14,0,0,6,0,0,0,0,1,0,0,2,2,0,0,2,4,3,0,0,0,0,0,0,0,0,0,0,0,0,0,0,0,0,0,0,0,0,0,0,0,0,0,0,0,0,0,0,0,0,1,0,0,0,0,1,0,1,1,0,0,0,0,0,0,0,0,1,0,0,0,0,0,1,0,0,0,2,0,1,0,2,1,1,0,1,0,0,1,0,0,1,0,4,0,0,0,2,0,0,1,0,1,6,0,0,0,0,1,0,2,0,0,0,0,0,0,0,0,0,1,2,1,1,0,0,2,0,0,0,0,4,0,0,0,1,0,3,0,4,0,3,2,2,0,0,0,5,0,2,0,0,2,3,0,0,2,3,1,2,0,3,0,1,0,0,1,0,0,0,2,2,0,1,4,1,0,0,4,0,0,0,6,1,2,0,6,7,2,0,6,0,1,1,2,8,8,0,6,7,0,2,0,5,5,0,0,0,6,5,0,2,0,5,4,1,0,8,3,4,0,4,0,5,5,0,3,4,3,2,0,0,5,0,5,4,1,35,4,2,0,13,4,11,6,4,3,8,6,6,7,5,5,3,0,2,4,4,6,5,10,12,0,7,8,4,2,7,8,9,8,3,11,6,2,2,13,7,9,6,0,0,0,0,6,0,3,0,1,8,4,2,9,7,3,6,5,4,0,0,0,1,0,4,7,9,3,4,4,6,2,3,0,0,12,4,0,7,0,0,2,11,1,1,6,4,3,2,4,4,4,0,0,1,3,0,0,0,0,6,1,0,0,0,0,2,0,0,0,0,0,0,0,0,0,1,0,0,0,0,0,0,0,0,0,0,0,0,0,0,0,1,0,0,0,0,5,3,0,1,0,0,0,0,0,0,0,0,0,0,0,0,1,0,0,0,0,0,0,0,0,0,0,0,0,2,0,0,1,0,1,1,1,0,0,0,1,0,0,1,0,0,0,1,1,0,0,0,0,0,0,0,0,0,1,10,0,0,0,1,0,0,0,5,0,1,0,0,3,0,0,0,2,0,2,1,1,0,1,2,0,6,2,2,3,1,0,9,1,4,0,5,1,12,6,5,2,5,1,4,0,4,0,3,4,4,4,1,4,0,8,0,3,2,4,3,6,1,6,11,0,3,2,9,0,0,0,12,5,6,0,0,2,0,0,0,8,1,0,0,1,0,10,0,2,6,0,0,0,0,1,5,2,1,0,0,1,0,0,0,7,0,1,0,5,0,0,6,7,0,2,0,2,0,1,0,0,2,3,0,0,5,8,5,4,5,5,2,9,16,0,6,3,5,6,5,1,0,0,8,12,8,10,8,2,9,0,2,7,7,1,5,4,12,10,10,0,11,23,14,0,2,4,0,5,2,4,0,4,0,4,0,0,0,0,0,0,0,0,0,1,0,0,0,0,0,0,0,0,0,0,0,0,0,0,0,0,6,0,0,12,0,0,0,1,1,0,0,0,0,0,0,0,0,0,0,0,0,0,0,0,1,0,0,0,0,0,0,0,0,0,0,0,2,0,0,0,0,0,0,0,3,0,3,0,0,0,0,0,0,0,0,3,0,0,2,0,0,20,1,0,2,0,0,0,0,3,0,2,5,5,6,0,6,5,0,4,0,4,3,1,0,2,3,6,0,2,2,0,0,2,2,0,0,0,0,1,2,0,1,0,1,2,0,2,1,5,4,3,6,9,4,0,15,10,4,0,6,6,3,2,3,6,4,0,9,3112,13,2,2,1,1,6,6,0,12,2,6,13,7,3,0,8,3,2,12,8,7,4,1,7,14,22,1,8,0,0,5,12,6,9,6,0,5,6,6,2,0,6,10,7,0,7,2,3,8,4,7,6,2,4,13,13,5,3,1,0,4,0,15,0,0,0,6,0,0,0,0,0,0,0,0,0,0,0,0,0,0,0,0,0,0,0,0,0,0,0,0,30,0,0,0,4,0,0,0,7,0,0,5,4,0,18,0,9,0,1,0,0,3,0,0,0,0,0,0,0,0,0,0,0,0,0,0,0,0,0,0,0,0,1,0,0,0,0,0,0,0,0,0,0,0,0,1,2,0,0,0,2,0,0,0,0,2,0,6,2,1,15,0,7,4,3,4,3,3,8,0,3,5,5,2,6,2,3,0,1,3,0,2,0,4,4,0,0,5,4,3,10,0,0,0,0,0,0,3,0,9,0,2,1,30,4,0,1,2,10,48,3,8,11,3,7,2,4,0,10,0,4,4,13,4,2,3,12,2,8,0,4,1,10,0,6,7,1,10,4,14,13,2,0,4,1,1,3,2,9,3,9,2,13,10,9,27,5,12,12,5,9,13,8,15,3,6,26,3,0,4,22,4,7,8,24,6,0,2,10,4,20,1,2,17,10,2,5,5,1,5,6,3,11,2,6,1,4,2,2,10,35,6,3,5,9,0,0,8,9,7,10,6,0,8,2,6,0,9,6,10,3,3,10,7,5,3,6,15,0,9,4,6,1,4,3,0,0,0,0,0,0,48,0,0,0,0,0,0,0,0,0,0,0,0,0,0,0,0,0,0,0,10,5,4,0,0,8,4,0,0,3,0,0,0,0,0,0,0,0,0,0,0,0,0,0,0,0,0,0,0,0,0,1,0,0,0,0,0,0,0,3,0,2,5,2,0,1,0,0,3,1,0,0,0,0,0,0,0,2,0,0,2,0,1,0,0,0,0,3,0,0,0,2,4,0,4,0,2,3,3,0,3,0,0,2,3,0,0,0,3,0,1,3,5,2,2,3,0,2,4,1,0,1,0,1,2,6,0,5,4,1,4,0,2,0,9,5,8,0,0,5,4,7,0,0,10,10,6,0,2,10,2,2,2,1,2,2,5,5,0,7,18,3,2,6,9,1,9,10,10,6,2,11,5,5,4,2,6,2,4,0,14,4,9,5,3,0,3,4,3,0,3,3,8,2,3,12,2,3,8,15,4,10,0,0,0,0,0,0,14,0,0,0,0,0,0,0,0,0,0,0,0,0,2,0,3,0,0,0,0,40,6,16,0,4,7,0,0,10,2,0,4,0,5,0,0,0,0,0,0,0,0,0,0,0,0,0,0,0,0,0,0,0,0,1,0,0,0,0,0,1,0,0,0,0,1,0,0,0,2,0,0,0,0,0,0,0,0,0,0,1,0,0,0,0,5,0,2,0,1,0,0,0,1,0,0,1,0,0,0,0,0,0,0,0,0,0,3,0,4,0,0,0,3,0,0,0,4,0,0,0,0,0,0,0,0,0,0,0,0,0,0,0,0,0,0,0,0,0,0,0,0,2,3,1,0,3,0,0,0,2,0,0,0,0,2,0,3,1,0,0,0,2,0,2,10,0,2,1,2,0,0,0,0,3,0,0,0,0,0,0,3,0,2,7,0,0,7,5,0,3,0,6,0,0,3,0,0,0,2,1,0,2,0,0,5,0,1,0,0,0,7,0,4,7,0,0,10,6,4,0,3,5,0,0,3,6,8,0,0,6,0,8,0,0,6,0,0,5,0,5,2,5,5,7,6,13,3,4,4,12,11,5,0,1,2,0,0,9,9,4,0,0,1,0,5,7,0,1,6,3,5,0,5,4,12,4,0,13,2,0,3,6,2,4,4,0,3,8,6,8,1,2,9,6,2,1,11,3,5,8,2,0,2,4,10,6,1,1,5,3,1,8,19,3,9,1,2,2,0,0,2,5,3,3,3,3,0,11,3,1,4,1,4,0,5,2,0,4,3,0,10,8,6,1,0,2,11,0,0,2,8,2,5,5,0,6,0,0,4,11,3,3,0,5,3,5,0,3,5,0,0,0,0,0,0,0,0,0,0,0,0,0,0,0,0,0,0,0,0,0,0,0,0,0,0,0,0,0,10,0,0,0,0,0,0,0,3,0,8,4,0,0,16,0,5,0,0,0,6,0,0,20,0,0,0,0,0,0,1,0,0,0,1,0,1,0,0,0,4,0,1,0,0,0,0,0,0,0,0,0,0,7,0,0,0,0,0,0,0,0,0,0,1,0,0,0,0,0,0,0,0,0,0,0,2,0,0,0,0,0,0,1,0,0,4,0,0,0,0,5,0,1,0,1,2,0,0,0,0,0,0,0,0,0,0,0,0,0,0,2,0,1,0,0,0,5,8,0,0,1,0,13,0,0,0,0,0,0,0,0,4,5,0,0,0,0,1,0,1,1,2,2,3,4,0,0,5,0,2,0,0,2,5,3,2,6,0,0,0,6,0,4,6,9,9,0,0,4,0,0,0,6,1,0,5,0,4,0,0,0,1,0,3,0,0,3,20,0,0,5,3,0,4,0,0,0,1,6,0,0,0,0,1,0,0,3,3,2,4,8,1,2,5,1,2,1,6,5,0,1,0,3,5,2,0,7,2,5,0,1,2,1,7,1,2,0,8,8,2,7,0,4,3,0,4,9,8,6,0,5,1,5,8,2,4,2,7,4,9,8,4,1,0,0,0,2,2,10,8,2,15,0,8,13,4,1,4,5,8,5,0,0,8,10,13,4,0,1,5,7,3,2,9,9,1,4,4,7,7,1,0,2,2,1,1,0,3,11,0,4,2,3,7,8,2,0,6,7,6,2,4,0,9,1,2,6,7,1,3,4,0,12,0,0,0,1,4,0,17,7,0,0,0,0,0,0,0,0,15,11,45,0,20,22,0,35,0,0,0,0,0,0,0,0,0,0,0,0,0,0,0,0,0,1,6,0,0,0,4,0,0,0,5,0,0,0,0,0,0,0,0,0,0,2,3,0,7,0,0,0,0,0,0,5,0,30,10,8,0,0,0,0,2,0,0,0,0,0,0,0,0,0,0,0,0,0,0,0,0,0,0,0,0,0,0,0,0,0,0,0,0,1,0,0,0,0,1,1,1,0,2,0,0,0,9,2,0,0,0,1,0,0,1,1,0,9,0,0,0,0,0,0,0,0,0,0,0,0,0,0,1,2,1,0,1,2,0,0,2,0,2,0,9,0,0,0,12,0,1,0,1,3,0,0,3,2,0,1,1,7,1,2,8,4,0,0,2,0,2,0,4,0,0,10,0,2,6,7,0,4,0,0,8,2,0,3,0,4,0,2,5,0,0,1,4,0,0,2,2,12,0,10,6,1,4,3,0,4,13,3,8,3,0,3,4,9,3,11,3,6,3,4,0,1,10,12,12,2,6,4,0,3,3,0,2,1,10,8,10,2,9,13,8,7,6,0,1,1,5,8,20,4,11,10,9,11,0,5,1,1,3,9,11,2,4,9,5,10,11,6,5,16,4,0,5,4,5,0,4,8,1,1,4,4,12,12,4,0,2,2,5,0,0,11,0,0,20,22,10,40,0,0,0,0,0,0,0,40,0,0,0,0,0,0,0,0,0,0,0,0,0,0,0,0,2,2,1,0,0,0,4,0,0,18,0,22,0,9,0,0,0,0,5,0,8,1,0,0,0,0,0,0,0,0,0,0,0,0,0,0,0,0,0,10,0,3,0,0,0,0,0,0,0,3,2,5,19,0,0,0,0,0,0,0,0,0,0,0,3,0,0,0,0,1,0,0,0,0,1,0,1,0,0,0,0,0,0,0,0,0,0,1,0,0,0,0,0,0,0,0,0,0,0,0,0,2,4,0,0,0,0,0,0,0,0,1,0,0,2,0,0,0,0,0,0,2,0,0,0,1,1,0,1,0,0,0,1,1,0,0,0,2,0,1,0,0,0,1,0,0,0,0,0,0,2,0,0,0,0,0,0,0,0,0,0,0,2,2,0,0,0,2,4,0,2,4,0,0,0,4,0,4,2,0,0,0,5,2,3,0,2,1,6,0,1,2,0,7,1,5,7,0,7,2,0,3,2,2,0,10,6,2,3,0,2,2,0,8,10,8,1,3,23,3,2,4,1,0,3,0,4,2,0,7,3,4,1,3,5,11,4,3,0,0,5,10,7,1,4,3,6,1,4,15,15,3,9,3,2,2,8,0,8,13,6,0,0,10,6,9,4,5,0,8,7,3,10,4,4,6,1,4,2,0,15,3,7,19,8,8,5,5,6,5,2,2,7,1,7,5,4,9,7,5,2,4,4,5,9,4,3,5,11,0,2,3,3,1,3,2,4,10,13,2,1,3,2,5,3,1,2,2,7,4,5,4,5,1,10,5,2,4,2,6,2,0,6,8,3,5,4,3,1,0,0,1,0,0,0,0,0,0,0,40,0,0,50,0,0,0,0,0,0,0,0,0,0,0,0,0,0,0,0,0,0,0,0,0,0,0,0,0,6,0,0,1,0,0,7,0,3,0,2,0,8,3,0,0,0,11,0,5,0,0,0,0,1,2,0,0,0,5,2,1,0,0,0,1,0,0,0,0,0,0,0,0,0,0,0,0,0,0,0,0,1,0,0,0,0,0,0,0,0,0,0,1,0,0,0,0,0,0,0,0,0,0,0,0,1,0,3,1,1,0,0,28,0,1,0,0,0,2,3,3,0,0,0,0,0,0,0,0,5,0,0,0,2,2,6,0,0,5,5,2,2,7,7,0,8,0,1,0,2,0,6,2,2,2,1,3,2,7,0,8,5,4,3,4,2,0,5,0,2,0,0,0,2,0,6,7,4,6,0,1,0,8,2,3,3,5,9,4,2,0,6,7,0,4,10,2,1,6,6,6,5,6,0,7,43,14,0,4,6,5,6,2,9,5,3,13,5,10,11,5,0,10,2,6,6,2,8,5,0,1,8,5,5,8,6,10,6,1,0,2,4,2,1,6,1,6,8,2,10,5,4,2,4,0,12,4,9,12,2,2,4,4,8,3,1,5,13,8,0,0,0,2,1,0,0,0,0,0,0,0,0,0,0,0,0,35,0,0,0,1,5,0,9,0,0,0,0,0,0,0,0,0,0,0,0,0,0,0,0,0,0,0,0,0,0,0,0,0,0,0,0,1,6,0,0,0,0,0,0,0,0,0,0,0,0,0,0,0,0,0,0,0,0,0,0,0,0,0,0,0,3,1,1,0,0,0,0,1,0,0,1,0,0,0,0,0,0,0,6,0,0,2,0,0,0,0,0,0,0,0,0,4,1,0,1,0,3,3,0,1,0,0,1,0,1,0,0,0,2,0,0,0,0,3,0,8,0,0,0,0,0,5,4,0,2,2,7,0,2,2,2,5,0,3,3,0,0,5,0,0,2,7,0,0,7,3,0,5,3,0,2,0,0,4,4,2,2,5,0,0,0,3,0,0,0,0,1,0,2,8,0,2,1,2,0,0,8,1,0,0,2,2,0,0,6,4,1,0,0,0,0,0,6,5,0,5,1,1,0,6,0,1,0,2,9,0,0,10,5,6,4,0,11,1,5,4,0,5,4,1,6,3,4,4,4,3,6,10,3,12,3,6,9,4,2680,16,0,2,1,7,2,0,0,11,9,12,3,7,3,1,6,9,6,11,2,6,5,15,7,9,4,4,6,5,5,6,4,1,9,10,2,5,7,0,12,4,5,5,2,12,10,5,5,15,4,12,2,5,6,6,2,2,18,4,2,3,8,1,9,2,3,3,2,6,9,3,0,2,5,4,6,5,1,1,0,2,3,5,6,0,0,0,0,0,0,0,0,0,0,0,0,0,0,0,0,0,0,0,0,0,0,0,0,2,0,0,0,0,0,14,0,0,0,2,0,0,0,0,0,0,0,0,3,0,0,4,1,0,0,4,11,4,6,1,0,4,0,6,0,0,0,1,0,8,0,0,0,5,6,0,0,0,0,0,0,0,0,0,0,0,0,0,0,1,0,0,0,0,0,2,1,0,0,1,0,0,0,0,0,0,2,0,3,0,0,0,1,2,0,0,0,0,0,0,0,0,0,1,0,0,0,0,2,0,0,2,0,0,0,1,0,3,0,0,0,4,0,0,0,1,0,0,0,3,3,0,2,1,0,0,0,0,5,0,0,3,1,5,1,0,4,0,2,1,3,0,3,3,4,4,0,1,0,9,0,4,0,5,0,0,5,5,0,5,3,5,2,4,2,5,0,0,0,5,3,2,0,0,5,0,10,0,2,7,6,18,2,0,2,0,1,1,6,10,22,0,4,2,0,4,10,3,5,10,4,6,6,5,11,30,6,0,8,35,2,3,5,8,6,7,3,4,2,1,8,15,5,7,4,2,13,6,5,5,12,11,5,8,3,0,4,8,9,16,3,12,13,16,8,1,5,9,0,2,3,7,9,3,4,5,7,13,0,9,4,17,13,5,1,1,3,3,4,10,4,14,6,6,12,1,3,12,3,2,2,4,1,3,5,2,6,8,4,5,0,3,3,5,5,2,5,5,12,11,10,8,6,9,2,9,3,8,13,20,0,2,13,1,6,15,30,17,4,8,10,10,1,4,1,14,3,2,6,1,1,7,2,2,5,7,6,0,2,0,2,9,0,0,0,0,40,0,22,0,0,0,0,0,0,0,0,0,0,0,0,0,0,0,6,0,6,0,0,0,5,0,0,0,0,0,0,0,0,0,0,5,6,0,0,0,8,0,0,10,0,0,0,0,0,0,0,0,0,0,0,0,0,0,0,0,0,0,0,0,0,0,0,0,0,0,0,1,0,0,0,1,0,0,0,1,0,0,0,0,0,0,0,0,0,0,0,0,0,0,0,0,0,3,0,0,0,0,1,0,2,0,0,0,0,0,0,1,0,4,0,0,3,0,1,2,4,0,0,6,4,1,0,2,2,2,0,3,3,0,5,0,0,5,6,2,3,0,0,6,6,0,0,3,4,4,0,3,0,4,0,5,3,3,0,2,0,18,2,2,5,7,3,6,0,11,0,8,1,0,6,0,4,0,6,2,3,49,8,4,0,6,1,9,0,1,8,2,10,6,16,2,0,6,10,6,7,2,0,6,0,6,11,0,0,6,4,7,2,6,2,3,0,13,14,1,0,0,5,9,5,2,13,7,5,6,0,2,3,0,3,2,8,7,15,0,2,6,2,6,6,1,8,8,1,1,2,5,5,8,11,10,7,3,1,3,0,4,10,12,10,0,1,1,0,1,2,0,0,0,0,0,0,0,0,0,0,28,23,32,30,0,0,0,29,0,0,0,30,1,0,0,0,0,0,0,0,0,0,0,0,0,0,0,30,0,0,0,0,0,0,0,0,0,0,0,0,50,0,0,0,23,0,0,0,0,11,0,0,0,8,0,0,4,0,2,8,0,0,4,10,0,4,0,0,0,0,0,1,0,10,5,0,0,8,3,9,0,0,7,0,0,22,0,6,1,0,0,0,0,0,0,0,0,0,0,0,1,0,0,0,0,2,0,1,0,7,10,8,1,1,0,2,5,1,0,0,0,1,0,1,0,0,4,5,5,1,0,0,0,0,0,0,0,3,0,0,1,0,0,2,0,0,9,0,0,0,1,2,1,0,1,1,0,5,4,0,3,4,2,0,0,2,3,0,2,0,0,6,3,4,3,0,2,4,0,3,0,0,4,0,0,2,0,0,0,3,10,5,3,0,2,0,0,5,0,1,1,0,1,8,0,1,0,0,0,3,7,3,2,0,1,6,0,1,10,11,0,20,0,6,5,5,0,10,0,2,13,3,0,6,10,13,7,9,6,4,0,14,3,0,13,15,8,5,0,1,2,5,0,8,12,10,5,0,4,14,4,3,12,7,4,0,0,0,4,6,10,3,6,3,8,8,0,5,6,1,0,2,2,0,2,9,3,3,0,14,0,4,3,2,4,8,13,1,3,3,24,1,6,0,0,2,3,0,0,50,5,0,0,22,0,0,0,0,0,0,0,0,0,0,0,0,0,0,0,0,0,0,0,0,0,0,0,0,0,0,0,0,0,0,0,0,0,2,0,26,0,0,0,0,0,0,0,0,0,10,0,0,14,0,0,0,2,1,0,0,3,0,0,0,0,0,0,0,0,0,0,0,0,0,0,0,0,0,3,0,0,0,0,0,0,0,0,1,0,0,1,1,1,2,0,0,2,0,0,2,1,0,2,1,0,2,2,0,0,0,4,0,0,2,1,1,0,8,1,2,1,0,0,0,0,0,2,1,0,5,0,2,4,0,5,5,0,0,2,0,4,0,0,0,0,10,5,0,0,0,5,0,5,4,1,0,0,2,2,3,0,6,5,4,2,1,1,0,1,5,5,0,1,0,6,3,7,6,5,1,1,8,0,1,7,13,2,1,3,2,2,5,1,0,3,7,2,7,1,5,3,2,6,2,2,5,7,2,0,13,6,5,2,15,0,5,5,13,5,10,0,0,6,5,9,0,6,7,3,1,4,5,5,8,2,5,5,7,3,4,13,6,0,0,6,8,8,10,5,0,4,11,2,2,6,4,12,5,4,11,13,2,8,11,10,0,4,0,2,4,1,16,1,3,3,1,1,0,0,0,0,0,2,0,0,0,0,14,0,0,0,0,0,0,0,0,0,0,0,0,0,0,0,0,0,0,0,0,0,0,0,0,0,0,0,0,0,20,0,9,0,0,2,0,0,0,0,0,25,0,0,15,0,0,0,36,20,0,0,0,8,0,1,20,9,0,0,6,0,0,0,0,0,20,0,2,0,0,0,20,0,0,0,4,0,0,0,0,0,0,0,15,4,4,0,2,0,0,0,6,11,5,7,0,0,3,1,0,0,0,0,0,0,0,0,0,0,0,0,0,1,0,0,0,0,0,0,0,0,0,0,0,0,0,0,0,0,0,0,0,0,0,0,1,0,0,0,0,0,0,0,0,0,0,0,0,2844,1,0,1,0,0,1,2,0,1,0,2,5,0,2,0,0,0,0,0,2,0,3,4,2,2,0,6,0,0,0,2,2,0,0,3,0,0,4,0,0,4,3,0,0,2,0,0,0,0,0,0,2,0,0,6,2,0,1,5,1,0,0,5,0,8,0,5,1,5,8,5,1,2,0,0,0,0,6,0,0,5,0,5,5,4,0,0,0,0,0,0,0,0,1,0,5,0,0,6,0,0,8,0,2,0,0,1,0,11,2,3,0,2,3,0,2,8,0,4,0,5,1,8,2,10,4,4,2,0,3,5,1,4,14,3,8,6,4,8,1,12,7,6,1,5,6,14,2,4,5,13,9,0,8,10,4,12,0,4,3,2,1,10,7,3,14,6,5,0,5,8,20,5,7,4,3,0,1,5,7,5,11,4,6,0,6,5,4,1,5,7,2,0,5,4,0,8,8,6,33,6,9,2,12,1,2,12,4,2,4,5,3,4,3,4,0,0,0,0,0,0,0,0,0,6,0,25,0,0,0,0,0,0,0,0,0,0,0,0,0,0,39,0,0,0,0,0,0,0,0,0,0,35,0,0,0,0,0,0,0,3,0,0,0,0,0,0,0,0,0,0,25,5,0,3,0,0,0,0,6,0,2,0,0,0,0,9,0,4,2,2,0,0,0,0,2,12,2,0,27,0,1,0,0,10,0,0,0,0,2,0,1,0,0,0,8,1,0,0,0,4,0,0,0,0,0,0,0,0,0,0,0,0,0,0,0,1,0,0,0,8,1,1,2,0,3,4,2,3,0,3,2,0,0,3,5,2,0,0,1,2,0,13,0,5,0,0,0,0,2,1,1,4,5,0,0,3,0,7,0,1,0,4,2,0,0,0,2,1,4,0,0,0,0,1,0,0,2,0,2,0,4,7,0,0,0,1,12,5,12,5,4,0,8,6,0,4,7,0,4,5,0,0,4,0,6,1,0,41,7,2,8,2,24,0,4,8,0,0,1,9,5,7,6,4,0,1,2,0,6,0,12,4,4,0,7,0,0,0,5,13,0,8,13,2,8,9,1,5,8,7,5,3,3,9,3,15,3,12,7,0,4,4,9,0,4,6,5,7,8,3,10,5,5,6,4,0,16,13,4,3,6,4,1,0,4,0,0,0,0,0,0,1,2,0,0,0,0,3,0,0,0,4,0,0,0,0,0,0,0,0,7,2,0,0,0,0,0,0,0,0,25,0,0,0,0,0,0,0,0,0,0,25,1,0,0,0,0,0,0,0,30,8,0,2,0,0,0,0,0,0,3,0,0,0,0,0,0,0,0,0,0,0,2,0,0,0,4,0,2,0,0,0,0,0,19,0,0,0,0,0,0,0,0,0,0,0,0,0,0,0,0,0,0,0,0,0,0,0,0,0,0,0,0,0,0,1,2,4,1,0,3,0,1,1,1,22,0,3,0,1,0,0,0,2,0,0,0,0,4,14,12,2,2,0,0,2,7,0,3,2,0,5,3,0,0,0,0,0,1,7,0,3,3,0,4,9,0,0,3,2,4,0,10,3,5,4,7,0,3,3,8,13,0,0,8,1,8,0,6,3,7,8,2,5,1,0,3,7,0,10,0,12,5,3,0,1,8,9,1,4,7,14,6,5,4,0,0,2,8,0,7,2,1,5,3,1,5,11,3,9,0,7,10,30,5,10,0,0,7,7,10,4,7,0,6,8,10,5,3,5,0,3,13,7,2,3,3,2,6,4,9,8,9,2,8,15,0,11,6,9,4,12,5,20,8,13,9,4,0,6,0,4,6,0,0,0,7,4,2,8,9,3,14,1,0,0,0,8,8,10,1,0,15,13,0,6,11,1,3,1,5,6,0,1,0,0,0,0,0,0,0,0,0,0,4,0,0,0,0,0,0,0,0,18,0,0,15,35,0,0,0,0,0,0,0,0,0,0,0,0,0,0,0,0,0,0,4,0,20,0,0,0,0,0,0,0,2,0,0,0,0,0,0,0,0,0,3,0,0,2,0,0,0,0,2,2,0,0,1,0,0,0,0,0,20,1,6,0,0,9,2,2,0,0,6,0,0,0,0,0,0,0,0,0,0,9,4,0,0,0,0,0,0,1,0,0,0,0,0,0,0,0,0,0,0,0,0,0,0,1,1,0,2,3,3,2,2,2,1,11,3,0,0,0,0,0,0,0,0,3,0,1,5,0,2,0,0,0,0,0,2,1,0,1,2,3,0,10,15,0,2,0,1,0,1,0,3,0,2,1,3,3,7,10,5,5,1,0,1,0,5,0,0,2,0,2,0,4,0,4,0,15,0,5,1,9,0,0,7,1,7,0,3,5,3,1,2,0,2,0,4,4,2,6,3,7,17,6,6,0,8,1,9,6,9,8,0,10,3,8,14,2,5,12,9,13,8,2,13,7,7,2,7,3,8,4,3,8,4,5,2,5,11,1,9,0,6,5,4,3,4,2,2,10,4,8,9,2,10,4,10,4,10,0,8,0,7,6,6,6,1,0,8,2,9,4,2,10,3,2,3,2,2,4,6,12,14,10,15,15,0,0,2,0,0,11,10,0,0,0,0,1,0,0,0,0,0,0,0,0,30,0,0,0,5,0,0,0,0,0,0,0,0,50,0,0,0,0,0,0,0,0,0,50,0,0,0,0,0,0,0,0,0,7,0,0,1,0,0,0,0,0,0,0,0,0,0,0,0,0,10,50,0,0,0,6,0,0,0,0,6,0,0,0,0,0,1,0,2,0,0,3,10,1,0,0,31,0,0,0,3,1,0,0,5,0,6,0,0,3,0,0,0,0,0,0,0,0,0,0,0,0,0,0,0,0,0,0,0,0,0,0,3,0,0,0,1,0,1,0,0,0,0,0,0,0,0,3,0,1,0,0,15,1,12,0,1,0,0,0,0,0,0,0,0,0,0,0,1,0,0,2,0,0,0,0,0,1,0,0,2,0,6,1,3,0,3,2,0,0,1,1,0,2,9,0,0,0,2,0,1,0,4,0,8,3,4,4,2,0,0,2,0,7,5,3,0,4,2,0,2,0,3,6,0,1,0,6,3,30,0,4,19,11,2,10,2,0,5,4,0,7,1,0,1,4,6,9,4,1,7,34,0,3,3,3,0,1,3,0,10,5,7,2,14,5,13,2,0,16,4,0,17,7,4,1,1,4,0,0,11,7,15,7,2,5,2,6,2,9,0,16,0,9,11,2,9,2,6,9,6,16,13,10,1,15,8,11,2,0,0,0,0,0,27,28,0,5,0,0,0,0,0,3,0,0,0,0,0,35,0,35,18,0,8,0,20,0,0,0,0,0,0,0,0,0,0,0,0,0,0,0,0,0,0,0,0,0,0,0,0,0,0,0,0,0,0,0,0,0,0,6,0,0,0,3,0,0,0,0,0,0,0,0,0,0,0,0,0,0,0,2,0,0,2,0,0,0,0,0,0,0,0,0,0,0,0,4,0,1,0,14,0,0,0,0,2,0,7,5,0,12,5,10,0,0,0,20,0,2,3,0,0,3,0,0,0,0,0,3,0,2,0,0,0,0,0,5,5,3,0,0,0,0,0,0,0,0,0,0,0,0,0,0,0,0,0,0,0,0,0,0,0,0,0,0,0,0,0,0,0,0,0,0,0,0,0,0,0,0,0,0,0,0,0,0,0,0,2,0,0,0,10,3,2,0,2,6,3,0,0,2,2,0,1,0,0,1,0,0,0,0,0,0,0,7,0,1,0,2,2,0,0,0,0,1,0,0,1,0,0,0,3,0,0,6,1,0,5,0,3,0,0,5,0,0,0,0,0,5,0,1,2,0,0,4,0,4,0,0,0,0,0,0,0,4,0,0,2,1,0,0,4,0,1,0,2,0,1,0,1,1,0,0,0,0,1,2,0,0,0,0,0,0,0,6,0,2,0,5,0,0,0,0,0,0,2,0,0,0,2,0,0,0,0,2,0,1,5,0,2,4,3,0,0,1,0,0,0,1,6,0,0,0,2,0,14,1,20,10,11,0,0,0,3,0,1,3,0,5,0,4,0,0,8,0,0,1,0,2,0,4,2,2,5,0,0,0,19,1,0,5,3,0,3,4,0,0,10,0,0,3,0,2,1,5,2,3,5,1,0,0,5,6,0,0,12,0,7,2,12,2,4,2,0,5,2,11,8,0,0,1,0,15,6,0,0,6,10,2,5,12,3,0,3,0,6,4,0,14,5,0,1,1,0,4,0,4,4,0,2,4,9,12,7,2,6,7,3,7,2,1,6,3,6,2,0,0,5,4,0,8,1,4,0,3,1,3,11,2,0,5,5,9,6,10,10,7,8,9,9,6,4,0,0,8,0,1,3,5,3,2,1,0,0,13,0,6,12,0,3,18,3,0,4,6,7,30,4,2,0,0,0,5,2,0,0,0,0,0,0,0,0,0,0,0,0,0,0,0,0,0,0,0,0,0,0,0,11,0,0,0,0,0,2,0,0,24,0,2,0,5,0,0,1,0,3,1,0,0,0,5,10,7,6,0,1,0,7,0,4,6,8,5,0,4,0,0,0,1,0,0,1,0,0,0,0,0,0,0,5,6,0,0,1,0,0,0,0,0,0,0,1,2,0,0,1,0,0,0,0,2,0,0,0,0,2,0,0,2,0,0,2,0,2,0,0,0,2,0,3,10,0,0,5,0,0,0,3,1,0,0,0,0,1,0,1,2,0,4,0,1,0,1,0,0,2,0,0,0,2,3,0,5,0,0,0,1,2,4,0,0,3,22,1,0,3,0,2,0,0,8,3,0,7,0,0,1,2,5,5,0,0,3,0,7,0,1,0,0,0,0,0,2,0,0,1,2,11,0,2,4,3,0,1,7,0,2,4,6,9,0,14,5,1,1,1,0,0,0,15,10,5,0,2,5,7,0,6,0,6,0,5,0,3,3,0,0,2,0,0,2,0,0,1,2,5,0,4,1,2,3,2,1,4,6,4,4,5,5,3,6,5,0,1,8,0,7,1,15,3,0,3,5,6,3,5,0,6,0,0,0,2,8,6,7,12,4,0,6,4,0,5,5,0,3,0,0,6,3,1,6,2,5,11,5,5,11,3,0,0,1,6,6,3,1,6,5,4,2,0,3,4,0,4,5,2,0,3,2,0,0,3,0,5,3,5,7,1,8,6,4,5,3,3,5,12,10,2,7,7,2,9,10,0,7,2,9,3,8,10,4,6,0,6,6,7,3,7,4,3,0,3,3,6,4,5,5,0,10,2,0,3,3,3,3,5,2,3,9,0,6,1,7,3,3,2,10,5,7,0,6,11,6,9,5,11,0,4,6,1,7,5,5,6,5,2,1,2,5,0,0,3,4,6,14,3,4,9,5,7,0,4,1,5,5,1,9,8,4,2,3,0,3,9,6,3,8,3,0,1,3,1,1,6,2,6,3,11,8,4,1,2,7,3,4,5,6,1,6,1,2,6,5,10,6,3,1,2,6,2,4,16,1,2,0,0,3,13,0,4,0,5,6,5,6,4,7,5,0,0,0,0,0,0,20,5,6,0,0,0,0,0,0,0,0,0,0,0,0,0,0,0,0,0,0,11,0,0,0,0,0,0,0,2,0,0,0,0,0,0,0,0,0,0,0,0,0,0,0,0,5,0,0,0,0,0,19,0,0,0,0,2,4,0,0,4,1,0,0,0,0,0,0,0,0,0,0,0,0,0,0,0,0,0,0,11,7,4,5,3,0,1,0,0,0,0,1,0,0,0,0,0,0,0,0,0,0,2,2,0,3,2,0,2,2,0,0,0,1,0,4,0,1,3,0,0,0,0,0,0,0,0,0,1,0,0,4,0,0,0,0,4,0,3,2,0,0,0,0,0,0,0,4,0,16,1,5,0,0,0,2,1,0,4,0,0,17,4,0,0,0,9,0,0,0,0,4,1,0,2,1,0,3,0,11,7,0,0,2,1,0,0,0,0,0,3,3,5,0,2,5,0,8,0,2,0,6,8,6,0,7,5,1,3,0,1,0,6,0,1,1,1,12,3,2,4,0,4,0,7,6,12,0,12,10,5,10,8,5,0,15,0,6,1,4,5,0,4,6,15,6,0,4,9,4,4,16,5,0,6,5,0,0,3,5,3,5,0,3,3,0,0,8,0,6,1,8,5,6,5,10,0,1,5,2,2,7,6,2,0,1,5,6,6,1,2,2,0,6,3,2,10,5,2,3,5,1,10,12,6,8,2,3,9,9,8,2,4,23,1,14,2,1,1,3,0,25,0,0,0,14,0,0,0,0,0,0,30,0,0,0,0,5,0,6,0,0,0,0,0,0,30,0,0,0,30,0,0,0,0,10,1,0,0,0,0,0,0,0,0,0,0,0,0,0,4,0,0,0,0,0,0,0,0,0,0,12,0,0,1,3,4,0,1,0,0,8,0,0,0,0,0,0,2,0,11,0,0,0,15,0,0,0,0,0,3,0,1,0,0,0,0,0,6,0,0,0,0,0,0,0,4,0,0,1,0,0,0,0,0,0,0,0,0,2,0,0,3,2,1,2,0,2,3,2,2,2,0,0,0,0,0,12,19,1,10,0,0,0,1,0,0,0,1,1,0,0,5,0,3,3,2,0,4,0,1,0,1,0,0,5,2,5,1,0,2,7,3,1,2,10,1,9,0,7,0,7,2,4,2,19,5,32,5,0,4,0,2,6,6,4,0,12,2,0,6,4,4,6,25,4,3,0,3,5,0,1,2,0,0,3,6,5,13,0,5,7,0,9,0,2,9,5,0,7,13,9,6,4,0,0,0,1,0,4,14,10,4,0,0,11,8,6,10,7,7,8,2,7,5,0,4,9,2,5,2,0,2,6,17,1,0,0,0,6,0,0,0,0,0,0,0,0,7,10,0,0,0,0,0,0,0,0,0,0,0,0,0,0,9,0,2,10,0,0,0,0,0,0,0,0,0,0,0,5,1,0,0,0,0,0,1,0,13,0,0,0,2,0,0,0,0,0,0,0,0,0,0,2,0,0,0,0,0,0,0,0,2,0,0,1,0,0,0,1,1,0,1,1,0,0,2,0,0,0,0,1,0,0,0,1,3,0,1,0,1,0,1,0,0,0,4,0,3,0,0,1,0,2,1,3,0,0,1,3,0,1,0,0,0,1,3,0,5,0,5,0,0,4,0,1,0,0,0,0,0,7,4,0,0,0,2,0,4,0,2,0,3,2,1,5,0,2,2,2,4,4,2,4,2,8,1,0,2,1,16,2,0,2,0,3,2,2,2,2,0,4,2,4,2,3,0,2,4,0,5,5,0,4,2,6,7,8,9,1,10,0,0,0,2,2,1,0,10,0,3,3,5,2,2,1,1,4,5,1,18,0,3,0,5,13,5,0,0,0,1,0,0,12,7,6,1,6,0,4,0,6,6,5,6,19,5,0,0,3,8,8,0,7,0,13,3,8,0,5,5,3,5,7,5,5,9,6,7,1,3,1,2,9,0,1,3,11,4,2,3,2,5,3,5,5,5,5,10,2,4,7,3,1,2,1,4,0,7,2,5,2,5,7,5,1,5,2,4,5,10,5,4,4,7,1,6,4,5,0,3,2,2,7,3,5,4,6,10,1,2,4,11,0,1,3,0,2,5,11,5,1,4,1,2,9,7,7,5,2,8,3,3,1,4,6,1,1,5,4,5,6,2,4,7,5,0,0,15,5,1,4,1,1,0,6,2,1,3,9,2,1,1,0,0,2,0,5,4,1,0,5,2,2,1,3,4,4,4,0,3,5,1,5,0,0,3,5,5,0,1,3,0,0,0,0,0,0,0,0,4,0,5,0,0,50,0,0,0,1,0,35,0,0,0,0,0,0,0,0,0,0,0,0,0,0,6,1,0,0,0,1,0,0,0,0,0,0,0,2,0,0,60,0,0,0,0,0,50,0,0,35,2,0,8,3,0,4,0,0,1,0,4,0,0,4,7,4,3,0,4,1,3,0,0,0,0,0,0,0,0,0,0,0,0,0,0,4,6,0,0,0,0,0,0,0,0,0,0,0,0,0,0,0,0,0,4,10,4,0,0,0,1,0,0,4,2,1,0,0,0,4,3,0,0,0,0,0,4,0,4,1,0,1,1,4,1,1,0,2,0,2,0,0,4,0,0,2,0,2,0,0,0,0,5,1,0,0,8,4,1,0,0,5,0,0,4,0,0,2,3,2,0,0,0,2,0,0,0,4,0,0,0,0,4,3,0,0,4,0,0,4,6,4,3,7,5,4,2,2,0,1,0,2,1,4,0,10,3,6,0,0,0,4,6,0,5,0,0,1,5,3,10,5,7,4,8,1,7,0,0,2,6,7,10,6,4,4,6,1,3,9,2,9,13,9,2,9,10,6,6,4,3,7,4,4,10,1,10,10,7,1,7,0,7,3,1,3,0,4,8,10,16,6,7,3,1,3,8,6,16,9,0,7,2,5,6,0,7,3,0,1,0,36,2,8,5,8,5,5,8,6,1,4,0,4,3,7,16,1,3,4,2,0,9,4,2,2,2,3,1,5,7,6,4,6,5,2,0,0,0,0,0,0,0,0,0,0,0,0,0,0,0,0,0,0,0,0,0,0,0,0,0,0,0,0,0,0,0,0,0,0,0,0,0,0,0,0,0,0,0,2,4,1,0,0,0,0,0,0,0,0,0,3,0,0,0,0,0,0,0,0,0,0,0,0,0,0,0,0,0,0,3,0,0,0,0,0,0,2,0,0,0,0,0,0,2,0,0,0,0,0,0,0,0,0,0,0,0,0,0,4,0,0,0,3,0,2,4,0,2,8,4,0,3,0,1,0,0,0,0,4,0,3,5,5,0,0,0,5,0,4,2,1,0,0,0,0,0,0,0,0,0,0,0,0,0,0,0,0,0,0,0,0,0,0,0,0,0,0,0,0,0,0,0,0,0,0,0,0,0,0,0,1,3,0,0,0,1,0,0,1,0,0,3,4,0,0,3,1,0,2,2,0,0,1,0,3,0,2,2,0,0,6,0,0,12,0,4,9,1,1,0,4,1,0,0,8,3,1,2,0,1,1,0,2,0,1,0,0,0,0,0,1,0,0,0,4,0,2,6,0,0,0,3,0,0,3,0,3,2,4,0,0,0,0,0,0,0,0,0,3,4,0,6,3,1,0,1,4,0,0,0,2,0,0,0,1,0,5,3,0,2,3,7,0,3,1,2,1,6,6,0,2,2,1,1,4,6,3,0,2,10,5,0,3,9,1,1,1,3,0,3,25,0,0,1,1,6,6,9,5,5,5,10,7,4,5,3,5,0,1,0,5,12,8,1,12,1,4,0,0,3,3,6,8,9,9,5,2,2,6,6,1,6,2,0,2,2,4,0,3,0,7,3,5,6,20,10,8,2,10,7,6,5,6,5,0,4,11,6,6,13,10,5,10,2,3,3,9,4,0,0,4,4,6,1,6,10,6,4,11,3,9,1,10,0,1,0,2,2,6,2,9,3,0,0,0,1,8,0,0,0,0,0,0,0,0,0,2,7,0,0,0,0,0,0,0,0,0,0,0,0,0,0,0,0,0,0,0,0,0,0,0,0,0,4,20,0,0,0,0,0,0,0,0,0,0,0,0,0,0,0,0,6,0,1,0,0,4,0,4,1,3,5,3,0,4,0,0,10,1,0,5,3,5,0,0,1,20,0,0,0,0,0,0,0,0,0,0,0,0,0,0,1,0,25,0,0,1,1,0,1,0,1,1,0,1,0,0,2,1,0,0,30,0,1,0,0,3,1,2,0,0,0,0,0,3,1,0,0,0,0,0,0,1,0,1,2,2,1,0,0,1,0,2,0,1,0,0,3,3,6,5,0,0,2,13,2,4,0,4,5,9,4,5,0,0,1,0,0,0,0,0,9,3,1,1,0,6,2,0,0,12,0,4,0,0,8,4,2,5,3,8,0,0,0,0,0,2,2,0,2,15,8,6,20,4,0,5,0,4,4,15,2,5,0,7,9,1,10,2,7,7,17,9,12,22,1,3,9,4,1,5,14,3,3,5,5,10,0,5,4,6,6,9,15,2,6,2,2,9,3,0,2,9,0,1,0,3,6,2,0,0,0,0,0,0,0,0,0,0,0,0,0,0,0,0,0,0,0,0,0,0,0,0,0,0,0,0,0,0,0,0,0,0,0,25,0,1,0,0,0,0,0,0,0,0,0,0,0,1,0,0,3,0,0,0,0,0,0,0,3,0,0,0,0,0,0,0,20,0,0,2,0,24,0,0,10,13,3,0,2,0,3,28,0,0,0,0,0,0,0,0,0,0,0,0,1,0,1,0,0,1,1,1,1,1,0,1,2,3,1,1,1,2,1,1,0,0,0,0,0,0,0,0,0,0,0,4,1,4,0,0,0,0,2,0,0,0,1,1,0,0,0,5,0,0,4,3,2,0,4,0,0,0,2,2,0,0,0,0,2,4,0,4,0,1,0,4,0,0,0,0,0,0,3,0,1,1,9,1,2,2,2,1,6,2,0,2,5,9,5,3,5,3,6,4,2,6,3,2,5,25,2,1,3,0,8,3,5,2,2,6,10,0,3,0,2,14,5,5,7,1,2,9,13,10,1,4,6,7,9,8,1,7,2,2,2,0,0,3,0,5,1,2,4,3,4,6,8,5,5,6,10,5,0,0,0,0,0,6,13,6,3,4,5,5,8,3,2,0,1,8,11,1,12,11,10,1,6,5,0,8,5,3,8,4,3,3,8,1,0,0,2,0,0,0,1,0,0,0,0,0,0,0,0,0,0,0,40,12,0,0,40,25,0,38,40,25,25,0,0,25,0,30,0,0,30,0,0,0,0,20,0,0,0,0,0,0,30,0,0,0,0,0,0,0,0,0,0,0,0,0,0,0,0,0,0,0,0,0,0,0,0,0,0,0,0,0,0,0,0,7,0,0,0,0,0,0,0,0,0,0,0,2,0,0,10,1,8,1,0,0,0,0,0,0,0,0,0,0,0,0,0,0,0,1,0,8,0,0,0,0,0,0,0,5,0,6,4,9,0,0,0,7,0,0,2,0,0,3,0,0,0,1,1,0,0,0,0,0,0,0,0,0,9,1,0,1,0,1,1,0,1,0,0,1,0,0,0,1,1,0,1,0,2,1,1,0,1,1,0,2,0,1,0,2,0,3,1,0,1,2,1,0,0,0,0,1,1,0,1,0,1,0,0,0,0,0,0,0,0,0,1,0,3,1,1,0,2,1,0,0,0,0,3,0,0,1,0,0,2,2,0,0,0,0,0,0,0,3,0,0,2,1,4,5,0,2,4,1,0,4,0,0,7,4,4,2,2,10,0,1,1,4,10,1,12,5,30,1,6,1,3,6,2,7,3,2,2,2,3,8,0,2,1,10,4,4,5,9,5,4,2,11,9,11,0,7,6,12,9,5,6,2,15,10,6,10,2,2,2,0,2,11,11,5,4,0,0,0,2,0,0,0,0,0,0,0,0,0,0,0,0,0,0,0,8,5,14,0,0,0,0,0,1,0,0,20,0,0,0,0,0,17,3,0,0,0,0,0,0,0,0,30,0,0,0,10,0,0,0,20,0,0,0,0,0,0,0,0,0,0,0,0,0,0,0,0,0,0,0,0,0,3,2,50,0,0,0,0,0,0,0,0,0,0,0,0,50,0,0,0,4,8,0,0,0,1,0,0,0,10,6,0,0,0,0,0,10,0,0,0,6,0,0,0,0,0,8,50,0,1,0,6,0,0,0,8,0,0,0,0,1,0,0,0,0,0,6,0,0,0,0,8,1,3,9,3,0,1,9,1,0,0,0,0,0,0,0,0,0,0,0,0,0,0,2,0,0,0,0,0,0,0,0,0,0,1,0,0,0,0,0,0,1,1,3,6,7,0,1,1,3,0,0,1,0,0,2,1,0,0,2,0,0,2,0,0,1,2,0,0,1,0,0,1,0,0,2,3,1,2,0,0,0,0,0,1,2,0,0,0,6,1,0,1,0,1,0,2,5,0,0,0,0,0,1,0,0,0,0,2,0,0,0,0,0,3,0,2,0,0,1,0,0,5,0,5,0,0,3,2,0,0,5,0,0,2,0,0,4,2,0,0,2,2,0,0,0,3,0,3,2,0,0,0,3,1,0,0,10,0,4,5,1,0,3,0,0,1,4,2,1,0,3,3,0,0,0,4,3,2,5,0,0,0,12,3,0,0,6,5,1,0,5,0,0,0,0,5,17,1,2,3,7,3,0,8,0,0,2,2,3,1,0,1,1,1,0,1,3,8,7,3,3,2,1,11,7,5,1,10,5,7,0,9,22,3,0,4,1,1,0,15,9,1,12,8,10,9,2,9,5,1,7,3,1,8,10,4,0,9,7,3,0,5,5,4,7,3,45,8,4,5,15,0,0,1,11,0,10,1,2,8,8,14,2,13,10,0,0,0,0,0,0,4,5,6,6,2,0,3,0,4,3,0,0,2,5,0,0,0,2,12,5,7,0,0,0,0,0,0,0,0,0,0,4,0,0,0,0,0,0,40,35,32,0,0,0,0,0,0,40,0,0,0,0,0,0,0,0,0,0,0,25,0,0,0,0,0,0,0,0,0,0,0,0,0,0,0,0,0,0,0,0,0,0,0,0,0,0,0,0,0,0,1,0,0,7,17,0,0,0,0,0,0,0,0,6,1,0,0,30,3,0,6,5,0,0,0,0,0,3,3,8,0,1,0,0,0,0,0,0,1,0,0,0,0,1,0,1,1,1,1,1,0,0,1,0,0,1,1,2,0,1,1,1,0,1,0,1,1,0,1,0,0,2,0,0,0,0,0,0,1,0,0,0,1,3,0,0,0,0,1,0,0,0,0,0,0,0,0,0,0,0,0,0,1,0,2,0,0,0,2,3,9,2,0,2,0,1,2,2,3,1,6,2,2,2,1,0,2,0,5,5,0,3,2,0,0,5,4,2,2,0,10,0,0,0,8,7,1,10,10,0,9,3,5,6,23,0,8,5,1,7,7,8,3,0,11,0,0,0,1,6,8,3,0,4,4,0,14,1,4,5,8,3,0,2,8,5,11,2,0,0,12,5,8,0,9,9,19,15,2,8,6,2,10,1,5,3,0,0,4,5,2,5,8,10,1,0,9,5,3,0,2,5,0,0,0,4533,2,6,4,1,8,4,4,1,0,0,15,0,0,0,0,0,10,0,41,0,10,0,50,0,40,0,0,50,0,0,0,0,0,0,0,0,0,0,0,0,0,0,0,0,0,0,0,0,0,0,0,0,0,0,0,0,0,0,0,0,0,0,0,0,0,0,0,0,0,0,0,0,1,0,0,7,0,0,8,8,0,0,0,0,0,0,0,10,5,0,0,0,1,0,0,1,0,2,0,0,0,0,0,7,0,0,0,0,0,0,0,0,0,0,0,0,1,1,0,0,1,1,0,1,2,0,0,1,1,1,0,1,0,0,1,3,1,0,0,0,0,0,1,0,0,0,0,0,0,0,0,1,0,0,0,0,0,5,0,0,1,0,0,2,0,2,0,0,2,4,5,5,0,2,0,1,2,1,0,0,1,2,0,2,0,0,2,2,2,0,1,0,3,0,0,3,2,2,9,5,0,0,0,3,4,1,0,3,5,0,0,0,3,2,4,3,0,10,1,2,2,2,0,10,0,18,14,6,0,6,1,2,4,0,5,10,2,45,8,0,0,4,5,5,4,4,12,0,5,8,3,8,9,6,0,0,4,7,4,5,7,6,0,7,1,17,14,0,5,7,21,8,0,28,15,10,0,10,18,4,5,7,8,8,9,8,7,10,3,4,4,0,10,3,8,3,1,10,6,10,9,1,1,6,0,3,4,1,0,0,0,0,0,0,0,0,0,0,40,0,0,30,0,0,0,0,0,0,0,0,0,0,0,0,0,0,0,0,4,0,0,5,0,0,0,0,0,0,0,0,35,0,0,0,0,40,0,0,0,0,0,0,0,0,0,15,0,0,0,0,63,1,0,0,0,0,0,0,0,0,0,20,0,0,7,0,0,0,0,0,1,0,0,30,0,0,0,0,0,0,0,3,0,5,0,0,0,5,0,5,0,0,0,0,0,0,5,1,0,0,6,0,0,0,0,0,7,8,0,0,4,0,0,0,0,60,14,0,0,0,0,3,0,1,0,0,3,0,0,0,1,0,0,0,0,0,0,3,2,1,7,0,0,0,0,1,0,2,0,0,1,0,0,1,8,0,0,1,1,0,1,2,0,1,2,0,2,0,0,0,0,0,2,0,0,1,0,0,3,3,0,0,0,0,4,0,0,2,2,0,0,6,3,3,2,0,1,1,1,3,3,3,1,0,5,5,0,5,2,2,0,4,3,1,1,0,1,2,6,4,3,2,0,0,0,0,0,0,0,1,0,0,0,5,5,0,0,1,2,0,6,2,3,17,1,0,6,0,0,0,7,3,5,8,4,3,1,7,0,1,7,7,2,8,6,8,4,0,6,10,5,7,5,4,7,4,6,6,6,1,1,6,6,6,4,8,3,6,9,0,5,8,7,9,9,12,2,8,11,9,7,10,5,5,10,4,4,2,4,4,9,19,2,4,4,1,1,1,0,0,0,0,0,0,0,0,5,0,0,0,0,40,0,0,25,2,1,1,0,0,0,0,0,0,0,0,0,0,0,0,0,0,0,0,0,0,0,0,0,0,0,0,0,25,0,0,0,0,0,0,0,0,0,0,0,0,0,0,0,0,0,0,0,0,0,0,0,0,0,0,0,0,0,0,2,2,4,3,5,2,45,0,0,0,0,25,0,0,0,2,0,5,0,0,3,2,5,0,6,0,0,5,1,0,0,15,0,0,0,0,0,0,0,0,0,0,0,0,0,0,0,1,0,0,0,0,0,0,1,0,0,1,1,0,0,1,0,0,0,0,0,3,2,0,0,2,0,0,2,0,0,0,0,0,0,0,0,2,0,0,0,0,0,2,1,0,0,1,0,0,0,0,0,5,1,0,0,1,0,0,0,0,0,0,0,1,0,0,0,0,1,0,0,2,0,0,0,1,1,0,1,0,0,0,0,1,0,0,1,2,0,1,0,0,0,0,0,1,0,0,1,0,0,0,0,1,7,1,0,0,0,0,11,2,0,1,0,2,0,0,0,0,1,0,4,0,0,4,0,6,2,0,4,0,3,0,3,10,0,3,5,3,5,0,1,2,0,4,4,3,7,0,0,4,1,7,5,3,3,0,0,3,0,2,4,2,4,5,6,7,5,0,4,0,7,4,0,2,0,0,10,4,0,0,6,14,15,7,4,10,8,3,2,0,3,9,14,3,0,10,5,5,3,7,4,6,0,9,0,45,4,16,5,50,3,4,8,3,1,9,2,5,6,0,0,4,0,3,8,1,8,11,0,7,4,6,2,2,7,6,0,12,2,2,5,7,0,5,5,14,2,2,3,2,2,0,0,6,6,4,1,7,14,0,6,0,0,0,0,0,0,0,0,0,3,0,0,0,0,0,0,0,0,0,0,0,0,0,0,40,40,16,0,0,0,0,0,0,0,0,0,0,0,0,0,0,0,40,0,0,0,0,12,0,0,0,0,0,0,0,0,0,0,0,0,0,0,0,0,0,0,0,0,0,9,2,1,30,0,0,0,0,0,0,0,0,0,0,0,0,0,0,6,0,0,0,0,0,0,0,0,0,0,0,0,0,0,0,0,0,1,0,0,8,0,5,0,0,0,4,0,0,3,0,0,7,0,10,0,4,0,7,0,1,15,0,0,0,0,0,0,0,0,0,0,0,0,0,0,0,0,0,0,0,0,4,1,0,0,0,1,0,0,0,0,0,0,0,0,0,1,1,0,0,0,0,0,0,1,0,0,0,0,1,0,0,1,0,1,0,1,1,1,0,0,0,1,1,0,0,0,1,1,2,1,0,0,1,0,0,0,0,6,0,0,0,0,0,0,1,0,0,0,0,0,0,0,0,0,1,0,0,6,4,7,0,0,2,0,0,0,0,0,0,0,0,3,0,0,3,3,1,3,0,0,0,0,0,0,0,1,0,0,3,3,3,6,0,1,6,0,13,0,0,0,5,3,0,1,0,0,3,1,3,5,6,1,2,3,0,1,6,3,2,5,2,10,2,4,3,5,3,0,2,4,5,2,3,0,0,0,5,10,0,2,0,5,8,6,0,5,5,6,5,0,0,15,5,11,0,6,0,0,1,0,9,9,3,7,7,8,4,10,7,7,3,0,0,8,4,3,0,14,2,1,0,2,4,3,8,3,5,7,5,10,0,3,0,3,0,3,16,3,0,12,10,0,3,12,25,8,17,7,6,0,5,9,3,8,0,2,11,0,12,1,2,7,1,4,9,2,5,2,0,3,0,0,7,1,0,0,0,0,0,0,0,0,0,0,0,0,45,0,0,0,0,45,0,0,0,0,0,0,0,0,0,0,0,0,0,0,12,0,0,0,0,0,2,0,0,0,0,0,0,0,0,0,0,0,0,0,0,0,0,0,0,0,0,0,0,0,0,0,7,8,0,2,3,10,6,2,0,0,12,0,0,0,0,0,0,0,0,2,0,14,0,0,0,0,0,0,0,0,1,0,0,0,1,0,0,1,5,0,3,0,1,0,0,0,1,0,0,0,0,0,1,0,1,15,0,0,0,0,0,0,0,0,2,0,0,1,0,0,0,2,0,9,0,13,0,2,0,3,0,0,0,0,0,0,0,0,0,0,1,0,0,0,0,0,0,4,0,6,0,8,2,0,5,1,0,1,0,1,1,4,2,2,1,1,2,2,5,4,0,0,0,0,2,0,4,0,3,1,0,7,2,0,7,2,2,2,0,1,0,0,0,2,0,0,9,6,3,3,2,0,5,4,0,5,5,2,4,2,5,3,0,15,0,0,3,0,6,11,0,0,0,1,1,0,0,3,0,1,0,7,8,0,0,0,5,0,10,0,3,2,0,0,2,0,1,3,4,5,0,10,0,0,0,4,0,2,0,4,8,5,0,6,0,3,2,0,2,0,4,4,0,5,0,3,3,4,4,3,5,0,3,1,9,1,0,5,9,0,2,4,3,4,4,9,2,8,11,0,2,30,8,0,4,3,1,2,6,4,2,5,9,3,10,2,3,6,7,3,7,2,6,4,5,3,4,4,8,8,3,2,0,8,0,8,3,0,5,1,5,4,2,1,3,10,2,5,4,4,17,6,1,20,5,8,2,5,8,3,20,2,8,11,8,0,3,6,4,0,0,10,2,7,6,7,3,3,1,3,3,3,3,11,6,2,5,8,2,11,6,4,2,0,6,4,9,8,4,2,10,10,3,2,2,0,10,3,0,4,1,1,1,3,0,10,4,7,8,1,2,2,9,3,1,0,0,3,4,2,0,3,2,2,0,0,3,0,0,0,0,0,0,0,0,0,0,0,2,12,0,0,4,13,0,0,35,0,0,23,0,0,30,5,11,25,0,0,32,28,0,0,0,0,0,10,0,0,0,0,0,0,13,4,0,0,0,0,0,0,0,0,0,0,0,0,0,0,0,0,4,0,5,0,0,0,0,0,0,0,0,0,0,0,0,0,0,0,11,0,6,0,8,8,0,0,0,0,0,0,0,0,0,0,0,0,0,0,0,0,0,0,0,0,1,0,0,1,0,1,2,1,1,1,1,1,0,2,2,1,0,1,0,3,0,0,0,0,0,0,0,0,2,0,0,0,0,0,2,0,2,2,0,0,6,0,0,4,8,0,0,0,0,0,4,2,4,1,0,0,2,4,0,0,1,0,0,3,0,1,2,0,0,0,0,0,5,4,1,4,7,20,0,2,12,2,0,0,0,7,0,1,4,1,8,0,5,4,6,0,0,1,3,1,1,1,3,4,0,8,5,4,3,3,5,7,0,12,7,0,3,2,0,5,6,0,3,9,0,2,12,10,5,4,13,11,4,6,10,1,1,13,2,4,15,1,3,12,1,0,5,0,0,14,2,2,0,8,5,3,5,12,0,4,4,7,8,11,13,3,4,12,8,3,3,18,0,8,0,4,6,0,0,0,0,0,0,0,0,0,0,0,0,0,0,0,30,0,0,1,0,0,0,0,0,22,0,0,0,0,0,0,0,0,0,0,0,0,0,0,7,5,0,0,0,0,0,0,0,0,0,0,0,0,0,0,0,7,0,23,0,0,0,0,0,0,0,6,0,0,0,0,0,0,0,0,0,0,0,0,9,10,0,0,0,0,6,0,0,0,3,0,5,0,0,0,4,0,0,10,0,2,1,0,0,0,0,0,2,0,0,0,0,0,0,0,0,0,1,1,3,8,0,1,1,0,1,1,0,1,1,0,1,0,1,0,1,1,0,0,1,0,0,0,0,0,2,0,0,0,0,0,0,45,0,0,0,1,0,0,0,0,0,0,0,0,1,0,0,0,0,0,6,2,0,2,0,3,0,9,4,2,2,0,0,0,0,0,0,0,2,7,0,0,0,2,8,0,0,0,6,0,0,0,0,0,0,0,0,1,5,0,2,2,1,0,0,6,5,0,5,5,2,0,4,1,5,1,8,0,4,0,8,5,4,12,0,7,8,5,2,4,4,3,1,0,1,2,4,5,0,5,10,0,15,5,2,7,1,0,2,0,3,0,6,4,2,9,5,0,3,0,6,0,36,2,2,4,6,8,0,7,11,4,2,3,6,10,0,3,6,1,10,8,6,0,2,11,8,4,3,6,3,14,5,6,3,4,9,2,5,19,8,5,6,4,11,19,6,7,3,4,9,3,10,0,10,6,2,0,4,10,2,3,6,8,5,12,3,9,8,3,0,0,4,8,3,6,8,3,4,4,6,0,3,2,4,1,5,7,10,8,3,4,3,8,0,0,3,2,5,2,10,0,0,1,0,2,8,9,7,0,2,4,2,2,6,4,0,7,3,6,3,2,9,4,0,0,4,0,0,0,0,0,0,0,0,0,0,0,7,0,0,4,0,0,1,20,0,0,0,0,0,0,0,0,15,0,0,0,0,0,35,0,0,0,0,0,0,0,0,0,25,0,0,0,0,0,0,0,0,0,0,0,0,0,0,0,0,0,0,0,0,0,0,0,0,0,0,0,0,6,0,0,0,0,0,0,0,0,0,0,0,0,0,0,0,0,0,0,0,0,0,0,0,35,0,0,0,0,0,0,0,0,0,10,0,0,0,0,0,0,0,0,0,0,0,25,0,0,0,0,0,0,0,0,0,0,0,0,0,0,0,0,0,0,0,0,0,0,0,0,0,0,0,0,10,0,0,0,0,0,8,6,1,0,0,3,0,0,0,0,0,0,0,0,0,0,0,5,0,0,0,1,0,1,4,5,0,2,2,8,7,0,0,0,0,0,1,0,2,0,0,0,0,0,0,0,0,0,0,0,0,0,0,0,1,0,0,0,0,1,0,0,0,1,1,0,1,0,0,2,0,0,1,0,0,0,0,0,0,0,0,0,1,1,0,2,0,2,0,0,4,0,0,3,1,6,0,1,3,2,5,0,0,0,5,5,1,5,2,4,6,8,1,4,0,0,5,1,1,8,8,3,6,7,0,4,6,9,2,6,8,8,0,4,3,2,7,6,6,3,4,13,8,8,9,12,3,4,3,0,7,0,0,2,12,8,6,5,2,4,6,0,5,0,0,0,0,0,0,0,0,0,0,0,0,0,0,44,25,25,12,0,25,0,0,0,0,0,0,0,0,0,0,0,0,0,0,0,0,0,0,0,0,0,0,0,0,0,0,0,0,0,0,0,0,0,0,0,40,0,0,0,0,0,0,0,0,0,20,0,0,0,0,0,1,0,0,15,5,0,0,0,0,0,0,0,0,0,0,0,0,0,0,7,20,0,0,7,0,0,0,0,0,0,0,0,0,0,0,5,0,2,8,3,7,6,5,7,12,12,5,0,8,2,1,0,2,0,0,0,0,13,1,0,0,0,0,0,0,0,0,0,0,0,0,0,0,0,0,1,0,0,0,0,0,0,0,0,0,0,0,0,0,0,0,0,0,0,0,0,0,0,0,0,1,0,0,1,0,0,0,0,1,0,0,0,0,0,0,1,0,0,0,1,0,1,0,0,0,0,0,0,0,0,0,0,0,3,0,3,0,0,0,0,0,0,0,0,0,0,0,0,0,0,0,0,1,1,1,0,3,0,3,0,3,0,4,0,1,0,2,1,5,1,0,0,0,2,10,10,1,2,2,0,1,3,4,5,0,4,1,0,0,0,0,0,0,0,7,2,3,5,10,0,0,3,0,0,0,0,3,0,0,3,6,7,0,0,0,0,4,3,0,2,0,5,5,0,3,3,0,0,5,2,9,0,6,0,15,4,7,0,7,0,1,4,4,7,4,4,4,5,4,6,12,0,8,5,6,8,8,0,13,0,0,5,6,9,4,9,12,2,5,0,10,4,4,5,4,5,4,7,18,0,0,3,6,0,7,9,4,0,6,3,5,3,1,7,1,4,3,2,2,3,5,0,5,0,0,0,0,0,0,0,0,4,5,0,0,0,0,3,0,25,0,0,0,0,0,10,0,0,5,15,1,0,0,0,0,0,0,0,0,0,0,0,0,0,0,0,0,0,0,0,0,0,0,0,0,0,0,0,0,0,0,0,0,0,0,0,8,0,13,0,0,0,0,1,0,11,0,0,0,0,0,8,6,0,0,0,0,0,0,33,0,0,5,2,2,0,5,9,0,1,0,1,0,0,2,1,0,0,0,0,0,0,0,0,0,0,0,0,0,0,0,0,0,0,0,2,0,0,0,0,0,0,0,0,0,0,0,0,0,1,0,0,0,2,0,0,0,0,0,0,2,0,0,0,0,0,0,0,1,0,0,0,0,0,2,0,0,0,0,2,0,1,0,6,1,0,0,1,0,0,0,0,0,0,0,2,0,3,0,0,2,0,0,0,0,0,0,0,0,0,4,5,2,3,0,0,1,0,0,1,0,4,1,0,2,0,5,0,0,0,1,6,3,0,0,0,0,2,0,3,10,8,0,0,9,0,0,15,7,0,2,7,2,0,5,3,0,5,0,0,45,9,0,2,8,15,0,9,1,0,8,5,2,5,5,15,7,0,0,0,5,0,0,15,15,0,7,4,0,0,0,0,5,0,0,12,3,6,8,1,7,2,3,7,10,5,5,6,5,0,9,1,2,3,6,3,9,3,2,8,3,2,8,0,15,3,0,4,8,5,0,6,7,5,4,1,6,4,4,11,0,2,20,3,21,3,9,4,4,1,5,3,0,6,7,3,0,0,0,0,12,30,0,25,6,10,0,0,0,36,0,0,0,0,0,0,0,0,0,0,0,8,6,0,0,0,0,0,0,0,20,0,20,0,0,0,0,0,0,3,5,0,0,0,35,0,0,0,0,45,0,7,0,0,28,0,0,0,3,0,0,0,32,0,0,0,2,0,0,0,0,0,0,0,0,0,0,5,0,35,0,0,0,0,0,0,0,1,0,0,5,0,0,15,0,0,7,1,1,2,6,0,2,2,0,0,15,5,0,0,6,0,0,0,5,1,0,8,5,8,5,4,0,0,1,0,0,0,0,0,0,0,0,0,0,0,0,0,0,0,0,0,0,0,0,1,0,0,0,0,1,0,1,0,0,0,2,0,0,1,2,2,0,0,0,0,1,0,0,0,0,0,0,0,0,0,0,6,2,0,0,0,0,2,0,4,0,0,0,1,0,0,0,0,2,2,0,0,0,0,4,0,0,0,0,0,0,0,3,3,0,3,3,1,0,1,1,1,1,1,0,0,2,0,1,0,0,0,0,0,0,2,5,6,1,2,7,5,0,0,0,0,4,0,7,5,0,6,5,6,0,3,0,3,0,0,5,6,6,4,4,1,6,0,8,9,10,0,4,5,4,8,5,1,8,10,6,10,3,10,9,4,0,4,3,8,10,1,6,0,6,3,6,7,4,4,0,3,8,10,10,6,7,6,12,9,4,6,12,5,6,9,0,8,4,3,8,11,4,4,3,10,6,2,2,12,4,3,0,3,15,0,2,16,5,5,4,3,0,0,0,0,0,0,0,0,0,0,0,0,5,0,0,0,0,0,0,0,0,0,6219,35,0,0,0,0,0,0,0,0,0,0,35,0,0,0,22,0,0,0,0,20,0,0,0,0,0,0,0,0,2,0,0,0,0,0,0,0,0,0,0,0,0,0,0,0,0,0,0,0,0,0,0,0,0,0,0,0,4,0,0,0,0,5,5,0,0,1,0,0,0,6,1,0,4,0,0,1,4,3,10,0,0,0,0,0,0,0,0,0,0,0,0,0,1,0,0,0,1,0,0,2,0,0,0,0,0,0,1,0,0,0,2,0,2,0,0,2,0,0,0,0,0,0,3,0,0,0,0,0,0,0,0,0,0,0,3,0,1,8,0,3,3,0,0,0,0,1,0,0,4,0,0,0,0,4,0,1,0,0,0,0,1,2,0,0,0,6,0,0,4,0,3,0,3,4,4,0,1,0,3,0,2,0,0,2,2,2,0,1,0,5,7,2,3,0,0,2,0,3,5,0,0,21,6,0,3,0,0,4,0,15,4,2,10,6,0,0,7,7,2,4,0,4,3,0,8,0,3,8,5,8,4,7,6,0,0,5,6,9,9,10,2,7,1,4,3,0,0,5,6,5,6,13,0,0,13,12,0,7,10,7,4,0,5,0,10,8,11,3,0,5,0,0,0,0,0,1,15,6,5,0,6,6,2,3,7,6,0,20,0,8,2,1,1,4,5,0,0,22,0,1,5,0,2,8,2,0,0,16,33,30,0,0,0,0,40,0,35,0,0,0,35,0,0,0,0,0,0,0,0,0,35,0,0,0,0,0,25,0,0,0,0,0,0,0,0,0,0,0,0,0,0,0,0,0,0,0,0,0,0,0,30,0,0,0,0,0,0,0,0,0,0,2,15,0,0,0,0,0,0,0,0,0,25,0,0,0,10,0,0,5,0,0,0,0,0,0,0,0,0,3,2,0,0,0,0,0,0,0,0,0,0,0,0,0,0,0,0,0,0,0,0,1,0,0,0,0,0,0,0,0,0,0,1,0,0,0,0,0,0,0,0,1,0,0,0,0,0,0,0,1,0,0,1,0,0,0,0,0,0,0,0,0,2,0,0,0,0,0,0,0,0,0,0,0,0,0,0,0,0,0,5,0,3,0,0,0,0,3,0,0,0,2,0,0,0,0,0,1,0,0,4,0,0,0,0,0,1,0,0,0,0,1,0,1,0,2,0,2,3,4,0,3,2,0,0,1,0,2,2,2,0,0,0,4,1,2,1,2,0,3,0,0,4,0,2,0,0,1,1,1,3,0,2,2,0,0,3,0,0,2,0,0,1,0,0,3,0,1,4,0,0,1,0,0,5,2,0,3,0,4,0,0,0,5,8,0,0,17,0,7,0,3,0,6,0,0,2,0,9,8,3,0,0,1,3,5,7,0,4,4,0,12,2,0,0,0,6,0,0,0,0,0,2,0,6,5,0,8,5,10,2,0,2,6,8,6,0,5,8,8,3,4,10,12,0,9,0,3,4,15,0,6,8,0,0,2,3,8,8,12,0,3,10,1,2,3,3,0,4,0,0,0,5,0,4,2,3,10,0,0,2,2,4,1,0,1,2,4,5,1,0,0,0,14,0,0,0,0,35,0,0,0,0,0,0,0,0,0,0,0,0,0,0,0,0,0,0,0,0,0,0,0,0,0,0,0,0,0,0,0,0,0,0,8,0,0,0,0,0,0,0,22,0,0,0,0,0,22,0,0,0,0,0,0,0,0,0,0,0,0,0,1,0,0,0,0,0,0,0,0,0,0,0,0,0,0,0,0,0,0,0,1,0,0,0,0,0,0,5,5,7,2,0,0,0,0,2,0,0,0,4,1,0,0,0,0,0,0,2,3,0,0,0,0,0,1,1,0,0,0,0,0,1,0,1,0,1,0,0,0,1,0,0,0,0,0,0,0,0,0,0,1,1,0,0,1,0,5,0,0,2,0,0,0,0,2,1,0,0,0,0,0,3,0,0,0,1,0,0,1,0,0,4,0,1,0,2,2,0,0,0,0,0,0,3,0,0,0,0,3,3,2,3,0,0,2,0,0,1,2,0,1,0,0,23,3,5,0,3,2,0,2,6,7,2,5,25,2,2,4,0,0,10,7,3,5,10,0,4,0,0,3,20,5,3,0,5,0,28,4,0,0,0,10,2,6,5,7,6,4,7,1,0,2,9,4,1,4,0,8,2,2,1,5,20,8,14,4,7,0,5,9,9,7,5,3,0,9,4,1,16,2,2,2,0,0,7,6,4,2,3,0,3,0,5,0,1,2,2,4,1,7,5,6,0,6,2,0,7,0,0,0,4,4,6,4,11,0,3,3,2,5,1,0,9,0,7,22,0,3,2,0,0,0,0,0,0,0,0,0,0,0,0,0,0,0,25,25,0,0,0,30,0,0,25,0,30,0,0,40,0,0,35,0,10,0,0,0,0,0,30,9,30,0,0,0,0,0,0,10,0,0,0,0,0,0,0,0,0,0,3,0,0,0,0,0,0,0,0,0,0,0,0,0,0,30,0,0,0,0,0,5,0,0,0,0,0,0,0,0,0,0,1,4,10,0,0,16,0,0,0,0,0,4,1,8,6,0,9,1,6,0,0,0,1,2,0,0,0,0,0,0,0,0,0,0,0,0,0,0,0,0,0,0,1,0,0,0,0,0,0,0,0,0,1,0,0,0,0,1,0,0,1,0,2,0,0,0,0,0,0,0,4,0,0,0,0,0,0,1,0,2,0,0,0,0,0,0,4,2,0,0,4,0,1,0,0,1,1,2,0,2,3,0,1,0,2,1,0,1,3,1,4,1,6,0,7,0,0,0,0,6,1,0,1,3,1,0,0,1,9,3,2,8,0,0,0,0,0,1,0,2,0,5,4,3,7,2,0,0,0,1,2,4,3,1,1,3,2,0,5,3,0,1,7,0,9,3,0,6,40,0,9,3,4,2,12,2,5,8,7,10,0,4,0,6,1,2,8,9,3,11,0,3,0,0,6,8,3,2,8,0,9,7,4,3,4,5,4,4,0,0,27,1,2,2,3,1,12,6,1,4,11,4,1,2,2,3,0,1,4,1,5,8,2,0,0,0,0,0,0,0,0,0,1,0,0,0,0,0,0,0,35,15,0,35,0,32,0,0,15,0,30,0,0,0,0,30,0,0,0,18,0,0,0,0,0,40,0,0,0,0,0,18,0,0,0,0,0,0,0,0,0,0,0,0,0,0,0,0,0,0,0,0,0,0,40,0,0,0,0,13,0,0,0,0,0,0,0,0,0,0,0,0,0,0,0,0,0,0,0,7,0,0,0,0,0,0,0,1,0,1,20,0,4,6,0,0,6,0,0,0,0,15,63,1,0,0,0,0,0,2,0,2,0,3,1,2,1,0,0,2,0,0,1,0,0,4,0,0,0,3,0,4,3,4,4,12,5,0,6,0,0,6,1,2,2,7,0,2,1,10,2,0,0,0,0,2,0,0,0,0,5,29,0,0,0,0,0,1,0,0,0,0,0,0,0,0,0,0,1,0,0,0,0,0,1,0,0,0,0,0,1,0,0,0,1,2,0,0,1,0,0,0,0,1,2,0,0,0,0,0,0,1,2,0,0,0,4,1,0,3,0,0,0,0,0,0,0,0,0,0,6,0,0,0,0,0,1,2,0,0,1,0,0,2,2,0,0,0,0,0,0,0,0,0,0,0,0,0,0,0,0,0,0,0,0,3,1,0,1,2,4,7,24,7,2,2,1,4,9,12,0,2,5,0,9,8,3,0,8,6,0,6,1,8,12,6,4,3,6,4,6,10,3,6,10,10,8,0,0,3,4,6,6,4,4,4,8,0,5,0,0,3,10,4,0,0,0,10,5,8,0,0,0,25,5,0,0,11,2,9,2,0,0,0,0,0,0,0,0,0,0,0,0,0,0,0,40,0,1,0,23,30,0,0,0,0,0,0,0,0,0,0,0,0,0,0,0,0,0,0,12,0,0,0,1,12,0,0,0,0,0,0,0,0,0,0,0,6,0,0,0,0,0,0,0,0,0,0,0,0,0,0,0,0,0,0,0,0,0,0,0,0,19,0,0,0,0,0,10,0,0,0,0,0,0,0,0,0,0,0,0,0,1,1,0,0,0,0,0,0,0,0,0,0,0,0,0,0,0,0,0,0,0,4,0,0,0,0,0,0,0,0,0,0,0,0,0,0,0,1,0,0,1,0,0,2,0,0,0,0,1,0,0,0,1,0,0,0,2,0,0,1,1,0,0,0,0,1,0,0,0,0,1,0,1,0,1,2,2,0,0,0,12,1,0,0,1,0,2,0,0,3,1,0,0,0,0,1,0,0,0,0,2,0,0,2,1,0,0,0,0,8,0,0,0,0,0,2,0,3,0,0,8,2,0,2,0,0,2,0,0,0,5,1,4,2,1,5,2,0,6,3,0,0,0,4,3,2,6,7,0,4,0,7,7,9,6,6,0,3,0,11,2,4,4,9,10,7,3,0,0,1,10,8,3,0,3,10,0,2,1,1,8,9,2,13,2,0,2,0,0,0,0,0,0,0,0,0,0,0,0,0,0,0,4,5,0,0,10,0,5,0,3,0,10,0,0,0,2,0,0,0,0,0,0,0,0,0,0,0,0,6,0,0,0,0,1,0,2,0,0,0,0,28,12,15,0,0,0,0,2,4,3,7,6,4,10,9,2,1,5,7,2,9,3,11,1,2,7,2,1,0,2,3,0,0,0,0,0,0,0,0,6,0,0,0,0,3,3,2,5,0,0,0,0,0,0,0,0,1,0,0,0,0,0,0,1,0,0,0,0,3,0,0,0,0,0,0,1,0,0,0,0,1,0,0,0,0,1,0,0,0,2,0,0,0,1,0,0,0,3,0,1,4,0,0,0,1,0,1,0,0,0,4,2,0,0,5,0,0,0,2,1,0,0,2,2,8,8,5,0,2,9,3,0,1,2,0,0,0,0,0,0,5,1,3,6,0,2,4,0,2,2,8,1,8,2,0,0,4,2,1,0,0,8,7,4,5,1,4,2,8,6,5,5,4,0,0,7,0,0,0,2,5,5,0,0,13,7,3,0,0,0,9,0,0,5,0,0,2,0,9,3,0,0,0,10,0,3,5,5,6,0,5,5,3,5,5,0,0,3,0,0,0,0,3,5,0,3,0,14,0,43,4,3,14,0,1,3,2,2,1,28,5,0,4,1,0,0,0,5,1,14,0,0,0,0,0,0,0,0,0,0,0,0,0,0,0,0,0,0,0,2,0,0,0,0,0,0,0,0,0,0,0,0,9,0,0,12,0,0,0,0,0,0,1,0,7,1,2,1,6,0,2,0,16,6,2,0,0,0,0,0,0,0,0,0,0,0,1,0,0,0,0,0,0,0,0,0,0,0,0,0,0,0,1,0,0,1,0,0,0,0,1,0,0,0,0,0,1,1,9,0,1,0,2,0,0,0,0,0,1,0,1,0,1,0,0,2,0,0,1,0,3,0,0,0,0,0,0,0,0,0,5,0,0,0,3,0,0,0,5,1,0,0,0,1,0,1,0,1,0,0,4,2,2,2,1,2,0,2,0,0,4,5,8,6,6,1,0,2,0,2,0,1,0,0,8,6,0,0,5,10,2,2,0,4,0,0,0,2,4,4,2,5,3,2,0,0,2,4,36,5,4,2,7,4,0,32,5,0,4,4,9,30,3,5,3,8,1,0,8,3,8,3,3,4,8,0,4,1,0,5,0,1,5,8,4,2,9,1,9,11,2,3,0,5,0,0,4,0,0,0,30,6,0,0,3,3,3,5,5,3,0,3,1,3,2,40,3,10,10,5,0,3,14,3,11,0,0,1,4,11,1,0,5,4,2,9,3,6,1,0,2,1,2,5,0,9,2,0,5,0,0,6,0,0,0,0,0,0,0,0,0,0,0,0,0,0,0,0,0,0,0,0,0,0,0,0,0,0,0,6,0,6,0,0,0,0,8,0,0,2,0,6,0,0,0,0,1,0,0,11,0,0,0,0,6,0,0,0,0,0,0,0,1,0,0,0,0,0,0,0,0,0,0,0,0,0,0,0,0,0,0,0,0,0,0,0,0,0,0,0,1,5,0,5,1,0,0,0,1,0,0,2,0,0,0,0,0,1,0,4,2,0,1,0,0,5,3,3,1,4,2,0,8,4,6,5,0,3,0,0,3,7,0,0,0,3,0,6,1,4,7,7,2,1,0,6,7,4,2,6,5,4,0,8,3,12,0,1,2,2,16,4,1,12,16,8,11,9,0,2,0,0,11,0,5,1,1,1,1,0,0,0,0,0,0,0,8,0,0,0,0,0,0,0,1,0,0,0,0,12,0,0,0,0,0,0,0,0,0,0,10,7,0,0,2,0,0,0,0,0,0,0,0,0,0,0,0,0,0,0,0,0,0,0,0,0,1,0,0,1,3,0,0,0,0,0,0,0,0,0,1,0,0,0,0,0,0,0,2,6,5,5,2,2,0,1,0,0,0,0,3,2,0,0,0,0,0,0,1,0,1,0,0,0,0,0,0,0,0,0,0,1,0,4,0,0,0,0,0,0,0,1,0,2,0,2,0,3,0,0,4,0,0,4,1,0,8,2,0,0,4,0,5,3,5,14,4,1,5,4,8,5,1,10,0,2,5,0,1,8,9,0,1,5,3,2,1,15,1,0,0,3,1,0,0,0,15,0,0,0,0,0,0,0,0,0,0,0,0,0,0,0,0,0,0,0,0,0,0,0,0,0,0,0,11,5,5,0,10,0,0,0,3,6,4,0,6,2,3,0,0,0,0,0,0,0,1,0,0,2,0,0,0,0,0,0,0,0,0,2,0,1,0,0,0,0,0,1,0,0,2,0,0,2,0,2,2,0,0,0,2,0,2,1,0,0,1,2,0,0,2,0,0,0,0,2,1,0,0,0,2,0,1,4,0,1,1,0,15,0,0,0,0,0,0,0,3,2,0,2,0,3,3,0,6,8,0,18,2,0,1,6,4,4,4,0,0,6,8,4,0,8,3,1,8,0,6,15,18,2,5,0,15,5,5,1,0,7,2,15,0,7,0,0,0,0,0,0,0,0,0,0,0,0,0,0,0,0,0,0,0,0,0,0,3,6,2,4,16,7,0,3,0,2,3,3,0,0,0,0,0,0,0,0,0,0,0,0,0,0,0,0,0,0,0,1,0,0,0,0,0,0,0,0,0,0,0,0,0,1,0,3,0,0,0,0,0,0,0,0,0,0,1,3,0,2,0,0,8,0,0,0,4,2,2,3,7,2,1,6,0,9,7,0,5,2,0,0,3,0,0,1,5,5,2,3,5,8,5,6,8,0,13,1,5,15,6,0,12,0,2,0,2,6,5,6,10,0,0,12,4,5,2,9,1,0,0,3,1,0,1,1,12,2,1,0,0,0,0,0,0,0,0,0,0,0,0,0,0,0,0,0,0,0,0,0,0,0,1,0,0,0,0,0,0,1,1,3,5,0,0,5,0,5,5,6,0,0,0,10,3,3,5,5,0,0,0,1,0,0,2,0,0,0,0,0,0,0,0,0,0,0,0,0,0,1,0,0,0,0,0,0,0,0,0,0,0,0,0,0,0,2,0,0,0,0,0,0,1,1,2,1,0,0,2,5,5,1,0,0,0,0,2,0,3,7,2,0,2,0,0,0,0,0,7,2,8,4,10,5,15,0,4,6,5,5,8,9,0,0,6,11,6,5,0,0,20,1,4,1,0,5,3,0,0,0,0,2,0,5,0,0,0,0,0,0,0,0,0,0,0,0,0,0,0,0,0,0,0,0,0,0,0,0,0,0,0,0,0,6,0,0,5,0,0,0,0,19,3,6,6,6,25,0,15,0,0,0,0,0,0,0,1,0,0,2,0,0,0,0,2,0,0,9,0,23,12,0,15,0,0,0,0,0,0,0,0,0,0,0,0,0,2,0,9,1,2,4,1,0,0,2,1,3,2,0,0,4,4,0,6,2,3,5,0,0,3,7,3,2,1,5,1,5,11,1,5,2,5,5,2,0,5,0,17,0,1,0,11,0,2,3,4,8,3,0,0,5,0,0,1,0,0,0,0,0,0,0,0,0,0,0,0,0,0,0,2,0,0,0,0,0,0,13,10,6,0,2,0,0,4,1,0,1,0,0,0,1,0,3,0,4,2,0,4,10,1,0,0,0,2,1,7,0,0,0,1,4,0,0,0,0,0,0,0,0,0,0,0,0,0,0,0,0,1,0,0,1,0,0,1,0,0,1,1,0,1,1,1,0,2,0,0,0,0,1,0,0,1,0,0,0,1,0,1,2,2,0,0,3,0,0,2,3,0,2,2,6,4,3,5,6,6,0,2,2,0,5,0,6,0,6,1,0,4,3,0,13,1,3,6,0,0,0,0,0,0,0,0,0,0,0,0,8,0,0,0,0,3,0,0,0,0,5,3,0,0,2,0,3,0,0,0,0,0,0,0,0,0,0,0,0,0,3,0,0,0,0,0,0,6,0,1,0,0,0,5,6,0,0,0,0,0,3,0,0,1,15,0,0,0,10,3,7,4,0,0,0,4,0,12,3,8,14,7,1,0,0,0,0,0,0,5,0,0,0,1,0,0,0,2,0,0,0,0,0,0,0,2,0,2,8,3,1,0,0,5,0,0,0,0,0,0,5,4,0,0,3,3,1,0,0,0,0,0,0,0,0,0,0,0,2,0,0,1,0,1,1,1,0,0,1,1,3,0,1,0,2,0,0,5,0,0,1,1,0,0,2,0,3,2,1,0,3,0,0,2,0,2,4,1,0,2,0,0,4,3,0,4,0,3,2,0,4,3,2,3,0,10,6,4,0,5,3,0,4,0,3,4,9,11,9,5,5,4,2,0,15,6,0,2,6,4,2,0,0,0,2,3,0,3,10,1,0,5,0,0,3,6,1,1,2,12,2,0,0,0,0,0,0,0,0,0,0,0,5,0,0,0,5,0,0,7,5,5,0,0,0,0,0,0,0,0,0,0,1,0,0,0,0,0,0,0,0,0,0,1,0,0,0,8,3,0,3,2,7,9,11,12,14,3,16,2,7,11,12,0,13,3,2,8,5,13,14,3,1,4,1,1,2,5,5,1,10,2,8,8,0,0,0,0,3,0,0,0,2,0,0,0,0,0,0,0,0,0,0,0,0,4,0,0,0,0,0,0,1,0,0,0,0,0,0,0,0,2,2,0,2,0,0,2,0,4,0,5,0,6,0,3,0,0,0,7,2,0,2,4,2,0,0,0,3,2,2,0,2,2,9,0,9,4,0,0,0,7,1,3,5,0,3,7,11,0,5,8,0,3,1,7,1,2,2,4,2,0,3,1,7,6,3,0,7,8,5,14,6,0,9,0,6,7,10,7,0,0,5,5,10,8,5,4,2,1,2,9,6,5,3,3,0,1,3,3,10,0,5,10,2,1,0,0,0,0,0,0,0,7,0,0,0,0,0,0,5,0,0,0,0,0,0,0,2,3,0,0,0,6,0,0,4,0,2,0,0,0,0,4,0,0,0,1,1,0,1,0,2,0,0,0,0,0,0,0,1,0,0,0,2,0,5,1,6,2,0,0,7,1,0,0,0,2,27,0,0,3,7,12,12,0,6,1,0,6,6,4,3,6,6,0,2,0,2,0,0,0,4,1,6,7,0,0,12,2,5,11,1,0,2,10,0,0,8,4,0,5,6,4,8,2,0,10,0,1,2,0,0,0,0,0,0,15,6,9,1,6,9,11,11,7,4,8,1,0,11,12,4,1,5,4,0,0,0,0,2,0,0,0,0,0,0,0,3,0,0,4,4,3,3,6,0,3,1,0,0,0,0,0,0,0,0,0,0,0,0,0,0,0,0,2,0,0,0,1,0,0,0,1,1,1,1,1,0,3,0,0,1,2,0,0,2,0,0,1,0,1,2,3,0,1,0,1,0,0,4,2,2,6,1,0,0,2,6,0,0,0,0,6,0,0,4,0,6,2,0,0,7,6,0,2,4,0,2,4,3,0,4,4,0,3,2,5,0,9,11,5,5,7,0,9,3,3,0,0,9,4,0,2,0,0,11,0,2,2,12,0,7,0,6,8,11,5,8,17,1,0,6,16,8,8,9,0,0,7,0,7,5,3,8,2,13,6,12,11,12,5,7,3,6,0,8,4,8,0,15,3,1,0,0,9,7,0,5,6,7,0,2,3,2,8,5,0,0,0,0,0,0,0,0,0,0,0,1,0,0,0,0,0,0,0,0,0,0,0,0,7,0,0,0,3,0,0,0,0,2,0,0,0,0,0,0,0,0,0,0,0,0,0,0,0,0,1,0,0,0,0,0,0,0,0,0,0,0,0,0,0,2,1,1,0,6,1,1,2,2,0,0,2,1,0,1,3,0,0,0,0,1,0,2,0,0,0,0,0,3,4,5,0,2,0,0,0,0,0,0,8,0,3,6,0,3,1,1,1,0,2,1,0,1,0,2,0,6,16,0,1,0,0,0,0,5,1,5,13,7,2,9,0,9,5,6,4,8,0,2,0,8,7,0,9,7,8,5,7,6,7,13,8,9,5,5,12,0,1,0,15,5,0,0,6,0,2,6,0,11,1,8,10,4,0,4,3,7,0,6,0,10,7,6,15,5,0,1,3,12,2,1,4,3,0,0,0,0,0,0,0,0,2,0,0,0,0,0,0,6,5,0,0,0,0,0,5,0,0,0,1,0,0,1,1,0,0,0,8,0,0,0,0,0,0,0,1,0,0,0,0,0,1,0,1,1,0,3,0,2,1,0,1,0,1,1,1,1,0,1,0,1,0,2,4,0,0,1,0,0,0,0,0,0,0,1,0,1,0,0,2,3,0,0,1,0,0,0,0,1,0,0,0,0,1,0,6,3,0,0,3,0,0,2,3,4,4,5,0,5,5,0,0,5,6,9,0,7,4,0,4,0,1,5,10,3,5,9,8,9,2,6,8,4,8,0,7,5,2,6,4,9,12,1,7,9,5,8,8,5,7,0,14,3,6,12,0,4,1,13,2,0,7,8,0,3,1,14,7,4,0,12,3,3,5,1,1,13,0,4,0,0,0,0,0,0,0,0,0,4,0,0,0,2,0,0,0,0,0,3,0,0,0,0,0,0,0,0,0,0,0,0,0,0,0,0,0,0,0,0,0,0,0,0,0,0,0,0,3,0,0,0,3,1,0,0,0,0,4,1,0,0,0,1,5,1,1,2,0,0,2,1,1,0,0,2,0,0,0,2,0,3,0,0,0,0,0,0,0,1,1,4,3,2,0,0,0,0,2,0,0,0,0,0,4,0,2,0,0,1,0,0,0,4,0,2,4,4,4,0,0,5,0,5,5,7,2,4,8,2,0,1,3,2,0,7,6,5,0,6,0,3,3,7,0,3,3,10,0,0,3,5,0,14,2,0,5,10,10,12,12,5,5,4,4,1,3,15,0,2,2252,0,17,0,0,13,5,0,3,40,0,0,0,0,20,0,0,0,0,5,7,1,0,0,0,0,0,0,0,0,0,0,12,0,0,14,12,1,4,0,0,0,1,0,0,0,3,0,0,1,0,0,0,0,0,8,0,0,0,0,0,0,0,0,0,0,0,0,0,0,0,1,0,0,1,0,0,0,1,4,2,2,2,0,0,0,1,2,0,0,3,0,6,0,2,1,2,1,5,6,2,9,4,9,5,7,8,7,1,10,8,0,2,4,8,0,2,0,5,6,3,1,1,7,1,2,7,8,2,2,2,9,7,6,5,1,8,11,13,8,10,8,5,2,2,7,11,3,0,1,3,2,0,0,5,2,1,5,14,11,2,1,8,0,0,0,0,0,0,0,0,0,0,0,0,0,0,0,0,0,0,0,5,1,2,0,0,0,0,0,3,0,0,0,0,0,0,0,0,0,0,0,0,0,1,0,0,0,0,0,0,0,0,0,0,0,0,0,1,4,1,1,2,1,3,1,0,2,0,0,0,1,0,0,2,0,2,1,0,4,2,1,2,0,0,5,0,0,0,2,0,3,0,7,7,6,0,4,6,0,4,3,5,0,0,4,0,8,5,0,1,0,11,4,7,6,0,2,11,2,5,2,8,0,0,6,0,7,0,9,6,0,9,7,11,10,6,2,2,0,0,8,5,0,0,1,0,4,4,0,2,3,4,3,6,0,4,2,0,0,0,0,0,0,0,0,0,0,0,0,3,0,0,0,0,0,0,0,0,0,0,0,0,10,0,0,0,1,0,0,0,0,0,0,0,0,0,0,0,0,0,0,0,6,0,5,15,0,0,0,0,0,0,0,0,0,0,0,0,0,0,0,0,0,0,0,1,0,1,0,0,0,0,0,0,1,0,0,1,0,0,0,0,0,2,0,0,2,11,15,0,7,0,0,0,7,0,2,2,1,2,0,0,0,1,0,1,0,0,0,0,2,0,0,0,0,2,0,0,0,0,1,0,0,1,4,3,12,0,7,2,2,0,1,3,0,0,0,0,5,0,10,0,5,0,0,4,0,0,0,10,2,0,4,7,2,0,1,1,5,2,2,5,4,7,42,0,10,3,4,10,0,5,1,0,3,6,0,1,3,0,5,0,1,13,3,0,4,2,0,0,0,0,0,0,0,0,0,0,4,0,11,0,0,15,0,0,0,0,0,0,0,0,0,0,4,0,0,0,0,0,0,0,7,0,7,3,5,15,2,0,0,0,0,0,0,0,0,0,0,0,0,0,0,0,0,0,0,0,0,0,0,0,0,0,0,0,0,0,0,0,0,0,0,4,11,0,0,0,0,0,0,7,0,0,3,0,5,0,0,2,0,2,3,1,2,0,0,2,0,0,0,0,2,0,0,0,0,0,0,0,0,0,3,1,0,0,0,5,0,0,0,0,7,0,0,3,0,5,0,3,0,0,0,0,6,0,5,3,7,6,6,0,3,0,6,2,1,4,0,0,7,4,6,1,3,1,6,6,4,0,11,1,14,4,4,0,0,0,10,0,7,2,6,0,3,4,5,5,0,2,0,4,6,3,3,8,4,5,2,24,3,3,0,0,0,11,0,0,0,0,0,0,0,0,0,0,0,0,1,0,0,0,0,8,0,2,0,1,0,0,0,0,0,0,2,8,0,0,0,0,0,0,0,0,1,2,0,0,1,0,0,0,1,0,2,0,4,0,0,0,0,0,0,0,0,1,0,2,0,0,0,0,6,1,0,0,1,2,0,0,2,0,2,0,1,0,0,3,4,2,4,4,4,1,3,3,0,5,0,0,0,3,4,3,0,2,3,2,0,4,0,6,0,9,0,9,0,2,3,4,13,15,6,5,9,6,6,2,11,9,9,10,9,10,3,3,5,2,6,9,3,9,1,5,5,2,0,7,6,0,9,4,7,0,0,9,7,0,4,6,7,9,3,5,0,12,4,9,2,1,6,4,4,0,0,1,3,4,0,3,2,4,3,4,0,3,3,0,1,0,0,0,0,0,0,0,0,0,0,0,0,0,0,20,0,0,0,0,0,0,0,0,3,2,0,0,0,0,4,0,1,3,1,2,0,0,0,0,0,0,0,0,0,0,0,0,0,1,1,0,0,0,1,0,0,1,1,0,0,4,2,8,4,3,2,1,4,3,4,5,1,2,0,2,5,1,7,1,0,0,2,5,4,1,1,6,9,7,9,4,5,9,5,0,6,4,15,2,5,2,3,8,9,9,2,4,0,0,20,10,15,11,0,0,0,0,0,0,0,0,11,0,0,0,2,0,0,0,0,0,13,2,5,0,3,0,0,0,0,0,0,0,0,2,0,12,0,0,0,0,0,0,0,0,0,0,0,0,2,0,0,0,5,0,0,0,0,0,1,0,0,1,0,0,0,0,0,0,1,0,0,0,0,2,0,1,0,0,0,1,0,0,0,0,0,0,0,0,0,0,0,8,0,2,0,1,0,0,0,6,0,0,0,4,0,7,4,4,0,0,0,1,2,10,6,10,0,3,0,6,0,4,7,1,6,1,5,4,5,5,5,3,2,3,9,9,6,8,10,8,10,7,0,0,4,5,9,9,3,0,3,3,0,0,0,4,1,4,3,4,6,14,4,10,5,4,4,4,4,2,4,4,6,6,2,3,3,0,0,0,0,0,0,0,0,0,0,0,0,0,0,0,0,8,0,0,0,5,0,0,0,0,0,0,0,1,1,0,0,3,5,0,0,0,0,0,0,0,0,0,0,0,0,0,0,0,0,0,0,0,0,1,5,1,0,0,0,0,0,0,4,0,1,4,0,4,0,0,0,0,2,0,0,3,4,0,0,4,0,0,0,0,0,5,0,0,5,0,0,1,9,8,0,4,0,4,8,0,0,0,0,0,4,0,0,1,9,0,2,0,3,3,2,0,3,0,4,4,5,9,0,8,2,5,0,0,0,4,0,0,0,3,1,7,0,6,0,0,6,9,1,5,3,13,3,0,0,0,10,0,10,0,4,4,0,6,0,0,2,4,1,4,3,6,4,1,6,1,1,2,3,4,1,3,0,6,0,0,0,0,0,0,0,0,0,0,0,0,0,0,0,0,0,0,0,0,0,0,0,0,10,0,0,0,0,0,9,8,0,7,0,1,3,0,0,0,0,0,3,0,0,0,0,1,1,0,0,2,0,0,0,1,0,0,0,0,0,1,0,2,0,0,3,0,0,0,0,1,0,0,0,0,3,0,0,0,1,0,1,6,2,0,0,0,0,0,0,0,0,0,0,4,2,1,1,0,0,2,1,7,0,4,6,5,3,4,2,3,3,10,2,0,2,0,0,0,7,10,2,9,3,0,3,0,12,4,6,0,6,0,5,4,5,3,8,9,6,1,1,2,7,4,0,12,2,0,0,6,7,2,4,5,0,0,0,0,0,0,0,0,0,0,0,0,0,0,0,0,0,0,6,0,0,4,2,2,0,0,0,0,0,0,0,0,0,0,0,0,0,0,0,1,0,0,0,0,0,0,0,0,2,0,0,0,0,0,0,0,1,0,2,0,0,2,0,0,0,1,0,2,5,0,0,0,2,6,0,2,0,0,0,0,1,0,1,0,0,0,0,1,1,0,0,0,0,0,0,0,0,5,4,0,7,0,1,3,0,4,2,0,4,5,1,4,9,12,0,5,7,2,20,2,0,2,1,0,2,7,3,0,8,3,0,0,11,3,1,10,8,6,9,6,1,6,3,4,6,5,1,0,4,1,5,0,0,0,0,0,0,0,0,0,0,0,0,0,0,0,0,0,0,0,0,0,0,0,0,0,0,0,0,0,0,0,0,0,6,10,0,0,0,0,0,0,0,0,2,0,2,0,1,3,1,0,0,0,0,1,0,3,0,0,0,1,2,2,3,1,0,1,0,0,2,0,0,1,5,5,0,0,6,2,5,0,6,3,0,0,0,1,0,1,1,0,2,8,1,0,0,7,0,0,1,0,0,1,2,0,0,5,0,7,7,0,0,1,1,3,3,3,6,0,2,0,4,5,11,3,3,0,3,13,0,0,0,3,0,0,1,16,3,6,4,4,6,0,7,5,3,0,7,0,6,3,5,13,3,12,4,0,4,3,10,11,0,5,4,2,5,7,8,1,4,2,6,5,5,0,0,2,0,0,0,0,0,0,0,0,11,0,0,10,0,0,0,13,2,1,1,0,0,0,0,0,0,0,0,0,0,0,0,0,0,1,0,0,0,0,2,0,0,0,5,0,0,1,2,0,0,0,1,0,0,0,0,0,0,0,2,3,0,0,1,0,0,6,1,0,2,0,2,0,8,0,0,0,2,0,0,0,0,0,0,0,0,0,0,8,0,1,0,7,0,0,0,0,0,2,4,0,2,0,0,0,6,0,2,0,0,2,0,4,5,3,5,0,0,2,2,1,4,5,0,3,3,0,6,7,2,8,2,1,1,3,7,4,7,5,0,3,3,4,5,1,0,0,0,0,6,0,0,0,0,0,0,0,0,0,0,0,0,30,0,0,0,0,8,0,4,0,6,2,15,6,0,0,0,0,0,0,0,0,0,0,0,0,0,0,3,6,0,0,0,0,0,0,0,0,0,0,0,0,0,0,0,1,0,0,1,1,0,0,0,1,0,0,0,0,0,0,0,0,0,0,0,2,0,2,6,3,0,0,0,0,0,0,4,0,6,0,6,0,0,2,2,2,4,0,0,11,0,0,0,8,0,4,6,0,0,0,7,16,0,0,4,0,3,0,14,0,3,6,9,0,3,4,8,6,0,5,11,9,4,1,0,3,5,5,3,2,0,0,0,0,0,0,0,0,0,0,0,0,0,15,15,20,15,1,13,0,2,15,0,1,5,7,7,2,1,0,0,0,4,2,0,0,0,0,0,0,0,0,0,0,0,0,0,0,0,0,1,0,0,1,2,6,0,4,3,0,0,0,1,0,1,0,0,0,0,1,0,0,1,7,7,5,0,0,5,8,0,0,5,0,0,7,0,0,1,0,0,0,0,0,0,0,9,0,0,2,0,0,8,0,1,6,0,8,1,0,0,0,6,6,4,1,0,4,3,8,5,0,0,5,0,7,9,5,0,5,2,0,0,6,0,0,22,0,0,0,0,0,0,0,0,0,0,0,0,0,0,0,3,0,3,2,0,0,0,0,0,1,1,0,0,0,0,1,0,0,0,0,0,0,0,0,0,0,0,0,0,0,0,0,0,0,0,0,0,0,0,0,0,0,0,1,0,0,0,0,1,0,0,0,2,0,0,0,0,0,0,0,0,0,0,0,0,0,0,3,5,0,10,0,0,0,0,0,0,0,1,0,0,3,0,0,2,0,8,2,12,0,0,1,0,6,8,0,4,0,4,0,3,7,6,0,1,7,2,0,12,8,0,0,0,6,4,3,4,7,0,8,3,5,0,0,0,0,0,0,0,0,4,2,4,5,0,0,0,0,2,0,0,0,0,0,0,0,0,0,0,2,0,0,0,0,5,0,3,0,0,1,0,1,0,0,0,0,0,0,1,0,0,0,0,0,0,0,0,0,2,6,7,2,5,2,6,0,0,0,0,3,2,6,2,0,3,3,0,0,2,3,0,0,0,1,0,0,4,0,0,0,12,5,4,4,1240,4,6,3,2,0,0,0,0,0,0,0,0,0,0,0,0,0,8,8,0,0,0,6,1,66,0,0,0,0,0,0,0,0,0,0,5,2,0,5,0,0,0,6,4,0,0,0,0,0,0,1,0,0,2,0,2,1,1,0,0,0,0,0,0,0,3,1,2,1,0,8,0,6,2,0,1,1,1,1,0,4,4,4,0,0,2,6,0,0,0,0,3,3,0,5,0,2,0,5,2,0,1,0,9,3,11,3,1,5,4,2,1,1,1,5,0,8,7,2,0,5,4,4,2,0,5,8,5,2,3,14,0,0,0,20,0,0,0,0,4,0,0,0,0,0,0,0,0,0,0,0,0,0,2,0,3,0,2,0,3,0,3,0,0,0,0,0,0,4,0,0,0,3,4,4,0,0,3,0,0,0,0,0,1,5,0,1,3,3,1,0,2,1,1,7,0,3,4,4,3,0,0,4,5,0,6,4,0,0,5,2,0,0,6,8,6,2,4,15,0,5,0,0,0,0,5,6,0,0,2,0,13,0,4,8,11,6,1,13,5,5,0,0,0,0,0,0,0,0,0,0,0,12,0,0,0,0,0,0,0,0,0,0,0,0,2,0,7,0,0,9,0,0,0,0,8,0,0,0,0,0,0,7,0,5,2,3,0,0,0,3,0,0,0,0,0,0,0,0,0,0,3,0,1,0,0,5,0,10,9,0,0,0,0,0,0,1,9,2,1,6,4,4,0,0,0,0,2,0,0,0,0,1,0,3,0,6,0,6,0,0,1,3,4,0,5,2,5,0,6,2,0,6,0,2,1,8,0,0,2,3,5,8,1,3,1,0,0,5,3,0,5,0,0,0,0,0,0,0,0,0,0,0,0,0,0,0,0,0,0,0,0,0,0,0,0,0,0,0,0,0,6,0,0,0,0,7,0,5,0,0,0,0,0,0,0,0,0,0,0,0,0,0,0,0,0,0,2,0,0,0,1,1,0,3,0,1,7,0,0,0,2,3,0,2,3,1,1,0,0,0,3,5,0,1,5,2,0,3,4,3,0,4,5,6,8,0,0,1,1,0,0,0,2,4,4,15,1,0,2,3,1,4,4,0,0,2,0,0,0,0,0,0,0,0,0,0,0,5,0,0,0,0,0,0,0,0,0,0,0,0,0,0,0,1,8,0,0,0,0,2,0,0,0,0,1,4,0,2,0,1,1,1,0,7,2,2,0,5,0,0,0,0,0,1,3,0,8,6,2,3,2,0,0,10,5,3,0,0,2,1,0,0,0,0,0,0,0,0,0,0,0,0,11,0,0,2,1,0,0,0,0,0,1,0,0,0,3,0,2,5,2,2,6,2,0,7,2,0,0,0,0,0,0,0,0,0,0,0,0,1,5,0,0,0,2,0,0,0,0,0,3,0,0,2,0,0,0,1,0,0,0,0,1,0,15,0,0,1,0,0,0,0,0,0,0,0,0,0,0,2,0,0,0,0,0,8,0,9,0,0,6,0,0,0,0,1,0,3,0,0,0,0,0,0,8,0,0,0,0,3,0,0,0,2,0,0,0,0,3,0,0,5,0,0,0,0,0,0,0,0,0,0,0,0,0,0,0,0,3,0,0,0,0,1,0,0,0,0,0,3,8,3,0,0,2,5,0,0,0,0,1,2,0,1,0,0,0,0,0,0,0,4,0,2,0,3,1,5,0,0,1,1,0,2,0,0,0,2,0,0,1,3,0,4,5,0,2,1,0,2,1,0,0,1,0,1,2,1,5,1,2,4,5,3,5,1,4,0,2,2,0,3,0,0,0,0,0,0,0,0,0,0,0,0,2,0,0,0,0,0,0,0,0,0,0,0,0,0,0,0,0,3,4,3,0,0,0,3,0,6,5,0,0,0,0,5,0,1,0,2,0,0,0,0,0,0,8,1,10,5,1,0,0,0,1,3,1,0,0,0,3,0,0,2,12,0,0,0,0,7,0,2,6,0,2,1,5,0,0,11,2,7,7,2,2,4,3,7,2,4,0,0,0,0,0,0,0,2,0,5,0,0,0,6,0,0,0,0,0,0,0,0,0,0,2,2,2,0,0,0,0,0,0,8,2,0,2,0,0,0,0,0,1,0,6,0,0,0,0,0,0,1,0,0,11,1,0,1,0,12,11,3,1,1,12,2,2,6,4,0,2,0,2,0,8,4,5,6,5,4,8,3,0,0,3,4,0,6,3,4,2,20,3,2,8,15,5,2,3,5,6,5,1,0,3,2,0,3,0,40,10,5,2,7,4,6,0,6,0,6,6,9,0,11,11,11,3,0,5,1,0,4,2,3,9,0,6,3,2,3,1,0,0,3,2,0,4,0,3,1,5,7,0,5,3,0,5,3,27,0,0,0,0,4,10,3,0,2,0,0,0,7,0,0,0,30,13,18,8,0,0,0,0,1,1,0,0,0,0,0,0,0,0,0,0,0,1,0,0,0,0,0,2,0,0,0,0,0,0,2,0,0,0,2,4,0,0,1,0,0,0,1,6,5,0,3,0,0,2,0,0,0,0,0,1,0,3,0,0,0,0,0,0,0,2,0,0,0,0,0,1,0,0,0,0,1,0,0,2,0,0,2,1,2,0,0,0,0,0,4,3,0,2,0,0,0,4,0,2,0,2,0,2,2,0,0,0,0,0,1,0,1,0,0,2,0,0,0,0,3,9,5,0,0,0,2,0,0,0,0,0,0,1,0,1,0,6,0,0,0,0,0,0,1,1,7,0,1,0,0,7,0,2,3,0,0,2,0,2,0,0,1,0,0,0,2,0,0,0,3,2,0,0,3,0,0,0,2,0,0,1,2,1,0,0,0,5,5,1,2,0,0,2,0,5,1,0,0,1,0,1,0,1,4,0,0,0,3,2,2,0,4,0,0,5,0,3,2,2,3,4,4,5,3,0,4,12,4,2,3,1,8,2,5,0,13,0,3,0,1,0,0,15,0,0,6,5,3,5,5,0,0,1,1,7,2,4,1,3,15,2,6,0,0,2,0,4,13,2,3,3,3,5,0,0,17,5,0,7,0,0,3,6,4,3,4,2,0,0,3,4,5,11,9,15,3,4,0,7,0,10,6,25,0,0,4,4,0,1,3,0,3,3,0,10,2,2,5,1,5,3,10,3,6,0,8,0,6,0,7,6,3,8,0,3,10,10,4,0,0,5,0,6,8,3,0,0,4,3,0,0,0,13,3,9,0,5,1,4,3,0,4,3,0,0,0,5,7,5,6,0,4,0,2,0,4,6,13,6,0,5,5,0,2,6,10,8,1,0,0,0,5,1,36,3,5,0,9,15,2,3,1,3,1,4,0,5,4,0,8,0,0,6,0,0,0,0,7,4,0,7,5,4,0,5,25,0,6,0,4,3,0,0,0,2,5,8,0,0,3,0,0,5,5,0,3,5,7,0,5,0,2,7,4,3,31,0,0,5,2,0,1,12,6,0,9,0,5,3,6,1,1,3,10,12,5,0,4,0,7,0,4,5,4,1,5,0,7,4,10,7,5,2,5,0,7,5,8,5,7,13,6,4,2,9,4,7,8,2,1,0,9,2,3,9,9,8,4,6,0,6,7,4,0,2,8,1,4,10,2,10,10,3,2,0,3,0,12,2,3,9,3,7,8,8,0,1,3,5,0,7,3,6,2,8,0,2,7,10,12,9,2,3,5,14,0,5,10,3,0,0,2,1,12,4,5,9,0,0,0,0,0,0,0,0,0,0,15,0,0,0,0,0,0,0,0,11,0,0,0,0,0,1,0,0,0,0,0,0,0,0,0,0,0,0,0,5,0,0,0,0,0,0,0,0,0,0,0,4,0,0,0,3,5,0,16,0,10,7,0,0,0,0,6,0,7,0,16,2,0,3,0,2,0,25,12,0,0,0,0,0,7,6,0,0,0,0,0,0,3,0,0,0,0,0,0,0,0,0,0,0,0,0,0,0,0,0,0,0,1,0,0,0,0,1,0,0,0,0,0,0,0,0,0,0,0,0,2,2,0,0,0,0,0,0,4,0,0,0,0,0,0,0,0,0,0,0,0,7,3,0,7,4,7,0,0,0,1,0,0,0,0,0,0,0,3,0,0,0,2,0,0,2,0,0,5,0,0,3,0,2,0,3,0,0,0,0,0,0,0,7,2,0,0,0,0,0,4,0,4,0,0,5,2,0,0,1,3,4,12,0,5,0,3,6,2,3,0,0,0,4,2,1,0,5,0,4,8,2,0,0,4,1,4,3,5,0,6,3,4,0,8,2,5,3,5,3,4,8,0,0,5,1,5,5,1,3,16,2,0,0,4,5,3,14,0,8,4,2,6,0,6,1,3,6,7,0,1,1,5,0,0,6,5,0,4,13,0,0,0,9,3,3,4,0,5,6,2,5,10,5,0,6,1,0,7,2,8,6,0,6,3,4,5,0,9,4,0,1,16,0,0,0,5,4,7,6,4,6,5,0,1,7,6,6,5,8,0,2,6,5,6,4,10,4,0,6,9,5,7,7,0,0,0,3,0,6,8,0,5,0,0,9,5,6,0,6,5,5,8,5,0,1,3,4,2,0,7,5,0,0,6,6,2,6,0,0,5,6,0,9,7,5,7,5,1,2,4,8,7,10,0,2,3,7,6,0,20,8,5,6,6,0,0,3,0,15,8,4,4,0,2,3,13,7,0,0,2,28,1,6,8,11,5,0,10,7,0,4,0,4,6,4,1,6,0,0,6,0,12,7,0,6,8,0,7,14,4,0,0,3,0,11,5,4,4,0,7,5,0,0,5,6,9,5,4,6,17,0,4,0,2,8,8,0,2,6,0,5,2,2,2,5,0,2,13,0,1,14,0,5,0,4,0,0,5,10,8,0,1,5,2,10,6,0,6,2,0,1,2,6,2,0,5,3,12,7,0,7,2,5,2,0,0,0,0,0,0,0,0,0,0,0,0,0,0,0,0,0,0,0,1,0,0,0,0,0,0,5,5,0,0,0,0,1,0,0,0,9,0,0,0,0,1,0,3,1,0,0,0,0,0,0,35,0,0,8,6,0,0,0,2,3,0,0,0,0,0,0,4,4,0,0,0,3,2,10,4,6,0,5,0,15,2,4,2,0,3,2,0,3,40,0,0,0,6,3,0,0,0,1,0,0,0,0,0,0,0,0,0,0,0,0,0,0,0,0,0,3,0,0,0,0,1,0,2,0,10,7,2,0,1,8,1,1,7,2,11,0,3,3,2,0,0,10,1,0,0,0,25,0,2,5,0,0,5,4,3,0,10,0,4,5,3,6,0,0,9,10,3,3,2,6,2,12,2,11,0,4,1,3,0,0,0,0,0,5,5,0,0,2,1,0,0,0,0,0,0,0,0,0,0,0,0,0,0,0,0,0,0,0,0,0,0,0,0,0,0,0,2,0,0,0,0,9,7,0,0,0,0,0,1,0,0,0,3,0,0,0,0,0,1,0,10,3,10,0,7,0,0,0,0,0,0,1,1,0,0,0,1,6,2,2,0,0,0,0,0,0,0,0,0,5,0,2,0,1,3,0,0,1,0,0,3,3,1,1,0,0,0,1,0,0,0,1,0,3,0,0,2,0,4,5,0,1,1,4,0,1,2,1,0,0,0,0,4,0,0,0,0,2,0,2,0,1,0,0,0,0,0,4,0,2,5,0,1,0,8,1,5,3,0,7,5,4,4,0,0,0,1,0,0,0,3,4,5,8,2,0,0,1,3,3,8,0,1,0,0,1,3,7,6,1,0,4,1,14,2,8,4,0,5,3,0,1,0,3,4,9,0,0,3,3,2,1,2,0,3,1,0,0,5,5,2,1,0,2,6,3,5,9,0,6,0,11,0,1,2,6,7,2,3,8,5,4,0,3,8,0,7,5,0,2,0,0,0,1,0,3,0,7,0,5,4,8,6,8,6,4,0,6,8,0,9,3,4,4,0,3,4,2,0,5,4,8,6,1,5,7,10,0,4,0,5,5,1,10,4,0,7,3,7,3,5,3,4,0,7,4,0,10,5,0,8,9,0,0,0,10,11,0,8,4,4,6,10,8,11,5,0,0,1,7,0,1,0,9,0,3,0,11,0,0,2,37,0,0,0,0,2,0,10,0,0,7,0,0,11,6,0,25,2,8,0,7,1,4,5,9,5,8,5,1,6,0,5,0,0,0,8,0,11,8,8,4,2,6,0,0,3,0,2,0,8,0,7,0,6,4,6,4,0,5,11,0,4,1,8,0,12,6,13,0,19,0,0,0,1,6,1,8,15,2,4,3,3,8,9,5,0,0,4,0,7,2,17,4,6,3,3,0,0,4,11,7,0,6,1,53,16,2,25,4,9,4,8,5,6,2,2,5,0,3,3,6,6,4,5,1,10,3,2,10,6,0,0,0,1,3,1,8,0,0,0,4,15,4,8,3,4,2,2,3,2,7,0,4,0,0,0,0,0,0,0,0,0,0,0,0,0,0,11,10,3,2,0,0,0,0,0,0,0,0,0,0,0,1,0,15,0,0,0,0,0,0,0,0,0,0,0,0,0,0,0,0,0,0,0,3,0,0,1,0,0,0,3,0,0,0,2,0,0,3,0,0,8,7,0,0,5,0,4,0,2,0,1,5,0,2,9,0,0,0,0,0,0,0,0,0,0,0,0,0,0,0,0,0,0,0,0,0,0,0,0,0,0,0,0,0,6,0,0,0,0,1,0,0,0,1,0,0,0,0,0,0,0,1,0,0,0,0,0,0,0,0,0,2,0,0,0,0,2,23,0,0,0,4,20,7,10,2,0,1,0,2,0,1,0,1,0,0,0,3,0,1,9,11,15,0,0,0,1,0,2,1,1,0,0,10,0,0,0,0,5,0,0,2,29,0,0,11,0,0,3,5,0,2,0,6,2,3,6,0,3,4,1,0,3,1,5,0,0,4,6,0,0,5,0,3,10,5,0,5,1,0,1,4,4,0,7,2,10,3,6,6,1,2,9,6,0,8,8,7,6,3,2,6,7,6,6,1,0,0,1,8,0,0,6,5,6,1,7,2,25,6,7,8,9,3,0,4,8,9,8,0,9,0,3,0,0,0,3,10,2,7,3,6,0,0,10,1,8,0,2,0,4,8,0,16,2,5,3,16,0,0,7,6,0,1,4,13,2,7,4,4,1,0,3,3,4,1,3,7,3,15,8,1,1,10,11,4,0,7,10,9,4,0,4,4,0,25,6,0,10,0,6,4,4,4,10,0,6,5,5,2,7,8,3,9,0,8,11,9,0,8,6,10,7,5,8,8,1,0,10,3,12,7,3,0,9,9,9,3,0,11,6,12,0,1,7,0,0,1,1,9,0,4,0,1,35,3,5,0,6,0,3,9,11,0,0,9,7,0,1,2,0,10,4,15,7,0,2,6,5,0,8,0,11,1,0,1,6,0,9,4,0,5,0,2,5,10,2,14,2,5,2,2,7,9,2,5,2,4,7,6,1,3,1,1,7,4,17,1,14,5,1,0,0,0,8,4,1,0,0,0,0,0,0,0,0,0,0,3,0,0,0,6,0,0,0,0,0,0,0,0,0,0,0,0,0,0,0,0,0,0,0,10,0,0,0,0,0,1,6,0,0,14,0,8,12,8,0,0,0,2,4,0,0,11,5,10,8,0,49,2,0,0,0,18,9,2,0,2,8,0,0,0,0,0,0,0,0,0,0,0,0,0,0,0,1,0,0,0,0,8,5,1,0,0,0,0,0,0,0,0,0,0,0,0,0,0,0,0,0,0,0,0,0,1,0,0,0,0,0,0,0,0,0,0,5,0,0,5,5,0,1,0,0,0,3,0,0,0,0,1,0,0,0,0,0,0,0,3,0,1,0,0,0,0,0,3,0,0,0,1,3,0,2,0,0,0,0,0,1,1,1,0,1,1,1,0,4,3,6,2,2,1,0,0,4,1,0,1,3,3,3,0,0,6,8,3,5,0,4,0,7,2,12,0,0,2,10,0,5,4,4,0,0,2,2,0,0,1,7,5,5,3,5,6,0,3,3,4,4,0,3,2,8,4,0,0,0,6,9,1,3,4,5,7,5,2,0,10,3,4,7,6,6,0,4,2,4,1,4,0,5,5,5,11,3,7,5,7,0,10,6,0,4,10,10,10,12,0,2,6,9,0,2,2,4,0,13,3,0,8,4,0,17,3,0,6,4,12,0,5,8,6,0,3,1,14,7,7,5,5,2,0,4,10,4,6,0,8,6,3,6,12,6,0,0,5,10,0,6,0,0,0,0,2,13,0,15,11,3,0,5,5,0,0,4,0,6,5,2,0,0,8,18,7,7,0,7,4,7,10,8,0,18,3,5,1,1,7,3,5,11,5,2,1,0,21,30,10,8,9,4,6,0,7,6,6,2,11,7,4,8,1,13,8,6,5,0,2,3,0,2,0,7,0,1,3,2,3,0,10,0,8,0,10,15,9,0,6,9,4,4,4,3,0,0,10,2,6,0,0,4,0,6,0,1,0,9,0,8,11,0,2,6,3,5,0,11,3,0,15,2,0,5,1,0,7,2,0,7,0,0,6,4,5,0,3,4,3,5,1,4,1,0,0,0,2,2,1,0,4,7,4,4,6,9,7,5,9,4,4,4,5,4,3,6,11,5,0,0,0,0,0,0,0,0,0,0,0,2,1,8,3,0,0,0,0,0,0,0,0,0,0,5,0,0,0,5,0,0,0,1,0,0,0,10,0,0,0,0,0,0,0,23,0,15,5,0,0,0,0,0,0,0,0,1,1,14,0,0,3,0,1,3,5,3,0,0,0,0,0,0,0,0,0,0,0,0,0,0,0,0,0,0,0,0,0,0,1,0,0,0,0,0,0,0,0,0,0,0,0,0,0,0,0,0,2,0,0,0,0,0,0,0,0,0,0,0,0,0,0,0,0,0,0,1,11,9,0,0,0,3,0,0,4,4,0,0,4,0,0,2,4,3,7,0,3,4,0,0,0,3,0,0,0,0,0,0,1,0,1,0,2,4,0,0,0,1,0,1,0,0,0,0,0,0,0,5,1,11,4,0,2,2,1,7,3,0,1,7,0,1,1,12,0,5,0,5,1,2,0,0,3,1,0,2,0,6,1,5,0,1,4,3,4,2,0,1,5,1,2,5,0,5,3,0,2,2,8,6,0,3,0,0,4,6,7,5,6,2,5,2,0,0,3,1,7,10,3,10,0,0,11,4,0,2,1,8,0,9,1,1,0,6,10,4,5,0,2,5,7,22,1,3,5,3,13,9,3,0,6,0,12,5,5,6,2,0,3,3,0,7,0,4,6,4,0,5,8,0,4,10,3,3,5,0,13,11,9,1,0,6,0,2,1,3,8,6,0,0,6,8,4,0,0,0,10,9,0,7,4,6,0,0,0,0,6,4,0,9,0,18,11,0,20,6,12,0,7,4,0,6,9,6,7,4,2,8,0,0,2,11,8,8,2,9,9,5,11,5,15,2,4,5,2,7,0,5,5,12,9,7,12,1,3,2,1,4,3,10,3,0,10,3,3,10,3,15,4,2,13,0,2,0,0,0,0,0,0,0,0,0,0,0,0,0,8,0,0,10,0,0,0,9,0,0,5,0,0,0,0,1,7,0,0,0,0,2,0,19,0,0,10,0,0,4,0,1,8,3,15,3,0,7,5,12,0,0,3,0,5,7,8,0,0,0,0,0,0,0,4,3,3,1,0,0,0,0,0,0,0,0,0,0,0,0,0,0,0,0,0,0,2085,0,0,0,0,0,0,0,0,0,0,0,0,0,0,0,15,1,14,12,0,0,0,0,0,0,0,0,0,0,0,0,0,0,3,7,0,0,0,0,1,0,0,0,0,0,0,0,0,0,0,0,0,1,5,0,0,0,0,0,0,0,0,0,0,0,0,0,0,0,0,0,3,0,0,0,0,0,0,0,0,0,0,0,0,0,0,0,0,0,0,0,0,0,0,0,0,0,0,1,0,0,0,0,0,0,1,0,1,1,0,0,0,1,0,0,0,0,0,1,3,2,0,0,0,1,2,0,0,0,3,2,1,0,0,0,0,0,0,0,0,0,0,2,0,1,0,0,0,0,0,0,0,0,0,4,0,0,0,0,3,0,0,0,0,2,0,0,1,1,0,1,10,0,4,5,0,2,0,0,0,1,3,0,0,3,0,0,0,2,1,0,9,1,0,0,0,25,0,0,0,6,0,2,6,6,0,0,2,0,0,5,3,2,0,0,6,3,3,0,0,4,0,0,1,0,7,15,0,2,0,3,0,7,2,0,23,5,4,6,5,0,2,6,0,1,0,3,6,4,5,2,0,7,0,12,2,0,5,3,4,2,7,2,0,5,25,5,7,0,0,0,0,9,1,0,0,1,0,3,16,2,5,8,4,0,3,3,2,2,0,7,0,1,2,0,1,7,4,2,0,1,0,4,0,4,0,0,0,4,2,6,1,7,0,5,7,3,0,7,8,2,9,1,10,4,4,5,0,1,6,3,0,0,3,0,4,0,9,1,7,4,2,0,10,35,1,1,0,0,0,1,3,0,8,4,0,2,15,3,0,0,6,0,1,7,5,0,2,1,2,6,10,3,6,1,3,6,0,0,3,3,5,2,7,2,6,3,6,3,6,6,13,4,2,5,6,3,7,2,8,7,5,8,9,7,10,8,6,7,10,8,0,2,4,0,4,2,10,4,5,3,9,10,3,7,4,10,1,10,2,6,1,7,2,0,3,2,4,2,0,4,3,1,0,29,1,4,0,1,4,0,1,2,1,4,2,8,5,2,0,3,5,4,0,11,6,2,7,3,2,7,11,0,0,3,3,2,6,0,3,12,3,7,7,0,11,0,0,11,0,10,4,0,0,6,4,2,2,6,5,4,2,0,4,2,5,2,14,2,4,3,0,2,3,5,2,3,15,3,1,4,3,2,9,3,0,0,0,0,0,2,0,0,0,0,0,0,0,0,0,0,0,0,0,0,0,6,0,0,0,0,0,0,0,0,0,0,0,0,0,0,0,0,0,0,5,0,0,7,0,1,0,0,0,0,0,0,0,0,5,7,4,0,4,2,0,0,0,0,0,0,0,0,0,0,0,0,0,0,0,0,0,0,0,0,0,0,0,2,0,0,0,0,0,0,0,0,0,0,0,0,0,0,1,0,0,0,0,0,0,0,0,0,0,0,0,0,0,0,0,0,0,0,0,0,0,0,0,0,0,0,0,3,0,0,0,1,0,0,0,0,0,0,0,0,0,0,0,0,0,0,0,0,0,0,0,0,3,0,0,0,0,0,0,0,0,0,0,0,2,1,2,2,0,0,0,0,0,0,0,1,0,0,3,0,0,0,2,0,0,0,0,0,0,1,0,0,0,4,0,0,0,0,5,0,3,0,2,0,3,0,0,2,0,0,0,0,1,2,0,3,1,1,3,2,4,1,1,0,3,0,0,0,5,1,1,2,0,1,1,3,1,0,5,4,5,4,0,0,2,1,2,0,4,0,0,0,5,1,0,8,0,0,0,3,0,0,2,0,5,0,0,0,3,0,2,0,2,0,3,0,4,2,8,0,0,0,0,0,2,4,0,4,7,3,0,8,4,4,9,0,0,4,4,0,6,6,0,5,4,9,6,0,5,0,0,0,42,3,5,0,45,0,7,0,4,2,12,5,6,0,0,2,2,6,0,8,3,6,4,0,4,5,7,0,0,6,5,0,6,1,0,5,9,11,8,0,0,6,11,1,5,0,0,0,3,9,5,9,6,7,0,7,2,7,1,7,11,3,4,7,0,3,0,10,0,5,5,15,6,6,8,13,3,2,5,9,8,9,15,4,0,2,0,3,9,10,2,29,0,0,6,0,6,4,0,8,9,2,3,0,0,0,0,0,14,0,0,0,2,8,0,3,8,0,0,2,12,7,5,0,7,4,7,4,2,6,18,0,3,1,1,4,15,6,11,0,5,0,4,12,0,11,1,15,5,16,1,1,9,4,1,0,0,14,0,0,3,3,0,5,5,5,0,0,0,0,0,0,0,0,0,0,0,0,0,0,0,0,0,0,0,0,0,1,0,0,0,0,0,0,0,0,8,3,9,0,0,0,15,0,0,5,0,0,2,12,0,4,5,0,0,20,0,0,0,0,0,0,0,0,0,0,0,0,0,0,0,0,0,0,0,0,0,0,0,10,0,0,0,1,0,0,0,0,0,0,0,0,0,0,0,0,0,0,0,0,0,0,1,0,0,0,0,0,0,0,0,0,1,2,2,0,0,0,2,0,0,0,2,1,0,0,0,0,0,0,0,0,0,0,0,0,0,0,0,0,0,0,0,0,0,0,0,0,0,0,0,6,1,0,0,0,1,0,5,0,0,2,0,0,0,0,2,0,1,0,0,3,0,3,0,3,0,0,1,3,0,2,0,0,6,0,3,3,0,0,1,2,0,3,0,2,0,2,1,4,0,0,4,1,3,0,4,2,5,5,3,4,1,1,0,3,3,2,0,6,4,5,0,5,7,6,6,5,5,1,5,0,4,0,0,0,7,4,6,1,0,5,4,3,0,10,0,1,0,0,6,0,11,0,0,8,0,0,5,1,0,0,5,5,5,3,0,6,3,0,0,5,2,6,0,40,7,3,0,1,1,0,10,5,44,0,2,6,5,7,0,2,6,3,0,5,1,8,7,1,4,5,0,0,6,10,0,5,3,6,7,5,4,0,6,3,0,0,9,11,9,0,0,0,0,3,5,48,0,0,11,0,6,4,0,0,0,0,2,9,0,0,1,2,2,1,0,5,1,2,12,0,4,0,4,50,6,5,0,5,0,13,4,8,8,8,6,3,0,0,7,4,4,4,2,0,0,0,3,6,1,9,0,3,5,4,2,10,15,4,17,6,2,12,10,2,3,0,0,1,0,7,5,3,7,8,19,0,4,2,6,3,1,4,5,5,3,2,4,1,0,1,2,0,1,3,0,6,2,1,2,2,4,0,1,10,0,0,0,0,0,0,0,0,0,0,0,0,0,0,0,0,0,0,0,0,0,10,0,0,0,0,0,0,0,0,4,0,4,0,0,0,0,5,0,7,2,5,0,10,4,0,0,0,0,0,0,0,0,0,0,2,0,0,0,0,0,0,0,0,5,0,7,0,3,0,2,0,0,5,6,2,3,0,4,0,1,12,3,4,0,0,0,0,0,0,0,0,0,0,0,0,0,0,0,0,0,0,0,0,0,0,0,0,0,0,5,0,0,0,0,0,0,0,0,0,0,0,0,0,0,0,0,0,0,0,0,0,0,0,0,0,0,0,0,0,0,0,0,0,0,0,0,0,0,0,0,2,0,0,2,4,0,0,0,0,3,0,0,1,0,0,0,2,0,3,0,5,0,0,0,0,2,0,0,4,0,0,0,3,0,2,0,7,0,3,2,0,0,0,17,0,1,0,3,0,5,2,0,1,0,0,0,0,3,0,0,0,0,0,0,0,0,1,0,2,3,0,2,1,0,0,0,0,1,0,3,0,1,1,3,7,4,0,0,1,0,5,0,5,3,0,0,1,0,0,5,0,1,2,3,4,6,0,0,3,8,5,3,2,1,5,3,0,0,7,0,3,4,4,0,0,5,5,10,3,0,4,0,10,3,0,3,44,8,0,0,11,10,4,1,5,3,2,41,3,5,10,0,0,0,4,0,5,6,6,7,10,5,5,0,0,2,0,8,4,0,5,0,2,5,0,5,3,4,10,4,0,5,0,7,0,0,4,0,11,6,3,5,0,0,0,0,0,0,8,0,0,5,0,5,11,4,2,0,0,0,6,9,4,3,0,5,3,3,3,3,0,8,0,0,0,9,2,5,0,3,0,9,6,2,6,3,4,7,18,5,5,8,0,0,7,3,0,0,49,5,3,0,6,14,2,2,7,9,5,5,7,2,4,20,12,0,0,11,8,3,2,5,5,4,49,3,11,2,5,1,4,1,7,6,0,0,3,0,6,1,0,6,0,5,18,1,0,1,0,16,4,0,7,0,17,1,5,4,0,5,3,0,0,0,0,0,0,0,0,0,0,0,0,0,0,0,0,0,0,0,0,0,0,0,0,0,0,8,0,0,0,0,10,0,0,0,0,10,0,5,1,1,0,0,0,0,0,0,2,0,7,6,0,4,0,0,5,6,8,0,0,0,0,0,0,0,0,0,0,0,0,0,0,0,0,1,0,0,0,0,0,0,1,0,0,0,0,0,0,0,0,0,0,0,1,0,0,0,0,3,0,0,0,0,0,0,0,0,0,0,0,0,0,0,0,1,0,0,0,0,2,3,1,0,2,0,3,0,0,0,2,0,0,4,0,2,0,0,0,0,2,5,0,0,3,0,2,0,3,1,0,3,4,3,0,0,0,3,0,0,0,0,4,8,3,0,0,0,1,0,0,0,1,1,2,4,0,2,0,0,0,0,0,0,0,0,0,0,0,0,5,0,0,1,4,0,0,3,0,0,0,3,2,0,0,0,0,0,0,0,0,1,4,7,0,0,3,0,4,10,5,0,0,6,11,0,0,1,0,7,10,6,0,0,7,0,4,0,0,0,0,5,0,1,0,5,8,0,9,9,0,7,3,2,6,6,6,2,0,5,7,3,5,1,2,6,4,44,7,6,12,6,5,4,10,4,2,0,0,0,14,4,0,3,5,15,5,11,7,6,5,4,2,14,0,0,0,5,0,7,15,2,6,10,2,1,0,5,0,6,8,0,2,3,4,8,6,7,5,5,5,6,5,14,0,21,6,5,0,3,8,8,6,3,6,7,14,0,1,9,11,7,1,2,20,6,12,13,10,3,0,0,12,0,0,0,3,8,5,14,1,0,12,4,9,7,0,9,2,1,6,4,4,1,0,7,11,6,19,0,3,12,8,3,5,17,4,3,1,1,5,2,1,18,2,4,5,5,9,10,9,9,0,0,0,0,1,0,0,1,0,0,0,0,0,0,0,0,1,0,0,0,0,0,0,0,0,0,0,0,0,0,0,0,0,0,0,0,2,0,0,0,0,0,0,0,0,0,0,0,0,0,0,0,0,0,0,0,0,0,0,0,0,0,0,0,0,0,0,0,0,0,11,5,0,0,0,0,0,0,0,12,0,2,0,3,3,4,0,0,1,0,0,2,0,0,0,6,0,5,0,3,3,5,0,1,3,0,0,0,0,1,9,2,0,0,0,0,0,0,0,0,0,0,0,0,0,0,0,0,0,0,0,0,0,0,0,30,0,0,0,0,0,0,0,0,1,0,0,0,0,0,0,0,0,1,0,1,0,3,0,1,0,0,3,0,25,0,0,0,0,0,0,3,0,3,0,0,3,0,0,0,0,0,0,3,0,0,0,0,0,0,2,0,5,0,2,0,0,5,0,0,0,0,0,0,0,0,2,0,1,3,0,0,0,1,0,3,1,0,3,0,30,0,0,0,0,0,0,3,0,0,2,0,0,9,0,1,3,0,0,0,3,0,0,0,0,0,3,1,0,0,0,4,0,0,3,0,0,5,0,1,0,0,0,0,0,5,0,0,0,1,0,0,0,0,0,2,0,2,0,0,0,0,3,0,0,10,0,3,0,2,2,4,3,3,7,0,0,0,0,0,0,9,0,0,5,0,3,1,1,0,0,2,0,4,0,3,0,0,0,1,4,0,5,0,0,2,0,2,0,6,0,0,0,3,0,0,0,0,0,0,10,8,0,0,5,0,4,0,5,6,5,6,0,0,0,0,5,6,0,4,0,9,7,0,3,0,0,3,6,0,0,1,0,0,0,25,7,0,5,7,0,9,0,5,4,2,3,10,0,0,3,0,0,0,6,0,12,6,0,3,9,8,2,0,0,7,4,3,0,0,0,0,0,0,11,0,10,9,5,11,5,0,6,8,6,11,5,0,1,16,6,11,0,0,0,8,8,7,10,5,3,0,12,22,7,3,0,5,20,0,9,6,7,2,0,4,4,0,6,0,5,0,2,10,0,0,3,6,0,3,5,10,7,0,10,10,0,11,5,0,8,0,0,6,0,8,0,1,9,2,2,1,3,6,0,3,2,2,12,7,7,4,4,27,0,11,7,11,4,6,15,6,3,0,9,8,6,9,1,6,5,5,9,14,10,0,2,7,1,4,3,6,6,0,11,0,20,6,0,8,0,0,0,12,0,0,0,2,2,0,6,6,5,12,6,2,7,15,17,3,6,6,0,9,4,0,5,7,2,11,5,1,5,4,4,7,5,6,18,0,0,0,0,3,3,12,0,0,0,0,0,0,0,0,0,0,0,0,0,0,0,0,0,0,0,0,1,0,0,0,0,0,0,0,0,0,1,0,0,1,0,0,13,0,0,0,0,4,4,0,0,0,0,0,0,0,2,0,6,12,0,0,6,4,0,1,1,4,0,0,0,0,2,1,0,0,0,0,0,0,0,0,0,0,0,0,0,0,0,1,0,0,0,0,0,0,0,0,0,1,0,0,0,0,0,0,0,0,0,2,1,0,0,0,0,0,0,1,0,2,0,0,0,0,0,0,0,0,0,0,0,0,0,0,0,0,4,0,0,0,0,0,0,0,0,0,0,0,0,0,0,0,10,0,5,0,0,3,0,0,0,0,0,0,0,0,0,0,0,0,0,0,0,0,0,0,1,0,0,0,0,0,0,0,0,0,0,0,7,0,1,4,0,0,7,0,0,0,0,0,0,0,0,0,0,0,1,2,4,0,0,0,0,0,0,0,0,0,0,1,0,10,13,0,0,3,0,0,0,1,0,1,0,0,0,0,0,1,0,0,0,4,0,1,0,3,0,0,0,0,0,0,0,0,0,1,0,1,4,5,0,2,9,1,3,0,1,2,0,6,1,0,0,0,0,0,2,0,0,1,3,0,4,5,0,2,6,1,6,0,3,0,5,0,0,3,0,1,0,0,3,0,8,2,0,2,1,4,0,1,1,1,17,10,0,3,4,0,0,0,1,5,2,2,0,7,0,1,0,3,8,1,0,4,4,2,2,0,2,0,1,2,0,3,8,4,5,0,2,2,5,0,4,3,0,16,6,0,0,5,2,0,4,0,5,4,6,3,8,4,0,0,0,4,4,0,10,10,2,0,0,3,8,3,3,9,0,0,2,1,2,2,1,4,10,1,8,1,2,11,4,9,0,0,4,4,12,8,12,0,2,25,0,0,1,5,7,13,0,4,3,5,12,0,12,5,0,6,4,4,27,0,0,6,5,0,4,0,2,11,12,3,30,0,3,15,0,1,5,5,4,5,0,7,0,2,2,4,0,0,9,10,9,18,0,2,3,6,0,5,0,2,1,7,6,0,5,2,2,0,8,5,6,6,4,0,4,1,0,2,0,2,3,5,0,5,2,7,0,5,3,1,13,0,6,9,0,0,0,15,0,0,0,0,6,7,7,0,12,12,0,6,0,15,13,3,3,4,5,6,0,3,5,8,4,0,2,0,0,0,11,0,10,1,8,5,0,4,11,7,4,0,12,3,2,0,0,0,4,0,6,7,0,20,6,7,1,0,4,2,3,3,0,0,0,22,2,0,0,0,17,1,4,0,8,9,0,10,2,1,12,0,0,3,0,1,0,5,1,5,11,2,6,4,0,10,0,6,0,7,9,16,3,4,4,0,0,5,10,17,0,4,18,3,0,8,5,0,6,6,7,0,7,3,9,2,0,3,7,0,6,2,1,2,3,2,4,6,6,5,0,1,0,0,0,5,6,4,0,16,10,9,5,1,6,0,0,0,0,0,8,0,0,0,0,0,0,0,0,0,0,0,0,0,0,0,0,0,0,0,0,0,0,0,0,8,0,0,0,0,2,0,0,0,0,2,0,0,12,10,0,0,0,0,0,0,4,0,2,0,3,0,0,0,1,3,12,0,1,20,0,2,1,1,0,1,0,0,0,0,0,0,0,0,2,0,0,0,0,0,0,0,0,0,0,0,0,0,4,20,0,0,0,0,0,0,0,0,0,0,0,0,0,0,0,12,0,0,0,0,0,5,0,0,0,0,2,2,0,0,0,0,3,5,0,0,4,0,1,0,0,0,0,0,0,0,0,0,0,0,0,0,3,0,0,0,3,7,5,2,2,0,3,2,0,0,2,0,0,3,0,3,0,0,4,0,2,0,0,0,0,6,2,2,0,2,0,1,3,1,5,3,4,13,0,0,3,4,7,0,6,3,0,2,4,8,0,4,0,3,4,6,0,24,2,3,0,3,1,32,4,7,2,0,3,0,4,4,5,0,6,9,5,8,6,4,5,5,0,2,6,5,4,0,5,0,0,3,0,7,11,0,7,3,4,9,4,4,5,0,4,8,0,4,0,4,5,0,17,10,7,3,0,1,5,2,0,6,9,8,6,9,8,9,11,6,10,3,2,6,0,0,7,3,6,0,6,5,7,1,0,12,7,7,1,13,11,0,2,5,0,0,5,7,0,4,12,15,2,2,7,10,3,4,13,5,0,0,2,0,5,0,9,0,0,15,3,8,2,10,0,3,3,9,6,4,3,3,10,5,7,16,5,0,7,3,0,4,5,2,6,7,0,11,1,5,0,4,0,5,10,2,5,6,10,13,7,11,2,11,0,0,4,8,1,0,6,3,5,3,5,6,5,7,0,3,8,17,0,18,2,0,13,7,2,10,7,4,4,0,0,0,0,0,2,0,7,0,0,0,0,0,0,0,0,0,0,0,0,0,0,12,2,0,0,0,2,0,0,0,0,0,0,0,0,0,0,0,2,5,0,0,0,0,0,0,0,0,0,1,2,0,0,0,0,5,0,0,0,0,6,5,7,3,1,0,5,0,10,9,9,0,0,0,0,0,18,22,1,0,0,0,0,1,0,0,0,0,0,1,0,0,0,1,0,8,0,0,0,0,0,0,0,0,0,0,0,0,1,0,0,0,0,2,0,0,2,0,2,0,0,0,3,0,0,0,0,2,0,3,0,0,3,0,0,0,3,0,0,0,4,1,0,5,0,0,5,3,0,1,0,0,0,0,0,6,5,0,2,5,3,0,0,0,2,0,1,2,0,6,0,0,3,4,0,4,9,1,0,2,4,1,2,4,7,2,4,0,3,0,5,0,0,4,2,3,6,7,1,2,1,0,4,3,0,6,2,0,0,7,1,0,5,8,10,5,6,2,10,7,7,3,0,0,5,10,5,7,2,1,8,3,0,0,0,7,5,4,4,0,7,0,4,12,2,0,5,7,2,13,3,5,8,11,0,2,9,11,0,10,2,7,10,0,3,5,5,0,0,5,3,1,10,7,7,7,11,6,5,9,6,5,4,0,54,11,7,13,1,5,6,15,9,5,0,0,1,10,0,10,4,5,6,5,0,1,8,19,6,8,2,12,15,11,7,6,2,7,0,2,13,3,7,8,3,0,0,0,11,4,4,3,10,0,0,7,3,0,8,4,10,6,5,15,0,7,12,10,0,0,3,0,0,2,7,7,3,6,0,7,0,18,0,5,0,2,0,12,4,1,2,6,3,11,3,0,5,1,0,1,3,4,0,16,3,8,7,0,0,0,0,0,0,0,0,0,0,0,0,0,0,0,0,11,0,0,0,6,4,0,0,0,0,0,0,0,0,2,0,0,0,0,0,0,11,7,0,0,0,0,0,0,0,15,0,0,0,0,0,20,7,0,0,12,11,0,0,0,10,1,0,4,1,0,0,0,0,0,7,2,1,0,0,0,0,0,2,0,2,0,0,0,0,0,0,0,2,0,0,0,0,0,0,1,0,0,0,2,0,0,0,0,0,3,0,1,0,0,4,0,0,0,4,0,0,0,2,0,5,0,0,0,0,5,0,0,0,0,0,0,0,5,2,0,2,2,0,7,5,0,2,4,2,4,0,3,0,0,1,4,0,6,3,0,0,6,14,5,4,5,3,0,0,1,4,1,12,3,3,2,0,5,12,0,0,30,9,6,0,10,5,1,4,0,0,6,5,2,0,2,0,0,9,4,2,7,10,0,10,5,2,11,5,3,11,8,4,2,7,11,6,4,7,0,4,11,0,3,15,6,0,5,0,0,10,3,10,20,2,3,7,7,8,11,8,5,0,2,1,12,0,3,5,11,0,2,6,0,5,1,3,0,0,7,8,3,3,9,2,5,11,5,0,5,8,10,24,1,3,24,9,4,2,0,6,6,0,0,8,4,7,8,5,4,7,8,3,0,0,0,0,7,0,0,5,0,8,7,0,6,0,6,4,15,0,0,23,0,0,0,2,6,2,13,15,8,1,3,5,9,6,3,1,5,7,0,3,4,11,16,5,5,1,4,5,7,11,4,105,5,3,0,0,1,3,6,5,5,9,4,2,5,1,0,0,4,0,0,0,0,1,0,7,6,0,0,0,0,0,0,0,0,0,0,0,0,0,0,0,0,0,0,0,0,0,0,0,0,0,0,0,0,0,0,0,0,0,0,8,0,0,0,0,2,3,0,0,0,0,0,8,0,0,0,0,0,0,25,22,0,0,7,0,0,0,0,0,0,0,0,0,0,0,5,0,2,8,0,0,0,0,0,3,0,0,0,0,0,0,2,2,4,0,3,3,0,0,17,0,0,12,26,6,0,0,0,0,0,0,0,0,0,0,0,0,0,0,0,0,11,6,0,0,0,0,0,0,0,0,0,0,0,0,0,0,1,0,0,3,2,5,14,0,0,0,0,0,0,0,0,0,0,0,0,5,5,0,0,0,0,1,0,3,0,0,3,0,0,0,0,1,0,0,3,1,2,0,0,0,0,2,0,0,0,0,2,1,0,3,0,0,1,0,1,8,0,0,5,0,0,0,0,0,0,1,0,0,3,2,0,0,0,7,7,6,4,0,6,0,0,0,0,1,0,0,0,0,0,3,6,3,0,5,0,5,0,2,0,2,4,0,1,0,0,4,3,15,5,0,0,3,0,2,3,1,2,0,0,1,0,4,0,0,3,0,2,2,1,4,3,0,3,0,0,2,0,0,0,3,0,0,12,0,2,1,0,0,0,0,0,0,5,1,1,0,1,3,4,0,3,5,0,0,4,0,3,0,0,2,7,0,2,0,0,6,0,3,3,0,1,0,0,0,1,0,2,0,0,8,0,0,0,0,0,10,13,5,3,2,0,0,5,0,4,2,0,10,3,0,4,0,0,6,6,0,6,11,5,1,6,0,4,0,10,0,8,12,0,0,5,1,4,7,0,5,0,11,5,3,12,5,0,0,0,3,3,12,2,3,0,7,11,4,2,0,12,4,1,0,4,2,0,6,0,2,10,2,0,3,0,4,8,5,0,4,0,4,6,1,5,0,5,6,5,9,1,5,2,9,4,0,7,4,5,7,5,6,3,7,0,1,4,5,6,12,8,11,8,4,0,4,1,7,3,2,0,0,0,4,1,0,3,3,8,8,9,0,1,4,0,7,5,7,4,9,0,1,4,1,1,10,2,7,2,0,10,1,7,0,10,6,4,3,12,3,0,7,10,17,4,7,1,11,0,1,2,5,14,0,4,20,6,1,3,3,2,2,0,10,7,1,4,7,0,0,3,1,0,7,2,5,1,1,0,2,1,13,3,1,3,0,1,2,0,0,0,0,0,0,0,0,0,0,0,0,0,0,0,0,0,0,0,0,0,0,4,0,0,0,0,0,0,0,0,0,6,4,0,0,0,0,2,0,0,1,15,0,0,0,0,0,8,8,0,10,4,0,0,0,1,0,0,0,3,10,5,3,0,0,0,0,0,0,0,0,0,0,0,0,0,0,0,0,0,0,0,0,0,0,0,0,0,1,12,0,0,0,0,0,0,0,0,0,0,0,0,0,0,0,0,0,0,3,0,0,2,0,1,1,0,0,0,0,2,0,0,0,0,0,3,4,0,0,0,0,0,1,0,0,0,0,3,0,0,1,0,0,0,0,0,1,9,0,0,0,0,0,0,0,1,0,4,1,1,0,0,0,5,0,0,0,0,0,2,0,3,1,0,0,0,2,4,3,0,3,5,5,8,9,7,11,0,3,0,1,0,2,0,10,0,0,5,0,8,7,4,0,0,0,1,2,0,9,0,0,0,1,0,0,4,0,0,2,5,10,0,6,0,0,8,0,0,15,0,4,4,3,2,0,1,0,0,0,25,2,0,0,8,1,0,3,0,0,0,10,0,5,1,0,8,2,11,0,0,5,0,12,4,8,0,5,0,7,0,9,0,3,0,0,5,4,0,6,8,3,0,0,4,0,5,6,9,0,1,6,4,30,4,0,2,22,4,2,4,0,0,7,0,3,2,3,7,4,0,0,1,0,7,8,5,5,4,3,7,2,0,5,0,10,1,3,6,4,11,3,5,9,9,0,1,2,3,0,0,0,11,6,1,0,4,8,12,5,5,0,5,9,9,5,5,0,0,5,4,2,5,5,0,6,8,1,3,15,1,11,8,3,0,6,16,3,16,6,10,5,6,2,0,7,4,12,5,4,8,4,14,0,0,6,0,9,6,5,13,1,1,7,13,0,0,8,0,2,0,2,0,3,0,0,0,0,0,0,1,0,0,1,0,0,0,0,0,0,0,0,0,0,0,0,0,0,0,0,0,11,13,0,4,0,0,0,0,0,0,0,0,0,0,0,0,0,0,0,0,0,0,0,2,2,0,1,0,0,0,8,15,0,0,9,0,0,0,0,0,7,0,3,4,0,0,1,6,20,0,7,0,0,0,0,0,0,0,0,0,0,0,0,0,0,0,0,0,0,0,0,0,0,0,0,0,0,0,0,0,1,10,0,0,8,7,6,11,0,0,4,0,1,0,0,0,2,0,0,3,0,0,0,0,0,0,0,0,1,0,0,0,0,0,0,0,4,3,0,3,6,0,0,0,0,0,5,0,0,0,0,0,5,0,5,0,5,1,3,0,0,1,0,1,2,0,0,7,0,2,0,0,7,0,1,0,2,2,22,0,2,3,7,3,0,3,0,0,5,0,3,0,7,12,0,8,0,2,3,1,5,3,0,7,3,0,3,3,3,7,3,3,0,2,4,0,2,2,2,8,0,3,3,0,1,6,0,1,3,0,7,0,0,0,3,7,5,0,3,7,4,6,11,0,0,12,6,3,5,0,9,0,0,0,0,4,5,4,4,0,10,0,1,2,6,2,0,5,0,6,4,9,4,0,0,4,2,0,6,5,0,15,5,3,0,10,10,3,2,3,6,5,13,4,0,9,7,0,4,0,7,0,8,30,4,13,5,0,3,0,6,5,6,14,6,2,0,2,1,0,5,3,5,7,2,6,3,0,2,4,8,5,0,2,2,11,1,3,0,10,0,0,3,1,6,8,5,8,2,4,0,0,0,0,0,5,2,4,1,3,0,10,0,3,1,4,19,4,2,3,4,0,5,6,5,4,6,6,1,14,1,7,0,8,3,7,2,0,13,2,0,1,0,3,0,0,0,0,0,0,0,0,0,0,0,0,0,0,0,6,0,0,0,0,0,0,0,0,0,14,0,0,1,0,0,0,0,4,11,0,0,0,0,0,0,0,0,0,0,0,0,0,0,0,0,0,0,0,3,0,0,7,0,0,0,0,0,0,0,0,0,0,0,0,0,0,21,8,0,0,0,0,0,6,0,3,0,0,0,5,0,1,0,0,0,5,2,6,0,0,0,0,0,0,0,0,0,0,0,0,0,0,0,1,2,0,0,0,0,1,0,0,0,0,0,0,0,1,0,0,0,0,0,8,15,2,1,15,0,3,0,1,0,0,0,0,0,0,0,0,0,0,0,0,1,0,0,0,0,0,0,0,0,3,0,0,0,1,0,0,0,0,0,0,2,0,0,0,1,0,1,0,0,2,0,0,1,4,1,0,0,0,3,2,0,3,0,6,0,0,2,4,0,3,7,0,1,0,1,0,3,4,8,0,2,0,3,8,4,8,0,0,0,1,0,4,2,0,1,0,0,2,3,0,4,0,0,3,7,0,4,2,9,4,0,0,0,10,4,8,0,0,0,3,0,3,0,7,0,0,9,0,0,0,9,0,0,3,0,8,0,29,0,0,5,0,0,1,4,22,0,3,11,3,5,1,2,11,6,0,1,0,0,0,5,0,2,0,21,1,6,0,0,3,3,5,0,11,6,0,0,5,0,6,10,0,4,10,0,7,3,7,10,4,9,8,3,10,0,0,0,0,15,10,6,8,0,4,5,9,14,0,8,9,8,8,15,3,2,0,2,2,2,0,0,0,7,4,0,10,4,0,0,0,0,5,10,5,5,4,3,0,8,1,7,0,0,2,8,8,0,6,6,6,8,0,2,3,2,12,4,3,5,2,5,9,8,0,11,2,0,5,0,8,11,11,33,5,16,8,4,4,7,6,2,0,5,7,6,6,3,5,2,8,4,0,0,0,0,5,0,0,0,0,0,0,0,0,0,0,0,4,0,0,0,0,0,0,0,0,0,0,9,0,0,3,9,5,0,1,0,0,0,0,0,0,0,5,0,0,4,0,0,0,2,0,0,0,0,0,4,0,0,0,3,0,0,0,0,0,0,0,0,0,0,0,0,0,0,0,0,0,1,0,0,0,0,0,0,0,0,0,0,0,0,1,0,2,0,0,0,0,2,0,1,0,2,0,0,0,0,0,1,0,0,1,0,0,7,0,0,0,4,0,11,0,4,7,1,0,1,0,0,0,0,0,0,2,0,3,0,0,3,0,0,0,2,0,0,2,2,3,0,2,0,0,3,0,0,6,17,0,1,0,1,1,0,0,1,0,0,0,4,4,0,0,4,0,0,0,3,0,0,3,0,0,0,3,2,0,1,0,0,3,0,0,1,10,6,2,0,0,0,3,0,0,2,0,6,0,1,3,3,6,0,0,5,0,4,3,0,0,0,2,1,7,4,0,0,2,0,0,0,3,2,0,0,0,2,0,5,0,3,0,0,3,2,0,4,0,0,0,0,3,6,6,3,0,0,0,2,0,0,0,0,3,0,6,2,3,0,3,6,0,0,3,5,4,0,3,0,3,4,0,5,4,4,6,5,4,8,4,0,5,3,2,40,3,3,5,0,40,6,0,5,6,3,4,7,2,6,7,3,5,7,6,0,2,3,11,6,5,6,5,0,4,0,12,2,6,0,5,32,5,5,3,10,11,10,0,6,2,10,5,7,5,3,4,6,2,10,2,5,6,3,0,4,0,3,3,0,0,3,1,6,0,7,2,9,0,0,0,22,5,6,5,7,5,5,8,6,5,8,13,4,6,1,6,3,0,7,6,0,3,4,5,3,6,4,8,6,6,15,0,1,0,20,8,10,7,2,0,8,1,6,3,5,10,9,10,0,5,2,5,10,5,8,2,15,5,3,4,10,0,0,5,14,9,2,5,10,2,7,3,12,0,2,0,0,5,3,0,12,2,0,6,5,2,3,0,13,13,2,0,3,3,0,10,0,9,0,17,7,0,2,0,0,3,2,5,9,9,2,0,2,8,3,2,0,8,4,0,4,7,6,1,4,3,1,0,3,7,4,7,0,13,3,10,4,5,6,16,5,3,0,0,0,0,0,0,0,0,0,0,0,0,0,0,0,0,0,0,0,0,0,0,0,0,0,0,0,2,11,0,0,0,11,0,0,0,0,0,2,7,0,0,0,0,0,0,2,0,2,0,4,1,0,1,20,3,0,3,0,0,0,0,0,0,0,0,0,0,0,3,10,2,12,0,0,0,1,0,0,0,0,0,0,0,0,0,0,0,1,0,0,0,0,0,0,0,0,1,0,0,4,0,0,0,2,0,3,7,7,6,10,10,0,0,12,1,0,0,2,0,3,3,2,0,0,0,5,0,0,0,0,0,0,0,0,0,0,0,1,0,0,0,0,1,0,6,2,0,0,4,0,2,6,0,0,0,0,2,0,0,0,0,0,0,0,5,0,0,0,4,0,1,0,0,0,2,0,5,3,1,0,0,0,3,0,0,0,4,0,1,5,0,6,0,5,4,4,0,4,3,5,0,0,2,3,3,0,3,0,5,0,0,0,4,0,0,10,6,4,7,2,7,15,5,6,0,4,7,6,5,5,10,6,7,3,6,7,4,17,7,3,4,5,5,6,2,2,1,10,6,7,1,10,1,0,3,3,0,1,9,6,12,1,4,2,8,2,5,10,3,2905,8,3,5,0,0,4,7,4,22,5,6,7,4,0,6,4,6,2,7,3,10,2,3,2,9,5,6,3,4,10,9,33,5,12,2,10,2,8,3,9,6,10,5,5,8,7,14,3,0,7,4,7,12,6,0,7,0,6,2,4,4,4,4,5,0,6,1,5,12,5,10,0,2,3,3,0,6,5,3,0,0,3,0,0,0,0,0,0,0,0,0,0,0,0,0,0,0,0,0,0,0,0,0,0,19,0,0,0,0,0,0,0,0,0,3,0,0,0,0,0,0,0,6,0,0,0,0,0,0,0,0,0,0,0,0,0,3,0,8,0,0,0,1,0,3,0,1,0,0,1,0,6,5,0,0,0,0,0,0,0,0,0,0,0,35,0,0,0,0,0,0,0,0,0,0,0,0,0,0,0,0,1,0,0,0,0,0,0,0,2,0,1,1,0,0,0,0,1,0,0,0,1,0,2,0,0,0,0,0,0,3,2,2,10,0,3,3,0,0,1,2,0,0,0,1,0,0,0,0,0,0,0,1,0,5,0,0,0,0,3,0,0,32,0,4,4,0,0,0,3,0,0,0,0,0,0,0,0,0,1,0,0,0,0,2,0,0,0,2,0,2,0,1,2,0,3,0,2,1,0,4,0,0,0,0,0,4,5,0,4,4,3,0,5,0,6,0,0,0,0,0,35,12,2,4,8,1,6,0,10,11,0,2,4,0,3,3,0,10,10,4,12,0,4,8,10,7,2,9,7,0,5,0,8,2,10,0,5,2,6,0,0,35,5,14,8,3,6,14,6,0,4,0,9,6,4,5,8,6,0,0,0,0,0,0,5,2,6,0,3,4,13,12,0,10,3,18,8,2,12,10,6,3,10,8,9,1,2,7,2,10,2,2,10,2,2,2,0,6,0,7,3,7,8,4,5,4,3,1,1,0,0,0,0,0,0,0,0,0,0,0,0,0,0,0,0,0,0,0,0,0,0,0,0,0,0,0,0,0,0,0,0,0,4,0,0,0,0,1,0,0,8,5,0,0,3,0,0,0,0,0,0,0,0,0,0,0,0,0,0,0,0,0,0,0,0,0,0,2,0,0,0,0,0,0,0,0,0,0,0,0,0,0,0,0,0,0,0,0,2,1,1,0,2,0,0,0,0,1,0,0,0,0,0,0,0,3,0,0,0,5,3,1,0,3,0,7,0,0,0,2,0,0,4,0,8,0,0,0,0,0,0,0,0,1,0,0,0,0,0,0,1,0,0,4,0,0,6,6,6,4,0,0,2,0,6,3,9,0,5,6,3,5,1,8,5,1,5,1,1,1,12,1,0,5,14,9,4,9,10,13,3,0,0,2,3,9,3,4,3,0,10,7,3,10,0,7,6,0,3,0,7,10,10,0,6,2,7,2,12,9,0,2,33,0,6,10,3,7,2,0,0,20,5,6,3,0,0,6,0,0,15,8,4,2,4,0,0,0,10,2,0,0,10,0,4,6,8,7,9,7,7,0,1,0,3,6,0,0,10,4,2,0,0,2,6,3,1,9,7,8,4,9,1,4,0,7,0,0,8,4,0,7,8,2,8,1,5,15,16,2,0,3,5,5,2,6,3,9,3,1,7,5,0,4,0,6,0,0,0,3,0,0,0,0,0,0,0,0,0,0,0,0,0,0,0,0,4,0,5,0,0,0,0,0,1,0,0,0,0,0,1,0,0,1,0,0,6,10,0,3,0,3,0,3,4,4,0,0,0,4,0,5,0,0,0,0,0,0,0,0,0,0,0,0,0,0,0,0,0,0,0,0,0,0,0,0,0,0,0,0,0,0,1,1,2,1,1,0,1,2,0,1,0,0,0,2,0,0,0,0,0,0,2,0,0,2,0,0,0,0,2,0,1,0,2,0,0,1,3,0,0,0,1,0,0,2,2,0,0,0,0,0,0,0,1,0,0,0,2,1,0,4,0,0,0,0,0,10,4,0,0,0,1,4,0,0,0,0,1,0,0,2,0,3,4,1,2,5,1,1,1,2,2,0,0,0,1,5,0,6,0,3,6,3,3,0,0,0,0,1,4,6,2,0,3,1,0,0,4,0,3,2,0,6,7,0,0,1,1,4,0,2,2,6,1,0,0,6,4,1,0,0,3,0,0,0,0,6,44,11,0,0,2,7,4,5,0,5,0,6,12,0,8,10,4,3,1,9,4,10,11,6,12,4,4,0,1,6,3,4,12,7,4,3,5,5,6,3,1,0,2,10,0,0,4,4,6,9,7,9,11,4,6,7,0,7,2,4,1,15,4,6,3,6,2,8,9,4,2,4,5,2,8,1,13,0,14,5,0,1,5,17,2,14,7,6,2,1,5,1,2,5,6,3,3,13,0,6,0,0,0,0,0,0,0,0,0,2,0,2,0,0,0,0,0,0,0,0,0,0,0,0,0,0,5,0,0,0,0,0,0,0,0,0,0,0,0,7,2,0,4,6,4,6,0,0,0,0,0,0,0,0,0,0,4,5,0,0,2,3,0,1,0,3,0,0,13,0,0,0,0,0,0,0,0,0,0,0,0,0,0,0,0,0,0,0,0,0,0,0,0,0,0,0,0,0,0,0,1,0,0,0,0,2,0,0,1,3,0,0,3,0,0,1,3,0,0,0,0,3,0,0,0,4,0,0,0,0,0,0,0,0,0,0,0,0,0,0,5,2,0,0,0,1,1,0,0,0,7,1,2,0,0,0,45,0,5,2,2,0,4,8,6,1,0,0,0,1,4,1,0,2,2,1,2,2,0,0,0,6,2,0,3,6,4,6,0,0,1,2,2,4,1,2,3,0,4,0,0,0,6,0,5,3,6,4,0,0,16,5,4,1,0,3,6,1,0,0,0,0,0,3,10,5,0,2,7,11,1,4,4,0,0,0,0,10,6,0,0,3,1,2,0,1,5,3,5,1,1,7,3,5,4,0,5,13,3,4,6,10,10,0,0,4,0,2,30,6,0,0,0,0,10,3,0,0,5,7,4,12,0,10,4,10,0,0,8,10,2,7,4,12,4,18,8,0,1,14,8,13,4,1,8,3,0,4,12,4,0,2,6,3,3,5,0,1,0,0,0,0,0,0,0,0,0,0,0,0,0,0,0,0,0,0,0,0,0,0,0,0,0,0,0,0,0,0,0,0,0,0,0,0,2,0,0,0,0,7,0,0,0,0,7,0,0,2,2,2,1,10,0,0,5,11,0,1,10,3,0,0,0,0,0,0,0,0,0,0,0,0,0,0,0,0,0,0,0,0,0,0,0,0,0,0,0,0,0,0,0,0,0,0,0,0,0,0,0,0,0,0,0,0,0,2,1,1,0,0,0,0,0,1,5,2,0,3,0,0,0,2,2,2,0,2,2,1,0,1,0,2,0,0,2,0,2,9,0,5,30,0,1,0,0,1,1,0,5,0,4,0,0,0,1,3,4,0,6,8,0,5,0,0,3,0,0,7,4,5,4,7,30,8,4,0,4,3,0,6,4,0,0,7,0,0,3,6,3,7,2,2,4,10,3,4,3,0,0,0,10,6,4,10,3,4,3,0,4,6,0,5,10,6,4,4,4,4,2,4,7,2,1,7,1,1,0,4,8,0,6,5,4,1,1,6,5,3,4,5,7,7,5,3,0,0,21,27,7,0,9,2,17,6,6,9,5,0,6,17,5,0,10,2,6,4,3,5,10,6,5,5,6,1,7,3,7,11,7,0,4,2,0,2,10,13,6,0,13,0,4,2,0,3,2,1,0,0,0,5,8,0,13,0,0,0,0,3,0,0,2,0,0,0,0,0,0,0,0,15,0,0,0,0,0,0,0,0,0,0,0,0,0,0,0,0,0,0,0,0,0,0,0,0,0,0,0,0,0,0,0,0,0,0,0,0,3,0,0,0,0,0,4,0,0,0,0,0,0,0,0,0,0,0,0,0,0,0,0,0,0,0,0,0,0,0,0,0,0,0,0,2,18,7,0,0,0,0,0,0,4,2,1,4,0,0,0,3,0,0,0,0,0,0,0,0,0,0,0,0,0,0,1,0,0,0,0,0,0,0,0,0,0,0,0,0,0,0,0,2,0,1,1,0,0,0,1,0,0,0,1,0,0,0,1,0,0,1,1,0,0,0,3,0,0,0,3,0,2,3,0,1,3,1,0,0,0,0,0,0,0,1,0,0,0,0,2,0,0,0,0,2,0,0,0,0,0,1,0,0,1,1,3,0,0,0,0,0,0,3,0,0,0,0,1,0,0,0,0,0,0,5,0,1,0,1,0,0,0,0,6,0,0,3,6,0,0,0,0,0,0,2,0,0,0,0,0,0,1,0,2,3,4,2,0,0,0,2,0,0,3,0,0,0,0,2,2,2,0,4,1,0,0,4,0,4,0,0,0,0,13,0,0,10,4,1,6,6,3,0,7,5,0,0,0,1,7,5,10,1,10,5,6,3,10,0,7,3,0,2,5,2,1,1,0,0,0,0,4,5,2,6,0,2,3,5,14,3,3,14,2,2,0,0,5,7,0,3,7,6,8,5,6,2,6,13,0,2,0,2,9,0,0,7,8,0,5,10,6,1,7,0,2,14,16,7,5,7,16,7,15,6,13,5,2,2,9,3,2,5,7,11,2,12,4,6,4,13,3,6,3,3,4,0,2,3,0,18,8,1,0,3,15,5,3,3,7,9,8,3,1,1,0,4,0,0,0,0,0,0,0,0,0,0,0,0,0,0,0,0,0,0,0,1,6,0,0,0,2,3,0,0,0,0,9,0,0,3,6,1,0,4,0,1,7,0,0,0,0,0,0,0,0,0,0,0,0,0,0,0,0,1,0,0,3,1,0,0,0,0,0,0,0,0,0,0,0,0,0,0,0,1,0,0,0,1,1,0,0,0,0,0,0,1,0,0,0,0,0,0,2,0,2,0,0,1,9,0,0,0,0,0,0,2,0,0,3,0,1,0,0,0,0,0,1,2,0,0,0,0,3,0,0,1,1,3,0,0,0,0,1,0,3,6,5,5,0,0,0,0,3,0,0,1,0,0,3,0,0,6,0,0,2,1,0,3,0,0,0,0,0,1,6,0,0,0,0,4,2,2,5,8,7,0,7,1,20,0,4,5,0,1,4,4,5,4,0,6,1,2,1,2,0,0,0,0,0,0,11,0,0,12,0,6,0,11,8,1,0,6,0,0,0,4,0,7,0,10,0,7,0,5,0,8,4,10,9,6,3,7,0,0,0,14,5,10,0,2,0,4,0,6,0,4,8,6,0,7,12,0,0,3,7,0,6,15,0,1,5,7,3,5,5,0,1,5,3,5,0,0,5,0,9,6,8,0,5,5,0,6,0,8,10,2,2,0,3,6,7,15,0,6,2,3,11,11,4,12,5,2,3,7,20,0,2,0,4,0,2,0,4,0,5,209,7,18,15,6,2,4,3,5,4,3,0,0,6,3,0,0,0,0,30,9,2,0,0,0,0,0,0,0,0,0,0,0,0,0,0,0,0,0,0,0,0,0,0,0,0,0,0,0,0,0,0,0,0,5,0,0,0,0,8,0,1,1,4,0,0,11,13,5,4,4,0,2,0,0,0,0,0,0,0,0,0,0,0,0,0,0,2,0,0,6,0,0,0,0,0,2,0,0,0,0,0,0,0,0,0,0,0,0,1,1,0,0,0,0,0,0,1,0,1,0,0,0,0,1,0,0,3,0,1,0,0,0,0,0,1,0,0,0,0,0,2,0,0,2,10,0,3,0,0,0,0,2,0,1,0,0,0,0,0,0,0,0,0,0,0,0,0,0,0,0,2,0,0,0,0,0,0,1,1,4,0,14,0,0,3,0,0,1,0,0,0,0,0,0,4,0,0,1,3,4,1,0,0,0,0,0,0,0,3,0,0,1,0,0,0,0,0,2,6,0,0,0,0,0,0,0,0,0,5,6,0,0,6,0,0,0,16,0,0,0,0,0,0,7,4,3,7,0,10,2,1,2,0,5,0,10,4,0,0,10,3,0,7,4,0,11,0,0,0,11,10,0,0,0,10,5,0,2,10,2,6,0,12,0,1,5,0,1,5,3,0,0,4,4,5,10,7,1,9,2,5,4,0,6,6,3,10,6,2,5,0,15,3,7,31,8,10,6,10,0,4,0,5,9,12,7,2,1,14,3,0,2,10,0,3,5,4,3,0,5,2,6,7,8,1,7,20,1,14,4,7,9,3,20,2,0,0,6,11,4,0,2,2,6,0,1,0,7,1,9,6,7,14,3,3,2,5,4,0,3,5,2,12,4,0,2,3,5,5,5,5,0,3,5,0,12,4,1,0,4,4,1,5,5,4,14,5,2,0,0,0,1,6,6,0,0,0,0,0,0,0,0,0,35,0,0,0,0,0,0,0,0,0,0,0,0,0,0,0,0,0,0,0,0,4,0,0,0,2,0,0,0,0,0,0,0,0,2,0,0,0,0,0,7,2,4,0,0,1,1,4,0,1,0,6,0,3,8,19,0,0,0,0,0,0,0,0,0,0,0,0,0,0,0,0,1,0,0,0,0,0,0,0,0,0,0,0,0,0,0,1,0,1,0,0,0,0,0,0,0,0,0,0,0,0,0,0,0,2,0,0,0,0,0,1,0,0,0,0,0,0,0,0,0,0,0,0,5,0,2,4,0,0,0,0,0,1,0,0,0,0,4,1,2,0,5,2,2,0,5,2,0,5,0,7,0,0,0,0,0,0,4,0,1,0,0,0,5,0,6,0,0,0,0,1,4,0,0,0,0,4,3,12,4,9,2,0,0,0,0,1,0,3,4,0,0,1,0,0,0,0,2,0,0,0,0,0,2,2,3,8,0,0,0,0,3,11,0,0,0,3,0,0,0,0,3,0,5,2,1,0,1,11,8,0,9,6,7,0,7,4,3,30,0,0,6,6,1,0,0,20,8,2,10,5,0,0,5,9,10,5,4,25,6,13,4,0,4,8,7,2,5,0,10,5,0,4,4,4,5,3,4,3,5,6,0,2,3,6,0,0,15,7,6,3,0,4,7,8,7,1,0,6,20,15,3,7,4,14,4,8,3,6,10,10,2,1,0,0,6,5,14,6,4,4,14,0,5,12,10,5,3,2,1,4,14,4,5,10,4,0,0,0,11,7,10,16,6,4,5,2,3,2,0,9,0,1,2,6,4,7,2,16,3,0,1,0,2,0,0,7,4,3,1,2,0,8,5,0,8,6,4,5,3,2,0,3,0,0,11,0,0,0,0,0,0,0,0,0,0,0,5,4,0,0,0,0,0,0,0,0,0,0,5,0,0,0,0,0,0,0,0,0,0,0,0,0,0,0,0,0,0,0,0,0,0,0,0,0,8,0,0,1,0,3,0,0,0,0,0,0,0,0,0,0,4,1,1,8,0,0,0,0,8,2,0,3,0,0,0,0,0,0,0,3,0,0,0,0,0,0,0,0,0,0,0,0,0,0,0,0,0,0,0,1,1,0,0,0,0,0,6,3,0,0,0,0,0,1,1,2,0,0,0,0,0,0,0,2,2,0,0,0,3,0,2,0,3,0,0,0,0,2,4,0,0,0,2,1,0,1,4,0,0,4,0,0,0,3,5,0,4,0,0,2,7,2,2,4,0,1,3,1,0,0,0,1,1,0,0,1,0,0,2,0,0,1,10,0,0,0,0,0,0,7,6,0,0,0,0,2,6,3,0,2,0,13,0,7,6,10,0,3,0,6,0,7,0,6,8,5,2,0,0,10,9,9,3,0,10,0,6,0,9,0,10,6,10,10,1,8,10,7,9,0,9,4,0,0,11,9,10,10,0,4,4,7,11,0,6,14,14,0,6,4,8,3,0,1,4,5,42,6,7,5,6,5,28,9,4,3,3,5,0,5,15,10,3,2,7,4,5,8,0,2,0,1,2,9,10,5,2,2,8,2,7,2,4,8,5,6,2,8,16,0,0,2,6,15,10,8,8,3,2,4,0,0,9,19,20,17,0,3,1,4,11,6,0,1,6,2,6,5,157,5,0,0,7,6,5,0,3,9,5,2,3,3,6,5,7,0,0,0,0,32,35,0,0,40,0,0,0,0,0,0,0,0,0,0,0,2,0,0,0,0,0,0,0,3,0,0,0,2,0,0,0,0,15,0,0,0,0,0,0,20,0,0,0,0,0,0,0,0,0,0,0,0,0,0,0,0,10,0,0,0,0,0,8,0,0,0,0,0,0,0,0,0,0,0,0,0,0,0,0,8,5,0,0,0,0,0,0,0,1,45,0,2,0,5,3,0,0,5,0,0,7,0,0,1,0,0,0,0,0,0,0,0,0,0,0,0,0,0,0,0,0,0,0,0,0,0,0,0,0,0,0,0,0,0,0,0,0,0,0,0,0,0,0,0,0,0,0,0,0,0,0,0,1,1,0,2,0,0,0,0,0,0,0,0,0,0,0,0,0,0,0,0,0,0,0,0,0,1,1,0,0,1,3,0,1,0,0,0,0,0,0,0,0,1,0,0,0,0,0,0,0,1,0,0,3,0,3,3,3,7,0,5,5,0,5,0,0,0,0,0,1,0,6,0,0,4,6,6,3,8,0,0,1,0,0,4,3,2,1,5,5,0,0,0,3,0,3,0,3,3,0,3,7,0,0,4,0,9,0,4,0,7,0,0,0,1,1,0,10,1,0,0,4,6,10,3,5,0,0,0,0,4,2,0,1,0,0,2,4,0,5,7,0,0,10,0,0,10,4,10,4,10,3,0,10,0,0,5,10,4,0,12,10,6,0,0,3,2,11,5,0,5,0,0,6,0,8,0,0,13,1,0,5,11,10,4,8,12,0,10,0,0,0,0,0,10,10,0,0,5,9,8,3,4,8,7,0,1,1,5,0,4,1,0,0,1,0,5,0,0,3,0,6,0,5,11,14,5,5,0,5,5,0,0,5,3,6,5,0,8,5,0,0,1,10,16,6,0,5,0,0,0,0,15,2,4,6,0,11,0,6,4,1,0,0,5,3,0,6,6,0,3,3,6,6,6,9,4,5,1,4,3,3,1,3,2,6,6,5,6,0,4,3,2,2,0,2,0,0,0,0,0,0,3,0,0,0,0,0,1,0,0,0,0,0,0,0,0,0,0,0,0,0,0,0,0,0,0,0,0,0,0,0,0,0,0,0,0,0,0,0,0,0,0,0,0,0,0,5,0,0,0,0,0,0,20,0,0,0,0,0,0,0,0,0,0,0,0,0,5,1,0,0,0,0,0,0,4,3,0,0,1,0,1,0,2,22,0,0,0,0,0,0,0,0,0,0,0,0,0,0,0,0,0,0,0,0,0,1,0,0,0,0,0,0,0,0,0,0,0,0,0,0,6,0,0,1,0,0,0,0,0,0,2,0,1,0,0,0,0,0,0,0,0,1,0,1,0,0,0,0,0,0,0,0,0,10,0,0,0,0,0,0,0,0,0,0,0,0,0,0,0,0,0,0,0,1,0,2,2,8,0,1,4,16,0,0,0,3,0,2,0,0,0,0,0,0,0,9,0,0,0,12,0,0,0,0,0,0,13,0,4,3,0,0,0,0,2,3,0,0,9,2,0,0,0,2,0,0,2,2,8,0,0,4,0,0,0,0,1,0,3,2,0,4,0,0,0,6,0,4,0,0,0,10,10,0,1,0,0,3,1,10,3,7,5,0,0,1,0,0,1,0,0,0,0,1,13,10,0,5,5,10,0,4,2,0,0,0,0,10,11,2,5,2,0,10,5,3,0,0,7,0,3,10,1,2,8,0,1,0,3,1,12,0,4,5,6,5,5,7,0,1,2,4,0,3,1,0,6,2,10,3,2,6,0,2,4,0,8,0,0,3,20,0,5,2,3,11,0,6,3,5,0,3,1,9,5,1,5,6,1,7,10,13,6,12,8,6,4,6,3,11,0,8,0,9,9,9,4,30,3,10,10,7,3,3,6,5,7,8,2,15,12,0,5,15,2,5,11,2,4,3,2,1,3,4,0,3,0,10,17,2,0,2,0,0,0,19,0,0,10,0,2,2,0,0,7,2,0,0,2,0,0,0,0,0,0,0,0,3,0,0,0,0,0,0,0,0,0,0,0,0,0,0,0,0,0,0,0,0,0,0,0,0,0,0,2,0,0,0,0,0,0,0,0,0,0,7,0,0,0,0,0,0,0,11,0,0,0,0,9,3,4,0,0,0,0,3,0,0,1,0,5,0,0,0,0,2,3,0,0,0,0,0,0,0,0,0,0,0,0,0,0,0,0,0,0,0,0,0,0,0,0,0,0,0,0,0,0,0,0,0,0,0,0,0,0,4,3,10,0,0,0,0,0,0,0,0,0,0,0,0,0,0,0,0,3,0,0,0,0,1,0,2,0,0,0,0,0,0,0,0,0,0,0,0,0,1,0,0,1,2,0,9,0,0,0,0,0,0,1,0,4,0,0,0,0,0,0,0,2,0,0,5,0,2,3,1,0,0,0,5,6,0,2,0,3,0,2,0,4,0,0,5,4,0,6,3,0,5,2,6,17,0,0,0,5,6,1,0,1,3,0,0,0,7,0,2,0,10,0,3,7,0,0,1,7,7,0,4,0,2,7,7,1,0,7,3,0,0,0,5,2,0,1,1,4,6,10,41,0,6,12,9,41,10,0,0,4,20,7,0,5,0,10,0,0,0,10,3,0,6,5,0,4,0,2,0,30,0,3,8,5,2,0,2,3,7,11,0,5,2,0,0,30,2,7,2,7,0,7,3,5,5,0,3,4,5,10,0,6,4,8,6,5,4,3,0,12,7,0,10,2,2,7,0,6,0,3,8,0,8,0,0,7,0,6,3,0,8,3,11,6,2,13,3,10,0,5,2,10,3,0,0,6,3,0,0,8,12,5,6,8,5,4,3,6,2,0,0,6,12,12,15,4,1,0,8,0,5,9,5,14,0,7,11,5,5,11,15,24,7,7,2,10,6,1,10,7,0,0,9,8,8,0,9,2,4,3,7,0,1,3,5,1,6,4,6,5,4,1,6,4,10,5,0,3,6,6,0,0,1,0,0,0,0,0,0,0,0,0,0,0,0,0,0,0,0,0,0,0,0,0,0,0,0,0,0,0,0,0,19,13,0,0,0,0,0,0,0,0,0,0,0,4,0,0,0,0,0,13,0,0,0,4,0,2,30,0,0,0,0,0,0,0,0,0,0,0,0,0,0,0,4,0,0,0,0,0,0,0,0,0,0,1,3,0,0,0,0,0,4,4,11,0,3,0,0,0,7,2,0,0,0,0,0,1,0,0,12,4,0,0,0,0,0,1,0,0,0,0,0,1,0,9,0,0,3,1,0,1,0,0,3,7,5,0,6,0,8,6,2,6,0,7,2,0,4,2,172,1,8,3,3,0,6,0,6,6,0,0,0,4,3,10,0,0,7,0,9,8,3,1,0,0,9,0,6,0,9,3,9,0,0,0,0,1,5,0,0,1,0,5,7,0,2,4,4,0,0,0,5,0,0,8,8,0,4,8,10,1,1,0,0,8,0,5,4,1,13,5,12,6,9,12,15,2,6,13,5,0,0,10,2,0,6,1,15,4,0,17,0,2,10,5,4,2,15,2,15,6,7,0,8,9,1,2,0,3,8,25,7,14,6,19,8,4,5,3,1,2,10,5,10,7,8,1,7,2,0,12,6,2,22,6,5,3,2,7,2,1,11,12,6,4,0,0,0,0,0,0,0,0,0,0,9,0,0,2,0,0,0,0,0,0,0,0,3,0,0,0,0,0,0,0,10,0,0,2,0,0,0,0,3,10,2,5,0,0,0,0,0,0,0,0,0,7,13,0,0,0,0,0,0,0,0,0,0,0,0,0,0,0,0,0,0,0,0,0,0,0,0,0,0,0,0,0,0,0,0,0,0,0,0,0,0,15,12,0,0,3,0,0,2,1,0,0,3,0,0,1,2,0,0,2,1,0,0,0,0,0,0,0,0,0,0,4,3,3,0,0,0,0,0,0,5,4,0,3,0,1,7,0,0,0,0,2,4,0,3,0,0,5,0,0,8,0,1,0,7,3,3,0,0,3,0,0,0,2,0,3,0,5,0,0,0,0,3,0,0,9,5,0,0,1,1,1,5,6,1,4,7,12,4,2,0,0,0,8,8,0,8,8,7,9,2,6,9,0,0,0,1,12,4,0,0,6,4,0,10,5,7,41,11,0,10,6,0,0,3,0,4,5,2,6,3,4,0,4,7,9,7,10,4,4,5,19,2,4,12,6,3,0,14,15,3,8,3,2,9,4,6,2,0,0,8,3,18,6,10,11,10,5,9,8,7,3,8,0,5,9,1,5,10,5,1,3,6,8,2,7,5,12,17,7,2,4,4,0,6,8,3,0,3,0,0,0,0,0,0,0,3,0,1,0,0,0,0,10,23,5,0,0,0,0,0,0,0,0,0,0,0,0,0,0,0,4,2,4,0,0,0,0,0,0,0,0,0,0,0,0,0,0,0,1,0,0,0,0,0,0,0,0,0,0,0,0,0,2,0,0,0,0,0,0,0,0,2,0,2,8,6,0,2,0,5,0,0,3,6,0,0,0,0,0,0,0,0,0,0,0,0,0,0,0,0,0,0,0,0,0,0,0,0,0,3,10,1,0,0,0,4,0,0,0,0,0,5,0,0,0,0,0,4,0,0,0,0,0,0,0,0,0,0,0,0,0,3,2,0,1,1,0,0,2,0,0,12,1,0,0,0,0,2,2,0,0,0,2,0,2,0,3,2,0,0,0,0,1,0,0,0,5,0,0,0,7,5,6,0,0,1,0,0,0,2,2,0,6,2,0,0,0,7,5,0,0,0,4,0,0,0,2,0,1,0,0,10,0,2,2,0,0,0,0,2,10,1,6,0,3,0,1,2,6,0,0,0,0,0,0,0,0,3,3,1,5,0,3,0,1,9,4,10,0,0,10,3,4,0,0,3,0,10,10,0,4,0,3,3,4,0,0,5,1,4,0,2,12,2,1,0,4,0,15,8,11,4,5,0,7,5,0,2,2,2,2,0,0,13,0,10,3,0,0,5,2,0,0,0,6,4,5,0,8,0,0,2,4,0,6,0,0,0,0,2,0,5,0,0,8,6,0,4,0,10,3,9,6,1,0,4,2,1,2,1,0,0,1,6,13,12,5,7,0,8,0,0,0,6,4,11,9,4,5,9,8,2,14,0,5,0,5,4,16,6,3,12,7,0,3,6,3,2,21,13,13,22,4,1,6,16,6,1,0,12,12,6,7,0,4,3,3,3,5,4,4,10,0,5,2,2,6,6,6,18,0,0,0,0,1,0,0,0,0,2,0,0,0,0,0,0,0,0,0,0,0,0,0,0,0,0,0,0,0,0,0,0,0,0,0,0,0,0,0,0,0,0,0,0,0,0,0,0,0,0,0,0,0,0,0,0,0,0,0,4,0,0,0,0,0,0,3,0,0,4,6,4,0,0,0,0,0,5,0,0,0,6,2,0,0,0,6,4,2,7,0,0,0,0,0,0,0,0,0,0,0,5,1,0,4,9,0,0,3,17,0,2,0,3,7,0,16,5,1,3,4,5,3,1,0,4,1,0,0,0,0,0,0,0,0,0,0,0,0,0,0,0,0,0,0,0,0,0,0,0,5,6,0,0,0,0,0,0,0,0,0,0,0,0,0,0,0,0,0,0,0,0,0,0,0,0,0,0,0,0,0,0,0,0,0,0,0,4,0,0,0,6,0,0,0,0,2,1,2,0,0,0,1,1,0,0,6,0,0,0,0,0,0,0,6,1,0,6,3,2,0,0,0,5,2,0,6,0,0,1,0,5,0,0,7,0,6,4,0,0,0,0,6,0,6,6,5,0,3,0,3,11,5,0,0,0,6,1,6,0,6,0,9,0,8,0,0,2,0,7,0,0,3,0,9,0,4,9,4,2,0,0,2,10,0,16,10,0,0,2,4,0,5,0,0,10,8,0,1,2,5,10,0,10,8,8,0,0,10,3,10,5,0,0,4,10,0,10,0,0,5,1,3,3,10,0,12,0,3,3,0,6,9,7,8,2,5,0,2,5,0,0,4,5,5,3,2,3,0,3,6,3,10,10,0,6,3,4,0,9,5,3,6,4,7,8,1,4,8,7,7,8,7,5,8,5,7,0,4,13,2,13,5,35,16,15,9,4,4,10,7,1,3,6,14,0,0,15,4,0,9,0,0,20,6,4,8,3,0,1,0,0,4,0,0,0,0,0,0,0,0,0,0,0,0,0,0,0,0,0,2,0,0,0,0,0,0,0,0,0,0,0,0,0,0,0,0,0,0,0,0,0,0,0,0,0,0,0,1,0,0,0,8,0,0,0,4,2,2,5,0,0,0,0,0,0,0,0,0,0,0,0,0,0,0,0,0,0,0,0,0,0,0,1,0,0,0,0,0,0,0,0,0,0,1,0,0,0,0,0,0,1,0,5,0,10,6,2,0,3,2,0,0,5,0,0,0,0,1,0,3,0,4,0,0,3,0,3,0,5,6,2,5,0,4,0,4,1,5,0,0,0,0,2,1,3,0,0,0,0,5,0,0,0,0,0,5,3,3,0,0,2,1,3,0,0,2,0,0,0,0,9,8,2,1,5,5,3,8,0,3,0,0,0,9,8,6,9,16,0,0,0,4,0,3,0,6,0,6,4,6,1,8,0,2,0,6,4,0,3,0,8,0,7,3,2,4,3,8,0,1,10,8,24,0,10,10,6,4,10,0,5,0,0,4,2,6,1,3,10,6,10,6,2,0,1,2,12,0,12,2,5,7,10,0,0,7,0,4,3,2,10,0,0,5,6,10,6,2,6,0,10,7,5,2,12,0,3,2,24,5,19,0,2,12,10,0,0,2,11,3,5,7,7,8,10,7,6,6,3,0,3,1,4,11,0,9,7,5,7,3,5,0,2,9,1,16,7,0,8,1,8,0,10,8,0,6,4,5,2,3,5,7,6,6,6,3,1,4,0,3,9,7,1,13,1,1,1,3,6,1,6,2,11,0,7,0,2,0,5,8,5,0,0,0,0,0,10,0,0,0,0,0,0,0,0,0,0,0,0,0,0,0,0,0,0,0,0,0,20,0,0,0,0,0,0,0,0,0,0,0,0,0,0,15,3,0,0,0,0,0,0,0,0,0,0,0,0,0,4,6,4,6,4,3,0,0,3,0,12,6,32,0,0,0,0,0,0,0,0,0,0,0,0,0,0,0,0,0,0,0,0,0,0,0,0,0,0,0,0,0,1,0,4,0,0,0,0,0,0,0,0,0,0,1,0,0,0,0,0,0,0,0,0,2,1,1,0,0,0,0,0,0,2,0,0,0,0,0,0,0,0,0,1,2,0,0,0,0,0,3,0,0,0,0,0,0,0,0,0,0,2,0,0,0,0,0,3,2,6,8,3,17,4,0,0,1,0,4,2,0,2,0,1,0,0,0,3,0,0,0,0,6,1,1,2,7,0,1,2,0,1,0,4,7,8,0,0,0,6,0,0,3,1,5,0,9,0,5,3,0,0,6,0,0,0,2,12,4,7,1,7,1,10,5,0,0,3,0,0,2,6,0,14,7,4,6,0,7,5,0,0,9,7,0,0,0,0,0,2,3,3,0,1,0,2,0,0,7,5,1,0,3,4,0,10,5,2,3,3,10,0,2,0,3,0,0,5,4,9,9,7,4,12,0,5,3,7,3,4,2,2,0,6,0,12,1,7,0,5,16,4,4,3,9,7,1,4,1,2,3,5,1,3,1,10,4,6,4,3,3,2,5,0,2,9,15,2,1,5,7,6,9,2,0,8,5,7,0,6,10,5,0,7,0,18,3,0,12,6,4,0,17,0,6,0,7,4,10,0,2,4,14,8,0,8,2,7,3,1,6,6,5,0,0,13,3,4,0,4,0,0,1,0,0,0,0,0,0,0,0,0,0,0,0,1,3,7,0,0,0,0,0,0,0,0,0,0,0,3,7,0,0,0,0,0,0,0,1,0,0,0,0,7,0,0,0,0,0,0,22,1,4,6,0,0,2,1,0,0,0,0,0,0,0,0,0,0,0,0,12,8,4,4,0,0,0,0,0,0,0,0,1,0,0,0,0,10,7,2,17,9,0,0,0,0,0,0,3,2,1,0,0,1,0,3,0,0,0,0,0,0,1,0,0,2,1,2,0,1,0,0,0,0,0,13,0,0,0,0,0,0,0,0,1,0,0,0,0,1,0,0,0,2,0,0,0,0,2,0,0,0,0,1,0,0,0,0,2,0,0,0,0,0,0,3,12,0,2,0,0,0,0,0,0,3,0,0,0,0,0,0,0,1,0,0,3,0,0,0,0,0,3,0,0,0,0,0,0,0,3,0,0,6,0,1,0,0,2,2,0,0,0,0,0,0,0,4,4,3,0,1,1,0,0,7,1,3,0,1,0,0,3,0,0,0,5,0,0,3,1,1,7,0,4,2,4,1,0,0,7,0,30,0,2,9,0,1,2,10,0,0,0,0,13,3,0,4,0,1,0,0,5,2,0,7,0,4,1,0,0,10,8,3,3,5,4,1,5,7,0,4,8,0,0,5,10,5,0,6,5,6,9,40,0,0,8,0,10,0,4,0,0,3,6,2,0,2,0,3,0,0,10,12,20,1,4,0,10,1,0,1,8,0,0,8,5,0,0,3,0,0,3,2,12,0,0,0,11,7,2,6,0,5,0,5,0,11,14,2,4,0,7,4,5,6,0,7,3,0,5,7,7,10,0,4,5,4,8,2,5,16,7,0,4,0,2,16,10,12,7,0,0,10,5,0,0,4,0,0,0,16,44,4,7,7,3,6,3,5,22,3,10,3,0,6,6,3,0,6,7,7,1,5,2,2,5,3,5,5,5,0,0,10,7,4,13,1,4,6,0,3,7,40,12,9,3,4,4,7,6,0,11,6,7,7,7,5,1,14,5,6,7,10,0,3,10,2,2,6,4,0,6,4,1,3,4,1,10,10,8,8,5,0,8,0,4,2,0,8,7,1,4,5,5,6,6,1,5,3,4,6,7,3,5,5,3,10,4,5,4,10,6,4,14,0,6,0,5,2,4,6,9,3,6,3,11,4,3,4,10,2,4,0,7,4,8,3,3,15,2,10,10,6,0,11,3,7,5,6,10,0,4,3,3,13,6,4,2,0,6,0,5,3,4,10,1,1,4,0,1,9,1,2,5,0,4,3,2,8,1,1,1,13,0,1,3,0,15,4,8,1,8,1,5,0,1,0,10,8,0,2,4,0,2,4,7,2,6,3,3,4,4,2,5,4,3,2,5,4,6,3,7,3,0,3,2,0,4,1,4,3,9,4,3,6,1,0,5,2,5,3,4,2,5,0,8,0,8,0,1,1,0,0,0,0,0,0,5,0,0,0,0,0,0,0,0,0,0,0,0,0,0,3,5,0,0,0,0,0,0,0,8,3,0,0,0,3,0,3,0,0,27,0,4,0,0,1,0,0,0,0,0,0,0,0,0,0,0,0,0,0,0,0,0,0,0,0,0,0,0,0,0,0,0,0,1,0,0,0,0,1,0,0,0,4,0,0,0,0,0,0,0,0,0,0,0,0,0,0,0,0,4,0,3,0,0,0,0,2,6,3,1,0,0,0,0,0,0,0,0,0,0,6,3,0,0,0,0,0,0,2,0,6,2,0,0,2,4,2,0,0,8,0,0,4,5,4,0,0,3,0,1,7,3,0,0,2,0,0,0,2,5,0,0,1,3,5,1,6,0,2,5,0,3,4,1,0,1,0,3,1,1,0,5,6,0,0,0,0,5,3,2,8,3,1,9,0,4,6,3,9,5,5,5,10,5,0,8,0,0,0,0,2,9,0,6,5,6,2,4,0,8,10,5,1,5,6,2,6,7,7,7,8,9,15,0,4,5,6,11,4,5,5,2,10,6,4,0,13,5,8,7,1,8,3,5,6,6,10,2,0,4,2,1,17,7,3,5,4,17,6,7,13,7,0,0,5,2,21,1,10,4,1,16,5,6,0,3,2,3,3,2,1,4,0,1,0,3,5,10,8,3,0,2,1,0,1,0,0,0,0,0,0,0,2365,0,0,0,0,0,0,0,0,0,0,0,0,0,0,0,3,9,0,0,0,0,0,0,0,0,0,0,0,0,0,0,0,0,0,0,0,0,0,0,0,0,0,0,8,0,0,5,2,0,0,0,0,5,0,3,8,1,15,2,2,0,0,0,0,0,0,0,0,0,2,0,2,0,5,14,5,0,0,0,1,0,1,0,0,0,0,0,0,0,0,0,5,9,8,2,0,0,0,0,0,2,1,0,1,0,0,0,0,0,0,0,1,1,1,0,0,2,1,0,1,0,0,0,3,0,0,0,0,0,0,0,0,0,1,0,0,1,0,0,1,3,0,4,0,0,3,3,0,1,0,1,0,2,1,0,14,6,0,0,6,0,4,0,4,1,0,11,0,2,0,1,0,0,0,2,3,0,0,7,7,0,5,2,0,1,6,0,10,4,2,5,10,8,9,10,4,8,8,4,3,12,3,8,10,5,3,5,5,6,13,2,10,1,7,10,11,12,13,9,5,15,8,0,7,3,11,0,0,10,15,5,10,5,5,7,0,4,4,4,2,2,6,3,0,0,6,7,4,6,15,8,5,9,4,22,5,1,7,10,8,6,7,7,10,8,13,4,6,6,6,9,0,10,0,0,11,0,10,7,12,4,0,3,15,10,2,13,0,7,5,5,7,0,11,6,2,2,9,3,1,2,0,5,8,0,0,0,0,35,1,0,11,5,0,0,0,0,0,0,0,0,0,0,0,0,0,0,0,0,0,4,0,0,0,0,0,3,0,0,2,0,0,2,0,0,0,0,0,0,7,3,0,0,0,0,0,0,14,0,0,0,0,0,0,0,0,0,0,0,0,5,0,0,0,0,10,0,0,0,0,0,0,0,8,5,1,1,0,15,12,12,8,1,1,0,0,2,0,0,0,0,0,0,0,0,0,0,0,0,0,0,0,0,0,0,0,0,0,0,0,0,0,0,0,0,0,0,0,9,12,0,0,0,1,0,0,0,0,1,0,0,0,2,0,1,2,0,9,3,0,2,0,0,2,0,1,0,2,1,0,0,2,3,0,0,3,6,0,2,7,0,1,0,0,0,0,0,0,0,0,0,3,0,0,1,0,0,2,0,0,0,1,3,0,1,2,0,0,0,1,0,0,3,1,4,3,0,0,3,0,0,0,2,0,5,0,0,0,0,0,0,2,0,2,2,0,2,0,1,1,3,0,0,3,13,2,0,1,1,1,2,7,10,5,2,1,6,3,3,10,8,2,1,3,1,0,2,0,1,3,3,6,2,3,4,4,3,3,4,3,6,3,9,5,11,9,12,0,8,7,12,8,12,4,2,14,3,10,8,2,10,4,3,0,7,9,41,13,0,1,1,11,0,5,3,0,5,16,2,0,16,2,5,0,7,5,7,8,10,4,5,0,7,7,10,1,0,0,2,6,5,8,8,3,10,10,4,2,7,0,0,3,5,3,1,4,4,11,3,7,4,4,5,3,6,3,3,3,7,2,12,4,13,0,20,7,8,2,4,8,0,8,3,0,30,10,4,3,6,4,15,15,10,2,13,7,8,8,5,4,6,3,2,2,0,3,8,0,0,0,0,0,0,0,0,0,0,0,0,0,1,0,0,9,5,0,0,0,0,0,0,0,0,1,0,0,0,0,0,0,0,4,0,6,3,0,0,6,0,7,0,0,0,11,0,0,7,0,0,0,0,2,0,2,0,0,0,0,0,0,0,0,0,0,0,0,0,0,0,0,0,0,0,0,0,0,0,0,0,0,0,0,0,0,0,0,0,0,0,0,0,3,4,0,0,0,0,0,0,0,0,0,0,0,0,0,0,0,4,0,0,0,0,0,0,0,0,3,0,0,0,0,0,0,0,2,1,0,0,0,0,1,0,0,5,0,0,0,0,0,0,0,0,0,0,0,0,0,0,0,1,0,1,0,0,0,2,1,0,4,0,0,0,0,6,0,0,0,0,1,0,9,0,0,0,0,0,0,0,0,0,0,0,0,2,0,0,0,0,0,0,0,0,4,7,0,2,2,20,0,1,0,1,0,3,0,7,0,2,36,2,0,5,8,1,3,0,1,6,9,0,0,0,0,10,3,11,0,0,0,0,2,5,11,0,4,4,5,0,0,0,5,6,7,0,5,0,0,3,7,8,2,1,10,5,5,1,10,0,1,5,0,7,9,0,10,6,3,3,5,14,3,2,6,3,0,7,4,9,2,1,2,11,2,0,4,7,10,0,7,7,10,7,19,9,0,4,2,14,7,0,3,1,0,0,0,5,9,0,0,2,9,0,6,0,11,7,3,29,0,0,0,11,2,0,0,2,0,0,4,3,5,7,1,0,0,0,0,3,3,0,8,0,6,6,3,4,3,7,3,22,11,7,7,0,5,0,14,6,14,5,7,6,6,14,4,11,7,0,10,2,5,3,11,0,7,3,0,0,0,13,6,5,5,6,4,4,3,12,4,0,5,7,2,0,7,2,4,0,4,0,0,2,6,0,4,11,0,9,3,1,2,0,0,0,0,1,1,0,0,1,0,0,0,0,0,0,0,0,0,0,0,0,0,0,4,0,0,0,0,0,0,0,0,0,0,0,0,0,4,0,0,0,0,0,0,0,8,0,0,0,0,0,0,0,0,0,0,0,0,0,1,0,0,0,5,0,8,0,1,0,0,0,1,0,0,0,0,0,0,0,0,0,0,0,1,0,0,1,0,0,0,0,0,0,1,0,0,0,4,0,0,0,0,0,0,0,0,0,0,0,0,0,0,0,0,0,0,0,0,0,0,0,0,0,4,0,0,0,2,1,0,0,0,1,0,0,0,0,0,0,0,0,0,0,0,0,0,0,0,0,0,0,0,3,5,1,0,0,0,0,0,8,0,0,3,0,1,5,1,0,3,0,0,0,0,0,5,0,1,1,6,0,5,0,1,0,5,2,1,0,1,3,0,0,0,3,0,3,0,0,0,3,0,5,6,3,2,0,2,1,1,5,0,0,4,12,4,0,1,7,3,4,4,0,5,5,0,4,5,1,5,7,17,0,10,0,5,10,0,4,3,10,0,7,2,2,6,0,0,5,3,0,3,0,0,1,15,1,4,8,2,2,7,2,8,0,0,12,2,5,3,0,9,12,0,9,7,9,6,0,3,1,3,10,0,4,7,7,9,7,10,0,1,9,5,5,7,5,11,7,5,9,10,5,4,11,2,9,7,12,4,2,7,7,7,14,1,5,9,7,7,9,48,14,7,1,0,0,5,8,3,7,8,6,2,5,7,0,0,6,9,3,9,9,0,0,10,7,9,10,4,14,0,1,0,17,4,2,1,0,3,10,0,0,0,0,7,2,8,10,5,3,3,3,2,0,2,2,0,0,0,0,0,0,0,0,0,0,0,0,0,0,0,0,0,0,0,0,0,0,0,0,0,0,0,0,0,1,0,0,0,0,0,0,0,0,0,0,0,0,0,2,24,0,0,0,0,12,0,0,1,0,0,0,0,0,0,0,2,0,0,0,0,28,10,0,0,7,9,0,0,3,0,0,0,0,0,0,0,0,0,0,7,0,0,0,0,0,0,0,0,0,0,0,0,0,0,0,0,0,0,30,0,0,0,0,2,0,0,1,0,0,0,0,0,0,1,0,0,0,1,0,1,0,1,3,0,1,1,0,0,1,0,0,0,0,3,0,0,0,0,3,0,0,0,0,0,0,0,0,0,2,0,0,0,0,2,7,6,4,0,0,1,2,7,0,12,0,4,2,0,5,2,4,3,6,0,0,0,0,10,1,0,5,3,1,1,0,0,0,0,3,0,0,2,0,0,0,4,0,3,0,2,0,2,0,1,2,0,4,0,0,0,3,4,2,0,2,5,1,1,0,5,3,0,5,7,1,7,1,0,2,3,4,23,2,0,4,3,1,6,4,3,6,8,0,3,3,4,10,5,6,16,2,3,21,8,0,6,8,19,0,6,7,5,6,1,8,1,7,7,5,2,4,10,0,2,3,12,3,1,6,7,9,4,4,0,0,9,3,1,7,0,0,4,0,8,10,9,3,7,4,0,7,9,0,5,3,8,10,0,3,6,8,12,7,7,7,12,12,7,4,8,4,2,8,7,2,2,9,19,13,7,3,0,0,45,7,7,2,6,10,4,0,0,5,7,2,9,15,3,0,1,0,7,5,7,52,4,2,0,0,0,0,0,0,0,0,0,0,0,0,0,0,0,0,0,0,0,0,0,0,8,6,1,10,0,0,0,7,0,4,9,0,4,0,0,5,0,0,0,0,3,0,0,3,0,1,0,0,0,0,0,0,0,0,0,0,0,0,0,0,0,0,0,0,0,0,0,0,0,0,0,0,0,0,0,0,0,0,0,0,1,0,0,0,0,0,0,0,0,0,0,0,0,0,0,0,0,0,1,0,0,0,0,0,0,0,0,0,0,0,3,0,0,0,0,9,3,0,0,0,0,0,9,0,0,0,0,5,0,1,0,0,2,11,0,0,5,0,0,0,2,0,0,4,0,5,5,6,0,0,0,4,0,5,0,5,4,0,5,0,5,0,0,10,0,0,10,5,4,0,5,0,3,2,3,0,6,0,0,0,5,0,5,0,0,0,0,0,7,0,0,0,7,1,1,21,4,0,0,6,0,3,4,0,4,0,0,7,2,1,6,4,4,0,0,7,5,7,0,0,0,0,10,1,0,0,2,10,4,10,0,0,0,0,5,0,8,0,2,1,3,0,8,13,0,0,0,1,7,5,9,5,0,5,8,8,0,6,2,5,6,0,0,0,3,8,8,6,0,7,9,5,4,0,0,1,2,8,10,0,3,8,7,12,17,2,4,4,2,0,8,9,0,10,4,10,9,3,10,8,10,0,9,8,4,5,12,17,2,8,7,0,4,7,2,7,0,15,3,3,0,2,0,6,5,0,6,7,7,0,7,2,2,15,3,5,2,0,6,0,9,10,2,0,0,2,0,4,0,5,3,27,8,7,1,4,6,7,5,1,4,5,6,0,7,4,5,7,4,0,13,2,0,0,0,0,0,0,0,0,0,0,0,0,0,0,0,0,0,0,0,0,0,6,0,0,4,0,0,0,0,0,0,3,0,0,0,0,0,0,5,7,0,6,0,0,0,0,2,0,0,0,21,7,0,2,0,0,0,12,4,1,8,0,0,1,2,2,1,0,0,0,0,0,0,17,0,0,0,0,0,0,0,0,0,0,0,0,0,1,0,0,0,1,2,0,0,0,1,0,0,1,0,0,0,0,0,0,1,0,0,0,0,0,0,0,2,0,0,1,0,0,0,0,0,4,0,0,0,0,0,0,0,1,0,0,2,0,0,0,3,0,0,2,3,6,8,3,0,0,0,10,2,0,2,0,1,0,2,0,0,0,2,0,0,0,0,3,3,3,0,0,0,0,0,2,1,0,0,0,5,0,1,0,6,7,0,0,1,0,0,0,5,0,3,0,5,3,3,0,7,9,0,0,0,3,2,6,0,5,1,2,4,4,5,0,3,4,1,5,0,6,0,4,4,5,6,0,0,4,2,5,0,0,0,5,2,0,0,9,5,0,3,0,0,6,0,5,0,0,2,6,3,5,8,0,2,0,5,0,5,0,6,0,0,1,1,9,5,0,0,4,14,8,0,14,0,0,0,5,0,0,3,1,5,3,0,0,0,4,0,0,1,1,6,1,5,0,6,8,4,4,0,0,4,5,0,5,0,0,7,0,1,6,3,0,0,5,2,0,7,0,3,2,6,0,0,0,0,5,5,3,6,5,4,4,6,1,4,0,0,3,3,0,1,6,2,1,5,9,4,6,1,0,4,1,6,5,3,2,10,8,12,0,3,6,2,2,0,3,3,10,0,1,14,4,3,5,1,6,0,5,3,14,8,0,6,2,4,3,17,5,5,0,13,9,10,3,5,6,9,3,5,4,0,5,5,5,2,2,0,4,6,1,0,3,10,3,35,5,4,3,3,0,0,5,5,3,0,5,7,0,0,2,3,4,4,1,1,6,7,5,0,0,0,3,5,0,5,0,4,5,1,7,4,5,10,4,3,2,0,2,13,1,3,1,5,0,2,3,7,8,1,12,5,13,0,2,3,9,4,0,6,0,3,5,3,0,30,10,2,17,6,5,7,6,4,4,6,5,3,2,1,4,5,1,4,11,2,9,4,5,6,3,12,4,2,2,3,3,1,3,1,1,0,3,6,7,8,1,0,3,0,16,0,0,0,0,0,0,0,0,0,0,13,13,5,0,0,0,0,30,25,0,0,0,0,0,32,0,0,0,0,0,0,0,0,0,0,0,0,0,0,0,0,0,0,0,0,0,0,0,0,0,1,0,0,0,0,0,0,0,0,0,0,0,0,2,0,0,0,0,0,0,0,0,0,0,0,0,0,0,0,0,0,0,0,0,0,0,0,0,0,0,0,0,0,0,7,4,5,0,0,0,0,4,0,3,0,1,0,6,0,4,0,0,0,0,0,0,0,0,0,0,0,0,0,0,0,0,0,0,0,0,0,0,0,0,0,0,0,0,0,0,0,0,0,0,0,0,0,0,3,0,12,0,0,0,1,0,0,0,0,0,1,0,0,0,0,1,0,1,0,0,0,1,0,1,0,0,1,0,0,0,0,1,0,0,3,0,0,0,1,0,1,0,0,0,0,1,0,0,0,0,0,1,0,0,0,0,0,0,0,0,0,0,0,2,0,0,0,0,3,0,1,0,0,0,4,1,1,0,0,0,5,1,0,4,0,5,1,0,0,3,2,3,3,0,2,4,0,0,5,1,3,4,2,5,2,5,4,0,6,5,6,4,12,1,6,2,1,2,1,0,0,0,2,0,1,3,0,5,0,0,0,4,0,6,6,0,1,0,0,4,1,6,0,10,0,5,3,0,0,0,5,5,4,0,0,0,0,0,2,2,0,0,10,0,20,1,5,5,0,0,7,1,0,0,2,1,0,0,0,6,4,3,6,2,6,3,0,2,2,5,5,2,2,9,8,2,5,1,0,4,1,2,1,7,19,4,6,11,3,3,2,15,0,3,0,0,0,12,0,6,0,7,6,0,4,3,5,9,0,0,6,7,4,5,6,4,6,7,2,2,5,5,9,7,4,4,5,4,0,0,5,4,11,4,2,15,7,1,3,4,4,3,4,4,0,2,5,1,7,4,4,5,1,6,6,6,3,10,7,5,15,3,3,4,6,0,0,10,0,7,7,15,1,30,2,10,8,4,5,6,0,5,2,3,3,0,3,4,0,0,0,0,0,5,2,1,0,2,5,12,3,9,3,2,2,8,0,0,0,0,0,0,0,0,0,0,0,0,0,0,0,0,0,0,0,0,0,0,0,1,2,0,0,0,0,0,0,0,0,0,0,4,0,25,0,0,0,0,0,1,0,0,0,0,0,0,0,0,0,0,0,0,0,0,0,0,0,0,0,0,0,0,0,0,0,0,0,0,0,0,0,0,0,0,0,0,0,0,0,0,0,0,0,0,0,0,0,0,0,10,2,0,0,0,3,0,1,4,0,0,0,0,1,0,0,0,0,0,0,0,0,0,0,0,0,0,0,0,0,0,0,0,0,0,0,0,0,0,0,0,0,0,0,0,1,0,0,0,1,1,0,0,0,0,0,0,0,0,0,0,0,0,0,0,0,0,2,0,13,0,0,1,0,0,0,0,0,0,0,0,3,0,1,0,0,6,0,0,3,0,0,0,0,0,0,0,3,0,0,0,1,0,3,0,0,2,0,1,0,3,0,0,0,7,0,0,0,5,0,0,0,0,0,5,1,2,0,0,1,1,2,5,2,0,0,2,0,0,0,1,6,3,5,0,2,0,0,3,5,0,0,6,5,3,0,4,0,0,4,3,0,2,0,1,0,3,5,5,0,0,2,5,0,0,5,5,3,4,8,0,0,0,2,5,4,0,0,5,5,2,0,0,8,1,4,4,11,0,0,5,3,0,7,0,0,11,9,6,1,0,0,2,1,1,1,18,2,7,1,4,0,0,0,6,5,3,6,7,0,7,4,1,6,2,10,8,4,6,6,0,0,2,7,1,2,0,2,10,0,2,4,0,8,1,0,3,1,1,0,7,2,0,5,7,9,1,8,3,7,7,9,5,7,5,0,10,10,0,3,0,4,7,4,5,7,0,6,7,10,0,6,3,7,14,8,3,0,0,7,0,8,19,6,11,0,10,8,9,4,8,10,6,4,17,6,1,2,4,0,0,0,0,0,10,7,7,5,4,10,0,8,4,8,14,6,5,9,3,5,11,8,3,0,0,7,7,3,3,9,2,3,0,0,9,6,4,10,5,6,23,6,11,1,5,7,4,0,9,2,8,7,10,3,4,0,5,1,5,4,7,3,4,1,3,14,4,30,0,0,0,0,0,0,0,45,0,0,0,0,0,0,7,12,0,0,0,0,0,0,0,0,0,0,0,0,0,0,0,0,0,0,0,0,0,0,0,0,7,0,0,0,3,0,8,0,5,0,4,3,0,3,0,0,0,0,0,0,3,0,0,0,0,0,0,0,0,15,0,1,14,0,0,2,3,0,1,0,0,0,0,0,9,0,0,0,0,0,0,0,0,0,0,0,0,0,0,0,0,0,0,0,0,0,5,0,0,0,0,1,0,0,0,0,0,0,0,0,2,0,1,0,0,0,0,0,0,2,0,1,0,0,0,0,1,0,0,3,0,3,0,0,0,0,3,0,0,2,0,2,0,0,2,1,3,0,0,0,0,0,2,0,0,0,0,2,0,0,4,0,2,3,1,0,0,0,4,0,0,0,0,0,0,0,3,0,0,0,1,0,3,0,0,0,0,0,0,0,2,0,0,0,0,5,1,0,0,0,0,0,0,2,3,0,3,0,2,10,3,5,0,0,4,2,0,0,0,2,0,2,0,2,10,5,0,8,4,0,1,8,6,3,0,6,5,0,5,1,5,7,5,5,6,2,4,0,10,5,0,4,7,5,0,7,8,5,0,3,0,3,6,9,10,0,2,10,0,7,0,0,8,6,3,0,5,5,7,6,13,4,9,0,0,0,11,7,15,5,7,5,0,5,14,1,8,8,8,6,6,0,7,5,3,5,7,5,1,0,0,12,6,3,4,4,0,3,1,4,10,6,0,4,9,11,0,3,12,6,9,0,22,10,0,10,7,3,6,8,0,1,7,5,5,8,0,2,18,1,5,0,6,0,4,0,0,58,7,6,6,0,15,5,0,7,5,7,2,2,4,10,1,3,9,0,15,0,0,1,0,0,0,0,0,0,0,0,5,3,0,0,0,0,0,0,0,0,5,0,4,0,0,0,0,0,0,0,0,0,0,9,0,0,0,0,0,0,0,0,0,0,0,0,0,0,0,0,0,0,0,0,0,3,3,2,0,0,5,0,0,7,1,0,0,2,0,0,3,0,0,10,0,0,0,0,0,0,0,0,0,0,0,0,0,0,0,0,0,0,0,0,0,0,0,0,0,0,0,0,0,0,0,0,0,0,0,0,0,0,0,0,0,0,0,0,0,0,0,0,0,0,6,0,0,0,0,0,0,0,0,0,0,6,3,0,0,0,0,0,3,0,0,0,3,0,0,0,0,0,0,0,0,0,0,0,0,0,1,0,0,0,2,5,0,0,0,3,0,3,0,0,0,0,0,5,0,4,0,0,0,0,4,0,0,0,0,0,0,1,3,0,2,0,0,0,0,0,0,0,1,0,6,3,0,0,0,1,0,0,6,0,0,2,1,3,0,0,0,2,0,1,0,0,0,5,1,3,0,1,0,5,0,0,0,2,2,0,0,0,2,0,0,0,2,0,0,1,0,2,0,0,0,6,5,0,5,0,0,0,1,4,0,0,0,0,0,1,1,5,6,0,0,0,1,0,6,3,5,0,0,1,0,10,5,5,0,0,1,0,0,5,0,0,5,0,0,2,4,3,7,0,0,11,0,0,2,0,2,0,0,0,0,5,0,5,2,5,0,0,0,1,0,0,3,9,5,0,4,0,0,0,6,4,6,0,25,6,6,3,5,3,10,0,0,0,0,0,5,3,0,20,0,10,5,1,2,0,0,4,2,3,5,0,3,1,4,2,1,3,2,6,10,2,0,0,0,4,0,5,2,8,5,0,4,0,0,0,0,0,5,5,4,0,1,3,0,0,0,2,0,2,0,2,1,5,3,8,4,8,7,0,5,0,6,0,11,10,3,0,6,0,2,2,10,17,13,4,3,4,5,7,2,10,0,5,1,7,0,0,0,5,0,0,2,13,0,5,10,5,10,40,3,2,10,5,8,5,3,7,6,3,2,8,0,0,0,0,5,6,6,6,7,2,6,4,10,0,0,0,10,2,10,5,4,4,5,7,8,2,4,9,3,0,7,7,2,4,9,4,5,7,3,1,5,12,0,5,40,5,7,1,5,4,4,2,4,3,2,3,10,4,7,3,14,1,6,5,5,0,4,4,3,0,4,0,0,2,6,12,3,3,6,5,0,1,1,4,0,0,10,17,3,3,2,4,0,3,7,6,0,0,5,6,10,5,5,6,2,19,5,6,1,3,8,1,8,20,5,5,7,6,12,0,2,1,14,3,3,1,0,2,9,13,6,2,0,2,5,0,10,5,9,0,3,3,6,0,4,7,6,3,6,9,3,17,2,6,0,5,7,4,3,2,8,34,5,2,0,12,2,3,1,5,0,1,0,4,8,7,5,3,3,5,8,3,4,4,4,1,6,3,4,2,2,2,0,0,3,2,2,4,3,2,0,2,6,0,0,2,3,0,2,4,3,4,2,3,5,0,6,7,1,5,0,0,0,0,0,0,0,3,1,0,0,0,0,0,0,0,0,0,0,0,0,0,0,0,4,0,0,0,0,0,0,0,0,0,0,0,0,0,0,0,0,6,0,0,0,0,8,0,0,0,0,0,3,0,0,0,0,0,0,0,0,2,1,0,1,4,0,0,0,2,0,2,6,10,1,0,4,0,0,0,0,0,0,0,0,0,0,0,0,0,0,1,8,0,0,0,0,0,0,0,0,0,0,0,0,0,0,0,0,0,0,0,0,0,0,0,0,0,0,0,0,0,0,0,0,0,0,2,9,0,0,0,1,0,0,0,0,0,0,0,1,3,0,0,0,2,0,0,1,0,0,5,0,0,0,5,0,5,7,1,0,0,0,0,7,4,0,1,0,6,2,3,1,1,0,0,1,0,0,0,0,0,4,0,2,3,0,15,1,0,2,0,0,3,6,0,2,0,0,5,2,8,0,2,5,2,0,0,0,3,2,3,3,16,0,0,10,2,0,22,0,0,6,0,0,6,2,0,7,0,0,3,4,6,0,0,3,13,8,0,0,0,0,4,0,2,0,5,4,4,0,0,6,3,0,1,9,0,5,0,2,4,0,0,2,1,6,10,5,4,0,4,10,3,0,0,0,0,20,10,1,0,5,8,5,12,6,1,0,0,0,5,8,5,4,8,6,5,12,4,2,11,4,4,5,5,11,0,7,0,13,10,6,5,4,18,5,7,5,7,7,9,4,1,3,5,10,10,0,4,6,6,11,9,2,5,13,4,7,9,13,5,14,0,5,6,5,8,6,8,4,2,5,3,0,1177,2,3,4,7,13,15,6,2,4,0,7,3,0,8,4,15,7,8,12,0,5,2,3,3,3,2,5,1,6,15,2,3,7,1,3,9,2,1,9,4,0,2,0,2,5,17,16,9,1,2,0,0,3,9,0,0,0,0,0,0,4,0,0,0,0,0,0,0,0,0,0,0,0,2,2,0,3,0,0,0,0,0,0,0,0,0,0,0,0,0,0,0,10,0,0,0,0,0,0,0,14,81,0,2,2,0,0,1,8,3,3,7,0,6,0,3,0,0,0,10,0,0,8,2,2,0,0,0,0,0,0,0,0,0,0,0,0,0,0,0,0,1,0,0,0,0,0,0,0,0,0,0,0,0,1,0,0,0,7,1,1,0,0,0,0,1,0,0,5,1,0,0,5,2,6,0,10,9,0,0,0,3,0,1,0,1,0,5,14,0,0,0,0,1,0,7,0,1,0,0,1,0,2,0,2,1,0,8,0,1,0,7,0,0,0,0,3,0,1,2,0,1,0,0,1,0,0,3,2,3,4,9,1,0,0,2,3,0,0,2,4,0,9,0,4,5,2,0,4,2,7,9,0,3,0,1,4,0,3,1,8,3,2,2,2,4,2,11,3,3,0,7,5,2,6,0,0,0,0,6,3,0,7,1,0,3,0,0,9,8,0,4,4,0,0,4,6,2,0,0,0,1,0,5,4,0,5,13,0,5,7,10,0,4,5,0,7,6,2,7,0,0,6,1,5,1,4,5,0,4,4,6,0,3,5,6,0,7,0,2,5,5,0,3,0,3,3,12,0,0,1,4,4,14,0,4,13,4,4,0,0,4,1,0,3,0,5,0,14,1,5,1,1,12,0,12,0,0,11,4,2,0,12,3,0,6,0,0,12,0,7,5,10,2,11,0,5,9,0,0,0,0,0,0,17,11,1,5,0,11,4,10,5,3,5,0,2,3,9,1,6,4,10,5,3,0,7,2,6,7,7,0,7,12,8,0,4,15,9,0,6,2,5,4,8,5,5,5,0,10,4,12,2,14,0,3,4,3,13,4,4,2,15,2,0,2,6,9,6,0,2,1,3,5,2,8,2,1,4,0,0,0,3,0,0,0,0,0,0,0,0,0,0,28,0,12,5,0,0,0,0,0,0,0,0,0,0,0,0,0,0,0,0,0,0,0,0,0,0,0,0,0,0,0,3,0,0,0,2,0,10,0,0,5,0,4,0,0,0,12,0,0,0,2,4,0,0,0,0,3,0,1,0,0,0,0,3,0,0,0,0,0,0,0,0,0,1,0,0,0,0,0,1,0,0,0,0,0,1,0,0,0,0,0,0,1,0,0,0,2,0,0,0,0,0,1,0,0,1,1,3,0,0,0,0,1,0,0,1,0,0,2,7,1,0,0,2,0,0,0,0,2,0,0,0,4,5,0,3,2,2,3,0,4,0,3,0,0,0,13,0,3,0,3,5,3,0,0,9,4,0,0,1,0,2,1,7,0,2,1,3,0,0,4,0,0,0,12,1,14,4,1,0,5,6,0,8,6,0,6,3,0,5,0,0,0,0,14,0,1,0,0,5,5,0,5,5,0,0,2,0,5,0,5,0,3,0,0,2,2,4,6,2,5,6,6,2,0,4,0,7,5,0,3,5,10,6,5,5,0,1,6,6,0,4,10,0,5,1,5,6,2,4,5,15,8,6,2,6,1,4,6,4,3,5,2,0,8,5,10,4,3,0,15,13,6,5,7,5,7,5,3,5,7,5,6,15,12,11,2,5,6,4,3,5,6,12,4,5,6,15,15,4,3,1,12,0,6,8,3,0,10,8,0,7,19,9,0,5,5,14,1,1,3,0,4,4,4,7,10,0,4,7,4,5,5,10,8,3,0,13,0,2,0,0,1,10,2,1,12,4,4,5,0,11,8,1,0,0,0,0,5,10,3,1,0,0,0,30,44,0,0,0,0,0,0,0,0,0,0,0,35,30,0,0,0,0,0,0,0,0,0,0,0,0,0,0,0,0,0,0,0,0,5,0,0,0,0,0,4,0,0,0,0,0,0,0,0,2,0,0,0,0,0,0,0,0,0,2,0,24,11,2,8,0,0,0,3,6,0,3,0,0,0,0,0,0,0,0,0,2,0,0,0,0,0,0,0,0,0,0,0,2,0,1,0,0,0,0,0,0,4,0,0,0,0,0,0,0,0,0,0,0,0,13,0,0,0,0,5,0,0,0,0,4,0,0,0,0,0,0,0,0,3,0,5,0,2,0,0,0,0,0,1,0,1,6,2,0,1,0,0,1,3,0,1,10,2,7,0,1,3,0,0,0,0,0,6,0,10,2,0,4,5,2,0,12,3,9,0,0,3,0,2,3,9,11,3,0,3,5,0,6,4,3,0,1,6,2,3,6,6,0,4,4,0,5,7,2,0,0,1,3,0,9,9,4,5,1,14,4,1,4,7,2,2,6,4,10,0,5,10,3,4,7,0,0,11,1,7,0,4,9,2,3,3,0,7,10,2,2,3,5,0,5,5,4,0,10,9,4,4,11,15,0,6,5,9,9,4,1,12,13,0,4,3,4,2,4,4,0,13,0,0,5,5,6,0,0,5,0,14,2,0,7,11,11,0,4,0,7,0,14,4,0,6,0,7,11,0,14,11,9,0,0,14,6,8,8,0,0,0,10,0,2,0,2,2,0,3,15,10,0,7,15,5,3,3,0,0,1,14,14,0,0,0,0,0,0,0,0,7,0,0,1,0,0,0,0,0,0,0,0,0,1,0,0,0,0,0,0,0,0,0,36,0,0,0,0,0,0,0,0,4,0,0,0,0,0,0,0,0,0,4,0,0,0,0,0,0,0,0,0,0,0,0,0,0,0,5,1,0,0,0,0,5,0,0,8,1,0,0,0,0,0,4,1,0,0,0,1,1,0,1,1,1,0,0,9,1,0,0,0,0,0,0,0,0,0,0,0,0,0,0,0,0,3,0,0,0,0,2,0,0,0,0,0,0,0,0,0,3,0,0,0,0,0,0,0,0,0,0,0,0,0,0,0,0,0,0,1,0,0,0,0,0,0,0,1,0,0,0,0,0,0,0,1,0,2,0,0,2,0,3,0,0,0,0,2,0,0,1,0,0,0,0,0,0,0,0,0,2,4,0,0,3,0,3,0,0,0,2,3,0,5,0,0,0,0,0,14,8,7,0,0,0,5,0,0,5,0,6,0,1,1,0,0,4,0,0,7,0,0,1,5,0,0,0,2,0,7,0,0,0,0,0,0,0,0,4,2,2,0,0,4,0,7,1,0,0,0,0,5,0,4,0,2,0,7,0,0,0,2,0,0,3,0,0,1,1,1,0,0,0,0,0,0,0,0,3,0,2,0,1,0,6,1,1,2,5,0,2,0,0,0,0,0,3,0,0,0,0,3,0,0,0,5,0,3,0,1,0,0,1,0,1,0,0,0,0,0,4,4,14,5,0,5,4,0,0,2,0,4,0,4,0,9,0,0,0,7,0,7,4,0,1,7,5,0,5,6,5,0,8,0,5,0,6,0,0,0,0,0,0,2,0,5,0,5,0,1,0,11,0,4,2,5,0,1,0,7,1,7,0,5,0,2,5,3,4,11,0,6,0,3,2,0,4,0,0,15,4,0,0,0,0,3,5,0,3,0,10,2,3,4,7,0,0,4,35,6,8,8,0,8,2,5,0,4,7,4,0,4,2,0,5,5,0,0,0,5,1,6,6,5,2,0,0,8,0,3,15,5,0,2,3,3,6,0,8,0,6,0,2,0,6,0,4,16,22,5,0,3,2,4,7,5,0,7,4,5,2,14,6,5,3,0,7,6,7,5,3,10,2,6,7,1,2,0,0,5,3,5,15,0,4,14,1,15,5,7,10,5,5,4,0,0,2,6,3,6,0,0,0,4,7,6,6,3,0,3,11,8,6,8,5,8,10,5,0,7,2,3,10,0,4,7,13,5,6,8,10,7,6,5,2,7,9,3,8,6,10,3,7,8,1,7,10,7,5,7,0,8,1,1,12,3,3,8,18,4,0,6,0,4,4,4,6,8,4,3,5,0,5,4,5,5,4,2,2,4,0,6,9,5,15,12,3,0,3,7,8,1,8,0,0,2,3,4,5,3,2,8,5,5,2,1,4,2,6,3,8,0,14,2,0,0,3,4,2,0,0,0,0,0,0,0,0,0,0,0,0,0,0,0,0,0,0,0,0,0,0,0,0,0,0,0,0,0,10,20,0,0,2,0,0,0,0,0,0,0,0,0,0,0,0,0,0,0,0,0,0,0,0,3,0,3,0,0,0,0,0,0,0,0,0,0,0,0,13,4,0,0,7,3,1,3,2,0,0,0,0,0,0,0,0,0,0,0,0,4,8,0,0,0,0,0,0,0,0,0,0,0,0,0,0,0,0,0,0,0,0,0,0,0,0,0,0,0,0,0,0,0,0,0,0,0,0,0,5,0,0,0,0,0,0,0,0,0,0,2,0,0,0,0,0,0,0,0,0,0,0,0,0,0,0,3,0,0,0,1,0,0,1,0,0,1,0,0,1,0,0,0,1,0,0,1,0,4,1,0,0,0,0,0,0,0,0,0,1,0,6,4,6,0,0,0,2,2,1,0,5,0,1,0,0,0,1,0,0,0,3,9,0,5,12,0,3,2,0,0,1,3,0,0,0,2,0,5,1,13,4,2,0,5,6,3,0,1,6,5,1,1,1,0,10,7,6,10,5,5,5,1,5,18,5,7,5,1,5,10,5,0,5,1,2,13,1,5,0,0,0,2,0,0,0,0,7,2,5,0,4,5,6,9,0,0,0,5,5,10,7,13,4,5,20,3,1,6,0,7,5,10,1,5,6,13,3,0,0,0,1,6,0,7,2,4,0,0,10,0,5,2,12,0,10,0,5,10,1,3,0,8,0,0,0,10,5,12,7,0,5,5,13,4,12,10,0,5,6,0,5,8,4,19,9,10,2,3,6,2,6,0,7,3,12,0,0,0,0,13,8,1,1,8,8,14,0,14,3,8,13,3,10,7,7,9,4,10,5,13,4,7,11,9,6,11,3,3,7,3,5,7,0,21,2,5,1,4,0,16,15,5,5,7,19,3,2,0,0,0,1,1,30,0,0,0,30,25,30,0,0,0,3,4,7,6,14,0,0,0,0,0,0,0,0,0,0,0,0,0,0,0,0,0,0,0,0,0,0,0,5,0,0,0,0,0,0,0,0,0,0,12,0,0,0,0,0,0,0,0,0,0,0,0,0,0,0,0,0,2,0,0,0,0,0,5,0,4,0,1,6,0,0,0,1,0,0,5,0,0,0,0,18,1,0,3,1,1,0,0,1,0,0,0,0,0,0,0,0,0,0,3,0,0,0,0,0,0,0,0,1,0,0,0,0,0,0,0,0,0,4,14,0,11,0,0,0,0,1,0,0,0,0,0,0,0,0,4,7,0,0,0,0,0,0,0,0,1,0,0,0,6,1,2,1,0,0,0,1,0,0,0,0,0,0,7,0,0,0,0,1,1,0,0,0,4,1,0,0,6,2,6,0,2,9,2,2,0,1,1,0,0,7,0,0,4,0,0,0,0,2,1,0,0,0,1,9,3,2,3,2,4,0,1,0,11,0,4,0,1,1,3,7,4,5,10,1,0,0,5,0,4,13,0,0,6,5,0,5,0,9,5,0,0,4,6,5,5,0,0,0,5,3,0,0,6,11,5,2,0,5,0,4,8,1,0,0,7,0,12,3,5,0,9,5,5,0,17,0,6,8,6,0,0,5,9,6,0,0,0,0,5,6,4,7,0,0,3,1,2,9,1,6,6,3,0,10,0,9,2,0,0,4,2,0,7,6,2,2,6,0,5,0,1,0,2,10,1,11,4,11,6,0,6,2,5,0,5,0,0,5,3,1,0,8,5,9,6,1,5,12,12,5,3,0,8,5,8,16,3,14,9,14,8,5,16,0,12,6,7,2,0,12,0,7,6,6,5,1,9,6,5,0,14,0,4,16,8,1,4,0,6,1,12,3,7,10,1,13,0,0,4,0,4,0,11,0,0,18,1,0,0,0,0,0,0,0,0,0,1,7,12,2,0,11,0,0,0,0,0,0,0,0,0,0,0,6,0,0,0,0,0,0,0,0,0,0,0,0,0,0,0,0,0,0,3,15,0,0,0,0,0,0,0,0,0,2,0,0,0,0,0,0,0,20,8,18,0,0,0,0,0,3,0,0,0,0,0,0,6,0,3,14,0,0,0,0,2,0,2,2,5,0,0,0,0,0,0,0,0,8,0,0,0,0,0,0,0,0,0,0,0,0,0,0,0,0,0,0,0,3,0,0,0,0,0,0,0,0,1,0,0,0,0,0,0,0,0,0,0,0,0,0,0,0,0,0,0,0,0,0,1,0,0,0,1,0,1,0,0,0,0,1,0,0,0,0,2,0,1,0,2,5,1,0,1,0,0,2,0,0,2,0,0,0,0,0,0,2,3,0,0,2,0,0,3,0,0,5,0,6,0,7,0,0,0,4,5,0,0,0,4,0,2,0,0,0,0,1,0,6,16,11,1,4,4,5,0,0,2,0,5,0,2,0,4,0,0,0,10,11,0,0,5,1,0,3,0,0,7,9,4,2,0,6,0,2,5,6,4,0,0,5,0,4,0,5,2,5,2,6,3,0,5,3,6,2,0,5,0,3,7,5,0,4,0,0,5,2,9,0,1,0,5,9,9,0,9,6,9,0,4,0,5,2,0,1,6,5,0,0,2,1,4,0,0,0,2,5,0,0,0,8,0,2,0,5,3,6,0,7,4,0,15,5,5,4,12,0,5,3,1,0,0,2,2,1,1,2,4,5,4,10,9,0,5,4,0,2,9,11,15,0,0,0,0,10,6,10,14,0,5,0,3,6,5,11,2,4,3,6,3,6,6,0,0,8,6,8,2,7,9,7,5,0,0,3,7,3,9,2,8,6,5,6,18,0,4,8,19,3,5,0,5,15,3,0,8,22,12,12,10,4,1,3,1,8,9,8,5,5,3,6,4,4,14,0,5,0,0,9,0,0,1,3,0,0,0,0,3,52,0,0,0,8,1,0,0,0,0,0,0,0,0,0,0,0,0,0,0,0,0,0,0,0,0,0,0,0,0,0,0,0,0,0,0,0,0,0,0,0,15,0,5,0,0,0,0,0,0,0,0,0,0,0,0,0,0,12,5,0,0,0,1,0,0,0,0,0,0,0,0,0,0,0,0,0,0,0,0,0,0,0,0,0,0,0,0,6,0,4,0,0,0,0,0,2,0,0,0,0,40,0,0,0,0,0,0,0,0,0,0,0,0,0,0,0,0,0,0,0,0,0,0,0,0,0,0,0,0,0,0,0,0,0,2,0,0,0,0,0,3,0,0,0,0,0,0,0,0,0,0,0,0,0,0,0,0,0,0,0,0,0,0,0,0,0,0,0,1,0,0,0,0,0,0,0,0,0,0,0,0,2,8,0,0,0,0,0,0,0,0,0,0,0,0,0,0,0,0,0,0,0,0,0,0,0,0,0,0,0,0,0,0,0,0,0,1,0,0,0,0,4,12,2,7,3,0,1,0,0,0,0,0,0,2,0,0,0,11,8,0,0,0,0,0,1,0,0,0,3,0,0,0,0,0,0,0,0,0,3,2,0,0,0,0,0,3,0,0,0,1,0,0,0,0,0,0,2,2,0,0,0,0,0,0,0,0,0,0,0,2,0,0,0,0,0,0,0,0,0,0,0,0,0,3,0,1,0,1,0,0,0,0,0,3,0,0,0,3,0,0,0,0,0,0,0,4,0,1,0,0,0,0,0,0,0,5,4,1,5,0,3,0,0,0,0,0,0,0,3,0,0,4,3,0,6,0,0,0,0,0,8,4,5,0,0,7,0,0,0,0,0,0,1,0,0,0,0,0,9,2,0,0,0,5,0,0,4,0,0,0,4,0,6,0,0,0,2,6,6,0,2,3,0,5,0,0,1,5,9,0,3,0,0,12,0,0,6,4,3,0,0,0,3,2,0,2,0,2,2,0,0,0,11,0,2,0,6,1,9,6,3,0,5,5,3,0,10,0,5,7,0,0,0,1,0,4,0,0,0,12,6,0,7,9,7,7,0,17,0,4,3,0,3,0,6,5,0,7,5,1,0,1,0,5,0,0,8,0,5,7,3,3,4,0,18,7,3,10,0,0,4,1,0,0,1,0,5,7,15,0,2,3,0,9,0,5,0,0,4,2,2,0,2,3,3,0,3,0,7,1,0,0,0,1,18,14,0,0,2,0,0,0,0,0,0,0,0,0,0,30,0,0,0,30,0,20,0,0,0,0,0,0,0,0,5,0,0,0,0,0,0,0,0,0,0,0,0,0,0,0,1,2,0,0,0,0,0,0,0,0,0,0,0,0,0,0,0,0,0,15,0,0,0,0,0,2,0,0,1,0,0,0,0,0,0,0,0,4,0,0,11,5,3,2,0,8,0,6,5,0,0,0,0,0,0,0,0,0,0,0,0,0,0,0,0,0,0,0,0,0,0,0,0,0,0,0,0,0,0,0,0,0,0,0,0,0,0,0,0,0,0,0,0,0,0,0,0,0,0,0,7,5,0,0,0,3,0,0,0,0,0,1,0,0,0,0,0,0,1,0,0,1,0,0,0,1,0,0,0,1,0,1,0,0,2,0,0,0,0,2,0,5,0,0,0,2,0,0,0,4,0,0,0,0,5,0,0,0,0,0,0,0,3,0,0,0,15,0,0,0,7,0,0,0,0,0,0,7,0,0,0,1,2,2,0,0,4,1,1,0,0,0,0,2,1,4,8,0,1,0,3,0,0,0,1,5,0,0,0,0,4,7,0,2,0,0,5,0,0,0,2,3,0,6,0,0,0,4,0,5,2,0,7,0,4,2,5,0,0,0,1,0,0,0,3,0,0,0,4,5,1,1,0,4,4,5,5,3,2,0,0,0,2,2,0,0,6,0,0,0,6,0,0,0,0,0,5,5,0,3,3,0,10,13,7,1,6,4,4,2,0,11,4,13,4,1,0,2,1,0,1,7,7,9,12,0,4,0,2,5,4,5,15,5,0,2,4,8,5,9,5,14,0,9,10,5,9,0,0,0,0,4,6,8,8,3,0,6,0,0,0,13,5,0,0,0,5,10,19,8,4,14,5,4,3,8,0,7,7,14,0,9,2,0,4,0,3,0,5,0,7,0,13,4,5,7,0,0,4,10,0,9,12,3,8,5,5,0,9,5,4,2,1,2,2,12,0,6,2,2,3,4,0,2,0,0,0,7,6,0,0,0,6,0,2,0,0,0,0,0,0,0,0,0,0,0,7,0,0,0,0,0,0,0,0,0,0,0,0,0,0,0,0,0,0,0,6,0,0,0,0,0,0,0,0,0,0,0,0,0,0,0,0,7,4,0,0,0,0,0,0,0,3,0,4,0,0,0,0,0,0,0,0,0,0,0,0,0,11,0,0,5,12,4,0,4,0,0,1,2,0,0,0,5,0,0,0,0,0,0,0,2,0,0,0,0,0,0,0,0,0,0,0,5,0,0,8,0,0,0,0,0,0,1,1,0,1,0,1,0,0,0,0,0,0,2,0,3,0,0,0,0,0,0,3,0,0,2,0,0,0,0,0,0,1,0,1,0,4,0,4,0,0,4,0,0,3,0,0,0,3,0,0,5,2,0,0,0,4,2,0,6,0,0,0,0,0,0,5,0,0,2,0,0,0,5,0,0,0,6,0,4,2,2,6,0,0,4,0,0,3,0,0,6,0,5,2,0,0,9,3,0,0,14,1,9,7,0,0,11,6,6,2,9,1,0,2,0,14,4,4,1,0,1,7,3,12,0,0,3,2,10,0,2,3,5,11,4,0,4,0,0,5,7,1,1,7,6,0,1,0,5,0,22,3,2,1,0,0,1,2,19,0,1,1,3,0,0,5,2,0,7,0,3,9,3,5,2,0,3,7,7,0,5,7,2,0,0,0,2,3,9,0,3,0,4,15,0,3,5,2,10,7,0,7,10,0,4,14,13,0,8,5,7,4,7,5,0,6,6,19,7,7,4,1,16,0,6,0,0,7,14,1,3,5,5,5,9,11,0,4,12,0,5,0,9,6,2,2,2,5,10,0,8,3,0,7,2,6,6,11,10,0,4,12,9,6,14,1,3,0,15,13,6,6,0,15,7,0,8,4,6,3,13,25,7,8,9,6,4,13,16,11,0,2,7,7,4,9,1,14,6,5,4,2,0,0,5,10,4,1,4,4,8,6,16,5,17,4,8,0,0,2,3,0,0,0,0,30,22,0,0,0,0,0,0,0,0,0,0,0,0,0,0,0,0,0,0,0,0,0,0,0,0,0,0,0,0,0,0,0,0,0,0,0,0,0,0,0,0,0,0,0,0,0,0,0,0,0,0,0,5,0,0,0,0,2,10,1,2,4,0,0,0,0,0,0,0,0,0,0,0,0,0,0,0,0,0,2,0,0,0,0,0,0,0,0,0,0,1,0,0,0,0,0,0,0,0,0,2,0,0,1,0,0,0,0,0,2,0,0,1,0,1,0,3,0,5,2,0,0,2,0,0,0,0,7,0,0,0,4,0,0,0,0,0,0,3,2,0,3,0,5,0,0,0,3,6,0,2,2,1,0,0,0,0,3,2,0,0,0,2,0,6,0,0,0,0,0,5,1,0,0,0,1,1,0,0,1,0,7,7,0,6,0,0,7,2,2,12,6,5,12,0,1,1,4,0,7,2,5,0,3,0,5,0,0,5,7,0,6,0,5,0,0,15,11,0,4,0,0,2,11,0,0,0,0,3,12,0,0,3,6,0,6,15,1,6,4,6,10,6,6,2,1,4,4,5,0,4,3,5,1,6,0,3,16,2,2,11,0,7,1,8,12,8,4,2,0,11,0,1,4,0,0,2,11,2,4,12,8,6,11,0,0,0,3,5,5,5,11,2,0,0,9,1,1,0,5,19,28,0,15,0,4,5,16,9,7,11,0,4,0,0,0,14,15,3,0,12,9,14,0,0,4,6,0,1,6,0,5,10,5,14,11,7,0,17,0,4,0,20,8,1,7,2,6,14,8,2,9,2,1,8,9,3,4,3,13,0,0,0,0,5,1,0,0,0,1,1,2,0,0,0,0,0,30,0,0,14,2,0,0,0,0,0,0,0,0,0,0,0,0,0,0,0,0,0,0,0,0,0,0,0,0,0,0,0,0,0,4,0,0,0,0,0,0,0,0,0,0,0,0,0,0,0,0,0,0,6,0,0,0,0,0,0,0,0,2,3,4,1,0,2,0,0,8,0,2,0,6,0,0,0,0,0,0,0,0,1,0,2,0,0,0,0,0,0,0,0,0,0,0,0,0,0,0,0,0,0,0,0,0,0,0,0,0,0,0,0,0,0,0,0,0,0,0,0,0,0,0,0,0,0,0,0,0,0,20,2,4,0,2,0,4,0,7,5,0,4,0,0,12,0,0,3,0,0,4,0,0,0,0,0,0,0,0,2,0,0,1,2,8,0,2,0,7,0,0,6,1,6,3,4,6,1,0,0,2,7,3,7,5,5,7,4,0,0,7,12,2,6,0,0,6,10,0,7,0,0,3,6,0,0,8,3,0,6,9,18,4,7,4,11,4,7,11,9,2,0,3,11,11,10,2,3,12,7,7,0,3,10,8,8,11,3,2,0,0,8,12,9,3,7,6,12,15,0,10,12,5,1,0,15,0,2,9,4,9,9,16,8,5,18,0,16,9,1,10,12,7,11,2,9,4,5,2,5,12,8,4,5,14,3,0,7,0,0,2,1,0,15,0,0,0,0,0,0,0,0,0,0,0,7,0,0,0,4,0,0,0,0,15,0,0,0,0,0,0,0,0,0,0,0,0,0,0,0,0,0,0,0,0,0,0,0,0,0,0,20,0,0,0,0,0,0,0,0,0,0,0,0,1,0,0,0,0,0,0,2,0,0,3,0,0,3,0,0,0,2,1,0,0,0,5,4,2,1,2,2,6,0,0,0,0,4,4,7,3,0,0,4,4,0,5,0,1,0,5,5,0,2,0,0,0,0,11,0,0,7,0,5,0,0,2,8,7,0,2,8,0,2,1,0,2,0,0,1,10,1,10,0,13,0,13,8,8,5,0,2,0,15,13,7,0,12,8,0,12,0,0,0,0,4,2,13,0,0,7,1,14,13,12,7,4,1,0,0,2,7,8,12,3,2,9,11,5,11,0,12,0,3,0,1,11,7,0,2,5,0,7,5,7,11,12,2,8,3,12,15,2,9,20,2,4,4,19,4,6,21,4,0,0,15,1,11,17,4,7,8,0,5,6,1,13,0,35,0,0,0,0,0,0,0,0,0,0,0,0,0,0,0,0,0,0,0,0,0,0,0,0,0,0,0,0,0,0,0,1,0,0,0,4,0,0,0,0,6,7,0,2,0,1,0,0,0,3,0,0,0,4,8,3,0,0,0,0,0,0,0,0,0,9,0,0,0,0,0,0,0,0,0,0,0,0,0,0,0,0,0,0,0,0,7,5,0,0,0,0,0,0,0,1,0,0,0,0,0,0,0,0,0,0,0,0,0,0,0,0,0,0,0,0,1,0,0,0,0,0,0,0,0,0,0,0,0,0,0,0,0,0,0,0,0,0,0,0,0,0,0,0,0,0,0,0,0,0,0,0,0,1,0,1,0,0,0,0,0,0,0,3,5,0,8,0,0,0,0,0,1,0,0,0,0,0,0,0,5,0,0,0,1,0,0,0,0,0,0,0,0,0,0,0,0,0,0,0,0,0,0,0,0,0,0,0,0,0,0,0,0,0,0,0,0,0,3,1,0,0,1,0,0,0,0,3,0,1,0,1,0,0,0,2,0,0,3,0,0,7,0,0,3,2,0,0,0,0,0,0,0,3,0,0,0,2,5,0,0,0,0,0,0,3,4,0,0,2,2,2,0,0,0,0,6,1,3,0,5,0,1,0,0,0,0,0,0,3,0,0,0,1,0,6,25,2,0,5,6,5,3,7,0,2,6,0,0,6,7,0,4,0,4,4,0,4,5,3,0,0,0,1,0,0,0,4,0,2,0,0,0,0,0,2,0,0,5,4,0,3,0,4,0,0,0,3,0,0,0,4,0,0,0,0,0,7,0,3,5,1,1,7,0,0,0,1,2,3,0,5,2,8,0,1,0,1,0,0,6,2,2,0,4,3,8,0,3,0,6,7,1,0,7,4,2,2,6,0,5,6,0,2,0,4,8,9,10,7,0,1,3,2,0,14,6,12,1,0,6,2,0,11,0,0,12,2,2,5,2,0,3,2,12,5,9,0,0,4,4,0,0,0,0,7,6,8,0,3,1,0,3,11,0,4,10,0,16,7,3,8,1,5,3,3,0,4,0,7,2,3,0,12,0,16,0,5,5,0,2,15,1,6,0,0,5,0,6,0,6,7,0,3,0,2,2,13,4,0,0,4,0,0,18,0,2,4,0,0,8,4,0,17,15,16,14,5,0,0,13,6,3,15,2,8,4,0,0,0,0,0,0,0,0,0,0,0,0,0,0,0,0,0,0,0,0,1,0,0,0,0,0,612,0,0,0,0,0,0,0,0,0,0,0,0,0,5,0,25,0,0,0,0,0,0,0,0,0,0,0,0,0,0,0,7,0,0,1,13,10,4,0,0,0,4,2,0,0,0,10,0,0,4,2,1,0,0,10,0,1,0,2,0,0,0,0,0,0,0,0,0,0,0,0,0,0,0,0,0,0,0,0,0,0,0,0,0,0,0,0,0,0,0,0,0,0,0,0,0,0,0,0,0,0,0,0,0,0,0,0,0,0,0,0,0,0,1,0,0,0,0,0,0,0,3,0,0,0,0,0,0,0,0,0,0,0,0,0,0,0,0,0,0,0,0,0,0,0,0,0,2,0,0,0,0,0,17,3,3,1,0,0,0,0,0,2,0,1,0,0,0,2,0,2,0,0,2,0,0,0,0,0,0,0,0,0,2,0,0,0,0,2,0,3,0,0,0,3,0,0,0,0,0,4,0,0,0,0,1,0,3,3,0,0,0,10,3,0,0,1,0,0,4,4,0,0,0,1,0,0,0,0,0,0,0,0,4,0,0,0,2,0,4,0,0,0,2,5,0,0,0,5,1,0,1,0,2,1,0,4,1,8,0,0,2,8,9,0,0,3,1,0,1,0,13,1,9,0,5,5,0,0,0,0,0,8,5,0,0,7,0,6,0,1,0,6,10,3,1,5,9,1,3,2,8,1,3,45,5,8,0,2,3,11,0,9,1,0,0,0,9,8,11,5,12,0,5,3,0,5,0,7,4,7,1,0,2,11,2,5,7,10,1,0,2,11,6,7,0,12,0,10,4,4,0,2,5,0,12,7,0,9,2,12,6,11,10,0,7,7,52,11,3,10,5,15,0,0,9,0,4,11,1,6,3,5,11,0,0,8,6,3,6,3,7,0,7,1,10,5,0,5,0,5,21,5,5,8,10,12,9,2,4,3,10,15,4,7,3,14,10,3,0,0,0,15,0,0,7,0,3,3,12,0,0,5,0,0,0,0,0,0,9,0,0,0,0,0,0,0,0,0,0,0,0,0,0,7,0,0,0,0,0,0,0,0,0,0,0,0,0,0,0,0,0,0,0,0,0,0,0,0,0,0,0,0,0,0,0,0,0,0,0,0,2,0,0,0,0,0,4,15,4,5,0,1,20,1,0,8,0,0,0,0,0,0,0,0,0,0,0,0,0,0,0,0,0,0,0,0,0,0,1,0,0,0,0,0,0,0,0,0,0,0,0,0,0,2,0,0,0,0,0,0,0,0,1,0,0,0,0,0,0,1,0,0,3,0,0,0,0,0,0,0,0,0,0,3,0,0,0,0,0,0,0,0,0,0,0,1,0,2,0,0,0,0,0,1,0,0,0,1,0,0,0,0,1,1,0,1,0,0,0,0,0,0,0,0,0,0,1,0,0,0,2,0,0,0,0,0,0,2,0,2,0,0,0,3,0,3,0,0,0,0,0,0,0,1,0,3,0,0,3,0,4,0,4,0,0,0,0,0,0,0,5,0,4,0,0,4,0,2,0,2,0,0,0,1,3,0,2,4,1,1,0,6,2,0,0,1,0,3,0,8,2,0,6,3,2,6,0,2,3,2,0,0,0,5,0,2,2,3,6,0,4,3,2,0,0,5,2,3,0,5,2,2,2,0,0,12,3,2,0,0,7,0,4,4,0,2,7,0,2,2,11,9,0,0,2,3,5,0,6,2,5,5,0,4,0,1,5,9,5,5,0,6,6,5,0,3,0,1,0,0,8,5,0,11,13,0,1,15,6,4,8,2,0,16,13,6,0,0,0,0,12,1,10,3,3,0,2,11,11,0,4,11,3,7,0,7,7,7,4,4,1,0,6,7,4,3,4,13,0,4,3,9,21,6,8,16,6,10,3,4,0,10,2,4,0,3,7,12,3,6,17,3,1,0,1,6,4,5,0,1,9,0,0,0,0,0,8,0,0,0,0,0,0,0,0,0,0,0,0,0,0,0,0,0,0,0,0,0,0,0,0,0,0,0,0,0,0,0,0,0,0,0,0,0,0,0,0,0,0,2,3,0,0,0,0,18,10,1,0,0,0,0,8,4,6,0,1,0,0,0,0,0,0,0,0,4,0,0,0,0,0,0,0,0,0,0,0,0,0,0,0,0,0,0,0,0,0,0,0,0,0,0,0,0,0,0,0,0,0,0,0,0,0,0,0,0,0,0,0,0,0,0,0,0,0,0,0,1,0,1,3,0,0,0,3,0,0,25,0,3,0,0,0,1,0,0,0,0,0,0,0,0,0,0,0,0,0,0,0,3,0,0,0,0,0,0,0,0,0,3,0,0,0,0,0,0,0,0,0,0,0,0,1,0,0,0,0,0,0,0,2,0,0,0,0,1,0,0,0,0,0,0,2,0,1,0,0,0,3,3,0,2,3,0,1,2,2,6,6,3,0,0,0,7,0,4,0,3,3,0,3,0,0,0,0,0,5,0,4,0,0,2,0,3,2,0,3,5,0,0,5,1,0,0,0,0,2,5,0,0,6,2,2,0,0,0,4,0,0,0,0,4,0,0,0,5,0,4,0,0,5,0,0,0,5,0,2,6,4,4,5,0,2,7,12,0,3,4,13,10,5,0,4,3,3,6,0,0,4,0,9,5,0,0,9,0,4,0,13,0,0,2,3,9,3,11,4,3,0,0,11,14,3,10,4,5,5,4,0,0,0,6,10,5,0,2,4,0,7,0,13,6,0,0,0,5,0,7,0,2,6,0,3,9,0,8,0,7,7,0,3,0,6,12,9,7,4,0,4,4,9,2,10,0,5,7,12,11,5,0,0,5,5,7,4,0,1,32,0,5,2,6,6,2,15,1,0,0,7,3,2,14,8,4,5,1,3,0,14,0,4,5,7,9,8,0,0,2,2,3,9,1,15,9,9,2,5,8,5,4,1,1,0,15,0,0,0,0,2,0,0,5,3,0,0,0,1,0,0,0,0,0,0,0,0,0,0,0,0,0,0,0,0,0,0,0,0,0,0,0,0,0,0,0,0,0,0,0,0,0,0,0,0,0,0,0,0,0,2,0,10,0,0,0,0,0,2,0,16,0,0,0,0,3,0,0,0,0,0,0,0,0,0,0,0,0,0,0,0,0,0,0,0,0,0,0,0,0,0,0,0,0,0,0,0,0,0,0,0,0,0,0,0,0,0,0,0,0,0,0,0,0,0,0,0,0,0,0,0,0,0,0,0,0,0,0,0,0,0,0,0,0,0,0,0,0,0,0,0,0,0,0,0,0,0,0,0,1,0,0,0,0,0,0,0,0,0,0,0,0,0,0,0,0,1,0,1,0,0,0,0,0,0,1,0,0,0,0,0,0,0,0,0,1,0,0,0,0,0,0,0,0,0,0,0,0,0,0,0,0,1,0,0,0,0,0,0,0,0,1,0,0,0,0,0,0,0,0,0,0,0,0,0,0,0,0,0,0,0,0,0,2,0,0,0,0,0,0,0,0,0,0,0,0,0,0,1,0,0,0,1,0,0,0,0,0,0,0,0,0,0,0,0,3,0,0,0,0,0,0,1,0,0,0,0,0,0,0,0,0,0,0,0,0,0,0,0,0,0,1,0,0,0,0,0,0,1,0,0,0,0,0,0,0,0,4,0,0,1,0,0,1,0,0,0,0,1,0,1,0,0,2,1,0,0,0,0,0,0,3,0,0,0,0,0,0,1,1,0,0,0,0,0,0,0,0,0,0,4,0,0,0,0,0,0,0,0,0,0,0,0,0,0,1,0,4,0,0,0,0,0,5,0,4,0,0,0,0,4,0,1,0,6,0,0,0,0,6,0,0,0,2,0,0,0,0,0,0,2,2,0,9,1,0,0,0,0,2,1,0,0,0,0,0,7,0,0,0,0,0,0,1,0,3,3,3,0,0,0,0,0,2,2,0,3,0,8,0,0,0,0,1,0,0,0,8,1,0,3,7,0,0,0,5,0,2,1,2,7,0,3,7,0,0,2,0,10,2,5,5,0,5,0,0,4,3,8,0,0,0,4,6,4,2,0,0,7,0,0,0,0,7,0,2,2,5,0,0,5,0,0,0,7,2,2,6,0,0,0,5,5,2,0,4,0,3,4,0,0,3,2,0,1,12,6,0,0,0,0,0,0,0,6,2,6,1,0,10,4,3,0,0,2,3,7,0,0,4,10,0,0,10,0,12,6,0,1,0,0,10,8,0,7,0,13,0,4,0,2,5,3,10,0,0,0,13,3,0,0,1,4,2,0,14,2,1,0,3,8,1,6,0,13,8,14,0,0,1,7,4,0,0,0,0,15,0,0,13,5,6,10,1,0,5,0,14,5,0,14,0,0,0,10,0,1,8,3,4,30,0,0,3,4,7,1,0,1,0,0,5,10,4,0,0,2,2,10,8,0,6,9,4,6,1,13,7,0,5,10,9,2,11,1,0,4,2,0,7,10,7,1,2,4,2,0,9,11,0,0,0,0,1,0,0,3,1,3,4,3,0,12,5,0,3,0,0,5,5,4,10,2,2,12,1,7,12,8,14,0,6,0,3,3,2,5,3,1,1,0,1,14,0,1,19,9,12,6,0,6,8,5,8,0,0,7,0,2,0,2,3,4,5,11,0,2,13,0,2,5,4,7,7,0,1,1,0,0,8,5,0,4,0,0,0,2,0,7,1,2,1,0,0,0,0,1,0,5,1,7,8,7,0,0,0,5,1,2,2,0,11,9,16,0,0,20,4,0,0,0,0,0,0,0,0,0,0,0,0,0,0,0,0,0,0,0,0,0,0,0,0,0,0,0,0,0,0,0,0,0,0,0,0,1,0,0,0,0,0,0,0,0,0,0,0,0,0,0,0,6,3,0,0,0,0,0,0,0,2,4,2,0,0,0,0,0,0,0,0,0,0,0,0,0,0,0,0,0,0,0,0,0,0,0,0,0,0,0,0,0,0,0,0,0,0,16,0,0,0,0,0,0,0,0,0,0,0,0,0,0,0,0,0,0,0,0,0,0,0,0,0,0,0,0,0,0,0,0,0,0,0,0,0,0,1,0,0,0,0,0,1,0,3,0,1,0,0,0,2,0,0,0,0,0,4,0,0,0,0,0,0,0,0,0,0,0,0,0,4,0,0,0,0,0,0,0,0,0,0,1,0,2,0,0,0,0,0,0,3,0,0,0,1,0,0,0,0,0,0,0,0,0,1,0,0,0,0,0,0,2,7,0,0,0,0,0,0,0,1,2,5,0,3,0,0,0,3,0,0,0,0,0,0,0,3,0,0,2,0,0,0,2,7,0,0,0,2,3,3,0,0,0,0,1,0,1,4,0,0,2,0,0,0,3,0,1,6,0,0,0,0,4,0,0,0,0,0,1,0,0,0,0,0,0,2,2,0,3,0,0,2,0,0,3,2,9,6,0,0,7,2,0,0,0,6,7,1,10,0,4,0,1,2,2,7,11,0,3,10,1,8,0,7,5,8,1,0,0,8,8,1,4,2,5,2,7,1,2,3,9,6,0,6,6,0,0,0,3,7,10,0,5,0,2,8,5,2,6,6,8,8,0,8,1,0,9,4,3,11,1,0,5,5,3,5,1,0,8,8,4,8,8,0,0,0,11,10,5,0,7,0,11,10,1,11,2,2,3,6,0,5,2,4,7,7,10,3,5,3,0,6,9,9,10,3,6,11,8,8,12,5,6,0,6,9,2,5,3,9,3,5,10,8,4,9,8,3,7,2,9,7,5,3,3,0,0,8,2,0,1,4,8,8,8,5,4,0,5,4,1,3,6,9,0,2,6,1,7,3,15,6,0,2,0,7,3,12,7,4,5,8,7,4,2,0,1,2,0,2,0,8,7,0,15,2,2,4,1,0,16,17,0,0,8,20,4,0,0,0,0,0,0,20,2,0,0,30,0,0,0,25,0,0,0,0,0,0,0,0,0,0,0,0,0,0,0,0,0,0,0,0,0,0,0,0,0,1,0,0,0,0,0,0,0,0,1,0,0,0,0,0,0,0,0,0,0,0,0,0,0,0,0,5,0,0,0,0,9,5,0,0,2,0,0,6,0,2,0,3,0,5,0,13,0,0,0,0,2,0,0,0,0,27,0,0,0,0,0,0,0,0,0,0,0,0,0,0,0,0,0,0,0,0,0,0,0,0,0,0,0,0,0,0,0,0,0,2,0,0,0,0,0,0,0,0,0,0,0,0,0,0,0,0,2,0,0,0,0,0,0,0,0,0,0,0,0,0,0,2,0,0,0,0,0,1,0,0,0,0,0,0,0,0,2,0,1,0,0,0,1,0,0,1,1,2,3,0,0,1,0,0,0,4,1,1,0,0,0,0,2,2,0,3,0,0,1,0,0,1,7,6,0,0,0,0,2,0,6,2,2,2,0,1,2,0,0,7,0,5,0,2,4,0,1,3,4,1,3,4,0,1,1,2,2,2,1,1,6,3,4,0,7,1,0,2,0,2,6,3,8,0,0,0,2,6,7,0,11,2,2,0,8,5,2,0,0,0,0,0,7,0,5,3,11,4,6,9,0,2,5,0,0,0,0,7,5,1,3,0,1,12,9,0,0,10,5,0,8,4,1,3,0,1,10,0,0,0,8,10,0,0,5,7,10,2,1,9,0,0,4,5,3,4,4,10,0,0,2,1,6,0,6,7,1,0,3,5,7,10,4,5,7,1,12,1,13,3,8,5,3,6,0,7,7,6,6,6,4,2,4,9,8,8,5,4,11,4,9,7,0,1,5,11,2,18,10,8,6,12,16,7,0,4,14,18,9,0,18,11,2,2,4,3,11,3,5,9,3,2,8,3,2,3,6,2,2,3,1,0,0,5,0,25,0,30,32,0,0,0,0,0,0,0,0,0,0,0,0,0,0,0,0,0,0,0,0,0,0,0,0,0,0,0,0,0,0,0,0,0,0,0,0,0,0,0,0,0,2,0,0,0,0,0,0,0,2,1,12,21,0,0,0,0,0,0,0,12,0,0,11,0,0,0,13,0,0,0,1,0,0,0,8,0,0,0,3,27,0,0,1,0,0,0,0,0,0,0,0,0,0,0,0,0,0,0,0,0,0,0,0,0,0,0,0,0,0,0,0,0,0,0,0,0,0,0,0,0,0,0,0,0,0,0,0,0,0,0,0,0,0,8,0,0,0,0,0,0,0,0,0,0,0,0,0,0,0,0,0,1,0,0,0,1,0,0,0,0,0,0,1,0,0,0,0,0,0,1,0,0,0,0,0,0,0,0,0,0,0,0,1,0,0,2,3,0,0,0,0,3,0,0,0,0,0,1,1,0,0,0,4,0,1,0,5,0,0,2,0,2,0,1,5,0,0,0,1,0,0,0,4,0,0,0,1,3,6,3,0,3,0,0,0,1,0,2,0,2,0,1,0,3,0,0,0,0,0,0,0,0,6,5,0,1,2,3,1,2,4,0,1,5,5,3,5,0,3,0,1,5,0,2,2,5,3,6,0,6,1,13,2,6,4,0,2,3,5,1,3,0,2,1,6,1,6,5,15,6,3,0,5,7,1,3,6,4,7,1,4,3,6,4,2,7,12,4,6,4,9,6,0,3,0,3,0,0,13,8,5,2,4,6,6,7,2,6,2,4,1,0,8,4,5,8,3,2,7,7,1,25,4,4,6,5,10,3,25,7,5,0,8,0,2,2,3,11,4,1,5,8,3,2,0,8,0,0,4,4,6,8,11,6,5,3,4,25,3,4,0,6,2,0,0,2,5,0,4,4,13,6,25,2,2,3,7,7,2,3,22,11,16,5,9,8,7,15,6,2,10,12,1,6,6,10,12,3,5,25,11,4,9,5,8,5,0,9,3,5,11,3,9,6,7,10,2,2,7,0,3,14,3,8,2,2,2,5,3,2,2,0,2,3,2,8,0,0,0,0,0,0,0,0,6,0,0,0,0,0,0,0,0,0,0,0,0,0,0,0,0,0,0,0,2,0,0,0,0,9,0,0,0,0,0,0,0,0,0,0,0,2,0,0,0,0,0,0,0,0,0,0,0,0,0,0,0,0,0,0,0,5,11,0,14,0,0,0,0,7,0,0,5,0,0,0,5,2,0,0,0,7,2,3,2,0,2,0,0,2,0,0,0,0,0,0,0,0,0,0,0,0,3,0,0,0,0,0,0,1,0,0,0,0,0,0,0,0,0,3,3,2,0,2,0,2,0,0,2,0,0,3,0,0,0,0,0,1,0,0,5,0,0,1,0,0,0,0,0,0,0,0,6,0,0,0,0,0,0,2,0,0,0,1,0,0,0,0,0,3,0,0,0,0,0,0,0,0,0,1,0,0,0,0,0,0,0,0,0,1,0,1,0,0,2,0,5,1,2,0,3,6,2,2,1,3,0,3,2,4,3,0,3,1,3,0,5,5,0,8,5,2,5,0,0,25,4,2,0,3,5,2,5,2,6,0,0,4,4,3,5,2,0,0,6,5,2,5,6,5,0,0,0,5,5,4,2,3,2,3,4,4,7,1,3,0,6,0,0,3,4,4,2,6,1,3,2,3,2,3,4,5,3,7,1,15,4,13,5,9,3,6,4,8,10,2,8,5,2,6,10,4,10,6,8,3,0,0,4,1,3,0,2,3,5,4,9,2,4,4,0,4,1,7,6,0,0,0,3,10,6,6,0,4,0,9,1,7,4,4,3,0,8,0,1,0,0,4,10,3,5,5,1,6,11,3,4,4,5,7,3,1,8,2,0,6,19,3,22,0,0,0,7,0,0,0,0,0,0,0,0,0,0,0,0,25,0,0,0,0,0,0,0,0,0,0,0,0,0,0,0,0,0,0,0,0,0,0,0,0,0,0,0,0,0,0,0,0,0,2,7,0,0,10,1,0,3,2,1,0,0,9,0,0,0,0,0,0,0,0,0,0,0,0,0,0,0,0,0,0,0,0,0,0,0,0,0,0,0,0,0,0,0,0,0,0,0,0,0,0,0,0,0,0,0,0,0,0,0,0,0,0,0,0,0,0,0,0,0,0,0,0,0,0,0,3,6,0,0,0,6,0,0,0,0,4,0,0,0,0,0,7,0,2,0,2,1,0,0,0,0,0,0,9,0,0,0,0,1,0,0,0,3,0,0,2,0,1,0,0,0,0,0,0,1,0,0,0,0,0,0,1,3,1,0,0,0,0,0,1,2,0,4,1,0,0,3,2,0,0,4,0,1,2,0,2,4,3,1,5,1,5,1,0,0,6,0,5,4,0,6,5,0,3,5,2,5,2,4,6,7,0,2,5,0,3,0,0,2,7,2,2,0,4,2,4,0,3,2,0,4,1,0,4,0,0,1,2,4,9,7,6,2,9,7,0,5,6,6,11,2,4,2,6,0,7,2,3,9,0,4,0,3,10,5,4,0,3,7,0,2,7,4,0,0,0,8,2,4,8,2,3,2,1,2,10,5,0,5,7,4,6,2,4,0,5,4,0,6,5,2,4,0,3,4,0,7,6,0,3,14,5,5,2,0,4,1,7,0,4,7,2,0,2,4,0,9,5,20,2,26,0,9,5,0,0,4,0,1,0,0,1,6,2,3,1,4,10,0,5,8,14,8,5,9,8,3,1,2,15,5,9,11,12,0,10,8,4,6,45,15,8,0,0,19,2,9,11,13,8,5,12,1,5,5,4,6,14,12,3,3,1,14,17,7,4,10,40,0,0,0,0,0,0,0,25,0,0,0,0,0,0,0,0,0,0,0,0,0,0,0,0,2,0,0,0,0,0,0,0,0,0,0,0,0,0,0,0,0,0,8,0,0,0,0,0,0,0,0,0,0,3,7,0,0,0,0,1,0,0,0,0,0,0,0,0,0,0,0,0,0,0,0,0,2,1,4,0,0,0,0,0,0,0,0,0,0,0,0,0,0,0,0,0,0,0,0,0,0,0,0,0,0,0,0,0,0,0,0,0,0,0,1,0,0,0,0,0,0,0,0,1,0,0,0,0,1,0,0,0,0,0,0,0,0,0,0,0,0,0,0,0,0,0,0,0,0,6,10,0,0,0,0,0,0,0,0,0,0,0,0,0,1,0,1,0,0,0,4,0,0,1,2,0,5,0,2,0,0,1,0,7,0,0,5,0,3,0,0,0,0,0,0,0,0,0,0,0,0,0,0,4,0,2,0,0,1,2,0,0,2,0,0,2,2,0,0,3,0,0,0,1,0,1,0,1,2,5,0,0,12,0,5,2,2,3,0,0,7,0,7,4,5,2,9,4,9,0,3,3,10,1,0,19,5,7,6,3,8,4,1,0,0,9,6,4,5,8,3,23,8,0,8,5,0,2,7,8,3,6,0,3,6,13,9,9,7,1,1,0,4,4,3,6,4,8,4,7,14,7,5,1,4,3,5,7,10,7,2,6,2,0,0,0,2,10,0,5,0,4,4,6,9,2,10,0,7,5,0,0,0,2,4,3,8,2,5,0,0,4,4,5,11,3,3,7,3,9,5,3,5,0,3,13,5,4,4,4,6,0,2,0,3,4,7,4,7,2,5,0,5,14,4,3,0,8,0,0,8,8,0,5,2,7,3,10,9,3,0,1,5,8,4,10,2,3,3,10,3,7,9,9,2,9,8,15,3,0,1,1,2,10,5,4,0,15,0,18,7,0,7,4,5,2,10,1,0,0,1,3,10,4,0,0,3,1,7,4,7,3,15,13,3,4,13,1,6,4,4,1,3,4,0,12,6,6,2,12,37,1,0,0,0,0,11,0,0,0,0,0,0,0,0,0,0,0,0,0,0,3,7,0,0,0,0,0,0,0,0,0,0,0,0,0,0,0,0,0,0,0,0,0,0,0,0,0,0,0,0,0,0,0,0,0,0,0,0,0,0,0,0,0,0,0,0,0,2,1,0,0,0,0,5,2,4,0,0,0,0,0,0,0,0,0,0,0,0,0,0,0,0,0,0,0,0,0,0,0,0,0,0,0,0,0,0,0,0,0,0,0,0,0,0,0,0,0,0,1,0,0,0,0,0,0,0,0,0,0,6,2,0,0,6,0,0,0,0,0,3,0,0,0,0,0,0,0,0,2,0,3,0,5,0,0,1,0,0,0,0,1,0,0,0,0,1,0,2,0,0,0,0,0,0,0,0,1,2,2,7,0,0,0,0,0,4,0,0,0,0,0,5,0,4,0,7,1,0,3,0,0,4,0,5,0,0,0,2,2,1,1,3,0,0,0,0,5,1,2,4,3,7,3,4,0,3,5,4,2,5,0,3,2,5,2,4,4,7,2,9,0,6,2,0,5,6,10,0,3,7,8,2,4,4,3,10,0,13,6,0,9,0,3,5,2,3,4,2,4,8,2,4,8,2,2,3,2,2,6,7,2,3,1,3,1,4,1,8,6,2,3,10,2,2,5,0,7,12,4,0,5,1,6,10,11,6,8,0,7,11,1,2,0,4,11,11,5,2,0,11,2,1,4,9,6,2,15,9,0,0,2,3,0,8,3,3,0,6,6,14,10,0,3,0,4,2,9,4,8,0,3,3,4,7,4,2,14,5,0,2,5,14,5,10,0,0,109,0,15,8,5,10,5,10,10,18,5,4,6,3,11,10,3,5,4,2,0,1,0,3,0,0,6,8,3,0,3,0,0,0,0,0,0,0,2,0,15,1,0,0,0,0,0,0,0,0,0,0,0,0,1,0,0,0,0,0,0,0,0,0,0,0,0,0,0,13,0,0,0,0,0,0,0,3,0,0,0,0,0,0,0,0,0,0,0,0,0,0,0,0,4,0,0,0,5,0,0,40,7,0,0,2,1,0,0,0,0,0,0,0,0,0,0,0,0,0,0,0,0,0,0,0,0,0,0,0,0,1,0,0,0,0,0,0,0,0,0,0,0,0,0,0,0,1,2,0,0,0,0,5,0,0,4,0,0,0,0,0,0,0,0,0,0,0,0,0,0,0,2,0,0,0,0,1,4,1,0,1,0,0,0,0,7,2,3,0,5,0,4,0,0,0,1,1,3,1,1,0,0,0,0,1,0,6,5,0,7,5,0,5,8,0,0,0,0,0,1,7,0,8,2,2,0,3,0,2,0,0,0,7,1,2,8,6,1,0,0,2,0,0,0,5,1,0,2,0,2,7,1,0,5,5,4,5,2,3,0,3,4,2,0,0,0,2,0,4,0,6,0,0,7,2,0,0,5,6,13,0,2,8,0,7,9,0,3,1,0,11,0,1,1,3,6,6,1,9,9,5,4,3,0,10,5,2,8,5,7,0,9,32,5,7,8,1,0,6,14,9,7,4,7,0,7,4,2,11,0,13,2,2,7,3,2,7,5,5,4,12,3,20,7,0,11,8,3,7,1,4,0,0,7,6,7,7,3,11,0,2,6,4,0,17,10,0,10,6,17,0,6,16,8,5,2,2,6,4,5,5,2,6,4,14,3,12,2,5,10,2,0,6,0,5,12,3,9,5,10,2,8,6,5,9,0,5,4,12,8,6,3,5,3,4,3,2,14,3,2,4,0,0,5,5,15,3,7,9,8,17,8,6,3,0,0,0,4,0,5,0,0,0,0,0,0,0,0,0,0,0,0,0,0,0,0,2,3,0,0,0,0,0,0,0,0,0,0,0,0,0,0,0,0,0,0,0,0,1,0,0,0,0,0,0,0,0,0,0,0,0,7,0,6,0,0,0,0,0,0,0,0,0,0,0,0,0,0,0,3,6,0,5,0,0,0,0,0,0,0,0,0,2,0,0,0,0,0,0,0,0,0,0,0,0,0,0,0,0,0,0,0,0,0,1,0,0,0,0,0,0,0,0,4,0,0,0,0,4,2,0,0,0,0,4,0,0,0,0,0,0,0,0,0,0,0,0,0,0,0,0,3,0,2,0,0,0,1,0,0,0,0,0,0,0,3,0,0,5,4,1,2,0,0,4,2,10,0,3,0,0,0,2,0,0,5,1,0,0,6,0,0,0,2,3,0,0,3,0,0,2,0,0,0,0,0,0,0,0,0,0,3,0,2,0,0,0,0,1,0,2,0,2,0,0,0,4,0,0,3,1,0,4,0,0,0,2,0,0,0,0,0,1,0,0,0,4,0,1,0,0,3,3,0,0,2,1,0,0,5,0,6,0,0,1,0,4,0,0,1,11,1,0,0,2,5,0,3,5,4,2,0,4,1,0,4,0,0,4,1,2,6,4,5,3,0,5,10,4,2,0,5,7,20,7,0,6,0,4,11,3,7,4,4,5,3,6,6,15,4,5,0,3,13,8,8,7,4,5,4,10,11,0,10,2,0,4,15,6,3,10,7,7,3,7,6,0,4,6,7,2,20,17,0,11,5,0,7,0,5,12,0,7,12,3,3,10,2,5,9,4,0,4,4,4,5,8,4,2,0,0,2,6,7,3,4,0,13,2,4,3,0,4,5,4,4,1,0,0,0,0,0,0,0,0,0,0,0,0,0,0,0,0,0,0,0,0,0,0,0,0,0,0,4,0,0,0,0,2,0,0,0,0,0,0,5,0,0,0,0,0,0,0,0,0,0,0,0,0,0,0,3,12,2,0,4,0,0,4,5,8,0,5,5,0,0,0,0,0,0,0,0,0,0,0,0,0,0,0,0,0,0,0,0,0,0,0,0,0,0,0,0,0,0,0,0,0,0,0,0,0,0,0,2,0,0,0,0,0,0,0,0,0,0,1,0,0,0,0,1,0,1,0,0,0,0,0,0,0,0,0,0,0,0,0,0,0,1,0,5,0,2,0,0,3,0,0,0,0,0,0,0,0,1,0,0,3,7,4,2,1,0,0,0,0,0,0,0,0,0,0,0,1,1,0,1,0,0,0,0,0,2,0,1,2,0,0,1,1,0,2,0,0,0,0,1,0,0,0,0,0,2,1,0,0,0,0,0,0,0,0,3,0,1,0,12,0,0,0,0,4,2,0,0,3,2,2,0,0,1,6,0,2,5,0,2,3,0,0,1,3,0,0,4,4,1,0,0,0,1,0,1,0,3,0,5,0,3,5,2,5,1,0,0,2,5,2,5,4,0,1,1,2,0,2,0,0,2,0,5,10,0,9,3,0,3,5,7,2,4,1,0,0,0,4,6,7,3,8,10,5,9,4,10,17,3,9,5,16,6,2,0,0,15,9,10,7,15,8,14,4,17,2,7,3,0,18,1,0,6,7,15,4,6,18,8,6,0,6,13,8,8,8,0,3,15,3,0,3,0,2,0,8,18,3,4,10,0,0,4,1,5,0,1,7,1,13,5,2,2,1,8,0,4,10,8,2,4,1,7,1,1,0,2,2,7,0,0,0,0,0,0,0,0,0,0,0,0,0,0,0,0,0,0,0,0,0,0,0,0,0,0,0,0,0,4,0,0,0,0,4,0,0,0,3,0,0,3,6,4,0,6,0,0,3,4,1,0,0,0,4,1,4,0,0,0,0,0,0,0,0,0,0,0,0,0,0,0,0,0,0,0,0,0,0,0,0,0,0,0,0,0,0,0,0,0,0,0,0,0,0,0,0,0,0,0,0,2,0,0,0,0,0,0,0,0,1,0,0,0,2,0,0,4,3,3,0,0,0,1,0,4,0,0,0,7,2,0,0,0,1,12,0,0,0,0,2,2,4,2,0,0,2,0,0,0,2,0,3,0,2,0,15,0,2,1,0,5,3,7,0,1,4,2,0,3,1,3,50,2,0,1,0,0,0,4,4,5,5,0,5,6,0,3,0,3,4,1,5,0,10,0,0,2,5,7,6,0,2,3,7,10,13,2,0,2,2,6,9,30,9,4,7,12,11,0,0,0,5,2,2,3,9,10,5,4,6,3,2,4,9,15,6,0,30,15,8,9,20,17,0,7,7,0,0,4,0,10,12,5,7,2,4,9,2,2,0,0,2,2,8,3,6,0,0,10,4,3,4,4,6,4,5,4,2,17,11,5,5,5,2,6,2,0,1,0,0,3,0,0,0,0,3,0,11,0,0,25,30,0,0,0,0,0,0,0,0,0,13,40,0,0,0,26,0,0,0,0,0,0,0,0,0,0,0,2,0,0,0,0,0,0,0,0,0,0,8,20,0,0,0,0,0,0,6,8,0,10,1,0,2,0,5,3,0,0,7,0,0,0,0,0,0,0,0,0,0,0,0,0,0,0,0,0,0,0,0,0,0,0,0,0,0,2,0,0,0,0,0,0,0,0,0,0,0,0,0,0,0,0,0,1,2,2,0,1,1,0,1,0,0,0,0,0,0,0,1,0,0,0,0,3,0,2,0,0,0,0,4,0,0,1,0,0,2,0,9,2,0,0,3,0,0,0,0,0,0,2,2,3,1,0,0,8,1,0,2,0,3,22,0,6,0,2,3,2,7,2,6,6,6,4,5,0,0,0,0,0,0,9,25,6,8,17,7,8,6,7,0,11,13,5,8,6,7,5,2,0,3,9,8,4,0,6,10,2,11,7,11,0,2,4,12,6,20,3,4,14,13,3,0,0,7,0,11,2,9,7,5,0,0,6,6,3,4,20,9,5,6,4,3,5,4,11,4,18,8,4,8,12,2,5,8,0,9,7,5,6,5,2,1,7,3,3,8,0,0,6,0,32,0,40,0,0,15,0,0,0,0,0,0,0,0,0,0,0,0,0,0,0,2,0,0,0,0,0,0,0,0,0,0,0,0,8,0,0,0,0,0,0,0,0,0,0,0,1,0,1,0,0,5,5,5,0,0,0,0,3,11,0,0,0,0,0,0,3,0,0,0,0,0,0,0,0,0,0,0,0,0,0,0,0,0,0,0,0,0,0,0,0,0,0,0,0,0,1,0,0,0,0,0,0,0,0,1,0,0,0,0,0,0,9,0,0,0,2,0,0,0,1,0,0,0,0,0,0,0,0,0,0,1,0,0,1,0,0,0,0,0,3,0,0,3,0,0,0,0,0,0,0,3,0,3,0,0,0,0,0,0,0,0,0,0,0,0,0,0,0,1,5,2,0,0,1,0,0,3,0,2,5,2,0,0,0,4,6,0,1,0,0,3,0,1,0,0,2,0,0,0,2,0,2,1,0,0,0,0,0,3,0,3,2,0,0,2,0,0,0,2,2,0,3,3,0,0,6,0,0,2,0,0,2,0,0,0,8,6,1,1,0,1,7,3,2,0,9,0,2,4,9,10,5,2,0,6,0,7,10,6,5,0,0,10,2,7,3,0,3,2,4,0,6,3,3,2,8,0,7,7,4,9,0,4,0,4,0,22,7,4,6,9,1,8,2,9,7,12,4,2,10,5,3,9,2,3,0,11,0,0,0,0,0,7,0,9,0,0,2,4,0,2,4,4,6,0,10,11,0,5,6,5,1,6,5,8,15,0,1,5,3,2,0,11,11,3,5,5,5,4,4,3,0,20,0,2,3,3,1,5,14,4,6,3,15,12,5,13,0,2,6,5,4,6,3,5,5,7,4,6,5,3,5,1,2,1,1,1,0,5,0,0,0,0,0,0,0,0,0,0,0,0,0,0,0,0,0,0,0,0,0,0,0,0,0,0,0,0,0,0,0,0,0,8,0,0,0,15,0,0,7,6,0,0,0,0,6,0,0,0,0,0,0,0,0,0,0,0,0,0,0,0,0,0,0,0,0,0,0,0,0,0,0,0,0,0,0,0,0,0,0,0,0,0,0,0,0,0,0,0,0,0,0,3,5,5,2,0,0,0,0,0,0,0,0,0,11,0,0,0,0,0,1,0,0,0,2,0,0,2,0,0,0,5,4,1,0,0,3,0,0,0,4,0,0,0,0,0,0,0,0,0,4,0,0,0,0,0,0,0,0,0,0,2,0,0,0,0,0,0,1,0,0,0,0,0,0,0,0,0,0,0,0,0,0,0,0,0,0,0,0,1,0,2,2,0,0,0,1,2,0,4,0,0,0,1,0,0,0,4,0,0,0,0,0,3,0,0,0,0,0,0,3,3,2,2,1,0,2,3,2,5,0,1,0,0,6,3,1,0,6,4,0,0,0,0,0,0,0,0,0,0,0,9,5,4,5,5,5,4,3,1,0,0,2,0,8,0,4,4,9,2,0,0,6,0,4,4,0,10,0,22,5,0,0,1,3,1,2,3,1,2,0,5,2,6,0,12,4,2,5,3,12,4,2,0,7,4,2,13,2,4,2,0,4,1,5,0,0,10,2,4,10,6,7,0,11,13,0,1,8,0,15,7,6,2,9,0,0,0,5,8,14,4,7,8,0,1,5,0,6,0,6,5,7,2,3,3,5,6,2,7,0,1,2,7,5,8,11,6,5,6,0,0,4,6,4,9,9,16,5,4,4,6,0,13,11,0,7,2,8,9,4,4,3,2,2,0,0,2,0,11,14,0,0,0,0,8,0,2,35,0,0,0,0,0,0,0,0,0,0,0,0,0,0,0,0,0,0,0,0,0,0,0,0,3,0,0,0,0,0,0,0,1,0,0,0,2,0,7,0,0,0,0,0,0,0,3,0,0,4,1,0,2,0,2,0,1,0,0,0,0,0,0,0,0,0,0,0,0,0,0,0,0,0,0,0,0,0,0,0,0,0,0,0,0,0,0,0,0,0,0,0,0,0,0,0,0,0,0,1,0,3,0,0,0,0,0,0,0,0,0,0,0,0,0,0,0,0,0,0,0,0,3,0,0,0,0,0,0,0,1,0,0,0,0,0,0,0,0,0,0,0,0,0,0,0,0,0,0,0,0,0,0,0,4,2,0,0,0,0,5,0,3,3,0,0,0,0,0,2,0,0,1,3,7,4,0,2,25,4,2,2,6,0,3,1,0,2,2,10,6,0,18,0,10,1,1,1,9,2,6,2,10,0,6,2,0,0,1,0,2,5,4,1,16,2,5,4,0,1,6,2,3,5,6,1,0,3,3,1,2,0,3,2,4,11,3,3,0,3,13,10,13,7,2,4,7,0,8,1,5,0,4,5,9,9,10,3,10,10,4,7,14,4,4,6,11,0,4,4,7,6,4,3,7,4,4,4,15,10,1,5,13,14,8,0,8,0,2,16,5,11,0,12,0,7,5,0,1,2,7,12,6,0,2,3,6,4,1,0,15,5,4,18,18,5,9,0,15,4,5,4,7,0,0,1,17,2,2,2,3,1,0,0,0,0,0,0,0,0,0,0,0,0,0,0,0,0,0,0,0,0,0,0,0,0,1,7,6,0,0,0,0,0,0,7,0,5,0,3,0,0,0,0,0,0,0,0,0,0,0,0,0,0,0,3,0,0,3,0,1,2,0,4,3,0,0,0,0,0,1,0,0,0,0,0,0,0,0,0,0,0,0,0,0,0,0,0,0,0,0,0,0,0,0,0,0,0,0,0,0,0,1,0,0,0,8,0,0,1,2,0,0,4,0,0,0,0,4,0,0,4,0,0,0,0,0,0,0,0,0,0,2,0,0,0,0,0,0,1,1,6,0,2,1,4,20,0,0,2,0,0,2,5,1,0,0,1,4,0,2,4,0,0,0,4,0,0,0,1,0,0,7,0,0,1,0,2,3,8,3,4,2,0,2,2,0,9,14,0,0,12,3,8,2,0,5,4,5,0,6,4,1,4,0,0,6,3,2,6,3,5,12,6,2,8,0,2,8,7,9,4,10,4,8,0,5,3,3,5,10,10,15,12,0,4,11,9,8,5,11,10,4,0,0,1,4,1,0,10,9,3,4,8,4,0,12,5,8,0,2,0,8,17,2,7,10,1,2,4,8,10,11,1,11,13,5,7,2,4,18,8,8,4,3,0,4,5,4,0,0,6,2,0,11,9,0,2,12,0,3,6,9,7,2,0,12,3,7,9,4,3,9,0,6,4,6,4,5,0,2,0,1,3,0,0,4,0,0,0,0,0,0,0,0,0,0,0,0,0,0,0,0,0,1,0,0,0,0,0,0,0,0,0,0,0,0,0,0,0,0,0,0,0,0,0,0,0,0,0,0,9,1,0,1,3,7,16,0,3,11,2,1,3,0,0,5,3,0,0,5,3,0,0,7,0,3,4,0,1,0,0,0,0,0,0,0,0,0,0,0,0,0,0,0,1,6,2,0,0,0,0,0,2,0,0,0,0,0,0,0,0,4,1,0,0,0,1,0,1,1,0,0,0,0,0,0,0,0,0,3,3,6,0,1,0,0,0,0,0,1,0,0,0,0,0,7,0,0,0,0,0,1,3,0,0,2,0,17,0,0,2,1,2,0,1,2,0,0,0,0,0,0,0,0,1,0,0,5,0,3,1,4,0,10,0,3,3,0,4,5,0,3,2,0,2,1,4,4,0,2,0,5,5,0,4,3,11,8,7,0,2,3,4,6,5,5,2,8,10,3,3,10,1,1,9,1,5,8,3,0,3,0,6,4,2,4,3,4,2,3,11,16,2,10,9,7,5,11,4,9,12,2,8,2,5,7,2,4,5,11,0,13,5,5,6,9,7,0,0,5,2,11,3,5,8,6,5,3,1,6,5,4,4,12,8,3,2,9,0,14,3,2,5,7,0,0,7,18,2,0,0,12,2,6,3,2,0,6,9,17,5,9,3,1,0,0,4,0,0,5,0,0,0,0,0,0,0,0,0,0,0,0,0,0,0,1,0,0,0,0,0,0,0,0,0,6,0,1,0,0,8,4,0,0,0,0,0,0,0,0,0,0,0,0,0,0,0,3,0,0,0,0,0,0,5,2,0,0,0,0,0,0,0,0,0,0,0,0,0,0,0,0,0,0,0,1,0,0,0,0,0,0,0,1,0,0,0,0,0,0,0,0,0,0,0,0,0,0,0,0,0,1,0,0,2,0,0,0,3,0,0,4,5,0,4,0,0,5,0,0,0,2,0,2,0,0,0,0,4,6,0,0,5,1,4,0,0,1,0,0,0,0,0,0,0,0,9,0,0,0,1,10,0,0,0,1,4,0,0,0,4,5,0,5,0,2,3,4,0,1,6,0,2,4,2,10,4,7,3,3,0,3,3,0,0,3,6,2,10,2,4,3,0,9,8,10,0,5,4,12,4,0,7,10,5,4,0,4,3,11,6,7,4,9,8,0,5,10,8,8,4,2,3,4,5,9,4,4,5,9,4,6,2,7,2,18,8,8,7,6,0,11,5,0,10,8,20,0,3,3,0,6,0,5,9,10,1,14,6,0,4,11,12,8,14,13,3,10,8,15,5,6,2,16,5,10,7,9,2,3,12,4,8,12,3,0,5,8,18,4,4,7,1,4,0,2,17,3,10,1,1,0,0,0,0,0,0,0,0,0,1,0,0,0,0,14,0,0,0,0,0,0,0,0,0,0,0,0,0,0,0,0,0,6,3,0,0,0,0,0,0,0,0,12,0,0,0,0,0,0,0,8,0,0,0,0,0,10,0,0,0,0,0,0,2,2,0,5,0,0,4,0,0,10,4,4,0,4,3,0,0,0,0,0,0,0,0,0,0,0,0,1,8,6,0,0,0,0,0,0,0,0,0,0,3,0,0,1,2,0,0,2,0,0,0,0,0,0,0,0,0,0,0,0,0,0,0,0,0,0,0,0,0,0,0,0,0,0,0,0,0,0,0,0,3,0,0,0,0,0,0,2,1,0,0,1,0,0,1,7,0,0,0,0,0,0,0,0,4,0,0,2,2,0,0,3,1,0,0,2,1,3,0,6,0,0,0,0,0,0,0,0,2,0,1,0,0,0,3,0,0,7,0,0,0,0,0,3,0,0,0,0,0,7,2,5,7,6,0,0,0,0,0,1,0,0,0,0,0,0,0,0,0,2,0,0,1,0,0,0,0,0,0,2,0,0,0,1,1,2,0,0,0,0,2,0,1,0,0,0,2,2,0,0,0,0,0,0,0,2,0,0,2,0,0,0,6,10,0,0,0,13,0,1,0,6,5,1,0,7,0,0,8,2,0,0,0,9,0,5,4,11,2,6,7,4,2,7,3,4,5,8,10,0,20,3,10,0,1,4,5,0,3,7,4,0,5,11,2,2,1,12,4,0,5,3,3,9,4,5,3,0,9,0,5,4,0,7,7,11,5,8,4,6,12,4,6,10,8,7,7,0,15,30,13,7,0,1,4,1,5,8,5,5,3,0,7,8,4,5,6,3,4,4,4,3,0,3,5,1,1,2,5,6,3,5,8,3,3,1,4,0,0,8,0,7,0,0,0,3,0,0,0,0,0,0,30,0,4,0,0,0,0,0,0,0,0,0,0,0,12,0,0,0,0,0,0,0,0,0,0,0,0,0,0,0,0,0,0,0,0,0,0,0,0,0,1,0,0,0,4,0,0,0,1,0,4,0,0,0,2,0,0,0,0,4,3,6,0,2,5,1,0,1,3,0,0,3,1,1,8,0,0,0,0,0,0,0,0,0,0,0,0,0,0,0,0,0,0,0,0,0,0,0,0,0,0,0,0,0,0,0,0,0,0,0,0,0,0,0,2,0,0,0,0,0,0,0,0,0,0,0,0,0,0,0,0,0,1,0,0,0,0,2,0,0,5,0,0,0,0,0,0,0,1,0,0,2,2,0,0,4,0,0,0,0,0,0,2,0,5,0,0,8,0,0,0,0,0,0,0,0,1,0,0,1,0,2,0,2,0,2,6,0,0,0,4,0,0,0,0,0,2,0,1,3,0,3,0,9,0,0,3,1,3,0,0,0,0,0,5,0,2,3,0,0,1,12,4,1,5,1,0,0,0,4,0,2,16,0,4,4,0,3,0,7,5,7,0,3,4,0,0,0,0,5,0,0,7,0,1,0,10,0,7,15,7,3,0,0,0,4,0,0,11,5,4,7,8,4,0,2,4,0,2,0,0,2,5,3,2,1,4,0,9,2,0,0,6,5,4,3,10,10,5,0,4,3,3,7,2,4,4,0,0,11,7,0,3,3,4,8,3,0,12,2,5,11,0,0,12,9,0,6,2,0,0,5,7,0,6,9,2,3,10,11,8,8,3,15,1,0,0,0,0,11,3,5,5,3,0,9,0,5,2,0,4,1,1,3,17,9,4,0,5,3,4,9,13,5,4,3,5,5,16,8,0,4,2,2,0,15,0,4,0,2,2,2,0,12,15,0,5,7,7,3,12,14,0,11,11,9,2,4,1,1,0,4,0,10,9,5,8,8,0,2,4,5,3,10,3,3,0,5,3,5,331,0,13,0,6,3,3,14,33,5,9,5,2,0,5,10,3,1,0,7,8,10,4,9,9,3,0,5,5,2,16,4,2,0,5,0,4,1,5,5,1,4,2,2,3,0,0,5,1,3,3,0,3,11,2,3,2,0,3,4,2,0,1,0,0,0,0,0,0,0,8,0,0,0,0,0,0,39,0,0,4,0,2,0,28,0,0,0,13,0,0,0,0,0,0,0,0,2,0,0,0,6,0,0,0,0,0,0,0,0,0,0,0,0,0,5,4,0,2,0,10,0,0,14,0,0,4,0,2,3,0,2,2,0,8,0,0,0,0,0,0,0,0,0,0,0,0,0,0,0,0,0,0,0,0,0,0,0,0,0,0,4,10,5,0,2,0,4,0,0,0,0,0,0,0,0,0,0,0,0,0,0,0,0,0,0,0,0,0,0,0,0,0,0,1,0,0,0,18,3,2,0,0,3,2,2,0,0,0,0,0,0,0,0,0,0,0,0,0,0,0,0,0,0,0,3,1,2,0,0,0,0,2,0,0,1,0,1,2,0,0,1,0,4,2,0,1,0,2,5,0,0,0,2,5,0,6,0,0,1,4,0,3,1,7,0,0,0,3,4,11,0,7,3,4,4,0,2,5,3,6,0,0,5,8,4,6,4,2,9,8,10,0,0,2,3,2,5,7,6,4,7,3,3,7,0,10,3,2,0,8,2,5,8,4,3,4,10,5,10,2,0,2,4,10,1,12,7,0,0,6,10,0,7,17,0,3,10,5,0,6,6,0,2,3,7,7,1,0,0,7,3,14,4,1,0,5,7,13,15,3,7,12,8,0,10,0,11,4,0,2,10,6,2,30,7,0,3,0,4,2,0,6,15,1,8,2,5,16,1,4,2,18,1,2,2,11,2,3,1,2,1,1,2,3,0,0,0,0,0,0,0,0,0,0,0,0,0,0,0,0,0,0,0,0,0,0,0,0,0,0,0,0,0,0,0,0,9,0,0,0,0,0,0,3,1,9,0,0,0,0,0,0,1,0,0,0,0,12,0,0,1,4,0,0,0,0,4,0,0,0,0,0,0,1,0,0,0,0,0,0,0,0,0,0,0,0,0,0,0,0,0,0,0,0,0,0,0,0,0,0,0,0,0,0,0,0,0,0,0,0,0,0,0,0,0,0,0,0,0,0,0,0,0,0,0,0,0,12,4,0,0,0,0,0,0,0,0,0,0,0,0,0,0,0,0,0,0,0,0,0,0,0,0,0,0,0,0,0,0,0,0,0,0,0,0,5,8,0,0,0,0,0,0,0,0,0,0,0,0,0,0,0,0,0,15,15,0,0,0,0,0,0,0,0,0,0,0,0,0,0,0,0,0,0,0,0,0,0,0,0,4,0,0,0,0,0,0,0,0,0,0,0,0,0,0,0,0,5,0,0,0,1,0,0,0,0,0,0,0,0,0,0,3,1,1,0,0,0,0,0,0,0,1,0,3,1,0,0,0,0,2,0,0,0,2,0,0,0,0,0,0,0,0,2,0,1,2,0,2,0,1,1,0,4,3,0,0,0,4,0,0,2,0,0,3,0,5,5,0,0,0,0,0,3,0,0,0,3,0,0,0,3,1,0,0,0,1,0,3,0,0,0,0,0,4,0,3,0,0,0,4,0,0,0,5,0,0,3,0,5,0,0,0,1,0,0,0,0,4,12,3,0,0,0,0,5,1,0,0,0,0,0,0,0,5,0,0,9,3,5,0,3,0,0,3,0,0,0,0,0,0,0,3,0,1,60,10,0,0,2,0,0,3,0,3,0,0,3,0,3,0,0,0,0,3,0,0,0,0,0,0,4,0,0,0,0,1,4,0,3,0,4,0,0,0,0,1,7,1,0,0,0,8,0,0,1,0,0,0,0,0,0,0,2,2,0,5,3,0,0,0,5,0,3,2,0,0,0,3,3,12,2,0,3,5,0,0,4,0,0,7,0,0,5,3,0,0,0,6,0,0,5,3,2,0,1,7,14,0,0,0,0,3,3,5,0,0,3,1,0,0,4,2,0,3,11,4,0,0,22,0,0,2,0,3,23,0,0,2,0,25,1,6,10,4,11,5,3,1,0,1,0,1,5,5,1,0,0,5,3,3,14,4,12,0,5,0,2,10,0,0,1,4,8,8,2,0,1,0,2,0,4,1,5,6,0,4,1,2,0,0,0,5,5,3,8,3,15,13,0,0,0,5,0,10,5,4,19,0,0,4,3,2,0,8,2,4,0,4,6,4,8,3,1,0,0,2,0,2,9,5,0,0,0,7,1,0,3,0,5,0,4,0,5,6,9,0,3,4,0,4,9,0,0,3,0,4,3,3,6,0,0,7,7,1,8,5,0,4,0,0,5,3,9,2,1,3,4,3,7,1,0,0,3,6,13,6,0,7,15,0,8,1,6,6,0,8,4,6,0,3,0,25,0,0,0,0,1,0,0,0,15,0,15,6,0,0,2,7,0,0,5,2,0,3,0,5,8,1,13,3,0,5,0,4,1,0,7,3,8,1,10,5,7,0,8,5,4,0,5,8,4,0,7,7,0,6,8,5,3,8,4,4,5,0,0,8,8,0,2,6,0,4,4,10,12,2,2,2,10,2,0,4,0,1,3,7,3,6,2,2,0,0,0,5,4,4,0,5,10,0,3,3,4,3,2,0,4,0,8,2,0,2,3,6,5,5,6,1,5,2,3,6,14,3,9,5,2,5,1,15,2,2,3,1,3,0,2,1,0,0,0,1,3,2,7,5,0,3,4,3,16,12,6,14,0,0,3,0,1,1,0,3,3,0,1,3,2,13,0,15,15,4,0,0,9,0,2,2,0,0,4,0,0,0,0,0,0,0,6,0,0,0,0,0,0,8,16,0,0,0,0,0,0,1,0,0,0,0,0,0,0,0,0,0,5,11,0,0,0,0,0,0,0,0,0,0,0,0,0,0,0,0,0,0,8,0,0,0,0,0,0,0,0,0,0,8,0,0,0,2,0,15,0,9,6,1,0,0,0,0,0,0,0,3,0,0,2,0,0,0,0,0,0,0,0,0,0,0,0,0,0,0,0,0,0,0,0,0,0,0,0,0,0,0,0,0,0,3,14,5,0,0,0,0,0,0,0,0,0,0,0,0,0,0,0,0,0,0,0,0,0,0,0,0,0,0,0,1,0,0,0,0,0,0,6,0,0,0,1,0,1,0,0,0,0,0,0,0,0,0,0,0,0,3,2,0,0,0,1,0,0,0,0,0,0,0,3,0,0,0,0,23,5,0,0,0,0,0,0,0,0,0,0,0,0,1,1,0,3,6,2,0,0,0,0,0,0,0,0,2,0,2,0,0,1,0,0,0,0,0,0,0,0,0,1,0,0,0,0,0,0,0,1,0,1,1,0,0,3,0,0,1,0,2,0,3,2,0,0,2,0,0,1,1,0,2,1,5,4,0,0,0,1,0,0,2,0,0,1,0,5,0,0,0,2,2,2,0,0,5,0,2,2,2,1,2,2,3,5,1,0,0,0,3,2,1,0,2,5,4,1,2,5,1,0,5,0,0,0,0,0,9,7,0,0,6,10,5,5,4,12,0,4,5,3,4,5,3,0,0,0,10,2,5,4,11,1,1,9,4,3,11,4,1,5,6,0,3,4,3,2,7,5,7,10,0,5,7,5,4,2,0,1,1,4,4,3,4,0,0,2,5,11,7,2,0,11,2,0,0,8,5,4,13,8,3,6,2,7,20,7,12,4,7,0,12,8,6,8,15,12,11,8,0,2,1,0,10,7,14,12,2,2,6,12,2,11,6,6,0,3,0,13,4,4,7,2,0,5,6,11,1,8,3,6,20,11,7,5,9,1,2,5,0,2,0,6,9,10,9,1,11,5,5,10,0,7,10,0,17,4,4,1,1,6,5,7,2,2,4,3,5,2,15,3,2,0,3,8,0,1,1,14,5,2,3,18,0,2,0,0,0,0,0,0,0,0,0,0,28,0,0,0,0,0,0,0,0,0,0,0,0,0,0,0,0,0,0,0,0,1,4,0,0,0,0,0,0,0,0,0,0,0,0,0,0,0,0,5,15,7,0,0,0,0,0,0,0,0,0,0,0,0,0,0,0,0,0,0,0,0,0,0,0,0,0,0,0,0,0,0,0,13,5,6,9,0,10,0,0,0,15,0,10,0,0,3,0,8,0,0,0,0,1,0,6,4,0,0,0,0,0,0,1,0,0,0,0,0,0,0,0,0,0,0,0,0,0,0,0,0,0,0,0,0,0,0,0,0,0,0,0,0,0,0,0,0,0,1,0,0,0,0,1,0,0,0,0,0,0,0,3,0,0,5,0,0,0,0,0,0,0,0,0,0,0,0,0,0,3,0,5,0,0,0,0,4,0,0,0,0,0,0,0,3,0,0,0,4,0,1,0,0,0,1,0,0,0,0,0,0,0,0,0,0,0,1,4,0,0,0,1,0,0,1,0,0,3,0,0,2,0,6,2,0,0,0,0,8,2,1,0,0,0,0,5,0,2,6,0,1,2,3,3,2,1,1,0,9,3,0,4,0,1,0,5,7,8,5,6,7,0,0,6,0,0,0,4,1,9,0,0,0,5,4,0,5,0,8,0,6,6,6,10,0,1,12,0,3,9,7,0,4,8,3,10,5,5,11,0,11,12,1,1,9,3,3,4,7,2,7,5,3,9,8,0,7,4,0,7,2,4,10,4,10,8,5,2,4,8,7,7,3,2,4,0,0,13,2,8,11,15,8,0,10,18,9,7,2,5,12,8,12,7,25,0,2,2,14,4,1,5,3,8,6,21,4,4,3,6,8,13,0,2,1,2,4,3,2,13,1,3,3,11,14,4,0,0,0,0,7,0,3,0,0,0,0,0,0,0,0,0,0,0,0,0,0,0,0,0,0,0,0,0,0,0,0,0,0,0,0,0,0,0,0,0,0,5,0,0,0,0,0,0,0,0,0,0,1,0,1,0,0,0,0,0,0,0,10,1,0,0,0,12,0,7,10,0,0,0,4,0,0,0,0,22,3,0,0,10,1,0,0,0,0,0,0,0,0,0,0,0,0,0,0,0,0,0,0,0,0,0,0,0,0,1,0,0,0,13,0,0,0,0,0,0,0,0,0,0,0,0,0,0,0,0,0,0,0,0,0,0,0,0,0,0,0,1,0,0,0,0,0,0,0,0,0,0,0,0,0,0,0,0,0,0,0,0,0,0,0,0,0,0,0,1,0,0,0,0,0,0,0,0,2,0,0,0,0,0,0,0,0,0,0,0,0,0,0,0,2,0,0,0,0,0,0,0,3,0,0,0,0,0,0,3,0,0,0,0,0,1,0,0,1,4,5,0,0,0,0,1,1,0,5,1,2,2,3,6,0,4,4,0,2,2,2,0,1,3,0,6,0,0,9,2,7,3,3,6,12,0,0,4,5,4,0,1,3,9,3,8,4,7,4,2,2,6,0,12,0,5,1,13,6,7,11,11,5,2,0,11,0,1,5,10,7,7,10,3,5,11,7,8,4,8,5,8,5,5,12,6,2,2,8,7,2,7,4,0,0,0,0,13,6,12,10,1,9,3,0,2,11,0,4,11,11,3,2,5,5,4,2,0,7,4,5,9,4,10,5,0,0,5,5,4,3,7,6,0,1,0,0,4,12,1,7,8,0,15,2,9,4,12,10,3,18,13,2,2,2,5,1,18,0,2,5,1,0,0,0,0,0,0,0,0,0,0,0,0,0,0,0,0,0,0,0,0,0,0,0,0,0,0,0,0,0,0,0,0,0,0,0,0,0,0,0,0,0,19,0,0,0,0,0,0,0,0,0,0,0,0,0,0,0,6,3,2,5,8,0,0,2,2,4,10,0,1,0,0,0,0,0,0,0,0,0,0,0,0,0,0,0,0,0,0,0,0,0,0,0,0,0,0,0,0,0,0,0,1,4,1,0,0,1,0,0,0,0,0,0,0,0,0,0,0,0,2,0,0,0,0,0,0,0,0,5,1,0,6,0,0,0,0,0,0,1,0,0,0,0,2,0,0,0,2,1,0,0,0,0,5,0,0,0,0,0,0,0,0,1,3,1,4,0,2,1,4,4,4,0,1,1,5,5,2,0,3,0,3,4,1,6,2,0,0,0,4,8,5,1,0,0,0,2,11,0,0,1,4,10,0,1,5,5,7,17,0,0,12,2,0,1,2,3,3,10,0,5,8,7,2,4,13,5,5,0,8,12,1,2,0,2,4,5,7,3,5,3,8,10,5,6,1,1,6,5,10,5,3,6,8,0,0,11,2,2,5,0,3,1,11,0,0,8,6,0,5,10,4,9,15,9,0,7,13,5,3,0,0,2,0,11,1,2,6,7,4,10,6,15,4,3,1,0,0,0,7,2,1,0,7,1,0,5,12,0,0,0,0,0,0,0,0,0,0,0,0,0,0,0,25,0,30,0,28,0,25,0,0,25,0,0,0,0,1,0,0,0,0,0,0,0,1,0,0,0,0,0,0,0,0,0,0,14,0,0,0,0,0,0,0,0,0,0,0,0,0,0,4,0,0,0,0,0,0,0,0,0,0,0,0,0,4,0,0,0,9,0,0,0,0,0,5,0,7,2,7,0,1,7,3,2,1,0,0,11,0,2,0,0,3,1,0,0,2,0,0,0,0,0,0,0,0,0,0,0,0,0,0,0,0,0,0,0,0,0,0,0,0,0,0,0,0,0,0,0,0,0,0,0,0,0,0,0,0,0,0,0,0,0,0,1,0,0,0,0,1,0,9,0,0,0,0,0,0,3,0,4,0,0,0,0,0,0,0,0,0,0,0,0,0,1,2,0,0,14,0,0,1,3,0,1,2,1,3,0,0,0,0,1,1,3,0,6,3,1,7,0,0,7,2,0,0,0,3,4,0,2,6,4,0,0,0,2,4,8,4,4,5,5,0,6,2,8,0,0,3,3,7,7,5,3,2,0,2,3,3,2,5,1,2,0,2,6,2,0,2,5,11,0,0,7,0,2,8,12,0,20,4,0,3,6,7,6,11,0,12,11,20,10,5,10,6,1,15,4,8,7,5,0,6,15,9,5,3,1,4,7,2,0,3,17,11,4,11,2,12,0,7,5,7,5,7,7,13,6,0,12,7,7,0,0,2,5,0,20,8,4,10,8,1,15,4,9,4,10,5,5,10,17,8,7,6,5,6,5,19,14,0,8,2,2,5,2,0,0,0,5,0,0,0,0,9,1,0,0,0,0,0,0,0,0,0,0,0,0,4,0,0,0,0,0,0,0,0,0,0,0,0,0,0,0,0,0,0,10,0,0,0,0,0,0,0,0,0,0,0,0,0,0,0,2,0,0,8,8,0,0,0,0,0,0,0,0,0,0,9,0,0,0,0,0,0,0,0,0,0,0,0,0,0,3,0,0,0,15,0,0,4,0,0,0,0,0,1,0,5,0,14,0,0,0,0,0,2,12,2,10,0,0,1,11,0,4,11,10,1,0,9,0,0,0,0,0,0,8,4,7,0,8,1,0,0,0,0,0,5,0,6,0,8,0,5,7,0,0,0,0,0,8,5,0,1,3,5,2,6,0,0,0,0,0,0,0,0,0,0,0,0,0,0,0,0,0,0,0,0,0,0,0,0,0,0,0,0,2,5,0,0,0,0,0,0,0,0,0,0,0,0,0,0,0,0,0,0,0,1,0,0,0,0,0,0,0,0,0,0,1,0,0,0,0,0,0,0,0,0,0,0,0,0,0,0,2,3,0,1,7,0,0,0,1,0,0,0,0,3,0,3,3,0,0,0,2,0,0,0,2,0,3,0,0,0,0,0,0,0,0,0,0,3,3,0,0,0,0,0,0,0,0,0,0,4,0,0,0,2,0,0,0,0,0,0,0,0,2,0,0,0,5,0,0,1,1,0,0,0,3,0,1,5,0,1,0,0,0,0,0,1331,0,0,1,1,0,0,4,0,4,0,0,0,0,0,0,1,2,0,0,0,0,0,0,3,1,0,0,5,0,0,0,0,0,3,0,0,0,0,0,0,0,0,0,0,0,3,0,0,0,0,0,0,0,0,0,0,2,0,1,4,3,0,4,2,0,0,4,5,0,3,0,1,0,5,2,6,2,8,0,0,0,2,0,0,8,3,0,0,2,0,5,0,0,8,1,2,0,3,0,0,5,0,4,0,1,7,2,0,7,1,4,0,4,1,5,1,0,4,1,0,0,0,0,0,3,0,5,10,0,0,0,2,10,6,8,0,6,3,0,0,6,0,0,0,8,3,0,3,1,4,2,0,0,0,0,0,11,0,4,0,4,10,5,5,0,10,2,2,0,0,2,0,2,2,0,7,5,0,0,6,12,21,2,6,0,5,2,13,0,0,0,0,0,6,5,0,0,0,0,0,0,2,5,11,2,5,4,8,0,0,0,6,0,5,0,0,5,3,3,11,0,1,0,0,1,16,12,3,5,5,5,7,0,3,5,10,4,1,0,0,12,0,5,2,0,6,0,1,0,5,5,7,6,3,0,0,0,0,0,4,7,7,10,0,8,0,5,1,18,13,3,7,5,14,0,6,13,13,6,0,0,10,14,2,4,0,10,10,2,2,1,0,1,2,3,0,0,2,3,2,15,16,11,9,15,0,0,0,3,0,4,0,14,3,1,4,0,2,0,0,0,0,0,0,0,0,0,0,0,0,0,0,0,0,0,0,17,0,0,0,0,0,0,0,3,0,1,0,0,0,0,0,1371,0,11,10,0,0,0,0,0,0,0,0,0,0,0,0,0,0,0,0,0,0,5,0,0,0,0,8,0,0,0,0,0,0,0,4,0,0,1371,1331,6,0,0,0,0,9,0,7,0,0,0,0,1,5,0,0,0,7,0,0,0,3,0,0,5,0,1,1,0,0,0,1,0,0,6,0,1,0,0,0,0,0,0,0,0,0,0,0,0,0,2,0,0,0,1371,1,0,3,0,0,0,0,0,0,0,0,0,0,0,2,0,0,0,0,2,0,0,0,1,2,0,0,0,1,0,1,0,0,0,0,0,0,1,0,1,0,0,0,0,3,0,0,0,3,0,0,0,0,0,1,0,0,0,0,0,0,0,0,0,2,3,0,0,0,1,0,0,0,3,0,0,1,0,3,0,4,2,0,7,0,0,1,0,1,2,2,2,3,1,3,0,0,1,4,0,0,0,0,0,3,0,0,2,0,2,0,0,0,0,2,7,1,0,1,0,0,1,1,0,7,1,0,0,0,2,0,0,0,3,0,2,3,0,5,0,11,0,4,3,7,2,4,0,0,2,1,5,0,10,2,3,2,0,3,1,0,0,3,0,0,0,0,5,0,2,3,5,5,1,0,4,14,0,1,10,3,11,10,6,3,13,13,8,4,3,10,5,0,11,2,4,4,4,15,0,7,4,4,7,6,11,0,0,7,4,0,5,0,0,15,3,14,8,9,5,11,14,7,12,1,11,8,0,12,3,8,13,20,1,6,0,17,9,0,2,3,5,4,5,4,3,0,0,0,0,0,0,0,0,0,0,0,0,0,0,0,0,0,0,0,0,0,0,0,0,0,0,0,0,0,0,0,1,0,0,3,1,0,0,0,0,0,0,0,0,0,6,0,0,0,3,0,0,0,0,4,0,0,0,0,0,0,0,0,0,0,1,0,0,0,0,0,0,8,0,2,0,0,0,0,4,3,0,2,0,0,7,0,0,7,0,0,0,0,0,0,0,0,0,0,0,0,0,0,0,0,0,0,0,0,0,0,0,0,0,0,0,0,0,0,0,0,0,0,0,0,4,0,8,0,0,0,0,2,0,0,0,0,0,0,0,0,0,0,0,0,0,0,0,0,1,0,0,0,19,0,0,0,0,0,0,0,0,0,1,0,2,1,0,0,0,1,0,3,0,0,3,1,0,0,1,0,3,0,0,0,5,0,2,0,0,2,0,3,6,0,4,3,0,2,2,0,3,0,0,1,2,0,0,2,0,4,1,3,0,0,2,0,0,4,3,0,0,0,1,5,0,4,0,0,3,7,7,10,0,4,2,4,12,2,10,11,7,4,0,0,0,4,5,8,18,0,12,3,4,10,21,10,7,11,0,5,10,8,3,0,0,5,5,0,7,13,10,0,10,2,0,4,0,4,0,2,0,0,0,1,3,0,0,2,8,8,0,10,5,15,10,14,6,10,2,7,4,8,4,5,0,0,11,7,7,5,20,1,0,0,12,0,4,5,8,13,0,5,1,5,13,3,3,4,19,2,4,3,0,0,0,0,0,0,0,0,0,0,0,0,0,0,0,0,0,0,0,0,0,0,0,0,0,25,0,0,0,3,0,0,0,0,0,0,1,0,0,0,0,0,0,50,0,0,0,0,6,9,0,4,0,0,0,2,0,0,0,0,0,0,0,0,0,5,0,0,5,1,0,0,0,2,6,0,1,0,2,3,0,8,0,0,0,0,9,11,4,0,0,0,0,0,0,0,0,0,0,0,0,0,0,8,0,0,0,0,0,0,0,0,0,0,0,0,0,0,0,0,0,0,0,0,0,0,0,0,0,0,0,0,0,0,0,0,0,0,0,1,0,0,0,0,1,5,3,1,4,0,6,0,0,0,0,0,0,0,0,2,1,0,0,0,0,0,0,4,0,0,0,3,8,0,4,0,0,0,0,3,0,0,0,7,0,0,0,0,1,0,0,0,0,0,3,7,0,0,0,0,2,10,0,2,0,0,0,5,0,0,0,0,0,0,0,2,5,6,2,1,3,2,1,30,2,4,2,0,1,0,1,15,1,8,1,2,10,2,2,3,3,1,0,3,0,3,12,6,8,7,5,9,4,10,7,8,0,12,7,5,1,12,4,0,12,8,9,11,13,0,7,7,3,9,11,19,2,6,3,0,0,3,15,4,5,5,0,7,5,7,18,3,10,7,12,1,5,14,9,3,12,1,4,9,40,2,8,5,0,0,2,0,0,6,7,20,4,5,5,2,3,4,1,0,4,0,6,0,6,2,1,18,2,2,4,0,8,12,2,20,0,0,0,0,0,0,0,0,0,0,0,0,2,0,0,0,0,0,0,0,0,0,0,0,4,0,0,0,0,0,0,0,0,0,0,0,0,0,1,0,5,0,0,0,5,0,0,0,0,0,0,0,0,0,0,2,0,3,6,0,0,2,12,5,0,7,0,3,0,0,1,2,0,4,12,0,6,0,2,0,0,0,0,0,0,0,0,0,0,0,0,0,0,0,0,0,0,7,0,0,0,0,0,0,0,0,1,0,0,0,0,0,0,0,0,0,0,0,0,0,0,0,0,0,0,1,0,0,0,0,0,0,0,0,0,5,1,0,0,0,0,0,0,0,0,1,0,0,0,0,6,0,0,0,1,0,3,2,0,1,0,0,1,0,0,0,2,4,0,0,0,0,0,0,0,0,0,1,0,0,18,0,0,2,4,0,0,0,0,0,0,0,2,0,3,0,0,0,0,4,0,0,0,6,0,1,0,3,0,2,5,0,0,0,3,3,5,1,8,4,2,2,0,0,0,2,6,0,0,2,0,0,1,0,0,0,4,8,7,14,0,5,0,0,1,4,9,0,0,0,12,18,3,0,4,8,0,0,4,2,11,0,5,6,4,0,11,5,3,11,0,0,11,7,0,5,0,4,4,3,7,4,3,7,4,0,0,0,9,0,10,10,2,5,10,8,15,0,4,1,9,4,0,5,5,8,0,15,13,6,11,5,0,4,6,3,0,0,15,4,3,1,0,15,4,9,5,0,4,4,3,11,9,2,1,3,0,5,5,30,5,1,0,2,0,3,0,3,0,0,0,0,0,0,0,0,1,0,0,1,0,0,0,0,0,0,0,0,0,3,0,0,0,2,3,0,0,0,0,8,0,0,0,2,0,0,0,0,11,0,2,4,0,0,0,0,0,9,9,0,30,0,0,0,0,0,0,10,0,5,0,0,0,0,2,0,5,0,0,0,0,0,0,0,0,0,2,8,0,5,0,0,0,0,0,0,0,0,4,4,0,0,0,0,0,0,0,0,0,0,0,0,0,0,0,0,0,0,0,0,0,0,0,0,0,0,0,0,0,0,0,0,0,0,0,0,0,0,0,0,0,0,0,0,0,0,0,0,0,0,0,0,0,0,0,0,0,0,0,9,0,0,0,0,0,0,0,0,0,0,0,0,0,1,0,0,0,0,0,5,3,1,0,0,2,0,0,0,0,0,0,0,0,1,0,0,0,5,0,0,1,0,0,0,0,1,0,0,0,0,0,0,0,0,1,0,0,0,0,1,0,0,0,0,0,0,3,1,0,0,0,5,6,1,0,0,0,0,0,0,0,0,0,12,2,0,0,0,0,0,0,0,0,0,2,0,0,0,3,0,0,1,0,0,0,0,0,2,0,0,0,3,1,3,0,0,0,2,0,3,5,0,0,0,0,0,1,0,4,0,2,0,8,1,0,6,0,0,4,0,0,6,0,3,1,2,0,0,5,0,3,4,3,4,4,4,3,2,5,12,0,7,5,2,0,0,1,1,0,7,0,0,5,4,6,3,5,0,0,3,0,5,0,7,3,6,0,4,0,5,5,2,0,3,0,2,3,0,3,8,3,10,0,0,13,10,2,1,0,0,0,0,13,0,13,0,6,4,0,0,11,0,10,2,3,5,0,5,8,8,3,3,7,6,3,10,0,17,4,5,4,2,8,12,4,0,0,4,4,2,2,8,4,6,4,2,16,0,3,10,5,2,8,1,1,10,4,0,9,1,0,5,16,10,0,0,0,6,4,0,1,3,3,4,6,0,0,4,0,9,13,2,5,9,0,4,0,2,19,1,1,0,6,15,8,0,1,0,0,0,0,0,0,0,0,0,0,0,0,0,0,0,0,0,3,0,0,0,0,0,0,0,0,0,0,0,0,0,0,0,0,0,0,0,0,0,1,0,0,0,0,0,0,0,2,0,0,0,0,0,0,0,0,8,4,9,0,0,1,0,0,0,4,0,4,5,0,0,1,3,1,0,0,0,0,0,0,0,0,0,0,0,0,0,0,0,0,0,1,0,0,0,0,1,0,0,0,0,1,0,1,0,0,0,0,0,0,0,1,0,7,0,0,1,0,0,1,0,0,2,1,0,2,0,0,1,1,0,0,0,0,0,0,5,0,0,7,0,0,1,0,0,0,0,0,0,1,0,0,1,1,1,1,3,7,0,0,0,0,0,0,4,0,0,0,0,0,0,0,0,0,8,0,2,2,5,2,4,5,3,6,1,1,5,4,4,4,0,0,4,2,4,6,4,0,4,2,6,2,3,3,0,7,5,1,0,6,7,2,12,4,3,4,10,3,8,3,7,0,0,13,3,9,3,2,17,9,2,14,8,5,2,10,10,8,11,4,8,13,8,12,7,4,2,3,7,8,12,8,6,9,11,13,18,5,3,4,6,1,0,9,1,0,5,15,3,3,10,7,1,19,7,6,15,9,3,3,8,6,11,10,11,3,2,2,16,19,2,14,12,3,0,2,1,5,2,0,5,0,0,0,0,0,0,0,0,1,0,5,0,8,0,0,0,0,0,0,0,0,0,0,0,0,0,0,0,0,0,0,0,0,0,0,0,0,0,0,0,0,0,0,0,0,0,0,0,0,0,4,4,0,0,1,0,0,0,0,0,4,0,0,0,2,0,4,0,0,8,0,0,0,44,3,0,0,0,0,2,0,4,0,3,5,0,0,0,0,0,0,0,0,0,0,0,0,0,0,0,0,0,0,0,0,0,0,0,0,0,0,0,0,0,0,0,0,0,1,0,0,5,0,1,0,0,0,0,0,0,3,1,0,0,0,1,2,0,0,0,0,2,0,1,0,6,0,0,5,0,0,0,0,0,0,0,0,3,0,0,1,0,0,4,3,0,0,1,0,0,1,0,0,0,2,0,0,0,0,1,1,0,1,0,0,2,6,3,0,2,0,3,0,0,6,0,1,0,3,0,3,5,0,0,3,5,6,4,9,7,2,0,7,0,0,2,0,4,0,0,2,0,0,7,1,6,0,0,10,10,2,0,5,3,0,0,2,2,5,0,0,0,1,3,2,2,1,4,4,4,5,3,6,3,2,5,8,4,0,15,1,5,1,6,3,3,2,0,5,0,12,9,1,2,10,0,5,2,1,11,1,7,5,8,11,5,2,0,4,10,5,3,6,4,5,10,5,0,8,6,7,10,6,2,4,2,5,1,7,4,10,2,3,7,4,5,4,7,4,6,6,10,0,0,8,0,3,0,8,0,3,8,8,8,8,3,5,9,4,3,3,0,3,3,7,6,7,15,3,2,14,7,9,1,12,0,9,5,6,8,3,19,7,1,3,7,5,2,6,6,1,8,2,5,2,10,7,10,2,3,8,19,1,6,6,3,4,2,13,7,5,2,2,5,2,10,13,2,3,2,0,5,3,0,8,1,5,3,17,3,2,2,0,13,0,0,4,0,2,0,0,0,0,0,0,0,0,0,0,0,0,0,0,0,3,0,0,0,0,0,0,0,1,0,0,0,0,0,0,0,0,0,0,0,0,0,0,0,0,0,0,0,0,0,0,0,0,0,0,0,0,8,0,2,0,0,9,3,3,0,0,0,8,0,6,0,0,3,0,0,1,5,0,11,6,4,2,0,0,0,0,0,0,3,0,0,0,0,0,1,0,8,0,0,0,0,0,0,0,0,0,0,0,0,0,0,4,0,0,0,0,0,0,0,0,0,0,0,0,0,0,0,0,0,0,3,0,0,0,0,0,0,0,0,0,0,0,0,0,0,0,0,0,0,1,0,0,0,0,0,0,0,0,0,0,3,0,0,0,0,0,0,0,0,0,0,0,0,0,0,0,1,0,0,0,0,0,2,0,0,3,0,4,4,0,2,4,7,1,0,6,2,6,4,3,4,4,2,4,0,1,0,11,4,4,8,0,2,2,4,2,2,0,2,5,4,5,4,0,4,1,6,5,5,0,1,5,0,1,3,11,0,0,6,8,4,4,3,3,2,3,0,3,2,0,6,3,4,7,4,3,0,5,0,2,9,2,5,6,7,9,3,7,5,3,17,7,0,2,11,9,13,10,0,5,11,3,8,7,2,11,3,0,4,12,8,6,10,7,0,11,4,5,1,7,5,2,6,1,6,0,14,5,20,1,5,2,8,0,3,3,3,7,5,8,7,0,5,7,4,8,9,16,13,0,0,6,1,2,4,1,1,12,2,17,17,0,0,0,0,0,0,0,0,0,5,0,0,5,0,0,0,1,9,0,0,0,0,0,0,0,0,0,0,0,10,4,0,0,0,0,0,0,3,0,1,0,0,0,0,0,0,0,0,0,0,0,0,0,1,11,0,0,0,0,0,0,0,0,0,0,0,0,2,1,0,0,0,5,1,0,1,0,1,0,0,0,1,0,0,0,0,2,1,0,0,0,5,0,0,0,0,0,0,0,3,0,0,2,0,0,0,0,3,2,4,0,0,0,4,0,0,0,0,0,0,2,0,0,0,0,6,0,0,0,3,0,5,0,3,0,0,0,7,0,0,0,2,9,3,2,3,0,3,0,0,1,2,2,7,3,3,4,3,6,5,6,0,5,0,20,0,11,5,3,6,0,0,8,2,4,0,0,0,0,8,2,5,5,3,7,2,0,6,6,6,12,4,15,5,10,0,5,9,3,9,0,6,13,4,2,7,22,8,10,6,8,9,5,12,0,0,3,10,13,2,15,5,3,5,2,3,8,4,2,7,9,18,6,1,5,4,9,3,11,15,1,11,6,3,13,4,3,0,5,2,13,0,0,40,25,0,0,0,0,0,0,0,0,5,0,0,0,0,0,0,0,0,0,0,0,3,0,0,0,0,0,0,3,8,10,1,0,0,0,20,0,0,0,0,0,0,0,4,0,0,1,0,0,0,5,0,1,5,0,4,0,0,0,13,1,16,0,0,17,0,0,0,18,8,4,0,8,6,0,0,0,0,0,0,0,0,0,0,0,0,0,0,0,0,0,0,0,0,0,0,0,0,0,0,0,0,0,0,0,0,0,0,0,0,3,0,0,0,0,0,0,0,0,0,0,0,0,0,0,0,0,0,0,30,0,0,0,0,0,0,0,0,0,0,0,2,0,0,0,0,0,3,0,0,0,1,0,0,0,0,0,3,0,1,0,0,0,0,0,0,0,0,0,4,2,5,1,0,0,0,0,2,1,0,0,1,2,0,0,0,6,0,0,0,0,0,0,5,0,0,0,0,0,0,0,0,0,2,0,0,0,0,0,2,1,0,0,0,0,0,2,0,1,0,2,5,0,0,2,0,0,7,0,1,5,8,0,2,1,0,0,2,0,0,3,0,0,0,6,0,1,4,6,3,5,2,0,3,6,3,0,1,3,6,3,5,0,3,3,7,0,0,0,0,3,4,3,0,0,7,5,3,3,8,3,4,0,1,1,5,1,3,0,3,0,5,9,4,7,0,12,4,0,13,6,7,5,9,5,9,5,2,4,4,2,9,0,2,3,4,6,10,3,7,4,12,8,0,8,11,0,8,17,5,8,4,1,4,6,2,10,5,6,5,5,8,6,3,3,4,6,5,0,6,4,14,1,9,4,7,2,0,9,18,7,9,5,8,5,15,4,0,14,17,10,12,6,4,6,5,6,9,3,0,4,4,13,3,5,10,4,8,0,4,5,5,3,1,0,9,3,5,0,4,5,6,15,1,7,0,4,3,1,6,2,7,0,9,11,4,9,0,5,0,12,5,3,4,9,5,3,1,2,0,4,2,11,2,5,3,1,2,10,2,2,0,0,2,0,0,0,8,3,0,0,0,0,4,0,3,3,2,4,0,1,13,0,2,0,1,5,0,0,0,0,0,0,6,0,0,0,0,0,0,22,4,0,0,0,0,2,0,0,0,0,0,0,0,0,0,0,0,0,0,0,0,0,5,35,0,0,0,0,0,0,0,0,0,0,0,4,0,0,0,0,0,0,0,0,1,0,0,0,1,6,35,2,0,0,0,1,0,7,0,2,2,0,0,4,3,0,0,0,2,0,3,0,0,0,0,0,0,0,5,9,0,0,0,0,0,0,0,0,0,0,0,0,0,0,0,0,4,6,3,0,0,0,0,0,0,0,0,0,0,0,0,0,0,0,2,5,0,0,0,0,0,0,0,0,0,0,0,0,0,0,0,0,0,0,0,0,0,0,0,0,0,0,0,0,0,0,0,0,0,0,0,0,0,0,5,4,5,0,0,0,0,1,0,0,0,0,0,0,0,0,0,0,10,0,0,0,0,0,0,0,0,1,0,0,1,0,0,0,0,0,0,0,4,15,0,0,0,0,0,0,0,0,0,0,0,0,0,0,0,0,0,0,0,0,0,0,0,0,0,0,0,1,0,0,0,0,0,0,1,0,0,0,0,0,0,0,0,0,1,0,0,0,0,1,0,0,0,0,0,0,1,0,0,0,5,0,0,0,0,1,0,0,1,0,0,0,0,0,0,0,2,2,0,1,0,0,0,0,0,1,0,1,0,0,1,0,0,0,1,0,0,0,3,0,0,1,0,0,0,0,0,1,0,1,0,0,0,0,0,0,0,1,0,0,0,1,2,0,5,0,5,0,3,0,0,4,2,1,3,0,0,0,0,0,0,10,6,5,0,0,0,0,0,1,0,0,0,0,1,6,0,0,0,0,0,0,0,0,2,0,0,0,7,1,0,0,3,0,1,0,0,0,3,0,0,7,4,1,0,1,0,0,0,0,0,2,1,0,0,1,0,0,0,0,6,11,0,0,0,0,0,0,0,0,1,0,0,0,0,0,0,0,0,0,3,2,0,0,0,4,0,0,0,2,1,6,0,0,0,5,0,0,0,2,4,0,0,0,0,8,3,0,0,0,0,0,0,9,0,2,3,0,1,0,4,0,0,7,0,0,9,0,0,0,0,3,0,0,0,0,1,0,0,0,3,8,1,0,9,0,3,0,9,0,0,1,0,3,3,0,0,6,0,11,0,0,11,7,8,0,2,0,0,0,0,0,0,0,1,0,8,0,1,0,0,10,0,0,11,0,0,0,0,0,0,0,0,9,1,0,4,0,0,0,7,10,0,0,0,0,0,4,8,0,3,0,0,0,0,0,0,9,0,0,0,0,0,7,10,3,0,0,0,0,0,1,8,3,2,0,0,0,0,7,0,0,0,15,0,0,3,5,7,0,6,0,0,0,3,15,0,9,4,0,0,0,0,0,0,0,0,0,0,0,0,0,0,0,0,0,6,0,5,13,20,0,3,9,0,3,5,0,6,7,0,0,5,4,0,0,0,4,9,1,0,0,4,0,5,0,0,0,0,1,0,0,0,7,0,6,0,0,0,0,0,1,0,5,12,3,5,7,0,0,0,1,0,4,0,10,7,4,2,0,0,0,0,1,10,7,0,0,3,1,0,30,3,0,0,5,6,9,0,3,0,15,6,7,0,0,8,0,0,0,0,0,0,0,0,6,2,9,0,2,0,0,4,0,11,0,0,0,9,0,0,0,0,0,5,1,0,14,0,11,11,11,0,14,1,0,0,0,7,0,0,0,1,12,5,0,5,0,0,0,0,10,10,5,0,9,0,6,0,0,9,2,0,0,2,16,7,6,0,4,4,0,1,5,0,0,0,12,0,0,8,0,0,0,8,6,10,0,1,0,9,0,0,2,0,0,0,4,0,0,0,5,0,10,0,0,0,0,0,0,0,0,0,0,4,0,3,13,0,0,3,0,3,0,0,10,0,2,0,3,0,4,11,0,0,0,6,0,0,0,0,0,0,2,0,10,5,0,3,0,0,3,2,0,4,1,4,15,10,2,5,0,3,0,5,3,0,3,3,0,0,6,4,0,5,3,0,0,4,10,1,4,4,4,0,0,4,7,0,5,7,0,9,8,4,0,0,0,3,0,0,2,0,0,0,0,0,0,6,5,3,0,0,0,0,0,2,2,0,0,0,0,0,3,0,0,0,0,0,0,0,0,0,0,0,0,0,3,0,0,5,50,0,0,0,0,0,0,0,0,0,0,0,0,0,0,0,0,30,0,0,0,0,0,0,0,0,0,0,0,4,0,0,0,3,0,0,0,0,1,0,0,0,0,0,0,6,2,0,0,0,2,0,0,0,0,0,0,0,0,0,0,0,0,0,0,0,0,0,0,13,0,0,0,0,0,0,0,0,4,0,0,0,0,0,0,0,0,0,0,10,14,91,0,0,0,0,0,0,0,0,0,0,2,0,9,1,0,1,0,0,0,0,0,0,0,0,0,0,0,0,0,0,0,0,0,0,0,0,0,0,0,0,0,0,0,1,0,0,0,0,0,0,0,1,0,2,0,0,0,0,0,0,0,0,0,0,0,0,0,1,0,0,0,0,0,0,7,0,2,0,5,0,0,1,0,0,0,0,3,2,0,0,6,9,0,1,0,0,2,0,0,0,0,0,1,0,6,0,0,5,3,0,0,5,0,0,2,2,0,6,0,5,0,2,7,0,0,6,5,0,2,2,3,3,8,0,5,0,2,2,0,7,8,3,0,1,2,1,5,1,0,0,1,0,10,5,0,7,0,0,3,9,2,7,0,0,4,0,3,0,2,0,0,0,7,3,4,8,7,0,0,1,0,7,0,5,0,0,6,9,6,2,1,4,0,4,2,0,3,0,22,0,3,0,1,1,4,6,3,7,1,1,2,0,1,9,1,0,4,0,18,9,0,3,2,0,3,4,2,0,11,0,4,5,10,0,0,7,8,3,7,2,0,12,11,2,3,9,0,3,2,4,0,6,1,2,0,3,8,1,4,1,0,7,3,5,4,2,1,1,0,7,6,0,5,13,0,9,2,7,0,4,5,7,7,0,3,0,0,3,3,4,4,4,5,3,3,0,2,6,6,4,5,4,2,3,2,3,2,1,4,4,3,5,7,8,5,5,3,10,5,0,9,0,2,5,0,7,5,10,18,9,10,10,0,1,4,0,7,10,2,3,6,10,4,7,0,2,4,3,36,8,8,4,7,11,10,9,15,5,14,5,2,9,6,4,0,5,4,9,4,5,8,2,4,7,0,0,12,6,8,6,40,2,0,5,15,40,9,3,0,18,15,0,0,10,11,3,1,7,7,8,0,0,0,5,0,4,7,4,0,0,7,6,7,5,13,0,0,9,16,11,13,1,0,3,0,17,5,6,4,3,0,0,6,0,15,1,3,7,1,10,6,6,0,15,0,6,0,0,0,1,0,10,0,14,5,0,15,4,13,3,5,8,5,5,0,11,3,8,8,8,7,8,4,6,10,0,5,3,0,3,0,5,19,3,6,7,0,9,2,14,0,2,0,11,5,1,2,16,24,9,5,0,0,10,10,18,7,6,12,5,0,6,5,2,0,2,10,0,2,4,3,0,5,6,6,5,0,5,2,10,0,9,4,0,11,7,5,0,0,8,3,4,0,20,9,0,0,8,5,3,4,2,12,3,0,0,0,5,3,2,1,0,13,9,8,4,0,0,3,0,11,8,6,7,14,6,5,2,5,7,2,4,0,2,10,0,6,6,3,5,4,3,2,1,5,0,0,1,6,0,0,0,6,0,0,0,0,0,7,3,1,12,0,0,0,0,0,0,0,0,0,3,0,0,0,0,5,0,0,0,0,0,0,0,0,0,0,0,0,0,0,0,1,0,0,10,16,0,0,0,0,9,0,2,0,0,10,0,0,0,0,0,6,0,0,0,21,4,0,0,8,0,0,1,0,0,0,1,1,3,0,9,0,6,2,0,2,4,3,3,0,4,0,0,3,0,0,4,0,0,0,0,0,0,0,0,0,0,3,7,3,0,0,0,1,0,0,3,19,0,0,0,4,15,15,7,7,10,0,0,1,17,2,1,0,0,0,0,0,0,0,0,0,0,0,0,0,0,0,0,0,0,0,0,0,0,0,5,9,0,0,0,0,0,0,1,0,0,0,0,0,0,1,0,0,0,4,6,10,1,0,0,0,0,0,0,1,0,0,0,0,3,3,3,0,16,3,0,1,0,0,0,0,0,1,3,0,0,0,0,6,0,5,4,5,2,0,0,0,0,0,0,0,0,0,0,3,1,0,0,0,3,5,2,0,0,0,1,2,0,0,1,10,0,0,0,2,3,23,0,0,1,0,7,0,2,0,5,0,3,5,0,6,0,15,10,0,0,0,0,0,5,0,0,4,2,1,0,1,0,4,9,4,0,0,0,3,0,0,0,0,0,6,0,3,2,0,3,19,1,0,0,3,0,0,2,0,2,5,2,3,1,0,3,0,5,1,0,0,12,3,0,1,0,7,4,0,6,1,2,2,0,4,4,0,1,2,0,0,0,3,3,0,4,0,4,0,16,1,2,3,2,3,5,0,0,0,8,0,1,0,1,0,4,1,3,0,4,5,1,5,2,0,5,4,2,2,8,5,8,5,2,2,3,0,5,4,0,2,2,6,0,4,0,9,4,3,4,2,10,7,2,0,4,7,5,3,5,5,5,3,6,5,3,6,7,5,11,9,8,3,4,7,7,7,5,3,1,8,0,1,4,5,9,3,5,11,4,9,5,4,5,0,5,11,3,6,6,4,7,7,5,1,5,8,5,5,3,5,3,6,7,2,5,5,10,0,6,5,0,3,9,8,4,6,2,1,4,10,5,12,16,6,0,2,5,4,6,3,8,0,5,0,0,10,4,4,6,5,4,3,6,0,10,5,2,6,9,0,42,2,6,9,11,16,12,6,2,0,13,12,1,0,12,6,2,0,0,0,3,0,0,12,4,0,4,4,0,4,6,18,4,8,0,0,6,7,6,2,6,0,1,0,0,13,40,1,6,4,0,2,0,1,9,0,0,10,4,0,0,6,0,1,11,3,17,0,3,14,0,0,0,0,0,0,0,0,7,0,0,0,0,0,0,0,25,28,0,25,22,18,0,0,0,0,6,1,0,0,0,0,0,0,0,0,0,0,20,0,0,0,0,0,25,0,0,0,0,0,0,0,3,5,20,0,0,0,0,0,0,15,0,0,0,0,17,0,0,0,0,0,0,0,0,0,0,0,0,0,0,0,0,0,0,0,1,18,10,0,0,14,10,0,0,0,0,0,0,13,0,0,4,10,0,8,0,0,6,0,0,0,0,4,0,0,0,2,0,5,0,14,0,0,0,0,0,0,10,4,0,0,0,6,0,0,11,12,0,0,5,0,0,0,1,2,7,6,0,0,0,0,4,5,12,0,1,0,0,0,0,0,0,17,3,1,9,1,0,0,0,0,0,0,0,0,0,3,4,0,0,5,0,0,0,0,0,0,0,0,0,0,0,0,0,0,0,0,0,0,0,0,0,0,0,0,0,0,0,0,0,0,0,0,0,0,0,2,3,0,0,0,0,0,0,0,0,0,0,2,0,0,0,0,0,0,4,6,0,0,0,0,0,0,1,0,0,0,0,0,0,0,0,0,0,0,0,0,0,0,0,0,0,0,0,0,5,0,0,0,0,0,0,0,0,0,6,0,0,0,0,0,0,0,0,0,6,0,0,0,0,0,5,0,0,0,0,3,0,1,0,0,0,0,4,0,0,0,2,1,5,0,0,3,0,0,0,0,0,0,2,1,3,0,4,0,0,0,1,0,4,3,0,0,4,0,6,0,0,0,0,2,0,0,0,0,4,0,0,0,1,0,2,0,5,3,0,2,5,0,1,0,0,3,5,2,3,7,3,1,0,0,0,0,7,1,0,0,10,9,2,2,0,1,1,0,4,0,1,0,1,0,9,2,0,0,0,3,8,0,5,0,2,0,0,3,8,3,0,1,4,5,1,0,6,3,3,11,2,0,3,11,10,3,9,5,1,3,6,7,5,11,0,2,4,5,0,10,2,3,2,2,3,5,0,0,7,5,7,7,1,3,0,3,2,0,5,5,0,0,2,5,8,4,3,4,0,6,5,0,0,3,5,5,10,0,0,11,5,2,3,0,2,1,11,11,6,9,4,5,12,5,3,5,5,9,0,3,2,2,3,6,9,8,7,4,3,6,9,7,0,5,10,0,0,2,4,3,0,4,0,12,6,8,1,0,7,5,8,0,3,0,0,0,0,0,0,7,18,14,8,7,0,6,5,8,15,3,2,0,6,0,3,4,0,5,5,18,6,10,6,0,0,7,0,17,7,8,10,7,7,15,0,0,0,9,3,8,8,5,3,10,1,6,8,5,6,5,0,0,0,0,12,0,8,4,4,0,2,10,4,2,0,1,5,0,0,6,0,0,4,2,3,0,1,4,1,0,1,0,5,1,0,5,4,0,0,4,5,5,9,0,10,5,0,5,0,0,5,0,0,0,0,0,0,0,0,0,0,0,0,0,0,0,0,0,0,0,0,0,0,0,0,5,0,0,0,0,0,0,0,0,0,0,0,0,0,0,2,0,0,0,0,0,1,0,0,0,0,0,0,0,0,0,0,0,0,2,7,7,0,0,0,0,6,5,0,0,0,0,0,0,0,0,0,0,2,2,0,7,0,0,0,0,0,0,0,1,6,15,0,0,4,0,0,1,0,0,0,0,0,0,0,0,0,0,0,0,0,0,0,0,0,0,0,0,0,0,0,0,0,0,0,0,0,0,0,3,12,5,4,15,13,0,0,0,0,0,0,0,0,0,0,0,0,0,0,1,0,0,0,0,0,0,0,0,0,0,0,1,0,0,5,0,0,2,1,0,1,0,0,0,1,0,0,0,0,0,0,0,0,0,5,0,1,4,0,2,0,0,0,0,0,2,3,0,0,1,0,2,3,0,1,0,3,6,0,0,0,3,2,0,1,1,0,7,2,4,0,0,0,0,1,0,0,4,4,4,3,0,0,4,0,6,4,0,4,8,6,0,5,0,0,7,5,11,5,0,6,3,1,1,8,4,1,6,0,0,0,0,18,6,0,0,6,3,1,4,2,8,0,11,4,4,9,0,2,0,5,7,0,4,0,4,14,5,2,4,4,5,8,0,0,0,5,0,8,0,5,0,7,10,6,10,0,7,10,11,9,7,3,10,9,7,6,11,8,0,3,9,0,7,5,8,10,10,0,2,10,0,0,6,6,8,12,5,0,4,0,3,9,13,5,3,0,5,6,9,0,1,2,6,4,2063,7,7,3,7,6,7,3,7,6,5,5,8,10,5,5,9,13,4,10,7,9,0,16,16,4,15,5,0,7,7,8,9,10,5,0,16,3,5,22,14,2,15,15,4,10,10,42,0,7,6,4,7,8,11,14,0,0,9,6,0,3,11,4,8,14,5,2,4,6,0,2,3,5,6,4,11,0,2,0,0,4,0,0,4,1,2,0,2,1,3,6,0,0,2,1,0,6,0,5,0,0,1,2,0,0,0,0,0,0,0,0,0,0,0,0,7,0,0,0,0,0,0,0,0,0,0,0,0,0,3,0,0,5,0,0,0,0,0,0,0,0,0,0,3,0,0,0,0,0,0,0,0,0,2,0,0,0,1,0,0,0,0,0,5,0,0,0,0,0,1,0,0,0,0,0,0,0,0,0,0,2,0,0,0,11,3,7,1,0,0,0,0,5,5,0,2,0,0,0,0,0,0,0,1,4,10,5,0,2,0,0,0,0,0,0,0,0,1,0,0,0,0,0,2,0,0,0,0,0,0,0,0,0,0,0,0,0,0,0,0,0,0,0,0,0,0,0,0,0,0,0,0,0,6,0,0,0,0,0,0,1,0,0,0,0,3,0,0,0,0,0,0,0,0,0,0,4,0,0,0,0,0,0,0,0,1,0,0,0,0,0,0,0,0,3,0,0,6,0,0,0,0,0,0,0,0,0,0,0,0,0,0,0,0,0,0,0,0,0,0,0,0,0,1,1,8,0,2,5,0,0,0,3,0,0,0,0,0,0,3,0,6,0,0,1,0,0,7,3,9,1,2,0,0,2,7,0,2,0,2,2,0,3,6,0,0,0,3,3,5,1,0,6,2,0,8,9,5,0,8,0,3,0,1,10,0,6,0,0,1,12,0,1,4,3,5,2,0,0,1,3,0,12,2,12,0,0,0,2,6,6,8,7,9,4,4,0,1,5,11,0,5,10,1,4,9,9,5,7,9,5,4,1,7,4,8,3,5,3,3,2,3,11,3,9,6,5,7,4,9,2,3,8,9,19,4,5,7,3,2,6,7,7,11,2,4,0,0,7,0,12,6,4,9,12,6,11,2,12,11,10,2,0,15,6,7,15,10,6,5,7,8,4,8,9,4,13,6,1,7,2,2,9,4,4,0,0,3,6,1,0,3,0,0,1,3,2,1,7,0,13,4,4,11,4,2,4,0,5,0,6,4,20,1,24,9,0,0,5,0,20,0,0,0,0,0,0,0,0,0,0,3,0,0,7,0,7,0,0,0,0,0,0,0,0,0,0,0,0,0,0,0,0,0,0,6,0,0,0,0,10,0,0,0,0,7,0,5,0,7,0,0,0,4,0,0,0,5,0,4,1,5,0,2,2,0,2,0,0,0,32,1,0,0,15,0,0,0,0,0,0,0,0,0,0,0,0,0,0,0,0,0,0,0,0,0,0,0,1,0,0,0,0,0,0,0,0,0,0,0,0,0,0,0,1,0,0,0,0,1,0,0,0,0,0,0,0,0,0,0,0,0,0,0,0,0,0,0,2,0,0,0,0,0,0,0,0,0,0,0,0,0,0,2,0,0,0,0,0,0,0,0,0,0,0,0,0,0,1,3,0,0,0,0,0,1,2,0,0,0,0,0,0,2,0,0,0,1,0,2,0,2,0,0,5,0,1,1,0,0,0,0,1,0,1,0,4,0,5,0,0,8,1,0,0,0,3,0,0,0,0,0,0,1,0,0,0,0,2,0,0,6,5,0,6,2,0,2,0,0,0,0,0,0,0,8,4,4,9,4,0,2,9,3,0,1402,7,9,5,2,0,9,6,4,4,7,0,4,0,6,2,10,2,5,3,7,0,5,4,6,0,8,5,1,4,7,5,14,3,6,0,5,9,5,7,1371,0,4,4,0,5,9,11,3,0,3,6,6,7,7,12,4,7,10,8,8,6,3,5,10,2,6,8,2,6,1,6,0,8,3,0,5,11,8,9,13,7,1,0,10,12,15,2,3,6,18,16,5,9,10,6,1,0,15,9,4,5,2,6,9,8,3,0,3,0,1,5,4,0,6,4,4,12,0,8,0,10,4,10,9,6,0,8,0,0,6,1,3,1,0,9,4,2,2,0,1,17,0,4,0,0,6,0,0,0,0,0,0,0,0,0,0,0,0,0,0,3,5,7,0,0,0,7,0,0,0,0,0,0,0,0,0,0,0,0,0,0,1,0,14,0,0,0,0,0,0,11,0,13,5,0,0,0,0,0,0,1,1434,0,0,0,0,0,0,0,4,13,14,0,0,0,0,5,0,0,1402,0,0,0,0,0,6,0,0,40,0,0,25,0,0,0,4,0,0,0,0,0,0,2,6,0,0,0,5,1,0,0,0,0,0,0,0,0,2,1402,0,0,0,0,0,0,0,0,0,0,0,0,0,0,0,0,1434,0,0,1,0,0,0,0,0,0,0,0,0,0,0,0,0,0,0,0,1,0,0,0,1,0,0,0,0,0,0,0,0,0,0,0,1,1,0,1434,0,0,0,0,0,0,0,0,1,0,0,0,1,3,1,0,0,0,0,0,0,0,0,0,2,0,0,0,0,0,0,0,2,2,0,0,0,0,0,0,20,1,0,0,0,1,0,3,0,0,0,2,0,0,0,7,2,0,1434,6,1,2,0,0,0,1,0,9,0,0,0,0,3,2,5,2,0,12,0,6,11,1,7,5,9,5,4,6,0,11,0,6,5,4,3,0,1402,0,6,0,7,4,5,3,0,4,1,6,0,7,0,6,3,0,1434,1,7,3,9,2,1,11,3,8,10,11,3,6,7,0,8,0,0,9,4,4,4,0,5,6,0,5,4,1,7,3,0,0,5,4,3,7,7,4,15,15,4,0,2,5,12,4,10,6,3,8,0,12,8,6,0,16,3,16,13,0,1434,0,0,0,0,0,0,0,0,0,0,0,15,0,0,0,0,1,0,0,0,0,0,0,0,0,0,0,0,0,0,0,0,0,0,5,0,0,0,0,0,0,0,0,0,0,0,0,5,0,0,0,0,0,18,0,0,3,0,0,0,0,0,0,0,0,0,0,0,0,0,0,0,0,0,0,0,0,0,0,0,0,0,0,0,0,1,0,0,0,0,0,0,0,0,0,0,0,0,1,9,0,2,0,0,0,0,0,0,0,0,0,0,0,0,0,0,0,0,0,0,0,0,0,0,0,0,0,0,0,0,0,0,0,0,0,0,0,0,0,0,0,0,0,1,0,0,0,0,0,1,0,0,0,0,0,0,0,1,0,0,0,0,0,0,0,0,0,0,1,0,0,0,0,0,0,1,0,0,0,0,0,0,0,0,1,0,1,0,0,0,0,2,0,1,0,0,0,0,0,0,1,0,0,0,0,0,1,0,0,0,0,0,0,0,0,0,0,0,0,0,2,0,1,0,0,0,0,0,0,0,1,1,0,0,0,0,0,0,3,0,0,0,0,0,0,0,1,0,0,0,0,1,0,0,1,0,0,1,0,1,3,2,0,0,0,0,0,1,1,1,0,2,3,1,0,0,1,1,1,2,9,0,1,3,0,1,0,0,0,2,3,0,0,0,0,0,0,2,4,0,0,0,4,1,1,0,0,0,2,0,1,5,2,0,4,0,1,0,4,2,1,8,0,2,6,2,0,3,0,0,1,4,2,0,4,1402,0,0,0,8,3,1,0,0,3,2,3,0,5,1,10,5,0,1,0,2,0,15,5,0,1,4,7,6,0,3,0,3,4,7,1434,1,2,6,4,0,3,0,4,4,3,8,2,4,3,0,0,2,3,0,1434,5,1,0,3,3,7,2,6,6,2,9,0,0,11,0,0,4,7,5,3,11,4,4,1,3,0,5,3,5,12,6,6,0,1,2,5,5,0,35,10,0,3,6,0,12,5,7,3,22,3,4,0,5,0,7,10,0,0,5,4,4,7,0,6,6,0,7,11,1,4,0,2,9,0,10,0,0,0,5,1,2,3,8,7,11,7,6,7,0,2,7,8,12,4,4,6,8,5,0,5,1,0,1,0,1,0,35,3,2,8,5,3,0,10,1,4,6,0,2,1,6,12,5,1,0,0,0,0,1,3,3,1,1,0,10,0,2,2,0,0,13,0,3,10,3,3,0,6,9,6,3,4,5,2,2,1,0,15,5,3,8,3,0,7,19,10,18,3,11,4,2,4,0,0,0,10,7,2,0,6,10,4,2,10,0,3,14,18,10,1,0,14,8,7,9,1,9,0,3,14,7,1,5,0,0,0,2,14,2,2,4,1,8,0,0,5,5,0,4,1,5,2,0,3,5,5,5,0,13,2,1,4,3,0,3,3,3,0,3,1,3,3,3,6,6,6,3,17,2,1,1,2,0,0,0,0,5,1,0,2,0,0,3,18,1,17,0,0,0,0,22,0,0,0,0,0,0,0,0,0,0,0,0,0,0,0,0,0,0,0,2,0,9,0,5,0,0,0,0,0,0,15,2,0,0,0,0,0,0,0,0,0,0,0,0,0,0,0,2,0,0,5,0,0,0,0,0,0,0,9,0,0,0,0,0,0,0,0,0,0,0,15,9,0,10,16,9,0,0,0,0,0,0,0,1,0,0,7,6,7,2,0,0,0,0,0,0,0,0,0,0,0,0,0,0,0,0,0,0,0,0,0,0,0,0,0,0,0,0,0,0,0,0,0,0,0,0,0,0,0,0,0,0,0,0,0,0,0,0,0,0,2,0,0,0,0,0,0,0,0,0,0,0,0,0,0,0,0,0,0,0,0,2,0,0,0,0,0,0,0,0,3,0,0,1,0,2,1,1,4,1,0,0,0,0,1,0,0,0,0,1,0,0,2,1,0,0,1,1,0,0,1,0,1,0,0,0,2,1,0,0,1,0,0,0,2,1,0,0,0,0,0,0,3,3,3,3,0,7,2,0,0,0,0,0,0,0,0,1,0,0,0,0,0,0,3,0,0,0,0,2,0,0,0,3,0,8,2,3,0,9,0,2,0,0,0,0,3,2,2,2,5,0,4,0,2,0,17,4,5,4,0,6,0,0,5,0,0,6,3,3,2,0,3,0,7,7,4,0,1,0,5,4,3,6,7,4,0,7,6,9,7,6,5,0,10,2,7,9,4,7,0,10,0,6,6,13,7,6,4,11,3,5,3,5,6,10,8,5,9,1,3,7,7,3,5,9,8,1,8,4,7,13,14,2,0,20,8,4,9,2,2,4,3,6,0,3,7,0,18,0,4,0,0,7,7,4,9,5,5,9,9,16,1,5,15,11,5,5,6,7,0,10,12,8,3,8,4,0,1,0,0,2,15,5,4,0,11,5,4,0,9,2,7,0,2,0,2,10,2,5,6,13,0,5,3,4,0,5,3,0,1,8,6,1,12,3,8,5,2,12,7,2,12,12,9,7,4,9,5,7,15,15,7,5,2,14,4,11,8,2,7,16,3,6,10,8,2,0,11,2,2,5,0,0,16,3,15,20,0,7,9,5,9,3,6,8,0,4,5,2,1,0,6,17,0,2,16,7,0,0,0,0,0,0,3,0,0,30,0,6,0,0,0,0,0,0,28,25,0,0,0,0,0,0,0,0,0,0,0,0,0,3,2,0,0,0,0,0,0,0,0,0,0,0,0,0,0,0,0,8,0,0,0,0,0,0,0,3,7,0,0,1,0,0,0,0,1,0,0,0,0,0,4,0,0,0,2,0,0,0,45,0,0,0,5,0,0,0,0,0,6,0,7,0,1,0,2,6,0,0,3,2,1,0,0,0,2,0,0,0,0,0,3,0,0,0,0,0,0,0,0,0,0,0,0,0,0,0,0,0,0,0,0,0,0,2,0,0,0,0,0,0,0,0,0,0,0,0,0,0,0,0,0,0,0,0,0,0,0,0,0,0,0,0,0,0,0,0,0,0,0,0,0,0,0,0,0,0,0,0,0,0,0,0,0,0,0,0,0,0,0,0,0,0,0,0,0,0,0,0,0,0,0,0,0,0,0,0,2,2,0,0,0,0,0,0,0,0,0,0,0,0,0,0,0,0,0,0,4,0,0,0,0,0,0,0,0,1,0,0,1,0,0,0,0,0,0,2,3,3,0,0,0,2,3,0,0,0,0,0,0,2,2,1,0,0,0,0,2,0,0,0,0,2,0,0,0,2,2,1,0,0,0,2,2,1,0,0,0,4,1,0,3,2,0,0,2,0,16,9,7,2,0,7,2,0,0,0,5,0,0,0,0,2,0,0,1,11,0,7,1,12,1,0,4,0,0,0,0,5,0,1,4,2,0,0,0,2,0,0,1,0,4,5,3,5,11,0,1,1,0,0,4,7,0,3,0,4,1,1,3,0,4,0,0,0,3,9,2,0,0,3,10,0,0,3,0,15,1,0,32,0,7,4,3,0,0,5,0,2,0,0,0,0,3,1,5,2,0,15,2,4,2,5,7,1,2,1,0,5,2,3,6,4,1,1,2,13,3,7,6,9,0,0,35,2,4,7,3,12,2,4,5,11,8,8,5,2,0,5,12,3,8,5,8,0,6,2,1,9,4,0,5,3,6,5,4,11,2,1,3,8,11,6,2,3,0,0,7,11,12,5,20,1,4,6,6,2,12,0,9,7,0,4,2,4,5,12,12,5,2,2,19,7,5,3,5,4,3,3,40,6,0,4,0,0,3,3,10,3,9,1,5,4,4,2,8,1,13,3,3,7,9,6,3,0,9,5,3,3,7,4,0,4,7,15,4,3,5,15,0,1,0,2,0,8,4,3,0,5,6,1,12,9,0,9,2,5,14,1,0,0,16,4,2,14,12,0,3,2,1,14,17,6,5,2,23,3,3,2,0,6,3,1,4,2,2,0,5,2,4,0,3,0,2,2,0,5,5,1,1,16,1,3,5,0,2,5,15,14,6,1,0,6,14,0,0,4,5,0,0,2,1,0,0,0,5,0,30,28,0,0,40,15,0,30,0,0,0,2,0,0,0,0,0,0,0,0,0,0,0,0,0,0,0,0,3,0,0,5,0,0,0,0,0,0,0,0,0,0,0,0,0,0,0,0,0,0,0,0,0,0,0,0,0,6,0,0,0,0,2,0,5,0,0,0,0,0,0,4,0,1,0,1,0,0,0,7,0,3,0,0,11,4,0,4,3,0,2,0,2,0,0,0,1,7,0,28,0,0,1,0,0,0,2,0,3,0,0,12,2,0,0,0,0,0,0,0,0,0,0,0,0,0,0,0,3,0,0,0,0,0,0,0,0,0,0,0,0,0,0,0,0,0,0,0,0,0,0,0,0,0,0,0,0,0,0,0,0,0,0,0,0,0,0,0,0,0,0,0,5,0,0,0,0,0,0,0,0,0,0,0,0,0,0,0,0,0,0,1,0,0,0,0,0,2,0,0,0,0,0,1,0,0,0,0,0,0,1,0,0,0,1,0,0,1,0,0,0,1,0,0,0,0,2,1,0,0,0,0,0,3,0,0,0,0,0,0,1,0,0,6,0,0,6,0,5,0,1,1,5,0,1,3,0,0,4,1,1,0,5,0,2,2,0,0,0,0,0,2,1,0,0,3,0,2,2,4,4,3,1,0,2,0,0,3,3,15,3,7,0,2,0,0,5,4,3,5,1,1,6,11,9,5,4,4,2,7,0,2,3,0,7,7,6,11,0,2,5,5,4,11,0,4,4,9,12,5,2,0,3,4,6,4,8,1,7,0,6,0,3,10,6,4,9,3,10,0,6,0,5,11,7,10,10,10,12,11,22,0,7,11,3,2,5,8,7,12,3,9,14,6,4,0,4,0,10,3,1,6,4,2,2,11,8,14,0,9,3,0,10,13,6,6,12,8,5,3,7,6,3,12,15,2,8,4,0,1,12,4,0,14,0,15,15,2,0,4,7,0,12,2,10,4,3,4,19,3,2,0,0,2,2,1,3,5,0,0,5,18,4,2,7,10,3,4,5,3,1,0,5,1,0,0,0,0,3,0,0,0,0,0,0,0,0,0,0,0,0,6,4,0,0,0,0,5,0,6,0,0,0,0,0,3,0,30,25,25,0,0,0,0,0,0,0,0,0,0,0,0,0,0,0,0,0,0,0,4,4,0,0,0,0,0,0,0,0,0,0,0,0,0,0,0,0,0,0,0,0,0,0,0,0,0,0,0,0,0,0,0,0,0,0,0,0,0,5,0,0,0,0,0,0,0,0,0,0,0,0,0,0,10,0,9,0,1,2,0,4,1,0,10,12,0,2,0,0,10,1,4,38,0,0,2,2,0,0,0,0,0,0,0,0,0,0,0,0,0,0,0,0,0,0,0,0,2,0,3,0,0,0,0,0,0,0,0,1,0,0,0,0,0,0,0,0,0,0,0,0,0,0,0,0,0,0,0,0,0,2,0,0,0,0,1,0,4,0,6,1,0,0,0,0,0,0,0,0,1,0,2,1,0,0,0,2,1,0,2,0,0,1,0,0,0,3,0,1,0,2,0,0,2,0,0,4,0,0,3,0,0,5,0,0,5,0,0,0,0,3,5,0,0,0,0,16,6,4,2,0,0,0,0,2,0,0,0,3,3,0,2,0,1,0,0,1,0,0,0,1,4,0,0,0,0,0,3,7,0,1,0,1,2,3,4,1,0,0,0,1,1,0,1,0,0,0,0,2,0,0,0,2,0,0,1,1,1,8,0,0,1,1,2,3,1,1,4,0,3,0,6,4,3,0,0,2,0,0,1,0,6,0,2,0,6,0,0,3,4,3,1,4,1,8,4,2,7,12,0,0,0,0,3,4,5,2,0,0,2,4,1,5,2,1,0,0,3,5,3,4,7,2,3,5,1,3,5,6,8,0,0,0,0,0,3,0,7,1,4,6,6,5,10,7,5,10,3,3,3,5,5,15,4,7,5,3,2,7,7,7,8,12,0,7,4,5,6,3,4,0,7,11,2,8,7,15,0,5,7,12,9,2,12,2,6,12,5,5,6,14,15,6,2,8,7,1,1,0,4,5,5,3,5,0,5,3,4,27,4,1,6,8,9,7,9,0,6,0,13,8,9,5,9,4,5,12,0,15,6,15,3,0,5,5,2,2,2,11,0,1,5,9,5,3,1,0,5,3,16,5,5,2,16,0,18,2,0,7,0,0,0,0,15,0,0,15,25,0,0,0,0,0,0,0,0,0,0,0,0,0,0,0,0,0,0,0,5,0,0,0,0,0,0,0,0,0,0,0,0,0,0,0,0,0,0,0,0,0,0,0,0,0,0,0,0,0,0,0,0,0,0,0,0,0,0,0,0,0,0,0,0,0,0,25,0,2,0,0,0,1,1,0,0,0,0,0,0,0,0,0,0,0,4,2,0,0,0,0,0,0,0,0,0,0,0,0,0,1,0,0,0,0,8,0,0,0,1,0,0,0,0,0,6,6,0,2,0,8,0,0,0,5,1,1,18,0,0,0,1,0,0,20,0,4,0,0,0,20,0,0,0,0,0,0,0,0,0,0,0,0,0,0,0,0,0,0,0,0,0,0,0,0,0,0,0,0,0,0,0,0,0,0,0,0,0,0,0,0,0,0,0,0,0,0,0,0,0,0,0,0,0,0,0,0,0,0,0,0,0,0,0,0,0,0,0,0,5,0,4,0,0,0,0,1,0,1,0,0,0,0,0,0,0,0,0,0,0,0,2,1,0,0,0,0,0,0,0,0,0,2,3,0,0,0,0,0,3,0,0,0,0,0,0,0,0,4,0,0,0,3,0,0,1,9,0,1,2,0,1,0,0,0,0,0,0,5,0,0,0,4,0,4,1,2,0,0,0,2,0,0,3,0,2,6,0,0,0,2,0,2,0,0,0,0,0,0,2,2,6,0,0,0,0,6,0,0,9,0,0,0,0,1,0,0,0,0,5,0,0,1,0,0,0,0,3,0,2,0,0,1,0,0,0,0,0,4,0,0,0,0,0,0,0,0,0,0,5,1,0,0,0,0,4,0,2,0,0,5,0,0,0,0,2,0,0,0,1,2,0,5,0,2,0,0,0,0,1,3,0,0,5,0,0,0,4,0,0,0,3,3,6,3,0,9,4,0,4,0,7,3,1,0,3,0,3,10,5,0,0,3,0,0,9,11,4,0,0,3,0,3,0,0,5,2,9,0,5,0,5,0,0,5,5,4,3,2,11,12,13,3,4,5,4,4,0,4,11,2,3,7,2,9,5,6,2,0,7,17,9,5,4,7,1,11,12,7,3,5,0,0,3,9,5,16,5,3,5,8,4,4,6,15,4,0,6,4,15,2,4,11,5,7,0,0,16,1,4,2,0,12,8,3,16,2,10,12,6,1,4,12,1,5,20,1,6,12,2,0,12,3,6,8,3,5,4,0,2,18,11,0,2,0,1,3,3,9,4,2,15,3,10,14,7,0,3,15,8,0,5,5,6,3,2,9,0,4,2,5,9,7,9,0,0,0,0,0,6,3,0,0,0,0,0,0,0,0,0,0,0,0,0,0,0,0,0,0,0,3,5,0,0,0,0,2,0,3,2,0,2,0,0,0,0,5,0,5,0,1,0,0,5,0,0,0,0,0,14,0,0,0,0,3,0,5,0,10,0,0,2,2,0,0,3,4,3,11,1,0,2,5,1,3,12,0,0,0,0,0,0,0,0,0,0,0,0,0,0,5,0,0,0,0,2,0,0,0,0,0,0,0,0,0,0,0,0,2,3,0,0,0,0,0,0,0,0,0,0,0,0,0,0,0,0,0,0,0,0,0,0,0,0,0,0,0,0,0,0,0,0,0,0,0,0,0,0,1,0,0,0,1,0,0,1,0,0,0,0,1,0,1,0,0,2,0,2,0,0,2,0,0,0,0,0,0,0,0,0,4,0,0,0,0,0,0,0,0,0,0,0,0,0,2,0,0,0,0,0,2,4,0,0,0,0,5,0,0,0,1,0,0,2,1,0,0,2,2,2,0,0,2,0,0,3,3,2,2,0,0,0,4,0,0,1,1,0,5,0,0,0,0,0,8,0,4,4,0,0,0,1,3,0,5,0,0,2,6,3,0,2,2,0,4,1,4,0,0,1,2,0,5,3,2,1,1,0,2,0,1,0,0,0,5,4,6,1,1,0,3,3,0,0,0,0,3,3,1,3,4,6,0,10,0,0,1,15,9,4,0,4,0,1,7,0,5,8,4,3,5,3,5,0,1,2,0,2,2,0,0,2,7,0,4,6,4,0,0,0,0,8,0,0,4,0,19,15,0,4,1,6,0,0,0,3,3,0,12,0,0,6,3,6,0,11,7,8,5,1,2,9,10,6,0,4,1,4,10,0,7,5,6,0,10,6,1,10,5,2,3,0,9,14,1,0,0,5,11,9,5,6,3,1,0,6,6,1,0,4,5,2,15,4,5,4,4,2,7,0,6,6,6,5,14,5,12,1,0,10,5,3,0,0,5,1,6,2,9,3,2,0,0,3,6,1,3,4,0,3,17,11,5,3,6,2,4,2,9,19,5,9,3,9,4,7,4,7,0,0,0,3,0,8,6,2,0,4,8,6,4,3,6,2,9,6,8,5,3,5,8,5,5,3,0,0,3,7,1,11,4,4,12,8,1,7,1,14,10,3,0,6,5,2,3,2,16,7,3,11,8,0,18,3,3,0,0,2,3,4,8,1,4,0,3,5,1,6,15,5,3,3,4,8,7,5,0,15,13,1,7,8,4,0,9,0,8,3,1,2,3,11,3,0,9,6,0,5,4,5,3,2,2,1,6,0,9,5,2,5,3,7,2,2,5,1,7,4,4,3,6,3,4,4,2,3,0,4,4,1,5,3,3,3,6,3,4,21,0,2,2,3,2,6,4,0,0,0,3,0,3,2,9,2,2,4,17,2,3,1,4,2,0,0,0,18,4,4,0,0,0,1,0,0,21,0,2,0,5,0,35,0,0,0,0,0,0,0,0,35,0,0,0,0,0,1,0,3,1,3,0,5,0,2,0,0,0,7,0,0,0,0,0,0,0,0,0,0,0,0,0,0,0,0,0,0,0,0,0,0,0,5,8,0,0,7,0,0,2,4,0,5,0,0,0,0,0,1,1,6,6,0,3,10,0,4,3,2,0,1,0,0,0,0,0,0,0,0,0,0,0,0,0,0,0,0,0,0,3,2,0,5,9,0,0,0,0,0,0,0,0,0,0,0,0,0,0,0,0,0,0,0,0,0,0,0,0,0,0,0,0,0,0,0,0,0,0,0,0,0,0,0,0,0,1,0,0,0,0,0,0,0,0,0,0,3,0,0,0,0,0,0,0,0,0,0,0,0,0,0,0,0,0,0,0,3,3,1,0,0,0,0,0,1,0,0,0,0,1,0,2,0,2,0,1,0,0,2,0,1,4,1,0,1,0,0,2,4,1,0,0,0,1,3,4,0,0,4,0,0,1,0,0,0,0,3,0,0,0,0,0,1,4,0,0,0,0,0,0,2,0,0,1,0,5,4,0,5,5,1,2,0,3,0,2,0,3,4,0,0,0,3,0,4,2,0,5,3,2,0,3,0,5,3,1,4,3,0,0,0,0,0,0,0,0,2,0,0,1,0,0,0,0,2,11,0,4,4,0,0,5,0,3,2,2,0,6,0,0,0,0,0,2,12,4,1,3,0,2,1,2,1,0,5,5,11,0,6,9,20,7,0,2,3,3,4,4,2,1,0,3,10,3,4,9,3,6,0,5,12,7,5,8,12,12,1,3,5,0,7,4,10,3,5,2,7,0,8,8,13,6,4,0,0,4,4,6,3,4,4,11,0,3,0,10,12,2,1,7,0,0,3,8,7,8,8,0,11,3,5,7,3,0,4,8,0,43,13,9,25,3,12,6,0,5,5,2,1,50,4,4,0,0,0,4,5,16,6,4,4,0,16,0,4,4,7,2,3,0,8,1,3,9,0,3,1,10,6,0,8,5,6,6,0,0,0,9,3,7,1,1,0,6,2,4,8,2,5,0,0,7,4,8,0,4,13,10,2,8,4,0,1,11,5,5,4,8,0,4,4,6,7,0,8,11,2,15,5,9,7,15,0,4,2,7,9,5,3,7,6,5,3,0,4,0,4,0,7,2,4,3,4,4,0,5,2,2,0,0,1,15,3,16,0,0,13,6,0,11,0,1,0,0,0,0,0,0,0,0,0,0,13,0,0,0,0,30,30,2,5,4,30,0,0,0,0,0,0,0,0,0,0,0,0,0,0,0,25,0,0,0,0,0,0,0,0,0,0,0,30,0,0,0,45,0,0,6,50,0,13,0,0,0,0,0,0,0,0,0,0,0,0,0,40,0,0,0,0,3,6,0,0,0,50,0,0,0,0,0,0,0,0,0,1,0,0,0,0,0,0,0,0,0,0,0,0,0,4,0,8,0,7,0,2,0,0,4,0,18,0,0,0,2,2,3,0,0,0,0,0,0,0,0,0,0,0,0,0,2,2,0,0,0,0,3,0,0,0,0,0,0,0,0,0,0,1,0,0,0,0,0,0,0,0,0,0,0,0,0,0,0,0,0,0,1,0,0,0,0,0,0,0,0,0,0,0,0,0,0,0,0,0,0,0,0,0,4,0,0,0,0,0,0,0,0,0,0,0,0,1,2,0,0,0,0,0,0,0,0,0,0,0,2,0,0,0,0,0,0,0,4,0,0,0,0,1,0,2,0,0,0,5,0,0,0,3,0,5,0,0,0,1,0,0,1,0,2,3,0,0,0,2,0,0,0,0,1,3,0,7,0,0,0,0,2,3,3,0,1,0,0,5,0,4,3,2,0,4,0,2,4,2,4,0,2,5,4,7,12,7,3,1,0,2,0,4,2,2,3,0,1,0,0,0,1,3,1,0,4,0,2,6,1,4,0,0,7,1,9,9,3,7,1,0,12,1,0,21,11,0,10,2,7,6,0,7,0,24,0,3,5,4,6,7,0,1,4,4,6,3,3,0,2,2,5,11,3,2,0,6,9,4,4,10,5,0,8,0,2,5,3,5,7,4,6,4,6,0,0,7,2,0,4,5,10,2,6,0,4,2,6,8,2,5,2,5,5,0,11,7,3,3,9,4,17,4,6,3,6,0,4,4,8,7,4,6,8,7,10,4,3,3,7,5,2,2,0,5,5,3,0,12,3,0,2,13,1,7,14,20,7,0,12,7,2,5,3,14,3,11,8,9,4,2,22,4,3,4,13,4,5,0,5,1,2,3,2,0,1,2,2,3,3,4,5,15,15,3,3,10,0,5,1,4,0,2,3,0,3,1,5,4,2,4,15,15,3,5,4,5,1,3,2,2,6,0,0,0,1,3,0,0,0,0,3,8,1,0,30,35,35,0,0,0,0,0,30,0,0,0,0,0,0,0,25,0,0,34,0,36,30,24,0,35,0,0,0,33,21,34,0,31,0,0,0,33,3,10,0,0,0,0,30,0,0,0,0,0,0,2,3,0,0,0,0,0,0,0,0,0,22,0,0,0,0,0,0,2,0,0,0,0,0,0,0,0,0,0,0,4,0,1,0,0,0,1,0,0,0,0,0,0,0,0,0,0,37,4,0,0,0,0,0,5,0,0,0,0,0,2,3,0,10,0,14,0,3,0,0,2,0,0,12,0,0,0,2,7,15,0,0,0,8,11,5,0,3,0,0,2,2,0,3,0,2,0,0,5,0,0,0,0,0,0,0,0,0,0,0,0,0,0,0,0,0,0,0,0,0,0,0,0,0,0,0,6,7,0,0,3,0,0,0,0,0,0,0,0,0,0,0,0,0,0,5,1,0,0,0,0,0,0,0,0,0,0,0,0,0,0,0,0,0,10,7,1,0,0,0,0,0,0,0,0,0,0,3,1,0,0,1,0,0,8,5,0,1,0,0,5,0,2,0,0,0,0,0,0,0,0,0,0,0,3,0,0,0,0,0,0,0,0,0,0,0,0,0,0,0,0,0,0,0,0,0,0,0,2,0,0,0,0,0,3,0,0,0,0,0,0,1,0,0,2,0,0,8,0,0,0,0,0,0,4,4,5,0,0,4,0,0,0,8,25,0,6,0,0,2,4,1,1,1,4,7,1,3,0,3,5,7,0,4,0,5,3,0,5,1,10,5,10,11,9,5,7,1,12,7,0,6,0,6,11,3,0,0,0,5,19,3,7,5,5,10,17,7,9,3,4,3,8,0,6,12,0,0,6,42,0,8,2,9,7,5,15,7,17,2,0,9,9,5,12,0,0,9,4,4,12,3,3,12,19,0,1,4,16,6,3,0,0,0,6,3,0,0,0,0,0,3,0,0,0,0,0,0,0,0,0,0,0,0,0,0,0,0,0,0,0,0,0,11,0,30,0,0,0,25,0,0,0,3,0,0,0,5,2,20,5,0,0,0,2,0,0,0,0,0,0,0,0,0,0,0,0,0,0,0,0,25,0,0,0,0,0,0,0,0,0,0,0,3,0,0,0,0,0,6,10,0,8,3,8,0,2,0,0,0,2,0,0,0,0,0,3,0,0,3,0,0,0,0,0,0,0,0,0,0,0,0,1,0,0,0,0,0,0,0,0,5,0,0,0,2,2,3,3,1,3,0,0,0,0,0,0,0,1,3,0,0,7,0,0,1,0,0,1,0,19,3,0,1,5,9,4,2,3,3,3,3,2,6,1,2,6,1,0,0,0,0,0,0,3,8,0,0,0,0,0,0,0,0,0,0,0,0,0,0,0,0,0,0,0,0,0,0,0,0,0,0,0,0,15,0,0,0,0,0,0,0,0,0,0,0,0,0,3,0,0,0,4,2,0,0,0,0,0,0,0,0,0,0,0,0,0,0,0,0,0,0,0,0,0,0,0,0,0,0,0,0,0,1,0,0,0,1,0,0,0,0,0,0,1,0,2,0,0,0,0,0,1,1,0,1,0,0,0,0,0,0,2,0,0,0,0,0,0,3,0,2,0,0,0,0,0,5,0,3,0,0,0,4,0,0,0,0,0,0,0,0,5,2,0,0,0,1,0,1,0,0,0,1,10,4,0,2,0,0,0,2,0,0,0,0,0,0,0,0,0,0,0,5,10,1,0,0,0,0,1,0,1,0,0,4,0,0,1,1,0,0,7,4,1,0,0,0,0,0,0,0,1,0,0,0,0,1,0,1,0,0,0,1,4,5,0,1,2,0,0,8,1,0,2,0,0,4,0,0,15,0,0,2,0,2,0,0,3,0,0,0,0,1,0,0,2,0,9,5,0,6,0,0,0,0,4,2,0,2,5,2,0,2,0,1,0,3,7,0,0,0,2,0,6,5,4,0,9,1,9,5,0,4,2,0,8,0,7,0,5,1,6,11,0,4,4,2,4,12,2,3,3,0,1,7,4,2,2,5,0,6,1,4,7,1,2,0,12,6,2,3,0,1,11,9,5,28,3,2,0,0,8,9,0,7,13,11,0,3,2,7,13,8,0,0,4,0,7,7,9,0,0,3,5,11,0,12,0,6,0,1,4,9,9,5,5,0,0,3,10,0,10,0,6,4,9,2,5,6,5,0,0,7,0,1,13,4,2,4,10,7,16,0,0,0,1,5,5,4,8,8,17,4,2,3,6,2,0,12,5,5,3,0,0,6,8,1,6,7,8,4,4,0,8,3,1,9,4,5,20,0,3,12,0,4,0,4,5,0,6,11,35,2,6,7,4,9,6,1,7,2,6,9,4,4,4,5,4,16,8,0,0,1,16,0,0,0,0,0,0,1,0,0,0,0,0,0,0,0,0,3,13,0,3,5,0,0,2,0,0,0,0,0,1,0,0,0,0,0,50,13,0,0,0,0,2,0,0,0,0,0,0,0,0,0,0,0,0,8,2,10,0,0,0,0,0,0,3,0,0,0,0,0,0,0,0,0,5,1,0,1,2,0,0,1,0,9,0,0,0,0,0,2,2,2,2,5,1,5,0,4,0,15,0,0,0,0,0,0,1,2,0,0,2,4,0,1,7,0,0,0,0,0,0,0,0,0,0,0,0,0,0,0,0,0,0,0,0,0,2,0,0,0,0,0,0,0,0,0,0,0,0,1,0,0,0,0,0,0,0,0,0,0,0,0,0,0,2,0,0,0,0,1,0,0,1,0,0,0,1,0,0,0,0,0,0,0,0,0,0,0,0,0,0,0,1,1,0,8,10,7,0,0,0,0,0,2,0,0,0,0,0,0,2,0,0,5,0,0,0,0,1,0,0,2,3,0,0,0,2,0,1,0,0,0,0,0,0,0,3,0,3,0,0,0,0,0,1,0,5,0,0,2,1,0,3,0,2,0,0,3,0,5,0,0,0,0,0,0,0,1,0,0,4,0,0,0,0,1,0,4,0,5,3,5,0,1,0,2,4,0,0,3,0,1,1,0,1,2,10,8,3,0,8,0,5,0,1,0,1,1,5,6,6,2,1,3,6,0,3,0,3,2,7,3,2,4,9,5,10,0,2,20,0,0,2,6,5,4,1,20,5,6,3,4,22,6,0,9,6,2,4,3,10,0,3,4,5,9,6,5,7,0,5,2,4,5,12,7,4,2,0,8,3,4,4,1,7,11,0,3,4,11,2,7,1,5,7,5,6,0,5,5,3,7,5,6,1,0,1,3,7,2,10,6,4,0,1,5,9,4,5,3,9,10,13,3,4,4,7,0,3,10,2,3,15,3,10,3,2,3,3,5,7,3,13,5,15,8,3,5,7,10,3,0,0,1,4,3,10,1,5,4,7,5,4,3,12,12,6,5,16,0,2,14,9,7,6,0,3,4,1,8,2,14,7,4,9,2,8,1,7,2,5,8,0,10,5,2,7,7,6,3,2,12,2,6,0,2,0,9,5,2,0,1,0,5,4,5,8,4,2,2,3,1,0,9,9,7,17,1,18,2,0,0,0,0,0,5,0,0,0,0,0,0,0,0,0,0,0,0,0,0,0,0,0,0,0,0,0,0,0,5,4,0,1,0,3,0,32,2,0,5,0,0,0,0,0,0,30,5,6,5,0,0,0,0,0,0,0,0,0,0,0,2,0,0,0,4,0,0,0,0,4,0,6,2,2,2,3,5,1,1,2,0,0,3,1,0,0,0,0,0,0,0,0,0,0,0,0,0,0,0,0,0,0,0,0,0,2,0,0,2,6,0,6,0,3,0,0,0,0,0,0,0,0,0,0,4,0,0,0,0,0,0,0,0,3,0,0,0,0,1,7,0,0,0,3,3,7,0,0,1,5,0,0,0,0,0,0,0,0,0,0,1,0,0,0,1,0,0,0,0,0,0,0,0,2,0,0,2,1,0,2,0,4,0,2,0,0,0,2,0,0,6,0,1,3,0,0,1,0,4,1,0,4,0,0,0,3,8,0,0,4,2,0,0,0,1,3,0,8,0,5,0,2,3,2,6,2,0,1,3,2,1,5,0,4,3,2,0,0,4,5,2,4,1,0,1,9,0,0,3,0,4,6,4,2,1,1,5,2,0,0,3,2,10,3,4,16,4,10,1,5,0,4,0,10,4,5,1,3,5,3,8,4,5,0,2,0,12,2,9,0,5,6,2,5,9,5,3,6,2,12,4,4,11,0,2,0,6,10,8,5,8,0,8,11,0,3,5,0,5,0,0,5,7,6,10,5,9,0,2,3,7,7,2,9,15,0,11,3,0,2,6,15,0,5,11,3,0,0,10,2,9,1411,0,2,1,0,0,0,13,3,5,0,5,7,0,6,6,13,4,0,7,19,0,0,9,6,0,5,4,14,0,0,3,2,3,17,3,6,4,0,3,0,9,4,0,4,6,4,3,0,10,18,2,0,18,4,9,9,4,1,2,4,10,3,11,3,0,0,11,12,5,0,3,2,7,0,0,3,14,7,6,0,16,1,0,6,1,0,2,0,3,0,0,0,0,0,0,0,40,0,0,0,0,0,0,0,0,0,0,0,1,0,0,6,0,0,0,0,0,0,0,20,0,0,0,0,15,3,0,0,0,0,0,5,0,0,0,0,0,0,0,28,0,0,1,0,0,0,0,0,0,0,0,0,0,0,0,0,0,0,0,0,0,0,0,8,0,0,0,0,0,0,0,0,0,0,0,2,0,0,0,0,0,0,0,0,0,0,0,0,0,0,0,0,14,0,0,0,0,0,0,0,0,0,0,0,0,0,0,0,0,3,6,1,4,0,0,0,4,6,0,4,0,0,0,8,0,0,0,0,2,0,4,0,0,0,0,0,7,0,3,5,1,0,0,0,0,0,0,0,0,0,0,0,1,5,0,0,0,0,0,0,0,0,0,0,0,0,0,0,0,0,0,0,0,0,0,0,0,0,0,0,0,0,0,0,0,0,0,0,0,0,0,0,0,0,0,0,0,0,0,0,0,0,0,0,0,0,0,0,1,0,0,0,1,0,0,0,0,0,1,0,0,1,0,0,0,0,1,1,0,0,0,1,0,0,0,0,0,0,0,0,0,0,0,0,0,0,6,0,0,0,0,0,0,0,5,11,0,0,0,4,0,0,0,0,0,0,0,0,0,0,0,0,2,2,2,0,3,0,0,0,0,0,0,0,0,0,0,0,0,0,0,0,0,3,0,0,0,0,0,0,0,0,0,0,0,0,0,0,0,4,0,1,1,0,0,0,0,0,0,0,0,1,0,0,0,0,1,0,4,0,4,0,0,0,0,1,0,0,0,1,0,4,0,2,5,2,0,0,0,0,1,7,2,0,3,4,7,0,0,0,0,2,3,1,0,1,0,3,3,0,2,0,3,0,0,0,3,0,0,1,0,6,0,0,0,0,0,0,2,4,3,3,3,3,2,0,5,12,2,0,3,3,3,4,0,3,0,0,0,2,0,0,2,2,6,7,0,7,0,11,1,0,0,7,0,2,2,0,5,3,0,6,4,0,0,1,1,0,11,2,0,6,6,11,5,0,11,5,6,8,6,11,7,2,8,0,0,6,6,6,8,0,5,4,12,5,2,2,8,0,0,1,0,2,22,0,9,16,0,8,7,8,0,12,12,0,0,15,8,0,1,9,0,25,2,1,8,3,0,0,0,12,0,8,1,15,1,0,0,9,0,10,3,15,0,2,6,8,3,10,9,3,3,5,3,4,3,8,4,1,5,14,22,0,0,0,0,0,8,4,2,0,0,0,0,0,0,0,0,0,0,0,0,0,0,0,0,32,0,0,0,0,0,0,0,0,0,0,0,0,0,3,0,3,0,5,0,0,2,0,0,0,0,0,0,0,0,0,0,0,0,0,4,0,0,0,0,0,5,0,0,0,0,0,0,0,0,0,0,0,0,16,2,0,2,2,2,4,0,0,0,0,0,0,0,0,0,0,0,0,0,0,0,0,0,0,0,0,0,0,0,0,0,0,0,0,0,0,0,0,0,0,0,0,0,0,0,0,0,0,0,0,0,0,1,0,0,0,1,0,0,4,10,0,0,2,6,0,0,0,5,0,0,0,2,0,0,0,3,0,2,2,0,0,0,1,0,0,0,0,0,0,0,0,0,1,0,0,0,0,0,4,0,0,0,0,0,3,4,0,0,10,0,2,1,0,0,1,6,0,9,10,3,0,5,0,0,0,4,0,1,0,2,0,0,1,3,0,0,1,0,0,0,0,0,0,3,1,0,0,0,1,0,0,0,0,2,0,0,0,0,0,4,0,0,0,0,3,0,0,3,4,2,0,4,0,3,0,0,0,0,0,0,1,4,0,4,7,4,2,6,4,0,3,0,1,3,6,0,1,15,0,2,3,0,3,6,5,2,10,1,6,5,1,0,10,2,5,2,17,0,6,8,7,7,5,2,12,0,1,1,3,3,2,5,2,7,12,4,5,10,10,5,7,2,12,12,0,10,3,12,1,3,7,7,15,9,13,6,7,0,4,4,14,3,5,2,0,0,17,9,5,5,0,9,6,10,7,17,14,17,4,3,0,5,6,0,2,3,0,0,10,5,0,18,1,4,4,0,4,2,15,3,5,6,1,0,0,3,6,0,0,3,1,15,0,11,0,5,1,11,0,0,4,20,4,1,30,2,6,0,25,30,0,40,0,0,0,17,0,0,0,0,0,0,0,0,0,6,10,0,0,36,0,0,29,0,3,0,0,5,0,0,0,0,2,0,0,0,0,0,0,0,0,0,0,0,0,0,0,3,0,0,0,0,0,0,0,0,0,0,0,0,0,3,0,0,6,0,4,0,0,0,6,0,0,0,0,4,0,5718,0,0,0,0,3,0,0,0,2,0,0,0,0,0,0,0,0,3,1,7,2,0,0,0,0,0,0,0,0,0,0,0,0,0,0,0,0,0,0,0,0,0,0,0,0,0,0,0,0,0,0,3,0,0,0,0,0,0,0,0,0,0,0,0,0,0,0,0,0,0,0,0,0,0,0,3,0,0,0,5,0,0,0,0,0,0,0,0,0,0,0,0,0,0,0,0,0,0,0,0,0,6,5,1,0,0,0,0,0,0,0,0,0,0,0,0,0,0,5,1,0,0,1,0,0,0,0,0,1,0,0,0,0,0,0,0,6,0,0,0,1,0,0,0,0,0,1,0,0,0,0,2,0,0,0,0,0,0,0,0,0,0,0,0,0,0,1,0,0,1,0,0,0,0,0,0,0,5,0,0,0,0,0,0,0,0,0,7,0,0,0,0,0,0,0,0,0,0,0,0,0,0,0,7,2,0,0,1,2,1,5,0,0,0,1,5,1,3,0,0,0,0,0,1,0,0,0,0,5,0,0,0,0,4,0,0,2,0,2,0,0,0,0,0,0,3,0,0,1,0,3,1,0,2,2,0,1,3,1,0,0,2,8,0,0,0,0,0,2,0,0,1,0,0,1,1,0,0,1,0,2,15,0,0,0,4,0,2,1,4,1,0,10,2,2,0,2,6,5,0,7,0,3,0,0,1,4,3,0,4,0,7,1,0,2,6,40,2,3,10,0,1,0,1,6,1,7,4,2,2,1,1,3,0,0,4,1,3,4,3,2,1,0,4,3,5,0,0,1,3,3,6,2,0,0,4,0,6,4,0,0,0,2,3,13,7,18,0,4,3,6,1,2,0,8,6,1,3,4,4,4,0,4,11,5,0,6,3,1,0,9,7,0,7,0,10,0,11,11,0,3,3,5,6,7,0,10,5,10,1,4,3,11,10,7,9,4,0,4,4,7,3,9,8,3,0,6,3,4,0,3,4,0,3,5,0,2,0,3,7,5,0,6,13,0,10,0,9,0,11,6,4,18,0,1,5,0,1,20,0,0,5,2,8,0,17,0,16,0,5,0,6,3,0,4,4,5,5,5,16,5,0,0,0,8,6,2,2,2,4,0,10,2,2,0,6,6,0,5,0,15,7,1,5,12,10,2,2,14,2,4,3,5,3,4,11,3,17,2,1,3,8,1,4,2,3,5,5,8,3,3,0,1,0,7,7,0,1,4,2,2,5,2,0,4,3,4,5,1,2,2,1,5,8,4,6,2,1,18,3,12,2,0,3,3,0,0,0,0,0,0,0,0,0,0,0,0,0,0,0,0,0,0,0,0,0,3,0,0,5,0,0,0,0,32,0,8,13,0,0,0,0,0,0,0,0,0,0,0,0,0,0,0,0,0,0,0,5,0,0,6,0,0,0,0,0,5,0,0,0,0,12,0,0,0,0,5,0,5,4,0,3,0,0,0,0,0,4,0,0,0,0,0,0,0,0,0,0,0,0,0,0,0,0,0,0,0,0,0,0,0,0,0,0,0,0,0,0,0,0,0,0,0,0,0,0,0,0,0,0,0,0,0,0,0,0,0,0,0,0,0,0,0,0,0,0,0,0,0,1,0,6,0,0,0,3,0,7,6,0,0,2,0,0,0,0,0,0,7,0,3,0,0,0,0,0,0,0,0,0,0,0,0,0,0,0,0,0,0,0,0,0,3,0,0,0,0,0,0,0,0,3,0,0,0,0,0,3,0,0,0,0,2,0,2,5,0,0,6,10,0,7,2,0,0,0,0,0,0,0,1,0,1,0,0,0,0,4,1,3,4,0,1,0,0,0,2,0,3,0,2,2,0,4,1,3,0,0,0,6,6,2,0,0,0,0,6,1,2,0,0,0,0,7,1,3,5,8,0,2,5,3,1,1,2,0,2,10,2,7,2,0,0,0,4,6,2,2,12,7,6,0,4,5,4,3,4,8,12,8,10,9,0,6,0,10,11,4,7,3,2,3,4,17,6,5,12,7,17,2,6,2,13,13,8,7,8,7,1,1,11,0,9,2,6,10,0,8,15,0,3,13,8,9,8,9,5,2,2,5,4,4,6,3,0,9,7,2,5,2,0,9,0,5,0,4,4,7,4,0,5,4,0,2,10,5,2,7,5,2,9,9,5,2,0,19,5,9,11,9,9,4,2,3,5,9,5,18,13,3,0,3,0,1,2,0,17,4,8,5,0,3,1,4,16,0,5,51,0,0,0,0,0,0,0,0,0,0,0,0,0,0,0,0,0,0,0,0,0,0,0,0,0,0,0,0,0,0,0,0,51,0,0,0,3,3,0,0,0,3,0,24,0,0,0,5,0,0,0,2,0,0,0,2,7,0,0,0,0,0,0,0,0,0,0,0,0,0,0,0,0,6,0,0,15,0,0,0,0,0,0,8,0,0,8,0,9,0,3,1,7,6,0,2,0,4,0,1,2,3,4,0,0,0,0,2,2,0,22,0,0,5,6,0,0,0,0,0,0,0,0,0,0,0,0,0,0,0,0,0,4,8,0,0,0,0,0,0,0,0,0,0,0,0,0,0,0,0,0,0,0,0,0,0,0,0,0,0,0,0,0,0,0,0,0,0,0,0,0,4,0,0,0,0,0,5,0,0,0,0,0,0,0,0,0,1,1,1,0,0,0,0,0,0,0,0,0,0,0,0,0,0,0,0,0,4,2,0,0,0,0,3,0,0,0,0,0,1,0,0,0,1,0,0,0,3,0,3,0,0,0,4,0,0,0,0,2,0,0,0,2,0,0,0,0,0,3,0,0,0,0,0,2,4,0,0,0,0,0,0,0,2,0,4,6,1,1,0,2,0,0,1,0,0,3,1,1,5,2,2,0,12,0,0,0,3,0,0,1,0,0,5,2,4,0,6,3,4,1,0,5,1,3,4,0,5,0,5,5,3,3,1,5,0,0,0,1,5,11,7,2,7,2,4,6,10,4,5,3,8,6,3,3,3,0,1,12,5,5,6,3,1,8,8,3,2,3,11,10,3,5,11,8,7,7,12,18,7,9,5,3,4,5,14,5,0,0,5,0,10,3,3,3,6,0,6,0,6,4,10,8,9,7,16,3,8,0,7,0,5,2,2,2,9,4,0,0,14,2,9,0,6,0,0,5,9,1,8,10,4,3,5,3,9,12,15,2,4,18,3,6,5,1,1,0,0,0,0,7,0,0,0,22,3,0,25,0,0,0,0,0,0,0,0,0,29,0,0,0,3,1,0,0,0,0,0,0,0,30,0,0,0,0,0,0,0,0,0,0,0,0,12,0,0,0,0,0,0,0,0,0,0,0,0,0,0,3,0,0,5,4,5,0,0,0,1,0,0,25,0,0,0,0,0,0,0,0,0,0,0,0,0,0,0,0,0,0,0,5,0,0,0,0,0,0,0,0,0,0,5,0,0,0,0,0,0,4,0,2,0,4,0,0,0,5,0,0,0,1,0,6,0,0,0,0,0,12,4,1,1,0,7,0,4,3,0,1,5,0,0,10,3,0,3,2,1,0,1,5,0,0,5,0,0,0,0,0,0,0,0,0,0,0,0,0,0,0,0,0,0,0,0,0,0,0,0,0,0,0,0,0,2,2,0,0,0,0,0,0,0,0,0,0,0,0,0,0,0,0,0,0,2,0,11,0,0,0,0,0,0,1,0,0,0,0,0,0,3,0,0,0,0,1,0,0,0,0,0,0,0,0,0,0,0,2,0,0,0,0,0,4,0,0,0,0,0,0,0,0,0,0,6,0,0,0,0,0,0,0,0,0,0,0,0,0,0,0,0,1,3,0,0,6,0,1,0,0,0,5,1,0,0,0,0,0,1,0,2,4,0,0,0,0,1,0,1,0,0,0,0,1,0,0,3,0,0,0,1,0,0,0,2,1,0,0,0,1,15,1,0,0,0,0,0,1,0,0,0,0,3,1,0,0,5,0,2,3,1,0,0,0,2,0,0,0,4,0,2,2,2,0,2,1,0,2,0,1,0,4,0,2,1,5,2,4,0,3,1,0,0,0,3,0,0,3,5,0,2,1,0,8,2,0,1,0,0,3,0,0,8,0,3,6,4,0,0,9,6,0,1,0,6,0,0,3,4,6,0,8,9,1,4,0,6,4,11,0,12,6,13,5,0,0,0,15,4,13,6,0,0,10,15,1,0,2,0,9,7,0,7,8,14,5,6,7,11,0,4,5,0,7,12,10,2,8,3,11,9,3,1,9,10,5,2,2,5,5,7,5,7,3,1,0,3,7,2,0,9,3,5,5,9,12,14,3,11,10,0,3,1,5,0,14,4,1,15,3,5,0,10,0,3,6,3,11,7,5,6,4,0,8,0,0,14,4,4,3,2,4,14,2,6,18,5,4,12,3,6,12,2,0,18,16,6,1,0,0,4,4,7,2,15,5,0,0,0,0,0,0,0,0,0,0,0,0,0,0,0,0,0,0,0,0,0,5,0,0,0,3,0,5,2,0,0,5,0,0,0,0,0,0,0,0,0,0,0,0,0,0,0,0,0,0,0,0,0,0,0,0,0,0,0,0,0,0,0,0,0,0,0,0,0,0,0,0,0,0,0,0,0,0,1,2,6,0,3,0,0,0,0,0,0,2,4,0,1,2,5,2,0,0,4,3,2,0,0,0,0,0,0,0,0,0,0,0,0,0,0,0,0,0,0,0,0,0,0,0,0,0,0,0,0,0,0,0,0,0,0,0,0,0,0,0,0,2,0,0,0,0,0,0,0,0,0,0,0,0,0,0,0,0,0,0,0,0,0,0,0,0,0,0,0,0,0,0,0,0,0,0,0,0,0,0,0,0,1,0,0,0,0,0,0,0,0,0,0,0,0,0,0,0,0,0,0,0,0,3,12,0,0,0,0,0,0,0,0,2,0,0,0,0,0,0,0,1,2,0,3,6,1,1,0,0,0,0,0,0,0,0,0,1,2,0,2,2,0,4,0,0,0,3,0,0,2,2,1,0,0,14,0,0,2,0,0,0,1,4,0,0,0,0,6,0,2,2,0,0,6,0,1,3,0,4,0,0,0,0,6,4,0,0,0,0,3,0,0,0,5,0,0,3,6,0,6,2,5,4,0,0,7,20,0,2,45,0,14,0,3,0,0,2,7,2,0,4,0,6,0,3,2,0,6,2,2,5,8,7,6,0,2,2,3,2,5,6,7,0,6,11,0,5,5,5,4,2,4,6,5,11,3,0,3,5,7,5,12,5,7,4,13,4,10,3,7,10,0,4,5,5,9,10,10,5,3,6,5,10,10,18,12,9,2,11,4,3,4,7,8,0,4,0,0,4,11,23,5,10,0,8,4,0,9,3,5,0,0,5,11,11,11,4,15,6,5,14,4,7,3,1,2,3,10,11,4,8,13,5,4,3,1,5,6,3,7,5,1,4,6,1,2,4,2,6,3,4,1,10,0,13,6,3,3,1,5,10,6,6,5,0,4,0,3,3,5,0,0,0,0,0,0,2,2,0,0,0,0,0,25,0,0,0,0,0,0,26,0,0,0,0,0,20,0,0,0,0,0,0,3,0,0,0,0,0,0,0,0,0,25,0,0,0,0,0,0,3,0,0,0,0,2,0,0,0,0,0,0,0,0,0,0,0,0,9,0,0,5,0,0,9,0,0,0,0,0,0,0,0,0,6,1,0,0,0,0,0,0,10,5,5,14,3,6,0,0,2,0,0,0,2,7,0,7,0,3,0,10,5,0,13,0,4,3,0,0,0,0,1,5,0,2,0,0,0,0,0,0,0,4,1,0,0,0,0,0,0,0,0,0,0,0,0,0,0,0,6,0,0,0,0,0,0,0,0,0,0,0,0,0,0,0,0,0,6,2,0,0,0,0,0,0,0,0,0,0,0,0,0,0,0,0,0,0,2,0,0,0,0,0,0,0,0,2,2,0,0,0,0,0,0,0,2,0,0,0,0,0,2,0,0,0,0,0,0,0,0,0,0,0,0,1,2,0,3,0,0,0,0,2,0,2,0,0,0,0,4,2,0,0,0,0,1,0,0,0,0,2,0,1,1,0,0,1,0,2,1,0,0,3,0,0,0,0,0,0,0,3,0,0,0,0,0,0,0,3,1,1,0,0,6,4,0,2,0,1,0,2,0,0,1,0,0,0,0,43,3,4,10,0,15,4,12,9,10,10,9,4,3,1,13,5,5,3,4,0,5,4,3,9,5,10,5,0,2,0,4,10,1,5,11,6,5,4,0,8,5,4,5,5,0,9,0,4,5,12,5,4,0,1,5,5,5,5,13,4,7,4,6,4,5,2,5,1,5,7,10,5,5,5,4,5,8,7,9,8,5,10,7,2,2,6,0,10,7,3,7,6,11,9,7,2,1,3,10,4,7,9,7,15,8,3,5,5,0,5,6,8,5,0,6,0,15,11,0,7,2,0,4,15,8,1,5,0,5,1,3,7,3,2,5,4,6,6,2,2,3,2,7,1,2,4,2,3,3,4,1,1,4,7,0,16,14,4,5,1,1,7,4,0,4,0,3,3,0,2,0,0,0,0,1,0,0,0,0,0,0,0,0,3,0,0,0,0,0,0,0,0,0,45,0,45,30,0,0,20,0,0,0,0,0,0,0,0,0,0,0,0,0,25,0,0,0,0,0,0,0,0,0,0,3,0,2,3,0,0,5,0,0,0,0,2,1,0,0,0,2,14,0,0,0,5,0,0,0,0,0,0,0,0,0,0,0,0,5,0,15,0,1,0,2,0,0,0,0,0,6,2,0,8,0,0,1,0,0,0,0,0,3,3,0,11,6,0,0,0,0,0,0,0,6,1,0,0,0,0,0,0,0,0,3,2,0,0,0,0,0,0,1,0,0,0,0,0,0,0,0,0,0,0,1,0,0,0,0,0,0,0,0,1,0,1,0,1,0,0,0,0,0,0,0,3,0,0,0,0,0,0,0,0,0,1,0,0,0,0,0,0,0,0,0,0,0,0,0,0,0,0,0,0,0,0,0,0,0,0,0,0,0,0,0,0,1,5,0,0,1,0,0,1,0,0,0,0,0,0,0,2,1,0,0,0,0,0,2,0,0,0,0,0,0,0,0,0,0,1,0,2,7,0,0,0,0,0,0,0,0,0,0,0,0,0,0,0,0,0,1,0,0,0,0,3,3,0,3,0,5,0,0,0,0,0,0,2,0,0,1,5,0,3,2,9,0,2,0,0,2,2,3,5,0,0,4,2,3,5,2,4,3,0,1,3,4,3,2,2,5,2,7,0,0,2,0,8,9,0,9,3,5,8,0,2,0,2,7,3,8,0,3,0,0,5,6,0,7,5,0,0,5,6,5,4,8,2,5,5,5,5,6,7,12,0,9,0,6,13,16,10,0,16,4,4,5,10,8,13,7,11,1,5,3,2,42,4,6,5,0,7,8,3,5,13,9,1,4,8,6,3,4,9,17,2550,6,4,1,0,0,13,1,5,0,4,0,1,4,1,11,4,6,0,2,5,3,5,2,4,15,0,6,0,0,0,0,0,0,1,0,1,1,25,30,0,0,0,0,0,0,0,0,0,0,0,0,8,0,0,0,0,0,30,0,0,0,0,0,0,0,0,0,0,0,0,0,0,0,0,0,2,0,0,0,34,0,3,0,0,20,5,30,0,0,0,0,0,2,0,3,0,0,0,0,0,0,0,0,0,0,0,0,0,0,0,0,2,0,0,0,1,10,0,0,0,0,0,4,0,4,0,0,0,0,0,0,6,4,1,47,1,1,7,0,0,1,3,0,1,0,6,0,0,0,0,0,0,0,0,0,0,0,0,0,0,0,0,0,0,0,0,0,0,0,0,0,0,0,0,0,0,0,0,0,0,0,0,0,0,0,0,0,1,0,0,1,0,0,0,0,0,0,0,0,0,0,3,0,0,4,0,0,0,1,0,0,0,0,0,0,0,0,0,0,0,0,1,0,0,0,0,0,0,1,0,0,0,2,4,1,0,0,0,0,3,4,5,0,0,0,0,0,0,0,0,0,1,0,1,0,0,1,0,0,0,0,0,0,5,1,0,2,1,5,0,3,2,3,2,0,0,3,0,4,0,1,6,1,0,5,4,5,0,5,5,0,1,3,0,0,0,5,0,6,2,0,4,0,3,0,1,0,3,0,0,5,4,0,0,7,0,5,8,4,0,6,13,5,0,9,3,3,0,8,5,5,0,0,0,9,8,6,3,5,7,5,0,3,5,5,1,3,10,5,3,0,12,0,3,5,1,3,5,0,10,5,6,2,1,7,3,8,0,8,6,4,0,6,6,7,1,5,5,4,0,7,8,0,9,14,6,0,10,11,3,0,3,9,4,0,0,1,0,3,4,5,11,4,5,6,7,16,0,9,5,12,2,6,15,4,7,2,7,11,0,1,1,3,2,1,1,1,5,2,2,0,0,0,0,0,0,0,0,0,0,0,5,15,30,2,25,30,0,0,25,0,0,0,0,3,0,0,0,0,0,0,0,0,0,0,0,0,0,0,0,0,0,0,0,0,0,0,0,0,0,0,0,0,0,0,0,0,0,0,0,0,0,0,0,0,40,0,35,0,0,5,0,0,0,0,0,0,0,0,0,4,0,0,0,0,0,0,0,0,0,0,0,25,0,4,0,0,0,0,0,0,0,0,0,0,0,0,0,3,0,0,0,0,0,0,0,3,0,0,0,0,0,2,1,7,0,2,0,0,0,0,0,2,2,0,0,0,0,0,0,0,0,0,0,0,0,7,0,0,0,0,0,0,0,0,0,5,0,5,0,15,0,6,0,0,0,0,0,0,6,3,0,0,3,8,47,7,0,0,1,2,10,1,6,0,1,1,6,2,0,0,4,0,0,0,0,0,0,0,0,0,0,0,0,0,0,0,0,0,0,0,0,0,0,0,0,0,0,0,0,0,0,0,0,0,0,0,0,0,0,0,0,0,0,0,0,0,0,0,0,0,0,0,25,30,0,0,0,0,0,0,0,0,0,0,0,0,0,0,0,0,0,0,0,0,0,0,0,0,0,0,0,0,0,0,0,0,0,0,0,0,1,0,0,1,0,0,0,0,0,0,0,0,1,0,0,0,0,3,0,0,7,2,0,0,1,0,0,0,0,0,0,0,0,0,0,0,0,0,0,0,0,4,0,0,0,30,0,0,0,4,0,0,0,0,5,0,0,0,0,0,4,0,0,0,0,0,0,11,0,0,0,0,0,0,0,0,0,0,0,0,0,0,1,0,4,0,0,0,0,0,2,3,0,3,0,0,0,2,0,1,2,1,0,1,3,3,3,0,8,3,4,7,2,6,8,11,1,0,5,8,0,5,2,4,0,5,4,0,0,8,0,0,5,4,4,5,4,0,5,11,4,4,4,5,0,0,10,0,7,0,0,6,5,4,7,4,0,0,7,0,5,8,5,5,7,0,7,6,12,0,0,12,7,4,7,4,0,7,8,0,4,7,8,0,0,0,5,0,13,18,4,4,9,18,0,7,7,0,3,7,4,4,10,3,12,16,2,8,7,0,0,4,5,3,5,0,3,1,5,1,2,8,7,3,8,5,0,4,2,2,4,8,9,1,2,11,1,0,4,1,7,1,0,0,23,0,0,0,0,0,0,0,0,3,0,0,0,0,0,4,5,0,2,0,5,0,0,0,0,0,0,0,0,0,0,0,0,0,0,0,0,0,0,0,0,0,0,0,0,0,0,1,0,0,0,1,0,1,0,0,1,0,0,0,2,0,0,0,7,7,0,0,3,0,1,0,0,0,0,0,0,0,0,0,0,0,0,0,0,0,0,0,0,0,0,0,0,0,0,0,0,0,0,0,0,0,0,0,0,0,0,0,0,0,0,0,0,0,0,0,0,0,0,0,0,0,0,0,0,0,0,0,0,0,0,0,0,0,0,0,0,0,0,0,0,0,0,0,0,0,0,0,0,0,0,0,0,2,0,1,0,0,0,0,0,0,0,1,0,0,0,0,0,0,0,0,0,0,0,0,0,0,0,0,0,0,0,2,0,2,0,0,0,5,3,4,4,0,0,3,0,0,0,0,0,0,5,0,3,2,0,6,8,0,7,0,1,0,0,3,0,0,2,2,3,0,3,0,0,8,5,0,0,0,4,6,0,0,6,14,2,0,5,9,3,5,5,5,9,3,5,8,5,8,3,5,0,5,6,10,0,5,12,11,0,6,5,10,3,11,11,7,8,11,5,3,0,0,15,1,0,7,0,0,5,2,7,2,5,5,11,2,14,8,5,11,9,5,8,11,45,10,5,13,0,8,4,16,7,14,12,6,5,5,10,8,10,29,9,5,3,9,2,15,3,4,6,4,5,14,5,6,2,10,10,16,3,3,3,6,5,4,6,3,0,7,3,0,1,0,0,9,0,0,9,0,21,25,0,23,0,0,0,0,0,0,0,0,0,0,0,0,0,0,0,0,0,0,0,0,0,0,0,0,0,0,0,0,0,0,0,0,3,0,0,4,0,0,0,0,0,0,0,5,0,2,0,0,2,0,0,0,0,5,0,0,0,0,0,0,0,0,0,1,0,0,0,2,0,0,0,4,0,0,0,0,6,9,0,12,0,4,6,9,0,0,1,0,3,0,0,1,2,0,0,0,0,0,0,0,0,0,0,0,0,0,0,0,0,0,0,0,0,0,0,0,0,0,0,0,0,0,0,0,0,0,0,0,0,0,0,0,0,0,0,0,0,0,0,0,0,0,0,0,0,0,0,0,0,0,0,0,0,0,0,3,0,0,0,0,0,0,0,0,0,0,0,0,0,0,0,0,0,0,0,0,0,0,0,0,0,0,0,0,0,0,0,0,0,0,0,0,2,3,0,2,0,0,1,0,0,0,1,3,2,3,0,3,6,6,0,4,0,0,5,0,0,0,1,0,1,0,0,0,0,0,2,2,5,0,0,4,0,5,0,0,5,3,0,1,0,0,5,3,0,2,7,0,2,5,1,6,3,4,5,7,3,4,5,5,0,6,6,3,0,4,15,0,11,7,8,5,3,7,5,7,1,0,5,5,1,4,6,8,11,6,12,0,5,4,1,8,3,5,5,5,9,3,6,7,10,0,5,9,40,1,0,0,0,0,5,0,0,0,5,0,0,6,0,20,7,11,16,7,7,7,4,16,5,0,10,0,9,11,5,10,5,43,9,8,4,12,4,5,6,4,9,0,19,8,0,0,5,0,1,4,2,9,14,14,5,4,1,4,3,6,1,3,0,4,0,0,0,0,0,0,0,0,0,4,5,0,0,0,0,0,0,0,0,0,0,0,0,0,0,0,0,0,0,0,0,25,0,0,17,0,20,0,0,0,0,3,0,0,2,0,0,0,5,0,0,0,0,2,0,0,0,0,0,8,0,0,0,2,0,0,0,0,0,1,0,0,0,0,0,0,0,0,0,2,0,1,0,2,0,0,0,5,2,1,0,0,0,1,1,0,3,0,0,10,0,1,2,6,1,0,0,0,0,0,0,0,0,0,0,0,0,0,0,0,0,0,0,0,0,0,0,0,0,0,0,0,0,0,0,0,0,0,0,0,0,0,0,0,0,0,0,0,0,0,0,0,0,0,0,0,9,0,0,0,0,0,0,0,0,2,0,0,0,0,0,0,0,0,0,0,2,0,0,0,0,0,0,1,2,0,0,0,0,0,4,0,0,0,0,0,0,5,0,0,0,0,0,0,0,0,0,0,0,1,3,1,6,5,0,1,0,1,0,0,0,2,1,0,1,0,1,1,3,1,6,0,0,0,0,5,0,0,4,0,0,0,4,0,0,0,0,5,4,1,3,0,0,8,0,0,0,0,0,0,0,0,3,3,3,0,17,5,5,8,2,0,0,4,1,5,2,5,4,9,4,7,4,4,0,11,6,1,0,4,7,5,1,10,3,1,5,4,0,5,3,7,0,9,3,3,7,1,0,5,2,0,4,3,4,3,4,5,8,5,27,10,7,1,7,5,12,1,3,0,8,9,2,8,4,8,7,7,1,8,0,10,3,2,4,2,0,3,4,3,8,16,3,7,7,5,6,1,1,2,0,4,7,7,1,13,4,0,3,3,0,2,5,5,5,4,5,21,4,3,9,3,3,9,5,0,0,5,5,4,7,1,13,5,0,0,0,0,0,0,0,0,0,1,1,0,0,0,0,0,0,0,0,0,0,0,0,0,0,0,0,0,30,0,0,0,0,0,0,0,0,0,0,0,0,0,0,0,0,0,0,0,0,0,0,3,0,0,5,4,2,0,0,0,0,0,0,0,0,0,0,0,0,0,0,0,0,0,0,0,0,0,0,0,0,0,0,0,0,0,0,1,0,0,5,0,0,0,0,0,37,0,0,0,0,0,0,0,0,0,0,0,0,0,6,3,0,4,0,0,4,0,6,0,2,0,9,0,1,2,2,0,2,8,0,0,0,0,0,0,0,0,0,0,0,0,0,0,0,0,0,0,0,0,0,0,0,0,0,0,0,0,0,0,0,0,0,0,0,0,0,0,0,0,0,0,0,0,0,3,0,0,0,0,0,0,1,0,0,0,0,2,0,3,0,0,0,0,0,0,0,0,0,0,0,0,0,3,0,0,0,0,0,0,2,0,0,0,3,0,0,0,0,1,0,0,0,0,0,1,1,0,0,0,0,0,0,1,0,0,0,0,0,0,0,0,0,1,0,1,0,0,1,0,3,0,0,4,0,7,0,3,2,10,0,0,0,0,4,0,6,5,0,0,5,0,0,0,0,16,0,0,0,3,0,0,0,13,11,3,0,15,4,0,8,0,7,0,0,15,7,0,0,5,3,0,2,10,1,6,7,0,3,0,5,1,7,3,8,0,2,1,2,1,0,3,11,3,0,4,0,8,0,0,5,12,8,12,6,2,14,4,0,4,5,12,6,11,0,2327,7,7,0,0,4,6,6,6,0,6,7,6,5,4,5,5,6,6,9,6,2,6,9,11,0,17,0,0,6,10,10,0,6,2,11,3,4,5,0,2,1,2,9,3,0,1,3,1,3,2,2,7,0,4,5,1,2,5,0,0,0,0,4,0,0,0,0,0,30,30,0,0,0,0,0,0,0,0,0,0,0,0,0,0,30,0,0,0,0,0,0,0,0,0,0,0,0,0,0,0,0,0,0,0,0,0,0,0,0,0,25,0,0,0,0,0,0,1,0,0,0,0,0,0,0,0,0,0,0,0,0,3,5,0,0,0,0,0,0,0,0,0,0,0,0,0,0,0,0,0,0,0,0,0,0,0,0,0,0,0,0,0,0,0,0,0,0,0,0,0,0,0,0,20,0,0,0,0,0,0,0,0,0,0,7,0,1,18,9,0,0,0,0,0,0,0,0,30,22,0,4,0,0,0,0,0,0,5,0,0,0,0,0,0,0,0,0,0,0,0,0,0,1,0,0,0,0,0,0,0,0,0,0,0,0,0,0,0,0,0,0,0,0,0,0,0,0,0,0,0,0,0,0,0,0,0,0,0,0,0,0,0,0,0,0,0,0,0,0,3,0,0,0,0,0,0,0,0,0,0,0,0,0,0,0,0,0,0,0,0,0,0,0,0,0,0,0,0,0,0,0,0,0,2,0,0,1,0,0,0,0,0,1,0,0,1,0,0,0,0,0,0,4,0,0,0,0,0,1,0,4,0,0,0,1,0,0,0,0,0,2,0,0,0,0,0,0,0,0,0,4,5,2,0,0,0,1,0,0,0,0,0,5,0,0,0,0,0,1,1,0,0,0,0,0,6,1,0,2,7,0,2,3,0,0,0,0,0,2,0,3,0,0,5,0,0,5,3,0,0,0,3,0,0,0,0,0,0,0,4,0,0,3,0,0,0,5,5,4,0,4,5,2,0,39,1,0,0,1,0,0,4,3,1,2,6,3,0,0,3,0,2,3,3,6,2,0,2,0,7,5,5,0,0,2,5,8,3,0,6,2,3,4,4,0,7,9,0,0,8,12,5,7,3,0,4,0,7,5,8,0,12,0,0,4,0,1,5,4,8,7,0,7,0,0,9,6,4,5,2,7,7,11,0,3,2,1,6,8,5,5,13,14,5,6,4,5,5,17,5,3,5,0,11,11,4,0,3,13,7,8,6,2,8,8,3,1,1,3,19,1,3,1,3,1,2,4,6,6,4,9,21,3,5,1,5,2,0,13,7,3,2,0,0,0,1,0,0,4,3,0,0,0,0,0,0,0,0,0,0,0,0,0,0,0,25,0,0,15,0,0,0,0,0,0,0,0,0,0,0,0,0,0,0,0,0,0,0,0,0,3,0,0,0,0,4,0,0,0,0,0,2,25,5,0,0,0,0,0,0,0,1,0,0,9,0,7,0,0,0,0,0,0,0,0,0,0,0,0,0,0,0,0,0,7,0,0,0,6,0,0,0,0,30,0,0,0,0,0,0,4,0,1,0,0,3,0,2,0,5,0,0,0,0,0,0,0,1,0,0,0,0,0,0,0,0,0,0,0,0,0,0,0,0,0,0,0,0,0,0,0,0,0,0,0,0,0,0,0,0,0,0,0,0,0,0,0,0,0,0,0,0,0,0,0,0,0,0,0,0,0,0,0,0,0,0,0,0,0,0,2,1,0,0,0,0,0,0,0,0,0,0,0,0,0,1,4,0,4,0,0,2,0,0,0,0,0,0,0,0,0,0,0,0,0,4,4,0,0,0,4,0,0,4,0,0,4,0,0,3,4,0,1,1,0,0,4,0,0,0,0,0,5,0,5,5,0,5,0,0,0,0,0,0,5,5,0,5,0,0,0,0,5,2,0,0,5,0,0,0,4,0,5,6,0,0,1,0,14,0,0,0,0,0,2,0,0,1,2,0,2,0,2,0,2,5,0,0,0,0,0,0,1,4,0,4,4,0,0,0,5,7,0,0,0,2,18,7,5,10,5,5,0,1,5,4,8,6,7,2,3,9,5,3,10,0,5,5,7,0,7,3,11,7,0,0,4,6,4,4,3,1,8,0,2,0,9,9,12,9,9,1,10,5,11,12,7,6,0,0,0,4,10,6,8,7,8,6,13,9,9,4,5,7,5,4,7,3,6,0,0,0,3,11,12,8,13,8,0,4,18,4,5,11,12,0,10,5,5,0,0,0,0,18,13,6,0,9,1,11,2,10,5,7,1,0,1,0,3,5,0,0,4,0,0,5,1,0,0,0,0,0,0,0,30,30,0,0,0,0,0,0,0,0,0,0,0,0,0,0,0,0,0,0,0,0,0,0,0,40,0,0,0,0,0,0,0,0,0,0,0,0,0,0,0,0,0,0,0,0,0,0,0,0,0,0,0,0,0,0,0,0,40,0,0,3,13,0,0,0,0,5,0,0,30,0,0,0,0,0,0,2,0,0,0,0,0,0,0,0,0,0,0,0,0,0,0,0,0,0,9,0,0,0,0,0,0,0,0,0,0,1,0,0,2,1,0,0,0,0,0,1,0,3,0,0,0,0,0,3,0,0,0,0,0,0,0,0,0,0,0,0,0,0,0,0,1,0,0,0,0,0,0,0,3,0,0,0,0,0,0,0,0,0,0,0,0,0,0,0,0,0,0,0,0,0,0,0,0,0,0,0,0,0,0,0,0,0,0,0,0,0,0,0,0,0,0,0,0,0,1,0,0,0,0,0,0,0,0,2,0,0,0,0,0,0,0,0,0,0,1,0,0,0,0,0,0,0,2,1,1,0,0,0,1,0,1,1,2,0,2,0,0,4,0,0,0,0,6,0,0,0,5,0,0,1,0,0,0,1,0,0,0,0,5,0,0,0,7,0,0,0,0,0,0,0,0,0,1,0,0,0,0,1,0,0,0,0,0,0,0,2,0,5,0,1,0,5,0,0,4,0,3,0,0,0,9,0,0,0,0,0,3,3,1,5,0,1,1,5,4,2,0,4,5,12,0,0,8,5,12,5,11,3,1,9,0,3,4,5,4,1,7,8,1,0,0,11,0,0,0,3,9,9,11,6,6,0,4,7,3,0,11,1,10,1,10,6,11,4,1,3,7,11,7,4,5,10,0,5,9,5,0,2,8,12,3,5,0,8,12,3,0,0,10,11,6,0,10,4,4,10,3,10,8,11,0,2,5,5,5,6,15,2,5,6,6,8,0,10,2,5,11,3,9,10,2,3,1,2,3,5,5,1,0,3,3,3,1,0,4,0,4,3,3,6,1,12,3,0,0,0,0,0,0,0,0,0,0,0,0,0,0,35,0,0,0,40,22,25,0,0,0,0,0,0,0,30,0,0,15,0,0,0,0,0,0,0,0,0,0,0,0,0,0,0,9,0,0,0,0,0,30,0,0,0,0,0,0,0,0,0,0,3,0,0,25,0,5,0,0,0,0,0,0,0,0,0,0,0,0,0,40,0,0,0,0,0,0,0,0,2,0,0,0,0,0,1,0,25,0,0,0,0,0,0,0,0,0,0,0,0,0,0,0,0,0,0,0,0,0,0,0,0,0,0,4,0,4,0,0,20,1,0,18,0,0,0,0,4,0,0,1,0,1,0,1,0,1,0,6,1,0,3,6,1,0,0,0,0,0,0,0,3,0,0,0,0,12,6,0,0,0,0,0,0,0,3,0,4,0,0,0,0,0,0,0,0,0,0,0,0,0,0,0,0,0,0,0,0,0,0,0,0,0,0,0,0,0,0,0,0,0,0,0,0,0,0,0,0,0,0,0,0,0,2,0,0,0,0,0,0,0,0,0,3,0,0,0,0,0,4,0,0,1,0,0,0,0,5,0,0,0,0,0,1,0,0,0,0,0,0,0,0,0,0,0,0,1,0,4,0,0,0,0,0,0,0,0,0,0,4,0,0,1,2,0,0,1,0,0,5,5,1,0,0,0,0,5,3,1,0,1,0,0,0,0,1,0,0,2,0,1,0,0,4,0,0,0,0,0,4,0,2,0,0,1,2,0,6,0,2,4,0,0,0,5,0,0,0,2,5,1,0,0,5,0,8,0,0,0,0,5,0,0,1,0,0,0,0,0,2,0,6,0,0,0,1,0,0,6,1,0,6,1,0,2,2,0,16,6,5,5,2,1,0,8,3,9,0,0,1,2,3,2,2,0,8,9,5,8,9,4,6,8,5,2,0,3,7,2,9,11,7,6,12,6,11,3,1,0,7,8,7,9,1,9,8,5,9,5,5,9,7,6,12,0,6,10,7,0,5,5,9,5,4,6,0,4,6,0,2,9,2,0,4,1,4,2,2,1,5,5,3,5,0,0,2,4,5,6,1,2,10,2,4,2,2,0,4,6,2,3,4,3,0,0,0,0,0,0,0,5,5,0,0,0,0,0,3,0,0,0,10,0,0,0,25,0,5,0,0,0,0,0,0,0,0,0,0,0,0,0,25,0,0,0,0,0,25,0,0,25,0,4,0,0,0,0,0,0,0,0,0,0,0,0,0,0,0,0,0,0,0,0,0,0,0,0,0,0,0,0,0,0,0,0,0,0,0,0,0,7,0,0,0,0,0,0,0,0,0,0,0,0,0,3,0,0,0,0,0,0,5,0,0,0,0,0,0,0,0,0,0,4,0,0,0,0,0,0,0,0,15,0,0,2,0,0,0,0,0,0,0,0,0,0,0,0,0,20,0,0,0,0,0,0,0,0,0,0,0,0,0,0,0,0,0,0,0,0,0,0,0,0,0,0,0,0,0,0,0,0,0,0,0,0,0,0,5,0,0,0,0,0,0,2,0,0,5,0,1,0,0,0,0,0,0,0,3,0,0,7,8,4,2,0,7,0,0,0,4,0,0,1,0,0,0,0,0,0,0,8,1,0,3,0,0,0,0,0,0,1,0,1,4,1,0,0,0,6,0,0,0,1,4,0,0,0,0,0,0,0,0,3,0,0,2,2,0,0,0,0,0,0,0,0,0,0,0,0,0,0,0,0,0,0,0,0,0,0,0,0,0,0,0,0,0,0,0,0,0,0,0,0,0,0,0,0,0,0,0,0,0,0,0,0,2,0,0,0,0,0,0,0,0,0,0,0,0,0,0,0,0,0,0,0,0,0,0,0,0,0,1,0,0,0,0,0,0,0,0,0,0,0,0,0,0,0,0,0,0,0,0,0,0,0,0,0,0,0,0,0,0,0,0,4,0,0,1,0,0,0,0,0,0,0,0,0,0,0,2,5,0,0,2,0,0,0,0,0,0,0,0,7,0,2,0,5,1,0,0,6,0,0,1,0,1,1,0,0,1,0,0,0,1,2,1,0,1,1,6,3,0,3,1,0,0,2,1,4,1,0,2,0,1,1,2,0,2,0,0,0,1,0,0,3,0,6,2,0,0,0,4,0,13,3,4,3,2,4,0,2,2,0,1,3,3,5,11,4,0,2,5,1,4,5,6,0,11,0,9,2,2,4,5,6,4,3,10,5,5,0,5,5,12,4,0,0,3,0,7,5,6,7,6,3,3,9,4,7,6,9,0,4,4,12,5,5,3,4,9,1,5,13,0,0,8,7,3,2,0,5,3,9,3,8,8,7,4,4,7,7,0,2,2,10,0,3,4,3,2,6,0,8,4,12,3,0,6,0,3,3,2,4,4,1,3,9,2,8,4,0,4,3,3,0,6,4,3,15,2,0,0,0,0,2,0,0,0,0,3,0,0,0,0,0,25,0,0,0,25,6,25,6,0,11,25,22,25,0,0,14,0,0,0,0,0,0,0,0,0,0,0,0,0,30,15,0,0,0,0,0,0,0,30,0,0,0,0,0,0,0,0,0,0,0,0,0,0,0,0,0,0,0,30,0,0,0,0,0,0,0,0,0,0,0,0,0,0,0,0,0,0,0,0,0,0,0,0,0,0,0,0,0,1,1,0,0,17,0,0,0,0,0,0,3,0,0,0,0,0,0,0,5,4,0,0,0,0,0,0,0,0,0,0,0,20,4,0,0,0,25,2,0,0,20,0,0,0,0,0,0,0,0,0,0,0,0,0,0,0,0,0,0,0,0,0,1,0,0,6,0,0,0,0,0,0,0,0,0,0,0,0,0,0,0,0,0,6,0,2,0,0,0,0,0,0,6,0,0,0,0,0,0,0,0,6,0,0,45,0,0,0,0,5,20,0,0,0,0,0,0,0,0,0,4,0,0,0,0,0,25,0,0,0,0,4,0,9,6209,1,0,0,0,0,0,0,0,0,0,3,0,0,0,3,0,4,0,0,0,0,0,0,0,0,0,0,0,0,0,0,0,0,0,0,0,0,0,0,0,0,0,0,0,0,0,0,0,0,0,0,0,0,0,0,0,0,0,0,0,0,0,0,0,0,0,0,1,0,0,0,0,2,0,0,0,0,0,0,0,0,0,0,0,0,0,0,0,0,0,0,0,0,0,0,0,0,0,0,0,0,0,0,0,0,0,0,1,0,0,0,0,0,0,0,0,0,0,0,0,0,0,4,0,0,0,0,0,0,0,0,0,0,2,0,0,4,0,0,0,0,0,0,0,6,0,0,0,0,0,0,0,0,0,0,0,0,5,0,0,0,0,0,0,0,0,0,0,6,0,0,6,0,0,0,0,0,0,0,6,0,0,0,0,0,0,0,0,0,4,0,0,5,0,8,0,0,0,6,0,0,0,0,0,0,1,0,0,0,0,0,0,0,2,8,1,0,15,0,0,4,1,0,0,0,0,3,0,1,0,0,0,0,0,0,0,0,0,0,0,0,0,0,0,4,0,0,2,0,4,1,0,1,1,4,0,0,3,0,0,2,0,1,2,4,1,3,5,2,3,2,10,4,3,13,2,0,0,3,0,1,5,2,0,0,4,0,0,12,5,5,2,5,5,1,9,5,2,4,11,0,5,5,0,11,0,7,5,5,0,0,9,6,0,0,0,5,3,0,0,6,0,4,0,5,7,3,3,1,6,11,13,4,7,0,5,9,4,0,3,7,0,7,7,4,1,1,8,0,9,13,10,0,5,8,0,6,4,9,4,0,5,9,7,1,0,1,0,5,5,7,0,0,8,5,0,2,8,0,12,0,0,9,15,4,5,4,6,4,3,8,11,6,2,6,20,0,4,8,4,10,5,3,1,4,3,6,3,5,14,9,1,3,12,7,13,3,5,2,5,0,2,5,5,9,5,3,0,2,7,12,2,10,0,5,1,0,10,0,0,1,0,0,0,0,0,3,0,0,30,0,0,0,0,0,0,0,0,0,0,0,0,0,0,0,0,0,0,0,0,0,0,0,0,0,0,0,0,0,0,0,0,0,0,0,0,0,3,5,0,1,0,0,0,2,0,0,0,0,0,0,0,0,0,0,0,0,0,0,0,0,0,0,0,0,0,0,0,0,0,0,1,0,0,2,3,0,0,0,0,0,0,0,0,0,0,0,0,0,0,0,0,0,0,0,3,0,0,0,0,0,2,0,0,0,0,0,0,0,2,0,0,2,0,0,0,0,0,0,0,0,0,0,0,0,5,1,0,0,0,0,0,0,0,0,0,0,0,0,0,0,0,0,0,3,0,0,0,0,3,0,0,0,0,0,0,0,0,0,0,0,0,0,0,0,0,0,0,0,0,0,0,0,0,13,7,2,0,0,0,0,0,0,0,0,0,0,0,0,0,8,0,1,3,0,0,0,0,0,0,0,0,0,0,0,0,0,24,2,0,0,0,0,1,0,0,0,0,0,0,0,1,0,0,0,11,5,0,0,0,1,3,0,0,2,0,0,3,0,0,0,0,0,0,0,0,0,1,0,0,0,2,0,0,0,2,0,0,2,0,0,0,0,4,7,5,0,1,0,0,0,1,0,1,0,1,2,0,1,0,1,0,0,0,4,0,0,2,0,1,0,8,1,10,1,0,0,0,1,0,1,4,1,0,13,10,1,2,0,0,0,0,5,3,2,2,0,0,3,4,0,2,3,2,1,11,1,10,15,0,0,0,3,0,1,4,1,1,0,4,2,0,5,2,6,1,3,0,1,11,3,8,6,0,4,1,2,7,2,5,8,5,1,8,11,5,8,5,0,0,2,8,8,2,6,0,2,0,2,0,16,4,8,4,4,4,6,4,14,9,5,0,7,14,0,7,3,0,10,11,3,0,5,12,0,13,0,4,3,8,10,10,0,4,10,6,17,4,2,0,8,22,0,6,8,10,3,7,7,30,33,7,0,8,11,13,5,2,0,4,0,11,1,0,0,4,10,5,1,4,7,6,14,0,6,4,18,1,2,8,0,5,7,15,0,3,4,0,15,9,3,1,3,4,5,0,0,14,4,0,3,10,0,4,5,5,15,0,0,0,0,0,0,0,0,0,0,0,0,6,0,0,0,0,0,0,0,0,0,0,0,0,0,0,0,0,0,0,0,0,0,0,0,0,0,0,0,0,0,0,0,0,0,0,0,0,0,3,0,0,0,0,0,0,0,0,0,0,0,51,0,0,0,0,0,0,6,0,0,0,0,0,0,2,0,0,0,6,0,0,0,0,0,0,0,0,5,0,0,0,0,0,0,0,0,0,0,0,0,0,0,0,0,0,0,2,0,0,0,0,0,0,0,0,0,0,10,0,0,0,0,0,0,0,4,2,0,6,0,0,0,4,0,2,0,0,8,0,3,0,0,5,0,0,0,0,0,0,0,0,0,0,0,0,0,0,0,0,0,0,0,0,0,0,2,2,0,0,0,0,0,0,0,0,0,0,0,0,0,0,0,0,0,0,0,0,0,0,0,0,0,2,0,0,0,0,0,0,0,0,0,0,3,0,0,0,0,0,0,0,1,0,0,0,0,1,0,0,0,0,0,0,0,0,0,0,0,0,0,0,0,0,0,0,4,0,0,0,0,0,1,0,0,0,0,0,0,1,0,1,0,1,1,0,2,0,0,1,0,0,1,0,0,3,3,0,0,0,1,0,0,0,1,0,0,2,0,6,2,0,4,0,4,0,0,0,6,0,0,0,0,0,0,0,3,0,0,0,0,0,0,0,0,0,0,0,0,0,0,6,0,0,0,0,0,0,4,0,0,0,0,0,5,5,1,2,10,0,0,1,7,5,0,4,10,5,1,4,11,10,6,0,5,12,5,10,5,2,9,8,5,0,1,4,4,4,0,13,4,8,0,4,1,12,5,2,4,4,1,3,0,3,7,9,7,1,11,1,6,1,6,8,2,5,9,9,2,5,15,2,9,11,5,9,10,4,12,12,2,12,15,7,2,5,5,0,11,11,4,4,3,7,12,6,0,8,5,12,6,1,0,0,8,2,5,4,11,10,15,13,3,0,12,0,9,0,10,4,2,3,5,12,0,9,4,2,16,0,0,3,0,19,0,17,17,15,4,3,20,0,5,1,25,7,7,18,10,5,22,5,1,0,0,0,0,0,0,0,0,0,0,8,2,6,0,0,0,0,0,15,0,0,0,25,0,0,0,0,0,0,0,0,0,0,0,0,0,0,0,0,0,0,0,0,0,0,0,0,0,0,0,3,20,0,0,0,3,5,30,0,0,0,2,0,0,0,0,0,0,35,0,0,5,1,0,25,0,0,0,0,0,0,0,0,0,0,0,1,0,0,0,5,0,19,0,4,1,1,0,0,6,1,0,3,6,0,0,2,0,3,0,4,3,8,3,0,0,0,2,5,0,0,0,0,0,0,0,0,0,0,0,0,0,0,0,0,0,0,0,0,0,0,0,0,0,0,0,0,0,0,0,0,0,3,4,0,0,0,0,0,0,0,0,0,0,0,0,0,0,0,6,10,0,0,0,0,0,0,0,0,0,0,1,0,0,1,0,0,0,0,0,0,0,0,0,0,0,0,0,0,0,0,0,1,4,2,0,1,5,6,4,0,0,0,4,1,0,0,0,0,5,0,0,2,5,0,7,3,0,0,0,5,0,0,0,0,1,2,1,0,0,0,0,0,4,0,7,0,0,0,2,0,0,6,0,1,0,0,15,0,0,0,0,9,0,0,5,10,9,0,7,0,5,1,0,0,5,3,7,0,0,1,3,2,5,0,0,8,0,0,8,5,5,0,2,6,4,5,1,0,6,0,5,0,0,5,0,3,0,4,5,13,8,4,7,0,0,5,0,5,2,2,0,4,7,2,3,5,20,4,2,5,2,0,2,8,7,1,4,30,4,5,6,1,5,4,3,2,3,9,6,20,5,2,5,1,9,10,2,11,0,3,3,6,6,5,0,7,2,5,2,6,0,0,9,2,1,6,4,8,1,4,0,15,5,0,0,6,11,5,6,1,2,0,0,18,7,2,5,13,6,0,2,6,5,10,0,9,3,2,0,7,0,3,3,14,2,3,7,6,4,2,3,3,2,5,8,7,3,0,3,6,8,5,4,7,16,7,4,7,4,11,5,2,0,3,3,2,1,3,8,5,4,1,2,0,4,3,1,4,4,0,8,4,11,4,0,6,1,2,0,2,0,0,0,0,0,0,0,0,40,0,0,0,0,0,0,0,0,0,6,0,0,5,0,0,0,0,0,0,0,0,0,0,0,0,0,0,0,0,0,0,0,0,0,0,0,20,0,0,0,0,0,0,20,0,0,0,9,4,20,0,0,0,0,0,0,0,0,0,0,0,0,0,0,0,0,0,0,0,0,0,0,0,0,3,0,0,0,0,0,0,0,1,0,0,0,0,3,8,0,0,0,0,0,0,0,0,0,0,0,0,0,0,0,0,0,10,10,0,0,0,0,0,0,0,4,0,0,0,3,0,0,4,0,0,0,0,9,0,0,8,0,0,0,0,0,0,0,0,0,1,0,0,3,0,0,0,2,0,0,2,0,0,2,0,0,0,0,3,0,0,0,0,12,0,2,3,0,0,0,0,0,0,0,0,0,0,0,0,0,0,0,0,0,0,0,0,0,0,0,0,0,0,0,0,0,0,0,0,0,0,0,0,0,0,0,0,0,0,0,0,0,0,0,0,0,0,0,0,0,0,0,0,0,2,13,0,0,0,0,0,0,0,0,1,0,0,0,0,0,0,0,0,2,0,0,1,0,2,0,0,0,0,0,1,0,0,2,0,2,0,0,0,1,0,0,0,0,0,0,3,2,0,0,0,0,0,0,3,2,0,0,0,2,3,0,0,0,0,5,5,2,5,0,0,2,0,5,0,0,0,7,7,0,0,4,0,0,0,0,0,1,5,0,3,0,0,1,0,0,0,0,5,2,0,6,0,2,0,3,0,3,0,3,2,0,4,2,0,0,0,0,3,4,4,4,19,0,4,2,2,40,4,5,7,4,7,4,8,3,0,3,11,3,14,22,2,4,8,3,0,0,2,7,4,6,0,5,5,6,6,4,0,0,3,2,1,5,10,3,4,4,3,7,12,2,2,0,13,0,15,9,4,3,4,10,3,8,4,8,10,0,5,8,6,1,2,12,5,8,1,0,4,11,0,0,1,8,3,11,3,8,4,0,6,3,10,5,0,4,4,3,2,11,10,11,0,4,1,3,4,0,3,0,0,0,0,0,0,30,0,0,0,0,0,0,0,0,0,0,0,0,0,15,0,0,0,0,0,0,0,0,0,0,0,0,0,0,0,0,0,0,0,0,0,0,0,0,0,0,1,11,0,0,0,3,0,5,8,0,0,0,2,0,20,0,0,22,0,0,0,0,25,0,0,0,0,0,0,0,0,0,0,0,0,0,0,0,0,5,11,0,0,0,0,0,0,0,0,0,5,0,0,0,0,25,0,2,0,0,0,0,0,0,2,10,0,0,0,0,0,0,2,2,0,0,1,0,4,13,9,3,0,1,0,0,0,0,0,0,0,0,0,11,0,0,0,0,0,0,0,0,0,0,0,0,0,0,0,0,0,0,3,9,6,0,0,0,0,0,0,0,0,0,0,0,0,0,0,0,13,6,3,5,0,0,0,0,0,0,0,0,0,0,0,0,0,0,0,0,0,0,0,0,0,0,0,0,0,0,0,0,0,0,0,1,0,10,8,0,0,0,0,0,0,0,0,0,0,0,0,0,0,0,0,0,2,11,0,0,0,0,0,0,0,0,0,0,0,3,0,0,1,0,0,0,0,0,0,0,0,0,0,0,0,0,0,0,0,0,1,0,0,1,0,0,1,4,0,0,0,0,0,1,0,0,1,0,4,1,0,4,4,1,4,1,0,0,6,4,0,1,2,4,0,10,6,0,2,0,2,2,0,7,1,4,0,0,8,3,0,0,0,3,0,4,0,10,0,4,13,3,0,0,11,0,11,2,0,4,0,0,2,6,0,7,3,0,0,2,0,5,2,5,3,8,0,2,2,2,0,0,0,3,6,5,3,1,2,12,0,5,4,7,11,10,0,5,4,4,0,5,3,8,5,9,12,6,2,1,0,1,0,4,8,5,11,2,12,3,15,12,12,14,10,8,7,11,3,3,10,0,3,5,1,0,0,7,4,5,0,4,0,0,3,2,6,8,4,3,0,0,0,1,3,0,0,0,25,0,0,0,0,0,0,0,0,0,0,0,0,0,0,0,0,0,0,0,0,0,9,10,0,0,0,0,0,0,0,0,0,0,0,0,0,0,0,38,45,0,0,0,0,0,0,3,0,5,0,0,0,2,0,0,0,0,0,0,0,0,0,0,0,0,0,0,5,0,0,0,0,0,0,0,0,0,0,5,0,30,6,3,6,0,0,0,2,0,0,0,0,4,0,2,0,0,2,0,0,0,0,0,0,0,0,0,0,0,0,0,0,0,0,0,0,0,0,0,0,0,0,0,0,0,0,0,0,0,0,0,0,0,0,0,0,0,0,0,0,0,0,6,13,0,0,0,0,0,0,0,1,0,0,0,0,0,0,3,0,0,1,2,0,0,0,0,0,0,0,0,0,0,0,0,0,0,4,0,0,0,0,0,0,0,0,0,1,0,0,0,0,0,0,0,0,1,0,0,2,0,1,0,4,1,0,1,0,1,0,7,2,5,1,0,1,10,0,0,0,0,1,2,0,0,2,0,0,2,0,0,2,0,3,0,2,2,2,3,4,8,2,0,0,0,5,7,7,1,4,5,4,1,11,0,5,11,11,5,12,6,7,4,0,6,9,3,0,7,11,1,4,0,0,4,5,6,3,1,6,5,10,0,12,10,7,2,9,5,8,5,0,7,15,1,14,0,0,4,20,8,3,9,3,7,9,1,3,5,3,0,0,3,12,5,14,3,16,4,15,2,0,0,5,0,0,0,0,0,0,0,0,0,0,0,0,0,0,0,25,0,0,0,0,7,2,0,0,0,0,0,0,0,0,0,0,0,0,0,0,0,0,0,0,0,0,0,0,0,0,0,0,0,0,0,0,0,0,0,0,0,0,0,0,0,0,0,0,0,0,0,3,0,0,0,0,5,0,0,0,2,0,0,0,0,0,5,0,2,0,0,0,0,0,0,0,0,0,0,3,0,0,7,0,0,0,10,0,0,0,0,2,1,0,0,0,7,2,0,0,0,2,0,0,0,0,0,0,0,0,0,0,0,0,0,0,0,0,0,0,22,7,0,0,0,0,0,0,0,0,0,0,0,0,0,0,0,0,0,0,0,0,0,0,0,0,0,0,0,0,0,0,0,0,0,0,0,0,0,0,5,0,0,0,0,1,0,0,0,0,1,1,0,0,0,3,0,0,0,5,4,0,1,0,0,0,0,0,0,0,0,0,0,3,0,0,2,0,2,0,3,0,0,0,4,0,0,1,0,0,0,1,5,0,3,2,0,0,0,55,2,5,14,7,4,5,3,20,0,0,3,0,0,0,3,0,1,2,1,5,7,0,0,0,7,8,1,13,9,0,6,0,6,4,0,4,3,0,0,0,0,4,0,2,5,3,8,19,3,0,13,12,6,12,13,8,7,7,16,8,15,15,12,13,0,0,15,8,4,6,6,3,7,0,3,2,0,6,32,0,1,6,0,7,0,0,0,0,0,0,0,0,0,0,0,0,0,0,0,0,0,0,0,9,0,0,0,0,0,0,0,0,0,0,0,0,9,0,0,0,0,0,0,0,0,0,0,0,0,0,0,0,0,0,0,0,0,3,0,0,0,0,0,5,0,0,0,0,0,2,0,0,0,0,0,0,2,0,0,30,0,0,0,0,0,0,0,0,0,0,0,0,0,0,0,0,0,0,0,0,0,0,0,0,0,0,0,0,0,1,5,10,0,0,0,0,0,1,2,1,0,0,0,9,7,0,1,0,0,1,2,4,0,2,0,1,0,0,2,0,0,0,0,0,0,0,0,0,0,0,0,2,10,0,0,0,0,0,0,0,0,0,0,0,0,0,0,0,0,0,0,0,0,0,0,1,0,0,0,0,0,0,0,0,0,0,0,0,0,0,0,5,4,0,0,0,0,0,1,0,1,0,0,0,0,0,0,0,0,0,0,0,2,1,0,0,1,0,0,1,0,0,1,0,3,0,0,0,0,0,0,0,5,0,0,0,0,0,6,0,0,0,0,0,2,0,6,0,0,0,0,0,0,0,3,0,3,0,0,0,3,2,4,1,5,4,0,4,5,0,0,0,3,0,4,2,0,0,7,2,1,0,5,0,4,11,3,5,11,0,0,8,0,0,4,0,0,0,6,0,0,5,8,2,2,5,0,0,16,0,4,0,5,6,4,3,2,4,0,8,5,6,13,0,0,9,6,0,0,9,5,6,0,0,6,7,3,12,7,0,8,8,10,7,8,11,0,0,14,13,6,15,10,4,3,9,7,10,3,7,3,9,0,3,10,8,4,0,1,8,4,3,7,3,13,0,9,0,0,0,9,5,3,5,3,3,0,4,1,0,0,0,0,0,0,1,0,0,0,0,0,0,0,0,0,0,0,0,0,0,0,0,0,0,0,0,0,0,0,0,0,0,0,0,0,0,0,0,0,0,0,0,0,0,0,0,1,0,0,0,0,0,0,5,0,0,0,0,0,0,0,0,0,0,0,0,0,0,0,0,0,0,0,0,14,0,0,0,0,0,0,0,0,0,0,35,0,0,0,0,0,0,0,0,0,0,0,0,0,0,0,0,0,0,0,0,0,1,0,0,5,0,2,0,0,0,0,0,0,0,0,0,0,13,0,0,0,0,0,0,0,0,0,0,3,0,0,0,0,0,0,0,0,4,0,0,0,0,0,0,0,0,4,0,1,1,0,1,24,0,0,0,4,0,0,0,0,0,0,0,0,0,0,0,0,0,0,0,0,0,0,0,0,3,0,0,0,0,0,0,0,0,0,0,0,0,0,0,0,0,0,0,0,0,0,0,0,0,0,0,0,0,0,0,0,0,0,0,0,0,0,0,0,0,0,0,0,0,0,0,0,0,0,0,0,0,0,0,0,0,0,0,0,0,0,0,0,0,0,0,0,0,0,0,0,0,0,0,0,0,0,0,0,0,0,0,0,0,0,0,0,0,0,0,1,0,0,0,4,0,0,0,0,0,0,0,0,0,1,0,0,4,1,1,2,0,0,0,0,0,0,3,0,0,0,0,0,0,2,0,0,0,0,0,0,0,0,0,0,0,2,0,1,0,0,1,0,0,0,0,0,3,4,4,0,0,3,0,0,0,0,6,2,0,2,0,0,0,0,0,2,0,1,0,0,0,2,0,0,0,0,0,0,0,4,6,16,0,1,0,0,0,2,0,6,0,7,0,0,0,0,2,0,0,0,9,2,0,0,3,0,0,0,0,1,4,0,0,2,3,4,8,4,0,7,4,0,8,0,5,0,0,0,2,5,3,1,12,4,5,4,12,8,5,3,8,0,7,5,7,8,10,5,1,5,12,5,4,20,0,8,9,0,3,5,5,14,7,7,1,0,0,2,6,6,2,5,15,7,2,14,5,10,5,7,5,10,2,8,3,0,10,2,5,8,4,7,13,0,5,3,3,3,7,5,4,6,2,0,7,0,8,14,7,2,20,6,13,1,9,10,11,5,30,6,17,2,0,4,7,3,27,7,23,0,2,0,0,4,0,0,0,0,0,0,0,0,0,0,0,0,0,0,0,0,0,0,0,0,0,0,0,0,0,0,0,0,0,0,0,0,0,0,0,0,0,0,0,0,0,0,0,3,0,0,0,0,5,0,0,0,2,0,15,0,0,0,0,0,15,0,0,0,0,5,0,5,0,0,0,0,0,0,0,0,0,0,0,0,0,0,0,0,2,0,7,3,0,0,0,0,0,0,0,0,0,1,0,0,0,0,0,8,0,0,1,0,0,0,0,0,0,0,0,0,2,9,0,0,0,8,5,4,0,2,8,1,0,1,0,0,0,0,0,0,0,0,0,0,0,0,0,0,0,0,0,0,0,0,0,0,0,0,0,0,0,0,0,0,0,0,0,0,0,0,0,0,0,0,0,0,0,0,0,0,0,0,0,0,0,0,0,0,0,0,0,0,0,0,0,0,0,0,0,0,0,0,0,0,1,0,0,4,0,0,0,0,0,0,0,0,0,3,0,0,3,0,3,0,30,2,2,1,2,3,0,4,0,0,0,2,0,5,3,2,0,1,0,0,0,3,5,5,3,7,0,0,0,0,0,7,0,0,0,3,0,0,5,0,0,2,7,0,1,0,0,0,0,2,4,0,0,1,0,2,0,0,7,0,1,0,1,2,5,0,19,0,1,3,1,5,3,7,4,1,6,6,0,0,1,4,5,2,9,11,0,5,6,0,8,25,4,9,6,3,0,8,8,1,9,0,2,0,10,2,3,2,8,0,2,0,8,1,1,5,0,3,0,7,0,0,5,12,11,0,6,4,4,3,2,0,0,12,5,4,0,8,9,0,0,0,0,12,12,3,4,0,0,3,7,0,5,7,0,11,40,14,7,2,6,6,6,8,10,10,9,5,7,1,5,2,5,3,0,5,4,18,2,1,8,7,0,21,9,7,3,9,5,8,10,3,13,4,1,1,1,0,4,0,12,0,0,1,0,9,0,0,0,0,45,0,0,0,0,0,0,0,0,0,0,0,0,0,0,0,0,0,0,0,0,0,0,0,0,0,14,0,0,0,0,0,0,0,0,3,0,0,5,2,0,0,0,0,0,0,0,10,0,0,0,0,0,0,0,0,0,6,0,2,0,5,29,0,0,0,0,7,8,1,0,0,5,0,0,0,0,1,0,0,8,0,0,0,3,4,2,0,0,0,0,0,0,0,0,0,0,0,0,0,0,3,0,0,0,0,0,0,0,0,0,0,0,0,0,0,0,0,0,0,0,0,0,0,0,0,0,0,0,0,0,0,0,0,0,0,0,0,0,0,0,0,0,0,0,0,0,0,0,0,0,0,0,0,0,1,0,0,0,0,0,0,0,0,0,0,0,0,0,0,0,0,0,0,0,0,0,0,5,0,0,4,0,0,0,0,0,0,2,0,3,0,7,3,3,5,0,0,0,2,0,0,0,0,0,0,0,1,0,0,3,0,3,5,0,1,3,3,0,5,0,0,0,0,0,2,0,0,0,2,6,0,3,4,10,1,13,0,5,0,0,1,0,4,0,6,5,4,5,0,6,10,6,6,0,5,9,14,2,3,3,5,1,1,9,6,0,7,4,11,3,6,12,9,11,8,0,13,7,5,2,12,15,7,9,15,5,6,0,5,5,3,11,0,10,5,3,31,0,3,3,0,1,2,0,0,5,0,0,0,0,0,0,0,0,0,0,0,0,0,0,0,0,0,0,0,0,0,0,0,0,0,0,0,0,0,0,0,0,0,0,0,0,20,0,0,0,0,0,0,0,0,0,0,0,0,0,0,0,0,11,0,0,0,0,0,0,0,0,25,0,0,0,0,0,0,0,3,0,0,5,20,2,0,0,0,0,0,0,0,0,0,0,0,0,0,4,0,0,7,0,0,0,0,0,0,3,0,1,0,0,0,2,0,0,3,1,0,7,0,0,0,9,3,2,0,0,0,0,0,0,0,0,0,0,0,0,3,1,1,0,0,2,5,0,4,5,0,5,6,0,6,7,0,0,0,4,0,6,9,0,0,6,0,4,8,11,5,0,1,0,7,6,9,5,14,3,2,10,2,0,0,16,2,1,2,0,0,1,0,3,0,0,0,0,0,0,0,0,0,8,0,0,0,0,0,0,0,0,0,0,0,0,0,0,1,10,0,8,5,5,10,0,0,0,0,0,0,0,0,0,0,0,0,0,3,0,0,5,0,0,0,0,0,0,0,0,0,0,0,0,0,0,0,0,0,0,0,0,0,0,0,0,0,0,0,0,0,0,0,0,0,0,0,0,0,0,0,0,3,0,3,0,0,0,0,0,0,0,6,0,0,0,0,0,0,0,0,0,1,0,0,0,0,0,0,0,0,0,0,0,0,1,0,0,0,0,0,3,1,0,0,0,0,0,3,3,1,0,0,0,3,0,3,0,0,3,0,0,0,0,0,0,2,0,0,0,0,0,0,5,0,0,0,0,0,5,0,12,1,0,0,0,0,0,0,0,2,0,4,4,0,0,0,4,6,4,12,2,0,11,3,0,0,0,5,2,8,25,5,5,1,0,6,4,0,8,5,8,9,0,0,0,6,0,4,2,0,0,3,9,2,3,0,8,5,4,0,9,11,11,1,0,12,4,7,12,7,0,0,0,7,8,1,0,5,9,13,0,2,11,1,0,8,4,0,2,2,14,3,4,4,5,16,3,7,6,2,2,1,0,0,5,6,8,5,0,0,0,0,0,0,0,0,0,0,0,13,0,20,0,0,0,50,45,0,0,0,0,20,2,46,0,0,0,0,0,0,0,0,0,0,0,0,0,0,0,0,0,0,0,0,0,0,0,0,0,0,0,0,0,0,0,0,0,0,0,0,0,0,0,0,0,0,0,0,0,0,0,0,0,0,0,0,0,3,0,0,0,0,0,0,0,0,38,0,0,0,0,0,0,0,0,0,0,0,30,0,0,0,0,0,0,0,0,0,0,0,0,0,0,0,0,0,0,0,0,0,0,0,0,0,0,0,0,0,19,0,0,0,1,0,0,0,7,0,0,0,0,0,0,0,0,1,0,0,16,0,2,2,0,0,7,0,1,0,0,0,0,0,0,0,0,0,0,0,0,0,0,0,0,0,0,0,0,0,0,0,0,0,0,0,0,0,0,0,1,0,0,8,0,0,0,0,5,0,0,0,0,0,1,0,0,7,1,0,0,0,2,4,5,1,7,0,4,0,5,5,5,0,0,1,2,9,11,5,0,6,0,4,0,2,4,7,4,1,4,8,0,0,2,0,3,6,9,0,0,0,0,10,6,7,5,0,1,8,5,5,0,8,7,7,7,14,6,0,5,2,1,2,0,2,3,4,14,1,4,4,9,0,0,1434,2,3,0,2,2,16,8,2,3,4,3,4,4,3,2,2,4,0,1,4,2,5,0,2,3,5,3,2,0,0,0,0,0,0,0,0,0,0,0,0,0,0,0,0,0,0,2,0,1,0,1,9,0,0,0,0,0,0,0,0,0,0,0,0,0,0,0,0,0,0,0,0,0,0,0,0,0,2,0,0,0,0,0,0,2,0,0,0,0,0,0,0,0,0,0,0,3,0,0,0,0,0,0,0,0,0,0,0,0,0,0,0,0,0,0,0,0,0,0,0,0,0,0,0,0,0,0,0,0,0,0,0,0,0,0,0,0,0,0,0,0,0,0,0,0,0,1,0,0,0,0,0,0,4,0,0,1,0,0,0,0,0,0,0,0,0,0,0,0,0,0,0,1,0,0,0,11,0,1434,7,0,0,0,0,0,0,0,0,0,0,0,0,0,0,0,0,0,0,0,0,0,0,1,0,0,0,0,0,0,0,0,0,0,0,6,5,0,0,0,0,1,0,1,0,0,0,0,2,0,0,3,0,1,0,0,0,20,0,0,0,0,0,2,0,0,0,0,0,1,0,1,0,0,0,2,2,1434,2,0,11,5,0,4,0,0,5,2,2,0,7,1,0,1,0,12,0,0,0,0,0,5,3,7,0,1,10,6,5,7,5,0,20,5,0,7,10,0,0,0,20,0,4,6,2,4,7,0,0,6,3,0,1,3,1,8,0,8,0,10,1,11,4,0,5,10,2,7,7,12,0,0,12,0,0,0,3,0,5,0,4,0,6,1,11,0,9,12,10,0,0,1,0,7,2,0,21,8,1,1,1,0,1,12,0,0,3,3,7,0,7,4,0,7,8,0,7,0,1,0,4,16,0,3,7,5,15,0,2,5,3,0,5,0,6,9,0,3,0,1434,0,0,0,4,5,0,0,0,0,0,0,0,1,0,4,0,0,0,0,0,0,0,0,0,0,0,0,0,0,0,2,0,1,0,0,0,0,0,0,0,0,0,0,0,0,0,0,0,0,0,0,6,0,0,0,0,0,0,0,0,0,0,0,0,0,0,0,0,0,0,0,0,0,0,0,0,0,0,0,0,0,0,0,0,0,3,0,0,0,0,0,0,0,0,2,0,0,0,0,0,0,0,0,3,13,0,0,0,0,0,0,0,0,0,0,0,0,0,0,6,0,0,0,0,0,6,0,2,0,0,0,0,1,0,0,4,0,0,16,4,0,2,0,0,0,12,15,0,0,0,0,0,4,0,0,0,4,7,0,0,8,0,0,0,0,0,0,1,0,0,0,0,0,0,3,0,0,0,0,0,0,1,7,0,1,0,0,0,0,2,0,9,1,0,0,0,0,0,0,0,0,0,0,0,0,2,3,0,0,0,0,0,0,0,0,0,0,0,0,0,0,0,0,0,8,4,0,0,0,0,0,0,0,0,1,0,0,0,0,0,0,0,0,0,0,0,0,0,0,0,0,0,0,0,0,0,0,0,0,0,0,0,2,0,0,0,0,0,0,0,0,0,0,0,1,0,0,0,0,0,0,0,0,0,0,3,0,0,1,0,0,0,0,0,0,0,0,0,0,2,0,0,3,0,0,0,0,0,0,0,0,0,0,4,1,3,0,0,3,0,0,1,4,0,0,0,0,0,0,6,0,0,5,0,4,0,7,2,0,0,11,0,1,0,15,0,0,1,0,1,0,0,20,2,1,0,0,1,0,0,2,1,2,0,0,5,2,7,5,4,5,0,7,5,4,1,1,0,5,1,0,0,0,5,0,6,7,0,2,4,0,8,0,5,5,11,0,9,10,7,0,3,4,9,15,4,5,5,8,7,0,3,0,3,3,2,4,2,9,11,9,14,7,5,3,3,3,0,10,9,2,9,12,13,5,0,4,4,6,1,4,2,6,0,2,1,6,5,4,0,12,1,15,7,0,6,3,1,5,3,7,17,3,0,3,1,0,5,3,3,0,1,2,24,3,8,2,1,1,9,6,4,5,0,0,0,0,0,3,0,0,1,5,4,1,5,16,5,0,4,0,0,0,0,0,0,0,0,0,0,0,0,0,0,0,0,0,0,0,0,0,4,4,0,0,0,0,13,0,0,0,0,0,0,0,0,0,0,0,0,5,2,0,0,0,8,0,0,0,0,0,0,0,0,0,3,10,3,0,0,0,0,0,0,0,0,0,0,5,0,0,0,0,0,1,0,15,0,0,0,0,0,2,0,20,0,0,0,0,0,0,0,3,0,0,0,0,0,0,0,0,0,0,5,0,0,0,0,0,0,3,0,3,0,0,0,0,7,0,0,5,0,0,0,0,0,0,8,0,0,1,2,2,1,0,0,0,0,2,0,0,0,3,1,2,0,0,0,0,2,1,0,1,1,0,0,2,2,0,0,0,0,0,0,0,0,0,0,0,0,0,0,0,0,0,0,0,0,0,0,0,0,0,2,0,0,0,0,0,0,0,0,0,0,0,0,0,2,0,0,0,0,0,0,0,0,0,0,0,0,0,0,0,0,0,0,0,0,0,0,2,0,0,0,0,0,0,2,5,0,0,1,0,0,0,0,0,0,0,0,0,0,0,0,0,0,0,0,0,0,0,0,4,0,0,0,0,0,0,0,0,2,0,0,0,2,0,0,0,0,0,3,0,0,0,0,0,0,0,0,0,0,0,0,0,0,0,0,6,0,1,0,0,3,0,2,0,0,0,0,1,0,2,0,0,0,14,0,5,0,3,0,0,0,0,2,2,8,2,9,3,1,5,1,3,4,6,12,3,3,2,0,5,7,8,7,0,4,4,7,5,5,7,6,4,9,9,0,11,3,0,5,4,5,3,9,3,0,10,7,11,2,5,0,10,1,0,1,10,4,0,1,7,0,0,4,10,6,10,3,12,3,17,16,6,8,1,25,0,4,10,2,13,0,13,5,1,7,3,2,8,5,3,5,0,0,0,2,0,0,3,3,11,8,4,0,0,0,5,0,0,0,0,0,0,0,0,0,3,2,0,0,0,0,0,0,0,0,22,0,0,0,0,0,0,3,0,0,0,5,0,0,0,0,2,0,0,0,0,0,0,0,0,0,0,0,0,0,2,0,0,0,0,0,0,0,0,0,0,0,0,0,0,0,0,0,0,0,0,0,3,0,5,1,0,1,2,0,0,3,0,0,1,0,5,10,6,0,0,1,5,0,0,4,0,0,0,0,1,4,8,0,0,0,0,0,0,0,0,0,0,0,0,0,0,0,0,0,0,0,0,0,0,0,0,0,0,0,0,0,0,0,0,0,0,0,0,0,0,0,4,0,0,0,0,0,0,0,0,0,0,0,0,0,0,0,0,0,0,0,0,0,0,0,0,0,2,0,0,0,0,0,1,0,0,0,0,0,0,2,0,0,0,0,0,0,0,0,0,0,0,0,1,0,0,0,0,2,0,3,2,0,0,0,0,2,5,0,0,0,1,1,0,0,2,2,0,0,3,0,3,5,0,0,1,1,1,0,0,0,3,0,5,4,0,3,4,2,4,0,3,7,0,0,3,4,0,5,0,3,10,5,4,3,11,7,5,2,7,0,9,5,4,0,6,4,1,0,0,7,8,0,6,0,1,2,2,3,0,8,0,0,0,5,0,5,0,1,2,12,9,13,11,2,9,0,0,6,4,15,12,3,4,0,7,1,0,5,5,0,1,16,10,11,9,5,7,6,19,4,0,0,0,0,0,0,0,0,0,0,0,0,0,0,0,0,0,0,0,0,0,0,0,0,0,0,0,0,0,0,0,0,0,0,0,0,0,0,0,0,0,0,0,0,0,0,0,0,0,0,0,0,0,0,0,0,0,0,0,0,0,0,3,0,0,0,0,5,1,2,2,0,0,0,0,0,0,0,0,0,0,0,0,0,0,0,0,7,0,5,0,0,0,0,6,5,0,22,0,1,0,1,0,0,0,0,0,0,0,0,0,0,0,0,0,0,0,0,0,0,0,0,0,0,0,0,0,0,0,2,0,0,0,0,0,0,0,0,0,0,0,0,0,0,0,0,0,0,0,0,0,0,2,0,0,0,0,0,0,0,0,0,0,1,0,0,0,0,0,0,1,0,0,0,0,0,0,0,0,0,1,2,2,6,0,1,0,0,0,0,0,0,0,0,0,0,0,0,0,0,0,0,0,0,0,0,0,0,0,0,0,0,0,0,0,0,0,0,0,0,2,4,0,0,1,0,0,0,0,0,0,0,0,0,0,0,1,0,0,6,0,7,1,0,0,2,0,0,1,0,0,0,22,0,0,0,2,0,5,4,0,0,2,3,0,4,0,0,0,0,0,0,1,0,0,0,0,0,8,0,0,0,0,8,5,0,7,5,0,3,0,4,0,6,2,0,9,0,5,0,4,0,6,14,5,6,6,0,6,4,6,5,21,21,2,1,7,4,12,0,1,9,9,4,0,8,21,0,5,0,3,3,8,26,3,0,5,9,11,4,1,4,10,0,0,3,0,5,10,5,5,0,2,7,10,0,13,2,0,5,0,4,6,0,10,2,7,10,0,11,9,11,0,3,8,12,4,0,8,1,0,9,0,14,7,10,3,10,8,0,0,1,5,3,0,0,0,21,8,16,0,0,0,2,9,1,1,0,3,4,5,0,0,10,0,0,0,0,0,1,0,0,0,0,0,0,0,0,0,0,0,0,0,0,0,0,0,0,0,0,0,0,0,0,0,0,0,0,0,0,2,0,0,0,0,0,0,0,0,0,0,0,0,0,0,0,0,0,0,0,0,0,0,0,0,0,0,3,0,0,0,0,0,0,0,5,0,0,0,0,2,0,0,0,0,0,0,0,0,0,0,0,0,0,0,0,0,0,0,0,0,0,0,0,0,0,0,0,0,0,0,0,5,0,0,0,4,6,3,4,0,0,0,0,0,0,0,0,0,0,0,0,0,0,0,0,0,0,0,0,0,0,0,0,1,0,2,0,2,5,0,0,1,0,0,0,0,2,0,11,3,0,0,0,0,0,0,0,0,0,0,0,0,0,0,0,0,0,0,0,0,0,0,0,0,0,0,0,0,0,0,0,0,4,0,0,0,0,0,0,0,0,0,0,0,0,0,0,0,0,2,4,1,0,0,0,0,0,0,0,0,0,0,0,0,0,0,0,0,0,0,0,0,0,0,0,0,0,3,0,0,0,0,0,0,0,2,0,0,0,0,9,0,0,0,0,3,0,0,0,0,0,0,0,0,0,0,0,0,0,0,0,0,1,3,0,0,0,0,9,10,0,0,0,0,3,0,0,0,8,0,0,0,1,5,0,0,0,2,0,0,5,0,0,0,0,0,4,3,5,3,1,0,0,1,0,0,0,2,0,5,2,0,0,0,4,0,5,5,5,1,0,6,5,5,0,6,6,0,0,0,5,5,0,0,2,3,6,2,0,8,5,3,2,0,6,7,0,0,2,0,0,4,0,10,7,0,0,5,3,3,5,5,0,0,4,3,4,3,5,11,7,0,1,5,5,6,1,6,5,0,6,5,10,16,3,10,0,11,10,2,3,10,8,0,10,9,1,2,0,3,0,7,11,13,1,11,10,0,13,4,5,0,5,8,15,9,6,3,3,0,8,7,1,3,0,0,0,0,4,0,0,18,0,0,0,0,0,0,2,0,0,0,0,0,0,0,0,0,0,0,0,0,0,0,0,0,0,0,2,0,0,0,0,0,0,0,0,0,0,0,0,0,0,0,0,0,0,0,0,0,0,0,0,0,0,0,0,3,5,0,2,2,3,0,0,0,0,12,0,0,0,0,0,0,0,0,0,0,42,0,0,7,4,0,1,0,17,0,0,0,0,0,0,3,0,0,0,1,0,0,0,0,2,0,1,0,7,0,0,0,0,0,0,0,0,0,0,0,0,0,0,0,0,0,0,5,2,0,0,0,0,0,0,0,0,0,0,0,0,0,0,0,0,0,0,0,0,0,0,0,0,0,0,0,0,0,0,0,0,0,0,0,0,4,2,2,0,0,0,0,0,0,0,0,0,0,0,0,0,0,1,0,2,2,0,5,0,1,0,0,0,0,0,2,0,0,0,0,0,6,0,6,2,0,2,0,0,1,0,0,0,0,0,1,0,0,0,0,1,0,1,8,3,0,0,0,0,0,4,0,0,5,0,2,0,2,10,0,0,1,0,11,8,4,0,1,0,5,5,3,4,5,4,3,6,7,8,0,7,3,0,0,9,0,8,6,2,0,7,3,0,3,7,0,1,5,3,15,5,4,8,0,12,6,0,12,4,4,7,4,4,5,0,7,2,5,1,12,6,0,0,0,0,0,0,0,0,0,0,0,0,0,0,0,0,0,0,0,0,0,0,2,0,0,0,3,0,0,0,5,0,0,0,2,0,0,0,0,0,0,0,0,0,0,0,0,0,6,1,0,0,0,0,0,0,0,0,0,5,0,0,0,0,0,0,8,4,0,2,0,0,0,0,0,0,2,7,12,0,1,0,0,7,0,21,0,3,12,0,0,0,0,0,0,0,0,0,0,0,0,0,0,0,0,1,4,0,1,0,0,0,0,0,0,0,0,0,0,0,0,0,0,0,0,0,0,0,0,0,0,0,0,0,0,0,0,0,0,0,0,0,0,0,3,1,7,0,0,0,0,0,0,0,0,0,0,0,0,0,0,0,0,3,4,2,0,3,0,0,2,0,4,0,0,0,0,0,4,0,1,2,11,1,9,6,0,4,0,0,0,19,2,0,5,0,0,0,0,0,0,0,0,0,0,5,0,0,0,0,1,0,0,0,1,0,0,0,3,0,0,0,0,0,0,0,0,0,4,2,2,3,11,0,4,0,1,4,3,0,0,0,4,0,0,0,0,0,13,3,0,2,0,0,0,4,9,1,3,4,13,2,2,5,0,2,0,8,0,0,3,5,4,6,3,6,1,0,1,3,5,7,0,8,8,0,1,7,6,3,7,4,0,6,0,0,8,9,7,0,3,7,6,4,6,4,6,4,11,0,9,5,8,0,0,5,0,8,0,4,0,12,0,4,0,0,8,3,0,13,11,0,0,16,12,3,0,0,0,3,0,0,0,3,2,11,0,2,7,2,4,8,1,8,2,17,12,7,4,0,1,7,0,0,0,0,8,5,0,0,0,0,0,0,0,0,0,0,0,0,0,0,0,0,0,4,3,0,0,0,0,0,0,0,0,5,3,5,0,0,2,0,0,0,5,30,0,0,0,0,0,0,0,0,0,0,3,0,0,0,0,0,0,0,0,0,0,0,0,5,0,0,0,0,0,2346,0,0,3,0,0,12,0,6,0,5,0,0,0,0,0,0,0,0,0,0,0,0,0,0,0,0,0,0,0,0,0,0,0,0,0,0,0,0,0,0,0,0,0,0,0,0,0,0,0,0,0,0,0,0,0,0,0,0,0,0,0,0,0,0,0,0,1,0,0,0,0,1,0,6,0,0,1,0,0,0,0,0,0,0,0,0,0,0,0,2,0,0,0,0,0,0,0,0,0,0,0,0,0,0,0,0,0,0,0,0,1,0,0,1,0,5,0,0,0,2,0,0,3,0,0,0,0,3,0,0,0,1,1,2,4,4,0,5,0,1,5,1,0,9,0,3,2,0,5,0,5,0,3,12,6,4,2,0,2,8,0,2,1,4,9,10,2,5,7,1,11,0,7,0,10,0,2,1,3,1,2,9,4,11,5,10,8,0,3,3,3,10,1,8,7,2,0,0,6,0,10,1,0,0,0,12,19,4,6,7,0,0,0,0,0,0,0,0,7,3,0,0,8,14,14,0,0,7,8,8,5,6,3,0,0,0,0,0,0,0,0,0,0,0,0,0,0,0,0,0,0,0,0,0,0,0,0,0,0,0,3,0,0,0,0,0,0,0,0,0,0,0,0,30,0,0,0,0,0,0,0,9,0,0,0,0,0,0,0,0,0,0,0,0,0,0,0,0,2,5,0,0,0,2,0,0,0,0,0,0,0,6,0,0,0,0,0,5,0,0,0,4,0,0,0,0,0,0,0,0,0,0,0,0,0,12,0,0,6,0,5,0,0,0,2,6,4,6,5,6,7,5,7,6,0,5,4,8,10,12,6,1,0,5,0,0,0,2,0,0,0,0,0,0,0,0,0,0,0,0,0,0,0,0,0,0,0,0,0,0,0,0,0,0,0,0,0,0,0,0,0,0,0,0,0,0,0,0,0,0,0,0,0,0,0,0,5,0,0,0,0,0,0,0,0,0,0,0,0,0,0,0,1,0,0,0,0,0,0,0,0,0,0,0,0,0,7,0,0,1,0,0,0,0,0,0,0,0,0,0,0,0,5,0,0,0,0,0,6,0,0,0,0,0,0,0,4,12,0,0,0,0,0,0,0,0,0,0,0,0,0,5,3,4,4,0,3,1,0,0,0,0,1,2,0,0,0,0,0,2,0,0,0,0,0,1,0,0,0,0,3,2,0,0,0,0,0,2,3,0,4,4,1,0,0,0,3,0,0,0,0,0,4,5,14,3,2,0,0,0,8,4,0,0,0,0,4,1,2,9,9,4,0,5,10,0,3,4,4,12,0,5,0,0,0,3,0,0,0,0,0,0,0,0,0,0,0,0,0,0,0,0,0,0,0,0,0,0,0,2,0,0,0,0,0,0,0,0,8,5,0,0,1,0,0,0,0,15,2,10,0,4,0,0,2,0,0,0,0,0,7,0,0,1,0,0,5,2,0,2,0,5,0,5,0,0,0,0,0,0,0,0,0,0,0,0,5,12,0,0,0,0,0,0,0,0,0,0,0,0,0,0,0,0,0,0,2,1,0,0,0,0,0,0,0,3,1,0,0,1,0,0,0,1,14,4,2,0,0,4,8,8,0,2,5,0,4,9,2,1,0,9,9,5,0,0,0,0,0,0,0,0,0,7,0,0,1,0,0,6,0,0,0,0,0,0,0,0,0,0,0,0,1,0,2,0,3,0,4,3,3,3,1,0,5,0,0,0,16,3,2,7,4,5,0,0,0,1,0,0,0,0,0,0,0,0,0,0,0,0,0,0,0,1,0,1,0,0,0,0,0,0,0,0,0,0,0,0,3,0,0,0,0,0,1,0,0,0,2,0,0,0,0,0,0,4,2,2,0,2,0,4,3,0,3,0,0,1,0,0,7,4,0,0,0,0,0,0,0,12,5,0,0,1,0,0,2,1,0,0,4,1,4,0,0,8,2,0,4,3,0,5,3,0,4,2,2,0,2,1,3,2,0,0,6,1,2,3,0,1,0,8,0,2,3,0,1,0,5,0,3,2,4,3,0,1,1,0,3,8,2,1,0,2,9,13,4,0,8,5,9,0,0,3,2,0,0,5,3,0,0,4,3,1,2,5,6,2,3,1,2,0,5,7,0,4,0,2,0,3,9,4,0,0,0,0,0,0,0,0,0,11,5,0,0,0,0,2,0,0,4,0,0,0,0,0,0,9,1,6,0,0,0,0,0,0,0,0,0,0,0,0,0,0,0,0,0,1,0,0,5,3,4,0,1,0,0,5,0,1,0,0,0,0,1,5,102,0,11,10,10,0,0,0,5,1,2,0,0,3,0,3,0,1,5,5,5,13,33,0,2,2,5,3,2,2,0,6,3,0,0,5,2,0,3,4,3,0,1,9,5,0,5,30,15,14,6,0,0,9,5,4,9,10,1,7,5,0,0,2,1,0,3,5,0,4,2,4,5,0,0,0,0,0,0,0,0,6,0,0,0,0,0,0,0,1,3,9,0,0,0,0,0,0,0,1,2,0,0,1,0,1,0,2,11,7,1,0,1,5,0,0,0,0,1,3,5,0,2,4,4,4,4,4,0,4,1,3,2,10,10,3,9,10,1,10,0,11,3,0,1,19,4,8,4,3,0,5,9,10,4,8,2,0,2,4,6,4,0,0,0,0,0,0,0,0,1,0,0,1,0,0,3,5,4,2,0,0,0,0,4,0,0,0,0,0,0,0,0,0,0,0,0,0,0,0,0,1,0,0,1,0,0,0,0,0,2,0,0,0,0,0,0,1,0,0,0,0,0,0,5,0,0,0,7,0,0,5,0,7,0,30,3,1,1,2,2,0,0,0,9,7,6,13,5,0,4,0,0,4,0,11,5,0,0,7,8,6,0,0,0,10,0,7,0,0,8,7,0,1,7,15,0,0,8,2,5,0,0,0,8,12,4,1,12,7,0,0,22,3,0,0,14,8,6,0,3,3,9,8,8,0,3,4,12,4,0,0,0,0,0,4,8,0,11,0,1,0,10,2,5,0,0,12,11,0,11,2,1,5,7,5,11,0,0,0,0,0,0,7,0,0,0,0,0,2,0,11,0,1,3,3,9,13,2,4,0,0,0,1,0,0,5,0,1,0,1,0,0,0,0,0,5,0,0,0,0,0,0,0,0,0,1,0,0,0,0,0,1,0,0,5,0,0,7,1,1,3,0,7,5,1,2,2,5,0,0,2,0,0,2,0,0,0,0,1,0,2,4,4,2,7,5,6,0,1,2,5,6,2,7,5,7,3,12,5,0,0,7,5,9,5,7,1,4,2,5,9,2,2,6,1,5,4,4,1,1,13,13,9,15,4,0,6,1,11,5,2,6,13,7,7,6,7,11,4,9,0,15,0,0,9,7,5,4,0,0,9,7,0,10,5,0,14,2,10,5,7,9,15,4,0,6,0,0,0,0,0,0,0,0,13,0,0,0,0,2,8,1,6,1,12,1,10,0,0,0,0,0,3,0,0,0,0,0,0,0,0,20,0,0,0,0,0,0,0,0,0,6,12,0,0,0,11,0,6,7,0,0,0,8,8,7,0,7,0,12,1,3,0,0,0,0,0,0,0,0,0,0,0,0,0,0,0,0,0,0,0,1,0,0,0,3,0,3,0,2,0,3,5,0,0,3,0,0,7,2,0,0,7,0,0,2,0,0,2,0,0,2,5,5,10,7,2,4,0,5,3,5,7,1,16,9,5,3,5,6,7,1,0,6,1,4,4,8,3,9,9,3,11,0,5,15,0,0,0,0,10,3,3,12,5,4,0,0,2,0,0,0,0,0,0,0,0,0,0,0,0,0,0,0,0,0,0,0,0,19,6,0,0,0,5,0,0,2,0,0,0,4,4,2,0,3,0,0,0,0,0,0,0,0,0,0,3,0,0,1,2,0,0,0,3,5,0,8,0,0,0,0,0,1,0,0,0,2,1,10,0,0,0,4,5,7,6,0,7,2,3,7,14,10,5,3,10,5,18,12,9,5,3,19,6,5,3,7,20,4,3,0,8,2,17,0,5,0,0,0,2,4,0,4,9,6,2,9,13,1,7,5,9,0,13,0,1,0,0,0,0,15,0,0,0,0,0,0,0,0,0,0,0,0,0,0,0,1,0,0,0,1,0,1,0,0,0,0,1,1,0,0,0,0,0,0,0,0,0,0,0,0,1,0,0,0,0,0,0,3,0,0,0,0,0,4,0,0,8,0,0,3,0,1,2,4,0,12,3,0,5,3,1,0,5,4,0,6,0,9,0,8,8,1,7,0,4,0,9,0,6,10,2,0,3,9,8,4,14,9,4,5,15,1,0,6,4,6,0,0,1,2,0,0,0,0,0,0,0,3,5,0,0,0,0,0,0,0,0,0,19,19,7,0,1,7,4,2,0,2,0,0,0,0,0,0,0,0,0,0,0,1,0,0,3,0,1,1,3,0,7,1,0,1,0,9,1,2,0,0,10,9,4,0,5,0,0,0,0,4,0,0,0,0,6,0,2,0,1,6,0,0,0,1,3,6,17,2,5,1,1,3,5,4,11,5,0,11,7,0,6,4,6,0,0,5,0,0,1,0,0,0,0,0,0,0,0,8,5,10,0,2,3,0,3,0,0,12,14,6,7,0,9,0,0,0,3,10,8,4,5,4,0,7,18,18,0,10,5,5,14,10,0,12,16,1,3,2,0,7,4,0,0,3,2,0,6,5,10,3,0,0,2,0,6,0,0,0,0,0,0,0,0,0,0,0,0,0,0,0,0,0,0,0,5,0,0,0,0,10,0,0,0,0,0,0,0,0,1,0,0,0,0,0,0,0,0,0,0,0,0,1,0,0,2,0,5,0,0,0,0,0,3,0,0,0,0,2,0,1,0,2,1,0,0,1,0,0,0,12,1,0,1,1,1,0,8,9,3,3,4,0,0,0,9,4,5,6,0,2,12,5,4,0,0,0,4,2,4,0,5,0,0,0,0,0,0,0,4,1,0,6,8,5,1,8,7,0,15,0,5,0,2,6,0,8,9,4,7,13,2,4,0,3,13,7,9,0,0,2,15,8,3,6,3,11,0,5,3,8,4,12,11,9,1,3,0,6,2,0,8,6,7,0,13,0,2,6,5,8,9,13,1,2,0,0,12,0,0,0,0,0,0,0,0,0,0,0,2,0,0,7,0,10,3,0,0,0,3,7,4,8,0,0,2,0,1,0,0,0,0,0,0,1,0,0,0,3,0,0,1,0,2,0,0,2,1,0,0,1,0,1,0,6,0,2,0,0,0,2,0,7,0,0,0,0,0,0,0,0,0,1,3,0,0,9,3,0,7,0,4,1,8,4,0,0,11,12,1,9,0,2,2,5,3,2,3,5,3,0,0,4,5,5,0,0,6,2,5,0,4,9,8,3,0,2,5,6,2,0,6,19,0,0,1,10,3,11,1,0,13,2,0,4,0,1,0,1,0,0,7,0,14,8,15,1,18,11,7,5,10,14,4,2,3,3,2,5,0,0,20,0,0,0,0,0,0,0,0,25,2,0,0,0,0,0,0,0,0,0,0,0,6,0,0,0,0,0,5,0,5,7,0,10,0,2,6,1,5,0,6,2,6,2,0,0,0,1,4,2,15,0,0,25,0,0,0,0,0,0,0,0,0,0,11,2,5,5,8,4,6,0,1,0,1,0,5,11,4,0,0,6,3,0,0,3,0,0,14,0,5,0,9,0,0,8,0,6,1,8,2,5,11,1,6,0,7,0,20,0,0,0,0,0,0,0,0,11,0,0,8,12,16,0,4,0,0,0,0,1,0,0,0,0,0,0,0,6,7,0,0,0,0,5,2,0,0,0,0,0,0,11,0,4,0,0,0,0,0,0,0,0,0,0,0,0,6,12,20,0,0,0,12,0,0,4,0,0,0,0,0,0,0,0,8,0,4,1,2,5,0,2,0,5,0,0,0,0,5,13,0,0,0,0,0,0,1,0,2,0,0,0,0,40,0,0,9,60,6,0,2,0,0,0,2,0,15,17,29,0,0,0,0,0,0,0,0,1,26,0,0,2,2,8,15,7,0,12,7,0,7,7,0,0,15,1,0,0,2,20,1,0,0,0,3,10,0,5,0,16,24,4,11,8,15,0,42,0,0,0,0,0,0,0,0,3,5,12,1,3,3,22,0,38,0,2,0,35,0,3,1,32,3,2,5,0,1,0,0,3,1,0,0,0,0,3,3,0,3,8,0,18,1,2,12,0,0,1,15,0,0,0,0,3,5,27,0,7,0,6,0,0,0,0,0,0,0,0,0,3,5,0,3,1,40,4,1,4,2,5,4,5,1,0,0,0,2,0,0,9,0,12,11,0,1,0,3,4,3,0,5,0,0,1,0,0,6,0,1,6,0,3,4,8,12,0,0,0,2,0,2,0,0,7,0,0,3,0,10,1,8,0,25,0,30,0,3,22,0,0,5,6,5,1,5,7,14,0,3,0,0,5,0,5,5,6,13,4,0,0,10,5,0,10,0,3,4,0,3,8,5,8,0,2,0,7,8,2,0,2,3,9,12,5,7,8,0,0,10,7,1,2,3,2,4,3,3,0,0,2,3,10,3,0,16,9,0,0,0,2,0,2,4,1,4,14,0,0,4,7,7,1,12,0,2,0,0,4,0,0,0,1,0,0,9,5,2,6,4,5,1,12,0,0,0,2,9,0,0,5,0,0,1,0,1,0,0,0,6,1,2,4,9,0,0,0,0,0,2,0,0,12,8,0,0,2,5,2,0,2,3,0,0,0,0,0,0,1,3,0,0,2,9,0,0,3,0,0,3,16,10,2,3,5,0,2,8,7,3,1,2,13,3,4,0,0,0,9,9,3,3,3,0,2,3,4,0,0,0,3,0,0,0,0,0,0,0,0,6,0,1,0,6,0,6,3,1,1,1,0,3,0,3,1,4,7,0,0,5,6,0,18,2,4,0,2,7,3,1,1,4,5,3,4,3,3,0,0,0,0,1,2,2,3,2,1,0,0,0,4,0,0,9,0,0,2,5,0,0,3,5,7,4,4,0,4,0,4,0,5,15,2,4,0,8,0,0,6,5,0,0,0,7,0,0,4,3,0,1,0,7,0,0,0,0,0,0,0,19,13,9,8,4,0,2,0,0,8,3,9,3,4,0,3,0,5,6,0,11,0,3,5,5,0,0,4,7,3,10,8,0,12,2,2,12,7,2,0,2,2,3,0,0,0,5,4,15,3,4,5,1,0,50,0,4,3,0,6,0,0,0,0,2,0,1,13,0,2,15,0,0,1384,0,1,6,10,0,11,10,0,4,0,1,0,0,0,0,0,0,6,0,0,7,14,10,4,10,3,0,3,3,6,4,0,5,0,1,0,0,0,0,0,3,0,0,0,0,0,4,0,6,3,2,45,7,1,3,0,0,16,0,3,1,0,4,0,0,1,0,9,10,0,0,0,16,5,1,0,5,3,0,0,0,1,0,0,2,1,3,4,0,3,3,12,5,12,8,0,0,4,6,2,0,0,1,1,0,0,0,2,0,0,0,11,3,0,9,4,8,1,2,7,0,8,5,13,0,0,14,1,3,10,4,0,0,10,6,4,0,0,0,0,14,0,14,1,0,0,0,0,4,2,2,9,0,0,0,0,0,12,0,0,4,3,0,0,0,20,0,0,0,0,0,2,1,0,3,6,14,0,7,5,3,7,8,0,0,5,2,0,0,0,0,1,0,0,0,0,1,2,0,1,0,0,8,10,0,3,10,13,8,0,0,0,10,2,0,5,3,0,0,5,0,3,0,5,0,3,5,0,5,0,3,2,0,3,3,0,0,0,0,0,0,0,0,1,0,1,1,0,0,0,0,3,21,0,3,0,0,3,0,0,0,0,7,3,2,0,5,0,6,6,0,0,0,0,0,0,0,0,0,4,0,0,0,2,4,0,0,0,8,0,2,1,0,2,5,5,6,9,12,6,4,0,0,0,13,1,2,0,1,0,0,0,0,1,0,3,5,3,0,1,0,4,0,7,5,0,0,4,0,0,2,0,5,6,0,0,4,7,0,0,6,0,0,7,0,0,0,0,13,0,0,0,15,4,2,0,6,0,0,0,3,0,9,0,0,0,8,16,0,1,0,0,0,0,0,0,0,0,4,0,0,1,1,10,1,3,0,0,0,0,0,0,2,0,0,0,0,0,0,0,4,0,0,0,0,0,2,0,0,0,0,5,6,2,0,9,0,0,10,0,0,7,0,3,0,4,2,0,3,4,15,0,7,4,0,4,2,0,0,0,0,0,1,2,0,11,0,19,11,10,3,0,0,13,3,7,8,3,0,0,0,0,0,0,2,3,2,0,2,2,0,3,0,0,2,7,10,1,0,0,7,0,0,4,3,0,20,0,5,0,0,9,0,0,0,0,3,1,0,0,4,0,0,1,7,6,0,12,3,3,5,0,2,7,9,0,0,2,0,4,18,6,0,5,0,0,1,0,0,0,7,0,1,3,5,10,0,2,6,0,0,2,0,2,0,9,3,0,0,4,0,5,13,8,7,0,0,0,0,0,0,0,0,0,0,0,0,0,0,0,0,0,0,0,0,0,14,2,0,0,3,13,15,3,0,0,9,0,4,0,0,0,1,0,0,0,5,7,0,0,3,3,0,5,7,3,3,9,10,3,6,2,1,2,3,2,7,13,7,0,3,1,1,11,3,0,0,0,4,1,4,6,0,0,1,0,3,30,4,0,0,1,8,15,0,0,0,4,0,25,6,0,1,4,5,5,11,0,19,9,0,0,3,0,0,0,1,0,0,0,10,4,5,0,5,0,11,3,0,9,0,1,4,3,5,0,0,0,0,0,1,2,0,0,0,2,0,0,0,0,7,0,0,2,0,2,0,2,0,0,11,2,11,2,0,0,0,6,0,0,1,0,5,3,0,10,9,19,3,0,5,0,3,2,9,5,7,0,0,5,1,4,0,3,3,0,2,0,6,0,7,12,0,7,5,9,0,0,12,0,0,1,0,4,9,0,6,0,4,12,8,0,11,7,28,4,15,0,16,0,0,2,0,0,0,1,2,3,0,0,0,1,13,0,0,9,2,7,0,0,2,5,1,0,0,4,2,0,0,0,5,0,0,2,8,0,0,0,5,2,1,5,5,3,0,2,0,3,5,0,8,0,0,0,7,3,10,0,0,9,0,0,0,0,0,0,0,0,5,0,1,0,7,3,6,9,0,2,0,0,0,0,5,13,0,0,9,3,4,0,2,0,0,0,0,3,0,5,0,7,0,6,14,8,1,0,0,2,0,0,0,0,1,0,0,1,6,3,6,16,10,0,0,10,0,5,7,3,13,0,3,1,5,1,13,0,0,2,0,6,0,0,1,9,0,0,0,1,0,2,0,3,0,8,14,4,14,0,0,0,0,4,0,0,14,0,0,4,0,0,0,0,0,0,6,1,11,9,0,0,3,7,0,0,0,3,8,9,0,7,0,1,0,0,1,0,11,0,0,0,3,6,10,8,8,0,0,10,0,30,4,9,1,0,0,3,0,1,0,0,0,0,0,1,11,0,0,3,0,0,7,0,9,0,0,12,4,1,2,4,15,5,8,2,0,0,6,8,0,0,0,0,4,7,6,0,0,0,0,5,0,0,0,3,0,0,6,0,0,0,4,0,2,10,4,2,0,1,0,7,2,0,0,2,0,5,2,0,0,0,7,4,0,0,6,2,4,10,0,0,0,14,5,5,3,0,0,0,0,0,0,0,4,1,0,0,0,4,0,3,4,0,10,10,1,2,0,3,0,0,0,0,1,12,0,0,0,0,0,8,7,10,0,2,7,5,0,0,0,2,6,4,4,2,9,3,1,3,0,1,4,2,1,0,0,0,0,5,0,0,1,0,8,0,1,0,4,11,1,4,10,1,0,12,0,4,7,0,1,0,14,4,9,21,0,1,4,1,0,0,1,1,1,5,0,0,0,9,5,0,0,0,10,3,3,6,5,4,9,0,0,0,0,2,0,0,0,0,3,0,7,0,0,0,0,0,4,0,0,0,0,0,0,9,1,0,0,0,0,6,0,2,0,0,0,9,3,5,0,0,0,0,16,0,0,0,0,0,0,1,0,0,0,0,0,0,0,0,0,9,3,1,0,15,5,0,0,0,0,0,0,0,10,0,3,2,0,0,1,0,0,0,0,0,8,0,0,0,3,10,0,1,0,1,30,0,4,0,0,0,0,0,11,0,4,8,5,8,4,4,12,1,9,0,4,7,0,0,0,0,6,11,17,2,0,11,5,2,0,0,0,0,2,0,10,3,5,4,4,0,4,11,11,9,0,1,4,0,4,0,0,1,0,7,0,0,0,0,0,7,0,0,0,0,0,5,0,0,2,0,5,0,0,40,0,5,2,0,3,1,19,0,0,0,3,2,0,0,1,5,2,1,13,6,5,10,6,0,0,9,0,0,1,4,6,4,0,0,0,4,5,2,6,2,0,10,5,13,8,0,0,6,3,0,0,0,3,3,2,0,14,15,6,6,0,25,0,7,0,1,0,2,0,0,2,0,6,0,10,0,0,5,3,0,0,8,12,5,0,5,8,0,0,4,0,3,0,0,4,2,0,5,0,0,20,0,2,3,0,0,1,2,0,5,0,6,3,0,0,0,2,4,9,1,2,1,0,0,0,0,0,0,0,8,14,0,0,0,0,0,13,8,1,0,1,3,0,11,1,0,3,4,0,0,1,0,0,1,5,6,0,2,3,6,0,2,1,3,4,0,0,0,7,2,0,0,4,0,0,3,0,0,0,2,2,0,3,0,5,0,0,15,8,0,0,0,1,1,0,5,3,3,0,13,10,1,0,0,2,2,4,6,4,0,5,50,6,1,7,0,0,4,0,0,0,9,0,1,12,7,0,4,11,5,0,0,6,5,0,0,4,13,16,0,0,280,35,0,0,1,0,0,0,0,0,0,0,0,6,2,0,0,0,0,4,0,13,0,1,16,4,12,5,0,3,0,1,8,4,1,0,0,0,3,0,9,2,5,2,1,6,0,3,2,9,4,4,0,4,0,0,0,0,0,3,12,0,4,0,0,0,0,0,1,7,0,0,5,15,0,1,0,3,1,6,0,3,1,0,1,7,3,4,0,0,0,2,0,0,5,50,0,25,0,0,11,0,0,0,0,1,0,1,0,0,7,0,5,1,3,8,0,3,12,0,3,2,1,5,2,11,6,8,1,0,0,0,0,0,0,0,4,0,5,0,5,2,40,40,6,1,0,0,0,0,0,0,11,0,0,0,4,4,0,0,0,1,6,0,2,8,9,4,1,0,0,0,2,9,0,6,7,4,0,3,5,0,17,2,0,0,5,6,0,0,0,0,7,1,0,2,9,11,0,0,5,2,0,0,5,3,0,0,2,1,5,0,0,14,3,0,0,15,0,0,6,0,0,0,10,4,8,0,0,4,1,5,1,0,0,8,0,2,0,0,3,1,0,1,8,7,0,4,8,6,0,30,0,3,1,0,1,0,3,0,0,1,0,0,0,0,30,0,0,1,0,5,2,0,0,0,0,0,0,0,16,1,1,11,0,1,3,7,0,5,0,5,9,10,2,3,0,0,0,0,4,4,0,1,11,1,0,0,0,2,3,0,0,0,0,6,0,0,0,0,1,0,8,6,1,0,0,1,9,0,0,0,13,0,1,0,0,0,0,0,4,1,1,3,0,5,0,1,1,0,10,5,8,5,10,0,0,2,5,5,1,0,1,0,0,0,2,0,8,0,0,1,1,0,0,7,0,9,1,0,19,1,6,1,0,0,0,0,0,8,5,0,2,2,0,13,1,2,6,1,0,0,5,0,3,2,0,2,1,6,3,9,0,0,0,0,0,0,4,1,4,0,0,0,6,0,3,3,0,3,0,3,0,1,0,0,0,1,3,0,8,0,0,0,0,10,40,0,3,42,7,6,0,1,3,0,0,0,2,0,2,0,0,0,0,0,0,2,1,8,10,0,1,0,0,0,0,0,8,0,0,0,5,0,0,15,5,13,1,3,7,8,8,0,0,0,0,0,0,0,0,6,0,0,0,1,1,4,0,3,1,12,10,6,0,16,15,2,0,0,0,0,0,6,2,0,1,0,0,5,0,6,6,0,0,0,0,0,0,5,3,0,0,0,8,5,0,3,0,0,0,1,0,4,17,4,2,2,3,6,7,6,12,0,0,2,6,1,6,0,0,2,1,2,0,7,0,0,1,6,1,0,0,0,2,0,0,7,40,0,3,0,0,0,0,10,0,0,0,0,3,5,0,1,0,0,0,2,0,1,2,5,0,0,0,0,0,4,4,0,0,0,0,0,0,0,0,3,23,10,0,0,7,0,0,5,5,3,2,6,3,3,4,3,5,0,3,11,1,0,0,15,0,0,12,1,11,1,4,0,0,0,0,0,0,0,0,2,2,0,0,0,3,2,0,2,0,5,0,0,4,0,5,15,0,4,0,1,5,9,0,0,0,6,18,1,5,0,0,0,9,0,11,7,0,0,0,0,0,10,9,3,5,0,0,0,0,1,4,2,0,1,0,1,11,5,0,0,2,4,2,2,1,1,5,13,0,0,0,4,9,10,0,0,10,12,0,0,1,4,5,0,0,7,0,6,4,44,0,7,0,0,6,4,0,0,1,8,0,0,2,0,3,0,5,4,0,0,3,0,0,5,7,0,0,9,5,2,0,0,0,0,0,0,0,0,7,6,3,0,1,8,5,0,0,0,0,0,4,0,0,3,9,0,0,0,11,0,0,8,1,0,0,7,7,0,0,11,3,5,0,0,5,0,0,16,2,4,0,7,9,13,0,1,11,0,0,3,0,1,0,4,3,10,0,0,4,14,4,0,0,0,0,4,0,0,2,0,0,0,4,0,0,3,0,0,5,6,2,0,3,4,3,2,0,0,0,1,1,0,2,2,6,6,3,2,2,0,0,0,10,0,0,0,2,0,0,6,2,0,0,0,12,4,1,0,4,0,0,13,5,0,0,0,0,0,4,0,0,3,0,3,4,0,0,0,0,0,0,0,0,0,0,0,0,0,4,11,3,0,0,0,5,15,0,9,3,0,0,0,0,0,0,2,0,1,0,0,0,0,0,0,4,3,6,2,0,0,0,5,9,11,3,0,3,2,4,0,0,0,0,6,0,3,0,0,7,0,2,0,4,3,0,0,4,1,6,6,3,10,3,0,0,0,4,0,4,2,3,0,1,8,11,0,0,0,0,0,0,0,0,0,0,0,0,8,0,16,9,1,0,0,0,0,0,0,0,7,2,12,0,2,0,0,1,0,1,0,0,0,0,0,0,2,0,9,0,0,3,5,0,0,0,4,0,0,0,9,0,19,10,0,0,0,0,0,0,4,6,0,0,0,0,11,0,7,3,5,2,9,0,1,1,0,6,4,0,0,0,3,6,9,3,6,4,0,4,0,2,8,1,5,0,0,3,0,0,0,0,0,0,12,0,6,4,0,0,6,8,2,10,2,8,6,8,14,0,2,0,0,0,0,6,5,0,0,1,4,8,11,10,1,5,4,12,5,10,0,0,0,0,0,6,2,1,0,0,0,0,0,0,3,6,0,15,3,0,0,2,0,1,9,0,10,0,0,0,14,4,12,0,6,6,10,0,6,6,9,0,0,0,4,0,0,9,0,0,0,3,3,0,0,0,0,0,0,0,10,0,0,29,1,5,0,6,5,1,0,11,3,7,2,0,0,6,0,5,10,10,0,0,0,0,4,0,0,2,0,7,0,0,0,11,0,6,0,7,1,14,0,0,0,1,15,9,6,12,5,7,3,9,0,0,0,0,9,1,0,6,7,7,5,0,2,2,5,5,3,3,0,0,0,0,0,0,6,1,0,7,10,0,7,4,9,0,8,10,0,0,0,7,5,5,0,0,0,10,0,0,3,0,0,6,16,0,8,0,0,4,7,0,0,0,4,0,0,1,2,0,0,1,0,7,3,2,13,1,3,0,3,0,12,0,3,5,0,0,0,0,2,0,0,0,0,2,0,0,0,0,15,0,0,0,8,0,0,2,6,0,0,1,0,0,1,8,3,4,6,5,0,0,12,0,1,7,6,0,11,0,5,11,0,8,0,4,5,4,0,0,6,26,2,0,2,0,0,5,2,7,1,0,5,2,10,11,0,0,0,0,2,0,0,0,8,1,0,10,12,2,0,30,3,5,0,6,0,0,5,6,0,0,8,7,7,0,0,0,3,0,0,0,0,4,2,0,0,3,1,0,5,5,3,6,0,9,8,5,8,5,7,5,8,0,0,0,0,0,0,8,13,6,6,2,0,2,3,3,4,0,4,0,0,0,6,0,0,0,2,0,0,4,0,5,1,5,0,0,0,0,2,4,4,4,0,0,0,0,1,7,0,2,0,0,0,2,9,0,1,11,2,0,5,8,0,4,3,3,0,6,7,0,5,2,13,0,0,6,4,0,5,0,50,0,4,0,0,8,0,40,0,0,0,0,6,0,7,4,0,2,8,45,0,6,4,12,0,2,7,2,9,0,0,1,0,0,4,4,0,4,0,0,0,0,0,0,0,0,1,1,0,3,0,5,0,0,13,5,10,0,0,6,4,3,16,3,0,50,0,0,0,0,8,3,8,0,6,5,3,0,6,0,6,3,8,4,2,0,0,0,4,0,0,0,0,10,0,0,1,2,4,3,0,4,0,8,5,6,0,4,0,0,2,3,0,2,0,1,1,0,0,7,0,0,0,2,0,0,3,3,8,5,0,5,7,2,0,2,5,16,0,1,10,3,0,4,0,0,0,0,0,0,0,0,0,0,5,0,8,10,6,7,1,0,0,0,0,0,0,1,4,0,0,0,0,0,0,0,7,0,8,10,0,0,25,2,0,6,0,7,0,0,10,0,0,0,2,0,2,0,0,0,0,11,4,14,4,0,7,5,5,0,0,0,0,0,6,0,5,4,10,3,4,0,13,0,2,7,0,0,1,7,11,0,0,11,0,3,11,2,8,0,0,0,10,0,12,0,0,0,0,7,2,3,6,0,19,0,0,0,0,0,0,2,0,12,6,0,1,0,0,7,2,1,4,0,2,8,0,0,0,0,4,2,0,0,15,0,0,0,5,0,8,0,0,5,1,0,0,0,3,0,1,0,0,3,0,0,4,9,0,0,0,0,8,0,1,0,0,0,3,0,5,2,7,2,4,0,7,4,3,5,1,0,8,0,2,1,2,0,10,5,5,0,9,2,2,8,0,0,0,7,0,0,0,0,0,0,0,0,0,0,5,0,0,2,0,4,0,20,1,0,0,0,4,2,2,0,14,6,0,0,0,4,0,4,0,0,0,10,0,2,0,3,6,0,5,5,10,4,6,0,4,0,0,0,0,1,0,9,0,4,4,0,0,0,12,0,0,0,4,0,2,0,2,24,12,0,3,1,0,0,0,6,0,2,16,0,0,0,1,8,0,0,0,0,0,4,0,0,0,0,0,0,11,10,6,11,0,0,0,0,0,0,0,7,12,3,2,1,0,0,8,3,0,0,6,8,4,0,0,11,25,0,0,0,0,3,0,0,5,2,5,2,5,3,0,2,0,0,0,0,0,0,12,13,0,6,10,0,8,0,3,14,4,0,0,0,0,0,0,0,0,0,1,7,2,0,7,1,8,5,7,0,0,0,0,5,0,0,0,22,2,0,2,3,3,3,2,4,0,6,5,0,0,0,2,0,0,4,0,7,0,0,2,0,0,0,0,0,0,2,0,4,1,0,0,0,0,0,0,3,0,0,0,0,3,6,4,7,0,0,5,10,8,0,0,0,0,4,1,9,13,0,0,1,8,0,0,0,0,10,8,4,4,0,0,2,0,4,11,0,5,11,2,0,1,6,3,0,0,4,6,0,0,3,0,0,0,0,0,0,1,1,3,7,2,9,0,4,2,1,4,0,11,0,8,6,8,0,0,0,0,0,0,4,1,0,1,0,0,5,3,2,5,0,0,11,4,0,4,13,0,3,1,5,0,2,0,1,4,8,0,5,0,4,0,0,1,0,2,14,3,0,0,4,0,0,0,2,3,3,0,0,0,0,0,0,0,0,4,0,0,5,3,4,1,0,0,2,0,0,0,4,0,2,0,0,8,0,0,0,0,0,0,0,5,5,5,7,2,0,6,2,0,6,11,0,5,0,4,5,3,0,0,0,11,0,0,0,1,2,0,2,0,2,0,1,10,0,1,5,7,6,0,0,0,0,0,0,0,0,0,5,1,0,3,8,0,9,1,0,0,5,5,0,5,0,0,6,4,1,0,3,2,1,0,5,19,5,0,17,4,10,0,0,0,0,2,0,0,5,3,0,2,0,0,0,11,10,7,2,2,0,0,0,0,0,5,0,0,10,10,4,6,0,0,0,0,1,14,0,0,0,0,3,0,7,4,0,0,1,2,0,0,0,3,0,2,10,0,0,2,0,0,4,4,2,8,0,0,0,20,2,0,0,0,1,0,23,1,0,2,0,0,0,0,0,0,7,12,7,1,4,0,0,5,9,15,7,0,0,2,5,0,5,0,4,0,0,0,0,0,0,0,0,0,0,0,4,5,0,3,7,0,0,1,0,0,4,5,0,1,13,0,0,5,4,0,0,8,11,3,16,3,2,18,0,0,18,0,0,2,0,0,0,0,3,0,0,4,6,0,1,8,3,3,3,4,0,0,0,0,5,0,0,14,0,0,1,0,2,3,0,6,40,3,0,7,9,7,5,5,0,5,4,6,4,3,0,0,0,0,1,0,7,0,7,3,1,3,4,7,0,3,14,0,0,0,3,1,2,0,0,4,0,3,0,1,0,0,0,0,2,8,5,0,5,8,0,6,0,0,9,0,8,0,2,0,0,0,0,1,11,5,11,9,10,3,4,7,0,0,6,8,0,1,0,0,10,0,0,2,1,0,2,0,0,0,3,3,5,0,1,3,12,18,8,0,0,0,0,0,0,1,0,0,4,7,3,8,0,6,0,0,0,7,0,0,0,9,0,1,0,0,0,4,2,0,4,7,0,0,4,0,0,1,2,0,0,0,0,0,0,0,2,5,5,1,7,0,9,0,0,0,10,5,0,0,5,19,2,0,5,3,10,0,12,0,12,1,6,0,0,0,0,18,0,3,0,0,0,0,0,0,0,0,0,0,0,0,0,0,0,3,3,5,1,1,0,7,4,7,0,2,4,4,5,2,0,10,5,1,2,3,0,0,0,8,0,0,0,12,6,0,0,0,0,0,2,2,4,0,6,2,7,9,11,4,1,5,3,0,0,0,6,3,0,8,12,0,0,0,4,2,0,2,11,0,0,5,1,3,5,4,0,2,18,14,0,0,0,1,0,3,2,0,0,7,0,0,4,0,0,0,0,3,5,0,35,0,6,0,0,11,0,4,0,4,4,11,0,5,0,0,0,2,0,0,0,6,1,5,5,0,0,0,11,0,0,0,0,0,0,5,0,3,0,0,0,0,11,0,13,3,0,12,0,0,4,0,0,0,0,2,6,2,1,1,0,0,1,10,1,3,0,0,3,0,4,2,0,0,8,9,0,0,0,1,2,0,0,0,0,5,5,12,9,9,2,0,0,0,3,0,1,0,9,0,0,8,0,0,0,6,6,10,2,4,5,16,0,0,0,0,3,0,0,0,16,6,2,9,0,0,5,5,0,0,3,0,0,0,7,0,0,0,1,1,2,0,0,4,5,0,0,11,0,0,0,29,0,1,2,0,2,11,0,6,0,0,6,1,0,1,3,0,0,0,0,0,4,0,0,0,8,0,0,12,0,6,2,0,0,0,1,0,25,0,5,0,0,0,6,0,0,6,6,15,4,0,8,0,4,0,0,0,0,3,1,3,23,0,1,9,0,0,0,5,0,0,2,0,0,2,0,0,4,0,0,0,0,2,3,4,3,10,2,4,0,5,6,0,0,0,0,0,0,0,0,0,0,6,1,0,0,0,0,0,11,5,12,10,6,0,12,5,0,0,0,0,0,0,0,4,0,0,5,1,0,5,3,1,0,0,0,0,0,0,0,1,0,1,2,1,5,3,4,0,1,3,7,0,10,3,0,0,1,0,0,0,0,0,0,0,0,0,0,0,0,0,0,0,0,0,0,1,0,2,0,1,0,2,0,6,17,0,0,3,5,0,3,0,3,7,0,0,0,2,0,0,2,5,0,3,5,0,3,1,9,0,5,18,0,9,0,0,5,0,0,0,0,10,7,1,6,0,0,0,0,0,2,0,0,0,15,4,0,0,0,0,12,0,4,4,10,25,0,0,0,0,3,22,0,0,0,0,0,0,0,0,0,0,0,0,4,0,0,0,0,0,0,0,0,0,0,0,0,0,0,0,0,0,0,3,6,0,0,0,0,0,0,0,0,0,0,5,3,1,3,10,5,5,0,6,6,12,10,3,19,9,0,12,5,0,3,0,0,25,0,0,14,0,0,0,6,0,8,12,0,0,0,3,0,0,0,0,0,0,0,1,0,0,0,0,0,0,0,5,0,5,5,5,0,0,0,0,0,2,6,5,2,5,0,0,0,0,0,0,0,0,0,0,0,0,0,0,9,0,1,5,0,5,0,0,14,5,2,0,0,0,0,0,0,0,0,9,2,0,0,0,5,8,4,8,11,21,0,2,0,2,3,0,0,16,4,3,0,2,0,8,5,4,3,1,9,0,0,26,7,0,0,30,8,4,2,0,0,0,0,0,0,0,0,0,1,0,0,0,4,0,0,2,0,0,0,0,0,0,0,0,0,0,4,11,0,0,0,0,4,0,3,1,0,0,0,0,0,0,0,2,0,0,0,2,2,7,2,0,0,0,3,5,0,2,0,0,0,0,1,0,0,0,0,0,2,7,0,0,0,0,0,1,0,7,3,4,0,0,0,0,3,6,0,0,0,0,0,0,0,0,0,11,12,0,0,6,8,11,5,0,0,0,0,3,2,0,0,0,9,0,0,2,5,1,4,0,4,0,0,0,1,0,0,0,9,0,4,4,0,0,0,0,0,1,0,5,0,0,0,0,5,0,4,6,0,2,0,0,0,5,15,0,0,13,0,6,0,0,12,13,1,0,0,0,0,0,0,3,0,0,0,0,0,0,0,0,0,0,0,0,0,0,0,0,0,0,0,0,0,0,0,0,0,0,1,0,1,2,0,0,1,0,0,5,4,0,0,5,0,0,0,4,12,9,0,0,0,0,0,0,0,0,3,0,0,11,0,0,4,0,12,0,0,1,0,0,0,0,0,0,0,0,0,0,0,6,1,0,5,0,0,0,0,0,0,10,1,7,0,0,0,0,0,0,0,8,1,0,3,5,0,0,12,0,5,0,19,0,2,0,0,0,0,0,3,1,0,0,0,0,0,4,1,0,3,0,2,11,0,0,12,0,0,0,0,0,0,0,0,0,0,11,0,0,0,0,0,0,0,0,0,4,3,4,2,5,3,0,0,0,0,0,11,0,0,0,0,5,0,0,4,5,0,2,0,0,0,0,5,7,8,2,0,3,9,0,0,2,0,0,3,9,5,4,0,0,0,0,0,0,0,0,0,5,6,10,0,0,0,4,1,0,9,0,0,9,8,3,2,0,0,0,0,0,0,0,0,0,5,0,15,0,0,0,0,0,0,0,0,8,0,0,1,0,0,0,0,0,0,8,5,4,5,3,0,0,0,0,0,0,0,0,6,6,8,6,6,0,3,0,0,0,0,0,0,16,0,1,0,0,0,0,0,0,0,2,0,0,5,5,0,0,0,0,0,6,7,12,0,0,9,0,0,0,7,0,0,3,0,0,0,0,0,0,4,0,0,2,0,0,1,0,7,1,2,0,0,0,0,0,0,0,0,7,5,0,0,0,0,8,3,0,0,0,0,1,6,7,0,7,0,0,0,3,0,11,5,3,5,6,16,3,0,0,8,0,0,10,0,0,0,7,0,0,4,0,0,0,0,0,0,0,0,5,0,23,0,6,0,21,2,2,9,0,0,0,0,3,3,2,0,0,0,17,0,4,0,15,0,0,0,0,0,0,0,1,0,2,7,0,22,0,0,0,5,0,0,0,19,0,0,3,1,7,0,0,0,5,10,9,1,0,17,6,2,0,0,0,0,19,0,13,0,0,5,0,3,0,0,21,1,0,0,0,2,2,6,0,0,0,0,0,0,0,0,0,15,12,1,19,4,4,0,2,7,0,0,0,0,0,7,4,0,20,2,1,0,1,7,0,0,5,9,4,4,0,8,12,4,7,10,2,7,2,10,3,15,2,18,16,6,6,17,0,5,1,0,0,3,0,0,14,4,1,0,9,1,5,2,16,3,7,12,8,11,4,0,5,17,5,3,7,3,0,2,1,18,4,0,0,5,2,14,0,14,12,0,2,21,0,1,1,5,9,3,12,10,0,3,2,1,9,0,0,2,0,0,4,8,1,0,2,5,0,1,4,16,1,10,18,5,0,4,0,2,0,16,18,2,12,5,12,3,11,1,8,0,10,3,1,3,16,12,20,0,0,3,0,9,0,0,0,4,0,4,0,2,0,4,0,8,11,8,0,13,2,4,15,2,2,4,11,8,0,2,3,9,0,4,8,0,5,2,4,0,8,0,8,10,0,2,5,0,0,0,8,0,4,0,0,17,13,10,1,0,7,0,2,0,0,0,13,0,4,16,1,0,8,0,0,0,5,0,0,0,1,4,0,4,14,0,8,0,0,6,11,6,3,2,0,3,7,3,3,23,23,0,0,1,0,0,0,8,15,1,9,11,0,10,9,10,0,2,0,0,8,9,8,2,8,8,0,4,9,0,1,2,3,0,3,0,0,7,5,4,3,0,1,9,12,3,15,17,5,0,10,1,0,0,5,0,5,2,0,6,0,0,5,6,2,3,1,5,1,0,0,1,0,0,0,4,5,0,1,0,3,0,0,5,1,9,9,15,3,6,0,0,0,4,8,10,12,0,0,6,4,5,2,0,4,0,15,0,13,4,5,7,6,0,0,4,2,6,4,5,0,0,6,9,2,2855,0,3,8,0,8,0,0,13,7,8,10,0,0,14,5,7,7,7,2,2,1,0,1,0,5,4,9,0,3,7,0,10,0,2,0,11,7,6,14,1,1,17,6,2,4,10,4,0,16,0,0,3,6,0,1,5,0,4,0,6,0,0,13,7,0,6,13,0,2,3,15,7,0,4,0,12,2,6,4,6,14,0,6,12,0,10,5,1,14,2,3,5,2,0,9,0,0,0,8,6,0,0,0,0,0,10,0,16,0,0,0,0,6,0,0,2,10,0,5,11,0,9,8,11,0,0,0,18,1,2,8,7,0,0,16,0,9,0,0,8,21,0,6,0,0,10,9,0,2,0,2,1,5,2,5,2,1,8,6,1,1,2,4,0,0,0,0,12,9,0,12,3,1,12,2,0,0,1,22,4,0,0,0,4,10,0,1,0,0,3,0,3,1,12,3,10,1,0,0,5,10,3,10,0,5,0,0,11,0,13,1,17,0,2,9,2,7,12,0,0,0,2,17,4,0,0,5,10,0,0,8,7,0,0,0,7],\"x0\":\" \",\"xaxis\":\"x\",\"y0\":\" \",\"yaxis\":\"y\",\"type\":\"box\"}],                        {\"template\":{\"data\":{\"histogram2dcontour\":[{\"type\":\"histogram2dcontour\",\"colorbar\":{\"outlinewidth\":0,\"ticks\":\"\"},\"colorscale\":[[0.0,\"#0d0887\"],[0.1111111111111111,\"#46039f\"],[0.2222222222222222,\"#7201a8\"],[0.3333333333333333,\"#9c179e\"],[0.4444444444444444,\"#bd3786\"],[0.5555555555555556,\"#d8576b\"],[0.6666666666666666,\"#ed7953\"],[0.7777777777777778,\"#fb9f3a\"],[0.8888888888888888,\"#fdca26\"],[1.0,\"#f0f921\"]]}],\"choropleth\":[{\"type\":\"choropleth\",\"colorbar\":{\"outlinewidth\":0,\"ticks\":\"\"}}],\"histogram2d\":[{\"type\":\"histogram2d\",\"colorbar\":{\"outlinewidth\":0,\"ticks\":\"\"},\"colorscale\":[[0.0,\"#0d0887\"],[0.1111111111111111,\"#46039f\"],[0.2222222222222222,\"#7201a8\"],[0.3333333333333333,\"#9c179e\"],[0.4444444444444444,\"#bd3786\"],[0.5555555555555556,\"#d8576b\"],[0.6666666666666666,\"#ed7953\"],[0.7777777777777778,\"#fb9f3a\"],[0.8888888888888888,\"#fdca26\"],[1.0,\"#f0f921\"]]}],\"heatmap\":[{\"type\":\"heatmap\",\"colorbar\":{\"outlinewidth\":0,\"ticks\":\"\"},\"colorscale\":[[0.0,\"#0d0887\"],[0.1111111111111111,\"#46039f\"],[0.2222222222222222,\"#7201a8\"],[0.3333333333333333,\"#9c179e\"],[0.4444444444444444,\"#bd3786\"],[0.5555555555555556,\"#d8576b\"],[0.6666666666666666,\"#ed7953\"],[0.7777777777777778,\"#fb9f3a\"],[0.8888888888888888,\"#fdca26\"],[1.0,\"#f0f921\"]]}],\"heatmapgl\":[{\"type\":\"heatmapgl\",\"colorbar\":{\"outlinewidth\":0,\"ticks\":\"\"},\"colorscale\":[[0.0,\"#0d0887\"],[0.1111111111111111,\"#46039f\"],[0.2222222222222222,\"#7201a8\"],[0.3333333333333333,\"#9c179e\"],[0.4444444444444444,\"#bd3786\"],[0.5555555555555556,\"#d8576b\"],[0.6666666666666666,\"#ed7953\"],[0.7777777777777778,\"#fb9f3a\"],[0.8888888888888888,\"#fdca26\"],[1.0,\"#f0f921\"]]}],\"contourcarpet\":[{\"type\":\"contourcarpet\",\"colorbar\":{\"outlinewidth\":0,\"ticks\":\"\"}}],\"contour\":[{\"type\":\"contour\",\"colorbar\":{\"outlinewidth\":0,\"ticks\":\"\"},\"colorscale\":[[0.0,\"#0d0887\"],[0.1111111111111111,\"#46039f\"],[0.2222222222222222,\"#7201a8\"],[0.3333333333333333,\"#9c179e\"],[0.4444444444444444,\"#bd3786\"],[0.5555555555555556,\"#d8576b\"],[0.6666666666666666,\"#ed7953\"],[0.7777777777777778,\"#fb9f3a\"],[0.8888888888888888,\"#fdca26\"],[1.0,\"#f0f921\"]]}],\"surface\":[{\"type\":\"surface\",\"colorbar\":{\"outlinewidth\":0,\"ticks\":\"\"},\"colorscale\":[[0.0,\"#0d0887\"],[0.1111111111111111,\"#46039f\"],[0.2222222222222222,\"#7201a8\"],[0.3333333333333333,\"#9c179e\"],[0.4444444444444444,\"#bd3786\"],[0.5555555555555556,\"#d8576b\"],[0.6666666666666666,\"#ed7953\"],[0.7777777777777778,\"#fb9f3a\"],[0.8888888888888888,\"#fdca26\"],[1.0,\"#f0f921\"]]}],\"mesh3d\":[{\"type\":\"mesh3d\",\"colorbar\":{\"outlinewidth\":0,\"ticks\":\"\"}}],\"scatter\":[{\"fillpattern\":{\"fillmode\":\"overlay\",\"size\":10,\"solidity\":0.2},\"type\":\"scatter\"}],\"parcoords\":[{\"type\":\"parcoords\",\"line\":{\"colorbar\":{\"outlinewidth\":0,\"ticks\":\"\"}}}],\"scatterpolargl\":[{\"type\":\"scatterpolargl\",\"marker\":{\"colorbar\":{\"outlinewidth\":0,\"ticks\":\"\"}}}],\"bar\":[{\"error_x\":{\"color\":\"#2a3f5f\"},\"error_y\":{\"color\":\"#2a3f5f\"},\"marker\":{\"line\":{\"color\":\"#E5ECF6\",\"width\":0.5},\"pattern\":{\"fillmode\":\"overlay\",\"size\":10,\"solidity\":0.2}},\"type\":\"bar\"}],\"scattergeo\":[{\"type\":\"scattergeo\",\"marker\":{\"colorbar\":{\"outlinewidth\":0,\"ticks\":\"\"}}}],\"scatterpolar\":[{\"type\":\"scatterpolar\",\"marker\":{\"colorbar\":{\"outlinewidth\":0,\"ticks\":\"\"}}}],\"histogram\":[{\"marker\":{\"pattern\":{\"fillmode\":\"overlay\",\"size\":10,\"solidity\":0.2}},\"type\":\"histogram\"}],\"scattergl\":[{\"type\":\"scattergl\",\"marker\":{\"colorbar\":{\"outlinewidth\":0,\"ticks\":\"\"}}}],\"scatter3d\":[{\"type\":\"scatter3d\",\"line\":{\"colorbar\":{\"outlinewidth\":0,\"ticks\":\"\"}},\"marker\":{\"colorbar\":{\"outlinewidth\":0,\"ticks\":\"\"}}}],\"scattermapbox\":[{\"type\":\"scattermapbox\",\"marker\":{\"colorbar\":{\"outlinewidth\":0,\"ticks\":\"\"}}}],\"scatterternary\":[{\"type\":\"scatterternary\",\"marker\":{\"colorbar\":{\"outlinewidth\":0,\"ticks\":\"\"}}}],\"scattercarpet\":[{\"type\":\"scattercarpet\",\"marker\":{\"colorbar\":{\"outlinewidth\":0,\"ticks\":\"\"}}}],\"carpet\":[{\"aaxis\":{\"endlinecolor\":\"#2a3f5f\",\"gridcolor\":\"white\",\"linecolor\":\"white\",\"minorgridcolor\":\"white\",\"startlinecolor\":\"#2a3f5f\"},\"baxis\":{\"endlinecolor\":\"#2a3f5f\",\"gridcolor\":\"white\",\"linecolor\":\"white\",\"minorgridcolor\":\"white\",\"startlinecolor\":\"#2a3f5f\"},\"type\":\"carpet\"}],\"table\":[{\"cells\":{\"fill\":{\"color\":\"#EBF0F8\"},\"line\":{\"color\":\"white\"}},\"header\":{\"fill\":{\"color\":\"#C8D4E3\"},\"line\":{\"color\":\"white\"}},\"type\":\"table\"}],\"barpolar\":[{\"marker\":{\"line\":{\"color\":\"#E5ECF6\",\"width\":0.5},\"pattern\":{\"fillmode\":\"overlay\",\"size\":10,\"solidity\":0.2}},\"type\":\"barpolar\"}],\"pie\":[{\"automargin\":true,\"type\":\"pie\"}]},\"layout\":{\"autotypenumbers\":\"strict\",\"colorway\":[\"#636efa\",\"#EF553B\",\"#00cc96\",\"#ab63fa\",\"#FFA15A\",\"#19d3f3\",\"#FF6692\",\"#B6E880\",\"#FF97FF\",\"#FECB52\"],\"font\":{\"color\":\"#2a3f5f\"},\"hovermode\":\"closest\",\"hoverlabel\":{\"align\":\"left\"},\"paper_bgcolor\":\"white\",\"plot_bgcolor\":\"#E5ECF6\",\"polar\":{\"bgcolor\":\"#E5ECF6\",\"angularaxis\":{\"gridcolor\":\"white\",\"linecolor\":\"white\",\"ticks\":\"\"},\"radialaxis\":{\"gridcolor\":\"white\",\"linecolor\":\"white\",\"ticks\":\"\"}},\"ternary\":{\"bgcolor\":\"#E5ECF6\",\"aaxis\":{\"gridcolor\":\"white\",\"linecolor\":\"white\",\"ticks\":\"\"},\"baxis\":{\"gridcolor\":\"white\",\"linecolor\":\"white\",\"ticks\":\"\"},\"caxis\":{\"gridcolor\":\"white\",\"linecolor\":\"white\",\"ticks\":\"\"}},\"coloraxis\":{\"colorbar\":{\"outlinewidth\":0,\"ticks\":\"\"}},\"colorscale\":{\"sequential\":[[0.0,\"#0d0887\"],[0.1111111111111111,\"#46039f\"],[0.2222222222222222,\"#7201a8\"],[0.3333333333333333,\"#9c179e\"],[0.4444444444444444,\"#bd3786\"],[0.5555555555555556,\"#d8576b\"],[0.6666666666666666,\"#ed7953\"],[0.7777777777777778,\"#fb9f3a\"],[0.8888888888888888,\"#fdca26\"],[1.0,\"#f0f921\"]],\"sequentialminus\":[[0.0,\"#0d0887\"],[0.1111111111111111,\"#46039f\"],[0.2222222222222222,\"#7201a8\"],[0.3333333333333333,\"#9c179e\"],[0.4444444444444444,\"#bd3786\"],[0.5555555555555556,\"#d8576b\"],[0.6666666666666666,\"#ed7953\"],[0.7777777777777778,\"#fb9f3a\"],[0.8888888888888888,\"#fdca26\"],[1.0,\"#f0f921\"]],\"diverging\":[[0,\"#8e0152\"],[0.1,\"#c51b7d\"],[0.2,\"#de77ae\"],[0.3,\"#f1b6da\"],[0.4,\"#fde0ef\"],[0.5,\"#f7f7f7\"],[0.6,\"#e6f5d0\"],[0.7,\"#b8e186\"],[0.8,\"#7fbc41\"],[0.9,\"#4d9221\"],[1,\"#276419\"]]},\"xaxis\":{\"gridcolor\":\"white\",\"linecolor\":\"white\",\"ticks\":\"\",\"title\":{\"standoff\":15},\"zerolinecolor\":\"white\",\"automargin\":true,\"zerolinewidth\":2},\"yaxis\":{\"gridcolor\":\"white\",\"linecolor\":\"white\",\"ticks\":\"\",\"title\":{\"standoff\":15},\"zerolinecolor\":\"white\",\"automargin\":true,\"zerolinewidth\":2},\"scene\":{\"xaxis\":{\"backgroundcolor\":\"#E5ECF6\",\"gridcolor\":\"white\",\"linecolor\":\"white\",\"showbackground\":true,\"ticks\":\"\",\"zerolinecolor\":\"white\",\"gridwidth\":2},\"yaxis\":{\"backgroundcolor\":\"#E5ECF6\",\"gridcolor\":\"white\",\"linecolor\":\"white\",\"showbackground\":true,\"ticks\":\"\",\"zerolinecolor\":\"white\",\"gridwidth\":2},\"zaxis\":{\"backgroundcolor\":\"#E5ECF6\",\"gridcolor\":\"white\",\"linecolor\":\"white\",\"showbackground\":true,\"ticks\":\"\",\"zerolinecolor\":\"white\",\"gridwidth\":2}},\"shapedefaults\":{\"line\":{\"color\":\"#2a3f5f\"}},\"annotationdefaults\":{\"arrowcolor\":\"#2a3f5f\",\"arrowhead\":0,\"arrowwidth\":1},\"geo\":{\"bgcolor\":\"white\",\"landcolor\":\"#E5ECF6\",\"subunitcolor\":\"white\",\"showland\":true,\"showlakes\":true,\"lakecolor\":\"white\"},\"title\":{\"x\":0.05},\"mapbox\":{\"style\":\"light\"}}},\"xaxis\":{\"anchor\":\"y\",\"domain\":[0.0,1.0],\"title\":{\"text\":\"Number_Of_Students_On_The_Bus\"}},\"yaxis\":{\"anchor\":\"x\",\"domain\":[0.0,1.0]},\"legend\":{\"tracegroupgap\":0},\"margin\":{\"t\":60},\"boxmode\":\"group\"},                        {\"responsive\": true}                    ).then(function(){\n",
              "                            \n",
              "var gd = document.getElementById('ccdb81d8-9a01-4dba-b16c-a6ad821b445f');\n",
              "var x = new MutationObserver(function (mutations, observer) {{\n",
              "        var display = window.getComputedStyle(gd).display;\n",
              "        if (!display || display === 'none') {{\n",
              "            console.log([gd, 'removed!']);\n",
              "            Plotly.purge(gd);\n",
              "            observer.disconnect();\n",
              "        }}\n",
              "}});\n",
              "\n",
              "// Listen for the removal of the full notebook cells\n",
              "var notebookContainer = gd.closest('#notebook-container');\n",
              "if (notebookContainer) {{\n",
              "    x.observe(notebookContainer, {childList: true});\n",
              "}}\n",
              "\n",
              "// Listen for the clearing of the current output cell\n",
              "var outputEl = gd.closest('.output');\n",
              "if (outputEl) {{\n",
              "    x.observe(outputEl, {childList: true});\n",
              "}}\n",
              "\n",
              "                        })                };                            </script>        </div>\n",
              "</body>\n",
              "</html>"
            ]
          },
          "metadata": {}
        }
      ]
    },
    {
      "cell_type": "code",
      "source": [
        "q1=df['Number_Of_Students_On_The_Bus'].quantile(0.25)\n",
        "q3=df['Number_Of_Students_On_The_Bus'].quantile(0.75)\n",
        "iqr = q3 - q1"
      ],
      "metadata": {
        "id": "szB7BO5S4mxp"
      },
      "id": "szB7BO5S4mxp",
      "execution_count": 18,
      "outputs": []
    },
    {
      "cell_type": "code",
      "source": [
        "lower = q1 - (1.5 * iqr)\n",
        "upper = q3 +(1.5 * iqr)\n",
        "\n",
        "outilers =df.loc[((df['Number_Of_Students_On_The_Bus'] > upper ) | (df['Number_Of_Students_On_The_Bus']< lower )) ]"
      ],
      "metadata": {
        "id": "XXdJAzBB4tB0"
      },
      "id": "XXdJAzBB4tB0",
      "execution_count": 19,
      "outputs": []
    },
    {
      "cell_type": "code",
      "source": [
        "df.isnull().sum()"
      ],
      "metadata": {
        "colab": {
          "base_uri": "https://localhost:8080/"
        },
        "id": "q2DE62yK5eBa",
        "outputId": "705d4dcd-07f1-48b9-f9bf-ace6d14fec30"
      },
      "id": "q2DE62yK5eBa",
      "execution_count": 20,
      "outputs": [
        {
          "output_type": "execute_result",
          "data": {
            "text/plain": [
              "School_Year                             0\n",
              "Busbreakdown_ID                         0\n",
              "Run_Type                               89\n",
              "Bus_No                                  0\n",
              "Route_Number                           88\n",
              "Reason                                102\n",
              "Schools_Serviced                        0\n",
              "Occurred_On                             0\n",
              "Created_On                              0\n",
              "Boro                                 6318\n",
              "Bus_Company_Name                        0\n",
              "How_Long_Delayed                    21630\n",
              "Number_Of_Students_On_The_Bus           0\n",
              "Has_Contractor_Notified_Schools         0\n",
              "Has_Contractor_Notified_Parents         0\n",
              "Have_You_Alerted_OPT                    0\n",
              "Informed_On                             0\n",
              "Incident_Number                    142340\n",
              "Last_Updated_On                         0\n",
              "Breakdown_or_Running_Late               0\n",
              "School_Age_or_PreK                      0\n",
              "dtype: int64"
            ]
          },
          "metadata": {},
          "execution_count": 20
        }
      ]
    },
    {
      "cell_type": "code",
      "source": [
        "df[\"Run_Type\"].unique()"
      ],
      "metadata": {
        "colab": {
          "base_uri": "https://localhost:8080/"
        },
        "id": "KVVlqiH55qRV",
        "outputId": "4176fa76-8149-4be1-e0f1-ae476ba75d5a"
      },
      "id": "KVVlqiH55qRV",
      "execution_count": 21,
      "outputs": [
        {
          "output_type": "execute_result",
          "data": {
            "text/plain": [
              "array(['Pre-K/EI', 'Special Ed AM Run', 'General Ed AM Run',\n",
              "       'Special Ed PM Run', 'General Ed PM Run', 'Special Ed Field Trip',\n",
              "       'General Ed Field Trip', nan, 'Project Read PM Run',\n",
              "       'Project Read AM Run', 'Project Read Field Trip'], dtype=object)"
            ]
          },
          "metadata": {},
          "execution_count": 21
        }
      ]
    },
    {
      "cell_type": "code",
      "source": [
        "df['Run_Type'].fillna(df['Run_Type'].mode()[0],inplace =True)"
      ],
      "metadata": {
        "id": "Nhd2zxDr50lA"
      },
      "id": "Nhd2zxDr50lA",
      "execution_count": 22,
      "outputs": []
    },
    {
      "cell_type": "code",
      "source": [
        "df[\"Route_Number\"].unique()"
      ],
      "metadata": {
        "colab": {
          "base_uri": "https://localhost:8080/"
        },
        "id": "IX3XDR9n564S",
        "outputId": "c5578f93-0517-4fe9-e97e-c410dc7a7a2b"
      },
      "id": "IX3XDR9n564S",
      "execution_count": 23,
      "outputs": [
        {
          "output_type": "execute_result",
          "data": {
            "text/plain": [
              "array(['1', '2', 'P640', ..., '012', '29AM', '1409B'], dtype=object)"
            ]
          },
          "metadata": {},
          "execution_count": 23
        }
      ]
    },
    {
      "cell_type": "code",
      "source": [
        "df['Route_Number'].fillna(df['Route_Number'].mode()[0],inplace =True)"
      ],
      "metadata": {
        "id": "hh-CqBUI6KWT"
      },
      "id": "hh-CqBUI6KWT",
      "execution_count": 24,
      "outputs": []
    },
    {
      "cell_type": "code",
      "source": [
        "df[\"Reason\"].unique()"
      ],
      "metadata": {
        "colab": {
          "base_uri": "https://localhost:8080/"
        },
        "id": "ax8ZizdF6R30",
        "outputId": "18e14b93-1ff4-44c2-9288-d6e43fa43d83"
      },
      "id": "ax8ZizdF6R30",
      "execution_count": 25,
      "outputs": [
        {
          "output_type": "execute_result",
          "data": {
            "text/plain": [
              "array(['Other', 'Heavy Traffic', 'Flat Tire', 'Mechanical Problem',\n",
              "       'Delayed by School', 'Problem Run', 'Late return from Field Trip',\n",
              "       'Won`t Start', 'Weather Conditions', 'Accident', nan], dtype=object)"
            ]
          },
          "metadata": {},
          "execution_count": 25
        }
      ]
    },
    {
      "cell_type": "code",
      "source": [
        "df['Reason'].fillna(df['Reason'].mode()[0],inplace =True)"
      ],
      "metadata": {
        "id": "eylLN7WX6T86"
      },
      "id": "eylLN7WX6T86",
      "execution_count": 26,
      "outputs": []
    },
    {
      "cell_type": "code",
      "source": [
        "df[\"Boro\"].unique()"
      ],
      "metadata": {
        "colab": {
          "base_uri": "https://localhost:8080/"
        },
        "id": "s1043mXb6cpr",
        "outputId": "e349f6af-fe11-4b98-cfe5-b55b9559d326"
      },
      "id": "s1043mXb6cpr",
      "execution_count": 27,
      "outputs": [
        {
          "output_type": "execute_result",
          "data": {
            "text/plain": [
              "array(['Bronx', nan, 'Queens', 'Brooklyn', 'Nassau County', 'Manhattan',\n",
              "       'Westchester', 'Staten Island', 'All Boroughs', 'Rockland County',\n",
              "       'Connecticut', 'New Jersey'], dtype=object)"
            ]
          },
          "metadata": {},
          "execution_count": 27
        }
      ]
    },
    {
      "cell_type": "code",
      "source": [
        "df['Boro'].fillna(df['Boro'].mode()[0],inplace =True)"
      ],
      "metadata": {
        "id": "tafhF81U6dDb"
      },
      "id": "tafhF81U6dDb",
      "execution_count": 28,
      "outputs": []
    },
    {
      "cell_type": "code",
      "source": [
        "df[\"How_Long_Delayed\"].unique()"
      ],
      "metadata": {
        "colab": {
          "base_uri": "https://localhost:8080/"
        },
        "id": "Qmfbevqc6s8Z",
        "outputId": "da506e28-57bd-4df8-81f7-1a0a0b36ee77"
      },
      "id": "Qmfbevqc6s8Z",
      "execution_count": 29,
      "outputs": [
        {
          "output_type": "execute_result",
          "data": {
            "text/plain": [
              "array(['10MINUTES', '25 MINUTES', '15 MINUTES', ..., '40 -50 MIN',\n",
              "       '80 MIN', '45 MINIUTE'], dtype=object)"
            ]
          },
          "metadata": {},
          "execution_count": 29
        }
      ]
    },
    {
      "cell_type": "code",
      "source": [
        "df['How_Long_Delayed'].fillna(df['How_Long_Delayed'].mode()[0],inplace=True)"
      ],
      "metadata": {
        "id": "JpuYspR07aEg"
      },
      "id": "JpuYspR07aEg",
      "execution_count": 30,
      "outputs": []
    },
    {
      "cell_type": "code",
      "source": [
        "df[\"Incident_Number\"].unique()"
      ],
      "metadata": {
        "id": "STJaGH-87vOW",
        "outputId": "f8c60701-756b-4a42-9f78-62056a01c3e0",
        "colab": {
          "base_uri": "https://localhost:8080/"
        }
      },
      "id": "STJaGH-87vOW",
      "execution_count": 31,
      "outputs": [
        {
          "output_type": "execute_result",
          "data": {
            "text/plain": [
              "array([nan, '2725956', '2776550', ..., '90330033', '90333015', '90323827'],\n",
              "      dtype=object)"
            ]
          },
          "metadata": {},
          "execution_count": 31
        }
      ]
    },
    {
      "cell_type": "code",
      "source": [
        "df.drop('Incident_Number',axis=1,inplace=True)"
      ],
      "metadata": {
        "id": "nvP91VKA7w8S"
      },
      "id": "nvP91VKA7w8S",
      "execution_count": 32,
      "outputs": []
    },
    {
      "cell_type": "code",
      "source": [
        "df.isnull().sum()"
      ],
      "metadata": {
        "id": "4hTZ7Kxa78rK",
        "outputId": "f727c05a-5889-4d29-cea6-756feb8937da",
        "colab": {
          "base_uri": "https://localhost:8080/"
        }
      },
      "id": "4hTZ7Kxa78rK",
      "execution_count": 33,
      "outputs": [
        {
          "output_type": "execute_result",
          "data": {
            "text/plain": [
              "School_Year                        0\n",
              "Busbreakdown_ID                    0\n",
              "Run_Type                           0\n",
              "Bus_No                             0\n",
              "Route_Number                       0\n",
              "Reason                             0\n",
              "Schools_Serviced                   0\n",
              "Occurred_On                        0\n",
              "Created_On                         0\n",
              "Boro                               0\n",
              "Bus_Company_Name                   0\n",
              "How_Long_Delayed                   0\n",
              "Number_Of_Students_On_The_Bus      0\n",
              "Has_Contractor_Notified_Schools    0\n",
              "Has_Contractor_Notified_Parents    0\n",
              "Have_You_Alerted_OPT               0\n",
              "Informed_On                        0\n",
              "Last_Updated_On                    0\n",
              "Breakdown_or_Running_Late          0\n",
              "School_Age_or_PreK                 0\n",
              "dtype: int64"
            ]
          },
          "metadata": {},
          "execution_count": 33
        }
      ]
    },
    {
      "cell_type": "code",
      "source": [
        "df.drop('School_Year',axis=1,inplace=True)"
      ],
      "metadata": {
        "id": "y0K_s4WG9y9S"
      },
      "id": "y0K_s4WG9y9S",
      "execution_count": 34,
      "outputs": []
    },
    {
      "cell_type": "code",
      "source": [
        "df.drop('Busbreakdown_ID',axis=1,inplace=True)"
      ],
      "metadata": {
        "id": "JsefXeNq-C_z"
      },
      "id": "JsefXeNq-C_z",
      "execution_count": 35,
      "outputs": []
    },
    {
      "cell_type": "code",
      "source": [
        "df.drop('Created_On', axis=1,inplace=True)"
      ],
      "metadata": {
        "id": "9vsqpTDt-MI5"
      },
      "id": "9vsqpTDt-MI5",
      "execution_count": 36,
      "outputs": []
    },
    {
      "cell_type": "code",
      "source": [
        "df.drop('Last_Updated_On',axis=1,inplace=True)"
      ],
      "metadata": {
        "id": "ljxGWAUq-Zi9"
      },
      "id": "ljxGWAUq-Zi9",
      "execution_count": 37,
      "outputs": []
    },
    {
      "cell_type": "code",
      "source": [
        "df.drop('Informed_On',axis=1,inplace=True)"
      ],
      "metadata": {
        "id": "kaw2AFpY-iVg"
      },
      "id": "kaw2AFpY-iVg",
      "execution_count": 38,
      "outputs": []
    },
    {
      "cell_type": "code",
      "source": [
        "df.drop('Occurred_On',axis=1,inplace=True)"
      ],
      "metadata": {
        "id": "ab2H_P40-t8f"
      },
      "id": "ab2H_P40-t8f",
      "execution_count": 39,
      "outputs": []
    },
    {
      "cell_type": "code",
      "source": [
        "df.drop('School_Age_or_PreK',axis=1,inplace=True)"
      ],
      "metadata": {
        "id": "hln5kBjm-1Jj"
      },
      "id": "hln5kBjm-1Jj",
      "execution_count": 40,
      "outputs": []
    },
    {
      "cell_type": "code",
      "source": [
        "df.columns"
      ],
      "metadata": {
        "id": "Q8byVa7G_Ar2",
        "outputId": "9733ac33-21f4-49b5-9c1a-acd4cd5ed4c8",
        "colab": {
          "base_uri": "https://localhost:8080/"
        }
      },
      "id": "Q8byVa7G_Ar2",
      "execution_count": 41,
      "outputs": [
        {
          "output_type": "execute_result",
          "data": {
            "text/plain": [
              "Index(['Run_Type', 'Bus_No', 'Route_Number', 'Reason', 'Schools_Serviced',\n",
              "       'Boro', 'Bus_Company_Name', 'How_Long_Delayed',\n",
              "       'Number_Of_Students_On_The_Bus', 'Has_Contractor_Notified_Schools',\n",
              "       'Has_Contractor_Notified_Parents', 'Have_You_Alerted_OPT',\n",
              "       'Breakdown_or_Running_Late'],\n",
              "      dtype='object')"
            ]
          },
          "metadata": {},
          "execution_count": 41
        }
      ]
    },
    {
      "cell_type": "code",
      "source": [
        "cat_column=df.select_dtypes(include='object').columns\n",
        "label_encoder=LabelEncoder()\n",
        "for col in cat_column:\n",
        "  df[col]=label_encoder.fit_transform(df[col])"
      ],
      "metadata": {
        "id": "wuqCdhMD_5yU"
      },
      "id": "wuqCdhMD_5yU",
      "execution_count": 42,
      "outputs": []
    },
    {
      "cell_type": "code",
      "source": [
        "df.shape\n",
        "# row 147972 column 20"
      ],
      "metadata": {
        "id": "4OiIld-F9jav",
        "outputId": "30676086-96c4-403d-ab7f-f27f9f373e08",
        "colab": {
          "base_uri": "https://localhost:8080/"
        }
      },
      "id": "4OiIld-F9jav",
      "execution_count": 43,
      "outputs": [
        {
          "output_type": "execute_result",
          "data": {
            "text/plain": [
              "(147972, 13)"
            ]
          },
          "metadata": {},
          "execution_count": 43
        }
      ]
    },
    {
      "cell_type": "code",
      "source": [
        "df.head()"
      ],
      "metadata": {
        "id": "Tu0dMHSIAb1E",
        "outputId": "026e675d-43ea-434e-d3f2-8c8cd184c1e2",
        "colab": {
          "base_uri": "https://localhost:8080/",
          "height": 226
        }
      },
      "id": "Tu0dMHSIAb1E",
      "execution_count": 44,
      "outputs": [
        {
          "output_type": "execute_result",
          "data": {
            "text/plain": [
              "   Run_Type  Bus_No  Route_Number  Reason  Schools_Serviced  Boro  \\\n",
              "0         3    7481            77       6              5003     1   \n",
              "1         3    8114            77       3              5071     1   \n",
              "2         3    4662           209       3              4969     1   \n",
              "3         3    4547           209       6              4968     1   \n",
              "4         3    4554           209       6              5149     1   \n",
              "\n",
              "   Bus_Company_Name  How_Long_Delayed  Number_Of_Students_On_The_Bus  \\\n",
              "0                27               191                              5   \n",
              "1                27               837                              3   \n",
              "2                27               335                             12   \n",
              "3                27               110                             11   \n",
              "4                27               191                             12   \n",
              "\n",
              "   Has_Contractor_Notified_Schools  Has_Contractor_Notified_Parents  \\\n",
              "0                                1                                1   \n",
              "1                                1                                1   \n",
              "2                                1                                1   \n",
              "3                                1                                1   \n",
              "4                                1                                1   \n",
              "\n",
              "   Have_You_Alerted_OPT  Breakdown_or_Running_Late  \n",
              "0                     0                          1  \n",
              "1                     0                          1  \n",
              "2                     1                          1  \n",
              "3                     1                          1  \n",
              "4                     0                          1  "
            ],
            "text/html": [
              "\n",
              "  <div id=\"df-3f6159a7-e00b-4958-b5ff-956fa8afc351\" class=\"colab-df-container\">\n",
              "    <div>\n",
              "<style scoped>\n",
              "    .dataframe tbody tr th:only-of-type {\n",
              "        vertical-align: middle;\n",
              "    }\n",
              "\n",
              "    .dataframe tbody tr th {\n",
              "        vertical-align: top;\n",
              "    }\n",
              "\n",
              "    .dataframe thead th {\n",
              "        text-align: right;\n",
              "    }\n",
              "</style>\n",
              "<table border=\"1\" class=\"dataframe\">\n",
              "  <thead>\n",
              "    <tr style=\"text-align: right;\">\n",
              "      <th></th>\n",
              "      <th>Run_Type</th>\n",
              "      <th>Bus_No</th>\n",
              "      <th>Route_Number</th>\n",
              "      <th>Reason</th>\n",
              "      <th>Schools_Serviced</th>\n",
              "      <th>Boro</th>\n",
              "      <th>Bus_Company_Name</th>\n",
              "      <th>How_Long_Delayed</th>\n",
              "      <th>Number_Of_Students_On_The_Bus</th>\n",
              "      <th>Has_Contractor_Notified_Schools</th>\n",
              "      <th>Has_Contractor_Notified_Parents</th>\n",
              "      <th>Have_You_Alerted_OPT</th>\n",
              "      <th>Breakdown_or_Running_Late</th>\n",
              "    </tr>\n",
              "  </thead>\n",
              "  <tbody>\n",
              "    <tr>\n",
              "      <th>0</th>\n",
              "      <td>3</td>\n",
              "      <td>7481</td>\n",
              "      <td>77</td>\n",
              "      <td>6</td>\n",
              "      <td>5003</td>\n",
              "      <td>1</td>\n",
              "      <td>27</td>\n",
              "      <td>191</td>\n",
              "      <td>5</td>\n",
              "      <td>1</td>\n",
              "      <td>1</td>\n",
              "      <td>0</td>\n",
              "      <td>1</td>\n",
              "    </tr>\n",
              "    <tr>\n",
              "      <th>1</th>\n",
              "      <td>3</td>\n",
              "      <td>8114</td>\n",
              "      <td>77</td>\n",
              "      <td>3</td>\n",
              "      <td>5071</td>\n",
              "      <td>1</td>\n",
              "      <td>27</td>\n",
              "      <td>837</td>\n",
              "      <td>3</td>\n",
              "      <td>1</td>\n",
              "      <td>1</td>\n",
              "      <td>0</td>\n",
              "      <td>1</td>\n",
              "    </tr>\n",
              "    <tr>\n",
              "      <th>2</th>\n",
              "      <td>3</td>\n",
              "      <td>4662</td>\n",
              "      <td>209</td>\n",
              "      <td>3</td>\n",
              "      <td>4969</td>\n",
              "      <td>1</td>\n",
              "      <td>27</td>\n",
              "      <td>335</td>\n",
              "      <td>12</td>\n",
              "      <td>1</td>\n",
              "      <td>1</td>\n",
              "      <td>1</td>\n",
              "      <td>1</td>\n",
              "    </tr>\n",
              "    <tr>\n",
              "      <th>3</th>\n",
              "      <td>3</td>\n",
              "      <td>4547</td>\n",
              "      <td>209</td>\n",
              "      <td>6</td>\n",
              "      <td>4968</td>\n",
              "      <td>1</td>\n",
              "      <td>27</td>\n",
              "      <td>110</td>\n",
              "      <td>11</td>\n",
              "      <td>1</td>\n",
              "      <td>1</td>\n",
              "      <td>1</td>\n",
              "      <td>1</td>\n",
              "    </tr>\n",
              "    <tr>\n",
              "      <th>4</th>\n",
              "      <td>3</td>\n",
              "      <td>4554</td>\n",
              "      <td>209</td>\n",
              "      <td>6</td>\n",
              "      <td>5149</td>\n",
              "      <td>1</td>\n",
              "      <td>27</td>\n",
              "      <td>191</td>\n",
              "      <td>12</td>\n",
              "      <td>1</td>\n",
              "      <td>1</td>\n",
              "      <td>0</td>\n",
              "      <td>1</td>\n",
              "    </tr>\n",
              "  </tbody>\n",
              "</table>\n",
              "</div>\n",
              "    <div class=\"colab-df-buttons\">\n",
              "\n",
              "  <div class=\"colab-df-container\">\n",
              "    <button class=\"colab-df-convert\" onclick=\"convertToInteractive('df-3f6159a7-e00b-4958-b5ff-956fa8afc351')\"\n",
              "            title=\"Convert this dataframe to an interactive table.\"\n",
              "            style=\"display:none;\">\n",
              "\n",
              "  <svg xmlns=\"http://www.w3.org/2000/svg\" height=\"24px\" viewBox=\"0 -960 960 960\">\n",
              "    <path d=\"M120-120v-720h720v720H120Zm60-500h600v-160H180v160Zm220 220h160v-160H400v160Zm0 220h160v-160H400v160ZM180-400h160v-160H180v160Zm440 0h160v-160H620v160ZM180-180h160v-160H180v160Zm440 0h160v-160H620v160Z\"/>\n",
              "  </svg>\n",
              "    </button>\n",
              "\n",
              "  <style>\n",
              "    .colab-df-container {\n",
              "      display:flex;\n",
              "      gap: 12px;\n",
              "    }\n",
              "\n",
              "    .colab-df-convert {\n",
              "      background-color: #E8F0FE;\n",
              "      border: none;\n",
              "      border-radius: 50%;\n",
              "      cursor: pointer;\n",
              "      display: none;\n",
              "      fill: #1967D2;\n",
              "      height: 32px;\n",
              "      padding: 0 0 0 0;\n",
              "      width: 32px;\n",
              "    }\n",
              "\n",
              "    .colab-df-convert:hover {\n",
              "      background-color: #E2EBFA;\n",
              "      box-shadow: 0px 1px 2px rgba(60, 64, 67, 0.3), 0px 1px 3px 1px rgba(60, 64, 67, 0.15);\n",
              "      fill: #174EA6;\n",
              "    }\n",
              "\n",
              "    .colab-df-buttons div {\n",
              "      margin-bottom: 4px;\n",
              "    }\n",
              "\n",
              "    [theme=dark] .colab-df-convert {\n",
              "      background-color: #3B4455;\n",
              "      fill: #D2E3FC;\n",
              "    }\n",
              "\n",
              "    [theme=dark] .colab-df-convert:hover {\n",
              "      background-color: #434B5C;\n",
              "      box-shadow: 0px 1px 3px 1px rgba(0, 0, 0, 0.15);\n",
              "      filter: drop-shadow(0px 1px 2px rgba(0, 0, 0, 0.3));\n",
              "      fill: #FFFFFF;\n",
              "    }\n",
              "  </style>\n",
              "\n",
              "    <script>\n",
              "      const buttonEl =\n",
              "        document.querySelector('#df-3f6159a7-e00b-4958-b5ff-956fa8afc351 button.colab-df-convert');\n",
              "      buttonEl.style.display =\n",
              "        google.colab.kernel.accessAllowed ? 'block' : 'none';\n",
              "\n",
              "      async function convertToInteractive(key) {\n",
              "        const element = document.querySelector('#df-3f6159a7-e00b-4958-b5ff-956fa8afc351');\n",
              "        const dataTable =\n",
              "          await google.colab.kernel.invokeFunction('convertToInteractive',\n",
              "                                                    [key], {});\n",
              "        if (!dataTable) return;\n",
              "\n",
              "        const docLinkHtml = 'Like what you see? Visit the ' +\n",
              "          '<a target=\"_blank\" href=https://colab.research.google.com/notebooks/data_table.ipynb>data table notebook</a>'\n",
              "          + ' to learn more about interactive tables.';\n",
              "        element.innerHTML = '';\n",
              "        dataTable['output_type'] = 'display_data';\n",
              "        await google.colab.output.renderOutput(dataTable, element);\n",
              "        const docLink = document.createElement('div');\n",
              "        docLink.innerHTML = docLinkHtml;\n",
              "        element.appendChild(docLink);\n",
              "      }\n",
              "    </script>\n",
              "  </div>\n",
              "\n",
              "\n",
              "<div id=\"df-a8e14fbe-f8f6-4b05-b6cd-f1507e39deab\">\n",
              "  <button class=\"colab-df-quickchart\" onclick=\"quickchart('df-a8e14fbe-f8f6-4b05-b6cd-f1507e39deab')\"\n",
              "            title=\"Suggest charts\"\n",
              "            style=\"display:none;\">\n",
              "\n",
              "<svg xmlns=\"http://www.w3.org/2000/svg\" height=\"24px\"viewBox=\"0 0 24 24\"\n",
              "     width=\"24px\">\n",
              "    <g>\n",
              "        <path d=\"M19 3H5c-1.1 0-2 .9-2 2v14c0 1.1.9 2 2 2h14c1.1 0 2-.9 2-2V5c0-1.1-.9-2-2-2zM9 17H7v-7h2v7zm4 0h-2V7h2v10zm4 0h-2v-4h2v4z\"/>\n",
              "    </g>\n",
              "</svg>\n",
              "  </button>\n",
              "\n",
              "<style>\n",
              "  .colab-df-quickchart {\n",
              "      --bg-color: #E8F0FE;\n",
              "      --fill-color: #1967D2;\n",
              "      --hover-bg-color: #E2EBFA;\n",
              "      --hover-fill-color: #174EA6;\n",
              "      --disabled-fill-color: #AAA;\n",
              "      --disabled-bg-color: #DDD;\n",
              "  }\n",
              "\n",
              "  [theme=dark] .colab-df-quickchart {\n",
              "      --bg-color: #3B4455;\n",
              "      --fill-color: #D2E3FC;\n",
              "      --hover-bg-color: #434B5C;\n",
              "      --hover-fill-color: #FFFFFF;\n",
              "      --disabled-bg-color: #3B4455;\n",
              "      --disabled-fill-color: #666;\n",
              "  }\n",
              "\n",
              "  .colab-df-quickchart {\n",
              "    background-color: var(--bg-color);\n",
              "    border: none;\n",
              "    border-radius: 50%;\n",
              "    cursor: pointer;\n",
              "    display: none;\n",
              "    fill: var(--fill-color);\n",
              "    height: 32px;\n",
              "    padding: 0;\n",
              "    width: 32px;\n",
              "  }\n",
              "\n",
              "  .colab-df-quickchart:hover {\n",
              "    background-color: var(--hover-bg-color);\n",
              "    box-shadow: 0 1px 2px rgba(60, 64, 67, 0.3), 0 1px 3px 1px rgba(60, 64, 67, 0.15);\n",
              "    fill: var(--button-hover-fill-color);\n",
              "  }\n",
              "\n",
              "  .colab-df-quickchart-complete:disabled,\n",
              "  .colab-df-quickchart-complete:disabled:hover {\n",
              "    background-color: var(--disabled-bg-color);\n",
              "    fill: var(--disabled-fill-color);\n",
              "    box-shadow: none;\n",
              "  }\n",
              "\n",
              "  .colab-df-spinner {\n",
              "    border: 2px solid var(--fill-color);\n",
              "    border-color: transparent;\n",
              "    border-bottom-color: var(--fill-color);\n",
              "    animation:\n",
              "      spin 1s steps(1) infinite;\n",
              "  }\n",
              "\n",
              "  @keyframes spin {\n",
              "    0% {\n",
              "      border-color: transparent;\n",
              "      border-bottom-color: var(--fill-color);\n",
              "      border-left-color: var(--fill-color);\n",
              "    }\n",
              "    20% {\n",
              "      border-color: transparent;\n",
              "      border-left-color: var(--fill-color);\n",
              "      border-top-color: var(--fill-color);\n",
              "    }\n",
              "    30% {\n",
              "      border-color: transparent;\n",
              "      border-left-color: var(--fill-color);\n",
              "      border-top-color: var(--fill-color);\n",
              "      border-right-color: var(--fill-color);\n",
              "    }\n",
              "    40% {\n",
              "      border-color: transparent;\n",
              "      border-right-color: var(--fill-color);\n",
              "      border-top-color: var(--fill-color);\n",
              "    }\n",
              "    60% {\n",
              "      border-color: transparent;\n",
              "      border-right-color: var(--fill-color);\n",
              "    }\n",
              "    80% {\n",
              "      border-color: transparent;\n",
              "      border-right-color: var(--fill-color);\n",
              "      border-bottom-color: var(--fill-color);\n",
              "    }\n",
              "    90% {\n",
              "      border-color: transparent;\n",
              "      border-bottom-color: var(--fill-color);\n",
              "    }\n",
              "  }\n",
              "</style>\n",
              "\n",
              "  <script>\n",
              "    async function quickchart(key) {\n",
              "      const quickchartButtonEl =\n",
              "        document.querySelector('#' + key + ' button');\n",
              "      quickchartButtonEl.disabled = true;  // To prevent multiple clicks.\n",
              "      quickchartButtonEl.classList.add('colab-df-spinner');\n",
              "      try {\n",
              "        const charts = await google.colab.kernel.invokeFunction(\n",
              "            'suggestCharts', [key], {});\n",
              "      } catch (error) {\n",
              "        console.error('Error during call to suggestCharts:', error);\n",
              "      }\n",
              "      quickchartButtonEl.classList.remove('colab-df-spinner');\n",
              "      quickchartButtonEl.classList.add('colab-df-quickchart-complete');\n",
              "    }\n",
              "    (() => {\n",
              "      let quickchartButtonEl =\n",
              "        document.querySelector('#df-a8e14fbe-f8f6-4b05-b6cd-f1507e39deab button');\n",
              "      quickchartButtonEl.style.display =\n",
              "        google.colab.kernel.accessAllowed ? 'block' : 'none';\n",
              "    })();\n",
              "  </script>\n",
              "</div>\n",
              "\n",
              "    </div>\n",
              "  </div>\n"
            ],
            "application/vnd.google.colaboratory.intrinsic+json": {
              "type": "dataframe",
              "variable_name": "df"
            }
          },
          "metadata": {},
          "execution_count": 44
        }
      ]
    },
    {
      "cell_type": "code",
      "source": [
        "corr=df.corr()"
      ],
      "metadata": {
        "id": "_kJtYKzVAe4E"
      },
      "id": "_kJtYKzVAe4E",
      "execution_count": 45,
      "outputs": []
    },
    {
      "cell_type": "code",
      "source": [
        "plt.figure(figsize=(8,10))\n",
        "sns.heatmap(corr,annot=True)\n",
        "plt.show()"
      ],
      "metadata": {
        "id": "GNijvvt-AlJt",
        "outputId": "b8fc92f0-8094-4667-be26-1681694c7aac",
        "colab": {
          "base_uri": "https://localhost:8080/",
          "height": 1000
        }
      },
      "id": "GNijvvt-AlJt",
      "execution_count": null,
      "outputs": [
        {
          "output_type": "display_data",
          "data": {
            "text/plain": [
              "<Figure size 800x1000 with 2 Axes>"
            ],
            "image/png": "[encoded data removed]"
          },
          "metadata": {}
        }
      ]
    },
    {
      "cell_type": "markdown",
      "id": "1a559e40",
      "metadata": {
        "id": "1a559e40"
      },
      "source": [
        "## Data Preprocessing\n",
        "This could include:\n",
        "\n",
        "* **Handle Missing Values**\n",
        "    * Impute missing values or drop them.\n",
        "\n",
        "* **Encode Categorical Variables**\n",
        "    * One-hot encoding\n",
        "    * Label encoding\n",
        "\n",
        "* **Scale and Normalize Data**\n",
        "    * Standardization (Z-score)\n",
        "    * Min-Max scaling\n",
        "\n",
        "* **Feature Engineering**\n",
        "    * Create new features\n",
        "    * Feature selection\n",
        "\n",
        "* **Handle Imbalanced Data**\n",
        "    * Oversampling\n",
        "    * Undersampling\n",
        "\n",
        "* **Handle Outliers**\n",
        "    * Remove outliers\n",
        "    * Transform outliers\n",
        "\n",
        "* **Remove Duplicates**\n",
        "    * Remove redundant or duplicate data\n",
        "\n",
        "\n",
        "And add more as needed!\n",
        "\n",
        "Please treat these as suggestions. Feel free to use your judgment for the rest."
      ]
    },
    {
      "cell_type": "markdown",
      "source": [
        "here we note the clas 1 more then the class 2 we using somte\n",
        "\n",
        "\n",
        "\n"
      ],
      "metadata": {
        "id": "857n7JPUBUD8"
      },
      "id": "857n7JPUBUD8"
    },
    {
      "cell_type": "markdown",
      "id": "bc887660",
      "metadata": {
        "id": "bc887660"
      },
      "source": [
        "## Split the Dataset\n",
        "Next, split the dataset into training, validation, and testing sets."
      ]
    },
    {
      "cell_type": "code",
      "execution_count": 46,
      "id": "fa5bbfd5",
      "metadata": {
        "id": "fa5bbfd5"
      },
      "outputs": [],
      "source": [
        "X= df.drop('Breakdown_or_Running_Late',axis=1)\n",
        "y=df['Breakdown_or_Running_Late']"
      ]
    },
    {
      "cell_type": "code",
      "source": [
        "X_train,X_test,y_train,y_test=train_test_split(X,y,test_size=0.2,random_state=42)"
      ],
      "metadata": {
        "id": "b2dbNkvUCPn0"
      },
      "id": "b2dbNkvUCPn0",
      "execution_count": 47,
      "outputs": []
    },
    {
      "cell_type": "code",
      "source": [
        "df['Breakdown_or_Running_Late'].value_counts()"
      ],
      "metadata": {
        "id": "wEqVpn9yBOmL",
        "outputId": "c8d48603-df33-4000-85d3-6bab2777ab22",
        "colab": {
          "base_uri": "https://localhost:8080/"
        }
      },
      "id": "wEqVpn9yBOmL",
      "execution_count": 48,
      "outputs": [
        {
          "output_type": "execute_result",
          "data": {
            "text/plain": [
              "Breakdown_or_Running_Late\n",
              "1    130857\n",
              "0     17115\n",
              "Name: count, dtype: int64"
            ]
          },
          "metadata": {},
          "execution_count": 48
        }
      ]
    },
    {
      "cell_type": "code",
      "source": [
        "\n",
        "sm=SMOTEENN()\n",
        "X_train,y_train=sm.fit_resample(X_train,y_train)\n"
      ],
      "metadata": {
        "id": "vXCTu_HAa8Ug"
      },
      "id": "vXCTu_HAa8Ug",
      "execution_count": 51,
      "outputs": []
    },
    {
      "cell_type": "code",
      "source": [
        "df['Breakdown_or_Running_Late'].value_counts()"
      ],
      "metadata": {
        "colab": {
          "base_uri": "https://localhost:8080/"
        },
        "id": "Luhp7O9abFSW",
        "outputId": "1b871c69-deb8-4512-d823-b8f033ab60fb"
      },
      "id": "Luhp7O9abFSW",
      "execution_count": 52,
      "outputs": [
        {
          "output_type": "execute_result",
          "data": {
            "text/plain": [
              "Breakdown_or_Running_Late\n",
              "1    130857\n",
              "0     17115\n",
              "Name: count, dtype: int64"
            ]
          },
          "metadata": {},
          "execution_count": 52
        }
      ]
    },
    {
      "cell_type": "code",
      "source": [
        "std=StandardScaler()\n",
        "s=std.fit_transform(X_train)\n",
        "#sy=std.transform(y_train)"
      ],
      "metadata": {
        "id": "pfzMlgo9EDka"
      },
      "id": "pfzMlgo9EDka",
      "execution_count": 53,
      "outputs": []
    },
    {
      "cell_type": "code",
      "source": [
        "df.head()"
      ],
      "metadata": {
        "id": "4Se-PhWHEY7S",
        "outputId": "0a11b743-4a8b-4b8d-9772-f83373a5b306",
        "colab": {
          "base_uri": "https://localhost:8080/",
          "height": 226
        }
      },
      "id": "4Se-PhWHEY7S",
      "execution_count": 54,
      "outputs": [
        {
          "output_type": "execute_result",
          "data": {
            "text/plain": [
              "   Run_Type  Bus_No  Route_Number  Reason  Schools_Serviced  Boro  \\\n",
              "0         3    7481            77       6              5003     1   \n",
              "1         3    8114            77       3              5071     1   \n",
              "2         3    4662           209       3              4969     1   \n",
              "3         3    4547           209       6              4968     1   \n",
              "4         3    4554           209       6              5149     1   \n",
              "\n",
              "   Bus_Company_Name  How_Long_Delayed  Number_Of_Students_On_The_Bus  \\\n",
              "0                27               191                              5   \n",
              "1                27               837                              3   \n",
              "2                27               335                             12   \n",
              "3                27               110                             11   \n",
              "4                27               191                             12   \n",
              "\n",
              "   Has_Contractor_Notified_Schools  Has_Contractor_Notified_Parents  \\\n",
              "0                                1                                1   \n",
              "1                                1                                1   \n",
              "2                                1                                1   \n",
              "3                                1                                1   \n",
              "4                                1                                1   \n",
              "\n",
              "   Have_You_Alerted_OPT  Breakdown_or_Running_Late  \n",
              "0                     0                          1  \n",
              "1                     0                          1  \n",
              "2                     1                          1  \n",
              "3                     1                          1  \n",
              "4                     0                          1  "
            ],
            "text/html": [
              "\n",
              "  <div id=\"df-7c2d31ba-8bda-4725-b3d2-c9a5f63317b5\" class=\"colab-df-container\">\n",
              "    <div>\n",
              "<style scoped>\n",
              "    .dataframe tbody tr th:only-of-type {\n",
              "        vertical-align: middle;\n",
              "    }\n",
              "\n",
              "    .dataframe tbody tr th {\n",
              "        vertical-align: top;\n",
              "    }\n",
              "\n",
              "    .dataframe thead th {\n",
              "        text-align: right;\n",
              "    }\n",
              "</style>\n",
              "<table border=\"1\" class=\"dataframe\">\n",
              "  <thead>\n",
              "    <tr style=\"text-align: right;\">\n",
              "      <th></th>\n",
              "      <th>Run_Type</th>\n",
              "      <th>Bus_No</th>\n",
              "      <th>Route_Number</th>\n",
              "      <th>Reason</th>\n",
              "      <th>Schools_Serviced</th>\n",
              "      <th>Boro</th>\n",
              "      <th>Bus_Company_Name</th>\n",
              "      <th>How_Long_Delayed</th>\n",
              "      <th>Number_Of_Students_On_The_Bus</th>\n",
              "      <th>Has_Contractor_Notified_Schools</th>\n",
              "      <th>Has_Contractor_Notified_Parents</th>\n",
              "      <th>Have_You_Alerted_OPT</th>\n",
              "      <th>Breakdown_or_Running_Late</th>\n",
              "    </tr>\n",
              "  </thead>\n",
              "  <tbody>\n",
              "    <tr>\n",
              "      <th>0</th>\n",
              "      <td>3</td>\n",
              "      <td>7481</td>\n",
              "      <td>77</td>\n",
              "      <td>6</td>\n",
              "      <td>5003</td>\n",
              "      <td>1</td>\n",
              "      <td>27</td>\n",
              "      <td>191</td>\n",
              "      <td>5</td>\n",
              "      <td>1</td>\n",
              "      <td>1</td>\n",
              "      <td>0</td>\n",
              "      <td>1</td>\n",
              "    </tr>\n",
              "    <tr>\n",
              "      <th>1</th>\n",
              "      <td>3</td>\n",
              "      <td>8114</td>\n",
              "      <td>77</td>\n",
              "      <td>3</td>\n",
              "      <td>5071</td>\n",
              "      <td>1</td>\n",
              "      <td>27</td>\n",
              "      <td>837</td>\n",
              "      <td>3</td>\n",
              "      <td>1</td>\n",
              "      <td>1</td>\n",
              "      <td>0</td>\n",
              "      <td>1</td>\n",
              "    </tr>\n",
              "    <tr>\n",
              "      <th>2</th>\n",
              "      <td>3</td>\n",
              "      <td>4662</td>\n",
              "      <td>209</td>\n",
              "      <td>3</td>\n",
              "      <td>4969</td>\n",
              "      <td>1</td>\n",
              "      <td>27</td>\n",
              "      <td>335</td>\n",
              "      <td>12</td>\n",
              "      <td>1</td>\n",
              "      <td>1</td>\n",
              "      <td>1</td>\n",
              "      <td>1</td>\n",
              "    </tr>\n",
              "    <tr>\n",
              "      <th>3</th>\n",
              "      <td>3</td>\n",
              "      <td>4547</td>\n",
              "      <td>209</td>\n",
              "      <td>6</td>\n",
              "      <td>4968</td>\n",
              "      <td>1</td>\n",
              "      <td>27</td>\n",
              "      <td>110</td>\n",
              "      <td>11</td>\n",
              "      <td>1</td>\n",
              "      <td>1</td>\n",
              "      <td>1</td>\n",
              "      <td>1</td>\n",
              "    </tr>\n",
              "    <tr>\n",
              "      <th>4</th>\n",
              "      <td>3</td>\n",
              "      <td>4554</td>\n",
              "      <td>209</td>\n",
              "      <td>6</td>\n",
              "      <td>5149</td>\n",
              "      <td>1</td>\n",
              "      <td>27</td>\n",
              "      <td>191</td>\n",
              "      <td>12</td>\n",
              "      <td>1</td>\n",
              "      <td>1</td>\n",
              "      <td>0</td>\n",
              "      <td>1</td>\n",
              "    </tr>\n",
              "  </tbody>\n",
              "</table>\n",
              "</div>\n",
              "    <div class=\"colab-df-buttons\">\n",
              "\n",
              "  <div class=\"colab-df-container\">\n",
              "    <button class=\"colab-df-convert\" onclick=\"convertToInteractive('df-7c2d31ba-8bda-4725-b3d2-c9a5f63317b5')\"\n",
              "            title=\"Convert this dataframe to an interactive table.\"\n",
              "            style=\"display:none;\">\n",
              "\n",
              "  <svg xmlns=\"http://www.w3.org/2000/svg\" height=\"24px\" viewBox=\"0 -960 960 960\">\n",
              "    <path d=\"M120-120v-720h720v720H120Zm60-500h600v-160H180v160Zm220 220h160v-160H400v160Zm0 220h160v-160H400v160ZM180-400h160v-160H180v160Zm440 0h160v-160H620v160ZM180-180h160v-160H180v160Zm440 0h160v-160H620v160Z\"/>\n",
              "  </svg>\n",
              "    </button>\n",
              "\n",
              "  <style>\n",
              "    .colab-df-container {\n",
              "      display:flex;\n",
              "      gap: 12px;\n",
              "    }\n",
              "\n",
              "    .colab-df-convert {\n",
              "      background-color: #E8F0FE;\n",
              "      border: none;\n",
              "      border-radius: 50%;\n",
              "      cursor: pointer;\n",
              "      display: none;\n",
              "      fill: #1967D2;\n",
              "      height: 32px;\n",
              "      padding: 0 0 0 0;\n",
              "      width: 32px;\n",
              "    }\n",
              "\n",
              "    .colab-df-convert:hover {\n",
              "      background-color: #E2EBFA;\n",
              "      box-shadow: 0px 1px 2px rgba(60, 64, 67, 0.3), 0px 1px 3px 1px rgba(60, 64, 67, 0.15);\n",
              "      fill: #174EA6;\n",
              "    }\n",
              "\n",
              "    .colab-df-buttons div {\n",
              "      margin-bottom: 4px;\n",
              "    }\n",
              "\n",
              "    [theme=dark] .colab-df-convert {\n",
              "      background-color: #3B4455;\n",
              "      fill: #D2E3FC;\n",
              "    }\n",
              "\n",
              "    [theme=dark] .colab-df-convert:hover {\n",
              "      background-color: #434B5C;\n",
              "      box-shadow: 0px 1px 3px 1px rgba(0, 0, 0, 0.15);\n",
              "      filter: drop-shadow(0px 1px 2px rgba(0, 0, 0, 0.3));\n",
              "      fill: #FFFFFF;\n",
              "    }\n",
              "  </style>\n",
              "\n",
              "    <script>\n",
              "      const buttonEl =\n",
              "        document.querySelector('#df-7c2d31ba-8bda-4725-b3d2-c9a5f63317b5 button.colab-df-convert');\n",
              "      buttonEl.style.display =\n",
              "        google.colab.kernel.accessAllowed ? 'block' : 'none';\n",
              "\n",
              "      async function convertToInteractive(key) {\n",
              "        const element = document.querySelector('#df-7c2d31ba-8bda-4725-b3d2-c9a5f63317b5');\n",
              "        const dataTable =\n",
              "          await google.colab.kernel.invokeFunction('convertToInteractive',\n",
              "                                                    [key], {});\n",
              "        if (!dataTable) return;\n",
              "\n",
              "        const docLinkHtml = 'Like what you see? Visit the ' +\n",
              "          '<a target=\"_blank\" href=https://colab.research.google.com/notebooks/data_table.ipynb>data table notebook</a>'\n",
              "          + ' to learn more about interactive tables.';\n",
              "        element.innerHTML = '';\n",
              "        dataTable['output_type'] = 'display_data';\n",
              "        await google.colab.output.renderOutput(dataTable, element);\n",
              "        const docLink = document.createElement('div');\n",
              "        docLink.innerHTML = docLinkHtml;\n",
              "        element.appendChild(docLink);\n",
              "      }\n",
              "    </script>\n",
              "  </div>\n",
              "\n",
              "\n",
              "<div id=\"df-9fa8438b-6a7a-4b09-9db5-6328ac02c334\">\n",
              "  <button class=\"colab-df-quickchart\" onclick=\"quickchart('df-9fa8438b-6a7a-4b09-9db5-6328ac02c334')\"\n",
              "            title=\"Suggest charts\"\n",
              "            style=\"display:none;\">\n",
              "\n",
              "<svg xmlns=\"http://www.w3.org/2000/svg\" height=\"24px\"viewBox=\"0 0 24 24\"\n",
              "     width=\"24px\">\n",
              "    <g>\n",
              "        <path d=\"M19 3H5c-1.1 0-2 .9-2 2v14c0 1.1.9 2 2 2h14c1.1 0 2-.9 2-2V5c0-1.1-.9-2-2-2zM9 17H7v-7h2v7zm4 0h-2V7h2v10zm4 0h-2v-4h2v4z\"/>\n",
              "    </g>\n",
              "</svg>\n",
              "  </button>\n",
              "\n",
              "<style>\n",
              "  .colab-df-quickchart {\n",
              "      --bg-color: #E8F0FE;\n",
              "      --fill-color: #1967D2;\n",
              "      --hover-bg-color: #E2EBFA;\n",
              "      --hover-fill-color: #174EA6;\n",
              "      --disabled-fill-color: #AAA;\n",
              "      --disabled-bg-color: #DDD;\n",
              "  }\n",
              "\n",
              "  [theme=dark] .colab-df-quickchart {\n",
              "      --bg-color: #3B4455;\n",
              "      --fill-color: #D2E3FC;\n",
              "      --hover-bg-color: #434B5C;\n",
              "      --hover-fill-color: #FFFFFF;\n",
              "      --disabled-bg-color: #3B4455;\n",
              "      --disabled-fill-color: #666;\n",
              "  }\n",
              "\n",
              "  .colab-df-quickchart {\n",
              "    background-color: var(--bg-color);\n",
              "    border: none;\n",
              "    border-radius: 50%;\n",
              "    cursor: pointer;\n",
              "    display: none;\n",
              "    fill: var(--fill-color);\n",
              "    height: 32px;\n",
              "    padding: 0;\n",
              "    width: 32px;\n",
              "  }\n",
              "\n",
              "  .colab-df-quickchart:hover {\n",
              "    background-color: var(--hover-bg-color);\n",
              "    box-shadow: 0 1px 2px rgba(60, 64, 67, 0.3), 0 1px 3px 1px rgba(60, 64, 67, 0.15);\n",
              "    fill: var(--button-hover-fill-color);\n",
              "  }\n",
              "\n",
              "  .colab-df-quickchart-complete:disabled,\n",
              "  .colab-df-quickchart-complete:disabled:hover {\n",
              "    background-color: var(--disabled-bg-color);\n",
              "    fill: var(--disabled-fill-color);\n",
              "    box-shadow: none;\n",
              "  }\n",
              "\n",
              "  .colab-df-spinner {\n",
              "    border: 2px solid var(--fill-color);\n",
              "    border-color: transparent;\n",
              "    border-bottom-color: var(--fill-color);\n",
              "    animation:\n",
              "      spin 1s steps(1) infinite;\n",
              "  }\n",
              "\n",
              "  @keyframes spin {\n",
              "    0% {\n",
              "      border-color: transparent;\n",
              "      border-bottom-color: var(--fill-color);\n",
              "      border-left-color: var(--fill-color);\n",
              "    }\n",
              "    20% {\n",
              "      border-color: transparent;\n",
              "      border-left-color: var(--fill-color);\n",
              "      border-top-color: var(--fill-color);\n",
              "    }\n",
              "    30% {\n",
              "      border-color: transparent;\n",
              "      border-left-color: var(--fill-color);\n",
              "      border-top-color: var(--fill-color);\n",
              "      border-right-color: var(--fill-color);\n",
              "    }\n",
              "    40% {\n",
              "      border-color: transparent;\n",
              "      border-right-color: var(--fill-color);\n",
              "      border-top-color: var(--fill-color);\n",
              "    }\n",
              "    60% {\n",
              "      border-color: transparent;\n",
              "      border-right-color: var(--fill-color);\n",
              "    }\n",
              "    80% {\n",
              "      border-color: transparent;\n",
              "      border-right-color: var(--fill-color);\n",
              "      border-bottom-color: var(--fill-color);\n",
              "    }\n",
              "    90% {\n",
              "      border-color: transparent;\n",
              "      border-bottom-color: var(--fill-color);\n",
              "    }\n",
              "  }\n",
              "</style>\n",
              "\n",
              "  <script>\n",
              "    async function quickchart(key) {\n",
              "      const quickchartButtonEl =\n",
              "        document.querySelector('#' + key + ' button');\n",
              "      quickchartButtonEl.disabled = true;  // To prevent multiple clicks.\n",
              "      quickchartButtonEl.classList.add('colab-df-spinner');\n",
              "      try {\n",
              "        const charts = await google.colab.kernel.invokeFunction(\n",
              "            'suggestCharts', [key], {});\n",
              "      } catch (error) {\n",
              "        console.error('Error during call to suggestCharts:', error);\n",
              "      }\n",
              "      quickchartButtonEl.classList.remove('colab-df-spinner');\n",
              "      quickchartButtonEl.classList.add('colab-df-quickchart-complete');\n",
              "    }\n",
              "    (() => {\n",
              "      let quickchartButtonEl =\n",
              "        document.querySelector('#df-9fa8438b-6a7a-4b09-9db5-6328ac02c334 button');\n",
              "      quickchartButtonEl.style.display =\n",
              "        google.colab.kernel.accessAllowed ? 'block' : 'none';\n",
              "    })();\n",
              "  </script>\n",
              "</div>\n",
              "\n",
              "    </div>\n",
              "  </div>\n"
            ],
            "application/vnd.google.colaboratory.intrinsic+json": {
              "type": "dataframe",
              "variable_name": "df"
            }
          },
          "metadata": {},
          "execution_count": 54
        }
      ]
    },
    {
      "cell_type": "markdown",
      "id": "7119b7d7",
      "metadata": {
        "id": "7119b7d7"
      },
      "source": [
        "## Building the ANN Model\n",
        "In this section, define the architecture of the ANN by specifying the number of layers, neurons, and activation functions."
      ]
    },
    {
      "cell_type": "code",
      "execution_count": 55,
      "id": "8532b3b9",
      "metadata": {
        "id": "8532b3b9"
      },
      "outputs": [],
      "source": [
        "model = Sequential()"
      ]
    },
    {
      "cell_type": "code",
      "source": [
        "model.add(Dense(units=6,input_dim=X_train.shape[1],activation='relu'))"
      ],
      "metadata": {
        "id": "OvIlXoMiEnCw"
      },
      "id": "OvIlXoMiEnCw",
      "execution_count": 56,
      "outputs": []
    },
    {
      "cell_type": "code",
      "source": [
        "model.add(Dense(units=6,activation='relu'))"
      ],
      "metadata": {
        "id": "UEJedkFBE083"
      },
      "id": "UEJedkFBE083",
      "execution_count": 57,
      "outputs": []
    },
    {
      "cell_type": "code",
      "source": [
        "model.add(Dense(units=6,activation='relu'))"
      ],
      "metadata": {
        "id": "fv0K6WWPFAQw"
      },
      "id": "fv0K6WWPFAQw",
      "execution_count": 58,
      "outputs": []
    },
    {
      "cell_type": "code",
      "source": [
        "model.add(Dense(units=1,activation='sigmoid'))"
      ],
      "metadata": {
        "id": "KxCz0TX1FKUY"
      },
      "id": "KxCz0TX1FKUY",
      "execution_count": 59,
      "outputs": []
    },
    {
      "cell_type": "code",
      "source": [
        "model.summary()"
      ],
      "metadata": {
        "id": "au1BhtkQOiZi",
        "outputId": "23050a1f-ad9d-41de-f91c-8cf1449e8334",
        "colab": {
          "base_uri": "https://localhost:8080/"
        }
      },
      "id": "au1BhtkQOiZi",
      "execution_count": 60,
      "outputs": [
        {
          "output_type": "stream",
          "name": "stdout",
          "text": [
            "Model: \"sequential\"\n",
            "_________________________________________________________________\n",
            " Layer (type)                Output Shape              Param #   \n",
            "=================================================================\n",
            " dense (Dense)               (None, 6)                 78        \n",
            "                                                                 \n",
            " dense_1 (Dense)             (None, 6)                 42        \n",
            "                                                                 \n",
            " dense_2 (Dense)             (None, 6)                 42        \n",
            "                                                                 \n",
            " dense_3 (Dense)             (None, 1)                 7         \n",
            "                                                                 \n",
            "=================================================================\n",
            "Total params: 169 (676.00 Byte)\n",
            "Trainable params: 169 (676.00 Byte)\n",
            "Non-trainable params: 0 (0.00 Byte)\n",
            "_________________________________________________________________\n"
          ]
        }
      ]
    },
    {
      "cell_type": "markdown",
      "id": "ac5e52e1",
      "metadata": {
        "id": "ac5e52e1"
      },
      "source": [
        "## Compile the Model\n",
        "Compile the ANN model by defining the optimizer, loss function, and evaluation metrics."
      ]
    },
    {
      "cell_type": "code",
      "execution_count": 61,
      "id": "ab363be3",
      "metadata": {
        "id": "ab363be3"
      },
      "outputs": [],
      "source": [
        "model.compile(optimizer='adam',\n",
        "              loss='binary_crossentropy',\n",
        "              metrics=['accuracy'])"
      ]
    },
    {
      "cell_type": "markdown",
      "id": "e9a72223",
      "metadata": {
        "id": "e9a72223"
      },
      "source": [
        "## Training the Model\n",
        "Train the ANN model using the training data."
      ]
    },
    {
      "cell_type": "code",
      "execution_count": null,
      "id": "e43fedab",
      "metadata": {
        "colab": {
          "base_uri": "https://localhost:8080/"
        },
        "id": "e43fedab",
        "outputId": "323b8290-2a5e-43f7-bd43-33589a313d35"
      },
      "outputs": [
        {
          "output_type": "stream",
          "name": "stdout",
          "text": [
            "Epoch 1/10\n",
            "\u001b[1m39233/39233\u001b[0m \u001b[32m━━━━━━━━━━━━━━━━━━━━\u001b[0m\u001b[37m\u001b[0m \u001b[1m126s\u001b[0m 3ms/step - accuracy: 0.6178 - loss: 1.4037\n",
            "Epoch 2/10\n",
            "\u001b[1m39233/39233\u001b[0m \u001b[32m━━━━━━━━━━━━━━━━━━━━\u001b[0m\u001b[37m\u001b[0m \u001b[1m146s\u001b[0m 4ms/step - accuracy: 0.8660 - loss: 0.3375\n",
            "Epoch 3/10\n",
            "\u001b[1m39233/39233\u001b[0m \u001b[32m━━━━━━━━━━━━━━━━━━━━\u001b[0m\u001b[37m\u001b[0m \u001b[1m117s\u001b[0m 3ms/step - accuracy: 0.8777 - loss: 0.3210\n",
            "Epoch 4/10\n",
            "\u001b[1m39233/39233\u001b[0m \u001b[32m━━━━━━━━━━━━━━━━━━━━\u001b[0m\u001b[37m\u001b[0m \u001b[1m105s\u001b[0m 2ms/step - accuracy: 0.8889 - loss: 0.2941\n",
            "Epoch 5/10\n",
            "\u001b[1m39233/39233\u001b[0m \u001b[32m━━━━━━━━━━━━━━━━━━━━\u001b[0m\u001b[37m\u001b[0m \u001b[1m76s\u001b[0m 2ms/step - accuracy: 0.9077 - loss: 0.2471\n",
            "Epoch 6/10\n",
            "\u001b[1m39233/39233\u001b[0m \u001b[32m━━━━━━━━━━━━━━━━━━━━\u001b[0m\u001b[37m\u001b[0m \u001b[1m82s\u001b[0m 2ms/step - accuracy: 0.9149 - loss: 0.2323\n",
            "Epoch 7/10\n",
            "\u001b[1m39233/39233\u001b[0m \u001b[32m━━━━━━━━━━━━━━━━━━━━\u001b[0m\u001b[37m\u001b[0m \u001b[1m81s\u001b[0m 2ms/step - accuracy: 0.9263 - loss: 0.2001\n",
            "Epoch 8/10\n",
            "\u001b[1m39233/39233\u001b[0m \u001b[32m━━━━━━━━━━━━━━━━━━━━\u001b[0m\u001b[37m\u001b[0m \u001b[1m73s\u001b[0m 2ms/step - accuracy: 0.9451 - loss: 0.1605\n",
            "Epoch 9/10\n",
            "\u001b[1m39233/39233\u001b[0m \u001b[32m━━━━━━━━━━━━━━━━━━━━\u001b[0m\u001b[37m\u001b[0m \u001b[1m85s\u001b[0m 2ms/step - accuracy: 0.9485 - loss: 0.1550\n",
            "Epoch 10/10\n",
            "\u001b[1m39233/39233\u001b[0m \u001b[32m━━━━━━━━━━━━━━━━━━━━\u001b[0m\u001b[37m\u001b[0m \u001b[1m79s\u001b[0m 2ms/step - accuracy: 0.9511 - loss: 0.1456\n"
          ]
        }
      ],
      "source": [
        "histroy =model.fit(X_train,y_train,batch_size=5,epochs=10,verbose=1)"
      ]
    },
    {
      "cell_type": "code",
      "source": [
        "# prompt: explina Epoch 10/10\n",
        "# 39233/39233 ━━━━━━━━━━━━━━━━━━━━ 79s 2ms/step - accuracy: 0.9511 - loss: 0.1456\n",
        "\n",
        "# The provided output indicates the final epoch (10 out of 10) of your model's training process.\n",
        "# Let's break down what it tells us:\n",
        "\n",
        "# 39233/39233: This shows that all 39233 training samples were processed during this epoch.\n",
        "\n",
        "# ━━━━━━━━━━━━━━━━━━━━: This visual bar represents the progress of the epoch.\n",
        "# Since it's filled, the epoch is complete.\n",
        "\n",
        "# 79s:  The time taken to complete this epoch was 79 seconds.\n",
        "\n",
        "# 2ms/step:  On average, each step (processing a batch of samples) took 2 milliseconds.\n",
        "\n",
        "# accuracy: 0.9511:  Your model achieved an accuracy of 95.11% on the training data for this epoch.\n",
        "# This means it correctly classified approximately 95.11% of the training samples.\n",
        "\n",
        "# loss: 0.1456: The calculated loss value for this epoch is 0.1456.\n",
        "# The loss function (binary crossentropy in your case) measures how well your model's predictions\n",
        "# align with the actual labels. A lower loss generally indicates better performance.\n"
      ],
      "metadata": {
        "id": "ROjwNK1Ep_Z_"
      },
      "id": "ROjwNK1Ep_Z_",
      "execution_count": null,
      "outputs": []
    },
    {
      "cell_type": "markdown",
      "id": "20ce9661",
      "metadata": {
        "id": "20ce9661"
      },
      "source": [
        "## Evaluate the Model\n",
        "Evaluate the performance of the model on the test set."
      ]
    },
    {
      "cell_type": "code",
      "execution_count": null,
      "id": "73167afc",
      "metadata": {
        "colab": {
          "base_uri": "https://localhost:8080/"
        },
        "id": "73167afc",
        "outputId": "4c345191-c080-49fe-df88-325a36d76473"
      },
      "outputs": [
        {
          "output_type": "stream",
          "name": "stdout",
          "text": [
            "\u001b[1m925/925\u001b[0m \u001b[32m━━━━━━━━━━━━━━━━━━━━\u001b[0m\u001b[37m\u001b[0m \u001b[1m1s\u001b[0m 1ms/step - accuracy: 0.8652 - loss: 0.3300\n"
          ]
        },
        {
          "output_type": "execute_result",
          "data": {
            "text/plain": [
              "[0.34040719270706177, 0.8604156374931335]"
            ]
          },
          "metadata": {},
          "execution_count": 76
        }
      ],
      "source": [
        "model.evaluate(X_test,y_test)"
      ]
    },
    {
      "cell_type": "markdown",
      "id": "08e9bc87",
      "metadata": {
        "id": "08e9bc87"
      },
      "source": [
        "## Make Predictions\n",
        "Use the trained model to make predictions on new or unseen data."
      ]
    },
    {
      "cell_type": "code",
      "source": [
        "y_pred =model.predict(X_test)\n",
        "y_pred_class = (y_pred > 0.5).astype('int32')\n"
      ],
      "metadata": {
        "id": "rnVEy04qRmY_",
        "outputId": "b9dba0e1-ec63-4364-d888-bae11405607b",
        "colab": {
          "base_uri": "https://localhost:8080/"
        }
      },
      "id": "rnVEy04qRmY_",
      "execution_count": null,
      "outputs": [
        {
          "output_type": "stream",
          "name": "stdout",
          "text": [
            "\u001b[1m925/925\u001b[0m \u001b[32m━━━━━━━━━━━━━━━━━━━━\u001b[0m\u001b[37m\u001b[0m \u001b[1m2s\u001b[0m 2ms/step\n"
          ]
        }
      ]
    },
    {
      "cell_type": "markdown",
      "id": "94942463",
      "metadata": {
        "id": "94942463"
      },
      "source": [
        "## Model Performance Visualization\n",
        "Visualize the performance metrics such as accuracy and loss over the epochs."
      ]
    },
    {
      "cell_type": "code",
      "source": [
        "acc=accuracy_score(y_test,y_pred_class)\n",
        "print(acc)"
      ],
      "metadata": {
        "id": "7NJp8zL-YH93"
      },
      "id": "7NJp8zL-YH93",
      "execution_count": null,
      "outputs": []
    },
    {
      "cell_type": "code",
      "source": [
        "histroy1 =model.fit(X_train,y_train,batch_size=1,epochs=3,verbose=1)"
      ],
      "metadata": {
        "colab": {
          "base_uri": "https://localhost:8080/"
        },
        "id": "zJi4vXF1bWbY",
        "outputId": "067b5b1c-520a-4fe8-8aa3-49e9348b55eb"
      },
      "id": "zJi4vXF1bWbY",
      "execution_count": 62,
      "outputs": [
        {
          "output_type": "stream",
          "name": "stdout",
          "text": [
            "Epoch 1/3\n",
            "196380/196380 [==============================] - 362s 2ms/step - loss: 0.5447 - accuracy: 0.7810\n",
            "Epoch 2/3\n",
            "196380/196380 [==============================] - 365s 2ms/step - loss: 0.2324 - accuracy: 0.9127\n",
            "Epoch 3/3\n",
            "196380/196380 [==============================] - 369s 2ms/step - loss: 0.2215 - accuracy: 0.9188\n"
          ]
        }
      ]
    },
    {
      "cell_type": "code",
      "source": [
        "model.evaluate(X_test,y_test)"
      ],
      "metadata": {
        "colab": {
          "base_uri": "https://localhost:8080/"
        },
        "id": "Fy7ZQhJ6fzAg",
        "outputId": "bef55b6d-e240-4ae6-931b-a04309b9e2d2"
      },
      "id": "Fy7ZQhJ6fzAg",
      "execution_count": 64,
      "outputs": [
        {
          "output_type": "stream",
          "name": "stdout",
          "text": [
            "925/925 [==============================] - 2s 1ms/step - loss: 0.3410 - accuracy: 0.8292\n"
          ]
        },
        {
          "output_type": "execute_result",
          "data": {
            "text/plain": [
              "[0.3410056233406067, 0.8291941285133362]"
            ]
          },
          "metadata": {},
          "execution_count": 64
        }
      ]
    },
    {
      "cell_type": "code",
      "source": [
        "y_pred =model.predict(X_test)\n",
        "y_pred_class = (y_pred > 0.5).astype('int32')"
      ],
      "metadata": {
        "colab": {
          "base_uri": "https://localhost:8080/"
        },
        "id": "SmGjKwMNf0tt",
        "outputId": "e304aa36-a34e-46af-8cb6-33833781fe13"
      },
      "id": "SmGjKwMNf0tt",
      "execution_count": 65,
      "outputs": [
        {
          "output_type": "stream",
          "name": "stdout",
          "text": [
            "925/925 [==============================] - 1s 1ms/step\n"
          ]
        }
      ]
    },
    {
      "cell_type": "code",
      "source": [
        "plt.figure(figsize=(8,10))\n",
        "plt.subplot(1,2,1)\n",
        "plt.plot(histroy1.histroy1['accuracy'] ,  label= 'train_accuracy')\n",
        "plt.plot(histroy1.histroy1['val_accuracy'],label='val_accuracy')\n",
        "plt.title('Model acc')\n",
        "plt.xlabel('epochs')\n",
        "plt.ylabel('acc')\n",
        "plt.legend(['train','validation'],loc='upper left')\n",
        "\n",
        "plt.subplot(1,2,2)\n",
        "plt.plot(histroy1.histroy1['loss'],label='train_loss')\n",
        "plt.plot(histroy1.histroy1['val_loss'],label='val_loss')\n",
        "plt.title('Model acc')\n",
        "plt.xlabel('epochs')\n",
        "plt.ylabel('loss')\n",
        "plt.legend(['train','validation'],loc='upper left')\n",
        "plt.show"
      ],
      "metadata": {
        "id": "e7xIswZ1WhgD",
        "outputId": "7adf1f90-836a-4c77-b6ec-55db39162ccd",
        "colab": {
          "base_uri": "https://localhost:8080/",
          "height": 1000
        }
      },
      "id": "e7xIswZ1WhgD",
      "execution_count": 71,
      "outputs": [
        {
          "output_type": "error",
          "ename": "AttributeError",
          "evalue": "'History' object has no attribute 'histroy1'",
          "traceback": [
            "\u001b[0;31m---------------------------------------------------------------------------\u001b[0m",
            "\u001b[0;31mAttributeError\u001b[0m                            Traceback (most recent call last)",
            "\u001b[0;32m<ipython-input-71-9a649234b893>\u001b[0m in \u001b[0;36m<cell line: 3>\u001b[0;34m()\u001b[0m\n\u001b[1;32m      1\u001b[0m \u001b[0mplt\u001b[0m\u001b[0;34m.\u001b[0m\u001b[0mfigure\u001b[0m\u001b[0;34m(\u001b[0m\u001b[0mfigsize\u001b[0m\u001b[0;34m=\u001b[0m\u001b[0;34m(\u001b[0m\u001b[0;36m8\u001b[0m\u001b[0;34m,\u001b[0m\u001b[0;36m10\u001b[0m\u001b[0;34m)\u001b[0m\u001b[0;34m)\u001b[0m\u001b[0;34m\u001b[0m\u001b[0;34m\u001b[0m\u001b[0m\n\u001b[1;32m      2\u001b[0m \u001b[0mplt\u001b[0m\u001b[0;34m.\u001b[0m\u001b[0msubplot\u001b[0m\u001b[0;34m(\u001b[0m\u001b[0;36m1\u001b[0m\u001b[0;34m,\u001b[0m\u001b[0;36m2\u001b[0m\u001b[0;34m,\u001b[0m\u001b[0;36m1\u001b[0m\u001b[0;34m)\u001b[0m\u001b[0;34m\u001b[0m\u001b[0;34m\u001b[0m\u001b[0m\n\u001b[0;32m----> 3\u001b[0;31m \u001b[0mplt\u001b[0m\u001b[0;34m.\u001b[0m\u001b[0mplot\u001b[0m\u001b[0;34m(\u001b[0m\u001b[0mhistroy1\u001b[0m\u001b[0;34m.\u001b[0m\u001b[0mhistroy1\u001b[0m\u001b[0;34m[\u001b[0m\u001b[0;34m'accuracy'\u001b[0m\u001b[0;34m]\u001b[0m \u001b[0;34m,\u001b[0m  \u001b[0mlabel\u001b[0m\u001b[0;34m=\u001b[0m \u001b[0;34m'train_accuracy'\u001b[0m\u001b[0;34m)\u001b[0m\u001b[0;34m\u001b[0m\u001b[0;34m\u001b[0m\u001b[0m\n\u001b[0m\u001b[1;32m      4\u001b[0m \u001b[0mplt\u001b[0m\u001b[0;34m.\u001b[0m\u001b[0mplot\u001b[0m\u001b[0;34m(\u001b[0m\u001b[0mhistroy1\u001b[0m\u001b[0;34m.\u001b[0m\u001b[0mhistroy1\u001b[0m\u001b[0;34m[\u001b[0m\u001b[0;34m'val_accuracy'\u001b[0m\u001b[0;34m]\u001b[0m\u001b[0;34m,\u001b[0m\u001b[0mlabel\u001b[0m\u001b[0;34m=\u001b[0m\u001b[0;34m'val_accuracy'\u001b[0m\u001b[0;34m)\u001b[0m\u001b[0;34m\u001b[0m\u001b[0;34m\u001b[0m\u001b[0m\n\u001b[1;32m      5\u001b[0m \u001b[0mplt\u001b[0m\u001b[0;34m.\u001b[0m\u001b[0mtitle\u001b[0m\u001b[0;34m(\u001b[0m\u001b[0;34m'Model acc'\u001b[0m\u001b[0;34m)\u001b[0m\u001b[0;34m\u001b[0m\u001b[0;34m\u001b[0m\u001b[0m\n",
            "\u001b[0;31mAttributeError\u001b[0m: 'History' object has no attribute 'histroy1'"
          ]
        },
        {
          "output_type": "display_data",
          "data": {
            "text/plain": [
              "<Figure size 800x1000 with 1 Axes>"
            ],
            "image/png": "[encoded data removed]"
          },
          "metadata": {}
        }
      ]
    },
    {
      "cell_type": "markdown",
      "id": "1d32965f",
      "metadata": {
        "id": "1d32965f"
      },
      "source": [
        "## Save the Model\n",
        "Save the trained model for submission."
      ]
    },
    {
      "cell_type": "code",
      "execution_count": 72,
      "id": "a4e1f00e",
      "metadata": {
        "id": "a4e1f00e",
        "colab": {
          "base_uri": "https://localhost:8080/"
        },
        "outputId": "3b911e93-5cc3-4240-8b73-b5b7d9a0392c"
      },
      "outputs": [
        {
          "output_type": "stream",
          "name": "stderr",
          "text": [
            "/usr/local/lib/python3.10/dist-packages/keras/src/engine/training.py:3103: UserWarning:\n",
            "\n",
            "You are saving your model as an HDF5 file via `model.save()`. This file format is considered legacy. We recommend using instead the native Keras format, e.g. `model.save('my_model.keras')`.\n",
            "\n"
          ]
        }
      ],
      "source": [
        "model.save('myANNCnn.h5')"
      ]
    },
    {
      "cell_type": "markdown",
      "id": "9ebe9b8d",
      "metadata": {
        "id": "9ebe9b8d"
      },
      "source": [
        "## Project Questions:\n",
        "\n",
        "1. **Data Preprocessing**: Explain why you chose your specific data preprocessing techniques (e.g., normalization, encoding). How did these techniques help prepare the data for training the model?\n",
        "2. **Model Architecture**: Describe the reasoning behind your model’s architecture (e.g., the number of layers, type of layers, number of neurons, and activation functions). Why did you believe this architecture was appropriate for the problem at hand?\n",
        "3. **Training Process**: Discuss why you chose your batch size, number of epochs, and optimizer. How did these choices affect the training process? Did you experiment with different values, and what were the outcomes?\n",
        "4. **Loss Function and Metrics**: Why did you choose the specific loss function and evaluation metrics? How do they align with the objective of the task (e.g., regression vs classification)?\n",
        "5. **Regularization Techniques**: If you used regularization techniques such as dropout or weight decay, explain why you implemented them and how they influenced the model's performance.\n",
        "6. **Model Evaluation**: Justify your approach to evaluating the model. Why did you choose the specific performance metrics, and how do they reflect the model's success in solving the task?\n",
        "7. **Model Tuning (If Done)**: Describe any tuning you performed (e.g., hyperparameter tuning) and why you felt it was necessary. How did these adjustments improve model performance?\n",
        "8. **Overfitting and Underfitting**: Analyze whether the model encountered any overfitting or underfitting during training. What strategies could you implement to mitigate these issues?"
      ]
    },
    {
      "cell_type": "markdown",
      "id": "5f524a61",
      "metadata": {
        "id": "5f524a61"
      },
      "source": [
        "### Answer Here:"
      ]
    },
    {
      "cell_type": "code",
      "source": [
        "# for categorical features i fiiled missing values\n",
        "# i use labelencoder for convert object to numerical and i applid StandardScaler between range (0.1)\n",
        "#we have 6 nueron networks, two hiddin layer also 6 nueron networks ,the final output activation sigomid classification binary\n",
        "#cus we predict  the column Breakdown_or_Running_Late\n",
        "#  After I built the model, we trained it on the data when the number of epochs was 10.\n",
        "#After that, the connection was cut off and the file was not saved.\n",
        "#I trained the model again with 3 epochs due to time constraints.\n",
        "# whene the epochs 10 >> accuracy: 0.9511 on training and loss:0.1456\n",
        ""
      ],
      "metadata": {
        "id": "ePgwCCkydEyd"
      },
      "id": "ePgwCCkydEyd",
      "execution_count": null,
      "outputs": []
    }
  ],
  "metadata": {
    "language_info": {
      "name": "python"
    },
    "colab": {
      "provenance": []
    },
    "kernelspec": {
      "name": "python3",
      "display_name": "Python 3"
    }
  },
  "nbformat": 4,
  "nbformat_minor": 5
}